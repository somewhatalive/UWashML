{
 "cells": [
  {
   "cell_type": "code",
   "execution_count": 3,
   "metadata": {
    "collapsed": true
   },
   "outputs": [],
   "source": [
    "import graphlab"
   ]
  },
  {
   "cell_type": "markdown",
   "metadata": {},
   "source": [
    "# Load text data from Wikipedia"
   ]
  },
  {
   "cell_type": "code",
   "execution_count": 6,
   "metadata": {
    "collapsed": false
   },
   "outputs": [
    {
     "data": {
      "text/html": [
       "<pre>Finished parsing file C:\\Users\\Chenyu\\Documents\\GitHub\\UWashML\\ML Foundations\\people_wiki.csv</pre>"
      ],
      "text/plain": [
       "Finished parsing file C:\\Users\\Chenyu\\Documents\\GitHub\\UWashML\\ML Foundations\\people_wiki.csv"
      ]
     },
     "metadata": {},
     "output_type": "display_data"
    },
    {
     "data": {
      "text/html": [
       "<pre>Parsing completed. Parsed 100 lines in 0.530846 secs.</pre>"
      ],
      "text/plain": [
       "Parsing completed. Parsed 100 lines in 0.530846 secs."
      ]
     },
     "metadata": {},
     "output_type": "display_data"
    },
    {
     "name": "stdout",
     "output_type": "stream",
     "text": [
      "------------------------------------------------------\n",
      "Inferred types from first 100 line(s) of file as \n",
      "column_type_hints=[str,str,str]\n",
      "If parsing fails due to incorrect types, you can correct\n",
      "the inferred type list above and pass it to read_csv in\n",
      "the column_type_hints argument\n",
      "------------------------------------------------------\n"
     ]
    },
    {
     "data": {
      "text/html": [
       "<pre>Read 26690 lines. Lines per second: 32735.1</pre>"
      ],
      "text/plain": [
       "Read 26690 lines. Lines per second: 32735.1"
      ]
     },
     "metadata": {},
     "output_type": "display_data"
    },
    {
     "data": {
      "text/html": [
       "<pre>Finished parsing file C:\\Users\\Chenyu\\Documents\\GitHub\\UWashML\\ML Foundations\\people_wiki.csv</pre>"
      ],
      "text/plain": [
       "Finished parsing file C:\\Users\\Chenyu\\Documents\\GitHub\\UWashML\\ML Foundations\\people_wiki.csv"
      ]
     },
     "metadata": {},
     "output_type": "display_data"
    },
    {
     "data": {
      "text/html": [
       "<pre>Parsing completed. Parsed 59071 lines in 1.32173 secs.</pre>"
      ],
      "text/plain": [
       "Parsing completed. Parsed 59071 lines in 1.32173 secs."
      ]
     },
     "metadata": {},
     "output_type": "display_data"
    }
   ],
   "source": [
    "people = graphlab.SFrame('people_wiki.csv')"
   ]
  },
  {
   "cell_type": "code",
   "execution_count": 7,
   "metadata": {
    "collapsed": false
   },
   "outputs": [
    {
     "data": {
      "text/html": [
       "<div style=\"max-height:1000px;max-width:1500px;overflow:auto;\"><table frame=\"box\" rules=\"cols\">\n",
       "    <tr>\n",
       "        <th style=\"padding-left: 1em; padding-right: 1em; text-align: center\">URI</th>\n",
       "        <th style=\"padding-left: 1em; padding-right: 1em; text-align: center\">name</th>\n",
       "        <th style=\"padding-left: 1em; padding-right: 1em; text-align: center\">text</th>\n",
       "    </tr>\n",
       "    <tr>\n",
       "        <td style=\"padding-left: 1em; padding-right: 1em; text-align: center; vertical-align: top\">&lt;http://dbpedia.org/resou<br>rce/Digby_Morrell&gt; ...</td>\n",
       "        <td style=\"padding-left: 1em; padding-right: 1em; text-align: center; vertical-align: top\">Digby Morrell</td>\n",
       "        <td style=\"padding-left: 1em; padding-right: 1em; text-align: center; vertical-align: top\">digby morrell born 10<br>october 1979 is a former ...</td>\n",
       "    </tr>\n",
       "    <tr>\n",
       "        <td style=\"padding-left: 1em; padding-right: 1em; text-align: center; vertical-align: top\">&lt;http://dbpedia.org/resou<br>rce/Alfred_J._Lewy&gt; ...</td>\n",
       "        <td style=\"padding-left: 1em; padding-right: 1em; text-align: center; vertical-align: top\">Alfred J. Lewy</td>\n",
       "        <td style=\"padding-left: 1em; padding-right: 1em; text-align: center; vertical-align: top\">alfred j lewy aka sandy<br>lewy graduated from ...</td>\n",
       "    </tr>\n",
       "    <tr>\n",
       "        <td style=\"padding-left: 1em; padding-right: 1em; text-align: center; vertical-align: top\">&lt;http://dbpedia.org/resou<br>rce/Harpdog_Brown&gt; ...</td>\n",
       "        <td style=\"padding-left: 1em; padding-right: 1em; text-align: center; vertical-align: top\">Harpdog Brown</td>\n",
       "        <td style=\"padding-left: 1em; padding-right: 1em; text-align: center; vertical-align: top\">harpdog brown is a singer<br>and harmonica player who ...</td>\n",
       "    </tr>\n",
       "    <tr>\n",
       "        <td style=\"padding-left: 1em; padding-right: 1em; text-align: center; vertical-align: top\">&lt;http://dbpedia.org/resou<br>rce/Franz_Rottensteiner&gt; ...</td>\n",
       "        <td style=\"padding-left: 1em; padding-right: 1em; text-align: center; vertical-align: top\">Franz Rottensteiner</td>\n",
       "        <td style=\"padding-left: 1em; padding-right: 1em; text-align: center; vertical-align: top\">franz rottensteiner born<br>in waidmannsfeld lower ...</td>\n",
       "    </tr>\n",
       "    <tr>\n",
       "        <td style=\"padding-left: 1em; padding-right: 1em; text-align: center; vertical-align: top\">&lt;http://dbpedia.org/resou<br>rce/G-Enka&gt; ...</td>\n",
       "        <td style=\"padding-left: 1em; padding-right: 1em; text-align: center; vertical-align: top\">G-Enka</td>\n",
       "        <td style=\"padding-left: 1em; padding-right: 1em; text-align: center; vertical-align: top\">henry krvits born 30<br>december 1974 in tallinn ...</td>\n",
       "    </tr>\n",
       "    <tr>\n",
       "        <td style=\"padding-left: 1em; padding-right: 1em; text-align: center; vertical-align: top\">&lt;http://dbpedia.org/resou<br>rce/Sam_Henderson&gt; ...</td>\n",
       "        <td style=\"padding-left: 1em; padding-right: 1em; text-align: center; vertical-align: top\">Sam Henderson</td>\n",
       "        <td style=\"padding-left: 1em; padding-right: 1em; text-align: center; vertical-align: top\">sam henderson born<br>october 18 1969 is an ...</td>\n",
       "    </tr>\n",
       "    <tr>\n",
       "        <td style=\"padding-left: 1em; padding-right: 1em; text-align: center; vertical-align: top\">&lt;http://dbpedia.org/resou<br>rce/Aaron_LaCrate&gt; ...</td>\n",
       "        <td style=\"padding-left: 1em; padding-right: 1em; text-align: center; vertical-align: top\">Aaron LaCrate</td>\n",
       "        <td style=\"padding-left: 1em; padding-right: 1em; text-align: center; vertical-align: top\">aaron lacrate is an<br>american music producer ...</td>\n",
       "    </tr>\n",
       "    <tr>\n",
       "        <td style=\"padding-left: 1em; padding-right: 1em; text-align: center; vertical-align: top\">&lt;http://dbpedia.org/resou<br>rce/Trevor_Ferguson&gt; ...</td>\n",
       "        <td style=\"padding-left: 1em; padding-right: 1em; text-align: center; vertical-align: top\">Trevor Ferguson</td>\n",
       "        <td style=\"padding-left: 1em; padding-right: 1em; text-align: center; vertical-align: top\">trevor ferguson aka john<br>farrow born 11 november ...</td>\n",
       "    </tr>\n",
       "    <tr>\n",
       "        <td style=\"padding-left: 1em; padding-right: 1em; text-align: center; vertical-align: top\">&lt;http://dbpedia.org/resou<br>rce/Grant_Nelson&gt; ...</td>\n",
       "        <td style=\"padding-left: 1em; padding-right: 1em; text-align: center; vertical-align: top\">Grant Nelson</td>\n",
       "        <td style=\"padding-left: 1em; padding-right: 1em; text-align: center; vertical-align: top\">grant nelson born 27<br>april 1971 in london  ...</td>\n",
       "    </tr>\n",
       "    <tr>\n",
       "        <td style=\"padding-left: 1em; padding-right: 1em; text-align: center; vertical-align: top\">&lt;http://dbpedia.org/resou<br>rce/Cathy_Caruth&gt; ...</td>\n",
       "        <td style=\"padding-left: 1em; padding-right: 1em; text-align: center; vertical-align: top\">Cathy Caruth</td>\n",
       "        <td style=\"padding-left: 1em; padding-right: 1em; text-align: center; vertical-align: top\">cathy caruth born 1955 is<br>frank h t rhodes ...</td>\n",
       "    </tr>\n",
       "</table>\n",
       "[10 rows x 3 columns]<br/>\n",
       "</div>"
      ],
      "text/plain": [
       "Columns:\n",
       "\tURI\tstr\n",
       "\tname\tstr\n",
       "\ttext\tstr\n",
       "\n",
       "Rows: 10\n",
       "\n",
       "Data:\n",
       "+-------------------------------+---------------------+\n",
       "|              URI              |         name        |\n",
       "+-------------------------------+---------------------+\n",
       "| <http://dbpedia.org/resour... |    Digby Morrell    |\n",
       "| <http://dbpedia.org/resour... |    Alfred J. Lewy   |\n",
       "| <http://dbpedia.org/resour... |    Harpdog Brown    |\n",
       "| <http://dbpedia.org/resour... | Franz Rottensteiner |\n",
       "| <http://dbpedia.org/resour... |        G-Enka       |\n",
       "| <http://dbpedia.org/resour... |    Sam Henderson    |\n",
       "| <http://dbpedia.org/resour... |    Aaron LaCrate    |\n",
       "| <http://dbpedia.org/resour... |   Trevor Ferguson   |\n",
       "| <http://dbpedia.org/resour... |     Grant Nelson    |\n",
       "| <http://dbpedia.org/resour... |     Cathy Caruth    |\n",
       "+-------------------------------+---------------------+\n",
       "+-------------------------------+\n",
       "|              text             |\n",
       "+-------------------------------+\n",
       "| digby morrell born 10 octo... |\n",
       "| alfred j lewy aka sandy le... |\n",
       "| harpdog brown is a singer ... |\n",
       "| franz rottensteiner born i... |\n",
       "| henry krvits born 30 decem... |\n",
       "| sam henderson born october... |\n",
       "| aaron lacrate is an americ... |\n",
       "| trevor ferguson aka john f... |\n",
       "| grant nelson born 27 april... |\n",
       "| cathy caruth born 1955 is ... |\n",
       "+-------------------------------+\n",
       "[10 rows x 3 columns]"
      ]
     },
     "execution_count": 7,
     "metadata": {},
     "output_type": "execute_result"
    }
   ],
   "source": [
    "doc.head()"
   ]
  },
  {
   "cell_type": "code",
   "execution_count": 8,
   "metadata": {
    "collapsed": false
   },
   "outputs": [
    {
     "data": {
      "text/plain": [
       "59071"
      ]
     },
     "execution_count": 8,
     "metadata": {},
     "output_type": "execute_result"
    }
   ],
   "source": [
    "len(people)"
   ]
  },
  {
   "cell_type": "markdown",
   "metadata": {},
   "source": [
    "# Exploring our dataset and checkout the text it contains"
   ]
  },
  {
   "cell_type": "code",
   "execution_count": 10,
   "metadata": {
    "collapsed": false
   },
   "outputs": [],
   "source": [
    "obama = people[people['name']=='Barack Obama']"
   ]
  },
  {
   "cell_type": "code",
   "execution_count": 11,
   "metadata": {
    "collapsed": false
   },
   "outputs": [
    {
     "data": {
      "text/html": [
       "<div style=\"max-height:1000px;max-width:1500px;overflow:auto;\"><table frame=\"box\" rules=\"cols\">\n",
       "    <tr>\n",
       "        <th style=\"padding-left: 1em; padding-right: 1em; text-align: center\">URI</th>\n",
       "        <th style=\"padding-left: 1em; padding-right: 1em; text-align: center\">name</th>\n",
       "        <th style=\"padding-left: 1em; padding-right: 1em; text-align: center\">text</th>\n",
       "    </tr>\n",
       "    <tr>\n",
       "        <td style=\"padding-left: 1em; padding-right: 1em; text-align: center; vertical-align: top\">&lt;http://dbpedia.org/resou<br>rce/Barack_Obama&gt; ...</td>\n",
       "        <td style=\"padding-left: 1em; padding-right: 1em; text-align: center; vertical-align: top\">Barack Obama</td>\n",
       "        <td style=\"padding-left: 1em; padding-right: 1em; text-align: center; vertical-align: top\">barack hussein obama ii<br>brk husen bm born august ...</td>\n",
       "    </tr>\n",
       "</table>\n",
       "[? rows x 3 columns]<br/>Note: Only the head of the SFrame is printed. This SFrame is lazily evaluated.<br/>You can use sf.materialize() to force materialization.\n",
       "</div>"
      ],
      "text/plain": [
       "Columns:\n",
       "\tURI\tstr\n",
       "\tname\tstr\n",
       "\ttext\tstr\n",
       "\n",
       "Rows: Unknown\n",
       "\n",
       "Data:\n",
       "+-------------------------------+--------------+-------------------------------+\n",
       "|              URI              |     name     |              text             |\n",
       "+-------------------------------+--------------+-------------------------------+\n",
       "| <http://dbpedia.org/resour... | Barack Obama | barack hussein obama ii br... |\n",
       "+-------------------------------+--------------+-------------------------------+\n",
       "[? rows x 3 columns]\n",
       "Note: Only the head of the SFrame is printed. This SFrame is lazily evaluated.\n",
       "You can use sf.materialize() to force materialization."
      ]
     },
     "execution_count": 11,
     "metadata": {},
     "output_type": "execute_result"
    }
   ],
   "source": [
    "obama"
   ]
  },
  {
   "cell_type": "code",
   "execution_count": 12,
   "metadata": {
    "collapsed": false
   },
   "outputs": [
    {
     "data": {
      "text/plain": [
       "dtype: str\n",
       "Rows: ?\n",
       "['barack hussein obama ii brk husen bm born august 4 1961 is the 44th and current president of the united states and the first african american to hold the office born in honolulu hawaii obama is a graduate of columbia university and harvard law school where he served as president of the harvard law review he was a community organizer in chicago before earning his law degree he worked as a civil rights attorney and taught constitutional law at the university of chicago law school from 1992 to 2004 he served three terms representing the 13th district in the illinois senate from 1997 to 2004 running unsuccessfully for the united states house of representatives in 2000in 2004 obama received national attention during his campaign to represent illinois in the united states senate with his victory in the march democratic party primary his keynote address at the democratic national convention in july and his election to the senate in november he began his presidential campaign in 2007 and after a close primary campaign against hillary rodham clinton in 2008 he won sufficient delegates in the democratic party primaries to receive the presidential nomination he then defeated republican nominee john mccain in the general election and was inaugurated as president on january 20 2009 nine months after his election obama was named the 2009 nobel peace prize laureateduring his first two years in office obama signed into law economic stimulus legislation in response to the great recession in the form of the american recovery and reinvestment act of 2009 and the tax relief unemployment insurance reauthorization and job creation act of 2010 other major domestic initiatives in his first term included the patient protection and affordable care act often referred to as obamacare the doddfrank wall street reform and consumer protection act and the dont ask dont tell repeal act of 2010 in foreign policy obama ended us military involvement in the iraq war increased us troop levels in afghanistan signed the new start arms control treaty with russia ordered us military involvement in libya and ordered the military operation that resulted in the death of osama bin laden in january 2011 the republicans regained control of the house of representatives as the democratic party lost a total of 63 seats and after a lengthy debate over federal spending and whether or not to raise the nations debt limit obama signed the budget control act of 2011 and the american taxpayer relief act of 2012obama was reelected president in november 2012 defeating republican nominee mitt romney and was sworn in for a second term on january 20 2013 during his second term obama has promoted domestic policies related to gun control in response to the sandy hook elementary school shooting and has called for full equality for lgbt americans while his administration has filed briefs which urged the supreme court to strike down the defense of marriage act of 1996 and californias proposition 8 as unconstitutional in foreign policy obama ordered us military involvement in iraq in response to gains made by the islamic state in iraq after the 2011 withdrawal from iraq continued the process of ending us combat operations in afghanistan and has sought to normalize us relations with cuba', ... ]"
      ]
     },
     "execution_count": 12,
     "metadata": {},
     "output_type": "execute_result"
    }
   ],
   "source": [
    "obama['text']"
   ]
  },
  {
   "cell_type": "code",
   "execution_count": 13,
   "metadata": {
    "collapsed": true
   },
   "outputs": [],
   "source": [
    "clooney = people[people['name']=='George Clooney']"
   ]
  },
  {
   "cell_type": "code",
   "execution_count": 14,
   "metadata": {
    "collapsed": false
   },
   "outputs": [
    {
     "data": {
      "text/plain": [
       "dtype: str\n",
       "Rows: ?\n",
       "['george timothy clooney born may 6 1961 is an american actor writer producer director and activist he has received three golden globe awards for his work as an actor and two academy awards one for acting and the other for producingclooney made his acting debut on television in 1978 and later gained wide recognition in his role as dr doug ross on the longrunning medical drama er from 1994 to 1999 for which he received two emmy award nominations while working on er he began attracting a variety of leading roles in films including the superhero film batman robin 1997 and the crime comedy out of sight 1998 in which he first worked with a director who would become a longtime collaborator steven soderbergh in 1999 clooney took the lead role in three kings a wellreceived war satire set during the gulf warin 2001 clooneys fame widened with the release of his biggest commercial success the heist comedy oceans eleven the first of the film trilogy a remake of the 1960 film with frank sinatra as danny ocean he made his directorial debut a year later with the biographical thriller confessions of a dangerous mind and has since directed the drama good night and good luck 2005 the sports comedy leatherheads 2008 the political drama the ides of march 2011 and the comedydrama war film the monuments men 2014he won an academy award for best supporting actor for the middle east thriller syriana 2005 and subsequently earned best actor nominations for the legal thriller michael clayton 2007 the comedydrama up in the air 2009 and the drama the descendants 2011 in 2013 he received the academy award for best picture for producing the political thriller argo alongside ben affleck and grant heslov he is the only person ever to be nominated for academy awards in six categoriesclooney is sometimes described as one of the most handsome men in the world in 2005 tv guide ranked clooney no 1 on its 50 sexiest stars of all time list in 2009 he was included in times annual time 100 as one of the most influential people in the world clooney is also noted for his political activism and has served as one of the united nations messengers of peace since january 31 2008 his humanitarian work includes his advocacy of finding a resolution for the darfur conflict raising funds for the 2010 haiti earthquake 2004 tsunami and 911 victims and creating documentaries such as sand and sorrow to raise awareness about international crises he is also a member of the council on foreign relations', ... ]"
      ]
     },
     "execution_count": 14,
     "metadata": {},
     "output_type": "execute_result"
    }
   ],
   "source": [
    "clooney['text']"
   ]
  },
  {
   "cell_type": "markdown",
   "metadata": {},
   "source": [
    "# Getting word counts"
   ]
  },
  {
   "cell_type": "code",
   "execution_count": 15,
   "metadata": {
    "collapsed": true
   },
   "outputs": [],
   "source": [
    "obama['word_count'] = graphlab.text_analytics.count_words(obama['text'])"
   ]
  },
  {
   "cell_type": "code",
   "execution_count": 16,
   "metadata": {
    "collapsed": false
   },
   "outputs": [
    {
     "name": "stdout",
     "output_type": "stream",
     "text": [
      "[{'operations': 1L, 'represent': 1L, 'office': 2L, 'unemployment': 1L, 'doddfrank': 1L, 'over': 1L, 'unconstitutional': 1L, 'domestic': 2L, 'major': 1L, 'years': 1L, 'against': 1L, 'proposition': 1L, 'seats': 1L, 'graduate': 1L, 'debate': 1L, 'before': 1L, 'death': 1L, '20': 2L, 'taxpayer': 1L, 'representing': 1L, 'obamacare': 1L, 'barack': 1L, 'to': 14L, '4': 1L, 'policy': 2L, '8': 1L, 'he': 7L, '2011': 3L, '2010': 2L, '2013': 1L, '2012': 1L, 'bin': 1L, 'then': 1L, 'his': 11L, 'march': 1L, 'gains': 1L, 'cuba': 1L, 'school': 3L, '1992': 1L, 'new': 1L, 'not': 1L, 'during': 2L, 'ending': 1L, 'continued': 1L, 'presidential': 2L, 'states': 3L, 'husen': 1L, 'osama': 1L, 'californias': 1L, 'equality': 1L, 'prize': 1L, 'lost': 1L, 'made': 1L, 'inaugurated': 1L, 'january': 3L, 'university': 2L, 'rights': 1L, 'july': 1L, 'gun': 1L, 'stimulus': 1L, 'rodham': 1L, 'troop': 1L, 'withdrawal': 1L, 'brk': 1L, 'nine': 1L, 'where': 1L, 'referred': 1L, 'affordable': 1L, 'attorney': 1L, 'on': 2L, 'often': 1L, 'senate': 3L, 'regained': 1L, 'national': 2L, 'creation': 1L, 'related': 1L, 'hawaii': 1L, 'born': 2L, 'second': 2L, 'defense': 1L, 'election': 3L, 'close': 1L, 'operation': 1L, 'insurance': 1L, 'sandy': 1L, 'afghanistan': 2L, 'initiatives': 1L, 'for': 4L, 'reform': 1L, 'house': 2L, 'review': 1L, 'representatives': 2L, 'current': 1L, 'state': 1L, 'won': 1L, 'limit': 1L, 'victory': 1L, 'unsuccessfully': 1L, 'reauthorization': 1L, 'keynote': 1L, 'full': 1L, 'patient': 1L, 'august': 1L, 'degree': 1L, '44th': 1L, 'bm': 1L, 'mitt': 1L, 'attention': 1L, 'delegates': 1L, 'lgbt': 1L, 'job': 1L, 'harvard': 2L, 'term': 3L, 'served': 2L, 'ask': 1L, 'november': 2L, 'debt': 1L, 'by': 1L, 'wall': 1L, 'care': 1L, 'received': 1L, 'great': 1L, 'signed': 3L, 'libya': 1L, 'receive': 1L, 'of': 18L, 'months': 1L, 'urged': 1L, 'foreign': 2L, 'american': 3L, 'protection': 2L, 'economic': 1L, 'act': 8L, 'military': 4L, 'hussein': 1L, 'or': 1L, 'first': 3L, 'control': 4L, 'named': 1L, 'clinton': 1L, 'dont': 2L, 'campaign': 3L, 'russia': 1L, 'civil': 1L, 'reinvestment': 1L, 'into': 1L, 'address': 1L, 'primary': 2L, 'community': 1L, 'mccain': 1L, 'down': 1L, 'hook': 1L, '63': 1L, 'americans': 1L, 'elementary': 1L, 'total': 1L, 'earning': 1L, 'repeal': 1L, 'from': 3L, 'raise': 1L, 'district': 1L, 'spending': 1L, 'republican': 2L, 'legislation': 1L, 'three': 1L, 'relations': 1L, 'nobel': 1L, 'start': 1L, 'tell': 1L, 'iraq': 4L, 'convention': 1L, 'resulted': 1L, 'john': 1L, 'was': 5L, '2012obama': 1L, 'form': 1L, 'that': 1L, 'tax': 1L, 'sufficient': 1L, 'republicans': 1L, 'strike': 1L, 'hillary': 1L, 'ended': 1L, 'arms': 1L, 'honolulu': 1L, 'filed': 1L, 'worked': 1L, 'hold': 1L, 'with': 3L, 'obama': 9L, 'street': 1L, 'ii': 1L, 'has': 4L, '1997': 1L, '1996': 1L, 'whether': 1L, 'reelected': 1L, 'budget': 1L, 'us': 6L, 'nations': 1L, 'recession': 1L, 'while': 1L, 'taught': 1L, 'marriage': 1L, 'policies': 1L, 'promoted': 1L, 'called': 1L, 'and': 21L, 'supreme': 1L, 'ordered': 3L, 'nominee': 2L, 'process': 1L, '2000in': 1L, 'is': 2L, 'romney': 1L, 'briefs': 1L, 'defeated': 1L, 'general': 1L, '13th': 1L, 'as': 6L, 'at': 2L, 'in': 30L, 'sought': 1L, 'organizer': 1L, 'shooting': 1L, 'increased': 1L, 'normalize': 1L, 'lengthy': 1L, 'united': 3L, 'court': 1L, 'recovery': 1L, 'laden': 1L, 'laureateduring': 1L, 'peace': 1L, 'administration': 1L, '1961': 1L, 'illinois': 2L, 'other': 1L, 'which': 1L, 'party': 3L, 'primaries': 1L, 'sworn': 1L, 'relief': 2L, 'war': 1L, 'columbia': 1L, 'combat': 1L, 'after': 4L, 'islamic': 1L, 'running': 1L, 'levels': 1L, 'two': 1L, 'involvement': 3L, 'response': 3L, 'included': 1L, 'president': 4L, 'law': 6L, 'nomination': 1L, '2008': 1L, 'a': 7L, '2009': 3L, 'chicago': 2L, 'constitutional': 1L, 'defeating': 1L, 'treaty': 1L, 'federal': 1L, '2007': 1L, '2004': 3L, 'african': 1L, 'the': 40L, 'democratic': 4L, 'consumer': 1L, 'began': 1L, 'terms': 1L}]\n"
     ]
    }
   ],
   "source": [
    "print obama['word_count']"
   ]
  },
  {
   "cell_type": "markdown",
   "metadata": {},
   "source": [
    "## Sort word counts for Obama article"
   ]
  },
  {
   "cell_type": "code",
   "execution_count": 19,
   "metadata": {
    "collapsed": false
   },
   "outputs": [],
   "source": [
    "obama_word_count_table = obama[['word_count']].stack('word_count', new_column_name=['word','count'])"
   ]
  },
  {
   "cell_type": "code",
   "execution_count": 20,
   "metadata": {
    "collapsed": false
   },
   "outputs": [
    {
     "data": {
      "text/html": [
       "<div style=\"max-height:1000px;max-width:1500px;overflow:auto;\"><table frame=\"box\" rules=\"cols\">\n",
       "    <tr>\n",
       "        <th style=\"padding-left: 1em; padding-right: 1em; text-align: center\">word</th>\n",
       "        <th style=\"padding-left: 1em; padding-right: 1em; text-align: center\">count</th>\n",
       "    </tr>\n",
       "    <tr>\n",
       "        <td style=\"padding-left: 1em; padding-right: 1em; text-align: center; vertical-align: top\">normalize</td>\n",
       "        <td style=\"padding-left: 1em; padding-right: 1em; text-align: center; vertical-align: top\">1</td>\n",
       "    </tr>\n",
       "    <tr>\n",
       "        <td style=\"padding-left: 1em; padding-right: 1em; text-align: center; vertical-align: top\">sought</td>\n",
       "        <td style=\"padding-left: 1em; padding-right: 1em; text-align: center; vertical-align: top\">1</td>\n",
       "    </tr>\n",
       "    <tr>\n",
       "        <td style=\"padding-left: 1em; padding-right: 1em; text-align: center; vertical-align: top\">combat</td>\n",
       "        <td style=\"padding-left: 1em; padding-right: 1em; text-align: center; vertical-align: top\">1</td>\n",
       "    </tr>\n",
       "    <tr>\n",
       "        <td style=\"padding-left: 1em; padding-right: 1em; text-align: center; vertical-align: top\">continued</td>\n",
       "        <td style=\"padding-left: 1em; padding-right: 1em; text-align: center; vertical-align: top\">1</td>\n",
       "    </tr>\n",
       "    <tr>\n",
       "        <td style=\"padding-left: 1em; padding-right: 1em; text-align: center; vertical-align: top\">unconstitutional</td>\n",
       "        <td style=\"padding-left: 1em; padding-right: 1em; text-align: center; vertical-align: top\">1</td>\n",
       "    </tr>\n",
       "    <tr>\n",
       "        <td style=\"padding-left: 1em; padding-right: 1em; text-align: center; vertical-align: top\">8</td>\n",
       "        <td style=\"padding-left: 1em; padding-right: 1em; text-align: center; vertical-align: top\">1</td>\n",
       "    </tr>\n",
       "    <tr>\n",
       "        <td style=\"padding-left: 1em; padding-right: 1em; text-align: center; vertical-align: top\">californias</td>\n",
       "        <td style=\"padding-left: 1em; padding-right: 1em; text-align: center; vertical-align: top\">1</td>\n",
       "    </tr>\n",
       "    <tr>\n",
       "        <td style=\"padding-left: 1em; padding-right: 1em; text-align: center; vertical-align: top\">1996</td>\n",
       "        <td style=\"padding-left: 1em; padding-right: 1em; text-align: center; vertical-align: top\">1</td>\n",
       "    </tr>\n",
       "    <tr>\n",
       "        <td style=\"padding-left: 1em; padding-right: 1em; text-align: center; vertical-align: top\">marriage</td>\n",
       "        <td style=\"padding-left: 1em; padding-right: 1em; text-align: center; vertical-align: top\">1</td>\n",
       "    </tr>\n",
       "    <tr>\n",
       "        <td style=\"padding-left: 1em; padding-right: 1em; text-align: center; vertical-align: top\">defense</td>\n",
       "        <td style=\"padding-left: 1em; padding-right: 1em; text-align: center; vertical-align: top\">1</td>\n",
       "    </tr>\n",
       "</table>\n",
       "[273 rows x 2 columns]<br/>Note: Only the head of the SFrame is printed.<br/>You can use print_rows(num_rows=m, num_columns=n) to print more rows and columns.\n",
       "</div>"
      ],
      "text/plain": [
       "Columns:\n",
       "\tword\tstr\n",
       "\tcount\tint\n",
       "\n",
       "Rows: 273\n",
       "\n",
       "Data:\n",
       "+------------------+-------+\n",
       "|       word       | count |\n",
       "+------------------+-------+\n",
       "|    normalize     |   1   |\n",
       "|      sought      |   1   |\n",
       "|      combat      |   1   |\n",
       "|    continued     |   1   |\n",
       "| unconstitutional |   1   |\n",
       "|        8         |   1   |\n",
       "|   californias    |   1   |\n",
       "|       1996       |   1   |\n",
       "|     marriage     |   1   |\n",
       "|     defense      |   1   |\n",
       "+------------------+-------+\n",
       "[273 rows x 2 columns]\n",
       "Note: Only the head of the SFrame is printed.\n",
       "You can use print_rows(num_rows=m, num_columns=n) to print more rows and columns."
      ]
     },
     "execution_count": 20,
     "metadata": {},
     "output_type": "execute_result"
    }
   ],
   "source": [
    "obama_word_count_table"
   ]
  },
  {
   "cell_type": "code",
   "execution_count": 21,
   "metadata": {
    "collapsed": false
   },
   "outputs": [
    {
     "data": {
      "text/html": [
       "<div style=\"max-height:1000px;max-width:1500px;overflow:auto;\"><table frame=\"box\" rules=\"cols\">\n",
       "    <tr>\n",
       "        <th style=\"padding-left: 1em; padding-right: 1em; text-align: center\">word</th>\n",
       "        <th style=\"padding-left: 1em; padding-right: 1em; text-align: center\">count</th>\n",
       "    </tr>\n",
       "    <tr>\n",
       "        <td style=\"padding-left: 1em; padding-right: 1em; text-align: center; vertical-align: top\">the</td>\n",
       "        <td style=\"padding-left: 1em; padding-right: 1em; text-align: center; vertical-align: top\">40</td>\n",
       "    </tr>\n",
       "    <tr>\n",
       "        <td style=\"padding-left: 1em; padding-right: 1em; text-align: center; vertical-align: top\">in</td>\n",
       "        <td style=\"padding-left: 1em; padding-right: 1em; text-align: center; vertical-align: top\">30</td>\n",
       "    </tr>\n",
       "    <tr>\n",
       "        <td style=\"padding-left: 1em; padding-right: 1em; text-align: center; vertical-align: top\">and</td>\n",
       "        <td style=\"padding-left: 1em; padding-right: 1em; text-align: center; vertical-align: top\">21</td>\n",
       "    </tr>\n",
       "    <tr>\n",
       "        <td style=\"padding-left: 1em; padding-right: 1em; text-align: center; vertical-align: top\">of</td>\n",
       "        <td style=\"padding-left: 1em; padding-right: 1em; text-align: center; vertical-align: top\">18</td>\n",
       "    </tr>\n",
       "    <tr>\n",
       "        <td style=\"padding-left: 1em; padding-right: 1em; text-align: center; vertical-align: top\">to</td>\n",
       "        <td style=\"padding-left: 1em; padding-right: 1em; text-align: center; vertical-align: top\">14</td>\n",
       "    </tr>\n",
       "    <tr>\n",
       "        <td style=\"padding-left: 1em; padding-right: 1em; text-align: center; vertical-align: top\">his</td>\n",
       "        <td style=\"padding-left: 1em; padding-right: 1em; text-align: center; vertical-align: top\">11</td>\n",
       "    </tr>\n",
       "    <tr>\n",
       "        <td style=\"padding-left: 1em; padding-right: 1em; text-align: center; vertical-align: top\">obama</td>\n",
       "        <td style=\"padding-left: 1em; padding-right: 1em; text-align: center; vertical-align: top\">9</td>\n",
       "    </tr>\n",
       "    <tr>\n",
       "        <td style=\"padding-left: 1em; padding-right: 1em; text-align: center; vertical-align: top\">act</td>\n",
       "        <td style=\"padding-left: 1em; padding-right: 1em; text-align: center; vertical-align: top\">8</td>\n",
       "    </tr>\n",
       "    <tr>\n",
       "        <td style=\"padding-left: 1em; padding-right: 1em; text-align: center; vertical-align: top\">a</td>\n",
       "        <td style=\"padding-left: 1em; padding-right: 1em; text-align: center; vertical-align: top\">7</td>\n",
       "    </tr>\n",
       "    <tr>\n",
       "        <td style=\"padding-left: 1em; padding-right: 1em; text-align: center; vertical-align: top\">he</td>\n",
       "        <td style=\"padding-left: 1em; padding-right: 1em; text-align: center; vertical-align: top\">7</td>\n",
       "    </tr>\n",
       "</table>\n",
       "[273 rows x 2 columns]<br/>Note: Only the head of the SFrame is printed.<br/>You can use print_rows(num_rows=m, num_columns=n) to print more rows and columns.\n",
       "</div>"
      ],
      "text/plain": [
       "Columns:\n",
       "\tword\tstr\n",
       "\tcount\tint\n",
       "\n",
       "Rows: 273\n",
       "\n",
       "Data:\n",
       "+-------+-------+\n",
       "|  word | count |\n",
       "+-------+-------+\n",
       "|  the  |   40  |\n",
       "|   in  |   30  |\n",
       "|  and  |   21  |\n",
       "|   of  |   18  |\n",
       "|   to  |   14  |\n",
       "|  his  |   11  |\n",
       "| obama |   9   |\n",
       "|  act  |   8   |\n",
       "|   a   |   7   |\n",
       "|   he  |   7   |\n",
       "+-------+-------+\n",
       "[273 rows x 2 columns]\n",
       "Note: Only the head of the SFrame is printed.\n",
       "You can use print_rows(num_rows=m, num_columns=n) to print more rows and columns."
      ]
     },
     "execution_count": 21,
     "metadata": {},
     "output_type": "execute_result"
    }
   ],
   "source": [
    "obama_word_count_table.sort('count', ascending=False)"
   ]
  },
  {
   "cell_type": "markdown",
   "metadata": {},
   "source": [
    "# Compute TF-IDF for the corpus"
   ]
  },
  {
   "cell_type": "code",
   "execution_count": 22,
   "metadata": {
    "collapsed": false
   },
   "outputs": [
    {
     "data": {
      "text/html": [
       "<div style=\"max-height:1000px;max-width:1500px;overflow:auto;\"><table frame=\"box\" rules=\"cols\">\n",
       "    <tr>\n",
       "        <th style=\"padding-left: 1em; padding-right: 1em; text-align: center\">URI</th>\n",
       "        <th style=\"padding-left: 1em; padding-right: 1em; text-align: center\">name</th>\n",
       "        <th style=\"padding-left: 1em; padding-right: 1em; text-align: center\">text</th>\n",
       "        <th style=\"padding-left: 1em; padding-right: 1em; text-align: center\">word_count</th>\n",
       "    </tr>\n",
       "    <tr>\n",
       "        <td style=\"padding-left: 1em; padding-right: 1em; text-align: center; vertical-align: top\">&lt;http://dbpedia.org/resou<br>rce/Digby_Morrell&gt; ...</td>\n",
       "        <td style=\"padding-left: 1em; padding-right: 1em; text-align: center; vertical-align: top\">Digby Morrell</td>\n",
       "        <td style=\"padding-left: 1em; padding-right: 1em; text-align: center; vertical-align: top\">digby morrell born 10<br>october 1979 is a former ...</td>\n",
       "        <td style=\"padding-left: 1em; padding-right: 1em; text-align: center; vertical-align: top\">{'since': 1L, 'carltons':<br>1L, 'being': 1L, '2005': ...</td>\n",
       "    </tr>\n",
       "    <tr>\n",
       "        <td style=\"padding-left: 1em; padding-right: 1em; text-align: center; vertical-align: top\">&lt;http://dbpedia.org/resou<br>rce/Alfred_J._Lewy&gt; ...</td>\n",
       "        <td style=\"padding-left: 1em; padding-right: 1em; text-align: center; vertical-align: top\">Alfred J. Lewy</td>\n",
       "        <td style=\"padding-left: 1em; padding-right: 1em; text-align: center; vertical-align: top\">alfred j lewy aka sandy<br>lewy graduated from ...</td>\n",
       "        <td style=\"padding-left: 1em; padding-right: 1em; text-align: center; vertical-align: top\">{'precise': 1L, 'thomas':<br>1L, 'closely': 1L, ...</td>\n",
       "    </tr>\n",
       "    <tr>\n",
       "        <td style=\"padding-left: 1em; padding-right: 1em; text-align: center; vertical-align: top\">&lt;http://dbpedia.org/resou<br>rce/Harpdog_Brown&gt; ...</td>\n",
       "        <td style=\"padding-left: 1em; padding-right: 1em; text-align: center; vertical-align: top\">Harpdog Brown</td>\n",
       "        <td style=\"padding-left: 1em; padding-right: 1em; text-align: center; vertical-align: top\">harpdog brown is a singer<br>and harmonica player who ...</td>\n",
       "        <td style=\"padding-left: 1em; padding-right: 1em; text-align: center; vertical-align: top\">{'just': 1L, 'issued':<br>1L, 'mainly': 1L, ...</td>\n",
       "    </tr>\n",
       "    <tr>\n",
       "        <td style=\"padding-left: 1em; padding-right: 1em; text-align: center; vertical-align: top\">&lt;http://dbpedia.org/resou<br>rce/Franz_Rottensteiner&gt; ...</td>\n",
       "        <td style=\"padding-left: 1em; padding-right: 1em; text-align: center; vertical-align: top\">Franz Rottensteiner</td>\n",
       "        <td style=\"padding-left: 1em; padding-right: 1em; text-align: center; vertical-align: top\">franz rottensteiner born<br>in waidmannsfeld lower ...</td>\n",
       "        <td style=\"padding-left: 1em; padding-right: 1em; text-align: center; vertical-align: top\">{'all': 1L,<br>'bauforschung': 1L, ...</td>\n",
       "    </tr>\n",
       "    <tr>\n",
       "        <td style=\"padding-left: 1em; padding-right: 1em; text-align: center; vertical-align: top\">&lt;http://dbpedia.org/resou<br>rce/G-Enka&gt; ...</td>\n",
       "        <td style=\"padding-left: 1em; padding-right: 1em; text-align: center; vertical-align: top\">G-Enka</td>\n",
       "        <td style=\"padding-left: 1em; padding-right: 1em; text-align: center; vertical-align: top\">henry krvits born 30<br>december 1974 in tallinn ...</td>\n",
       "        <td style=\"padding-left: 1em; padding-right: 1em; text-align: center; vertical-align: top\">{'legendary': 1L,<br>'gangstergenka': 1L, ...</td>\n",
       "    </tr>\n",
       "    <tr>\n",
       "        <td style=\"padding-left: 1em; padding-right: 1em; text-align: center; vertical-align: top\">&lt;http://dbpedia.org/resou<br>rce/Sam_Henderson&gt; ...</td>\n",
       "        <td style=\"padding-left: 1em; padding-right: 1em; text-align: center; vertical-align: top\">Sam Henderson</td>\n",
       "        <td style=\"padding-left: 1em; padding-right: 1em; text-align: center; vertical-align: top\">sam henderson born<br>october 18 1969 is an ...</td>\n",
       "        <td style=\"padding-left: 1em; padding-right: 1em; text-align: center; vertical-align: top\">{'now': 1L, 'currently':<br>1L, 'less': 1L, 'being': ...</td>\n",
       "    </tr>\n",
       "    <tr>\n",
       "        <td style=\"padding-left: 1em; padding-right: 1em; text-align: center; vertical-align: top\">&lt;http://dbpedia.org/resou<br>rce/Aaron_LaCrate&gt; ...</td>\n",
       "        <td style=\"padding-left: 1em; padding-right: 1em; text-align: center; vertical-align: top\">Aaron LaCrate</td>\n",
       "        <td style=\"padding-left: 1em; padding-right: 1em; text-align: center; vertical-align: top\">aaron lacrate is an<br>american music producer ...</td>\n",
       "        <td style=\"padding-left: 1em; padding-right: 1em; text-align: center; vertical-align: top\">{'exclusive': 2L,<br>'producer': 1L, 'tribe': ...</td>\n",
       "    </tr>\n",
       "    <tr>\n",
       "        <td style=\"padding-left: 1em; padding-right: 1em; text-align: center; vertical-align: top\">&lt;http://dbpedia.org/resou<br>rce/Trevor_Ferguson&gt; ...</td>\n",
       "        <td style=\"padding-left: 1em; padding-right: 1em; text-align: center; vertical-align: top\">Trevor Ferguson</td>\n",
       "        <td style=\"padding-left: 1em; padding-right: 1em; text-align: center; vertical-align: top\">trevor ferguson aka john<br>farrow born 11 november ...</td>\n",
       "        <td style=\"padding-left: 1em; padding-right: 1em; text-align: center; vertical-align: top\">{'taxi': 1L, 'salon': 1L,<br>'gangs': 1L, 'being': ...</td>\n",
       "    </tr>\n",
       "    <tr>\n",
       "        <td style=\"padding-left: 1em; padding-right: 1em; text-align: center; vertical-align: top\">&lt;http://dbpedia.org/resou<br>rce/Grant_Nelson&gt; ...</td>\n",
       "        <td style=\"padding-left: 1em; padding-right: 1em; text-align: center; vertical-align: top\">Grant Nelson</td>\n",
       "        <td style=\"padding-left: 1em; padding-right: 1em; text-align: center; vertical-align: top\">grant nelson born 27<br>april 1971 in london  ...</td>\n",
       "        <td style=\"padding-left: 1em; padding-right: 1em; text-align: center; vertical-align: top\">{'houston': 1L,<br>'frankie': 1L, 'labels': ...</td>\n",
       "    </tr>\n",
       "    <tr>\n",
       "        <td style=\"padding-left: 1em; padding-right: 1em; text-align: center; vertical-align: top\">&lt;http://dbpedia.org/resou<br>rce/Cathy_Caruth&gt; ...</td>\n",
       "        <td style=\"padding-left: 1em; padding-right: 1em; text-align: center; vertical-align: top\">Cathy Caruth</td>\n",
       "        <td style=\"padding-left: 1em; padding-right: 1em; text-align: center; vertical-align: top\">cathy caruth born 1955 is<br>frank h t rhodes ...</td>\n",
       "        <td style=\"padding-left: 1em; padding-right: 1em; text-align: center; vertical-align: top\">{'phenomenon': 1L,<br>'deborash': 1L, ...</td>\n",
       "    </tr>\n",
       "</table>\n",
       "[10 rows x 4 columns]<br/>\n",
       "</div>"
      ],
      "text/plain": [
       "Columns:\n",
       "\tURI\tstr\n",
       "\tname\tstr\n",
       "\ttext\tstr\n",
       "\tword_count\tdict\n",
       "\n",
       "Rows: 10\n",
       "\n",
       "Data:\n",
       "+-------------------------------+---------------------+\n",
       "|              URI              |         name        |\n",
       "+-------------------------------+---------------------+\n",
       "| <http://dbpedia.org/resour... |    Digby Morrell    |\n",
       "| <http://dbpedia.org/resour... |    Alfred J. Lewy   |\n",
       "| <http://dbpedia.org/resour... |    Harpdog Brown    |\n",
       "| <http://dbpedia.org/resour... | Franz Rottensteiner |\n",
       "| <http://dbpedia.org/resour... |        G-Enka       |\n",
       "| <http://dbpedia.org/resour... |    Sam Henderson    |\n",
       "| <http://dbpedia.org/resour... |    Aaron LaCrate    |\n",
       "| <http://dbpedia.org/resour... |   Trevor Ferguson   |\n",
       "| <http://dbpedia.org/resour... |     Grant Nelson    |\n",
       "| <http://dbpedia.org/resour... |     Cathy Caruth    |\n",
       "+-------------------------------+---------------------+\n",
       "+-------------------------------+-------------------------------+\n",
       "|              text             |           word_count          |\n",
       "+-------------------------------+-------------------------------+\n",
       "| digby morrell born 10 octo... | {'since': 1L, 'carltons': ... |\n",
       "| alfred j lewy aka sandy le... | {'precise': 1L, 'thomas': ... |\n",
       "| harpdog brown is a singer ... | {'just': 1L, 'issued': 1L,... |\n",
       "| franz rottensteiner born i... | {'all': 1L, 'bauforschung'... |\n",
       "| henry krvits born 30 decem... | {'legendary': 1L, 'gangste... |\n",
       "| sam henderson born october... | {'now': 1L, 'currently': 1... |\n",
       "| aaron lacrate is an americ... | {'exclusive': 2L, 'produce... |\n",
       "| trevor ferguson aka john f... | {'taxi': 1L, 'salon': 1L, ... |\n",
       "| grant nelson born 27 april... | {'houston': 1L, 'frankie':... |\n",
       "| cathy caruth born 1955 is ... | {'phenomenon': 1L, 'debora... |\n",
       "+-------------------------------+-------------------------------+\n",
       "[10 rows x 4 columns]"
      ]
     },
     "execution_count": 22,
     "metadata": {},
     "output_type": "execute_result"
    }
   ],
   "source": [
    "people['word_count'] = graphlab.text_analytics.count_words(people['text'])\n",
    "people.head()"
   ]
  },
  {
   "cell_type": "code",
   "execution_count": 25,
   "metadata": {
    "collapsed": false
   },
   "outputs": [],
   "source": [
    "tfidf = graphlab.text_analytics.tf_idf(people['word_count'])"
   ]
  },
  {
   "cell_type": "code",
   "execution_count": 35,
   "metadata": {
    "collapsed": false
   },
   "outputs": [],
   "source": [
    "people['tfidf'] = tfidf     ## adding tf-idf column to 'people'"
   ]
  },
  {
   "cell_type": "markdown",
   "metadata": {},
   "source": [
    "## Examine TF-IDF for Obama article"
   ]
  },
  {
   "cell_type": "code",
   "execution_count": 37,
   "metadata": {
    "collapsed": false
   },
   "outputs": [],
   "source": [
    "obama = people[people['name']=='Barack Obama']   ## new obama SFrame with tf-idf"
   ]
  },
  {
   "cell_type": "code",
   "execution_count": 40,
   "metadata": {
    "collapsed": false
   },
   "outputs": [
    {
     "data": {
      "text/html": [
       "<div style=\"max-height:1000px;max-width:1500px;overflow:auto;\"><table frame=\"box\" rules=\"cols\">\n",
       "    <tr>\n",
       "        <th style=\"padding-left: 1em; padding-right: 1em; text-align: center\">word</th>\n",
       "        <th style=\"padding-left: 1em; padding-right: 1em; text-align: center\">tfidf</th>\n",
       "    </tr>\n",
       "    <tr>\n",
       "        <td style=\"padding-left: 1em; padding-right: 1em; text-align: center; vertical-align: top\">obama</td>\n",
       "        <td style=\"padding-left: 1em; padding-right: 1em; text-align: center; vertical-align: top\">43.2956530721</td>\n",
       "    </tr>\n",
       "    <tr>\n",
       "        <td style=\"padding-left: 1em; padding-right: 1em; text-align: center; vertical-align: top\">act</td>\n",
       "        <td style=\"padding-left: 1em; padding-right: 1em; text-align: center; vertical-align: top\">27.678222623</td>\n",
       "    </tr>\n",
       "    <tr>\n",
       "        <td style=\"padding-left: 1em; padding-right: 1em; text-align: center; vertical-align: top\">iraq</td>\n",
       "        <td style=\"padding-left: 1em; padding-right: 1em; text-align: center; vertical-align: top\">17.747378588</td>\n",
       "    </tr>\n",
       "    <tr>\n",
       "        <td style=\"padding-left: 1em; padding-right: 1em; text-align: center; vertical-align: top\">control</td>\n",
       "        <td style=\"padding-left: 1em; padding-right: 1em; text-align: center; vertical-align: top\">14.8870608452</td>\n",
       "    </tr>\n",
       "    <tr>\n",
       "        <td style=\"padding-left: 1em; padding-right: 1em; text-align: center; vertical-align: top\">law</td>\n",
       "        <td style=\"padding-left: 1em; padding-right: 1em; text-align: center; vertical-align: top\">14.7229357618</td>\n",
       "    </tr>\n",
       "    <tr>\n",
       "        <td style=\"padding-left: 1em; padding-right: 1em; text-align: center; vertical-align: top\">ordered</td>\n",
       "        <td style=\"padding-left: 1em; padding-right: 1em; text-align: center; vertical-align: top\">14.5333739509</td>\n",
       "    </tr>\n",
       "    <tr>\n",
       "        <td style=\"padding-left: 1em; padding-right: 1em; text-align: center; vertical-align: top\">military</td>\n",
       "        <td style=\"padding-left: 1em; padding-right: 1em; text-align: center; vertical-align: top\">13.1159327785</td>\n",
       "    </tr>\n",
       "    <tr>\n",
       "        <td style=\"padding-left: 1em; padding-right: 1em; text-align: center; vertical-align: top\">involvement</td>\n",
       "        <td style=\"padding-left: 1em; padding-right: 1em; text-align: center; vertical-align: top\">12.7843852412</td>\n",
       "    </tr>\n",
       "    <tr>\n",
       "        <td style=\"padding-left: 1em; padding-right: 1em; text-align: center; vertical-align: top\">response</td>\n",
       "        <td style=\"padding-left: 1em; padding-right: 1em; text-align: center; vertical-align: top\">12.7843852412</td>\n",
       "    </tr>\n",
       "    <tr>\n",
       "        <td style=\"padding-left: 1em; padding-right: 1em; text-align: center; vertical-align: top\">democratic</td>\n",
       "        <td style=\"padding-left: 1em; padding-right: 1em; text-align: center; vertical-align: top\">12.4106886973</td>\n",
       "    </tr>\n",
       "</table>\n",
       "[273 rows x 2 columns]<br/>Note: Only the head of the SFrame is printed.<br/>You can use print_rows(num_rows=m, num_columns=n) to print more rows and columns.\n",
       "</div>"
      ],
      "text/plain": [
       "Columns:\n",
       "\tword\tstr\n",
       "\ttfidf\tfloat\n",
       "\n",
       "Rows: 273\n",
       "\n",
       "Data:\n",
       "+-------------+---------------+\n",
       "|     word    |     tfidf     |\n",
       "+-------------+---------------+\n",
       "|    obama    | 43.2956530721 |\n",
       "|     act     |  27.678222623 |\n",
       "|     iraq    |  17.747378588 |\n",
       "|   control   | 14.8870608452 |\n",
       "|     law     | 14.7229357618 |\n",
       "|   ordered   | 14.5333739509 |\n",
       "|   military  | 13.1159327785 |\n",
       "| involvement | 12.7843852412 |\n",
       "|   response  | 12.7843852412 |\n",
       "|  democratic | 12.4106886973 |\n",
       "+-------------+---------------+\n",
       "[273 rows x 2 columns]\n",
       "Note: Only the head of the SFrame is printed.\n",
       "You can use print_rows(num_rows=m, num_columns=n) to print more rows and columns."
      ]
     },
     "execution_count": 40,
     "metadata": {},
     "output_type": "execute_result"
    }
   ],
   "source": [
    "obama[['tfidf']].stack('tfidf',new_column_name=['word','tfidf']).sort('tfidf',ascending=False)"
   ]
  },
  {
   "cell_type": "markdown",
   "metadata": {},
   "source": [
    "# Manually computing distances between a few people to get a sense for clustering algorithm"
   ]
  },
  {
   "cell_type": "code",
   "execution_count": 41,
   "metadata": {
    "collapsed": true
   },
   "outputs": [],
   "source": [
    "clinton = people[people['name']=='Bill Clinton']"
   ]
  },
  {
   "cell_type": "code",
   "execution_count": 42,
   "metadata": {
    "collapsed": true
   },
   "outputs": [],
   "source": [
    "beckham = people[people['name']=='David Beckham']"
   ]
  },
  {
   "cell_type": "markdown",
   "metadata": {},
   "source": [
    "## Is Obama closer to Clinton or Beckham?"
   ]
  },
  {
   "cell_type": "code",
   "execution_count": 43,
   "metadata": {
    "collapsed": false
   },
   "outputs": [
    {
     "data": {
      "text/plain": [
       "0.8339854936884276"
      ]
     },
     "execution_count": 43,
     "metadata": {},
     "output_type": "execute_result"
    }
   ],
   "source": [
    "## simliarity and distance between two vectors\n",
    "## smaller values for cosine distance function = closer relationship\n",
    "\n",
    "graphlab.distances.cosine(obama['tfidf'][0], clinton['tfidf'][0])"
   ]
  },
  {
   "cell_type": "code",
   "execution_count": 44,
   "metadata": {
    "collapsed": false
   },
   "outputs": [
    {
     "data": {
      "text/plain": [
       "0.9791305844747478"
      ]
     },
     "execution_count": 44,
     "metadata": {},
     "output_type": "execute_result"
    }
   ],
   "source": [
    "graphlab.distances.cosine(obama['tfidf'][0], beckham['tfidf'][0])"
   ]
  },
  {
   "cell_type": "markdown",
   "metadata": {},
   "source": [
    "# Building a nearest neighbor model for document retrieval"
   ]
  },
  {
   "cell_type": "code",
   "execution_count": 46,
   "metadata": {
    "collapsed": false
   },
   "outputs": [
    {
     "data": {
      "text/html": [
       "<pre>Starting brute force nearest neighbors model training.</pre>"
      ],
      "text/plain": [
       "Starting brute force nearest neighbors model training."
      ]
     },
     "metadata": {},
     "output_type": "display_data"
    }
   ],
   "source": [
    "knn_model = graphlab.nearest_neighbors.create(people, features=['tfidf'] ,label='name')"
   ]
  },
  {
   "cell_type": "markdown",
   "metadata": {},
   "source": [
    "# Application of k-NN model for retreival"
   ]
  },
  {
   "cell_type": "code",
   "execution_count": 47,
   "metadata": {
    "collapsed": false
   },
   "outputs": [
    {
     "data": {
      "text/html": [
       "<pre>Starting pairwise querying.</pre>"
      ],
      "text/plain": [
       "Starting pairwise querying."
      ]
     },
     "metadata": {},
     "output_type": "display_data"
    },
    {
     "data": {
      "text/html": [
       "<pre>+--------------+---------+-------------+--------------+</pre>"
      ],
      "text/plain": [
       "+--------------+---------+-------------+--------------+"
      ]
     },
     "metadata": {},
     "output_type": "display_data"
    },
    {
     "data": {
      "text/html": [
       "<pre>| Query points | # Pairs | % Complete. | Elapsed Time |</pre>"
      ],
      "text/plain": [
       "| Query points | # Pairs | % Complete. | Elapsed Time |"
      ]
     },
     "metadata": {},
     "output_type": "display_data"
    },
    {
     "data": {
      "text/html": [
       "<pre>+--------------+---------+-------------+--------------+</pre>"
      ],
      "text/plain": [
       "+--------------+---------+-------------+--------------+"
      ]
     },
     "metadata": {},
     "output_type": "display_data"
    },
    {
     "data": {
      "text/html": [
       "<pre>| 0            | 1       | 0.00169288  | 94.816ms     |</pre>"
      ],
      "text/plain": [
       "| 0            | 1       | 0.00169288  | 94.816ms     |"
      ]
     },
     "metadata": {},
     "output_type": "display_data"
    },
    {
     "data": {
      "text/html": [
       "<pre>| Done         |         | 100         | 391.032ms    |</pre>"
      ],
      "text/plain": [
       "| Done         |         | 100         | 391.032ms    |"
      ]
     },
     "metadata": {},
     "output_type": "display_data"
    },
    {
     "data": {
      "text/html": [
       "<pre>+--------------+---------+-------------+--------------+</pre>"
      ],
      "text/plain": [
       "+--------------+---------+-------------+--------------+"
      ]
     },
     "metadata": {},
     "output_type": "display_data"
    },
    {
     "data": {
      "text/html": [
       "<div style=\"max-height:1000px;max-width:1500px;overflow:auto;\"><table frame=\"box\" rules=\"cols\">\n",
       "    <tr>\n",
       "        <th style=\"padding-left: 1em; padding-right: 1em; text-align: center\">query_label</th>\n",
       "        <th style=\"padding-left: 1em; padding-right: 1em; text-align: center\">reference_label</th>\n",
       "        <th style=\"padding-left: 1em; padding-right: 1em; text-align: center\">distance</th>\n",
       "        <th style=\"padding-left: 1em; padding-right: 1em; text-align: center\">rank</th>\n",
       "    </tr>\n",
       "    <tr>\n",
       "        <td style=\"padding-left: 1em; padding-right: 1em; text-align: center; vertical-align: top\">0</td>\n",
       "        <td style=\"padding-left: 1em; padding-right: 1em; text-align: center; vertical-align: top\">Barack Obama</td>\n",
       "        <td style=\"padding-left: 1em; padding-right: 1em; text-align: center; vertical-align: top\">0.0</td>\n",
       "        <td style=\"padding-left: 1em; padding-right: 1em; text-align: center; vertical-align: top\">1</td>\n",
       "    </tr>\n",
       "    <tr>\n",
       "        <td style=\"padding-left: 1em; padding-right: 1em; text-align: center; vertical-align: top\">0</td>\n",
       "        <td style=\"padding-left: 1em; padding-right: 1em; text-align: center; vertical-align: top\">Joe Biden</td>\n",
       "        <td style=\"padding-left: 1em; padding-right: 1em; text-align: center; vertical-align: top\">0.794117647059</td>\n",
       "        <td style=\"padding-left: 1em; padding-right: 1em; text-align: center; vertical-align: top\">2</td>\n",
       "    </tr>\n",
       "    <tr>\n",
       "        <td style=\"padding-left: 1em; padding-right: 1em; text-align: center; vertical-align: top\">0</td>\n",
       "        <td style=\"padding-left: 1em; padding-right: 1em; text-align: center; vertical-align: top\">Joe Lieberman</td>\n",
       "        <td style=\"padding-left: 1em; padding-right: 1em; text-align: center; vertical-align: top\">0.794685990338</td>\n",
       "        <td style=\"padding-left: 1em; padding-right: 1em; text-align: center; vertical-align: top\">3</td>\n",
       "    </tr>\n",
       "    <tr>\n",
       "        <td style=\"padding-left: 1em; padding-right: 1em; text-align: center; vertical-align: top\">0</td>\n",
       "        <td style=\"padding-left: 1em; padding-right: 1em; text-align: center; vertical-align: top\">Kelly Ayotte</td>\n",
       "        <td style=\"padding-left: 1em; padding-right: 1em; text-align: center; vertical-align: top\">0.811989100817</td>\n",
       "        <td style=\"padding-left: 1em; padding-right: 1em; text-align: center; vertical-align: top\">4</td>\n",
       "    </tr>\n",
       "    <tr>\n",
       "        <td style=\"padding-left: 1em; padding-right: 1em; text-align: center; vertical-align: top\">0</td>\n",
       "        <td style=\"padding-left: 1em; padding-right: 1em; text-align: center; vertical-align: top\">Bill Clinton</td>\n",
       "        <td style=\"padding-left: 1em; padding-right: 1em; text-align: center; vertical-align: top\">0.813852813853</td>\n",
       "        <td style=\"padding-left: 1em; padding-right: 1em; text-align: center; vertical-align: top\">5</td>\n",
       "    </tr>\n",
       "</table>\n",
       "[5 rows x 4 columns]<br/>\n",
       "</div>"
      ],
      "text/plain": [
       "Columns:\n",
       "\tquery_label\tint\n",
       "\treference_label\tstr\n",
       "\tdistance\tfloat\n",
       "\trank\tint\n",
       "\n",
       "Rows: 5\n",
       "\n",
       "Data:\n",
       "+-------------+-----------------+----------------+------+\n",
       "| query_label | reference_label |    distance    | rank |\n",
       "+-------------+-----------------+----------------+------+\n",
       "|      0      |   Barack Obama  |      0.0       |  1   |\n",
       "|      0      |    Joe Biden    | 0.794117647059 |  2   |\n",
       "|      0      |  Joe Lieberman  | 0.794685990338 |  3   |\n",
       "|      0      |   Kelly Ayotte  | 0.811989100817 |  4   |\n",
       "|      0      |   Bill Clinton  | 0.813852813853 |  5   |\n",
       "+-------------+-----------------+----------------+------+\n",
       "[5 rows x 4 columns]"
      ]
     },
     "execution_count": 47,
     "metadata": {},
     "output_type": "execute_result"
    }
   ],
   "source": [
    "## Who is closest to Obama?\n",
    "knn_model.query(obama)"
   ]
  },
  {
   "cell_type": "markdown",
   "metadata": {},
   "source": [
    "## **Sidetracked -- personal exploration, trying to visualize k-NN using similarity graph**"
   ]
  },
  {
   "cell_type": "code",
   "execution_count": 48,
   "metadata": {
    "collapsed": false
   },
   "outputs": [
    {
     "data": {
      "text/html": [
       "<pre>Starting pairwise querying.</pre>"
      ],
      "text/plain": [
       "Starting pairwise querying."
      ]
     },
     "metadata": {},
     "output_type": "display_data"
    },
    {
     "data": {
      "text/html": [
       "<pre>+--------------+---------+-------------+--------------+</pre>"
      ],
      "text/plain": [
       "+--------------+---------+-------------+--------------+"
      ]
     },
     "metadata": {},
     "output_type": "display_data"
    },
    {
     "data": {
      "text/html": [
       "<pre>| Query points | # Pairs | % Complete. | Elapsed Time |</pre>"
      ],
      "text/plain": [
       "| Query points | # Pairs | % Complete. | Elapsed Time |"
      ]
     },
     "metadata": {},
     "output_type": "display_data"
    },
    {
     "data": {
      "text/html": [
       "<pre>+--------------+---------+-------------+--------------+</pre>"
      ],
      "text/plain": [
       "+--------------+---------+-------------+--------------+"
      ]
     },
     "metadata": {},
     "output_type": "display_data"
    },
    {
     "data": {
      "text/html": [
       "<pre>| 0            | 3691    | 0.000105778 | 42.035ms     |</pre>"
      ],
      "text/plain": [
       "| 0            | 3691    | 0.000105778 | 42.035ms     |"
      ]
     },
     "metadata": {},
     "output_type": "display_data"
    },
    {
     "data": {
      "text/html": [
       "<pre>| 27           | 1631422 | 0.0467539   | 1.04s        |</pre>"
      ],
      "text/plain": [
       "| 27           | 1631422 | 0.0467539   | 1.04s        |"
      ]
     },
     "metadata": {},
     "output_type": "display_data"
    },
    {
     "data": {
      "text/html": [
       "<pre>| 52           | 3074603 | 0.0881131   | 2.04s        |</pre>"
      ],
      "text/plain": [
       "| 52           | 3074603 | 0.0881131   | 2.04s        |"
      ]
     },
     "metadata": {},
     "output_type": "display_data"
    },
    {
     "data": {
      "text/html": [
       "<pre>| 79           | 4683879 | 0.134232    | 3.04s        |</pre>"
      ],
      "text/plain": [
       "| 79           | 4683879 | 0.134232    | 3.04s        |"
      ]
     },
     "metadata": {},
     "output_type": "display_data"
    },
    {
     "data": {
      "text/html": [
       "<pre>| 105          | 6245172 | 0.178976    | 4.05s        |</pre>"
      ],
      "text/plain": [
       "| 105          | 6245172 | 0.178976    | 4.05s        |"
      ]
     },
     "metadata": {},
     "output_type": "display_data"
    },
    {
     "data": {
      "text/html": [
       "<pre>| 131          | 7751100 | 0.222134    | 5.03s        |</pre>"
      ],
      "text/plain": [
       "| 131          | 7751100 | 0.222134    | 5.03s        |"
      ]
     },
     "metadata": {},
     "output_type": "display_data"
    },
    {
     "data": {
      "text/html": [
       "<pre>| 158          | 9375140 | 0.268676    | 6.03s        |</pre>"
      ],
      "text/plain": [
       "| 158          | 9375140 | 0.268676    | 6.03s        |"
      ]
     },
     "metadata": {},
     "output_type": "display_data"
    },
    {
     "data": {
      "text/html": [
       "<pre>| 185          | 1e+007  | 0.314055    | 7.13s        |</pre>"
      ],
      "text/plain": [
       "| 185          | 1e+007  | 0.314055    | 7.13s        |"
      ]
     },
     "metadata": {},
     "output_type": "display_data"
    },
    {
     "data": {
      "text/html": [
       "<pre>| 211          | 1e+007  | 0.358482    | 8.03s        |</pre>"
      ],
      "text/plain": [
       "| 211          | 1e+007  | 0.358482    | 8.03s        |"
      ]
     },
     "metadata": {},
     "output_type": "display_data"
    },
    {
     "data": {
      "text/html": [
       "<pre>| 237          | 1e+007  | 0.402168    | 9.03s        |</pre>"
      ],
      "text/plain": [
       "| 237          | 1e+007  | 0.402168    | 9.03s        |"
      ]
     },
     "metadata": {},
     "output_type": "display_data"
    },
    {
     "data": {
      "text/html": [
       "<pre>| 260          | 2e+007  | 0.441623    | 10.04s       |</pre>"
      ],
      "text/plain": [
       "| 260          | 2e+007  | 0.441623    | 10.04s       |"
      ]
     },
     "metadata": {},
     "output_type": "display_data"
    },
    {
     "data": {
      "text/html": [
       "<pre>| 286          | 2e+007  | 0.484358    | 11.03s       |</pre>"
      ],
      "text/plain": [
       "| 286          | 2e+007  | 0.484358    | 11.03s       |"
      ]
     },
     "metadata": {},
     "output_type": "display_data"
    },
    {
     "data": {
      "text/html": [
       "<pre>| 312          | 2e+007  | 0.529631    | 12.03s       |</pre>"
      ],
      "text/plain": [
       "| 312          | 2e+007  | 0.529631    | 12.03s       |"
      ]
     },
     "metadata": {},
     "output_type": "display_data"
    },
    {
     "data": {
      "text/html": [
       "<pre>| 339          | 2e+007  | 0.575009    | 13.03s       |</pre>"
      ],
      "text/plain": [
       "| 339          | 2e+007  | 0.575009    | 13.03s       |"
      ]
     },
     "metadata": {},
     "output_type": "display_data"
    },
    {
     "data": {
      "text/html": [
       "<pre>| 366          | 2e+007  | 0.620811    | 14.03s       |</pre>"
      ],
      "text/plain": [
       "| 366          | 2e+007  | 0.620811    | 14.03s       |"
      ]
     },
     "metadata": {},
     "output_type": "display_data"
    },
    {
     "data": {
      "text/html": [
       "<pre>| 389          | 2e+007  | 0.659737    | 15.03s       |</pre>"
      ],
      "text/plain": [
       "| 389          | 2e+007  | 0.659737    | 15.03s       |"
      ]
     },
     "metadata": {},
     "output_type": "display_data"
    },
    {
     "data": {
      "text/html": [
       "<pre>| 416          | 2e+007  | 0.704587    | 16.03s       |</pre>"
      ],
      "text/plain": [
       "| 416          | 2e+007  | 0.704587    | 16.03s       |"
      ]
     },
     "metadata": {},
     "output_type": "display_data"
    },
    {
     "data": {
      "text/html": [
       "<pre>| 442          | 3e+007  | 0.749649    | 17.02s       |</pre>"
      ],
      "text/plain": [
       "| 442          | 3e+007  | 0.749649    | 17.02s       |"
      ]
     },
     "metadata": {},
     "output_type": "display_data"
    },
    {
     "data": {
      "text/html": [
       "<pre>| 469          | 3e+007  | 0.795133    | 18.03s       |</pre>"
      ],
      "text/plain": [
       "| 469          | 3e+007  | 0.795133    | 18.03s       |"
      ]
     },
     "metadata": {},
     "output_type": "display_data"
    },
    {
     "data": {
      "text/html": [
       "<pre>| 493          | 3e+007  | 0.834906    | 19.03s       |</pre>"
      ],
      "text/plain": [
       "| 493          | 3e+007  | 0.834906    | 19.03s       |"
      ]
     },
     "metadata": {},
     "output_type": "display_data"
    },
    {
     "data": {
      "text/html": [
       "<pre>| 519          | 3e+007  | 0.878804    | 20.02s       |</pre>"
      ],
      "text/plain": [
       "| 519          | 3e+007  | 0.878804    | 20.02s       |"
      ]
     },
     "metadata": {},
     "output_type": "display_data"
    },
    {
     "data": {
      "text/html": [
       "<pre>| 544          | 3e+007  | 0.922173    | 21.02s       |</pre>"
      ],
      "text/plain": [
       "| 544          | 3e+007  | 0.922173    | 21.02s       |"
      ]
     },
     "metadata": {},
     "output_type": "display_data"
    },
    {
     "data": {
      "text/html": [
       "<pre>| 568          | 3e+007  | 0.962263    | 22.02s       |</pre>"
      ],
      "text/plain": [
       "| 568          | 3e+007  | 0.962263    | 22.02s       |"
      ]
     },
     "metadata": {},
     "output_type": "display_data"
    },
    {
     "data": {
      "text/html": [
       "<pre>| 595          | 4e+007  | 1.00764     | 23.02s       |</pre>"
      ],
      "text/plain": [
       "| 595          | 4e+007  | 1.00764     | 23.02s       |"
      ]
     },
     "metadata": {},
     "output_type": "display_data"
    },
    {
     "data": {
      "text/html": [
       "<pre>| 621          | 4e+007  | 1.05281     | 24.02s       |</pre>"
      ],
      "text/plain": [
       "| 621          | 4e+007  | 1.05281     | 24.02s       |"
      ]
     },
     "metadata": {},
     "output_type": "display_data"
    },
    {
     "data": {
      "text/html": [
       "<pre>| 647          | 4e+007  | 1.09554     | 25.02s       |</pre>"
      ],
      "text/plain": [
       "| 647          | 4e+007  | 1.09554     | 25.02s       |"
      ]
     },
     "metadata": {},
     "output_type": "display_data"
    },
    {
     "data": {
      "text/html": [
       "<pre>| 673          | 4e+007  | 1.13986     | 26.02s       |</pre>"
      ],
      "text/plain": [
       "| 673          | 4e+007  | 1.13986     | 26.02s       |"
      ]
     },
     "metadata": {},
     "output_type": "display_data"
    },
    {
     "data": {
      "text/html": [
       "<pre>| 700          | 4e+007  | 1.18577     | 27.02s       |</pre>"
      ],
      "text/plain": [
       "| 700          | 4e+007  | 1.18577     | 27.02s       |"
      ]
     },
     "metadata": {},
     "output_type": "display_data"
    },
    {
     "data": {
      "text/html": [
       "<pre>| 727          | 4e+007  | 1.23147     | 28.02s       |</pre>"
      ],
      "text/plain": [
       "| 727          | 4e+007  | 1.23147     | 28.02s       |"
      ]
     },
     "metadata": {},
     "output_type": "display_data"
    },
    {
     "data": {
      "text/html": [
       "<pre>| 751          | 4e+007  | 1.27262     | 29.02s       |</pre>"
      ],
      "text/plain": [
       "| 751          | 4e+007  | 1.27262     | 29.02s       |"
      ]
     },
     "metadata": {},
     "output_type": "display_data"
    },
    {
     "data": {
      "text/html": [
       "<pre>| 778          | 5e+007  | 1.31715     | 30.02s       |</pre>"
      ],
      "text/plain": [
       "| 778          | 5e+007  | 1.31715     | 30.02s       |"
      ]
     },
     "metadata": {},
     "output_type": "display_data"
    },
    {
     "data": {
      "text/html": [
       "<pre>| 803          | 5e+007  | 1.36062     | 31.02s       |</pre>"
      ],
      "text/plain": [
       "| 803          | 5e+007  | 1.36062     | 31.02s       |"
      ]
     },
     "metadata": {},
     "output_type": "display_data"
    },
    {
     "data": {
      "text/html": [
       "<pre>| 827          | 5e+007  | 1.40018     | 32.01s       |</pre>"
      ],
      "text/plain": [
       "| 827          | 5e+007  | 1.40018     | 32.01s       |"
      ]
     },
     "metadata": {},
     "output_type": "display_data"
    },
    {
     "data": {
      "text/html": [
       "<pre>| 849          | 5e+007  | 1.43879     | 33.01s       |</pre>"
      ],
      "text/plain": [
       "| 849          | 5e+007  | 1.43879     | 33.01s       |"
      ]
     },
     "metadata": {},
     "output_type": "display_data"
    },
    {
     "data": {
      "text/html": [
       "<pre>| 872          | 5e+007  | 1.47782     | 34.01s       |</pre>"
      ],
      "text/plain": [
       "| 872          | 5e+007  | 1.47782     | 34.01s       |"
      ]
     },
     "metadata": {},
     "output_type": "display_data"
    },
    {
     "data": {
      "text/html": [
       "<pre>| 890          | 5e+007  | 1.50713     | 35.01s       |</pre>"
      ],
      "text/plain": [
       "| 890          | 5e+007  | 1.50713     | 35.01s       |"
      ]
     },
     "metadata": {},
     "output_type": "display_data"
    },
    {
     "data": {
      "text/html": [
       "<pre>| 915          | 5e+007  | 1.55007     | 36.01s       |</pre>"
      ],
      "text/plain": [
       "| 915          | 5e+007  | 1.55007     | 36.01s       |"
      ]
     },
     "metadata": {},
     "output_type": "display_data"
    },
    {
     "data": {
      "text/html": [
       "<pre>| 941          | 6e+007  | 1.59418     | 37.01s       |</pre>"
      ],
      "text/plain": [
       "| 941          | 6e+007  | 1.59418     | 37.01s       |"
      ]
     },
     "metadata": {},
     "output_type": "display_data"
    },
    {
     "data": {
      "text/html": [
       "<pre>| 963          | 6e+007  | 1.63184     | 38.01s       |</pre>"
      ],
      "text/plain": [
       "| 963          | 6e+007  | 1.63184     | 38.01s       |"
      ]
     },
     "metadata": {},
     "output_type": "display_data"
    },
    {
     "data": {
      "text/html": [
       "<pre>| 987          | 6e+007  | 1.67203     | 39.01s       |</pre>"
      ],
      "text/plain": [
       "| 987          | 6e+007  | 1.67203     | 39.01s       |"
      ]
     },
     "metadata": {},
     "output_type": "display_data"
    },
    {
     "data": {
      "text/html": [
       "<pre>| 1013         | 6e+007  | 1.71635     | 40.01s       |</pre>"
      ],
      "text/plain": [
       "| 1013         | 6e+007  | 1.71635     | 40.01s       |"
      ]
     },
     "metadata": {},
     "output_type": "display_data"
    },
    {
     "data": {
      "text/html": [
       "<pre>| 1040         | 6e+007  | 1.7611      | 41.01s       |</pre>"
      ],
      "text/plain": [
       "| 1040         | 6e+007  | 1.7611      | 41.01s       |"
      ]
     },
     "metadata": {},
     "output_type": "display_data"
    },
    {
     "data": {
      "text/html": [
       "<pre>| 1064         | 6e+007  | 1.80172     | 42.01s       |</pre>"
      ],
      "text/plain": [
       "| 1064         | 6e+007  | 1.80172     | 42.01s       |"
      ]
     },
     "metadata": {},
     "output_type": "display_data"
    },
    {
     "data": {
      "text/html": [
       "<pre>| 1090         | 6e+007  | 1.84667     | 43.01s       |</pre>"
      ],
      "text/plain": [
       "| 1090         | 6e+007  | 1.84667     | 43.01s       |"
      ]
     },
     "metadata": {},
     "output_type": "display_data"
    },
    {
     "data": {
      "text/html": [
       "<pre>| 1110         | 7e+007  | 1.88031     | 44.01s       |</pre>"
      ],
      "text/plain": [
       "| 1110         | 7e+007  | 1.88031     | 44.01s       |"
      ]
     },
     "metadata": {},
     "output_type": "display_data"
    },
    {
     "data": {
      "text/html": [
       "<pre>| 1131         | 7e+007  | 1.91617     | 45.01s       |</pre>"
      ],
      "text/plain": [
       "| 1131         | 7e+007  | 1.91617     | 45.01s       |"
      ]
     },
     "metadata": {},
     "output_type": "display_data"
    },
    {
     "data": {
      "text/html": [
       "<pre>| 1156         | 7e+007  | 1.95774     | 46.01s       |</pre>"
      ],
      "text/plain": [
       "| 1156         | 7e+007  | 1.95774     | 46.01s       |"
      ]
     },
     "metadata": {},
     "output_type": "display_data"
    },
    {
     "data": {
      "text/html": [
       "<pre>| 1177         | 7e+007  | 1.99296     | 47.01s       |</pre>"
      ],
      "text/plain": [
       "| 1177         | 7e+007  | 1.99296     | 47.01s       |"
      ]
     },
     "metadata": {},
     "output_type": "display_data"
    },
    {
     "data": {
      "text/html": [
       "<pre>| 1203         | 7e+007  | 2.03813     | 48.00s       |</pre>"
      ],
      "text/plain": [
       "| 1203         | 7e+007  | 2.03813     | 48.00s       |"
      ]
     },
     "metadata": {},
     "output_type": "display_data"
    },
    {
     "data": {
      "text/html": [
       "<pre>| 1226         | 7e+007  | 2.07621     | 49.00s       |</pre>"
      ],
      "text/plain": [
       "| 1226         | 7e+007  | 2.07621     | 49.00s       |"
      ]
     },
     "metadata": {},
     "output_type": "display_data"
    },
    {
     "data": {
      "text/html": [
       "<pre>| 1248         | 7e+007  | 2.11344     | 50.00s       |</pre>"
      ],
      "text/plain": [
       "| 1248         | 7e+007  | 2.11344     | 50.00s       |"
      ]
     },
     "metadata": {},
     "output_type": "display_data"
    },
    {
     "data": {
      "text/html": [
       "<pre>| 1274         | 8e+007  | 2.15819     | 51.00s       |</pre>"
      ],
      "text/plain": [
       "| 1274         | 8e+007  | 2.15819     | 51.00s       |"
      ]
     },
     "metadata": {},
     "output_type": "display_data"
    },
    {
     "data": {
      "text/html": [
       "<pre>| 1295         | 8e+007  | 2.19394     | 52.00s       |</pre>"
      ],
      "text/plain": [
       "| 1295         | 8e+007  | 2.19394     | 52.00s       |"
      ]
     },
     "metadata": {},
     "output_type": "display_data"
    },
    {
     "data": {
      "text/html": [
       "<pre>| 1318         | 8e+007  | 2.23192     | 53.00s       |</pre>"
      ],
      "text/plain": [
       "| 1318         | 8e+007  | 2.23192     | 53.00s       |"
      ]
     },
     "metadata": {},
     "output_type": "display_data"
    },
    {
     "data": {
      "text/html": [
       "<pre>| 1345         | 8e+007  | 2.27751     | 53.99s       |</pre>"
      ],
      "text/plain": [
       "| 1345         | 8e+007  | 2.27751     | 53.99s       |"
      ]
     },
     "metadata": {},
     "output_type": "display_data"
    },
    {
     "data": {
      "text/html": [
       "<pre>| 1372         | 8e+007  | 2.32267     | 55.00s       |</pre>"
      ],
      "text/plain": [
       "| 1372         | 8e+007  | 2.32267     | 55.00s       |"
      ]
     },
     "metadata": {},
     "output_type": "display_data"
    },
    {
     "data": {
      "text/html": [
       "<pre>| 1397         | 8e+007  | 2.36615     | 55.99s       |</pre>"
      ],
      "text/plain": [
       "| 1397         | 8e+007  | 2.36615     | 55.99s       |"
      ]
     },
     "metadata": {},
     "output_type": "display_data"
    },
    {
     "data": {
      "text/html": [
       "<pre>| 1417         | 8e+007  | 2.39936     | 56.99s       |</pre>"
      ],
      "text/plain": [
       "| 1417         | 8e+007  | 2.39936     | 56.99s       |"
      ]
     },
     "metadata": {},
     "output_type": "display_data"
    },
    {
     "data": {
      "text/html": [
       "<pre>| 1438         | 8e+007  | 2.43438     | 57.99s       |</pre>"
      ],
      "text/plain": [
       "| 1438         | 8e+007  | 2.43438     | 57.99s       |"
      ]
     },
     "metadata": {},
     "output_type": "display_data"
    },
    {
     "data": {
      "text/html": [
       "<pre>| 1463         | 9e+007  | 2.47679     | 58.99s       |</pre>"
      ],
      "text/plain": [
       "| 1463         | 9e+007  | 2.47679     | 58.99s       |"
      ]
     },
     "metadata": {},
     "output_type": "display_data"
    },
    {
     "data": {
      "text/html": [
       "<pre>| 1486         | 9e+007  | 2.51646     | 59.99s       |</pre>"
      ],
      "text/plain": [
       "| 1486         | 9e+007  | 2.51646     | 59.99s       |"
      ]
     },
     "metadata": {},
     "output_type": "display_data"
    },
    {
     "data": {
      "text/html": [
       "<pre>| 1511         | 9e+007  | 2.55888     | 1m 0s        |</pre>"
      ],
      "text/plain": [
       "| 1511         | 9e+007  | 2.55888     | 1m 0s        |"
      ]
     },
     "metadata": {},
     "output_type": "display_data"
    },
    {
     "data": {
      "text/html": [
       "<pre>| 1537         | 9e+007  | 2.60351     | 1m 1s        |</pre>"
      ],
      "text/plain": [
       "| 1537         | 9e+007  | 2.60351     | 1m 1s        |"
      ]
     },
     "metadata": {},
     "output_type": "display_data"
    },
    {
     "data": {
      "text/html": [
       "<pre>| 1562         | 9e+007  | 2.64508     | 1m 2s        |</pre>"
      ],
      "text/plain": [
       "| 1562         | 9e+007  | 2.64508     | 1m 2s        |"
      ]
     },
     "metadata": {},
     "output_type": "display_data"
    },
    {
     "data": {
      "text/html": [
       "<pre>| 1587         | 9e+007  | 2.68824     | 1m 3s        |</pre>"
      ],
      "text/plain": [
       "| 1587         | 9e+007  | 2.68824     | 1m 3s        |"
      ]
     },
     "metadata": {},
     "output_type": "display_data"
    },
    {
     "data": {
      "text/html": [
       "<pre>| 1613         | 1e+008  | 2.73119     | 1m 4s        |</pre>"
      ],
      "text/plain": [
       "| 1613         | 1e+008  | 2.73119     | 1m 4s        |"
      ]
     },
     "metadata": {},
     "output_type": "display_data"
    },
    {
     "data": {
      "text/html": [
       "<pre>| 1638         | 1e+008  | 2.77392     | 1m 5s        |</pre>"
      ],
      "text/plain": [
       "| 1638         | 1e+008  | 2.77392     | 1m 5s        |"
      ]
     },
     "metadata": {},
     "output_type": "display_data"
    },
    {
     "data": {
      "text/html": [
       "<pre>| 1663         | 1e+008  | 2.81528     | 1m 6s        |</pre>"
      ],
      "text/plain": [
       "| 1663         | 1e+008  | 2.81528     | 1m 6s        |"
      ]
     },
     "metadata": {},
     "output_type": "display_data"
    },
    {
     "data": {
      "text/html": [
       "<pre>| 1685         | 1e+008  | 2.85389     | 1m 7s        |</pre>"
      ],
      "text/plain": [
       "| 1685         | 1e+008  | 2.85389     | 1m 7s        |"
      ]
     },
     "metadata": {},
     "output_type": "display_data"
    },
    {
     "data": {
      "text/html": [
       "<pre>| 1712         | 1e+008  | 2.89832     | 1m 8s        |</pre>"
      ],
      "text/plain": [
       "| 1712         | 1e+008  | 2.89832     | 1m 8s        |"
      ]
     },
     "metadata": {},
     "output_type": "display_data"
    },
    {
     "data": {
      "text/html": [
       "<pre>| 1738         | 1e+008  | 2.94348     | 1m 9s        |</pre>"
      ],
      "text/plain": [
       "| 1738         | 1e+008  | 2.94348     | 1m 9s        |"
      ]
     },
     "metadata": {},
     "output_type": "display_data"
    },
    {
     "data": {
      "text/html": [
       "<pre>| 1765         | 1e+008  | 2.98833     | 1m 10s       |</pre>"
      ],
      "text/plain": [
       "| 1765         | 1e+008  | 2.98833     | 1m 10s       |"
      ]
     },
     "metadata": {},
     "output_type": "display_data"
    },
    {
     "data": {
      "text/html": [
       "<pre>| 1791         | 1e+008  | 3.03255     | 1m 11s       |</pre>"
      ],
      "text/plain": [
       "| 1791         | 1e+008  | 3.03255     | 1m 11s       |"
      ]
     },
     "metadata": {},
     "output_type": "display_data"
    },
    {
     "data": {
      "text/html": [
       "<pre>| 1815         | 1e+008  | 3.07306     | 1m 12s       |</pre>"
      ],
      "text/plain": [
       "| 1815         | 1e+008  | 3.07306     | 1m 12s       |"
      ]
     },
     "metadata": {},
     "output_type": "display_data"
    },
    {
     "data": {
      "text/html": [
       "<pre>| 1841         | 1e+008  | 3.11791     | 1m 13s       |</pre>"
      ],
      "text/plain": [
       "| 1841         | 1e+008  | 3.11791     | 1m 13s       |"
      ]
     },
     "metadata": {},
     "output_type": "display_data"
    },
    {
     "data": {
      "text/html": [
       "<pre>| 1868         | 1e+008  | 3.16276     | 1m 14s       |</pre>"
      ],
      "text/plain": [
       "| 1868         | 1e+008  | 3.16276     | 1m 14s       |"
      ]
     },
     "metadata": {},
     "output_type": "display_data"
    },
    {
     "data": {
      "text/html": [
       "<pre>| 1894         | 1e+008  | 3.20761     | 1m 15s       |</pre>"
      ],
      "text/plain": [
       "| 1894         | 1e+008  | 3.20761     | 1m 15s       |"
      ]
     },
     "metadata": {},
     "output_type": "display_data"
    },
    {
     "data": {
      "text/html": [
       "<pre>| 1916         | 1e+008  | 3.24495     | 1m 16s       |</pre>"
      ],
      "text/plain": [
       "| 1916         | 1e+008  | 3.24495     | 1m 16s       |"
      ]
     },
     "metadata": {},
     "output_type": "display_data"
    },
    {
     "data": {
      "text/html": [
       "<pre>| 1938         | 1e+008  | 3.28123     | 1m 17s       |</pre>"
      ],
      "text/plain": [
       "| 1938         | 1e+008  | 3.28123     | 1m 17s       |"
      ]
     },
     "metadata": {},
     "output_type": "display_data"
    },
    {
     "data": {
      "text/html": [
       "<pre>| 1961         | 1e+008  | 3.32111     | 1m 18s       |</pre>"
      ],
      "text/plain": [
       "| 1961         | 1e+008  | 3.32111     | 1m 18s       |"
      ]
     },
     "metadata": {},
     "output_type": "display_data"
    },
    {
     "data": {
      "text/html": [
       "<pre>| 1984         | 1e+008  | 3.36036     | 1m 19s       |</pre>"
      ],
      "text/plain": [
       "| 1984         | 1e+008  | 3.36036     | 1m 19s       |"
      ]
     },
     "metadata": {},
     "output_type": "display_data"
    },
    {
     "data": {
      "text/html": [
       "<pre>| 2005         | 1e+008  | 3.39431     | 1m 20s       |</pre>"
      ],
      "text/plain": [
       "| 2005         | 1e+008  | 3.39431     | 1m 20s       |"
      ]
     },
     "metadata": {},
     "output_type": "display_data"
    },
    {
     "data": {
      "text/html": [
       "<pre>| 2022         | 1e+008  | 3.42446     | 1m 21s       |</pre>"
      ],
      "text/plain": [
       "| 2022         | 1e+008  | 3.42446     | 1m 21s       |"
      ]
     },
     "metadata": {},
     "output_type": "display_data"
    },
    {
     "data": {
      "text/html": [
       "<pre>| 2043         | 1e+008  | 3.45979     | 1m 22s       |</pre>"
      ],
      "text/plain": [
       "| 2043         | 1e+008  | 3.45979     | 1m 22s       |"
      ]
     },
     "metadata": {},
     "output_type": "display_data"
    },
    {
     "data": {
      "text/html": [
       "<pre>| 2061         | 1e+008  | 3.48993     | 1m 23s       |</pre>"
      ],
      "text/plain": [
       "| 2061         | 1e+008  | 3.48993     | 1m 23s       |"
      ]
     },
     "metadata": {},
     "output_type": "display_data"
    },
    {
     "data": {
      "text/html": [
       "<pre>| 2079         | 1e+008  | 3.5205      | 1m 24s       |</pre>"
      ],
      "text/plain": [
       "| 2079         | 1e+008  | 3.5205      | 1m 24s       |"
      ]
     },
     "metadata": {},
     "output_type": "display_data"
    },
    {
     "data": {
      "text/html": [
       "<pre>| 2100         | 1e+008  | 3.55626     | 1m 25s       |</pre>"
      ],
      "text/plain": [
       "| 2100         | 1e+008  | 3.55626     | 1m 25s       |"
      ]
     },
     "metadata": {},
     "output_type": "display_data"
    },
    {
     "data": {
      "text/html": [
       "<pre>| 2126         | 1e+008  | 3.60037     | 1m 26s       |</pre>"
      ],
      "text/plain": [
       "| 2126         | 1e+008  | 3.60037     | 1m 26s       |"
      ]
     },
     "metadata": {},
     "output_type": "display_data"
    },
    {
     "data": {
      "text/html": [
       "<pre>| 2152         | 1e+008  | 3.64405     | 1m 27s       |</pre>"
      ],
      "text/plain": [
       "| 2152         | 1e+008  | 3.64405     | 1m 27s       |"
      ]
     },
     "metadata": {},
     "output_type": "display_data"
    },
    {
     "data": {
      "text/html": [
       "<pre>| 2178         | 1e+008  | 3.68827     | 1m 28s       |</pre>"
      ],
      "text/plain": [
       "| 2178         | 1e+008  | 3.68827     | 1m 28s       |"
      ]
     },
     "metadata": {},
     "output_type": "display_data"
    },
    {
     "data": {
      "text/html": [
       "<pre>| 2205         | 1e+008  | 3.73291     | 1m 29s       |</pre>"
      ],
      "text/plain": [
       "| 2205         | 1e+008  | 3.73291     | 1m 29s       |"
      ]
     },
     "metadata": {},
     "output_type": "display_data"
    },
    {
     "data": {
      "text/html": [
       "<pre>| 2230         | 1e+008  | 3.77522     | 1m 30s       |</pre>"
      ],
      "text/plain": [
       "| 2230         | 1e+008  | 3.77522     | 1m 30s       |"
      ]
     },
     "metadata": {},
     "output_type": "display_data"
    },
    {
     "data": {
      "text/html": [
       "<pre>| 2254         | 1e+008  | 3.81584     | 1m 31s       |</pre>"
      ],
      "text/plain": [
       "| 2254         | 1e+008  | 3.81584     | 1m 31s       |"
      ]
     },
     "metadata": {},
     "output_type": "display_data"
    },
    {
     "data": {
      "text/html": [
       "<pre>| 2280         | 1e+008  | 3.86016     | 1m 32s       |</pre>"
      ],
      "text/plain": [
       "| 2280         | 1e+008  | 3.86016     | 1m 32s       |"
      ]
     },
     "metadata": {},
     "output_type": "display_data"
    },
    {
     "data": {
      "text/html": [
       "<pre>| 2305         | 1e+008  | 3.90236     | 1m 33s       |</pre>"
      ],
      "text/plain": [
       "| 2305         | 1e+008  | 3.90236     | 1m 33s       |"
      ]
     },
     "metadata": {},
     "output_type": "display_data"
    },
    {
     "data": {
      "text/html": [
       "<pre>| 2330         | 1e+008  | 3.9452      | 1m 34s       |</pre>"
      ],
      "text/plain": [
       "| 2330         | 1e+008  | 3.9452      | 1m 34s       |"
      ]
     },
     "metadata": {},
     "output_type": "display_data"
    },
    {
     "data": {
      "text/html": [
       "<pre>| 2357         | 1e+008  | 3.99016     | 1m 35s       |</pre>"
      ],
      "text/plain": [
       "| 2357         | 1e+008  | 3.99016     | 1m 35s       |"
      ]
     },
     "metadata": {},
     "output_type": "display_data"
    },
    {
     "data": {
      "text/html": [
       "<pre>| 2383         | 1e+008  | 4.03522     | 1m 36s       |</pre>"
      ],
      "text/plain": [
       "| 2383         | 1e+008  | 4.03522     | 1m 36s       |"
      ]
     },
     "metadata": {},
     "output_type": "display_data"
    },
    {
     "data": {
      "text/html": [
       "<pre>| 2404         | 1e+008  | 4.07023     | 1m 37s       |</pre>"
      ],
      "text/plain": [
       "| 2404         | 1e+008  | 4.07023     | 1m 37s       |"
      ]
     },
     "metadata": {},
     "output_type": "display_data"
    },
    {
     "data": {
      "text/html": [
       "<pre>| 2422         | 1e+008  | 4.10091     | 1m 38s       |</pre>"
      ],
      "text/plain": [
       "| 2422         | 1e+008  | 4.10091     | 1m 38s       |"
      ]
     },
     "metadata": {},
     "output_type": "display_data"
    },
    {
     "data": {
      "text/html": [
       "<pre>| 2446         | 1e+008  | 4.1411      | 1m 39s       |</pre>"
      ],
      "text/plain": [
       "| 2446         | 1e+008  | 4.1411      | 1m 39s       |"
      ]
     },
     "metadata": {},
     "output_type": "display_data"
    },
    {
     "data": {
      "text/html": [
       "<pre>| 2463         | 1e+008  | 4.17093     | 1m 40s       |</pre>"
      ],
      "text/plain": [
       "| 2463         | 1e+008  | 4.17093     | 1m 40s       |"
      ]
     },
     "metadata": {},
     "output_type": "display_data"
    },
    {
     "data": {
      "text/html": [
       "<pre>| 2482         | 1e+008  | 4.20298     | 1m 41s       |</pre>"
      ],
      "text/plain": [
       "| 2482         | 1e+008  | 4.20298     | 1m 41s       |"
      ]
     },
     "metadata": {},
     "output_type": "display_data"
    },
    {
     "data": {
      "text/html": [
       "<pre>| 2504         | 1e+008  | 4.23916     | 1m 42s       |</pre>"
      ],
      "text/plain": [
       "| 2504         | 1e+008  | 4.23916     | 1m 42s       |"
      ]
     },
     "metadata": {},
     "output_type": "display_data"
    },
    {
     "data": {
      "text/html": [
       "<pre>| 2527         | 1e+008  | 4.27914     | 1m 43s       |</pre>"
      ],
      "text/plain": [
       "| 2527         | 1e+008  | 4.27914     | 1m 43s       |"
      ]
     },
     "metadata": {},
     "output_type": "display_data"
    },
    {
     "data": {
      "text/html": [
       "<pre>| 2546         | 2e+008  | 4.31141     | 1m 44s       |</pre>"
      ],
      "text/plain": [
       "| 2546         | 2e+008  | 4.31141     | 1m 44s       |"
      ]
     },
     "metadata": {},
     "output_type": "display_data"
    },
    {
     "data": {
      "text/html": [
       "<pre>| 2572         | 2e+008  | 4.35573     | 1m 45s       |</pre>"
      ],
      "text/plain": [
       "| 2572         | 2e+008  | 4.35573     | 1m 45s       |"
      ]
     },
     "metadata": {},
     "output_type": "display_data"
    },
    {
     "data": {
      "text/html": [
       "<pre>| 2600         | 2e+008  | 4.40163     | 1m 46s       |</pre>"
      ],
      "text/plain": [
       "| 2600         | 2e+008  | 4.40163     | 1m 46s       |"
      ]
     },
     "metadata": {},
     "output_type": "display_data"
    },
    {
     "data": {
      "text/html": [
       "<pre>| 2627         | 2e+008  | 4.44722     | 1m 47s       |</pre>"
      ],
      "text/plain": [
       "| 2627         | 2e+008  | 4.44722     | 1m 47s       |"
      ]
     },
     "metadata": {},
     "output_type": "display_data"
    },
    {
     "data": {
      "text/html": [
       "<pre>| 2652         | 2e+008  | 4.48975     | 1m 48s       |</pre>"
      ],
      "text/plain": [
       "| 2652         | 2e+008  | 4.48975     | 1m 48s       |"
      ]
     },
     "metadata": {},
     "output_type": "display_data"
    },
    {
     "data": {
      "text/html": [
       "<pre>| 2678         | 2e+008  | 4.53396     | 1m 49s       |</pre>"
      ],
      "text/plain": [
       "| 2678         | 2e+008  | 4.53396     | 1m 49s       |"
      ]
     },
     "metadata": {},
     "output_type": "display_data"
    },
    {
     "data": {
      "text/html": [
       "<pre>| 2704         | 2e+008  | 4.57892     | 1m 50s       |</pre>"
      ],
      "text/plain": [
       "| 2704         | 2e+008  | 4.57892     | 1m 50s       |"
      ]
     },
     "metadata": {},
     "output_type": "display_data"
    },
    {
     "data": {
      "text/html": [
       "<pre>| 2732         | 2e+008  | 4.62514     | 1m 51s       |</pre>"
      ],
      "text/plain": [
       "| 2732         | 2e+008  | 4.62514     | 1m 51s       |"
      ]
     },
     "metadata": {},
     "output_type": "display_data"
    },
    {
     "data": {
      "text/html": [
       "<pre>| 2759         | 2e+008  | 4.67084     | 1m 52s       |</pre>"
      ],
      "text/plain": [
       "| 2759         | 2e+008  | 4.67084     | 1m 52s       |"
      ]
     },
     "metadata": {},
     "output_type": "display_data"
    },
    {
     "data": {
      "text/html": [
       "<pre>| 2785         | 2e+008  | 4.71632     | 1m 53s       |</pre>"
      ],
      "text/plain": [
       "| 2785         | 2e+008  | 4.71632     | 1m 53s       |"
      ]
     },
     "metadata": {},
     "output_type": "display_data"
    },
    {
     "data": {
      "text/html": [
       "<pre>| 2812         | 2e+008  | 4.76086     | 1m 54s       |</pre>"
      ],
      "text/plain": [
       "| 2812         | 2e+008  | 4.76086     | 1m 54s       |"
      ]
     },
     "metadata": {},
     "output_type": "display_data"
    },
    {
     "data": {
      "text/html": [
       "<pre>| 2833         | 2e+008  | 4.79735     | 1m 55s       |</pre>"
      ],
      "text/plain": [
       "| 2833         | 2e+008  | 4.79735     | 1m 55s       |"
      ]
     },
     "metadata": {},
     "output_type": "display_data"
    },
    {
     "data": {
      "text/html": [
       "<pre>| 2857         | 2e+008  | 4.83681     | 1m 56s       |</pre>"
      ],
      "text/plain": [
       "| 2857         | 2e+008  | 4.83681     | 1m 56s       |"
      ]
     },
     "metadata": {},
     "output_type": "display_data"
    },
    {
     "data": {
      "text/html": [
       "<pre>| 2881         | 2e+008  | 4.87732     | 1m 57s       |</pre>"
      ],
      "text/plain": [
       "| 2881         | 2e+008  | 4.87732     | 1m 57s       |"
      ]
     },
     "metadata": {},
     "output_type": "display_data"
    },
    {
     "data": {
      "text/html": [
       "<pre>| 2907         | 2e+008  | 4.92206     | 1m 58s       |</pre>"
      ],
      "text/plain": [
       "| 2907         | 2e+008  | 4.92206     | 1m 58s       |"
      ]
     },
     "metadata": {},
     "output_type": "display_data"
    },
    {
     "data": {
      "text/html": [
       "<pre>| 2933         | 2e+008  | 4.96607     | 1m 59s       |</pre>"
      ],
      "text/plain": [
       "| 2933         | 2e+008  | 4.96607     | 1m 59s       |"
      ]
     },
     "metadata": {},
     "output_type": "display_data"
    },
    {
     "data": {
      "text/html": [
       "<pre>| 2959         | 2e+008  | 5.0107      | 2m 0s        |</pre>"
      ],
      "text/plain": [
       "| 2959         | 2e+008  | 5.0107      | 2m 0s        |"
      ]
     },
     "metadata": {},
     "output_type": "display_data"
    },
    {
     "data": {
      "text/html": [
       "<pre>| 2986         | 2e+008  | 5.05619     | 2m 1s        |</pre>"
      ],
      "text/plain": [
       "| 2986         | 2e+008  | 5.05619     | 2m 1s        |"
      ]
     },
     "metadata": {},
     "output_type": "display_data"
    },
    {
     "data": {
      "text/html": [
       "<pre>| 3013         | 2e+008  | 5.10146     | 2m 2s        |</pre>"
      ],
      "text/plain": [
       "| 3013         | 2e+008  | 5.10146     | 2m 2s        |"
      ]
     },
     "metadata": {},
     "output_type": "display_data"
    },
    {
     "data": {
      "text/html": [
       "<pre>| 3040         | 2e+008  | 5.14695     | 2m 3s        |</pre>"
      ],
      "text/plain": [
       "| 3040         | 2e+008  | 5.14695     | 2m 3s        |"
      ]
     },
     "metadata": {},
     "output_type": "display_data"
    },
    {
     "data": {
      "text/html": [
       "<pre>| 3067         | 2e+008  | 5.19222     | 2m 4s        |</pre>"
      ],
      "text/plain": [
       "| 3067         | 2e+008  | 5.19222     | 2m 4s        |"
      ]
     },
     "metadata": {},
     "output_type": "display_data"
    },
    {
     "data": {
      "text/html": [
       "<pre>| 3093         | 2e+008  | 5.23686     | 2m 5s        |</pre>"
      ],
      "text/plain": [
       "| 3093         | 2e+008  | 5.23686     | 2m 5s        |"
      ]
     },
     "metadata": {},
     "output_type": "display_data"
    },
    {
     "data": {
      "text/html": [
       "<pre>| 3120         | 2e+008  | 5.28298     | 2m 6s        |</pre>"
      ],
      "text/plain": [
       "| 3120         | 2e+008  | 5.28298     | 2m 6s        |"
      ]
     },
     "metadata": {},
     "output_type": "display_data"
    },
    {
     "data": {
      "text/html": [
       "<pre>| 3146         | 2e+008  | 5.3273      | 2m 7s        |</pre>"
      ],
      "text/plain": [
       "| 3146         | 2e+008  | 5.3273      | 2m 7s        |"
      ]
     },
     "metadata": {},
     "output_type": "display_data"
    },
    {
     "data": {
      "text/html": [
       "<pre>| 3174         | 2e+008  | 5.37321     | 2m 8s        |</pre>"
      ],
      "text/plain": [
       "| 3174         | 2e+008  | 5.37321     | 2m 8s        |"
      ]
     },
     "metadata": {},
     "output_type": "display_data"
    },
    {
     "data": {
      "text/html": [
       "<pre>| 3200         | 2e+008  | 5.41795     | 2m 9s        |</pre>"
      ],
      "text/plain": [
       "| 3200         | 2e+008  | 5.41795     | 2m 9s        |"
      ]
     },
     "metadata": {},
     "output_type": "display_data"
    },
    {
     "data": {
      "text/html": [
       "<pre>| 3227         | 2e+008  | 5.46322     | 2m 10s       |</pre>"
      ],
      "text/plain": [
       "| 3227         | 2e+008  | 5.46322     | 2m 10s       |"
      ]
     },
     "metadata": {},
     "output_type": "display_data"
    },
    {
     "data": {
      "text/html": [
       "<pre>| 3254         | 2e+008  | 5.50902     | 2m 11s       |</pre>"
      ],
      "text/plain": [
       "| 3254         | 2e+008  | 5.50902     | 2m 11s       |"
      ]
     },
     "metadata": {},
     "output_type": "display_data"
    },
    {
     "data": {
      "text/html": [
       "<pre>| 3280         | 2e+008  | 5.55398     | 2m 12s       |</pre>"
      ],
      "text/plain": [
       "| 3280         | 2e+008  | 5.55398     | 2m 12s       |"
      ]
     },
     "metadata": {},
     "output_type": "display_data"
    },
    {
     "data": {
      "text/html": [
       "<pre>| 3307         | 2e+008  | 5.59999     | 2m 13s       |</pre>"
      ],
      "text/plain": [
       "| 3307         | 2e+008  | 5.59999     | 2m 13s       |"
      ]
     },
     "metadata": {},
     "output_type": "display_data"
    },
    {
     "data": {
      "text/html": [
       "<pre>| 3334         | 2e+008  | 5.64558     | 2m 14s       |</pre>"
      ],
      "text/plain": [
       "| 3334         | 2e+008  | 5.64558     | 2m 14s       |"
      ]
     },
     "metadata": {},
     "output_type": "display_data"
    },
    {
     "data": {
      "text/html": [
       "<pre>| 3360         | 2e+008  | 5.68938     | 2m 15s       |</pre>"
      ],
      "text/plain": [
       "| 3360         | 2e+008  | 5.68938     | 2m 15s       |"
      ]
     },
     "metadata": {},
     "output_type": "display_data"
    },
    {
     "data": {
      "text/html": [
       "<pre>| 3383         | 2e+008  | 5.72799     | 2m 16s       |</pre>"
      ],
      "text/plain": [
       "| 3383         | 2e+008  | 5.72799     | 2m 16s       |"
      ]
     },
     "metadata": {},
     "output_type": "display_data"
    },
    {
     "data": {
      "text/html": [
       "<pre>| 3407         | 2e+008  | 5.76765     | 2m 17s       |</pre>"
      ],
      "text/plain": [
       "| 3407         | 2e+008  | 5.76765     | 2m 17s       |"
      ]
     },
     "metadata": {},
     "output_type": "display_data"
    },
    {
     "data": {
      "text/html": [
       "<pre>| 3430         | 2e+008  | 5.8069      | 2m 18s       |</pre>"
      ],
      "text/plain": [
       "| 3430         | 2e+008  | 5.8069      | 2m 18s       |"
      ]
     },
     "metadata": {},
     "output_type": "display_data"
    },
    {
     "data": {
      "text/html": [
       "<pre>| 3453         | 2e+008  | 5.84624     | 2m 19s       |</pre>"
      ],
      "text/plain": [
       "| 3453         | 2e+008  | 5.84624     | 2m 19s       |"
      ]
     },
     "metadata": {},
     "output_type": "display_data"
    },
    {
     "data": {
      "text/html": [
       "<pre>| 3476         | 2e+008  | 5.88496     | 2m 20s       |</pre>"
      ],
      "text/plain": [
       "| 3476         | 2e+008  | 5.88496     | 2m 20s       |"
      ]
     },
     "metadata": {},
     "output_type": "display_data"
    },
    {
     "data": {
      "text/html": [
       "<pre>| 3503         | 2e+008  | 5.93055     | 2m 21s       |</pre>"
      ],
      "text/plain": [
       "| 3503         | 2e+008  | 5.93055     | 2m 21s       |"
      ]
     },
     "metadata": {},
     "output_type": "display_data"
    },
    {
     "data": {
      "text/html": [
       "<pre>| 3524         | 2e+008  | 5.96651     | 2m 22s       |</pre>"
      ],
      "text/plain": [
       "| 3524         | 2e+008  | 5.96651     | 2m 22s       |"
      ]
     },
     "metadata": {},
     "output_type": "display_data"
    },
    {
     "data": {
      "text/html": [
       "<pre>| 3550         | 2e+008  | 6.00999     | 2m 23s       |</pre>"
      ],
      "text/plain": [
       "| 3550         | 2e+008  | 6.00999     | 2m 23s       |"
      ]
     },
     "metadata": {},
     "output_type": "display_data"
    },
    {
     "data": {
      "text/html": [
       "<pre>| 3577         | 2e+008  | 6.05558     | 2m 24s       |</pre>"
      ],
      "text/plain": [
       "| 3577         | 2e+008  | 6.05558     | 2m 24s       |"
      ]
     },
     "metadata": {},
     "output_type": "display_data"
    },
    {
     "data": {
      "text/html": [
       "<pre>| 3603         | 2e+008  | 6.10075     | 2m 25s       |</pre>"
      ],
      "text/plain": [
       "| 3603         | 2e+008  | 6.10075     | 2m 25s       |"
      ]
     },
     "metadata": {},
     "output_type": "display_data"
    },
    {
     "data": {
      "text/html": [
       "<pre>| 3628         | 2e+008  | 6.14253     | 2m 26s       |</pre>"
      ],
      "text/plain": [
       "| 3628         | 2e+008  | 6.14253     | 2m 26s       |"
      ]
     },
     "metadata": {},
     "output_type": "display_data"
    },
    {
     "data": {
      "text/html": [
       "<pre>| 3646         | 2e+008  | 6.17384     | 2m 27s       |</pre>"
      ],
      "text/plain": [
       "| 3646         | 2e+008  | 6.17384     | 2m 27s       |"
      ]
     },
     "metadata": {},
     "output_type": "display_data"
    },
    {
     "data": {
      "text/html": [
       "<pre>| 3668         | 2e+008  | 6.20959     | 2m 28s       |</pre>"
      ],
      "text/plain": [
       "| 3668         | 2e+008  | 6.20959     | 2m 28s       |"
      ]
     },
     "metadata": {},
     "output_type": "display_data"
    },
    {
     "data": {
      "text/html": [
       "<pre>| 3687         | 2e+008  | 6.24281     | 2m 29s       |</pre>"
      ],
      "text/plain": [
       "| 3687         | 2e+008  | 6.24281     | 2m 29s       |"
      ]
     },
     "metadata": {},
     "output_type": "display_data"
    },
    {
     "data": {
      "text/html": [
       "<pre>| 3707         | 2e+008  | 6.2755      | 2m 30s       |</pre>"
      ],
      "text/plain": [
       "| 3707         | 2e+008  | 6.2755      | 2m 30s       |"
      ]
     },
     "metadata": {},
     "output_type": "display_data"
    },
    {
     "data": {
      "text/html": [
       "<pre>| 3731         | 2e+008  | 6.31655     | 2m 31s       |</pre>"
      ],
      "text/plain": [
       "| 3731         | 2e+008  | 6.31655     | 2m 31s       |"
      ]
     },
     "metadata": {},
     "output_type": "display_data"
    },
    {
     "data": {
      "text/html": [
       "<pre>| 3752         | 2e+008  | 6.35306     | 2m 32s       |</pre>"
      ],
      "text/plain": [
       "| 3752         | 2e+008  | 6.35306     | 2m 32s       |"
      ]
     },
     "metadata": {},
     "output_type": "display_data"
    },
    {
     "data": {
      "text/html": [
       "<pre>| 3773         | 2e+008  | 6.38723     | 2m 33s       |</pre>"
      ],
      "text/plain": [
       "| 3773         | 2e+008  | 6.38723     | 2m 33s       |"
      ]
     },
     "metadata": {},
     "output_type": "display_data"
    },
    {
     "data": {
      "text/html": [
       "<pre>| 3794         | 2e+008  | 6.42331     | 2m 34s       |</pre>"
      ],
      "text/plain": [
       "| 3794         | 2e+008  | 6.42331     | 2m 34s       |"
      ]
     },
     "metadata": {},
     "output_type": "display_data"
    },
    {
     "data": {
      "text/html": [
       "<pre>| 3818         | 2e+008  | 6.46405     | 2m 35s       |</pre>"
      ],
      "text/plain": [
       "| 3818         | 2e+008  | 6.46405     | 2m 35s       |"
      ]
     },
     "metadata": {},
     "output_type": "display_data"
    },
    {
     "data": {
      "text/html": [
       "<pre>| 3844         | 2e+008  | 6.50859     | 2m 36s       |</pre>"
      ],
      "text/plain": [
       "| 3844         | 2e+008  | 6.50859     | 2m 36s       |"
      ]
     },
     "metadata": {},
     "output_type": "display_data"
    },
    {
     "data": {
      "text/html": [
       "<pre>| 3870         | 2e+008  | 6.55271     | 2m 37s       |</pre>"
      ],
      "text/plain": [
       "| 3870         | 2e+008  | 6.55271     | 2m 37s       |"
      ]
     },
     "metadata": {},
     "output_type": "display_data"
    },
    {
     "data": {
      "text/html": [
       "<pre>| 3897         | 2e+008  | 6.59715     | 2m 38s       |</pre>"
      ],
      "text/plain": [
       "| 3897         | 2e+008  | 6.59715     | 2m 38s       |"
      ]
     },
     "metadata": {},
     "output_type": "display_data"
    },
    {
     "data": {
      "text/html": [
       "<pre>| 3922         | 2e+008  | 6.64032     | 2m 39s       |</pre>"
      ],
      "text/plain": [
       "| 3922         | 2e+008  | 6.64032     | 2m 39s       |"
      ]
     },
     "metadata": {},
     "output_type": "display_data"
    },
    {
     "data": {
      "text/html": [
       "<pre>| 3948         | 2e+008  | 6.68434     | 2m 40s       |</pre>"
      ],
      "text/plain": [
       "| 3948         | 2e+008  | 6.68434     | 2m 40s       |"
      ]
     },
     "metadata": {},
     "output_type": "display_data"
    },
    {
     "data": {
      "text/html": [
       "<pre>| 3974         | 2e+008  | 6.72878     | 2m 41s       |</pre>"
      ],
      "text/plain": [
       "| 3974         | 2e+008  | 6.72878     | 2m 41s       |"
      ]
     },
     "metadata": {},
     "output_type": "display_data"
    },
    {
     "data": {
      "text/html": [
       "<pre>| 4000         | 2e+008  | 6.77237     | 2m 42s       |</pre>"
      ],
      "text/plain": [
       "| 4000         | 2e+008  | 6.77237     | 2m 42s       |"
      ]
     },
     "metadata": {},
     "output_type": "display_data"
    },
    {
     "data": {
      "text/html": [
       "<pre>| 4026         | 2e+008  | 6.81607     | 2m 43s       |</pre>"
      ],
      "text/plain": [
       "| 4026         | 2e+008  | 6.81607     | 2m 43s       |"
      ]
     },
     "metadata": {},
     "output_type": "display_data"
    },
    {
     "data": {
      "text/html": [
       "<pre>| 4052         | 2e+008  | 6.85955     | 2m 44s       |</pre>"
      ],
      "text/plain": [
       "| 4052         | 2e+008  | 6.85955     | 2m 44s       |"
      ]
     },
     "metadata": {},
     "output_type": "display_data"
    },
    {
     "data": {
      "text/html": [
       "<pre>| 4077         | 2e+008  | 6.90336     | 2m 45s       |</pre>"
      ],
      "text/plain": [
       "| 4077         | 2e+008  | 6.90336     | 2m 45s       |"
      ]
     },
     "metadata": {},
     "output_type": "display_data"
    },
    {
     "data": {
      "text/html": [
       "<pre>| 4103         | 2e+008  | 6.94695     | 2m 46s       |</pre>"
      ],
      "text/plain": [
       "| 4103         | 2e+008  | 6.94695     | 2m 46s       |"
      ]
     },
     "metadata": {},
     "output_type": "display_data"
    },
    {
     "data": {
      "text/html": [
       "<pre>| 4129         | 2e+008  | 6.99107     | 2m 47s       |</pre>"
      ],
      "text/plain": [
       "| 4129         | 2e+008  | 6.99107     | 2m 47s       |"
      ]
     },
     "metadata": {},
     "output_type": "display_data"
    },
    {
     "data": {
      "text/html": [
       "<pre>| 4155         | 2e+008  | 7.03445     | 2m 48s       |</pre>"
      ],
      "text/plain": [
       "| 4155         | 2e+008  | 7.03445     | 2m 48s       |"
      ]
     },
     "metadata": {},
     "output_type": "display_data"
    },
    {
     "data": {
      "text/html": [
       "<pre>| 4180         | 2e+008  | 7.0772      | 2m 49s       |</pre>"
      ],
      "text/plain": [
       "| 4180         | 2e+008  | 7.0772      | 2m 49s       |"
      ]
     },
     "metadata": {},
     "output_type": "display_data"
    },
    {
     "data": {
      "text/html": [
       "<pre>| 4206         | 2e+008  | 7.12058     | 2m 50s       |</pre>"
      ],
      "text/plain": [
       "| 4206         | 2e+008  | 7.12058     | 2m 50s       |"
      ]
     },
     "metadata": {},
     "output_type": "display_data"
    },
    {
     "data": {
      "text/html": [
       "<pre>| 4232         | 2e+008  | 7.16438     | 2m 51s       |</pre>"
      ],
      "text/plain": [
       "| 4232         | 2e+008  | 7.16438     | 2m 51s       |"
      ]
     },
     "metadata": {},
     "output_type": "display_data"
    },
    {
     "data": {
      "text/html": [
       "<pre>| 4257         | 3e+008  | 7.20766     | 2m 52s       |</pre>"
      ],
      "text/plain": [
       "| 4257         | 3e+008  | 7.20766     | 2m 52s       |"
      ]
     },
     "metadata": {},
     "output_type": "display_data"
    },
    {
     "data": {
      "text/html": [
       "<pre>| 4283         | 3e+008  | 7.25135     | 2m 53s       |</pre>"
      ],
      "text/plain": [
       "| 4283         | 3e+008  | 7.25135     | 2m 53s       |"
      ]
     },
     "metadata": {},
     "output_type": "display_data"
    },
    {
     "data": {
      "text/html": [
       "<pre>| 4308         | 3e+008  | 7.29431     | 2m 54s       |</pre>"
      ],
      "text/plain": [
       "| 4308         | 3e+008  | 7.29431     | 2m 54s       |"
      ]
     },
     "metadata": {},
     "output_type": "display_data"
    },
    {
     "data": {
      "text/html": [
       "<pre>| 4334         | 3e+008  | 7.3379      | 2m 55s       |</pre>"
      ],
      "text/plain": [
       "| 4334         | 3e+008  | 7.3379      | 2m 55s       |"
      ]
     },
     "metadata": {},
     "output_type": "display_data"
    },
    {
     "data": {
      "text/html": [
       "<pre>| 4360         | 3e+008  | 7.38118     | 2m 56s       |</pre>"
      ],
      "text/plain": [
       "| 4360         | 3e+008  | 7.38118     | 2m 56s       |"
      ]
     },
     "metadata": {},
     "output_type": "display_data"
    },
    {
     "data": {
      "text/html": [
       "<pre>| 4386         | 3e+008  | 7.42572     | 2m 57s       |</pre>"
      ],
      "text/plain": [
       "| 4386         | 3e+008  | 7.42572     | 2m 57s       |"
      ]
     },
     "metadata": {},
     "output_type": "display_data"
    },
    {
     "data": {
      "text/html": [
       "<pre>| 4411         | 3e+008  | 7.46847     | 2m 58s       |</pre>"
      ],
      "text/plain": [
       "| 4411         | 3e+008  | 7.46847     | 2m 58s       |"
      ]
     },
     "metadata": {},
     "output_type": "display_data"
    },
    {
     "data": {
      "text/html": [
       "<pre>| 4437         | 3e+008  | 7.51196     | 2m 59s       |</pre>"
      ],
      "text/plain": [
       "| 4437         | 3e+008  | 7.51196     | 2m 59s       |"
      ]
     },
     "metadata": {},
     "output_type": "display_data"
    },
    {
     "data": {
      "text/html": [
       "<pre>| 4462         | 3e+008  | 7.55523     | 3m 0s        |</pre>"
      ],
      "text/plain": [
       "| 4462         | 3e+008  | 7.55523     | 3m 0s        |"
      ]
     },
     "metadata": {},
     "output_type": "display_data"
    },
    {
     "data": {
      "text/html": [
       "<pre>| 4489         | 3e+008  | 7.59956     | 3m 1s        |</pre>"
      ],
      "text/plain": [
       "| 4489         | 3e+008  | 7.59956     | 3m 1s        |"
      ]
     },
     "metadata": {},
     "output_type": "display_data"
    },
    {
     "data": {
      "text/html": [
       "<pre>| 4514         | 3e+008  | 7.64231     | 3m 2s        |</pre>"
      ],
      "text/plain": [
       "| 4514         | 3e+008  | 7.64231     | 3m 2s        |"
      ]
     },
     "metadata": {},
     "output_type": "display_data"
    },
    {
     "data": {
      "text/html": [
       "<pre>| 4539         | 3e+008  | 7.68516     | 3m 3s        |</pre>"
      ],
      "text/plain": [
       "| 4539         | 3e+008  | 7.68516     | 3m 3s        |"
      ]
     },
     "metadata": {},
     "output_type": "display_data"
    },
    {
     "data": {
      "text/html": [
       "<pre>| 4565         | 3e+008  | 7.72875     | 3m 4s        |</pre>"
      ],
      "text/plain": [
       "| 4565         | 3e+008  | 7.72875     | 3m 4s        |"
      ]
     },
     "metadata": {},
     "output_type": "display_data"
    },
    {
     "data": {
      "text/html": [
       "<pre>| 4591         | 3e+008  | 7.77256     | 3m 5s        |</pre>"
      ],
      "text/plain": [
       "| 4591         | 3e+008  | 7.77256     | 3m 5s        |"
      ]
     },
     "metadata": {},
     "output_type": "display_data"
    },
    {
     "data": {
      "text/html": [
       "<pre>| 4616         | 3e+008  | 7.81552     | 3m 6s        |</pre>"
      ],
      "text/plain": [
       "| 4616         | 3e+008  | 7.81552     | 3m 6s        |"
      ]
     },
     "metadata": {},
     "output_type": "display_data"
    },
    {
     "data": {
      "text/html": [
       "<pre>| 4642         | 3e+008  | 7.85879     | 3m 7s        |</pre>"
      ],
      "text/plain": [
       "| 4642         | 3e+008  | 7.85879     | 3m 7s        |"
      ]
     },
     "metadata": {},
     "output_type": "display_data"
    },
    {
     "data": {
      "text/html": [
       "<pre>| 4667         | 3e+008  | 7.90069     | 3m 8s        |</pre>"
      ],
      "text/plain": [
       "| 4667         | 3e+008  | 7.90069     | 3m 8s        |"
      ]
     },
     "metadata": {},
     "output_type": "display_data"
    },
    {
     "data": {
      "text/html": [
       "<pre>| 4692         | 3e+008  | 7.94449     | 3m 9s        |</pre>"
      ],
      "text/plain": [
       "| 4692         | 3e+008  | 7.94449     | 3m 9s        |"
      ]
     },
     "metadata": {},
     "output_type": "display_data"
    },
    {
     "data": {
      "text/html": [
       "<pre>| 4718         | 3e+008  | 7.98819     | 3m 10s       |</pre>"
      ],
      "text/plain": [
       "| 4718         | 3e+008  | 7.98819     | 3m 10s       |"
      ]
     },
     "metadata": {},
     "output_type": "display_data"
    },
    {
     "data": {
      "text/html": [
       "<pre>| 4744         | 3e+008  | 8.03126     | 3m 11s       |</pre>"
      ],
      "text/plain": [
       "| 4744         | 3e+008  | 8.03126     | 3m 11s       |"
      ]
     },
     "metadata": {},
     "output_type": "display_data"
    },
    {
     "data": {
      "text/html": [
       "<pre>| 4769         | 3e+008  | 8.074       | 3m 12s       |</pre>"
      ],
      "text/plain": [
       "| 4769         | 3e+008  | 8.074       | 3m 12s       |"
      ]
     },
     "metadata": {},
     "output_type": "display_data"
    },
    {
     "data": {
      "text/html": [
       "<pre>| 4795         | 3e+008  | 8.11738     | 3m 13s       |</pre>"
      ],
      "text/plain": [
       "| 4795         | 3e+008  | 8.11738     | 3m 13s       |"
      ]
     },
     "metadata": {},
     "output_type": "display_data"
    },
    {
     "data": {
      "text/html": [
       "<pre>| 4820         | 3e+008  | 8.16055     | 3m 14s       |</pre>"
      ],
      "text/plain": [
       "| 4820         | 3e+008  | 8.16055     | 3m 14s       |"
      ]
     },
     "metadata": {},
     "output_type": "display_data"
    },
    {
     "data": {
      "text/html": [
       "<pre>| 4846         | 3e+008  | 8.20425     | 3m 15s       |</pre>"
      ],
      "text/plain": [
       "| 4846         | 3e+008  | 8.20425     | 3m 15s       |"
      ]
     },
     "metadata": {},
     "output_type": "display_data"
    },
    {
     "data": {
      "text/html": [
       "<pre>| 4870         | 3e+008  | 8.24456     | 3m 16s       |</pre>"
      ],
      "text/plain": [
       "| 4870         | 3e+008  | 8.24456     | 3m 16s       |"
      ]
     },
     "metadata": {},
     "output_type": "display_data"
    },
    {
     "data": {
      "text/html": [
       "<pre>| 4895         | 3e+008  | 8.28794     | 3m 17s       |</pre>"
      ],
      "text/plain": [
       "| 4895         | 3e+008  | 8.28794     | 3m 17s       |"
      ]
     },
     "metadata": {},
     "output_type": "display_data"
    },
    {
     "data": {
      "text/html": [
       "<pre>| 4921         | 3e+008  | 8.3309      | 3m 18s       |</pre>"
      ],
      "text/plain": [
       "| 4921         | 3e+008  | 8.3309      | 3m 18s       |"
      ]
     },
     "metadata": {},
     "output_type": "display_data"
    },
    {
     "data": {
      "text/html": [
       "<pre>| 4943         | 3e+008  | 8.36804     | 3m 19s       |</pre>"
      ],
      "text/plain": [
       "| 4943         | 3e+008  | 8.36804     | 3m 19s       |"
      ]
     },
     "metadata": {},
     "output_type": "display_data"
    },
    {
     "data": {
      "text/html": [
       "<pre>| 4961         | 3e+008  | 8.39957     | 3m 20s       |</pre>"
      ],
      "text/plain": [
       "| 4961         | 3e+008  | 8.39957     | 3m 20s       |"
      ]
     },
     "metadata": {},
     "output_type": "display_data"
    },
    {
     "data": {
      "text/html": [
       "<pre>| 4984         | 3e+008  | 8.43829     | 3m 21s       |</pre>"
      ],
      "text/plain": [
       "| 4984         | 3e+008  | 8.43829     | 3m 21s       |"
      ]
     },
     "metadata": {},
     "output_type": "display_data"
    },
    {
     "data": {
      "text/html": [
       "<pre>| 5009         | 3e+008  | 8.4804      | 3m 22s       |</pre>"
      ],
      "text/plain": [
       "| 5009         | 3e+008  | 8.4804      | 3m 22s       |"
      ]
     },
     "metadata": {},
     "output_type": "display_data"
    },
    {
     "data": {
      "text/html": [
       "<pre>| 5035         | 3e+008  | 8.52379     | 3m 23s       |</pre>"
      ],
      "text/plain": [
       "| 5035         | 3e+008  | 8.52379     | 3m 23s       |"
      ]
     },
     "metadata": {},
     "output_type": "display_data"
    },
    {
     "data": {
      "text/html": [
       "<pre>| 5060         | 3e+008  | 8.56653     | 3m 24s       |</pre>"
      ],
      "text/plain": [
       "| 5060         | 3e+008  | 8.56653     | 3m 24s       |"
      ]
     },
     "metadata": {},
     "output_type": "display_data"
    },
    {
     "data": {
      "text/html": [
       "<pre>| 5086         | 3e+008  | 8.61023     | 3m 25s       |</pre>"
      ],
      "text/plain": [
       "| 5086         | 3e+008  | 8.61023     | 3m 25s       |"
      ]
     },
     "metadata": {},
     "output_type": "display_data"
    },
    {
     "data": {
      "text/html": [
       "<pre>| 5111         | 3e+008  | 8.65308     | 3m 26s       |</pre>"
      ],
      "text/plain": [
       "| 5111         | 3e+008  | 8.65308     | 3m 26s       |"
      ]
     },
     "metadata": {},
     "output_type": "display_data"
    },
    {
     "data": {
      "text/html": [
       "<pre>| 5136         | 3e+008  | 8.69614     | 3m 27s       |</pre>"
      ],
      "text/plain": [
       "| 5136         | 3e+008  | 8.69614     | 3m 27s       |"
      ]
     },
     "metadata": {},
     "output_type": "display_data"
    },
    {
     "data": {
      "text/html": [
       "<pre>| 5162         | 3e+008  | 8.73942     | 3m 28s       |</pre>"
      ],
      "text/plain": [
       "| 5162         | 3e+008  | 8.73942     | 3m 28s       |"
      ]
     },
     "metadata": {},
     "output_type": "display_data"
    },
    {
     "data": {
      "text/html": [
       "<pre>| 5188         | 3e+008  | 8.78396     | 3m 29s       |</pre>"
      ],
      "text/plain": [
       "| 5188         | 3e+008  | 8.78396     | 3m 29s       |"
      ]
     },
     "metadata": {},
     "output_type": "display_data"
    },
    {
     "data": {
      "text/html": [
       "<pre>| 5214         | 3e+008  | 8.82756     | 3m 30s       |</pre>"
      ],
      "text/plain": [
       "| 5214         | 3e+008  | 8.82756     | 3m 30s       |"
      ]
     },
     "metadata": {},
     "output_type": "display_data"
    },
    {
     "data": {
      "text/html": [
       "<pre>| 5240         | 3e+008  | 8.87073     | 3m 31s       |</pre>"
      ],
      "text/plain": [
       "| 5240         | 3e+008  | 8.87073     | 3m 31s       |"
      ]
     },
     "metadata": {},
     "output_type": "display_data"
    },
    {
     "data": {
      "text/html": [
       "<pre>| 5264         | 3e+008  | 8.91284     | 3m 32s       |</pre>"
      ],
      "text/plain": [
       "| 5264         | 3e+008  | 8.91284     | 3m 32s       |"
      ]
     },
     "metadata": {},
     "output_type": "display_data"
    },
    {
     "data": {
      "text/html": [
       "<pre>| 5290         | 3e+008  | 8.95643     | 3m 33s       |</pre>"
      ],
      "text/plain": [
       "| 5290         | 3e+008  | 8.95643     | 3m 33s       |"
      ]
     },
     "metadata": {},
     "output_type": "display_data"
    },
    {
     "data": {
      "text/html": [
       "<pre>| 5315         | 3e+008  | 8.99917     | 3m 34s       |</pre>"
      ],
      "text/plain": [
       "| 5315         | 3e+008  | 8.99917     | 3m 34s       |"
      ]
     },
     "metadata": {},
     "output_type": "display_data"
    },
    {
     "data": {
      "text/html": [
       "<pre>| 5341         | 3e+008  | 9.04234     | 3m 35s       |</pre>"
      ],
      "text/plain": [
       "| 5341         | 3e+008  | 9.04234     | 3m 35s       |"
      ]
     },
     "metadata": {},
     "output_type": "display_data"
    },
    {
     "data": {
      "text/html": [
       "<pre>| 5366         | 3e+008  | 9.08509     | 3m 36s       |</pre>"
      ],
      "text/plain": [
       "| 5366         | 3e+008  | 9.08509     | 3m 36s       |"
      ]
     },
     "metadata": {},
     "output_type": "display_data"
    },
    {
     "data": {
      "text/html": [
       "<pre>| 5392         | 3e+008  | 9.12858     | 3m 37s       |</pre>"
      ],
      "text/plain": [
       "| 5392         | 3e+008  | 9.12858     | 3m 37s       |"
      ]
     },
     "metadata": {},
     "output_type": "display_data"
    },
    {
     "data": {
      "text/html": [
       "<pre>| 5417         | 3e+008  | 9.17164     | 3m 38s       |</pre>"
      ],
      "text/plain": [
       "| 5417         | 3e+008  | 9.17164     | 3m 38s       |"
      ]
     },
     "metadata": {},
     "output_type": "display_data"
    },
    {
     "data": {
      "text/html": [
       "<pre>| 5443         | 3e+008  | 9.21502     | 3m 39s       |</pre>"
      ],
      "text/plain": [
       "| 5443         | 3e+008  | 9.21502     | 3m 39s       |"
      ]
     },
     "metadata": {},
     "output_type": "display_data"
    },
    {
     "data": {
      "text/html": [
       "<pre>| 5468         | 3e+008  | 9.25808     | 3m 40s       |</pre>"
      ],
      "text/plain": [
       "| 5468         | 3e+008  | 9.25808     | 3m 40s       |"
      ]
     },
     "metadata": {},
     "output_type": "display_data"
    },
    {
     "data": {
      "text/html": [
       "<pre>| 5493         | 3e+008  | 9.30062     | 3m 41s       |</pre>"
      ],
      "text/plain": [
       "| 5493         | 3e+008  | 9.30062     | 3m 41s       |"
      ]
     },
     "metadata": {},
     "output_type": "display_data"
    },
    {
     "data": {
      "text/html": [
       "<pre>| 5519         | 3e+008  | 9.3441      | 3m 42s       |</pre>"
      ],
      "text/plain": [
       "| 5519         | 3e+008  | 9.3441      | 3m 42s       |"
      ]
     },
     "metadata": {},
     "output_type": "display_data"
    },
    {
     "data": {
      "text/html": [
       "<pre>| 5545         | 3e+008  | 9.38759     | 3m 43s       |</pre>"
      ],
      "text/plain": [
       "| 5545         | 3e+008  | 9.38759     | 3m 43s       |"
      ]
     },
     "metadata": {},
     "output_type": "display_data"
    },
    {
     "data": {
      "text/html": [
       "<pre>| 5571         | 3e+008  | 9.43108     | 3m 44s       |</pre>"
      ],
      "text/plain": [
       "| 5571         | 3e+008  | 9.43108     | 3m 44s       |"
      ]
     },
     "metadata": {},
     "output_type": "display_data"
    },
    {
     "data": {
      "text/html": [
       "<pre>| 5596         | 3e+008  | 9.47488     | 3m 45s       |</pre>"
      ],
      "text/plain": [
       "| 5596         | 3e+008  | 9.47488     | 3m 45s       |"
      ]
     },
     "metadata": {},
     "output_type": "display_data"
    },
    {
     "data": {
      "text/html": [
       "<pre>| 5621         | 3e+008  | 9.51699     | 3m 46s       |</pre>"
      ],
      "text/plain": [
       "| 5621         | 3e+008  | 9.51699     | 3m 46s       |"
      ]
     },
     "metadata": {},
     "output_type": "display_data"
    },
    {
     "data": {
      "text/html": [
       "<pre>| 5647         | 3e+008  | 9.56048     | 3m 47s       |</pre>"
      ],
      "text/plain": [
       "| 5647         | 3e+008  | 9.56048     | 3m 47s       |"
      ]
     },
     "metadata": {},
     "output_type": "display_data"
    },
    {
     "data": {
      "text/html": [
       "<pre>| 5672         | 3e+008  | 9.60354     | 3m 48s       |</pre>"
      ],
      "text/plain": [
       "| 5672         | 3e+008  | 9.60354     | 3m 48s       |"
      ]
     },
     "metadata": {},
     "output_type": "display_data"
    },
    {
     "data": {
      "text/html": [
       "<pre>| 5698         | 3e+008  | 9.64724     | 3m 49s       |</pre>"
      ],
      "text/plain": [
       "| 5698         | 3e+008  | 9.64724     | 3m 49s       |"
      ]
     },
     "metadata": {},
     "output_type": "display_data"
    },
    {
     "data": {
      "text/html": [
       "<pre>| 5724         | 3e+008  | 9.69104     | 3m 50s       |</pre>"
      ],
      "text/plain": [
       "| 5724         | 3e+008  | 9.69104     | 3m 50s       |"
      ]
     },
     "metadata": {},
     "output_type": "display_data"
    },
    {
     "data": {
      "text/html": [
       "<pre>| 5749         | 3e+008  | 9.73379     | 3m 51s       |</pre>"
      ],
      "text/plain": [
       "| 5749         | 3e+008  | 9.73379     | 3m 51s       |"
      ]
     },
     "metadata": {},
     "output_type": "display_data"
    },
    {
     "data": {
      "text/html": [
       "<pre>| 5775         | 3e+008  | 9.77728     | 3m 52s       |</pre>"
      ],
      "text/plain": [
       "| 5775         | 3e+008  | 9.77728     | 3m 52s       |"
      ]
     },
     "metadata": {},
     "output_type": "display_data"
    },
    {
     "data": {
      "text/html": [
       "<pre>| 5801         | 3e+008  | 9.82098     | 3m 53s       |</pre>"
      ],
      "text/plain": [
       "| 5801         | 3e+008  | 9.82098     | 3m 53s       |"
      ]
     },
     "metadata": {},
     "output_type": "display_data"
    },
    {
     "data": {
      "text/html": [
       "<pre>| 5827         | 3e+008  | 9.86457     | 3m 54s       |</pre>"
      ],
      "text/plain": [
       "| 5827         | 3e+008  | 9.86457     | 3m 54s       |"
      ]
     },
     "metadata": {},
     "output_type": "display_data"
    },
    {
     "data": {
      "text/html": [
       "<pre>| 5852         | 3e+008  | 9.90805     | 3m 55s       |</pre>"
      ],
      "text/plain": [
       "| 5852         | 3e+008  | 9.90805     | 3m 55s       |"
      ]
     },
     "metadata": {},
     "output_type": "display_data"
    },
    {
     "data": {
      "text/html": [
       "<pre>| 5878         | 3e+008  | 9.95101     | 3m 56s       |</pre>"
      ],
      "text/plain": [
       "| 5878         | 3e+008  | 9.95101     | 3m 56s       |"
      ]
     },
     "metadata": {},
     "output_type": "display_data"
    },
    {
     "data": {
      "text/html": [
       "<pre>| 5903         | 3e+008  | 9.9945      | 3m 57s       |</pre>"
      ],
      "text/plain": [
       "| 5903         | 3e+008  | 9.9945      | 3m 57s       |"
      ]
     },
     "metadata": {},
     "output_type": "display_data"
    },
    {
     "data": {
      "text/html": [
       "<pre>| 5929         | 4e+008  | 10.0379     | 3m 58s       |</pre>"
      ],
      "text/plain": [
       "| 5929         | 4e+008  | 10.0379     | 3m 58s       |"
      ]
     },
     "metadata": {},
     "output_type": "display_data"
    },
    {
     "data": {
      "text/html": [
       "<pre>| 5954         | 4e+008  | 10.0808     | 3m 59s       |</pre>"
      ],
      "text/plain": [
       "| 5954         | 4e+008  | 10.0808     | 3m 59s       |"
      ]
     },
     "metadata": {},
     "output_type": "display_data"
    },
    {
     "data": {
      "text/html": [
       "<pre>| 5980         | 4e+008  | 10.1236     | 4m 0s        |</pre>"
      ],
      "text/plain": [
       "| 5980         | 4e+008  | 10.1236     | 4m 0s        |"
      ]
     },
     "metadata": {},
     "output_type": "display_data"
    },
    {
     "data": {
      "text/html": [
       "<pre>| 6006         | 4e+008  | 10.1678     | 4m 1s        |</pre>"
      ],
      "text/plain": [
       "| 6006         | 4e+008  | 10.1678     | 4m 1s        |"
      ]
     },
     "metadata": {},
     "output_type": "display_data"
    },
    {
     "data": {
      "text/html": [
       "<pre>| 6032         | 4e+008  | 10.2116     | 4m 2s        |</pre>"
      ],
      "text/plain": [
       "| 6032         | 4e+008  | 10.2116     | 4m 2s        |"
      ]
     },
     "metadata": {},
     "output_type": "display_data"
    },
    {
     "data": {
      "text/html": [
       "<pre>| 6057         | 4e+008  | 10.2551     | 4m 3s        |</pre>"
      ],
      "text/plain": [
       "| 6057         | 4e+008  | 10.2551     | 4m 3s        |"
      ]
     },
     "metadata": {},
     "output_type": "display_data"
    },
    {
     "data": {
      "text/html": [
       "<pre>| 6083         | 4e+008  | 10.2986     | 4m 4s        |</pre>"
      ],
      "text/plain": [
       "| 6083         | 4e+008  | 10.2986     | 4m 4s        |"
      ]
     },
     "metadata": {},
     "output_type": "display_data"
    },
    {
     "data": {
      "text/html": [
       "<pre>| 6108         | 4e+008  | 10.3411     | 4m 5s        |</pre>"
      ],
      "text/plain": [
       "| 6108         | 4e+008  | 10.3411     | 4m 5s        |"
      ]
     },
     "metadata": {},
     "output_type": "display_data"
    },
    {
     "data": {
      "text/html": [
       "<pre>| 6134         | 4e+008  | 10.3844     | 4m 6s        |</pre>"
      ],
      "text/plain": [
       "| 6134         | 4e+008  | 10.3844     | 4m 6s        |"
      ]
     },
     "metadata": {},
     "output_type": "display_data"
    },
    {
     "data": {
      "text/html": [
       "<pre>| 6160         | 4e+008  | 10.4283     | 4m 7s        |</pre>"
      ],
      "text/plain": [
       "| 6160         | 4e+008  | 10.4283     | 4m 7s        |"
      ]
     },
     "metadata": {},
     "output_type": "display_data"
    },
    {
     "data": {
      "text/html": [
       "<pre>| 6185         | 4e+008  | 10.4712     | 4m 8s        |</pre>"
      ],
      "text/plain": [
       "| 6185         | 4e+008  | 10.4712     | 4m 8s        |"
      ]
     },
     "metadata": {},
     "output_type": "display_data"
    },
    {
     "data": {
      "text/html": [
       "<pre>| 6211         | 4e+008  | 10.5147     | 4m 9s        |</pre>"
      ],
      "text/plain": [
       "| 6211         | 4e+008  | 10.5147     | 4m 9s        |"
      ]
     },
     "metadata": {},
     "output_type": "display_data"
    },
    {
     "data": {
      "text/html": [
       "<pre>| 6236         | 4e+008  | 10.5581     | 4m 10s       |</pre>"
      ],
      "text/plain": [
       "| 6236         | 4e+008  | 10.5581     | 4m 10s       |"
      ]
     },
     "metadata": {},
     "output_type": "display_data"
    },
    {
     "data": {
      "text/html": [
       "<pre>| 6262         | 4e+008  | 10.6021     | 4m 11s       |</pre>"
      ],
      "text/plain": [
       "| 6262         | 4e+008  | 10.6021     | 4m 11s       |"
      ]
     },
     "metadata": {},
     "output_type": "display_data"
    },
    {
     "data": {
      "text/html": [
       "<pre>| 6288         | 4e+008  | 10.6456     | 4m 12s       |</pre>"
      ],
      "text/plain": [
       "| 6288         | 4e+008  | 10.6456     | 4m 12s       |"
      ]
     },
     "metadata": {},
     "output_type": "display_data"
    },
    {
     "data": {
      "text/html": [
       "<pre>| 6314         | 4e+008  | 10.6889     | 4m 13s       |</pre>"
      ],
      "text/plain": [
       "| 6314         | 4e+008  | 10.6889     | 4m 13s       |"
      ]
     },
     "metadata": {},
     "output_type": "display_data"
    },
    {
     "data": {
      "text/html": [
       "<pre>| 6339         | 4e+008  | 10.7324     | 4m 14s       |</pre>"
      ],
      "text/plain": [
       "| 6339         | 4e+008  | 10.7324     | 4m 14s       |"
      ]
     },
     "metadata": {},
     "output_type": "display_data"
    },
    {
     "data": {
      "text/html": [
       "<pre>| 6364         | 4e+008  | 10.7748     | 4m 15s       |</pre>"
      ],
      "text/plain": [
       "| 6364         | 4e+008  | 10.7748     | 4m 15s       |"
      ]
     },
     "metadata": {},
     "output_type": "display_data"
    },
    {
     "data": {
      "text/html": [
       "<pre>| 6390         | 4e+008  | 10.8182     | 4m 16s       |</pre>"
      ],
      "text/plain": [
       "| 6390         | 4e+008  | 10.8182     | 4m 16s       |"
      ]
     },
     "metadata": {},
     "output_type": "display_data"
    },
    {
     "data": {
      "text/html": [
       "<pre>| 6416         | 4e+008  | 10.8622     | 4m 17s       |</pre>"
      ],
      "text/plain": [
       "| 6416         | 4e+008  | 10.8622     | 4m 17s       |"
      ]
     },
     "metadata": {},
     "output_type": "display_data"
    },
    {
     "data": {
      "text/html": [
       "<pre>| 6442         | 4e+008  | 10.9059     | 4m 18s       |</pre>"
      ],
      "text/plain": [
       "| 6442         | 4e+008  | 10.9059     | 4m 18s       |"
      ]
     },
     "metadata": {},
     "output_type": "display_data"
    },
    {
     "data": {
      "text/html": [
       "<pre>| 6467         | 4e+008  | 10.9492     | 4m 19s       |</pre>"
      ],
      "text/plain": [
       "| 6467         | 4e+008  | 10.9492     | 4m 19s       |"
      ]
     },
     "metadata": {},
     "output_type": "display_data"
    },
    {
     "data": {
      "text/html": [
       "<pre>| 6493         | 4e+008  | 10.9919     | 4m 20s       |</pre>"
      ],
      "text/plain": [
       "| 6493         | 4e+008  | 10.9919     | 4m 20s       |"
      ]
     },
     "metadata": {},
     "output_type": "display_data"
    },
    {
     "data": {
      "text/html": [
       "<pre>| 6518         | 4e+008  | 11.0353     | 4m 21s       |</pre>"
      ],
      "text/plain": [
       "| 6518         | 4e+008  | 11.0353     | 4m 21s       |"
      ]
     },
     "metadata": {},
     "output_type": "display_data"
    },
    {
     "data": {
      "text/html": [
       "<pre>| 6544         | 4e+008  | 11.079      | 4m 22s       |</pre>"
      ],
      "text/plain": [
       "| 6544         | 4e+008  | 11.079      | 4m 22s       |"
      ]
     },
     "metadata": {},
     "output_type": "display_data"
    },
    {
     "data": {
      "text/html": [
       "<pre>| 6570         | 4e+008  | 11.1228     | 4m 23s       |</pre>"
      ],
      "text/plain": [
       "| 6570         | 4e+008  | 11.1228     | 4m 23s       |"
      ]
     },
     "metadata": {},
     "output_type": "display_data"
    },
    {
     "data": {
      "text/html": [
       "<pre>| 6595         | 4e+008  | 11.1656     | 4m 24s       |</pre>"
      ],
      "text/plain": [
       "| 6595         | 4e+008  | 11.1656     | 4m 24s       |"
      ]
     },
     "metadata": {},
     "output_type": "display_data"
    },
    {
     "data": {
      "text/html": [
       "<pre>| 6621         | 4e+008  | 11.2089     | 4m 25s       |</pre>"
      ],
      "text/plain": [
       "| 6621         | 4e+008  | 11.2089     | 4m 25s       |"
      ]
     },
     "metadata": {},
     "output_type": "display_data"
    },
    {
     "data": {
      "text/html": [
       "<pre>| 6647         | 4e+008  | 11.2531     | 4m 26s       |</pre>"
      ],
      "text/plain": [
       "| 6647         | 4e+008  | 11.2531     | 4m 26s       |"
      ]
     },
     "metadata": {},
     "output_type": "display_data"
    },
    {
     "data": {
      "text/html": [
       "<pre>| 6672         | 4e+008  | 11.2961     | 4m 27s       |</pre>"
      ],
      "text/plain": [
       "| 6672         | 4e+008  | 11.2961     | 4m 27s       |"
      ]
     },
     "metadata": {},
     "output_type": "display_data"
    },
    {
     "data": {
      "text/html": [
       "<pre>| 6697         | 4e+008  | 11.3381     | 4m 28s       |</pre>"
      ],
      "text/plain": [
       "| 6697         | 4e+008  | 11.3381     | 4m 28s       |"
      ]
     },
     "metadata": {},
     "output_type": "display_data"
    },
    {
     "data": {
      "text/html": [
       "<pre>| 6722         | 4e+008  | 11.3812     | 4m 29s       |</pre>"
      ],
      "text/plain": [
       "| 6722         | 4e+008  | 11.3812     | 4m 29s       |"
      ]
     },
     "metadata": {},
     "output_type": "display_data"
    },
    {
     "data": {
      "text/html": [
       "<pre>| 6748         | 4e+008  | 11.4245     | 4m 30s       |</pre>"
      ],
      "text/plain": [
       "| 6748         | 4e+008  | 11.4245     | 4m 30s       |"
      ]
     },
     "metadata": {},
     "output_type": "display_data"
    },
    {
     "data": {
      "text/html": [
       "<pre>| 6773         | 4e+008  | 11.4675     | 4m 31s       |</pre>"
      ],
      "text/plain": [
       "| 6773         | 4e+008  | 11.4675     | 4m 31s       |"
      ]
     },
     "metadata": {},
     "output_type": "display_data"
    },
    {
     "data": {
      "text/html": [
       "<pre>| 6799         | 4e+008  | 11.5112     | 4m 32s       |</pre>"
      ],
      "text/plain": [
       "| 6799         | 4e+008  | 11.5112     | 4m 32s       |"
      ]
     },
     "metadata": {},
     "output_type": "display_data"
    },
    {
     "data": {
      "text/html": [
       "<pre>| 6825         | 4e+008  | 11.5544     | 4m 33s       |</pre>"
      ],
      "text/plain": [
       "| 6825         | 4e+008  | 11.5544     | 4m 33s       |"
      ]
     },
     "metadata": {},
     "output_type": "display_data"
    },
    {
     "data": {
      "text/html": [
       "<pre>| 6850         | 4e+008  | 11.5973     | 4m 34s       |</pre>"
      ],
      "text/plain": [
       "| 6850         | 4e+008  | 11.5973     | 4m 34s       |"
      ]
     },
     "metadata": {},
     "output_type": "display_data"
    },
    {
     "data": {
      "text/html": [
       "<pre>| 6876         | 4e+008  | 11.6403     | 4m 35s       |</pre>"
      ],
      "text/plain": [
       "| 6876         | 4e+008  | 11.6403     | 4m 35s       |"
      ]
     },
     "metadata": {},
     "output_type": "display_data"
    },
    {
     "data": {
      "text/html": [
       "<pre>| 6901         | 4e+008  | 11.6829     | 4m 36s       |</pre>"
      ],
      "text/plain": [
       "| 6901         | 4e+008  | 11.6829     | 4m 36s       |"
      ]
     },
     "metadata": {},
     "output_type": "display_data"
    },
    {
     "data": {
      "text/html": [
       "<pre>| 6926         | 4e+008  | 11.7262     | 4m 37s       |</pre>"
      ],
      "text/plain": [
       "| 6926         | 4e+008  | 11.7262     | 4m 37s       |"
      ]
     },
     "metadata": {},
     "output_type": "display_data"
    },
    {
     "data": {
      "text/html": [
       "<pre>| 6952         | 4e+008  | 11.7695     | 4m 38s       |</pre>"
      ],
      "text/plain": [
       "| 6952         | 4e+008  | 11.7695     | 4m 38s       |"
      ]
     },
     "metadata": {},
     "output_type": "display_data"
    },
    {
     "data": {
      "text/html": [
       "<pre>| 6977         | 4e+008  | 11.8127     | 4m 39s       |</pre>"
      ],
      "text/plain": [
       "| 6977         | 4e+008  | 11.8127     | 4m 39s       |"
      ]
     },
     "metadata": {},
     "output_type": "display_data"
    },
    {
     "data": {
      "text/html": [
       "<pre>| 7003         | 4e+008  | 11.8569     | 4m 40s       |</pre>"
      ],
      "text/plain": [
       "| 7003         | 4e+008  | 11.8569     | 4m 40s       |"
      ]
     },
     "metadata": {},
     "output_type": "display_data"
    },
    {
     "data": {
      "text/html": [
       "<pre>| 7029         | 4e+008  | 11.9007     | 4m 41s       |</pre>"
      ],
      "text/plain": [
       "| 7029         | 4e+008  | 11.9007     | 4m 41s       |"
      ]
     },
     "metadata": {},
     "output_type": "display_data"
    },
    {
     "data": {
      "text/html": [
       "<pre>| 7055         | 4e+008  | 11.9446     | 4m 42s       |</pre>"
      ],
      "text/plain": [
       "| 7055         | 4e+008  | 11.9446     | 4m 42s       |"
      ]
     },
     "metadata": {},
     "output_type": "display_data"
    },
    {
     "data": {
      "text/html": [
       "<pre>| 7080         | 4e+008  | 11.9872     | 4m 43s       |</pre>"
      ],
      "text/plain": [
       "| 7080         | 4e+008  | 11.9872     | 4m 43s       |"
      ]
     },
     "metadata": {},
     "output_type": "display_data"
    },
    {
     "data": {
      "text/html": [
       "<pre>| 7104         | 4e+008  | 12.0278     | 4m 44s       |</pre>"
      ],
      "text/plain": [
       "| 7104         | 4e+008  | 12.0278     | 4m 44s       |"
      ]
     },
     "metadata": {},
     "output_type": "display_data"
    },
    {
     "data": {
      "text/html": [
       "<pre>| 7123         | 4e+008  | 12.0594     | 4m 45s       |</pre>"
      ],
      "text/plain": [
       "| 7123         | 4e+008  | 12.0594     | 4m 45s       |"
      ]
     },
     "metadata": {},
     "output_type": "display_data"
    },
    {
     "data": {
      "text/html": [
       "<pre>| 7145         | 4e+008  | 12.0965     | 4m 46s       |</pre>"
      ],
      "text/plain": [
       "| 7145         | 4e+008  | 12.0965     | 4m 46s       |"
      ]
     },
     "metadata": {},
     "output_type": "display_data"
    },
    {
     "data": {
      "text/html": [
       "<pre>| 7170         | 4e+008  | 12.1387     | 4m 47s       |</pre>"
      ],
      "text/plain": [
       "| 7170         | 4e+008  | 12.1387     | 4m 47s       |"
      ]
     },
     "metadata": {},
     "output_type": "display_data"
    },
    {
     "data": {
      "text/html": [
       "<pre>| 7193         | 4e+008  | 12.1786     | 4m 48s       |</pre>"
      ],
      "text/plain": [
       "| 7193         | 4e+008  | 12.1786     | 4m 48s       |"
      ]
     },
     "metadata": {},
     "output_type": "display_data"
    },
    {
     "data": {
      "text/html": [
       "<pre>| 7219         | 4e+008  | 12.221      | 4m 49s       |</pre>"
      ],
      "text/plain": [
       "| 7219         | 4e+008  | 12.221      | 4m 49s       |"
      ]
     },
     "metadata": {},
     "output_type": "display_data"
    },
    {
     "data": {
      "text/html": [
       "<pre>| 7244         | 4e+008  | 12.2647     | 4m 50s       |</pre>"
      ],
      "text/plain": [
       "| 7244         | 4e+008  | 12.2647     | 4m 50s       |"
      ]
     },
     "metadata": {},
     "output_type": "display_data"
    },
    {
     "data": {
      "text/html": [
       "<pre>| 7270         | 4e+008  | 12.3081     | 4m 51s       |</pre>"
      ],
      "text/plain": [
       "| 7270         | 4e+008  | 12.3081     | 4m 51s       |"
      ]
     },
     "metadata": {},
     "output_type": "display_data"
    },
    {
     "data": {
      "text/html": [
       "<pre>| 7296         | 4e+008  | 12.3513     | 4m 52s       |</pre>"
      ],
      "text/plain": [
       "| 7296         | 4e+008  | 12.3513     | 4m 52s       |"
      ]
     },
     "metadata": {},
     "output_type": "display_data"
    },
    {
     "data": {
      "text/html": [
       "<pre>| 7320         | 4e+008  | 12.3932     | 4m 53s       |</pre>"
      ],
      "text/plain": [
       "| 7320         | 4e+008  | 12.3932     | 4m 53s       |"
      ]
     },
     "metadata": {},
     "output_type": "display_data"
    },
    {
     "data": {
      "text/html": [
       "<pre>| 7342         | 4e+008  | 12.4293     | 4m 54s       |</pre>"
      ],
      "text/plain": [
       "| 7342         | 4e+008  | 12.4293     | 4m 54s       |"
      ]
     },
     "metadata": {},
     "output_type": "display_data"
    },
    {
     "data": {
      "text/html": [
       "<pre>| 7362         | 4e+008  | 12.4636     | 4m 55s       |</pre>"
      ],
      "text/plain": [
       "| 7362         | 4e+008  | 12.4636     | 4m 55s       |"
      ]
     },
     "metadata": {},
     "output_type": "display_data"
    },
    {
     "data": {
      "text/html": [
       "<pre>| 7380         | 4e+008  | 12.4951     | 4m 56s       |</pre>"
      ],
      "text/plain": [
       "| 7380         | 4e+008  | 12.4951     | 4m 56s       |"
      ]
     },
     "metadata": {},
     "output_type": "display_data"
    },
    {
     "data": {
      "text/html": [
       "<pre>| 7401         | 4e+008  | 12.5291     | 4m 57s       |</pre>"
      ],
      "text/plain": [
       "| 7401         | 4e+008  | 12.5291     | 4m 57s       |"
      ]
     },
     "metadata": {},
     "output_type": "display_data"
    },
    {
     "data": {
      "text/html": [
       "<pre>| 7427         | 4e+008  | 12.5732     | 4m 58s       |</pre>"
      ],
      "text/plain": [
       "| 7427         | 4e+008  | 12.5732     | 4m 58s       |"
      ]
     },
     "metadata": {},
     "output_type": "display_data"
    },
    {
     "data": {
      "text/html": [
       "<pre>| 7453         | 4e+008  | 12.618      | 4m 59s       |</pre>"
      ],
      "text/plain": [
       "| 7453         | 4e+008  | 12.618      | 4m 59s       |"
      ]
     },
     "metadata": {},
     "output_type": "display_data"
    },
    {
     "data": {
      "text/html": [
       "<pre>| 7480         | 4e+008  | 12.6634     | 5m 0s        |</pre>"
      ],
      "text/plain": [
       "| 7480         | 4e+008  | 12.6634     | 5m 0s        |"
      ]
     },
     "metadata": {},
     "output_type": "display_data"
    },
    {
     "data": {
      "text/html": [
       "<pre>| 7506         | 4e+008  | 12.708      | 5m 1s        |</pre>"
      ],
      "text/plain": [
       "| 7506         | 4e+008  | 12.708      | 5m 1s        |"
      ]
     },
     "metadata": {},
     "output_type": "display_data"
    },
    {
     "data": {
      "text/html": [
       "<pre>| 7533         | 4e+008  | 12.7531     | 5m 2s        |</pre>"
      ],
      "text/plain": [
       "| 7533         | 4e+008  | 12.7531     | 5m 2s        |"
      ]
     },
     "metadata": {},
     "output_type": "display_data"
    },
    {
     "data": {
      "text/html": [
       "<pre>| 7559         | 4e+008  | 12.7967     | 5m 3s        |</pre>"
      ],
      "text/plain": [
       "| 7559         | 4e+008  | 12.7967     | 5m 3s        |"
      ]
     },
     "metadata": {},
     "output_type": "display_data"
    },
    {
     "data": {
      "text/html": [
       "<pre>| 7585         | 4e+008  | 12.8409     | 5m 4s        |</pre>"
      ],
      "text/plain": [
       "| 7585         | 4e+008  | 12.8409     | 5m 4s        |"
      ]
     },
     "metadata": {},
     "output_type": "display_data"
    },
    {
     "data": {
      "text/html": [
       "<pre>| 7611         | 4e+008  | 12.8849     | 5m 5s        |</pre>"
      ],
      "text/plain": [
       "| 7611         | 4e+008  | 12.8849     | 5m 5s        |"
      ]
     },
     "metadata": {},
     "output_type": "display_data"
    },
    {
     "data": {
      "text/html": [
       "<pre>| 7637         | 5e+008  | 12.9289     | 5m 6s        |</pre>"
      ],
      "text/plain": [
       "| 7637         | 5e+008  | 12.9289     | 5m 6s        |"
      ]
     },
     "metadata": {},
     "output_type": "display_data"
    },
    {
     "data": {
      "text/html": [
       "<pre>| 7663         | 5e+008  | 12.9726     | 5m 7s        |</pre>"
      ],
      "text/plain": [
       "| 7663         | 5e+008  | 12.9726     | 5m 7s        |"
      ]
     },
     "metadata": {},
     "output_type": "display_data"
    },
    {
     "data": {
      "text/html": [
       "<pre>| 7688         | 5e+008  | 13.0157     | 5m 8s        |</pre>"
      ],
      "text/plain": [
       "| 7688         | 5e+008  | 13.0157     | 5m 8s        |"
      ]
     },
     "metadata": {},
     "output_type": "display_data"
    },
    {
     "data": {
      "text/html": [
       "<pre>| 7714         | 5e+008  | 13.0595     | 5m 9s        |</pre>"
      ],
      "text/plain": [
       "| 7714         | 5e+008  | 13.0595     | 5m 9s        |"
      ]
     },
     "metadata": {},
     "output_type": "display_data"
    },
    {
     "data": {
      "text/html": [
       "<pre>| 7740         | 5e+008  | 13.1042     | 5m 10s       |</pre>"
      ],
      "text/plain": [
       "| 7740         | 5e+008  | 13.1042     | 5m 10s       |"
      ]
     },
     "metadata": {},
     "output_type": "display_data"
    },
    {
     "data": {
      "text/html": [
       "<pre>| 7766         | 5e+008  | 13.1473     | 5m 11s       |</pre>"
      ],
      "text/plain": [
       "| 7766         | 5e+008  | 13.1473     | 5m 11s       |"
      ]
     },
     "metadata": {},
     "output_type": "display_data"
    },
    {
     "data": {
      "text/html": [
       "<pre>| 7791         | 5e+008  | 13.1904     | 5m 12s       |</pre>"
      ],
      "text/plain": [
       "| 7791         | 5e+008  | 13.1904     | 5m 12s       |"
      ]
     },
     "metadata": {},
     "output_type": "display_data"
    },
    {
     "data": {
      "text/html": [
       "<pre>| 7817         | 5e+008  | 13.2339     | 5m 13s       |</pre>"
      ],
      "text/plain": [
       "| 7817         | 5e+008  | 13.2339     | 5m 13s       |"
      ]
     },
     "metadata": {},
     "output_type": "display_data"
    },
    {
     "data": {
      "text/html": [
       "<pre>| 7843         | 5e+008  | 13.2775     | 5m 14s       |</pre>"
      ],
      "text/plain": [
       "| 7843         | 5e+008  | 13.2775     | 5m 14s       |"
      ]
     },
     "metadata": {},
     "output_type": "display_data"
    },
    {
     "data": {
      "text/html": [
       "<pre>| 7868         | 5e+008  | 13.3212     | 5m 15s       |</pre>"
      ],
      "text/plain": [
       "| 7868         | 5e+008  | 13.3212     | 5m 15s       |"
      ]
     },
     "metadata": {},
     "output_type": "display_data"
    },
    {
     "data": {
      "text/html": [
       "<pre>| 7894         | 5e+008  | 13.3642     | 5m 16s       |</pre>"
      ],
      "text/plain": [
       "| 7894         | 5e+008  | 13.3642     | 5m 16s       |"
      ]
     },
     "metadata": {},
     "output_type": "display_data"
    },
    {
     "data": {
      "text/html": [
       "<pre>| 7920         | 5e+008  | 13.4076     | 5m 17s       |</pre>"
      ],
      "text/plain": [
       "| 7920         | 5e+008  | 13.4076     | 5m 17s       |"
      ]
     },
     "metadata": {},
     "output_type": "display_data"
    },
    {
     "data": {
      "text/html": [
       "<pre>| 7945         | 5e+008  | 13.4513     | 5m 18s       |</pre>"
      ],
      "text/plain": [
       "| 7945         | 5e+008  | 13.4513     | 5m 18s       |"
      ]
     },
     "metadata": {},
     "output_type": "display_data"
    },
    {
     "data": {
      "text/html": [
       "<pre>| 7971         | 5e+008  | 13.4948     | 5m 19s       |</pre>"
      ],
      "text/plain": [
       "| 7971         | 5e+008  | 13.4948     | 5m 19s       |"
      ]
     },
     "metadata": {},
     "output_type": "display_data"
    },
    {
     "data": {
      "text/html": [
       "<pre>| 7997         | 5e+008  | 13.5382     | 5m 20s       |</pre>"
      ],
      "text/plain": [
       "| 7997         | 5e+008  | 13.5382     | 5m 20s       |"
      ]
     },
     "metadata": {},
     "output_type": "display_data"
    },
    {
     "data": {
      "text/html": [
       "<pre>| 8022         | 5e+008  | 13.5812     | 5m 21s       |</pre>"
      ],
      "text/plain": [
       "| 8022         | 5e+008  | 13.5812     | 5m 21s       |"
      ]
     },
     "metadata": {},
     "output_type": "display_data"
    },
    {
     "data": {
      "text/html": [
       "<pre>| 8048         | 5e+008  | 13.6246     | 5m 22s       |</pre>"
      ],
      "text/plain": [
       "| 8048         | 5e+008  | 13.6246     | 5m 22s       |"
      ]
     },
     "metadata": {},
     "output_type": "display_data"
    },
    {
     "data": {
      "text/html": [
       "<pre>| 8074         | 5e+008  | 13.6683     | 5m 23s       |</pre>"
      ],
      "text/plain": [
       "| 8074         | 5e+008  | 13.6683     | 5m 23s       |"
      ]
     },
     "metadata": {},
     "output_type": "display_data"
    },
    {
     "data": {
      "text/html": [
       "<pre>| 8099         | 5e+008  | 13.7117     | 5m 24s       |</pre>"
      ],
      "text/plain": [
       "| 8099         | 5e+008  | 13.7117     | 5m 24s       |"
      ]
     },
     "metadata": {},
     "output_type": "display_data"
    },
    {
     "data": {
      "text/html": [
       "<pre>| 8125         | 5e+008  | 13.7549     | 5m 25s       |</pre>"
      ],
      "text/plain": [
       "| 8125         | 5e+008  | 13.7549     | 5m 25s       |"
      ]
     },
     "metadata": {},
     "output_type": "display_data"
    },
    {
     "data": {
      "text/html": [
       "<pre>| 8150         | 5e+008  | 13.7982     | 5m 26s       |</pre>"
      ],
      "text/plain": [
       "| 8150         | 5e+008  | 13.7982     | 5m 26s       |"
      ]
     },
     "metadata": {},
     "output_type": "display_data"
    },
    {
     "data": {
      "text/html": [
       "<pre>| 8176         | 5e+008  | 13.8421     | 5m 27s       |</pre>"
      ],
      "text/plain": [
       "| 8176         | 5e+008  | 13.8421     | 5m 27s       |"
      ]
     },
     "metadata": {},
     "output_type": "display_data"
    },
    {
     "data": {
      "text/html": [
       "<pre>| 8201         | 5e+008  | 13.8848     | 5m 28s       |</pre>"
      ],
      "text/plain": [
       "| 8201         | 5e+008  | 13.8848     | 5m 28s       |"
      ]
     },
     "metadata": {},
     "output_type": "display_data"
    },
    {
     "data": {
      "text/html": [
       "<pre>| 8227         | 5e+008  | 13.9286     | 5m 29s       |</pre>"
      ],
      "text/plain": [
       "| 8227         | 5e+008  | 13.9286     | 5m 29s       |"
      ]
     },
     "metadata": {},
     "output_type": "display_data"
    },
    {
     "data": {
      "text/html": [
       "<pre>| 8253         | 5e+008  | 13.9722     | 5m 30s       |</pre>"
      ],
      "text/plain": [
       "| 8253         | 5e+008  | 13.9722     | 5m 30s       |"
      ]
     },
     "metadata": {},
     "output_type": "display_data"
    },
    {
     "data": {
      "text/html": [
       "<pre>| 8279         | 5e+008  | 14.0154     | 5m 31s       |</pre>"
      ],
      "text/plain": [
       "| 8279         | 5e+008  | 14.0154     | 5m 31s       |"
      ]
     },
     "metadata": {},
     "output_type": "display_data"
    },
    {
     "data": {
      "text/html": [
       "<pre>| 8303         | 5e+008  | 14.0572     | 5m 32s       |</pre>"
      ],
      "text/plain": [
       "| 8303         | 5e+008  | 14.0572     | 5m 32s       |"
      ]
     },
     "metadata": {},
     "output_type": "display_data"
    },
    {
     "data": {
      "text/html": [
       "<pre>| 8329         | 5e+008  | 14.1        | 5m 33s       |</pre>"
      ],
      "text/plain": [
       "| 8329         | 5e+008  | 14.1        | 5m 33s       |"
      ]
     },
     "metadata": {},
     "output_type": "display_data"
    },
    {
     "data": {
      "text/html": [
       "<pre>| 8354         | 5e+008  | 14.1432     | 5m 34s       |</pre>"
      ],
      "text/plain": [
       "| 8354         | 5e+008  | 14.1432     | 5m 34s       |"
      ]
     },
     "metadata": {},
     "output_type": "display_data"
    },
    {
     "data": {
      "text/html": [
       "<pre>| 8379         | 5e+008  | 14.1855     | 5m 35s       |</pre>"
      ],
      "text/plain": [
       "| 8379         | 5e+008  | 14.1855     | 5m 35s       |"
      ]
     },
     "metadata": {},
     "output_type": "display_data"
    },
    {
     "data": {
      "text/html": [
       "<pre>| 8405         | 5e+008  | 14.2288     | 5m 36s       |</pre>"
      ],
      "text/plain": [
       "| 8405         | 5e+008  | 14.2288     | 5m 36s       |"
      ]
     },
     "metadata": {},
     "output_type": "display_data"
    },
    {
     "data": {
      "text/html": [
       "<pre>| 8430         | 5e+008  | 14.2715     | 5m 37s       |</pre>"
      ],
      "text/plain": [
       "| 8430         | 5e+008  | 14.2715     | 5m 37s       |"
      ]
     },
     "metadata": {},
     "output_type": "display_data"
    },
    {
     "data": {
      "text/html": [
       "<pre>| 8455         | 5e+008  | 14.3135     | 5m 38s       |</pre>"
      ],
      "text/plain": [
       "| 8455         | 5e+008  | 14.3135     | 5m 38s       |"
      ]
     },
     "metadata": {},
     "output_type": "display_data"
    },
    {
     "data": {
      "text/html": [
       "<pre>| 8480         | 5e+008  | 14.3572     | 5m 39s       |</pre>"
      ],
      "text/plain": [
       "| 8480         | 5e+008  | 14.3572     | 5m 39s       |"
      ]
     },
     "metadata": {},
     "output_type": "display_data"
    },
    {
     "data": {
      "text/html": [
       "<pre>| 8506         | 5e+008  | 14.4002     | 5m 40s       |</pre>"
      ],
      "text/plain": [
       "| 8506         | 5e+008  | 14.4002     | 5m 40s       |"
      ]
     },
     "metadata": {},
     "output_type": "display_data"
    },
    {
     "data": {
      "text/html": [
       "<pre>| 8531         | 5e+008  | 14.4429     | 5m 41s       |</pre>"
      ],
      "text/plain": [
       "| 8531         | 5e+008  | 14.4429     | 5m 41s       |"
      ]
     },
     "metadata": {},
     "output_type": "display_data"
    },
    {
     "data": {
      "text/html": [
       "<pre>| 8556         | 5e+008  | 14.4856     | 5m 42s       |</pre>"
      ],
      "text/plain": [
       "| 8556         | 5e+008  | 14.4856     | 5m 42s       |"
      ]
     },
     "metadata": {},
     "output_type": "display_data"
    },
    {
     "data": {
      "text/html": [
       "<pre>| 8582         | 5e+008  | 14.5286     | 5m 43s       |</pre>"
      ],
      "text/plain": [
       "| 8582         | 5e+008  | 14.5286     | 5m 43s       |"
      ]
     },
     "metadata": {},
     "output_type": "display_data"
    },
    {
     "data": {
      "text/html": [
       "<pre>| 8607         | 5e+008  | 14.5719     | 5m 44s       |</pre>"
      ],
      "text/plain": [
       "| 8607         | 5e+008  | 14.5719     | 5m 44s       |"
      ]
     },
     "metadata": {},
     "output_type": "display_data"
    },
    {
     "data": {
      "text/html": [
       "<pre>| 8633         | 5e+008  | 14.6151     | 5m 45s       |</pre>"
      ],
      "text/plain": [
       "| 8633         | 5e+008  | 14.6151     | 5m 45s       |"
      ]
     },
     "metadata": {},
     "output_type": "display_data"
    },
    {
     "data": {
      "text/html": [
       "<pre>| 8658         | 5e+008  | 14.6577     | 5m 46s       |</pre>"
      ],
      "text/plain": [
       "| 8658         | 5e+008  | 14.6577     | 5m 46s       |"
      ]
     },
     "metadata": {},
     "output_type": "display_data"
    },
    {
     "data": {
      "text/html": [
       "<pre>| 8684         | 5e+008  | 14.701      | 5m 47s       |</pre>"
      ],
      "text/plain": [
       "| 8684         | 5e+008  | 14.701      | 5m 47s       |"
      ]
     },
     "metadata": {},
     "output_type": "display_data"
    },
    {
     "data": {
      "text/html": [
       "<pre>| 8709         | 5e+008  | 14.7434     | 5m 48s       |</pre>"
      ],
      "text/plain": [
       "| 8709         | 5e+008  | 14.7434     | 5m 48s       |"
      ]
     },
     "metadata": {},
     "output_type": "display_data"
    },
    {
     "data": {
      "text/html": [
       "<pre>| 8734         | 5e+008  | 14.787      | 5m 49s       |</pre>"
      ],
      "text/plain": [
       "| 8734         | 5e+008  | 14.787      | 5m 49s       |"
      ]
     },
     "metadata": {},
     "output_type": "display_data"
    },
    {
     "data": {
      "text/html": [
       "<pre>| 8760         | 5e+008  | 14.8306     | 5m 50s       |</pre>"
      ],
      "text/plain": [
       "| 8760         | 5e+008  | 14.8306     | 5m 50s       |"
      ]
     },
     "metadata": {},
     "output_type": "display_data"
    },
    {
     "data": {
      "text/html": [
       "<pre>| 8786         | 5e+008  | 14.874      | 5m 51s       |</pre>"
      ],
      "text/plain": [
       "| 8786         | 5e+008  | 14.874      | 5m 51s       |"
      ]
     },
     "metadata": {},
     "output_type": "display_data"
    },
    {
     "data": {
      "text/html": [
       "<pre>| 8811         | 5e+008  | 14.9166     | 5m 52s       |</pre>"
      ],
      "text/plain": [
       "| 8811         | 5e+008  | 14.9166     | 5m 52s       |"
      ]
     },
     "metadata": {},
     "output_type": "display_data"
    },
    {
     "data": {
      "text/html": [
       "<pre>| 8836         | 5e+008  | 14.9599     | 5m 53s       |</pre>"
      ],
      "text/plain": [
       "| 8836         | 5e+008  | 14.9599     | 5m 53s       |"
      ]
     },
     "metadata": {},
     "output_type": "display_data"
    },
    {
     "data": {
      "text/html": [
       "<pre>| 8862         | 5e+008  | 15.0033     | 5m 54s       |</pre>"
      ],
      "text/plain": [
       "| 8862         | 5e+008  | 15.0033     | 5m 54s       |"
      ]
     },
     "metadata": {},
     "output_type": "display_data"
    },
    {
     "data": {
      "text/html": [
       "<pre>| 8888         | 5e+008  | 15.0466     | 5m 55s       |</pre>"
      ],
      "text/plain": [
       "| 8888         | 5e+008  | 15.0466     | 5m 55s       |"
      ]
     },
     "metadata": {},
     "output_type": "display_data"
    },
    {
     "data": {
      "text/html": [
       "<pre>| 8913         | 5e+008  | 15.0898     | 5m 56s       |</pre>"
      ],
      "text/plain": [
       "| 8913         | 5e+008  | 15.0898     | 5m 56s       |"
      ]
     },
     "metadata": {},
     "output_type": "display_data"
    },
    {
     "data": {
      "text/html": [
       "<pre>| 8939         | 5e+008  | 15.1332     | 5m 57s       |</pre>"
      ],
      "text/plain": [
       "| 8939         | 5e+008  | 15.1332     | 5m 57s       |"
      ]
     },
     "metadata": {},
     "output_type": "display_data"
    },
    {
     "data": {
      "text/html": [
       "<pre>| 8964         | 5e+008  | 15.1759     | 5m 58s       |</pre>"
      ],
      "text/plain": [
       "| 8964         | 5e+008  | 15.1759     | 5m 58s       |"
      ]
     },
     "metadata": {},
     "output_type": "display_data"
    },
    {
     "data": {
      "text/html": [
       "<pre>| 8989         | 5e+008  | 15.2185     | 5m 59s       |</pre>"
      ],
      "text/plain": [
       "| 8989         | 5e+008  | 15.2185     | 5m 59s       |"
      ]
     },
     "metadata": {},
     "output_type": "display_data"
    },
    {
     "data": {
      "text/html": [
       "<pre>| 9014         | 5e+008  | 15.2612     | 6m 0s        |</pre>"
      ],
      "text/plain": [
       "| 9014         | 5e+008  | 15.2612     | 6m 0s        |"
      ]
     },
     "metadata": {},
     "output_type": "display_data"
    },
    {
     "data": {
      "text/html": [
       "<pre>| 9040         | 5e+008  | 15.3046     | 6m 1s        |</pre>"
      ],
      "text/plain": [
       "| 9040         | 5e+008  | 15.3046     | 6m 1s        |"
      ]
     },
     "metadata": {},
     "output_type": "display_data"
    },
    {
     "data": {
      "text/html": [
       "<pre>| 9066         | 5e+008  | 15.3477     | 6m 2s        |</pre>"
      ],
      "text/plain": [
       "| 9066         | 5e+008  | 15.3477     | 6m 2s        |"
      ]
     },
     "metadata": {},
     "output_type": "display_data"
    },
    {
     "data": {
      "text/html": [
       "<pre>| 9090         | 5e+008  | 15.3898     | 6m 3s        |</pre>"
      ],
      "text/plain": [
       "| 9090         | 5e+008  | 15.3898     | 6m 3s        |"
      ]
     },
     "metadata": {},
     "output_type": "display_data"
    },
    {
     "data": {
      "text/html": [
       "<pre>| 9116         | 5e+008  | 15.433      | 6m 4s        |</pre>"
      ],
      "text/plain": [
       "| 9116         | 5e+008  | 15.433      | 6m 4s        |"
      ]
     },
     "metadata": {},
     "output_type": "display_data"
    },
    {
     "data": {
      "text/html": [
       "<pre>| 9142         | 5e+008  | 15.4767     | 6m 5s        |</pre>"
      ],
      "text/plain": [
       "| 9142         | 5e+008  | 15.4767     | 6m 5s        |"
      ]
     },
     "metadata": {},
     "output_type": "display_data"
    },
    {
     "data": {
      "text/html": [
       "<pre>| 9168         | 5e+008  | 15.5204     | 6m 6s        |</pre>"
      ],
      "text/plain": [
       "| 9168         | 5e+008  | 15.5204     | 6m 6s        |"
      ]
     },
     "metadata": {},
     "output_type": "display_data"
    },
    {
     "data": {
      "text/html": [
       "<pre>| 9193         | 5e+008  | 15.5636     | 6m 7s        |</pre>"
      ],
      "text/plain": [
       "| 9193         | 5e+008  | 15.5636     | 6m 7s        |"
      ]
     },
     "metadata": {},
     "output_type": "display_data"
    },
    {
     "data": {
      "text/html": [
       "<pre>| 9218         | 5e+008  | 15.6065     | 6m 8s        |</pre>"
      ],
      "text/plain": [
       "| 9218         | 5e+008  | 15.6065     | 6m 8s        |"
      ]
     },
     "metadata": {},
     "output_type": "display_data"
    },
    {
     "data": {
      "text/html": [
       "<pre>| 9244         | 5e+008  | 15.6501     | 6m 9s        |</pre>"
      ],
      "text/plain": [
       "| 9244         | 5e+008  | 15.6501     | 6m 9s        |"
      ]
     },
     "metadata": {},
     "output_type": "display_data"
    },
    {
     "data": {
      "text/html": [
       "<pre>| 9270         | 5e+008  | 15.6936     | 6m 10s       |</pre>"
      ],
      "text/plain": [
       "| 9270         | 5e+008  | 15.6936     | 6m 10s       |"
      ]
     },
     "metadata": {},
     "output_type": "display_data"
    },
    {
     "data": {
      "text/html": [
       "<pre>| 9295         | 5e+008  | 15.7366     | 6m 11s       |</pre>"
      ],
      "text/plain": [
       "| 9295         | 5e+008  | 15.7366     | 6m 11s       |"
      ]
     },
     "metadata": {},
     "output_type": "display_data"
    },
    {
     "data": {
      "text/html": [
       "<pre>| 9320         | 6e+008  | 15.7789     | 6m 12s       |</pre>"
      ],
      "text/plain": [
       "| 9320         | 6e+008  | 15.7789     | 6m 12s       |"
      ]
     },
     "metadata": {},
     "output_type": "display_data"
    },
    {
     "data": {
      "text/html": [
       "<pre>| 9346         | 6e+008  | 15.8217     | 6m 13s       |</pre>"
      ],
      "text/plain": [
       "| 9346         | 6e+008  | 15.8217     | 6m 13s       |"
      ]
     },
     "metadata": {},
     "output_type": "display_data"
    },
    {
     "data": {
      "text/html": [
       "<pre>| 9371         | 6e+008  | 15.8645     | 6m 14s       |</pre>"
      ],
      "text/plain": [
       "| 9371         | 6e+008  | 15.8645     | 6m 14s       |"
      ]
     },
     "metadata": {},
     "output_type": "display_data"
    },
    {
     "data": {
      "text/html": [
       "<pre>| 9396         | 6e+008  | 15.9079     | 6m 15s       |</pre>"
      ],
      "text/plain": [
       "| 9396         | 6e+008  | 15.9079     | 6m 15s       |"
      ]
     },
     "metadata": {},
     "output_type": "display_data"
    },
    {
     "data": {
      "text/html": [
       "<pre>| 9422         | 6e+008  | 15.9514     | 6m 16s       |</pre>"
      ],
      "text/plain": [
       "| 9422         | 6e+008  | 15.9514     | 6m 16s       |"
      ]
     },
     "metadata": {},
     "output_type": "display_data"
    },
    {
     "data": {
      "text/html": [
       "<pre>| 9448         | 6e+008  | 15.9953     | 6m 17s       |</pre>"
      ],
      "text/plain": [
       "| 9448         | 6e+008  | 15.9953     | 6m 17s       |"
      ]
     },
     "metadata": {},
     "output_type": "display_data"
    },
    {
     "data": {
      "text/html": [
       "<pre>| 9473         | 6e+008  | 16.038      | 6m 18s       |</pre>"
      ],
      "text/plain": [
       "| 9473         | 6e+008  | 16.038      | 6m 18s       |"
      ]
     },
     "metadata": {},
     "output_type": "display_data"
    },
    {
     "data": {
      "text/html": [
       "<pre>| 9498         | 6e+008  | 16.0801     | 6m 19s       |</pre>"
      ],
      "text/plain": [
       "| 9498         | 6e+008  | 16.0801     | 6m 19s       |"
      ]
     },
     "metadata": {},
     "output_type": "display_data"
    },
    {
     "data": {
      "text/html": [
       "<pre>| 9523         | 6e+008  | 16.1226     | 6m 20s       |</pre>"
      ],
      "text/plain": [
       "| 9523         | 6e+008  | 16.1226     | 6m 20s       |"
      ]
     },
     "metadata": {},
     "output_type": "display_data"
    },
    {
     "data": {
      "text/html": [
       "<pre>| 9549         | 6e+008  | 16.1659     | 6m 21s       |</pre>"
      ],
      "text/plain": [
       "| 9549         | 6e+008  | 16.1659     | 6m 21s       |"
      ]
     },
     "metadata": {},
     "output_type": "display_data"
    },
    {
     "data": {
      "text/html": [
       "<pre>| 9574         | 6e+008  | 16.2087     | 6m 22s       |</pre>"
      ],
      "text/plain": [
       "| 9574         | 6e+008  | 16.2087     | 6m 22s       |"
      ]
     },
     "metadata": {},
     "output_type": "display_data"
    },
    {
     "data": {
      "text/html": [
       "<pre>| 9599         | 6e+008  | 16.2513     | 6m 23s       |</pre>"
      ],
      "text/plain": [
       "| 9599         | 6e+008  | 16.2513     | 6m 23s       |"
      ]
     },
     "metadata": {},
     "output_type": "display_data"
    },
    {
     "data": {
      "text/html": [
       "<pre>| 9625         | 6e+008  | 16.2943     | 6m 24s       |</pre>"
      ],
      "text/plain": [
       "| 9625         | 6e+008  | 16.2943     | 6m 24s       |"
      ]
     },
     "metadata": {},
     "output_type": "display_data"
    },
    {
     "data": {
      "text/html": [
       "<pre>| 9647         | 6e+008  | 16.3328     | 6m 25s       |</pre>"
      ],
      "text/plain": [
       "| 9647         | 6e+008  | 16.3328     | 6m 25s       |"
      ]
     },
     "metadata": {},
     "output_type": "display_data"
    },
    {
     "data": {
      "text/html": [
       "<pre>| 9670         | 6e+008  | 16.3715     | 6m 26s       |</pre>"
      ],
      "text/plain": [
       "| 9670         | 6e+008  | 16.3715     | 6m 26s       |"
      ]
     },
     "metadata": {},
     "output_type": "display_data"
    },
    {
     "data": {
      "text/html": [
       "<pre>| 9696         | 6e+008  | 16.4143     | 6m 27s       |</pre>"
      ],
      "text/plain": [
       "| 9696         | 6e+008  | 16.4143     | 6m 27s       |"
      ]
     },
     "metadata": {},
     "output_type": "display_data"
    },
    {
     "data": {
      "text/html": [
       "<pre>| 9721         | 6e+008  | 16.4573     | 6m 28s       |</pre>"
      ],
      "text/plain": [
       "| 9721         | 6e+008  | 16.4573     | 6m 28s       |"
      ]
     },
     "metadata": {},
     "output_type": "display_data"
    },
    {
     "data": {
      "text/html": [
       "<pre>| 9747         | 6e+008  | 16.5006     | 6m 29s       |</pre>"
      ],
      "text/plain": [
       "| 9747         | 6e+008  | 16.5006     | 6m 29s       |"
      ]
     },
     "metadata": {},
     "output_type": "display_data"
    },
    {
     "data": {
      "text/html": [
       "<pre>| 9772         | 6e+008  | 16.544      | 6m 30s       |</pre>"
      ],
      "text/plain": [
       "| 9772         | 6e+008  | 16.544      | 6m 30s       |"
      ]
     },
     "metadata": {},
     "output_type": "display_data"
    },
    {
     "data": {
      "text/html": [
       "<pre>| 9798         | 6e+008  | 16.587      | 6m 31s       |</pre>"
      ],
      "text/plain": [
       "| 9798         | 6e+008  | 16.587      | 6m 31s       |"
      ]
     },
     "metadata": {},
     "output_type": "display_data"
    },
    {
     "data": {
      "text/html": [
       "<pre>| 9822         | 6e+008  | 16.6291     | 6m 32s       |</pre>"
      ],
      "text/plain": [
       "| 9822         | 6e+008  | 16.6291     | 6m 32s       |"
      ]
     },
     "metadata": {},
     "output_type": "display_data"
    },
    {
     "data": {
      "text/html": [
       "<pre>| 9848         | 6e+008  | 16.6722     | 6m 33s       |</pre>"
      ],
      "text/plain": [
       "| 9848         | 6e+008  | 16.6722     | 6m 33s       |"
      ]
     },
     "metadata": {},
     "output_type": "display_data"
    },
    {
     "data": {
      "text/html": [
       "<pre>| 9873         | 6e+008  | 16.7151     | 6m 34s       |</pre>"
      ],
      "text/plain": [
       "| 9873         | 6e+008  | 16.7151     | 6m 34s       |"
      ]
     },
     "metadata": {},
     "output_type": "display_data"
    },
    {
     "data": {
      "text/html": [
       "<pre>| 9898         | 6e+008  | 16.7574     | 6m 35s       |</pre>"
      ],
      "text/plain": [
       "| 9898         | 6e+008  | 16.7574     | 6m 35s       |"
      ]
     },
     "metadata": {},
     "output_type": "display_data"
    },
    {
     "data": {
      "text/html": [
       "<pre>| 9920         | 6e+008  | 16.7935     | 6m 36s       |</pre>"
      ],
      "text/plain": [
       "| 9920         | 6e+008  | 16.7935     | 6m 36s       |"
      ]
     },
     "metadata": {},
     "output_type": "display_data"
    },
    {
     "data": {
      "text/html": [
       "<pre>| 9941         | 6e+008  | 16.829      | 6m 37s       |</pre>"
      ],
      "text/plain": [
       "| 9941         | 6e+008  | 16.829      | 6m 37s       |"
      ]
     },
     "metadata": {},
     "output_type": "display_data"
    },
    {
     "data": {
      "text/html": [
       "<pre>| 9960         | 6e+008  | 16.8621     | 6m 38s       |</pre>"
      ],
      "text/plain": [
       "| 9960         | 6e+008  | 16.8621     | 6m 38s       |"
      ]
     },
     "metadata": {},
     "output_type": "display_data"
    },
    {
     "data": {
      "text/html": [
       "<pre>| 9980         | 6e+008  | 16.8951     | 6m 39s       |</pre>"
      ],
      "text/plain": [
       "| 9980         | 6e+008  | 16.8951     | 6m 39s       |"
      ]
     },
     "metadata": {},
     "output_type": "display_data"
    },
    {
     "data": {
      "text/html": [
       "<pre>| 9999         | 6e+008  | 16.9287     | 6m 40s       |</pre>"
      ],
      "text/plain": [
       "| 9999         | 6e+008  | 16.9287     | 6m 40s       |"
      ]
     },
     "metadata": {},
     "output_type": "display_data"
    },
    {
     "data": {
      "text/html": [
       "<pre>| 10013        | 6e+008  | 16.9514     | 6m 41s       |</pre>"
      ],
      "text/plain": [
       "| 10013        | 6e+008  | 16.9514     | 6m 41s       |"
      ]
     },
     "metadata": {},
     "output_type": "display_data"
    },
    {
     "data": {
      "text/html": [
       "<pre>| 10029        | 6e+008  | 16.9779     | 6m 42s       |</pre>"
      ],
      "text/plain": [
       "| 10029        | 6e+008  | 16.9779     | 6m 42s       |"
      ]
     },
     "metadata": {},
     "output_type": "display_data"
    },
    {
     "data": {
      "text/html": [
       "<pre>| 10049        | 6e+008  | 17.0118     | 6m 43s       |</pre>"
      ],
      "text/plain": [
       "| 10049        | 6e+008  | 17.0118     | 6m 43s       |"
      ]
     },
     "metadata": {},
     "output_type": "display_data"
    },
    {
     "data": {
      "text/html": [
       "<pre>| 10069        | 6e+008  | 17.047      | 6m 44s       |</pre>"
      ],
      "text/plain": [
       "| 10069        | 6e+008  | 17.047      | 6m 44s       |"
      ]
     },
     "metadata": {},
     "output_type": "display_data"
    },
    {
     "data": {
      "text/html": [
       "<pre>| 10091        | 6e+008  | 17.0833     | 6m 45s       |</pre>"
      ],
      "text/plain": [
       "| 10091        | 6e+008  | 17.0833     | 6m 45s       |"
      ]
     },
     "metadata": {},
     "output_type": "display_data"
    },
    {
     "data": {
      "text/html": [
       "<pre>| 10113        | 6e+008  | 17.1204     | 6m 46s       |</pre>"
      ],
      "text/plain": [
       "| 10113        | 6e+008  | 17.1204     | 6m 46s       |"
      ]
     },
     "metadata": {},
     "output_type": "display_data"
    },
    {
     "data": {
      "text/html": [
       "<pre>| 10135        | 6e+008  | 17.1578     | 6m 47s       |</pre>"
      ],
      "text/plain": [
       "| 10135        | 6e+008  | 17.1578     | 6m 47s       |"
      ]
     },
     "metadata": {},
     "output_type": "display_data"
    },
    {
     "data": {
      "text/html": [
       "<pre>| 10158        | 6e+008  | 17.1965     | 6m 48s       |</pre>"
      ],
      "text/plain": [
       "| 10158        | 6e+008  | 17.1965     | 6m 48s       |"
      ]
     },
     "metadata": {},
     "output_type": "display_data"
    },
    {
     "data": {
      "text/html": [
       "<pre>| 10181        | 6e+008  | 17.2356     | 6m 49s       |</pre>"
      ],
      "text/plain": [
       "| 10181        | 6e+008  | 17.2356     | 6m 49s       |"
      ]
     },
     "metadata": {},
     "output_type": "display_data"
    },
    {
     "data": {
      "text/html": [
       "<pre>| 10204        | 6e+008  | 17.2747     | 6m 50s       |</pre>"
      ],
      "text/plain": [
       "| 10204        | 6e+008  | 17.2747     | 6m 50s       |"
      ]
     },
     "metadata": {},
     "output_type": "display_data"
    },
    {
     "data": {
      "text/html": [
       "<pre>| 10226        | 6e+008  | 17.313      | 6m 51s       |</pre>"
      ],
      "text/plain": [
       "| 10226        | 6e+008  | 17.313      | 6m 51s       |"
      ]
     },
     "metadata": {},
     "output_type": "display_data"
    },
    {
     "data": {
      "text/html": [
       "<pre>| 10249        | 6e+008  | 17.3516     | 6m 52s       |</pre>"
      ],
      "text/plain": [
       "| 10249        | 6e+008  | 17.3516     | 6m 52s       |"
      ]
     },
     "metadata": {},
     "output_type": "display_data"
    },
    {
     "data": {
      "text/html": [
       "<pre>| 10272        | 6e+008  | 17.39       | 6m 53s       |</pre>"
      ],
      "text/plain": [
       "| 10272        | 6e+008  | 17.39       | 6m 53s       |"
      ]
     },
     "metadata": {},
     "output_type": "display_data"
    },
    {
     "data": {
      "text/html": [
       "<pre>| 10295        | 6e+008  | 17.429      | 6m 54s       |</pre>"
      ],
      "text/plain": [
       "| 10295        | 6e+008  | 17.429      | 6m 54s       |"
      ]
     },
     "metadata": {},
     "output_type": "display_data"
    },
    {
     "data": {
      "text/html": [
       "<pre>| 10317        | 6e+008  | 17.4671     | 6m 55s       |</pre>"
      ],
      "text/plain": [
       "| 10317        | 6e+008  | 17.4671     | 6m 55s       |"
      ]
     },
     "metadata": {},
     "output_type": "display_data"
    },
    {
     "data": {
      "text/html": [
       "<pre>| 10340        | 6e+008  | 17.5044     | 6m 56s       |</pre>"
      ],
      "text/plain": [
       "| 10340        | 6e+008  | 17.5044     | 6m 56s       |"
      ]
     },
     "metadata": {},
     "output_type": "display_data"
    },
    {
     "data": {
      "text/html": [
       "<pre>| 10361        | 6e+008  | 17.5405     | 6m 57s       |</pre>"
      ],
      "text/plain": [
       "| 10361        | 6e+008  | 17.5405     | 6m 57s       |"
      ]
     },
     "metadata": {},
     "output_type": "display_data"
    },
    {
     "data": {
      "text/html": [
       "<pre>| 10381        | 6e+008  | 17.5742     | 6m 58s       |</pre>"
      ],
      "text/plain": [
       "| 10381        | 6e+008  | 17.5742     | 6m 58s       |"
      ]
     },
     "metadata": {},
     "output_type": "display_data"
    },
    {
     "data": {
      "text/html": [
       "<pre>| 10402        | 6e+008  | 17.6095     | 6m 59s       |</pre>"
      ],
      "text/plain": [
       "| 10402        | 6e+008  | 17.6095     | 6m 59s       |"
      ]
     },
     "metadata": {},
     "output_type": "display_data"
    },
    {
     "data": {
      "text/html": [
       "<pre>| 10422        | 6e+008  | 17.644      | 7m 0s        |</pre>"
      ],
      "text/plain": [
       "| 10422        | 6e+008  | 17.644      | 7m 0s        |"
      ]
     },
     "metadata": {},
     "output_type": "display_data"
    },
    {
     "data": {
      "text/html": [
       "<pre>| 10444        | 6e+008  | 17.6821     | 7m 1s        |</pre>"
      ],
      "text/plain": [
       "| 10444        | 6e+008  | 17.6821     | 7m 1s        |"
      ]
     },
     "metadata": {},
     "output_type": "display_data"
    },
    {
     "data": {
      "text/html": [
       "<pre>| 10467        | 6e+008  | 17.7195     | 7m 2s        |</pre>"
      ],
      "text/plain": [
       "| 10467        | 6e+008  | 17.7195     | 7m 2s        |"
      ]
     },
     "metadata": {},
     "output_type": "display_data"
    },
    {
     "data": {
      "text/html": [
       "<pre>| 10485        | 6e+008  | 17.7507     | 7m 3s        |</pre>"
      ],
      "text/plain": [
       "| 10485        | 6e+008  | 17.7507     | 7m 3s        |"
      ]
     },
     "metadata": {},
     "output_type": "display_data"
    },
    {
     "data": {
      "text/html": [
       "<pre>| 10504        | 6e+008  | 17.7821     | 7m 4s        |</pre>"
      ],
      "text/plain": [
       "| 10504        | 6e+008  | 17.7821     | 7m 4s        |"
      ]
     },
     "metadata": {},
     "output_type": "display_data"
    },
    {
     "data": {
      "text/html": [
       "<pre>| 10525        | 6e+008  | 17.8191     | 7m 5s        |</pre>"
      ],
      "text/plain": [
       "| 10525        | 6e+008  | 17.8191     | 7m 5s        |"
      ]
     },
     "metadata": {},
     "output_type": "display_data"
    },
    {
     "data": {
      "text/html": [
       "<pre>| 10545        | 6e+008  | 17.8524     | 7m 6s        |</pre>"
      ],
      "text/plain": [
       "| 10545        | 6e+008  | 17.8524     | 7m 6s        |"
      ]
     },
     "metadata": {},
     "output_type": "display_data"
    },
    {
     "data": {
      "text/html": [
       "<pre>| 10562        | 6e+008  | 17.8819     | 7m 7s        |</pre>"
      ],
      "text/plain": [
       "| 10562        | 6e+008  | 17.8819     | 7m 7s        |"
      ]
     },
     "metadata": {},
     "output_type": "display_data"
    },
    {
     "data": {
      "text/html": [
       "<pre>| 10582        | 6e+008  | 17.9147     | 7m 8s        |</pre>"
      ],
      "text/plain": [
       "| 10582        | 6e+008  | 17.9147     | 7m 8s        |"
      ]
     },
     "metadata": {},
     "output_type": "display_data"
    },
    {
     "data": {
      "text/html": [
       "<pre>| 10603        | 6e+008  | 17.9511     | 7m 9s        |</pre>"
      ],
      "text/plain": [
       "| 10603        | 6e+008  | 17.9511     | 7m 9s        |"
      ]
     },
     "metadata": {},
     "output_type": "display_data"
    },
    {
     "data": {
      "text/html": [
       "<pre>| 10625        | 6e+008  | 17.9872     | 7m 10s       |</pre>"
      ],
      "text/plain": [
       "| 10625        | 6e+008  | 17.9872     | 7m 10s       |"
      ]
     },
     "metadata": {},
     "output_type": "display_data"
    },
    {
     "data": {
      "text/html": [
       "<pre>| 10646        | 6e+008  | 18.0237     | 7m 11s       |</pre>"
      ],
      "text/plain": [
       "| 10646        | 6e+008  | 18.0237     | 7m 11s       |"
      ]
     },
     "metadata": {},
     "output_type": "display_data"
    },
    {
     "data": {
      "text/html": [
       "<pre>| 10668        | 6e+008  | 18.0611     | 7m 12s       |</pre>"
      ],
      "text/plain": [
       "| 10668        | 6e+008  | 18.0611     | 7m 12s       |"
      ]
     },
     "metadata": {},
     "output_type": "display_data"
    },
    {
     "data": {
      "text/html": [
       "<pre>| 10690        | 6e+008  | 18.0979     | 7m 13s       |</pre>"
      ],
      "text/plain": [
       "| 10690        | 6e+008  | 18.0979     | 7m 13s       |"
      ]
     },
     "metadata": {},
     "output_type": "display_data"
    },
    {
     "data": {
      "text/html": [
       "<pre>| 10711        | 6e+008  | 18.1335     | 7m 14s       |</pre>"
      ],
      "text/plain": [
       "| 10711        | 6e+008  | 18.1335     | 7m 14s       |"
      ]
     },
     "metadata": {},
     "output_type": "display_data"
    },
    {
     "data": {
      "text/html": [
       "<pre>| 10733        | 6e+008  | 18.1711     | 7m 15s       |</pre>"
      ],
      "text/plain": [
       "| 10733        | 6e+008  | 18.1711     | 7m 15s       |"
      ]
     },
     "metadata": {},
     "output_type": "display_data"
    },
    {
     "data": {
      "text/html": [
       "<pre>| 10755        | 6e+008  | 18.2086     | 7m 16s       |</pre>"
      ],
      "text/plain": [
       "| 10755        | 6e+008  | 18.2086     | 7m 16s       |"
      ]
     },
     "metadata": {},
     "output_type": "display_data"
    },
    {
     "data": {
      "text/html": [
       "<pre>| 10777        | 6e+008  | 18.2455     | 7m 17s       |</pre>"
      ],
      "text/plain": [
       "| 10777        | 6e+008  | 18.2455     | 7m 17s       |"
      ]
     },
     "metadata": {},
     "output_type": "display_data"
    },
    {
     "data": {
      "text/html": [
       "<pre>| 10799        | 6e+008  | 18.2819     | 7m 18s       |</pre>"
      ],
      "text/plain": [
       "| 10799        | 6e+008  | 18.2819     | 7m 18s       |"
      ]
     },
     "metadata": {},
     "output_type": "display_data"
    },
    {
     "data": {
      "text/html": [
       "<pre>| 10817        | 6e+008  | 18.3127     | 7m 19s       |</pre>"
      ],
      "text/plain": [
       "| 10817        | 6e+008  | 18.3127     | 7m 19s       |"
      ]
     },
     "metadata": {},
     "output_type": "display_data"
    },
    {
     "data": {
      "text/html": [
       "<pre>| 10835        | 6e+008  | 18.3435     | 7m 20s       |</pre>"
      ],
      "text/plain": [
       "| 10835        | 6e+008  | 18.3435     | 7m 20s       |"
      ]
     },
     "metadata": {},
     "output_type": "display_data"
    },
    {
     "data": {
      "text/html": [
       "<pre>| 10856        | 6e+008  | 18.378      | 7m 21s       |</pre>"
      ],
      "text/plain": [
       "| 10856        | 6e+008  | 18.378      | 7m 21s       |"
      ]
     },
     "metadata": {},
     "output_type": "display_data"
    },
    {
     "data": {
      "text/html": [
       "<pre>| 10877        | 6e+008  | 18.4148     | 7m 22s       |</pre>"
      ],
      "text/plain": [
       "| 10877        | 6e+008  | 18.4148     | 7m 22s       |"
      ]
     },
     "metadata": {},
     "output_type": "display_data"
    },
    {
     "data": {
      "text/html": [
       "<pre>| 10899        | 6e+008  | 18.4512     | 7m 23s       |</pre>"
      ],
      "text/plain": [
       "| 10899        | 6e+008  | 18.4512     | 7m 23s       |"
      ]
     },
     "metadata": {},
     "output_type": "display_data"
    },
    {
     "data": {
      "text/html": [
       "<pre>| 10920        | 6e+008  | 18.4877     | 7m 24s       |</pre>"
      ],
      "text/plain": [
       "| 10920        | 6e+008  | 18.4877     | 7m 24s       |"
      ]
     },
     "metadata": {},
     "output_type": "display_data"
    },
    {
     "data": {
      "text/html": [
       "<pre>| 10942        | 6e+008  | 18.5251     | 7m 25s       |</pre>"
      ],
      "text/plain": [
       "| 10942        | 6e+008  | 18.5251     | 7m 25s       |"
      ]
     },
     "metadata": {},
     "output_type": "display_data"
    },
    {
     "data": {
      "text/html": [
       "<pre>| 10965        | 6e+008  | 18.5626     | 7m 26s       |</pre>"
      ],
      "text/plain": [
       "| 10965        | 6e+008  | 18.5626     | 7m 26s       |"
      ]
     },
     "metadata": {},
     "output_type": "display_data"
    },
    {
     "data": {
      "text/html": [
       "<pre>| 10987        | 6e+008  | 18.6002     | 7m 27s       |</pre>"
      ],
      "text/plain": [
       "| 10987        | 6e+008  | 18.6002     | 7m 27s       |"
      ]
     },
     "metadata": {},
     "output_type": "display_data"
    },
    {
     "data": {
      "text/html": [
       "<pre>| 11008        | 7e+008  | 18.6366     | 7m 28s       |</pre>"
      ],
      "text/plain": [
       "| 11008        | 7e+008  | 18.6366     | 7m 28s       |"
      ]
     },
     "metadata": {},
     "output_type": "display_data"
    },
    {
     "data": {
      "text/html": [
       "<pre>| 11029        | 7e+008  | 18.671      | 7m 29s       |</pre>"
      ],
      "text/plain": [
       "| 11029        | 7e+008  | 18.671      | 7m 29s       |"
      ]
     },
     "metadata": {},
     "output_type": "display_data"
    },
    {
     "data": {
      "text/html": [
       "<pre>| 11047        | 7e+008  | 18.702      | 7m 30s       |</pre>"
      ],
      "text/plain": [
       "| 11047        | 7e+008  | 18.702      | 7m 30s       |"
      ]
     },
     "metadata": {},
     "output_type": "display_data"
    },
    {
     "data": {
      "text/html": [
       "<pre>| 11065        | 7e+008  | 18.7326     | 7m 31s       |</pre>"
      ],
      "text/plain": [
       "| 11065        | 7e+008  | 18.7326     | 7m 31s       |"
      ]
     },
     "metadata": {},
     "output_type": "display_data"
    },
    {
     "data": {
      "text/html": [
       "<pre>| 11081        | 7e+008  | 18.7598     | 7m 32s       |</pre>"
      ],
      "text/plain": [
       "| 11081        | 7e+008  | 18.7598     | 7m 32s       |"
      ]
     },
     "metadata": {},
     "output_type": "display_data"
    },
    {
     "data": {
      "text/html": [
       "<pre>| 11105        | 7e+008  | 18.7996     | 7m 33s       |</pre>"
      ],
      "text/plain": [
       "| 11105        | 7e+008  | 18.7996     | 7m 33s       |"
      ]
     },
     "metadata": {},
     "output_type": "display_data"
    },
    {
     "data": {
      "text/html": [
       "<pre>| 11127        | 7e+008  | 18.8379     | 7m 34s       |</pre>"
      ],
      "text/plain": [
       "| 11127        | 7e+008  | 18.8379     | 7m 34s       |"
      ]
     },
     "metadata": {},
     "output_type": "display_data"
    },
    {
     "data": {
      "text/html": [
       "<pre>| 11150        | 7e+008  | 18.8765     | 7m 35s       |</pre>"
      ],
      "text/plain": [
       "| 11150        | 7e+008  | 18.8765     | 7m 35s       |"
      ]
     },
     "metadata": {},
     "output_type": "display_data"
    },
    {
     "data": {
      "text/html": [
       "<pre>| 11173        | 7e+008  | 18.915      | 7m 36s       |</pre>"
      ],
      "text/plain": [
       "| 11173        | 7e+008  | 18.915      | 7m 36s       |"
      ]
     },
     "metadata": {},
     "output_type": "display_data"
    },
    {
     "data": {
      "text/html": [
       "<pre>| 11196        | 7e+008  | 18.954      | 7m 37s       |</pre>"
      ],
      "text/plain": [
       "| 11196        | 7e+008  | 18.954      | 7m 37s       |"
      ]
     },
     "metadata": {},
     "output_type": "display_data"
    },
    {
     "data": {
      "text/html": [
       "<pre>| 11219        | 7e+008  | 18.9928     | 7m 38s       |</pre>"
      ],
      "text/plain": [
       "| 11219        | 7e+008  | 18.9928     | 7m 38s       |"
      ]
     },
     "metadata": {},
     "output_type": "display_data"
    },
    {
     "data": {
      "text/html": [
       "<pre>| 11242        | 7e+008  | 19.0317     | 7m 39s       |</pre>"
      ],
      "text/plain": [
       "| 11242        | 7e+008  | 19.0317     | 7m 39s       |"
      ]
     },
     "metadata": {},
     "output_type": "display_data"
    },
    {
     "data": {
      "text/html": [
       "<pre>| 11264        | 7e+008  | 19.0696     | 7m 40s       |</pre>"
      ],
      "text/plain": [
       "| 11264        | 7e+008  | 19.0696     | 7m 40s       |"
      ]
     },
     "metadata": {},
     "output_type": "display_data"
    },
    {
     "data": {
      "text/html": [
       "<pre>| 11286        | 7e+008  | 19.1074     | 7m 41s       |</pre>"
      ],
      "text/plain": [
       "| 11286        | 7e+008  | 19.1074     | 7m 41s       |"
      ]
     },
     "metadata": {},
     "output_type": "display_data"
    },
    {
     "data": {
      "text/html": [
       "<pre>| 11309        | 7e+008  | 19.1456     | 7m 42s       |</pre>"
      ],
      "text/plain": [
       "| 11309        | 7e+008  | 19.1456     | 7m 42s       |"
      ]
     },
     "metadata": {},
     "output_type": "display_data"
    },
    {
     "data": {
      "text/html": [
       "<pre>| 11331        | 7e+008  | 19.1834     | 7m 43s       |</pre>"
      ],
      "text/plain": [
       "| 11331        | 7e+008  | 19.1834     | 7m 43s       |"
      ]
     },
     "metadata": {},
     "output_type": "display_data"
    },
    {
     "data": {
      "text/html": [
       "<pre>| 11353        | 7e+008  | 19.2208     | 7m 44s       |</pre>"
      ],
      "text/plain": [
       "| 11353        | 7e+008  | 19.2208     | 7m 44s       |"
      ]
     },
     "metadata": {},
     "output_type": "display_data"
    },
    {
     "data": {
      "text/html": [
       "<pre>| 11376        | 7e+008  | 19.2594     | 7m 45s       |</pre>"
      ],
      "text/plain": [
       "| 11376        | 7e+008  | 19.2594     | 7m 45s       |"
      ]
     },
     "metadata": {},
     "output_type": "display_data"
    },
    {
     "data": {
      "text/html": [
       "<pre>| 11398        | 7e+008  | 19.2967     | 7m 46s       |</pre>"
      ],
      "text/plain": [
       "| 11398        | 7e+008  | 19.2967     | 7m 46s       |"
      ]
     },
     "metadata": {},
     "output_type": "display_data"
    },
    {
     "data": {
      "text/html": [
       "<pre>| 11421        | 7e+008  | 19.3346     | 7m 47s       |</pre>"
      ],
      "text/plain": [
       "| 11421        | 7e+008  | 19.3346     | 7m 47s       |"
      ]
     },
     "metadata": {},
     "output_type": "display_data"
    },
    {
     "data": {
      "text/html": [
       "<pre>| 11443        | 7e+008  | 19.3719     | 7m 48s       |</pre>"
      ],
      "text/plain": [
       "| 11443        | 7e+008  | 19.3719     | 7m 48s       |"
      ]
     },
     "metadata": {},
     "output_type": "display_data"
    },
    {
     "data": {
      "text/html": [
       "<pre>| 11465        | 7e+008  | 19.41       | 7m 49s       |</pre>"
      ],
      "text/plain": [
       "| 11465        | 7e+008  | 19.41       | 7m 49s       |"
      ]
     },
     "metadata": {},
     "output_type": "display_data"
    },
    {
     "data": {
      "text/html": [
       "<pre>| 11488        | 7e+008  | 19.4479     | 7m 50s       |</pre>"
      ],
      "text/plain": [
       "| 11488        | 7e+008  | 19.4479     | 7m 50s       |"
      ]
     },
     "metadata": {},
     "output_type": "display_data"
    },
    {
     "data": {
      "text/html": [
       "<pre>| 11510        | 7e+008  | 19.4859     | 7m 51s       |</pre>"
      ],
      "text/plain": [
       "| 11510        | 7e+008  | 19.4859     | 7m 51s       |"
      ]
     },
     "metadata": {},
     "output_type": "display_data"
    },
    {
     "data": {
      "text/html": [
       "<pre>| 11532        | 7e+008  | 19.5232     | 7m 52s       |</pre>"
      ],
      "text/plain": [
       "| 11532        | 7e+008  | 19.5232     | 7m 52s       |"
      ]
     },
     "metadata": {},
     "output_type": "display_data"
    },
    {
     "data": {
      "text/html": [
       "<pre>| 11555        | 7e+008  | 19.5612     | 7m 53s       |</pre>"
      ],
      "text/plain": [
       "| 11555        | 7e+008  | 19.5612     | 7m 53s       |"
      ]
     },
     "metadata": {},
     "output_type": "display_data"
    },
    {
     "data": {
      "text/html": [
       "<pre>| 11577        | 7e+008  | 19.5996     | 7m 54s       |</pre>"
      ],
      "text/plain": [
       "| 11577        | 7e+008  | 19.5996     | 7m 54s       |"
      ]
     },
     "metadata": {},
     "output_type": "display_data"
    },
    {
     "data": {
      "text/html": [
       "<pre>| 11599        | 7e+008  | 19.6368     | 7m 55s       |</pre>"
      ],
      "text/plain": [
       "| 11599        | 7e+008  | 19.6368     | 7m 55s       |"
      ]
     },
     "metadata": {},
     "output_type": "display_data"
    },
    {
     "data": {
      "text/html": [
       "<pre>| 11621        | 7e+008  | 19.6738     | 7m 56s       |</pre>"
      ],
      "text/plain": [
       "| 11621        | 7e+008  | 19.6738     | 7m 56s       |"
      ]
     },
     "metadata": {},
     "output_type": "display_data"
    },
    {
     "data": {
      "text/html": [
       "<pre>| 11643        | 7e+008  | 19.7106     | 7m 57s       |</pre>"
      ],
      "text/plain": [
       "| 11643        | 7e+008  | 19.7106     | 7m 57s       |"
      ]
     },
     "metadata": {},
     "output_type": "display_data"
    },
    {
     "data": {
      "text/html": [
       "<pre>| 11665        | 7e+008  | 19.7478     | 7m 58s       |</pre>"
      ],
      "text/plain": [
       "| 11665        | 7e+008  | 19.7478     | 7m 58s       |"
      ]
     },
     "metadata": {},
     "output_type": "display_data"
    },
    {
     "data": {
      "text/html": [
       "<pre>| 11687        | 7e+008  | 19.7854     | 7m 59s       |</pre>"
      ],
      "text/plain": [
       "| 11687        | 7e+008  | 19.7854     | 7m 59s       |"
      ]
     },
     "metadata": {},
     "output_type": "display_data"
    },
    {
     "data": {
      "text/html": [
       "<pre>| 11709        | 7e+008  | 19.8231     | 8m 0s        |</pre>"
      ],
      "text/plain": [
       "| 11709        | 7e+008  | 19.8231     | 8m 0s        |"
      ]
     },
     "metadata": {},
     "output_type": "display_data"
    },
    {
     "data": {
      "text/html": [
       "<pre>| 11731        | 7e+008  | 19.8608     | 8m 1s        |</pre>"
      ],
      "text/plain": [
       "| 11731        | 7e+008  | 19.8608     | 8m 1s        |"
      ]
     },
     "metadata": {},
     "output_type": "display_data"
    },
    {
     "data": {
      "text/html": [
       "<pre>| 11754        | 7e+008  | 19.8981     | 8m 2s        |</pre>"
      ],
      "text/plain": [
       "| 11754        | 7e+008  | 19.8981     | 8m 2s        |"
      ]
     },
     "metadata": {},
     "output_type": "display_data"
    },
    {
     "data": {
      "text/html": [
       "<pre>| 11775        | 7e+008  | 19.9344     | 8m 3s        |</pre>"
      ],
      "text/plain": [
       "| 11775        | 7e+008  | 19.9344     | 8m 3s        |"
      ]
     },
     "metadata": {},
     "output_type": "display_data"
    },
    {
     "data": {
      "text/html": [
       "<pre>| 11790        | 7e+008  | 19.9605     | 8m 4s        |</pre>"
      ],
      "text/plain": [
       "| 11790        | 7e+008  | 19.9605     | 8m 4s        |"
      ]
     },
     "metadata": {},
     "output_type": "display_data"
    },
    {
     "data": {
      "text/html": [
       "<pre>| 11806        | 7e+008  | 19.9873     | 8m 5s        |</pre>"
      ],
      "text/plain": [
       "| 11806        | 7e+008  | 19.9873     | 8m 5s        |"
      ]
     },
     "metadata": {},
     "output_type": "display_data"
    },
    {
     "data": {
      "text/html": [
       "<pre>| 11827        | 7e+008  | 20.0233     | 8m 6s        |</pre>"
      ],
      "text/plain": [
       "| 11827        | 7e+008  | 20.0233     | 8m 6s        |"
      ]
     },
     "metadata": {},
     "output_type": "display_data"
    },
    {
     "data": {
      "text/html": [
       "<pre>| 11848        | 7e+008  | 20.0578     | 8m 7s        |</pre>"
      ],
      "text/plain": [
       "| 11848        | 7e+008  | 20.0578     | 8m 7s        |"
      ]
     },
     "metadata": {},
     "output_type": "display_data"
    },
    {
     "data": {
      "text/html": [
       "<pre>| 11870        | 7e+008  | 20.0948     | 8m 8s        |</pre>"
      ],
      "text/plain": [
       "| 11870        | 7e+008  | 20.0948     | 8m 8s        |"
      ]
     },
     "metadata": {},
     "output_type": "display_data"
    },
    {
     "data": {
      "text/html": [
       "<pre>| 11892        | 7e+008  | 20.1322     | 8m 9s        |</pre>"
      ],
      "text/plain": [
       "| 11892        | 7e+008  | 20.1322     | 8m 9s        |"
      ]
     },
     "metadata": {},
     "output_type": "display_data"
    },
    {
     "data": {
      "text/html": [
       "<pre>| 11914        | 7e+008  | 20.1703     | 8m 10s       |</pre>"
      ],
      "text/plain": [
       "| 11914        | 7e+008  | 20.1703     | 8m 10s       |"
      ]
     },
     "metadata": {},
     "output_type": "display_data"
    },
    {
     "data": {
      "text/html": [
       "<pre>| 11936        | 7e+008  | 20.2075     | 8m 11s       |</pre>"
      ],
      "text/plain": [
       "| 11936        | 7e+008  | 20.2075     | 8m 11s       |"
      ]
     },
     "metadata": {},
     "output_type": "display_data"
    },
    {
     "data": {
      "text/html": [
       "<pre>| 11958        | 7e+008  | 20.2445     | 8m 12s       |</pre>"
      ],
      "text/plain": [
       "| 11958        | 7e+008  | 20.2445     | 8m 12s       |"
      ]
     },
     "metadata": {},
     "output_type": "display_data"
    },
    {
     "data": {
      "text/html": [
       "<pre>| 11980        | 7e+008  | 20.2818     | 8m 13s       |</pre>"
      ],
      "text/plain": [
       "| 11980        | 7e+008  | 20.2818     | 8m 13s       |"
      ]
     },
     "metadata": {},
     "output_type": "display_data"
    },
    {
     "data": {
      "text/html": [
       "<pre>| 12002        | 7e+008  | 20.3192     | 8m 14s       |</pre>"
      ],
      "text/plain": [
       "| 12002        | 7e+008  | 20.3192     | 8m 14s       |"
      ]
     },
     "metadata": {},
     "output_type": "display_data"
    },
    {
     "data": {
      "text/html": [
       "<pre>| 12023        | 7e+008  | 20.3549     | 8m 15s       |</pre>"
      ],
      "text/plain": [
       "| 12023        | 7e+008  | 20.3549     | 8m 15s       |"
      ]
     },
     "metadata": {},
     "output_type": "display_data"
    },
    {
     "data": {
      "text/html": [
       "<pre>| 12044        | 7e+008  | 20.3896     | 8m 16s       |</pre>"
      ],
      "text/plain": [
       "| 12044        | 7e+008  | 20.3896     | 8m 16s       |"
      ]
     },
     "metadata": {},
     "output_type": "display_data"
    },
    {
     "data": {
      "text/html": [
       "<pre>| 12065        | 7e+008  | 20.426      | 8m 17s       |</pre>"
      ],
      "text/plain": [
       "| 12065        | 7e+008  | 20.426      | 8m 17s       |"
      ]
     },
     "metadata": {},
     "output_type": "display_data"
    },
    {
     "data": {
      "text/html": [
       "<pre>| 12087        | 7e+008  | 20.4634     | 8m 18s       |</pre>"
      ],
      "text/plain": [
       "| 12087        | 7e+008  | 20.4634     | 8m 18s       |"
      ]
     },
     "metadata": {},
     "output_type": "display_data"
    },
    {
     "data": {
      "text/html": [
       "<pre>| 12109        | 7e+008  | 20.5007     | 8m 19s       |</pre>"
      ],
      "text/plain": [
       "| 12109        | 7e+008  | 20.5007     | 8m 19s       |"
      ]
     },
     "metadata": {},
     "output_type": "display_data"
    },
    {
     "data": {
      "text/html": [
       "<pre>| 12131        | 7e+008  | 20.5377     | 8m 20s       |</pre>"
      ],
      "text/plain": [
       "| 12131        | 7e+008  | 20.5377     | 8m 20s       |"
      ]
     },
     "metadata": {},
     "output_type": "display_data"
    },
    {
     "data": {
      "text/html": [
       "<pre>| 12153        | 7e+008  | 20.5745     | 8m 21s       |</pre>"
      ],
      "text/plain": [
       "| 12153        | 7e+008  | 20.5745     | 8m 21s       |"
      ]
     },
     "metadata": {},
     "output_type": "display_data"
    },
    {
     "data": {
      "text/html": [
       "<pre>| 12175        | 7e+008  | 20.6118     | 8m 22s       |</pre>"
      ],
      "text/plain": [
       "| 12175        | 7e+008  | 20.6118     | 8m 22s       |"
      ]
     },
     "metadata": {},
     "output_type": "display_data"
    },
    {
     "data": {
      "text/html": [
       "<pre>| 12197        | 7e+008  | 20.6487     | 8m 23s       |</pre>"
      ],
      "text/plain": [
       "| 12197        | 7e+008  | 20.6487     | 8m 23s       |"
      ]
     },
     "metadata": {},
     "output_type": "display_data"
    },
    {
     "data": {
      "text/html": [
       "<pre>| 12219        | 7e+008  | 20.6864     | 8m 24s       |</pre>"
      ],
      "text/plain": [
       "| 12219        | 7e+008  | 20.6864     | 8m 24s       |"
      ]
     },
     "metadata": {},
     "output_type": "display_data"
    },
    {
     "data": {
      "text/html": [
       "<pre>| 12242        | 7e+008  | 20.7244     | 8m 25s       |</pre>"
      ],
      "text/plain": [
       "| 12242        | 7e+008  | 20.7244     | 8m 25s       |"
      ]
     },
     "metadata": {},
     "output_type": "display_data"
    },
    {
     "data": {
      "text/html": [
       "<pre>| 12263        | 7e+008  | 20.7613     | 8m 26s       |</pre>"
      ],
      "text/plain": [
       "| 12263        | 7e+008  | 20.7613     | 8m 26s       |"
      ]
     },
     "metadata": {},
     "output_type": "display_data"
    },
    {
     "data": {
      "text/html": [
       "<pre>| 12285        | 7e+008  | 20.798      | 8m 27s       |</pre>"
      ],
      "text/plain": [
       "| 12285        | 7e+008  | 20.798      | 8m 27s       |"
      ]
     },
     "metadata": {},
     "output_type": "display_data"
    },
    {
     "data": {
      "text/html": [
       "<pre>| 12306        | 7e+008  | 20.834      | 8m 28s       |</pre>"
      ],
      "text/plain": [
       "| 12306        | 7e+008  | 20.834      | 8m 28s       |"
      ]
     },
     "metadata": {},
     "output_type": "display_data"
    },
    {
     "data": {
      "text/html": [
       "<pre>| 12328        | 7e+008  | 20.8714     | 8m 29s       |</pre>"
      ],
      "text/plain": [
       "| 12328        | 7e+008  | 20.8714     | 8m 29s       |"
      ]
     },
     "metadata": {},
     "output_type": "display_data"
    },
    {
     "data": {
      "text/html": [
       "<pre>| 12350        | 7e+008  | 20.9082     | 8m 30s       |</pre>"
      ],
      "text/plain": [
       "| 12350        | 7e+008  | 20.9082     | 8m 30s       |"
      ]
     },
     "metadata": {},
     "output_type": "display_data"
    },
    {
     "data": {
      "text/html": [
       "<pre>| 12372        | 7e+008  | 20.9455     | 8m 31s       |</pre>"
      ],
      "text/plain": [
       "| 12372        | 7e+008  | 20.9455     | 8m 31s       |"
      ]
     },
     "metadata": {},
     "output_type": "display_data"
    },
    {
     "data": {
      "text/html": [
       "<pre>| 12394        | 7e+008  | 20.9825     | 8m 32s       |</pre>"
      ],
      "text/plain": [
       "| 12394        | 7e+008  | 20.9825     | 8m 32s       |"
      ]
     },
     "metadata": {},
     "output_type": "display_data"
    },
    {
     "data": {
      "text/html": [
       "<pre>| 12416        | 7e+008  | 21.0192     | 8m 33s       |</pre>"
      ],
      "text/plain": [
       "| 12416        | 7e+008  | 21.0192     | 8m 33s       |"
      ]
     },
     "metadata": {},
     "output_type": "display_data"
    },
    {
     "data": {
      "text/html": [
       "<pre>| 12438        | 7e+008  | 21.0567     | 8m 34s       |</pre>"
      ],
      "text/plain": [
       "| 12438        | 7e+008  | 21.0567     | 8m 34s       |"
      ]
     },
     "metadata": {},
     "output_type": "display_data"
    },
    {
     "data": {
      "text/html": [
       "<pre>| 12460        | 7e+008  | 21.0941     | 8m 35s       |</pre>"
      ],
      "text/plain": [
       "| 12460        | 7e+008  | 21.0941     | 8m 35s       |"
      ]
     },
     "metadata": {},
     "output_type": "display_data"
    },
    {
     "data": {
      "text/html": [
       "<pre>| 12482        | 7e+008  | 21.1313     | 8m 36s       |</pre>"
      ],
      "text/plain": [
       "| 12482        | 7e+008  | 21.1313     | 8m 36s       |"
      ]
     },
     "metadata": {},
     "output_type": "display_data"
    },
    {
     "data": {
      "text/html": [
       "<pre>| 12504        | 7e+008  | 21.1681     | 8m 37s       |</pre>"
      ],
      "text/plain": [
       "| 12504        | 7e+008  | 21.1681     | 8m 37s       |"
      ]
     },
     "metadata": {},
     "output_type": "display_data"
    },
    {
     "data": {
      "text/html": [
       "<pre>| 12526        | 7e+008  | 21.2052     | 8m 38s       |</pre>"
      ],
      "text/plain": [
       "| 12526        | 7e+008  | 21.2052     | 8m 38s       |"
      ]
     },
     "metadata": {},
     "output_type": "display_data"
    },
    {
     "data": {
      "text/html": [
       "<pre>| 12548        | 7e+008  | 21.243      | 8m 39s       |</pre>"
      ],
      "text/plain": [
       "| 12548        | 7e+008  | 21.243      | 8m 39s       |"
      ]
     },
     "metadata": {},
     "output_type": "display_data"
    },
    {
     "data": {
      "text/html": [
       "<pre>| 12570        | 7e+008  | 21.2807     | 8m 40s       |</pre>"
      ],
      "text/plain": [
       "| 12570        | 7e+008  | 21.2807     | 8m 40s       |"
      ]
     },
     "metadata": {},
     "output_type": "display_data"
    },
    {
     "data": {
      "text/html": [
       "<pre>| 12592        | 7e+008  | 21.3179     | 8m 41s       |</pre>"
      ],
      "text/plain": [
       "| 12592        | 7e+008  | 21.3179     | 8m 41s       |"
      ]
     },
     "metadata": {},
     "output_type": "display_data"
    },
    {
     "data": {
      "text/html": [
       "<pre>| 12614        | 7e+008  | 21.3554     | 8m 42s       |</pre>"
      ],
      "text/plain": [
       "| 12614        | 7e+008  | 21.3554     | 8m 42s       |"
      ]
     },
     "metadata": {},
     "output_type": "display_data"
    },
    {
     "data": {
      "text/html": [
       "<pre>| 12636        | 7e+008  | 21.3913     | 8m 43s       |</pre>"
      ],
      "text/plain": [
       "| 12636        | 7e+008  | 21.3913     | 8m 43s       |"
      ]
     },
     "metadata": {},
     "output_type": "display_data"
    },
    {
     "data": {
      "text/html": [
       "<pre>| 12658        | 7e+008  | 21.4286     | 8m 44s       |</pre>"
      ],
      "text/plain": [
       "| 12658        | 7e+008  | 21.4286     | 8m 44s       |"
      ]
     },
     "metadata": {},
     "output_type": "display_data"
    },
    {
     "data": {
      "text/html": [
       "<pre>| 12679        | 7e+008  | 21.4655     | 8m 45s       |</pre>"
      ],
      "text/plain": [
       "| 12679        | 7e+008  | 21.4655     | 8m 45s       |"
      ]
     },
     "metadata": {},
     "output_type": "display_data"
    },
    {
     "data": {
      "text/html": [
       "<pre>| 12701        | 8e+008  | 21.5028     | 8m 46s       |</pre>"
      ],
      "text/plain": [
       "| 12701        | 8e+008  | 21.5028     | 8m 46s       |"
      ]
     },
     "metadata": {},
     "output_type": "display_data"
    },
    {
     "data": {
      "text/html": [
       "<pre>| 12723        | 8e+008  | 21.5399     | 8m 47s       |</pre>"
      ],
      "text/plain": [
       "| 12723        | 8e+008  | 21.5399     | 8m 47s       |"
      ]
     },
     "metadata": {},
     "output_type": "display_data"
    },
    {
     "data": {
      "text/html": [
       "<pre>| 12745        | 8e+008  | 21.5768     | 8m 48s       |</pre>"
      ],
      "text/plain": [
       "| 12745        | 8e+008  | 21.5768     | 8m 48s       |"
      ]
     },
     "metadata": {},
     "output_type": "display_data"
    },
    {
     "data": {
      "text/html": [
       "<pre>| 12767        | 8e+008  | 21.6144     | 8m 49s       |</pre>"
      ],
      "text/plain": [
       "| 12767        | 8e+008  | 21.6144     | 8m 49s       |"
      ]
     },
     "metadata": {},
     "output_type": "display_data"
    },
    {
     "data": {
      "text/html": [
       "<pre>| 12789        | 8e+008  | 21.6516     | 8m 50s       |</pre>"
      ],
      "text/plain": [
       "| 12789        | 8e+008  | 21.6516     | 8m 50s       |"
      ]
     },
     "metadata": {},
     "output_type": "display_data"
    },
    {
     "data": {
      "text/html": [
       "<pre>| 12811        | 8e+008  | 21.6888     | 8m 51s       |</pre>"
      ],
      "text/plain": [
       "| 12811        | 8e+008  | 21.6888     | 8m 51s       |"
      ]
     },
     "metadata": {},
     "output_type": "display_data"
    },
    {
     "data": {
      "text/html": [
       "<pre>| 12833        | 8e+008  | 21.7259     | 8m 52s       |</pre>"
      ],
      "text/plain": [
       "| 12833        | 8e+008  | 21.7259     | 8m 52s       |"
      ]
     },
     "metadata": {},
     "output_type": "display_data"
    },
    {
     "data": {
      "text/html": [
       "<pre>| 12855        | 8e+008  | 21.7623     | 8m 53s       |</pre>"
      ],
      "text/plain": [
       "| 12855        | 8e+008  | 21.7623     | 8m 53s       |"
      ]
     },
     "metadata": {},
     "output_type": "display_data"
    },
    {
     "data": {
      "text/html": [
       "<pre>| 12877        | 8e+008  | 21.7998     | 8m 54s       |</pre>"
      ],
      "text/plain": [
       "| 12877        | 8e+008  | 21.7998     | 8m 54s       |"
      ]
     },
     "metadata": {},
     "output_type": "display_data"
    },
    {
     "data": {
      "text/html": [
       "<pre>| 12899        | 8e+008  | 21.837      | 8m 55s       |</pre>"
      ],
      "text/plain": [
       "| 12899        | 8e+008  | 21.837      | 8m 55s       |"
      ]
     },
     "metadata": {},
     "output_type": "display_data"
    },
    {
     "data": {
      "text/html": [
       "<pre>| 12921        | 8e+008  | 21.8746     | 8m 56s       |</pre>"
      ],
      "text/plain": [
       "| 12921        | 8e+008  | 21.8746     | 8m 56s       |"
      ]
     },
     "metadata": {},
     "output_type": "display_data"
    },
    {
     "data": {
      "text/html": [
       "<pre>| 12943        | 8e+008  | 21.912      | 8m 57s       |</pre>"
      ],
      "text/plain": [
       "| 12943        | 8e+008  | 21.912      | 8m 57s       |"
      ]
     },
     "metadata": {},
     "output_type": "display_data"
    },
    {
     "data": {
      "text/html": [
       "<pre>| 12965        | 8e+008  | 21.9491     | 8m 58s       |</pre>"
      ],
      "text/plain": [
       "| 12965        | 8e+008  | 21.9491     | 8m 58s       |"
      ]
     },
     "metadata": {},
     "output_type": "display_data"
    },
    {
     "data": {
      "text/html": [
       "<pre>| 12986        | 8e+008  | 21.9848     | 8m 59s       |</pre>"
      ],
      "text/plain": [
       "| 12986        | 8e+008  | 21.9848     | 8m 59s       |"
      ]
     },
     "metadata": {},
     "output_type": "display_data"
    },
    {
     "data": {
      "text/html": [
       "<pre>| 13008        | 8e+008  | 22.0216     | 9m 0s        |</pre>"
      ],
      "text/plain": [
       "| 13008        | 8e+008  | 22.0216     | 9m 0s        |"
      ]
     },
     "metadata": {},
     "output_type": "display_data"
    },
    {
     "data": {
      "text/html": [
       "<pre>| 13030        | 8e+008  | 22.0589     | 9m 1s        |</pre>"
      ],
      "text/plain": [
       "| 13030        | 8e+008  | 22.0589     | 9m 1s        |"
      ]
     },
     "metadata": {},
     "output_type": "display_data"
    },
    {
     "data": {
      "text/html": [
       "<pre>| 13052        | 8e+008  | 22.0956     | 9m 2s        |</pre>"
      ],
      "text/plain": [
       "| 13052        | 8e+008  | 22.0956     | 9m 2s        |"
      ]
     },
     "metadata": {},
     "output_type": "display_data"
    },
    {
     "data": {
      "text/html": [
       "<pre>| 13073        | 8e+008  | 22.132      | 9m 3s        |</pre>"
      ],
      "text/plain": [
       "| 13073        | 8e+008  | 22.132      | 9m 3s        |"
      ]
     },
     "metadata": {},
     "output_type": "display_data"
    },
    {
     "data": {
      "text/html": [
       "<pre>| 13095        | 8e+008  | 22.1688     | 9m 4s        |</pre>"
      ],
      "text/plain": [
       "| 13095        | 8e+008  | 22.1688     | 9m 4s        |"
      ]
     },
     "metadata": {},
     "output_type": "display_data"
    },
    {
     "data": {
      "text/html": [
       "<pre>| 13117        | 8e+008  | 22.2063     | 9m 5s        |</pre>"
      ],
      "text/plain": [
       "| 13117        | 8e+008  | 22.2063     | 9m 5s        |"
      ]
     },
     "metadata": {},
     "output_type": "display_data"
    },
    {
     "data": {
      "text/html": [
       "<pre>| 13139        | 8e+008  | 22.2438     | 9m 6s        |</pre>"
      ],
      "text/plain": [
       "| 13139        | 8e+008  | 22.2438     | 9m 6s        |"
      ]
     },
     "metadata": {},
     "output_type": "display_data"
    },
    {
     "data": {
      "text/html": [
       "<pre>| 13161        | 8e+008  | 22.2807     | 9m 7s        |</pre>"
      ],
      "text/plain": [
       "| 13161        | 8e+008  | 22.2807     | 9m 7s        |"
      ]
     },
     "metadata": {},
     "output_type": "display_data"
    },
    {
     "data": {
      "text/html": [
       "<pre>| 13183        | 8e+008  | 22.3175     | 9m 8s        |</pre>"
      ],
      "text/plain": [
       "| 13183        | 8e+008  | 22.3175     | 9m 8s        |"
      ]
     },
     "metadata": {},
     "output_type": "display_data"
    },
    {
     "data": {
      "text/html": [
       "<pre>| 13205        | 8e+008  | 22.3554     | 9m 9s        |</pre>"
      ],
      "text/plain": [
       "| 13205        | 8e+008  | 22.3554     | 9m 9s        |"
      ]
     },
     "metadata": {},
     "output_type": "display_data"
    },
    {
     "data": {
      "text/html": [
       "<pre>| 13227        | 8e+008  | 22.3923     | 9m 10s       |</pre>"
      ],
      "text/plain": [
       "| 13227        | 8e+008  | 22.3923     | 9m 10s       |"
      ]
     },
     "metadata": {},
     "output_type": "display_data"
    },
    {
     "data": {
      "text/html": [
       "<pre>| 13249        | 8e+008  | 22.4292     | 9m 11s       |</pre>"
      ],
      "text/plain": [
       "| 13249        | 8e+008  | 22.4292     | 9m 11s       |"
      ]
     },
     "metadata": {},
     "output_type": "display_data"
    },
    {
     "data": {
      "text/html": [
       "<pre>| 13270        | 8e+008  | 22.4653     | 9m 12s       |</pre>"
      ],
      "text/plain": [
       "| 13270        | 8e+008  | 22.4653     | 9m 12s       |"
      ]
     },
     "metadata": {},
     "output_type": "display_data"
    },
    {
     "data": {
      "text/html": [
       "<pre>| 13291        | 8e+008  | 22.5013     | 9m 13s       |</pre>"
      ],
      "text/plain": [
       "| 13291        | 8e+008  | 22.5013     | 9m 13s       |"
      ]
     },
     "metadata": {},
     "output_type": "display_data"
    },
    {
     "data": {
      "text/html": [
       "<pre>| 13313        | 8e+008  | 22.5378     | 9m 14s       |</pre>"
      ],
      "text/plain": [
       "| 13313        | 8e+008  | 22.5378     | 9m 14s       |"
      ]
     },
     "metadata": {},
     "output_type": "display_data"
    },
    {
     "data": {
      "text/html": [
       "<pre>| 13334        | 8e+008  | 22.5742     | 9m 15s       |</pre>"
      ],
      "text/plain": [
       "| 13334        | 8e+008  | 22.5742     | 9m 15s       |"
      ]
     },
     "metadata": {},
     "output_type": "display_data"
    },
    {
     "data": {
      "text/html": [
       "<pre>| 13356        | 8e+008  | 22.6109     | 9m 16s       |</pre>"
      ],
      "text/plain": [
       "| 13356        | 8e+008  | 22.6109     | 9m 16s       |"
      ]
     },
     "metadata": {},
     "output_type": "display_data"
    },
    {
     "data": {
      "text/html": [
       "<pre>| 13378        | 8e+008  | 22.6486     | 9m 17s       |</pre>"
      ],
      "text/plain": [
       "| 13378        | 8e+008  | 22.6486     | 9m 17s       |"
      ]
     },
     "metadata": {},
     "output_type": "display_data"
    },
    {
     "data": {
      "text/html": [
       "<pre>| 13400        | 8e+008  | 22.6851     | 9m 18s       |</pre>"
      ],
      "text/plain": [
       "| 13400        | 8e+008  | 22.6851     | 9m 18s       |"
      ]
     },
     "metadata": {},
     "output_type": "display_data"
    },
    {
     "data": {
      "text/html": [
       "<pre>| 13422        | 8e+008  | 22.7221     | 9m 19s       |</pre>"
      ],
      "text/plain": [
       "| 13422        | 8e+008  | 22.7221     | 9m 19s       |"
      ]
     },
     "metadata": {},
     "output_type": "display_data"
    },
    {
     "data": {
      "text/html": [
       "<pre>| 13444        | 8e+008  | 22.7592     | 9m 20s       |</pre>"
      ],
      "text/plain": [
       "| 13444        | 8e+008  | 22.7592     | 9m 20s       |"
      ]
     },
     "metadata": {},
     "output_type": "display_data"
    },
    {
     "data": {
      "text/html": [
       "<pre>| 13466        | 8e+008  | 22.7973     | 9m 21s       |</pre>"
      ],
      "text/plain": [
       "| 13466        | 8e+008  | 22.7973     | 9m 21s       |"
      ]
     },
     "metadata": {},
     "output_type": "display_data"
    },
    {
     "data": {
      "text/html": [
       "<pre>| 13488        | 8e+008  | 22.8339     | 9m 22s       |</pre>"
      ],
      "text/plain": [
       "| 13488        | 8e+008  | 22.8339     | 9m 22s       |"
      ]
     },
     "metadata": {},
     "output_type": "display_data"
    },
    {
     "data": {
      "text/html": [
       "<pre>| 13509        | 8e+008  | 22.8701     | 9m 23s       |</pre>"
      ],
      "text/plain": [
       "| 13509        | 8e+008  | 22.8701     | 9m 23s       |"
      ]
     },
     "metadata": {},
     "output_type": "display_data"
    },
    {
     "data": {
      "text/html": [
       "<pre>| 13530        | 8e+008  | 22.9055     | 9m 24s       |</pre>"
      ],
      "text/plain": [
       "| 13530        | 8e+008  | 22.9055     | 9m 24s       |"
      ]
     },
     "metadata": {},
     "output_type": "display_data"
    },
    {
     "data": {
      "text/html": [
       "<pre>| 13552        | 8e+008  | 22.9428     | 9m 25s       |</pre>"
      ],
      "text/plain": [
       "| 13552        | 8e+008  | 22.9428     | 9m 25s       |"
      ]
     },
     "metadata": {},
     "output_type": "display_data"
    },
    {
     "data": {
      "text/html": [
       "<pre>| 13574        | 8e+008  | 22.9807     | 9m 26s       |</pre>"
      ],
      "text/plain": [
       "| 13574        | 8e+008  | 22.9807     | 9m 26s       |"
      ]
     },
     "metadata": {},
     "output_type": "display_data"
    },
    {
     "data": {
      "text/html": [
       "<pre>| 13596        | 8e+008  | 23.0175     | 9m 27s       |</pre>"
      ],
      "text/plain": [
       "| 13596        | 8e+008  | 23.0175     | 9m 27s       |"
      ]
     },
     "metadata": {},
     "output_type": "display_data"
    },
    {
     "data": {
      "text/html": [
       "<pre>| 13618        | 8e+008  | 23.0544     | 9m 28s       |</pre>"
      ],
      "text/plain": [
       "| 13618        | 8e+008  | 23.0544     | 9m 28s       |"
      ]
     },
     "metadata": {},
     "output_type": "display_data"
    },
    {
     "data": {
      "text/html": [
       "<pre>| 13640        | 8e+008  | 23.0909     | 9m 29s       |</pre>"
      ],
      "text/plain": [
       "| 13640        | 8e+008  | 23.0909     | 9m 29s       |"
      ]
     },
     "metadata": {},
     "output_type": "display_data"
    },
    {
     "data": {
      "text/html": [
       "<pre>| 13662        | 8e+008  | 23.1285     | 9m 30s       |</pre>"
      ],
      "text/plain": [
       "| 13662        | 8e+008  | 23.1285     | 9m 30s       |"
      ]
     },
     "metadata": {},
     "output_type": "display_data"
    },
    {
     "data": {
      "text/html": [
       "<pre>| 13684        | 8e+008  | 23.1656     | 9m 31s       |</pre>"
      ],
      "text/plain": [
       "| 13684        | 8e+008  | 23.1656     | 9m 31s       |"
      ]
     },
     "metadata": {},
     "output_type": "display_data"
    },
    {
     "data": {
      "text/html": [
       "<pre>| 13705        | 8e+008  | 23.2022     | 9m 32s       |</pre>"
      ],
      "text/plain": [
       "| 13705        | 8e+008  | 23.2022     | 9m 32s       |"
      ]
     },
     "metadata": {},
     "output_type": "display_data"
    },
    {
     "data": {
      "text/html": [
       "<pre>| 13727        | 8e+008  | 23.2387     | 9m 33s       |</pre>"
      ],
      "text/plain": [
       "| 13727        | 8e+008  | 23.2387     | 9m 33s       |"
      ]
     },
     "metadata": {},
     "output_type": "display_data"
    },
    {
     "data": {
      "text/html": [
       "<pre>| 13749        | 8e+008  | 23.2757     | 9m 34s       |</pre>"
      ],
      "text/plain": [
       "| 13749        | 8e+008  | 23.2757     | 9m 34s       |"
      ]
     },
     "metadata": {},
     "output_type": "display_data"
    },
    {
     "data": {
      "text/html": [
       "<pre>| 13770        | 8e+008  | 23.3124     | 9m 35s       |</pre>"
      ],
      "text/plain": [
       "| 13770        | 8e+008  | 23.3124     | 9m 35s       |"
      ]
     },
     "metadata": {},
     "output_type": "display_data"
    },
    {
     "data": {
      "text/html": [
       "<pre>| 13792        | 8e+008  | 23.3485     | 9m 36s       |</pre>"
      ],
      "text/plain": [
       "| 13792        | 8e+008  | 23.3485     | 9m 36s       |"
      ]
     },
     "metadata": {},
     "output_type": "display_data"
    },
    {
     "data": {
      "text/html": [
       "<pre>| 13814        | 8e+008  | 23.3856     | 9m 37s       |</pre>"
      ],
      "text/plain": [
       "| 13814        | 8e+008  | 23.3856     | 9m 37s       |"
      ]
     },
     "metadata": {},
     "output_type": "display_data"
    },
    {
     "data": {
      "text/html": [
       "<pre>| 13835        | 8e+008  | 23.422      | 9m 38s       |</pre>"
      ],
      "text/plain": [
       "| 13835        | 8e+008  | 23.422      | 9m 38s       |"
      ]
     },
     "metadata": {},
     "output_type": "display_data"
    },
    {
     "data": {
      "text/html": [
       "<pre>| 13857        | 8e+008  | 23.4597     | 9m 39s       |</pre>"
      ],
      "text/plain": [
       "| 13857        | 8e+008  | 23.4597     | 9m 39s       |"
      ]
     },
     "metadata": {},
     "output_type": "display_data"
    },
    {
     "data": {
      "text/html": [
       "<pre>| 13879        | 8e+008  | 23.4964     | 9m 40s       |</pre>"
      ],
      "text/plain": [
       "| 13879        | 8e+008  | 23.4964     | 9m 40s       |"
      ]
     },
     "metadata": {},
     "output_type": "display_data"
    },
    {
     "data": {
      "text/html": [
       "<pre>| 13899        | 8e+008  | 23.5305     | 9m 41s       |</pre>"
      ],
      "text/plain": [
       "| 13899        | 8e+008  | 23.5305     | 9m 41s       |"
      ]
     },
     "metadata": {},
     "output_type": "display_data"
    },
    {
     "data": {
      "text/html": [
       "<pre>| 13918        | 8e+008  | 23.562      | 9m 42s       |</pre>"
      ],
      "text/plain": [
       "| 13918        | 8e+008  | 23.562      | 9m 42s       |"
      ]
     },
     "metadata": {},
     "output_type": "display_data"
    },
    {
     "data": {
      "text/html": [
       "<pre>| 13934        | 8e+008  | 23.5889     | 9m 43s       |</pre>"
      ],
      "text/plain": [
       "| 13934        | 8e+008  | 23.5889     | 9m 43s       |"
      ]
     },
     "metadata": {},
     "output_type": "display_data"
    },
    {
     "data": {
      "text/html": [
       "<pre>| 13955        | 8e+008  | 23.6244     | 9m 44s       |</pre>"
      ],
      "text/plain": [
       "| 13955        | 8e+008  | 23.6244     | 9m 44s       |"
      ]
     },
     "metadata": {},
     "output_type": "display_data"
    },
    {
     "data": {
      "text/html": [
       "<pre>| 13976        | 8e+008  | 23.6603     | 9m 45s       |</pre>"
      ],
      "text/plain": [
       "| 13976        | 8e+008  | 23.6603     | 9m 45s       |"
      ]
     },
     "metadata": {},
     "output_type": "display_data"
    },
    {
     "data": {
      "text/html": [
       "<pre>| 13999        | 8e+008  | 23.6991     | 9m 46s       |</pre>"
      ],
      "text/plain": [
       "| 13999        | 8e+008  | 23.6991     | 9m 46s       |"
      ]
     },
     "metadata": {},
     "output_type": "display_data"
    },
    {
     "data": {
      "text/html": [
       "<pre>| 14021        | 8e+008  | 23.737      | 9m 47s       |</pre>"
      ],
      "text/plain": [
       "| 14021        | 8e+008  | 23.737      | 9m 47s       |"
      ]
     },
     "metadata": {},
     "output_type": "display_data"
    },
    {
     "data": {
      "text/html": [
       "<pre>| 14043        | 8e+008  | 23.7747     | 9m 48s       |</pre>"
      ],
      "text/plain": [
       "| 14043        | 8e+008  | 23.7747     | 9m 48s       |"
      ]
     },
     "metadata": {},
     "output_type": "display_data"
    },
    {
     "data": {
      "text/html": [
       "<pre>| 14066        | 8e+008  | 23.8126     | 9m 49s       |</pre>"
      ],
      "text/plain": [
       "| 14066        | 8e+008  | 23.8126     | 9m 49s       |"
      ]
     },
     "metadata": {},
     "output_type": "display_data"
    },
    {
     "data": {
      "text/html": [
       "<pre>| 14088        | 8e+008  | 23.8507     | 9m 50s       |</pre>"
      ],
      "text/plain": [
       "| 14088        | 8e+008  | 23.8507     | 9m 50s       |"
      ]
     },
     "metadata": {},
     "output_type": "display_data"
    },
    {
     "data": {
      "text/html": [
       "<pre>| 14111        | 8e+008  | 23.8884     | 9m 51s       |</pre>"
      ],
      "text/plain": [
       "| 14111        | 8e+008  | 23.8884     | 9m 51s       |"
      ]
     },
     "metadata": {},
     "output_type": "display_data"
    },
    {
     "data": {
      "text/html": [
       "<pre>| 14133        | 8e+008  | 23.9256     | 9m 52s       |</pre>"
      ],
      "text/plain": [
       "| 14133        | 8e+008  | 23.9256     | 9m 52s       |"
      ]
     },
     "metadata": {},
     "output_type": "display_data"
    },
    {
     "data": {
      "text/html": [
       "<pre>| 14155        | 8e+008  | 23.9634     | 9m 53s       |</pre>"
      ],
      "text/plain": [
       "| 14155        | 8e+008  | 23.9634     | 9m 53s       |"
      ]
     },
     "metadata": {},
     "output_type": "display_data"
    },
    {
     "data": {
      "text/html": [
       "<pre>| 14177        | 8e+008  | 24.0012     | 9m 54s       |</pre>"
      ],
      "text/plain": [
       "| 14177        | 8e+008  | 24.0012     | 9m 54s       |"
      ]
     },
     "metadata": {},
     "output_type": "display_data"
    },
    {
     "data": {
      "text/html": [
       "<pre>| 14200        | 8e+008  | 24.0398     | 9m 55s       |</pre>"
      ],
      "text/plain": [
       "| 14200        | 8e+008  | 24.0398     | 9m 55s       |"
      ]
     },
     "metadata": {},
     "output_type": "display_data"
    },
    {
     "data": {
      "text/html": [
       "<pre>| 14222        | 8e+008  | 24.0776     | 9m 56s       |</pre>"
      ],
      "text/plain": [
       "| 14222        | 8e+008  | 24.0776     | 9m 56s       |"
      ]
     },
     "metadata": {},
     "output_type": "display_data"
    },
    {
     "data": {
      "text/html": [
       "<pre>| 14244        | 8e+008  | 24.1147     | 9m 57s       |</pre>"
      ],
      "text/plain": [
       "| 14244        | 8e+008  | 24.1147     | 9m 57s       |"
      ]
     },
     "metadata": {},
     "output_type": "display_data"
    },
    {
     "data": {
      "text/html": [
       "<pre>| 14267        | 8e+008  | 24.1526     | 9m 58s       |</pre>"
      ],
      "text/plain": [
       "| 14267        | 8e+008  | 24.1526     | 9m 58s       |"
      ]
     },
     "metadata": {},
     "output_type": "display_data"
    },
    {
     "data": {
      "text/html": [
       "<pre>| 14289        | 8e+008  | 24.1898     | 9m 59s       |</pre>"
      ],
      "text/plain": [
       "| 14289        | 8e+008  | 24.1898     | 9m 59s       |"
      ]
     },
     "metadata": {},
     "output_type": "display_data"
    },
    {
     "data": {
      "text/html": [
       "<pre>| 14311        | 8e+008  | 24.2281     | 10m 0s       |</pre>"
      ],
      "text/plain": [
       "| 14311        | 8e+008  | 24.2281     | 10m 0s       |"
      ]
     },
     "metadata": {},
     "output_type": "display_data"
    },
    {
     "data": {
      "text/html": [
       "<pre>| 14333        | 8e+008  | 24.2657     | 10m 1s       |</pre>"
      ],
      "text/plain": [
       "| 14333        | 8e+008  | 24.2657     | 10m 1s       |"
      ]
     },
     "metadata": {},
     "output_type": "display_data"
    },
    {
     "data": {
      "text/html": [
       "<pre>| 14356        | 8e+008  | 24.3036     | 10m 2s       |</pre>"
      ],
      "text/plain": [
       "| 14356        | 8e+008  | 24.3036     | 10m 2s       |"
      ]
     },
     "metadata": {},
     "output_type": "display_data"
    },
    {
     "data": {
      "text/html": [
       "<pre>| 14378        | 8e+008  | 24.3412     | 10m 3s       |</pre>"
      ],
      "text/plain": [
       "| 14378        | 8e+008  | 24.3412     | 10m 3s       |"
      ]
     },
     "metadata": {},
     "output_type": "display_data"
    },
    {
     "data": {
      "text/html": [
       "<pre>| 14398        | 9e+008  | 24.3757     | 10m 4s       |</pre>"
      ],
      "text/plain": [
       "| 14398        | 9e+008  | 24.3757     | 10m 4s       |"
      ]
     },
     "metadata": {},
     "output_type": "display_data"
    },
    {
     "data": {
      "text/html": [
       "<pre>| 14420        | 9e+008  | 24.4114     | 10m 5s       |</pre>"
      ],
      "text/plain": [
       "| 14420        | 9e+008  | 24.4114     | 10m 5s       |"
      ]
     },
     "metadata": {},
     "output_type": "display_data"
    },
    {
     "data": {
      "text/html": [
       "<pre>| 14442        | 9e+008  | 24.4494     | 10m 6s       |</pre>"
      ],
      "text/plain": [
       "| 14442        | 9e+008  | 24.4494     | 10m 6s       |"
      ]
     },
     "metadata": {},
     "output_type": "display_data"
    },
    {
     "data": {
      "text/html": [
       "<pre>| 14463        | 9e+008  | 24.4842     | 10m 7s       |</pre>"
      ],
      "text/plain": [
       "| 14463        | 9e+008  | 24.4842     | 10m 7s       |"
      ]
     },
     "metadata": {},
     "output_type": "display_data"
    },
    {
     "data": {
      "text/html": [
       "<pre>| 14482        | 9e+008  | 24.5167     | 10m 8s       |</pre>"
      ],
      "text/plain": [
       "| 14482        | 9e+008  | 24.5167     | 10m 8s       |"
      ]
     },
     "metadata": {},
     "output_type": "display_data"
    },
    {
     "data": {
      "text/html": [
       "<pre>| 14500        | 9e+008  | 24.5482     | 10m 9s       |</pre>"
      ],
      "text/plain": [
       "| 14500        | 9e+008  | 24.5482     | 10m 9s       |"
      ]
     },
     "metadata": {},
     "output_type": "display_data"
    },
    {
     "data": {
      "text/html": [
       "<pre>| 14522        | 9e+008  | 24.5853     | 10m 10s      |</pre>"
      ],
      "text/plain": [
       "| 14522        | 9e+008  | 24.5853     | 10m 10s      |"
      ]
     },
     "metadata": {},
     "output_type": "display_data"
    },
    {
     "data": {
      "text/html": [
       "<pre>| 14543        | 9e+008  | 24.6207     | 10m 11s      |</pre>"
      ],
      "text/plain": [
       "| 14543        | 9e+008  | 24.6207     | 10m 11s      |"
      ]
     },
     "metadata": {},
     "output_type": "display_data"
    },
    {
     "data": {
      "text/html": [
       "<pre>| 14562        | 9e+008  | 24.6527     | 10m 12s      |</pre>"
      ],
      "text/plain": [
       "| 14562        | 9e+008  | 24.6527     | 10m 12s      |"
      ]
     },
     "metadata": {},
     "output_type": "display_data"
    },
    {
     "data": {
      "text/html": [
       "<pre>| 14584        | 9e+008  | 24.6901     | 10m 13s      |</pre>"
      ],
      "text/plain": [
       "| 14584        | 9e+008  | 24.6901     | 10m 13s      |"
      ]
     },
     "metadata": {},
     "output_type": "display_data"
    },
    {
     "data": {
      "text/html": [
       "<pre>| 14606        | 9e+008  | 24.7263     | 10m 14s      |</pre>"
      ],
      "text/plain": [
       "| 14606        | 9e+008  | 24.7263     | 10m 14s      |"
      ]
     },
     "metadata": {},
     "output_type": "display_data"
    },
    {
     "data": {
      "text/html": [
       "<pre>| 14627        | 9e+008  | 24.7625     | 10m 15s      |</pre>"
      ],
      "text/plain": [
       "| 14627        | 9e+008  | 24.7625     | 10m 15s      |"
      ]
     },
     "metadata": {},
     "output_type": "display_data"
    },
    {
     "data": {
      "text/html": [
       "<pre>| 14649        | 9e+008  | 24.7995     | 10m 16s      |</pre>"
      ],
      "text/plain": [
       "| 14649        | 9e+008  | 24.7995     | 10m 16s      |"
      ]
     },
     "metadata": {},
     "output_type": "display_data"
    },
    {
     "data": {
      "text/html": [
       "<pre>| 14671        | 9e+008  | 24.8367     | 10m 17s      |</pre>"
      ],
      "text/plain": [
       "| 14671        | 9e+008  | 24.8367     | 10m 17s      |"
      ]
     },
     "metadata": {},
     "output_type": "display_data"
    },
    {
     "data": {
      "text/html": [
       "<pre>| 14692        | 9e+008  | 24.8735     | 10m 18s      |</pre>"
      ],
      "text/plain": [
       "| 14692        | 9e+008  | 24.8735     | 10m 18s      |"
      ]
     },
     "metadata": {},
     "output_type": "display_data"
    },
    {
     "data": {
      "text/html": [
       "<pre>| 14711        | 9e+008  | 24.9047     | 10m 19s      |</pre>"
      ],
      "text/plain": [
       "| 14711        | 9e+008  | 24.9047     | 10m 19s      |"
      ]
     },
     "metadata": {},
     "output_type": "display_data"
    },
    {
     "data": {
      "text/html": [
       "<pre>| 14728        | 9e+008  | 24.9338     | 10m 20s      |</pre>"
      ],
      "text/plain": [
       "| 14728        | 9e+008  | 24.9338     | 10m 20s      |"
      ]
     },
     "metadata": {},
     "output_type": "display_data"
    },
    {
     "data": {
      "text/html": [
       "<pre>| 14743        | 9e+008  | 24.9595     | 10m 21s      |</pre>"
      ],
      "text/plain": [
       "| 14743        | 9e+008  | 24.9595     | 10m 21s      |"
      ]
     },
     "metadata": {},
     "output_type": "display_data"
    },
    {
     "data": {
      "text/html": [
       "<pre>| 14759        | 9e+008  | 24.9862     | 10m 22s      |</pre>"
      ],
      "text/plain": [
       "| 14759        | 9e+008  | 24.9862     | 10m 22s      |"
      ]
     },
     "metadata": {},
     "output_type": "display_data"
    },
    {
     "data": {
      "text/html": [
       "<pre>| 14779        | 9e+008  | 25.0194     | 10m 23s      |</pre>"
      ],
      "text/plain": [
       "| 14779        | 9e+008  | 25.0194     | 10m 23s      |"
      ]
     },
     "metadata": {},
     "output_type": "display_data"
    },
    {
     "data": {
      "text/html": [
       "<pre>| 14802        | 9e+008  | 25.0582     | 10m 24s      |</pre>"
      ],
      "text/plain": [
       "| 14802        | 9e+008  | 25.0582     | 10m 24s      |"
      ]
     },
     "metadata": {},
     "output_type": "display_data"
    },
    {
     "data": {
      "text/html": [
       "<pre>| 14825        | 9e+008  | 25.0978     | 10m 25s      |</pre>"
      ],
      "text/plain": [
       "| 14825        | 9e+008  | 25.0978     | 10m 25s      |"
      ]
     },
     "metadata": {},
     "output_type": "display_data"
    },
    {
     "data": {
      "text/html": [
       "<pre>| 14848        | 9e+008  | 25.1369     | 10m 26s      |</pre>"
      ],
      "text/plain": [
       "| 14848        | 9e+008  | 25.1369     | 10m 26s      |"
      ]
     },
     "metadata": {},
     "output_type": "display_data"
    },
    {
     "data": {
      "text/html": [
       "<pre>| 14868        | 9e+008  | 25.171      | 10m 27s      |</pre>"
      ],
      "text/plain": [
       "| 14868        | 9e+008  | 25.171      | 10m 27s      |"
      ]
     },
     "metadata": {},
     "output_type": "display_data"
    },
    {
     "data": {
      "text/html": [
       "<pre>| 14887        | 9e+008  | 25.203      | 10m 28s      |</pre>"
      ],
      "text/plain": [
       "| 14887        | 9e+008  | 25.203      | 10m 28s      |"
      ]
     },
     "metadata": {},
     "output_type": "display_data"
    },
    {
     "data": {
      "text/html": [
       "<pre>| 14907        | 9e+008  | 25.2364     | 10m 29s      |</pre>"
      ],
      "text/plain": [
       "| 14907        | 9e+008  | 25.2364     | 10m 29s      |"
      ]
     },
     "metadata": {},
     "output_type": "display_data"
    },
    {
     "data": {
      "text/html": [
       "<pre>| 14929        | 9e+008  | 25.274      | 10m 30s      |</pre>"
      ],
      "text/plain": [
       "| 14929        | 9e+008  | 25.274      | 10m 30s      |"
      ]
     },
     "metadata": {},
     "output_type": "display_data"
    },
    {
     "data": {
      "text/html": [
       "<pre>| 14951        | 9e+008  | 25.3118     | 10m 31s      |</pre>"
      ],
      "text/plain": [
       "| 14951        | 9e+008  | 25.3118     | 10m 31s      |"
      ]
     },
     "metadata": {},
     "output_type": "display_data"
    },
    {
     "data": {
      "text/html": [
       "<pre>| 14974        | 9e+008  | 25.35       | 10m 32s      |</pre>"
      ],
      "text/plain": [
       "| 14974        | 9e+008  | 25.35       | 10m 32s      |"
      ]
     },
     "metadata": {},
     "output_type": "display_data"
    },
    {
     "data": {
      "text/html": [
       "<pre>| 14994        | 9e+008  | 25.3846     | 10m 33s      |</pre>"
      ],
      "text/plain": [
       "| 14994        | 9e+008  | 25.3846     | 10m 33s      |"
      ]
     },
     "metadata": {},
     "output_type": "display_data"
    },
    {
     "data": {
      "text/html": [
       "<pre>| 15013        | 9e+008  | 25.4168     | 10m 34s      |</pre>"
      ],
      "text/plain": [
       "| 15013        | 9e+008  | 25.4168     | 10m 34s      |"
      ]
     },
     "metadata": {},
     "output_type": "display_data"
    },
    {
     "data": {
      "text/html": [
       "<pre>| 15034        | 9e+008  | 25.4513     | 10m 35s      |</pre>"
      ],
      "text/plain": [
       "| 15034        | 9e+008  | 25.4513     | 10m 35s      |"
      ]
     },
     "metadata": {},
     "output_type": "display_data"
    },
    {
     "data": {
      "text/html": [
       "<pre>| 15051        | 9e+008  | 25.4805     | 10m 36s      |</pre>"
      ],
      "text/plain": [
       "| 15051        | 9e+008  | 25.4805     | 10m 36s      |"
      ]
     },
     "metadata": {},
     "output_type": "display_data"
    },
    {
     "data": {
      "text/html": [
       "<pre>| 15069        | 9e+008  | 25.5116     | 10m 37s      |</pre>"
      ],
      "text/plain": [
       "| 15069        | 9e+008  | 25.5116     | 10m 37s      |"
      ]
     },
     "metadata": {},
     "output_type": "display_data"
    },
    {
     "data": {
      "text/html": [
       "<pre>| 15090        | 9e+008  | 25.5455     | 10m 38s      |</pre>"
      ],
      "text/plain": [
       "| 15090        | 9e+008  | 25.5455     | 10m 38s      |"
      ]
     },
     "metadata": {},
     "output_type": "display_data"
    },
    {
     "data": {
      "text/html": [
       "<pre>| 15113        | 9e+008  | 25.5848     | 10m 39s      |</pre>"
      ],
      "text/plain": [
       "| 15113        | 9e+008  | 25.5848     | 10m 39s      |"
      ]
     },
     "metadata": {},
     "output_type": "display_data"
    },
    {
     "data": {
      "text/html": [
       "<pre>| 15136        | 9e+008  | 25.6236     | 10m 40s      |</pre>"
      ],
      "text/plain": [
       "| 15136        | 9e+008  | 25.6236     | 10m 40s      |"
      ]
     },
     "metadata": {},
     "output_type": "display_data"
    },
    {
     "data": {
      "text/html": [
       "<pre>| 15158        | 9e+008  | 25.6613     | 10m 41s      |</pre>"
      ],
      "text/plain": [
       "| 15158        | 9e+008  | 25.6613     | 10m 41s      |"
      ]
     },
     "metadata": {},
     "output_type": "display_data"
    },
    {
     "data": {
      "text/html": [
       "<pre>| 15178        | 9e+008  | 25.6947     | 10m 42s      |</pre>"
      ],
      "text/plain": [
       "| 15178        | 9e+008  | 25.6947     | 10m 42s      |"
      ]
     },
     "metadata": {},
     "output_type": "display_data"
    },
    {
     "data": {
      "text/html": [
       "<pre>| 15199        | 9e+008  | 25.7303     | 10m 43s      |</pre>"
      ],
      "text/plain": [
       "| 15199        | 9e+008  | 25.7303     | 10m 43s      |"
      ]
     },
     "metadata": {},
     "output_type": "display_data"
    },
    {
     "data": {
      "text/html": [
       "<pre>| 15216        | 9e+008  | 25.7601     | 10m 44s      |</pre>"
      ],
      "text/plain": [
       "| 15216        | 9e+008  | 25.7601     | 10m 44s      |"
      ]
     },
     "metadata": {},
     "output_type": "display_data"
    },
    {
     "data": {
      "text/html": [
       "<pre>| 15238        | 9e+008  | 25.7976     | 10m 45s      |</pre>"
      ],
      "text/plain": [
       "| 15238        | 9e+008  | 25.7976     | 10m 45s      |"
      ]
     },
     "metadata": {},
     "output_type": "display_data"
    },
    {
     "data": {
      "text/html": [
       "<pre>| 15259        | 9e+008  | 25.8332     | 10m 46s      |</pre>"
      ],
      "text/plain": [
       "| 15259        | 9e+008  | 25.8332     | 10m 46s      |"
      ]
     },
     "metadata": {},
     "output_type": "display_data"
    },
    {
     "data": {
      "text/html": [
       "<pre>| 15281        | 9e+008  | 25.8705     | 10m 47s      |</pre>"
      ],
      "text/plain": [
       "| 15281        | 9e+008  | 25.8705     | 10m 47s      |"
      ]
     },
     "metadata": {},
     "output_type": "display_data"
    },
    {
     "data": {
      "text/html": [
       "<pre>| 15304        | 9e+008  | 25.9084     | 10m 48s      |</pre>"
      ],
      "text/plain": [
       "| 15304        | 9e+008  | 25.9084     | 10m 48s      |"
      ]
     },
     "metadata": {},
     "output_type": "display_data"
    },
    {
     "data": {
      "text/html": [
       "<pre>| 15324        | 9e+008  | 25.9433     | 10m 49s      |</pre>"
      ],
      "text/plain": [
       "| 15324        | 9e+008  | 25.9433     | 10m 49s      |"
      ]
     },
     "metadata": {},
     "output_type": "display_data"
    },
    {
     "data": {
      "text/html": [
       "<pre>| 15345        | 9e+008  | 25.9785     | 10m 50s      |</pre>"
      ],
      "text/plain": [
       "| 15345        | 9e+008  | 25.9785     | 10m 50s      |"
      ]
     },
     "metadata": {},
     "output_type": "display_data"
    },
    {
     "data": {
      "text/html": [
       "<pre>| 15368        | 9e+008  | 26.0167     | 10m 51s      |</pre>"
      ],
      "text/plain": [
       "| 15368        | 9e+008  | 26.0167     | 10m 51s      |"
      ]
     },
     "metadata": {},
     "output_type": "display_data"
    },
    {
     "data": {
      "text/html": [
       "<pre>| 15386        | 9e+008  | 26.0479     | 10m 52s      |</pre>"
      ],
      "text/plain": [
       "| 15386        | 9e+008  | 26.0479     | 10m 52s      |"
      ]
     },
     "metadata": {},
     "output_type": "display_data"
    },
    {
     "data": {
      "text/html": [
       "<pre>| 15406        | 9e+008  | 26.0813     | 10m 53s      |</pre>"
      ],
      "text/plain": [
       "| 15406        | 9e+008  | 26.0813     | 10m 53s      |"
      ]
     },
     "metadata": {},
     "output_type": "display_data"
    },
    {
     "data": {
      "text/html": [
       "<pre>| 15427        | 9e+008  | 26.1162     | 10m 54s      |</pre>"
      ],
      "text/plain": [
       "| 15427        | 9e+008  | 26.1162     | 10m 54s      |"
      ]
     },
     "metadata": {},
     "output_type": "display_data"
    },
    {
     "data": {
      "text/html": [
       "<pre>| 15444        | 9e+008  | 26.1453     | 10m 55s      |</pre>"
      ],
      "text/plain": [
       "| 15444        | 9e+008  | 26.1453     | 10m 55s      |"
      ]
     },
     "metadata": {},
     "output_type": "display_data"
    },
    {
     "data": {
      "text/html": [
       "<pre>| 15464        | 9e+008  | 26.1797     | 10m 56s      |</pre>"
      ],
      "text/plain": [
       "| 15464        | 9e+008  | 26.1797     | 10m 56s      |"
      ]
     },
     "metadata": {},
     "output_type": "display_data"
    },
    {
     "data": {
      "text/html": [
       "<pre>| 15486        | 9e+008  | 26.2174     | 10m 57s      |</pre>"
      ],
      "text/plain": [
       "| 15486        | 9e+008  | 26.2174     | 10m 57s      |"
      ]
     },
     "metadata": {},
     "output_type": "display_data"
    },
    {
     "data": {
      "text/html": [
       "<pre>| 15508        | 9e+008  | 26.2545     | 10m 58s      |</pre>"
      ],
      "text/plain": [
       "| 15508        | 9e+008  | 26.2545     | 10m 58s      |"
      ]
     },
     "metadata": {},
     "output_type": "display_data"
    },
    {
     "data": {
      "text/html": [
       "<pre>| 15524        | 9e+008  | 26.2815     | 10m 59s      |</pre>"
      ],
      "text/plain": [
       "| 15524        | 9e+008  | 26.2815     | 10m 59s      |"
      ]
     },
     "metadata": {},
     "output_type": "display_data"
    },
    {
     "data": {
      "text/html": [
       "<pre>| 15540        | 9e+008  | 26.3088     | 11m 0s       |</pre>"
      ],
      "text/plain": [
       "| 15540        | 9e+008  | 26.3088     | 11m 0s       |"
      ]
     },
     "metadata": {},
     "output_type": "display_data"
    },
    {
     "data": {
      "text/html": [
       "<pre>| 15554        | 9e+008  | 26.3314     | 11m 1s       |</pre>"
      ],
      "text/plain": [
       "| 15554        | 9e+008  | 26.3314     | 11m 1s       |"
      ]
     },
     "metadata": {},
     "output_type": "display_data"
    },
    {
     "data": {
      "text/html": [
       "<pre>| 15569        | 9e+008  | 26.3569     | 11m 2s       |</pre>"
      ],
      "text/plain": [
       "| 15569        | 9e+008  | 26.3569     | 11m 2s       |"
      ]
     },
     "metadata": {},
     "output_type": "display_data"
    },
    {
     "data": {
      "text/html": [
       "<pre>| 15584        | 9e+008  | 26.3829     | 11m 3s       |</pre>"
      ],
      "text/plain": [
       "| 15584        | 9e+008  | 26.3829     | 11m 3s       |"
      ]
     },
     "metadata": {},
     "output_type": "display_data"
    },
    {
     "data": {
      "text/html": [
       "<pre>| 15603        | 9e+008  | 26.414      | 11m 4s       |</pre>"
      ],
      "text/plain": [
       "| 15603        | 9e+008  | 26.414      | 11m 4s       |"
      ]
     },
     "metadata": {},
     "output_type": "display_data"
    },
    {
     "data": {
      "text/html": [
       "<pre>| 15624        | 9e+008  | 26.4503     | 11m 5s       |</pre>"
      ],
      "text/plain": [
       "| 15624        | 9e+008  | 26.4503     | 11m 5s       |"
      ]
     },
     "metadata": {},
     "output_type": "display_data"
    },
    {
     "data": {
      "text/html": [
       "<pre>| 15646        | 9e+008  | 26.4875     | 11m 6s       |</pre>"
      ],
      "text/plain": [
       "| 15646        | 9e+008  | 26.4875     | 11m 6s       |"
      ]
     },
     "metadata": {},
     "output_type": "display_data"
    },
    {
     "data": {
      "text/html": [
       "<pre>| 15668        | 9e+008  | 26.5255     | 11m 7s       |</pre>"
      ],
      "text/plain": [
       "| 15668        | 9e+008  | 26.5255     | 11m 7s       |"
      ]
     },
     "metadata": {},
     "output_type": "display_data"
    },
    {
     "data": {
      "text/html": [
       "<pre>| 15692        | 9e+008  | 26.5655     | 11m 8s       |</pre>"
      ],
      "text/plain": [
       "| 15692        | 9e+008  | 26.5655     | 11m 8s       |"
      ]
     },
     "metadata": {},
     "output_type": "display_data"
    },
    {
     "data": {
      "text/html": [
       "<pre>| 15717        | 9e+008  | 26.6075     | 11m 9s       |</pre>"
      ],
      "text/plain": [
       "| 15717        | 9e+008  | 26.6075     | 11m 9s       |"
      ]
     },
     "metadata": {},
     "output_type": "display_data"
    },
    {
     "data": {
      "text/html": [
       "<pre>| 15742        | 9e+008  | 26.6506     | 11m 10s      |</pre>"
      ],
      "text/plain": [
       "| 15742        | 9e+008  | 26.6506     | 11m 10s      |"
      ]
     },
     "metadata": {},
     "output_type": "display_data"
    },
    {
     "data": {
      "text/html": [
       "<pre>| 15768        | 9e+008  | 26.6934     | 11m 11s      |</pre>"
      ],
      "text/plain": [
       "| 15768        | 9e+008  | 26.6934     | 11m 11s      |"
      ]
     },
     "metadata": {},
     "output_type": "display_data"
    },
    {
     "data": {
      "text/html": [
       "<pre>| 15793        | 9e+008  | 26.7362     | 11m 12s      |</pre>"
      ],
      "text/plain": [
       "| 15793        | 9e+008  | 26.7362     | 11m 12s      |"
      ]
     },
     "metadata": {},
     "output_type": "display_data"
    },
    {
     "data": {
      "text/html": [
       "<pre>| 15816        | 9e+008  | 26.776      | 11m 13s      |</pre>"
      ],
      "text/plain": [
       "| 15816        | 9e+008  | 26.776      | 11m 13s      |"
      ]
     },
     "metadata": {},
     "output_type": "display_data"
    },
    {
     "data": {
      "text/html": [
       "<pre>| 15836        | 9e+008  | 26.81       | 11m 14s      |</pre>"
      ],
      "text/plain": [
       "| 15836        | 9e+008  | 26.81       | 11m 14s      |"
      ]
     },
     "metadata": {},
     "output_type": "display_data"
    },
    {
     "data": {
      "text/html": [
       "<pre>| 15861        | 9e+008  | 26.851      | 11m 15s      |</pre>"
      ],
      "text/plain": [
       "| 15861        | 9e+008  | 26.851      | 11m 15s      |"
      ]
     },
     "metadata": {},
     "output_type": "display_data"
    },
    {
     "data": {
      "text/html": [
       "<pre>| 15884        | 9e+008  | 26.8909     | 11m 16s      |</pre>"
      ],
      "text/plain": [
       "| 15884        | 9e+008  | 26.8909     | 11m 16s      |"
      ]
     },
     "metadata": {},
     "output_type": "display_data"
    },
    {
     "data": {
      "text/html": [
       "<pre>| 15910        | 9e+008  | 26.9337     | 11m 17s      |</pre>"
      ],
      "text/plain": [
       "| 15910        | 9e+008  | 26.9337     | 11m 17s      |"
      ]
     },
     "metadata": {},
     "output_type": "display_data"
    },
    {
     "data": {
      "text/html": [
       "<pre>| 15932        | 9e+008  | 26.9716     | 11m 18s      |</pre>"
      ],
      "text/plain": [
       "| 15932        | 9e+008  | 26.9716     | 11m 18s      |"
      ]
     },
     "metadata": {},
     "output_type": "display_data"
    },
    {
     "data": {
      "text/html": [
       "<pre>| 15952        | 9e+008  | 27.0063     | 11m 19s      |</pre>"
      ],
      "text/plain": [
       "| 15952        | 9e+008  | 27.0063     | 11m 19s      |"
      ]
     },
     "metadata": {},
     "output_type": "display_data"
    },
    {
     "data": {
      "text/html": [
       "<pre>| 15972        | 9e+008  | 27.0401     | 11m 20s      |</pre>"
      ],
      "text/plain": [
       "| 15972        | 9e+008  | 27.0401     | 11m 20s      |"
      ]
     },
     "metadata": {},
     "output_type": "display_data"
    },
    {
     "data": {
      "text/html": [
       "<pre>| 15997        | 9e+008  | 27.0812     | 11m 21s      |</pre>"
      ],
      "text/plain": [
       "| 15997        | 9e+008  | 27.0812     | 11m 21s      |"
      ]
     },
     "metadata": {},
     "output_type": "display_data"
    },
    {
     "data": {
      "text/html": [
       "<pre>| 16016        | 9e+008  | 27.1132     | 11m 22s      |</pre>"
      ],
      "text/plain": [
       "| 16016        | 9e+008  | 27.1132     | 11m 22s      |"
      ]
     },
     "metadata": {},
     "output_type": "display_data"
    },
    {
     "data": {
      "text/html": [
       "<pre>| 16035        | 9e+008  | 27.1468     | 11m 23s      |</pre>"
      ],
      "text/plain": [
       "| 16035        | 9e+008  | 27.1468     | 11m 23s      |"
      ]
     },
     "metadata": {},
     "output_type": "display_data"
    },
    {
     "data": {
      "text/html": [
       "<pre>| 16058        | 9e+008  | 27.1851     | 11m 24s      |</pre>"
      ],
      "text/plain": [
       "| 16058        | 9e+008  | 27.1851     | 11m 24s      |"
      ]
     },
     "metadata": {},
     "output_type": "display_data"
    },
    {
     "data": {
      "text/html": [
       "<pre>| 16078        | 9e+008  | 27.219      | 11m 25s      |</pre>"
      ],
      "text/plain": [
       "| 16078        | 9e+008  | 27.219      | 11m 25s      |"
      ]
     },
     "metadata": {},
     "output_type": "display_data"
    },
    {
     "data": {
      "text/html": [
       "<pre>| 16101        | 1e+009  | 27.2577     | 11m 26s      |</pre>"
      ],
      "text/plain": [
       "| 16101        | 1e+009  | 27.2577     | 11m 26s      |"
      ]
     },
     "metadata": {},
     "output_type": "display_data"
    },
    {
     "data": {
      "text/html": [
       "<pre>| 16125        | 1e+009  | 27.2988     | 11m 27s      |</pre>"
      ],
      "text/plain": [
       "| 16125        | 1e+009  | 27.2988     | 11m 27s      |"
      ]
     },
     "metadata": {},
     "output_type": "display_data"
    },
    {
     "data": {
      "text/html": [
       "<pre>| 16142        | 1e+009  | 27.3268     | 11m 28s      |</pre>"
      ],
      "text/plain": [
       "| 16142        | 1e+009  | 27.3268     | 11m 28s      |"
      ]
     },
     "metadata": {},
     "output_type": "display_data"
    },
    {
     "data": {
      "text/html": [
       "<pre>| 16158        | 1e+009  | 27.3549     | 11m 29s      |</pre>"
      ],
      "text/plain": [
       "| 16158        | 1e+009  | 27.3549     | 11m 29s      |"
      ]
     },
     "metadata": {},
     "output_type": "display_data"
    },
    {
     "data": {
      "text/html": [
       "<pre>| 16175        | 1e+009  | 27.3833     | 11m 30s      |</pre>"
      ],
      "text/plain": [
       "| 16175        | 1e+009  | 27.3833     | 11m 30s      |"
      ]
     },
     "metadata": {},
     "output_type": "display_data"
    },
    {
     "data": {
      "text/html": [
       "<pre>| 16194        | 1e+009  | 27.4154     | 11m 31s      |</pre>"
      ],
      "text/plain": [
       "| 16194        | 1e+009  | 27.4154     | 11m 31s      |"
      ]
     },
     "metadata": {},
     "output_type": "display_data"
    },
    {
     "data": {
      "text/html": [
       "<pre>| 16212        | 1e+009  | 27.4461     | 11m 32s      |</pre>"
      ],
      "text/plain": [
       "| 16212        | 1e+009  | 27.4461     | 11m 32s      |"
      ]
     },
     "metadata": {},
     "output_type": "display_data"
    },
    {
     "data": {
      "text/html": [
       "<pre>| 16235        | 1e+009  | 27.4844     | 11m 33s      |</pre>"
      ],
      "text/plain": [
       "| 16235        | 1e+009  | 27.4844     | 11m 33s      |"
      ]
     },
     "metadata": {},
     "output_type": "display_data"
    },
    {
     "data": {
      "text/html": [
       "<pre>| 16258        | 1e+009  | 27.5244     | 11m 34s      |</pre>"
      ],
      "text/plain": [
       "| 16258        | 1e+009  | 27.5244     | 11m 34s      |"
      ]
     },
     "metadata": {},
     "output_type": "display_data"
    },
    {
     "data": {
      "text/html": [
       "<pre>| 16283        | 1e+009  | 27.5663     | 11m 35s      |</pre>"
      ],
      "text/plain": [
       "| 16283        | 1e+009  | 27.5663     | 11m 35s      |"
      ]
     },
     "metadata": {},
     "output_type": "display_data"
    },
    {
     "data": {
      "text/html": [
       "<pre>| 16307        | 1e+009  | 27.6061     | 11m 36s      |</pre>"
      ],
      "text/plain": [
       "| 16307        | 1e+009  | 27.6061     | 11m 36s      |"
      ]
     },
     "metadata": {},
     "output_type": "display_data"
    },
    {
     "data": {
      "text/html": [
       "<pre>| 16332        | 1e+009  | 27.6484     | 11m 37s      |</pre>"
      ],
      "text/plain": [
       "| 16332        | 1e+009  | 27.6484     | 11m 37s      |"
      ]
     },
     "metadata": {},
     "output_type": "display_data"
    },
    {
     "data": {
      "text/html": [
       "<pre>| 16355        | 1e+009  | 27.6876     | 11m 38s      |</pre>"
      ],
      "text/plain": [
       "| 16355        | 1e+009  | 27.6876     | 11m 38s      |"
      ]
     },
     "metadata": {},
     "output_type": "display_data"
    },
    {
     "data": {
      "text/html": [
       "<pre>| 16379        | 1e+009  | 27.7285     | 11m 39s      |</pre>"
      ],
      "text/plain": [
       "| 16379        | 1e+009  | 27.7285     | 11m 39s      |"
      ]
     },
     "metadata": {},
     "output_type": "display_data"
    },
    {
     "data": {
      "text/html": [
       "<pre>| 16404        | 1e+009  | 27.7711     | 11m 40s      |</pre>"
      ],
      "text/plain": [
       "| 16404        | 1e+009  | 27.7711     | 11m 40s      |"
      ]
     },
     "metadata": {},
     "output_type": "display_data"
    },
    {
     "data": {
      "text/html": [
       "<pre>| 16429        | 1e+009  | 27.8123     | 11m 41s      |</pre>"
      ],
      "text/plain": [
       "| 16429        | 1e+009  | 27.8123     | 11m 41s      |"
      ]
     },
     "metadata": {},
     "output_type": "display_data"
    },
    {
     "data": {
      "text/html": [
       "<pre>| 16454        | 1e+009  | 27.8552     | 11m 42s      |</pre>"
      ],
      "text/plain": [
       "| 16454        | 1e+009  | 27.8552     | 11m 42s      |"
      ]
     },
     "metadata": {},
     "output_type": "display_data"
    },
    {
     "data": {
      "text/html": [
       "<pre>| 16478        | 1e+009  | 27.896      | 11m 43s      |</pre>"
      ],
      "text/plain": [
       "| 16478        | 1e+009  | 27.896      | 11m 43s      |"
      ]
     },
     "metadata": {},
     "output_type": "display_data"
    },
    {
     "data": {
      "text/html": [
       "<pre>| 16503        | 1e+009  | 27.9387     | 11m 44s      |</pre>"
      ],
      "text/plain": [
       "| 16503        | 1e+009  | 27.9387     | 11m 44s      |"
      ]
     },
     "metadata": {},
     "output_type": "display_data"
    },
    {
     "data": {
      "text/html": [
       "<pre>| 16527        | 1e+009  | 27.979      | 11m 45s      |</pre>"
      ],
      "text/plain": [
       "| 16527        | 1e+009  | 27.979      | 11m 45s      |"
      ]
     },
     "metadata": {},
     "output_type": "display_data"
    },
    {
     "data": {
      "text/html": [
       "<pre>| 16549        | 1e+009  | 28.0171     | 11m 46s      |</pre>"
      ],
      "text/plain": [
       "| 16549        | 1e+009  | 28.0171     | 11m 46s      |"
      ]
     },
     "metadata": {},
     "output_type": "display_data"
    },
    {
     "data": {
      "text/html": [
       "<pre>| 16573        | 1e+009  | 28.0571     | 11m 47s      |</pre>"
      ],
      "text/plain": [
       "| 16573        | 1e+009  | 28.0571     | 11m 47s      |"
      ]
     },
     "metadata": {},
     "output_type": "display_data"
    },
    {
     "data": {
      "text/html": [
       "<pre>| 16596        | 1e+009  | 28.0957     | 11m 48s      |</pre>"
      ],
      "text/plain": [
       "| 16596        | 1e+009  | 28.0957     | 11m 48s      |"
      ]
     },
     "metadata": {},
     "output_type": "display_data"
    },
    {
     "data": {
      "text/html": [
       "<pre>| 16617        | 1e+009  | 28.132      | 11m 49s      |</pre>"
      ],
      "text/plain": [
       "| 16617        | 1e+009  | 28.132      | 11m 49s      |"
      ]
     },
     "metadata": {},
     "output_type": "display_data"
    },
    {
     "data": {
      "text/html": [
       "<pre>| 16642        | 1e+009  | 28.1741     | 11m 50s      |</pre>"
      ],
      "text/plain": [
       "| 16642        | 1e+009  | 28.1741     | 11m 50s      |"
      ]
     },
     "metadata": {},
     "output_type": "display_data"
    },
    {
     "data": {
      "text/html": [
       "<pre>| 16667        | 1e+009  | 28.2157     | 11m 51s      |</pre>"
      ],
      "text/plain": [
       "| 16667        | 1e+009  | 28.2157     | 11m 51s      |"
      ]
     },
     "metadata": {},
     "output_type": "display_data"
    },
    {
     "data": {
      "text/html": [
       "<pre>| 16691        | 1e+009  | 28.2559     | 11m 52s      |</pre>"
      ],
      "text/plain": [
       "| 16691        | 1e+009  | 28.2559     | 11m 52s      |"
      ]
     },
     "metadata": {},
     "output_type": "display_data"
    },
    {
     "data": {
      "text/html": [
       "<pre>| 16712        | 1e+009  | 28.2926     | 11m 53s      |</pre>"
      ],
      "text/plain": [
       "| 16712        | 1e+009  | 28.2926     | 11m 53s      |"
      ]
     },
     "metadata": {},
     "output_type": "display_data"
    },
    {
     "data": {
      "text/html": [
       "<pre>| 16737        | 1e+009  | 28.334      | 11m 54s      |</pre>"
      ],
      "text/plain": [
       "| 16737        | 1e+009  | 28.334      | 11m 54s      |"
      ]
     },
     "metadata": {},
     "output_type": "display_data"
    },
    {
     "data": {
      "text/html": [
       "<pre>| 16762        | 1e+009  | 28.3761     | 11m 55s      |</pre>"
      ],
      "text/plain": [
       "| 16762        | 1e+009  | 28.3761     | 11m 55s      |"
      ]
     },
     "metadata": {},
     "output_type": "display_data"
    },
    {
     "data": {
      "text/html": [
       "<pre>| 16786        | 1e+009  | 28.4181     | 11m 56s      |</pre>"
      ],
      "text/plain": [
       "| 16786        | 1e+009  | 28.4181     | 11m 56s      |"
      ]
     },
     "metadata": {},
     "output_type": "display_data"
    },
    {
     "data": {
      "text/html": [
       "<pre>| 16811        | 1e+009  | 28.4599     | 11m 57s      |</pre>"
      ],
      "text/plain": [
       "| 16811        | 1e+009  | 28.4599     | 11m 57s      |"
      ]
     },
     "metadata": {},
     "output_type": "display_data"
    },
    {
     "data": {
      "text/html": [
       "<pre>| 16836        | 1e+009  | 28.5018     | 11m 58s      |</pre>"
      ],
      "text/plain": [
       "| 16836        | 1e+009  | 28.5018     | 11m 58s      |"
      ]
     },
     "metadata": {},
     "output_type": "display_data"
    },
    {
     "data": {
      "text/html": [
       "<pre>| 16861        | 1e+009  | 28.5438     | 11m 59s      |</pre>"
      ],
      "text/plain": [
       "| 16861        | 1e+009  | 28.5438     | 11m 59s      |"
      ]
     },
     "metadata": {},
     "output_type": "display_data"
    },
    {
     "data": {
      "text/html": [
       "<pre>| 16886        | 1e+009  | 28.5864     | 12m 0s       |</pre>"
      ],
      "text/plain": [
       "| 16886        | 1e+009  | 28.5864     | 12m 0s       |"
      ]
     },
     "metadata": {},
     "output_type": "display_data"
    },
    {
     "data": {
      "text/html": [
       "<pre>| 16910        | 1e+009  | 28.6282     | 12m 1s       |</pre>"
      ],
      "text/plain": [
       "| 16910        | 1e+009  | 28.6282     | 12m 1s       |"
      ]
     },
     "metadata": {},
     "output_type": "display_data"
    },
    {
     "data": {
      "text/html": [
       "<pre>| 16934        |         | 28.6683     | 12m 2s       |</pre>"
      ],
      "text/plain": [
       "| 16934        |         | 28.6683     | 12m 2s       |"
      ]
     },
     "metadata": {},
     "output_type": "display_data"
    },
    {
     "data": {
      "text/html": [
       "<pre>| 16957        | 1e+009  | 28.7074     | 12m 3s       |</pre>"
      ],
      "text/plain": [
       "| 16957        | 1e+009  | 28.7074     | 12m 3s       |"
      ]
     },
     "metadata": {},
     "output_type": "display_data"
    },
    {
     "data": {
      "text/html": [
       "<pre>| 16982        | 1e+009  | 28.7492     | 12m 4s       |</pre>"
      ],
      "text/plain": [
       "| 16982        | 1e+009  | 28.7492     | 12m 4s       |"
      ]
     },
     "metadata": {},
     "output_type": "display_data"
    },
    {
     "data": {
      "text/html": [
       "<pre>| 17007        | 1e+009  | 28.7913     | 12m 5s       |</pre>"
      ],
      "text/plain": [
       "| 17007        | 1e+009  | 28.7913     | 12m 5s       |"
      ]
     },
     "metadata": {},
     "output_type": "display_data"
    },
    {
     "data": {
      "text/html": [
       "<pre>| 17031        | 1e+009  | 28.8324     | 12m 6s       |</pre>"
      ],
      "text/plain": [
       "| 17031        | 1e+009  | 28.8324     | 12m 6s       |"
      ]
     },
     "metadata": {},
     "output_type": "display_data"
    },
    {
     "data": {
      "text/html": [
       "<pre>| 17056        | 1e+009  | 28.8745     | 12m 7s       |</pre>"
      ],
      "text/plain": [
       "| 17056        | 1e+009  | 28.8745     | 12m 7s       |"
      ]
     },
     "metadata": {},
     "output_type": "display_data"
    },
    {
     "data": {
      "text/html": [
       "<pre>| 17080        | 1e+009  | 28.9159     | 12m 8s       |</pre>"
      ],
      "text/plain": [
       "| 17080        | 1e+009  | 28.9159     | 12m 8s       |"
      ]
     },
     "metadata": {},
     "output_type": "display_data"
    },
    {
     "data": {
      "text/html": [
       "<pre>| 17105        | 1e+009  | 28.9581     | 12m 9s       |</pre>"
      ],
      "text/plain": [
       "| 17105        | 1e+009  | 28.9581     | 12m 9s       |"
      ]
     },
     "metadata": {},
     "output_type": "display_data"
    },
    {
     "data": {
      "text/html": [
       "<pre>| 17130        | 1e+009  | 28.9998     | 12m 10s      |</pre>"
      ],
      "text/plain": [
       "| 17130        | 1e+009  | 28.9998     | 12m 10s      |"
      ]
     },
     "metadata": {},
     "output_type": "display_data"
    },
    {
     "data": {
      "text/html": [
       "<pre>| 17155        | 1e+009  | 29.0418     | 12m 11s      |</pre>"
      ],
      "text/plain": [
       "| 17155        | 1e+009  | 29.0418     | 12m 11s      |"
      ]
     },
     "metadata": {},
     "output_type": "display_data"
    },
    {
     "data": {
      "text/html": [
       "<pre>| 17179        | 1e+009  | 29.0836     | 12m 12s      |</pre>"
      ],
      "text/plain": [
       "| 17179        | 1e+009  | 29.0836     | 12m 12s      |"
      ]
     },
     "metadata": {},
     "output_type": "display_data"
    },
    {
     "data": {
      "text/html": [
       "<pre>| 17204        | 1e+009  | 29.1243     | 12m 13s      |</pre>"
      ],
      "text/plain": [
       "| 17204        | 1e+009  | 29.1243     | 12m 13s      |"
      ]
     },
     "metadata": {},
     "output_type": "display_data"
    },
    {
     "data": {
      "text/html": [
       "<pre>| 17225        | 1e+009  | 29.1601     | 12m 14s      |</pre>"
      ],
      "text/plain": [
       "| 17225        | 1e+009  | 29.1601     | 12m 14s      |"
      ]
     },
     "metadata": {},
     "output_type": "display_data"
    },
    {
     "data": {
      "text/html": [
       "<pre>| 17247        | 1e+009  | 29.1972     | 12m 15s      |</pre>"
      ],
      "text/plain": [
       "| 17247        | 1e+009  | 29.1972     | 12m 15s      |"
      ]
     },
     "metadata": {},
     "output_type": "display_data"
    },
    {
     "data": {
      "text/html": [
       "<pre>| 17263        | 1e+009  | 29.2246     | 12m 16s      |</pre>"
      ],
      "text/plain": [
       "| 17263        | 1e+009  | 29.2246     | 12m 16s      |"
      ]
     },
     "metadata": {},
     "output_type": "display_data"
    },
    {
     "data": {
      "text/html": [
       "<pre>| 17277        | 1e+009  | 29.2494     | 12m 17s      |</pre>"
      ],
      "text/plain": [
       "| 17277        | 1e+009  | 29.2494     | 12m 17s      |"
      ]
     },
     "metadata": {},
     "output_type": "display_data"
    },
    {
     "data": {
      "text/html": [
       "<pre>| 17292        | 1e+009  | 29.2747     | 12m 18s      |</pre>"
      ],
      "text/plain": [
       "| 17292        | 1e+009  | 29.2747     | 12m 18s      |"
      ]
     },
     "metadata": {},
     "output_type": "display_data"
    },
    {
     "data": {
      "text/html": [
       "<pre>| 17312        | 1e+009  | 29.3082     | 12m 19s      |</pre>"
      ],
      "text/plain": [
       "| 17312        | 1e+009  | 29.3082     | 12m 19s      |"
      ]
     },
     "metadata": {},
     "output_type": "display_data"
    },
    {
     "data": {
      "text/html": [
       "<pre>| 17334        | 1e+009  | 29.3446     | 12m 20s      |</pre>"
      ],
      "text/plain": [
       "| 17334        | 1e+009  | 29.3446     | 12m 20s      |"
      ]
     },
     "metadata": {},
     "output_type": "display_data"
    },
    {
     "data": {
      "text/html": [
       "<pre>| 17355        | 1e+009  | 29.3808     | 12m 21s      |</pre>"
      ],
      "text/plain": [
       "| 17355        | 1e+009  | 29.3808     | 12m 21s      |"
      ]
     },
     "metadata": {},
     "output_type": "display_data"
    },
    {
     "data": {
      "text/html": [
       "<pre>| 17377        | 1e+009  | 29.4186     | 12m 22s      |</pre>"
      ],
      "text/plain": [
       "| 17377        | 1e+009  | 29.4186     | 12m 22s      |"
      ]
     },
     "metadata": {},
     "output_type": "display_data"
    },
    {
     "data": {
      "text/html": [
       "<pre>| 17400        | 1e+009  | 29.4574     | 12m 23s      |</pre>"
      ],
      "text/plain": [
       "| 17400        | 1e+009  | 29.4574     | 12m 23s      |"
      ]
     },
     "metadata": {},
     "output_type": "display_data"
    },
    {
     "data": {
      "text/html": [
       "<pre>| 17423        | 1e+009  | 29.4966     | 12m 24s      |</pre>"
      ],
      "text/plain": [
       "| 17423        | 1e+009  | 29.4966     | 12m 24s      |"
      ]
     },
     "metadata": {},
     "output_type": "display_data"
    },
    {
     "data": {
      "text/html": [
       "<pre>| 17447        | 1e+009  | 29.5357     | 12m 25s      |</pre>"
      ],
      "text/plain": [
       "| 17447        | 1e+009  | 29.5357     | 12m 25s      |"
      ]
     },
     "metadata": {},
     "output_type": "display_data"
    },
    {
     "data": {
      "text/html": [
       "<pre>| 17469        | 1e+009  | 29.5746     | 12m 26s      |</pre>"
      ],
      "text/plain": [
       "| 17469        | 1e+009  | 29.5746     | 12m 26s      |"
      ]
     },
     "metadata": {},
     "output_type": "display_data"
    },
    {
     "data": {
      "text/html": [
       "<pre>| 17492        | 1e+009  | 29.613      | 12m 27s      |</pre>"
      ],
      "text/plain": [
       "| 17492        | 1e+009  | 29.613      | 12m 27s      |"
      ]
     },
     "metadata": {},
     "output_type": "display_data"
    },
    {
     "data": {
      "text/html": [
       "<pre>| 17515        | 1e+009  | 29.6521     | 12m 28s      |</pre>"
      ],
      "text/plain": [
       "| 17515        | 1e+009  | 29.6521     | 12m 28s      |"
      ]
     },
     "metadata": {},
     "output_type": "display_data"
    },
    {
     "data": {
      "text/html": [
       "<pre>| 17539        | 1e+009  | 29.6919     | 12m 29s      |</pre>"
      ],
      "text/plain": [
       "| 17539        | 1e+009  | 29.6919     | 12m 29s      |"
      ]
     },
     "metadata": {},
     "output_type": "display_data"
    },
    {
     "data": {
      "text/html": [
       "<pre>| 17561        | 1e+009  | 29.7289     | 12m 30s      |</pre>"
      ],
      "text/plain": [
       "| 17561        | 1e+009  | 29.7289     | 12m 30s      |"
      ]
     },
     "metadata": {},
     "output_type": "display_data"
    },
    {
     "data": {
      "text/html": [
       "<pre>| 17581        | 1e+009  | 29.7641     | 12m 31s      |</pre>"
      ],
      "text/plain": [
       "| 17581        | 1e+009  | 29.7641     | 12m 31s      |"
      ]
     },
     "metadata": {},
     "output_type": "display_data"
    },
    {
     "data": {
      "text/html": [
       "<pre>| 17605        | 1e+009  | 29.8033     | 12m 32s      |</pre>"
      ],
      "text/plain": [
       "| 17605        | 1e+009  | 29.8033     | 12m 32s      |"
      ]
     },
     "metadata": {},
     "output_type": "display_data"
    },
    {
     "data": {
      "text/html": [
       "<pre>| 17627        | 1e+009  | 29.8419     | 12m 33s      |</pre>"
      ],
      "text/plain": [
       "| 17627        | 1e+009  | 29.8419     | 12m 33s      |"
      ]
     },
     "metadata": {},
     "output_type": "display_data"
    },
    {
     "data": {
      "text/html": [
       "<pre>| 17651        | 1e+009  | 29.8811     | 12m 34s      |</pre>"
      ],
      "text/plain": [
       "| 17651        | 1e+009  | 29.8811     | 12m 34s      |"
      ]
     },
     "metadata": {},
     "output_type": "display_data"
    },
    {
     "data": {
      "text/html": [
       "<pre>| 17673        | 1e+009  | 29.9197     | 12m 35s      |</pre>"
      ],
      "text/plain": [
       "| 17673        | 1e+009  | 29.9197     | 12m 35s      |"
      ]
     },
     "metadata": {},
     "output_type": "display_data"
    },
    {
     "data": {
      "text/html": [
       "<pre>| 17693        | 1e+009  | 29.9538     | 12m 36s      |</pre>"
      ],
      "text/plain": [
       "| 17693        | 1e+009  | 29.9538     | 12m 36s      |"
      ]
     },
     "metadata": {},
     "output_type": "display_data"
    },
    {
     "data": {
      "text/html": [
       "<pre>| 17716        | 1e+009  | 29.9921     | 12m 37s      |</pre>"
      ],
      "text/plain": [
       "| 17716        | 1e+009  | 29.9921     | 12m 37s      |"
      ]
     },
     "metadata": {},
     "output_type": "display_data"
    },
    {
     "data": {
      "text/html": [
       "<pre>| 17741        | 1e+009  | 30.0338     | 12m 38s      |</pre>"
      ],
      "text/plain": [
       "| 17741        | 1e+009  | 30.0338     | 12m 38s      |"
      ]
     },
     "metadata": {},
     "output_type": "display_data"
    },
    {
     "data": {
      "text/html": [
       "<pre>| 17761        | 1e+009  | 30.0673     | 12m 39s      |</pre>"
      ],
      "text/plain": [
       "| 17761        | 1e+009  | 30.0673     | 12m 39s      |"
      ]
     },
     "metadata": {},
     "output_type": "display_data"
    },
    {
     "data": {
      "text/html": [
       "<pre>| 17782        | 1e+009  | 30.1034     | 12m 40s      |</pre>"
      ],
      "text/plain": [
       "| 17782        | 1e+009  | 30.1034     | 12m 40s      |"
      ]
     },
     "metadata": {},
     "output_type": "display_data"
    },
    {
     "data": {
      "text/html": [
       "<pre>| 17804        | 1e+009  | 30.1403     | 12m 41s      |</pre>"
      ],
      "text/plain": [
       "| 17804        | 1e+009  | 30.1403     | 12m 41s      |"
      ]
     },
     "metadata": {},
     "output_type": "display_data"
    },
    {
     "data": {
      "text/html": [
       "<pre>| 17825        | 1e+009  | 30.1772     | 12m 42s      |</pre>"
      ],
      "text/plain": [
       "| 17825        | 1e+009  | 30.1772     | 12m 42s      |"
      ]
     },
     "metadata": {},
     "output_type": "display_data"
    },
    {
     "data": {
      "text/html": [
       "<pre>| 17846        | 1e+009  | 30.2125     | 12m 43s      |</pre>"
      ],
      "text/plain": [
       "| 17846        | 1e+009  | 30.2125     | 12m 43s      |"
      ]
     },
     "metadata": {},
     "output_type": "display_data"
    },
    {
     "data": {
      "text/html": [
       "<pre>| 17864        | 1e+009  | 30.2421     | 12m 44s      |</pre>"
      ],
      "text/plain": [
       "| 17864        | 1e+009  | 30.2421     | 12m 44s      |"
      ]
     },
     "metadata": {},
     "output_type": "display_data"
    },
    {
     "data": {
      "text/html": [
       "<pre>| 17884        | 1e+009  | 30.2771     | 12m 45s      |</pre>"
      ],
      "text/plain": [
       "| 17884        | 1e+009  | 30.2771     | 12m 45s      |"
      ]
     },
     "metadata": {},
     "output_type": "display_data"
    },
    {
     "data": {
      "text/html": [
       "<pre>| 17906        | 1e+009  | 30.3134     | 12m 46s      |</pre>"
      ],
      "text/plain": [
       "| 17906        | 1e+009  | 30.3134     | 12m 46s      |"
      ]
     },
     "metadata": {},
     "output_type": "display_data"
    },
    {
     "data": {
      "text/html": [
       "<pre>| 17927        | 1e+009  | 30.3494     | 12m 47s      |</pre>"
      ],
      "text/plain": [
       "| 17927        | 1e+009  | 30.3494     | 12m 47s      |"
      ]
     },
     "metadata": {},
     "output_type": "display_data"
    },
    {
     "data": {
      "text/html": [
       "<pre>| 17947        | 1e+009  | 30.3829     | 12m 48s      |</pre>"
      ],
      "text/plain": [
       "| 17947        | 1e+009  | 30.3829     | 12m 48s      |"
      ]
     },
     "metadata": {},
     "output_type": "display_data"
    },
    {
     "data": {
      "text/html": [
       "<pre>| 17968        | 1e+009  | 30.419      | 12m 49s      |</pre>"
      ],
      "text/plain": [
       "| 17968        | 1e+009  | 30.419      | 12m 49s      |"
      ]
     },
     "metadata": {},
     "output_type": "display_data"
    },
    {
     "data": {
      "text/html": [
       "<pre>| 17990        | 1e+009  | 30.4551     | 12m 50s      |</pre>"
      ],
      "text/plain": [
       "| 17990        | 1e+009  | 30.4551     | 12m 50s      |"
      ]
     },
     "metadata": {},
     "output_type": "display_data"
    },
    {
     "data": {
      "text/html": [
       "<pre>| 18011        | 1e+009  | 30.4915     | 12m 51s      |</pre>"
      ],
      "text/plain": [
       "| 18011        | 1e+009  | 30.4915     | 12m 51s      |"
      ]
     },
     "metadata": {},
     "output_type": "display_data"
    },
    {
     "data": {
      "text/html": [
       "<pre>| 18032        | 1e+009  | 30.5276     | 12m 52s      |</pre>"
      ],
      "text/plain": [
       "| 18032        | 1e+009  | 30.5276     | 12m 52s      |"
      ]
     },
     "metadata": {},
     "output_type": "display_data"
    },
    {
     "data": {
      "text/html": [
       "<pre>| 18054        | 1e+009  | 30.5643     | 12m 53s      |</pre>"
      ],
      "text/plain": [
       "| 18054        | 1e+009  | 30.5643     | 12m 53s      |"
      ]
     },
     "metadata": {},
     "output_type": "display_data"
    },
    {
     "data": {
      "text/html": [
       "<pre>| 18075        | 1e+009  | 30.5997     | 12m 54s      |</pre>"
      ],
      "text/plain": [
       "| 18075        | 1e+009  | 30.5997     | 12m 54s      |"
      ]
     },
     "metadata": {},
     "output_type": "display_data"
    },
    {
     "data": {
      "text/html": [
       "<pre>| 18095        | 1e+009  | 30.6343     | 12m 55s      |</pre>"
      ],
      "text/plain": [
       "| 18095        | 1e+009  | 30.6343     | 12m 55s      |"
      ]
     },
     "metadata": {},
     "output_type": "display_data"
    },
    {
     "data": {
      "text/html": [
       "<pre>| 18117        | 1e+009  | 30.6714     | 12m 56s      |</pre>"
      ],
      "text/plain": [
       "| 18117        | 1e+009  | 30.6714     | 12m 56s      |"
      ]
     },
     "metadata": {},
     "output_type": "display_data"
    },
    {
     "data": {
      "text/html": [
       "<pre>| 18139        | 1e+009  | 30.7085     | 12m 57s      |</pre>"
      ],
      "text/plain": [
       "| 18139        | 1e+009  | 30.7085     | 12m 57s      |"
      ]
     },
     "metadata": {},
     "output_type": "display_data"
    },
    {
     "data": {
      "text/html": [
       "<pre>| 18161        | 1e+009  | 30.7447     | 12m 58s      |</pre>"
      ],
      "text/plain": [
       "| 18161        | 1e+009  | 30.7447     | 12m 58s      |"
      ]
     },
     "metadata": {},
     "output_type": "display_data"
    },
    {
     "data": {
      "text/html": [
       "<pre>| 18181        | 1e+009  | 30.7796     | 12m 59s      |</pre>"
      ],
      "text/plain": [
       "| 18181        | 1e+009  | 30.7796     | 12m 59s      |"
      ]
     },
     "metadata": {},
     "output_type": "display_data"
    },
    {
     "data": {
      "text/html": [
       "<pre>| 18202        | 1e+009  | 30.8153     | 13m 0s       |</pre>"
      ],
      "text/plain": [
       "| 18202        | 1e+009  | 30.8153     | 13m 0s       |"
      ]
     },
     "metadata": {},
     "output_type": "display_data"
    },
    {
     "data": {
      "text/html": [
       "<pre>| 18224        | 1e+009  | 30.8518     | 13m 1s       |</pre>"
      ],
      "text/plain": [
       "| 18224        | 1e+009  | 30.8518     | 13m 1s       |"
      ]
     },
     "metadata": {},
     "output_type": "display_data"
    },
    {
     "data": {
      "text/html": [
       "<pre>| 18244        | 1e+009  | 30.8861     | 13m 2s       |</pre>"
      ],
      "text/plain": [
       "| 18244        | 1e+009  | 30.8861     | 13m 2s       |"
      ]
     },
     "metadata": {},
     "output_type": "display_data"
    },
    {
     "data": {
      "text/html": [
       "<pre>| 18265        | 1e+009  | 30.921      | 13m 3s       |</pre>"
      ],
      "text/plain": [
       "| 18265        | 1e+009  | 30.921      | 13m 3s       |"
      ]
     },
     "metadata": {},
     "output_type": "display_data"
    },
    {
     "data": {
      "text/html": [
       "<pre>| 18285        | 1e+009  | 30.9547     | 13m 4s       |</pre>"
      ],
      "text/plain": [
       "| 18285        | 1e+009  | 30.9547     | 13m 4s       |"
      ]
     },
     "metadata": {},
     "output_type": "display_data"
    },
    {
     "data": {
      "text/html": [
       "<pre>| 18305        | 1e+009  | 30.9895     | 13m 5s       |</pre>"
      ],
      "text/plain": [
       "| 18305        | 1e+009  | 30.9895     | 13m 5s       |"
      ]
     },
     "metadata": {},
     "output_type": "display_data"
    },
    {
     "data": {
      "text/html": [
       "<pre>| 18326        | 1e+009  | 31.0242     | 13m 6s       |</pre>"
      ],
      "text/plain": [
       "| 18326        | 1e+009  | 31.0242     | 13m 6s       |"
      ]
     },
     "metadata": {},
     "output_type": "display_data"
    },
    {
     "data": {
      "text/html": [
       "<pre>| 18347        | 1e+009  | 31.0607     | 13m 7s       |</pre>"
      ],
      "text/plain": [
       "| 18347        | 1e+009  | 31.0607     | 13m 7s       |"
      ]
     },
     "metadata": {},
     "output_type": "display_data"
    },
    {
     "data": {
      "text/html": [
       "<pre>| 18368        | 1e+009  | 31.0964     | 13m 8s       |</pre>"
      ],
      "text/plain": [
       "| 18368        | 1e+009  | 31.0964     | 13m 8s       |"
      ]
     },
     "metadata": {},
     "output_type": "display_data"
    },
    {
     "data": {
      "text/html": [
       "<pre>| 18389        | 1e+009  | 31.1319     | 13m 9s       |</pre>"
      ],
      "text/plain": [
       "| 18389        | 1e+009  | 31.1319     | 13m 9s       |"
      ]
     },
     "metadata": {},
     "output_type": "display_data"
    },
    {
     "data": {
      "text/html": [
       "<pre>| 18408        | 1e+009  | 31.163      | 13m 10s      |</pre>"
      ],
      "text/plain": [
       "| 18408        | 1e+009  | 31.163      | 13m 10s      |"
      ]
     },
     "metadata": {},
     "output_type": "display_data"
    },
    {
     "data": {
      "text/html": [
       "<pre>| 18425        | 1e+009  | 31.1929     | 13m 11s      |</pre>"
      ],
      "text/plain": [
       "| 18425        | 1e+009  | 31.1929     | 13m 11s      |"
      ]
     },
     "metadata": {},
     "output_type": "display_data"
    },
    {
     "data": {
      "text/html": [
       "<pre>| 18443        | 1e+009  | 31.2222     | 13m 12s      |</pre>"
      ],
      "text/plain": [
       "| 18443        | 1e+009  | 31.2222     | 13m 12s      |"
      ]
     },
     "metadata": {},
     "output_type": "display_data"
    },
    {
     "data": {
      "text/html": [
       "<pre>| 18458        | 1e+009  | 31.248      | 13m 13s      |</pre>"
      ],
      "text/plain": [
       "| 18458        | 1e+009  | 31.248      | 13m 13s      |"
      ]
     },
     "metadata": {},
     "output_type": "display_data"
    },
    {
     "data": {
      "text/html": [
       "<pre>| 18480        | 1e+009  | 31.2846     | 13m 14s      |</pre>"
      ],
      "text/plain": [
       "| 18480        | 1e+009  | 31.2846     | 13m 14s      |"
      ]
     },
     "metadata": {},
     "output_type": "display_data"
    },
    {
     "data": {
      "text/html": [
       "<pre>| 18501        | 1e+009  | 31.3211     | 13m 15s      |</pre>"
      ],
      "text/plain": [
       "| 18501        | 1e+009  | 31.3211     | 13m 15s      |"
      ]
     },
     "metadata": {},
     "output_type": "display_data"
    },
    {
     "data": {
      "text/html": [
       "<pre>| 18524        | 1e+009  | 31.359      | 13m 16s      |</pre>"
      ],
      "text/plain": [
       "| 18524        | 1e+009  | 31.359      | 13m 16s      |"
      ]
     },
     "metadata": {},
     "output_type": "display_data"
    },
    {
     "data": {
      "text/html": [
       "<pre>| 18546        | 1e+009  | 31.3973     | 13m 17s      |</pre>"
      ],
      "text/plain": [
       "| 18546        | 1e+009  | 31.3973     | 13m 17s      |"
      ]
     },
     "metadata": {},
     "output_type": "display_data"
    },
    {
     "data": {
      "text/html": [
       "<pre>| 18566        | 1e+009  | 31.4303     | 13m 18s      |</pre>"
      ],
      "text/plain": [
       "| 18566        | 1e+009  | 31.4303     | 13m 18s      |"
      ]
     },
     "metadata": {},
     "output_type": "display_data"
    },
    {
     "data": {
      "text/html": [
       "<pre>| 18587        | 1e+009  | 31.4664     | 13m 19s      |</pre>"
      ],
      "text/plain": [
       "| 18587        | 1e+009  | 31.4664     | 13m 19s      |"
      ]
     },
     "metadata": {},
     "output_type": "display_data"
    },
    {
     "data": {
      "text/html": [
       "<pre>| 18609        | 1e+009  | 31.5044     | 13m 20s      |</pre>"
      ],
      "text/plain": [
       "| 18609        | 1e+009  | 31.5044     | 13m 20s      |"
      ]
     },
     "metadata": {},
     "output_type": "display_data"
    },
    {
     "data": {
      "text/html": [
       "<pre>| 18632        | 1e+009  | 31.5417     | 13m 21s      |</pre>"
      ],
      "text/plain": [
       "| 18632        | 1e+009  | 31.5417     | 13m 21s      |"
      ]
     },
     "metadata": {},
     "output_type": "display_data"
    },
    {
     "data": {
      "text/html": [
       "<pre>| 18654        | 1e+009  | 31.5794     | 13m 22s      |</pre>"
      ],
      "text/plain": [
       "| 18654        | 1e+009  | 31.5794     | 13m 22s      |"
      ]
     },
     "metadata": {},
     "output_type": "display_data"
    },
    {
     "data": {
      "text/html": [
       "<pre>| 18676        | 1e+009  | 31.6163     | 13m 23s      |</pre>"
      ],
      "text/plain": [
       "| 18676        | 1e+009  | 31.6163     | 13m 23s      |"
      ]
     },
     "metadata": {},
     "output_type": "display_data"
    },
    {
     "data": {
      "text/html": [
       "<pre>| 18695        | 1e+009  | 31.6493     | 13m 24s      |</pre>"
      ],
      "text/plain": [
       "| 18695        | 1e+009  | 31.6493     | 13m 24s      |"
      ]
     },
     "metadata": {},
     "output_type": "display_data"
    },
    {
     "data": {
      "text/html": [
       "<pre>| 18716        | 1e+009  | 31.6842     | 13m 25s      |</pre>"
      ],
      "text/plain": [
       "| 18716        | 1e+009  | 31.6842     | 13m 25s      |"
      ]
     },
     "metadata": {},
     "output_type": "display_data"
    },
    {
     "data": {
      "text/html": [
       "<pre>| 18738        | 1e+009  | 31.7227     | 13m 26s      |</pre>"
      ],
      "text/plain": [
       "| 18738        | 1e+009  | 31.7227     | 13m 26s      |"
      ]
     },
     "metadata": {},
     "output_type": "display_data"
    },
    {
     "data": {
      "text/html": [
       "<pre>| 18760        | 1e+009  | 31.7596     | 13m 27s      |</pre>"
      ],
      "text/plain": [
       "| 18760        | 1e+009  | 31.7596     | 13m 27s      |"
      ]
     },
     "metadata": {},
     "output_type": "display_data"
    },
    {
     "data": {
      "text/html": [
       "<pre>| 18780        | 1e+009  | 31.7937     | 13m 28s      |</pre>"
      ],
      "text/plain": [
       "| 18780        | 1e+009  | 31.7937     | 13m 28s      |"
      ]
     },
     "metadata": {},
     "output_type": "display_data"
    },
    {
     "data": {
      "text/html": [
       "<pre>| 18800        | 1e+009  | 31.8274     | 13m 29s      |</pre>"
      ],
      "text/plain": [
       "| 18800        | 1e+009  | 31.8274     | 13m 29s      |"
      ]
     },
     "metadata": {},
     "output_type": "display_data"
    },
    {
     "data": {
      "text/html": [
       "<pre>| 18821        | 1e+009  | 31.8633     | 13m 30s      |</pre>"
      ],
      "text/plain": [
       "| 18821        | 1e+009  | 31.8633     | 13m 30s      |"
      ]
     },
     "metadata": {},
     "output_type": "display_data"
    },
    {
     "data": {
      "text/html": [
       "<pre>| 18845        | 1e+009  | 31.9024     | 13m 31s      |</pre>"
      ],
      "text/plain": [
       "| 18845        | 1e+009  | 31.9024     | 13m 31s      |"
      ]
     },
     "metadata": {},
     "output_type": "display_data"
    },
    {
     "data": {
      "text/html": [
       "<pre>| 18866        | 1e+009  | 31.9392     | 13m 32s      |</pre>"
      ],
      "text/plain": [
       "| 18866        | 1e+009  | 31.9392     | 13m 32s      |"
      ]
     },
     "metadata": {},
     "output_type": "display_data"
    },
    {
     "data": {
      "text/html": [
       "<pre>| 18891        | 1e+009  | 31.9806     | 13m 33s      |</pre>"
      ],
      "text/plain": [
       "| 18891        | 1e+009  | 31.9806     | 13m 33s      |"
      ]
     },
     "metadata": {},
     "output_type": "display_data"
    },
    {
     "data": {
      "text/html": [
       "<pre>| 18916        | 1e+009  | 32.0226     | 13m 34s      |</pre>"
      ],
      "text/plain": [
       "| 18916        | 1e+009  | 32.0226     | 13m 34s      |"
      ]
     },
     "metadata": {},
     "output_type": "display_data"
    },
    {
     "data": {
      "text/html": [
       "<pre>| 18941        | 1e+009  | 32.0651     | 13m 35s      |</pre>"
      ],
      "text/plain": [
       "| 18941        | 1e+009  | 32.0651     | 13m 35s      |"
      ]
     },
     "metadata": {},
     "output_type": "display_data"
    },
    {
     "data": {
      "text/html": [
       "<pre>| 18966        | 1e+009  | 32.1074     | 13m 36s      |</pre>"
      ],
      "text/plain": [
       "| 18966        | 1e+009  | 32.1074     | 13m 36s      |"
      ]
     },
     "metadata": {},
     "output_type": "display_data"
    },
    {
     "data": {
      "text/html": [
       "<pre>| 18990        | 1e+009  | 32.1485     | 13m 37s      |</pre>"
      ],
      "text/plain": [
       "| 18990        | 1e+009  | 32.1485     | 13m 37s      |"
      ]
     },
     "metadata": {},
     "output_type": "display_data"
    },
    {
     "data": {
      "text/html": [
       "<pre>| 19015        | 1e+009  | 32.1901     | 13m 38s      |</pre>"
      ],
      "text/plain": [
       "| 19015        | 1e+009  | 32.1901     | 13m 38s      |"
      ]
     },
     "metadata": {},
     "output_type": "display_data"
    },
    {
     "data": {
      "text/html": [
       "<pre>| 19039        | 1e+009  | 32.2323     | 13m 39s      |</pre>"
      ],
      "text/plain": [
       "| 19039        | 1e+009  | 32.2323     | 13m 39s      |"
      ]
     },
     "metadata": {},
     "output_type": "display_data"
    },
    {
     "data": {
      "text/html": [
       "<pre>| 19065        | 1e+009  | 32.2752     | 13m 40s      |</pre>"
      ],
      "text/plain": [
       "| 19065        | 1e+009  | 32.2752     | 13m 40s      |"
      ]
     },
     "metadata": {},
     "output_type": "display_data"
    },
    {
     "data": {
      "text/html": [
       "<pre>| 19090        | 1e+009  | 32.318      | 13m 41s      |</pre>"
      ],
      "text/plain": [
       "| 19090        | 1e+009  | 32.318      | 13m 41s      |"
      ]
     },
     "metadata": {},
     "output_type": "display_data"
    },
    {
     "data": {
      "text/html": [
       "<pre>| 19115        | 1e+009  | 32.3608     | 13m 42s      |</pre>"
      ],
      "text/plain": [
       "| 19115        | 1e+009  | 32.3608     | 13m 42s      |"
      ]
     },
     "metadata": {},
     "output_type": "display_data"
    },
    {
     "data": {
      "text/html": [
       "<pre>| 19141        | 1e+009  | 32.4042     | 13m 43s      |</pre>"
      ],
      "text/plain": [
       "| 19141        | 1e+009  | 32.4042     | 13m 43s      |"
      ]
     },
     "metadata": {},
     "output_type": "display_data"
    },
    {
     "data": {
      "text/html": [
       "<pre>| 19166        | 1e+009  | 32.447      | 13m 44s      |</pre>"
      ],
      "text/plain": [
       "| 19166        | 1e+009  | 32.447      | 13m 44s      |"
      ]
     },
     "metadata": {},
     "output_type": "display_data"
    },
    {
     "data": {
      "text/html": [
       "<pre>| 19192        | 1e+009  | 32.4904     | 13m 45s      |</pre>"
      ],
      "text/plain": [
       "| 19192        | 1e+009  | 32.4904     | 13m 45s      |"
      ]
     },
     "metadata": {},
     "output_type": "display_data"
    },
    {
     "data": {
      "text/html": [
       "<pre>| 19217        | 1e+009  | 32.5333     | 13m 46s      |</pre>"
      ],
      "text/plain": [
       "| 19217        | 1e+009  | 32.5333     | 13m 46s      |"
      ]
     },
     "metadata": {},
     "output_type": "display_data"
    },
    {
     "data": {
      "text/html": [
       "<pre>| 19243        | 1e+009  | 32.5764     | 13m 47s      |</pre>"
      ],
      "text/plain": [
       "| 19243        | 1e+009  | 32.5764     | 13m 47s      |"
      ]
     },
     "metadata": {},
     "output_type": "display_data"
    },
    {
     "data": {
      "text/html": [
       "<pre>| 19268        | 1e+009  | 32.6196     | 13m 48s      |</pre>"
      ],
      "text/plain": [
       "| 19268        | 1e+009  | 32.6196     | 13m 48s      |"
      ]
     },
     "metadata": {},
     "output_type": "display_data"
    },
    {
     "data": {
      "text/html": [
       "<pre>| 19294        | 1e+009  | 32.6629     | 13m 49s      |</pre>"
      ],
      "text/plain": [
       "| 19294        | 1e+009  | 32.6629     | 13m 49s      |"
      ]
     },
     "metadata": {},
     "output_type": "display_data"
    },
    {
     "data": {
      "text/html": [
       "<pre>| 19320        | 1e+009  | 32.7067     | 13m 50s      |</pre>"
      ],
      "text/plain": [
       "| 19320        | 1e+009  | 32.7067     | 13m 50s      |"
      ]
     },
     "metadata": {},
     "output_type": "display_data"
    },
    {
     "data": {
      "text/html": [
       "<pre>| 19346        | 1e+009  | 32.7506     | 13m 51s      |</pre>"
      ],
      "text/plain": [
       "| 19346        | 1e+009  | 32.7506     | 13m 51s      |"
      ]
     },
     "metadata": {},
     "output_type": "display_data"
    },
    {
     "data": {
      "text/html": [
       "<pre>| 19370        | 1e+009  | 32.7923     | 13m 52s      |</pre>"
      ],
      "text/plain": [
       "| 19370        | 1e+009  | 32.7923     | 13m 52s      |"
      ]
     },
     "metadata": {},
     "output_type": "display_data"
    },
    {
     "data": {
      "text/html": [
       "<pre>| 19395        | 1e+009  | 32.8349     | 13m 53s      |</pre>"
      ],
      "text/plain": [
       "| 19395        | 1e+009  | 32.8349     | 13m 53s      |"
      ]
     },
     "metadata": {},
     "output_type": "display_data"
    },
    {
     "data": {
      "text/html": [
       "<pre>| 19421        | 1e+009  | 32.878      | 13m 54s      |</pre>"
      ],
      "text/plain": [
       "| 19421        | 1e+009  | 32.878      | 13m 54s      |"
      ]
     },
     "metadata": {},
     "output_type": "display_data"
    },
    {
     "data": {
      "text/html": [
       "<pre>| 19447        | 1e+009  | 32.9215     | 13m 55s      |</pre>"
      ],
      "text/plain": [
       "| 19447        | 1e+009  | 32.9215     | 13m 55s      |"
      ]
     },
     "metadata": {},
     "output_type": "display_data"
    },
    {
     "data": {
      "text/html": [
       "<pre>| 19472        | 1e+009  | 32.964      | 13m 56s      |</pre>"
      ],
      "text/plain": [
       "| 19472        | 1e+009  | 32.964      | 13m 56s      |"
      ]
     },
     "metadata": {},
     "output_type": "display_data"
    },
    {
     "data": {
      "text/html": [
       "<pre>| 19497        | 1e+009  | 33.0072     | 13m 57s      |</pre>"
      ],
      "text/plain": [
       "| 19497        | 1e+009  | 33.0072     | 13m 57s      |"
      ]
     },
     "metadata": {},
     "output_type": "display_data"
    },
    {
     "data": {
      "text/html": [
       "<pre>| 19522        | 1e+009  | 33.05       | 13m 58s      |</pre>"
      ],
      "text/plain": [
       "| 19522        | 1e+009  | 33.05       | 13m 58s      |"
      ]
     },
     "metadata": {},
     "output_type": "display_data"
    },
    {
     "data": {
      "text/html": [
       "<pre>| 19546        | 1e+009  | 33.0901     | 13m 59s      |</pre>"
      ],
      "text/plain": [
       "| 19546        | 1e+009  | 33.0901     | 13m 59s      |"
      ]
     },
     "metadata": {},
     "output_type": "display_data"
    },
    {
     "data": {
      "text/html": [
       "<pre>| 19571        | 1e+009  | 33.1318     | 14m 0s       |</pre>"
      ],
      "text/plain": [
       "| 19571        | 1e+009  | 33.1318     | 14m 0s       |"
      ]
     },
     "metadata": {},
     "output_type": "display_data"
    },
    {
     "data": {
      "text/html": [
       "<pre>| 19596        | 1e+009  | 33.1746     | 14m 1s       |</pre>"
      ],
      "text/plain": [
       "| 19596        | 1e+009  | 33.1746     | 14m 1s       |"
      ]
     },
     "metadata": {},
     "output_type": "display_data"
    },
    {
     "data": {
      "text/html": [
       "<pre>| 19620        | 1e+009  | 33.2144     | 14m 2s       |</pre>"
      ],
      "text/plain": [
       "| 19620        | 1e+009  | 33.2144     | 14m 2s       |"
      ]
     },
     "metadata": {},
     "output_type": "display_data"
    },
    {
     "data": {
      "text/html": [
       "<pre>| 19643        | 1e+009  | 33.2539     | 14m 3s       |</pre>"
      ],
      "text/plain": [
       "| 19643        | 1e+009  | 33.2539     | 14m 3s       |"
      ]
     },
     "metadata": {},
     "output_type": "display_data"
    },
    {
     "data": {
      "text/html": [
       "<pre>| 19669        | 1e+009  | 33.2976     | 14m 4s       |</pre>"
      ],
      "text/plain": [
       "| 19669        | 1e+009  | 33.2976     | 14m 4s       |"
      ]
     },
     "metadata": {},
     "output_type": "display_data"
    },
    {
     "data": {
      "text/html": [
       "<pre>| 19693        | 1e+009  | 33.3381     | 14m 5s       |</pre>"
      ],
      "text/plain": [
       "| 19693        | 1e+009  | 33.3381     | 14m 5s       |"
      ]
     },
     "metadata": {},
     "output_type": "display_data"
    },
    {
     "data": {
      "text/html": [
       "<pre>| 19716        | 1e+009  | 33.3775     | 14m 6s       |</pre>"
      ],
      "text/plain": [
       "| 19716        | 1e+009  | 33.3775     | 14m 6s       |"
      ]
     },
     "metadata": {},
     "output_type": "display_data"
    },
    {
     "data": {
      "text/html": [
       "<pre>| 19741        | 1e+009  | 33.4202     | 14m 7s       |</pre>"
      ],
      "text/plain": [
       "| 19741        | 1e+009  | 33.4202     | 14m 7s       |"
      ]
     },
     "metadata": {},
     "output_type": "display_data"
    },
    {
     "data": {
      "text/html": [
       "<pre>| 19766        | 1e+009  | 33.4624     | 14m 8s       |</pre>"
      ],
      "text/plain": [
       "| 19766        | 1e+009  | 33.4624     | 14m 8s       |"
      ]
     },
     "metadata": {},
     "output_type": "display_data"
    },
    {
     "data": {
      "text/html": [
       "<pre>| 19791        | 1e+009  | 33.5053     | 14m 9s       |</pre>"
      ],
      "text/plain": [
       "| 19791        | 1e+009  | 33.5053     | 14m 9s       |"
      ]
     },
     "metadata": {},
     "output_type": "display_data"
    },
    {
     "data": {
      "text/html": [
       "<pre>| 19817        | 1e+009  | 33.5486     | 14m 10s      |</pre>"
      ],
      "text/plain": [
       "| 19817        | 1e+009  | 33.5486     | 14m 10s      |"
      ]
     },
     "metadata": {},
     "output_type": "display_data"
    },
    {
     "data": {
      "text/html": [
       "<pre>| 19841        | 1e+009  | 33.5884     | 14m 11s      |</pre>"
      ],
      "text/plain": [
       "| 19841        | 1e+009  | 33.5884     | 14m 11s      |"
      ]
     },
     "metadata": {},
     "output_type": "display_data"
    },
    {
     "data": {
      "text/html": [
       "<pre>| 19866        | 1e+009  | 33.6313     | 14m 12s      |</pre>"
      ],
      "text/plain": [
       "| 19866        | 1e+009  | 33.6313     | 14m 12s      |"
      ]
     },
     "metadata": {},
     "output_type": "display_data"
    },
    {
     "data": {
      "text/html": [
       "<pre>| 19891        | 1e+009  | 33.6738     | 14m 13s      |</pre>"
      ],
      "text/plain": [
       "| 19891        | 1e+009  | 33.6738     | 14m 13s      |"
      ]
     },
     "metadata": {},
     "output_type": "display_data"
    },
    {
     "data": {
      "text/html": [
       "<pre>| 19917        | 1e+009  | 33.7172     | 14m 14s      |</pre>"
      ],
      "text/plain": [
       "| 19917        | 1e+009  | 33.7172     | 14m 14s      |"
      ]
     },
     "metadata": {},
     "output_type": "display_data"
    },
    {
     "data": {
      "text/html": [
       "<pre>| 19941        | 1e+009  | 33.758      | 14m 15s      |</pre>"
      ],
      "text/plain": [
       "| 19941        | 1e+009  | 33.758      | 14m 15s      |"
      ]
     },
     "metadata": {},
     "output_type": "display_data"
    },
    {
     "data": {
      "text/html": [
       "<pre>| 19965        | 1e+009  | 33.7987     | 14m 16s      |</pre>"
      ],
      "text/plain": [
       "| 19965        | 1e+009  | 33.7987     | 14m 16s      |"
      ]
     },
     "metadata": {},
     "output_type": "display_data"
    },
    {
     "data": {
      "text/html": [
       "<pre>| 19990        | 1e+009  | 33.8419     | 14m 17s      |</pre>"
      ],
      "text/plain": [
       "| 19990        | 1e+009  | 33.8419     | 14m 17s      |"
      ]
     },
     "metadata": {},
     "output_type": "display_data"
    },
    {
     "data": {
      "text/html": [
       "<pre>| 20014        | 1e+009  | 33.8817     | 14m 18s      |</pre>"
      ],
      "text/plain": [
       "| 20014        | 1e+009  | 33.8817     | 14m 18s      |"
      ]
     },
     "metadata": {},
     "output_type": "display_data"
    },
    {
     "data": {
      "text/html": [
       "<pre>| 20039        | 1e+009  | 33.9244     | 14m 19s      |</pre>"
      ],
      "text/plain": [
       "| 20039        | 1e+009  | 33.9244     | 14m 19s      |"
      ]
     },
     "metadata": {},
     "output_type": "display_data"
    },
    {
     "data": {
      "text/html": [
       "<pre>| 20062        | 1e+009  | 33.9639     | 14m 20s      |</pre>"
      ],
      "text/plain": [
       "| 20062        | 1e+009  | 33.9639     | 14m 20s      |"
      ]
     },
     "metadata": {},
     "output_type": "display_data"
    },
    {
     "data": {
      "text/html": [
       "<pre>| 20085        | 1e+009  | 34.0016     | 14m 21s      |</pre>"
      ],
      "text/plain": [
       "| 20085        | 1e+009  | 34.0016     | 14m 21s      |"
      ]
     },
     "metadata": {},
     "output_type": "display_data"
    },
    {
     "data": {
      "text/html": [
       "<pre>| 20107        | 1e+009  | 34.0387     | 14m 22s      |</pre>"
      ],
      "text/plain": [
       "| 20107        | 1e+009  | 34.0387     | 14m 22s      |"
      ]
     },
     "metadata": {},
     "output_type": "display_data"
    },
    {
     "data": {
      "text/html": [
       "<pre>| 20129        | 1e+009  | 34.0762     | 14m 23s      |</pre>"
      ],
      "text/plain": [
       "| 20129        | 1e+009  | 34.0762     | 14m 23s      |"
      ]
     },
     "metadata": {},
     "output_type": "display_data"
    },
    {
     "data": {
      "text/html": [
       "<pre>| 20150        | 1e+009  | 34.113      | 14m 24s      |</pre>"
      ],
      "text/plain": [
       "| 20150        | 1e+009  | 34.113      | 14m 24s      |"
      ]
     },
     "metadata": {},
     "output_type": "display_data"
    },
    {
     "data": {
      "text/html": [
       "<pre>| 20173        | 1e+009  | 34.1506     | 14m 25s      |</pre>"
      ],
      "text/plain": [
       "| 20173        | 1e+009  | 34.1506     | 14m 25s      |"
      ]
     },
     "metadata": {},
     "output_type": "display_data"
    },
    {
     "data": {
      "text/html": [
       "<pre>| 20195        | 1e+009  | 34.1881     | 14m 26s      |</pre>"
      ],
      "text/plain": [
       "| 20195        | 1e+009  | 34.1881     | 14m 26s      |"
      ]
     },
     "metadata": {},
     "output_type": "display_data"
    },
    {
     "data": {
      "text/html": [
       "<pre>| 20219        | 1e+009  | 34.2292     | 14m 27s      |</pre>"
      ],
      "text/plain": [
       "| 20219        | 1e+009  | 34.2292     | 14m 27s      |"
      ]
     },
     "metadata": {},
     "output_type": "display_data"
    },
    {
     "data": {
      "text/html": [
       "<pre>| 20242        | 1e+009  | 34.2687     | 14m 28s      |</pre>"
      ],
      "text/plain": [
       "| 20242        | 1e+009  | 34.2687     | 14m 28s      |"
      ]
     },
     "metadata": {},
     "output_type": "display_data"
    },
    {
     "data": {
      "text/html": [
       "<pre>| 20265        | 1e+009  | 34.307      | 14m 29s      |</pre>"
      ],
      "text/plain": [
       "| 20265        | 1e+009  | 34.307      | 14m 29s      |"
      ]
     },
     "metadata": {},
     "output_type": "display_data"
    },
    {
     "data": {
      "text/html": [
       "<pre>| 20290        | 1e+009  | 34.3492     | 14m 30s      |</pre>"
      ],
      "text/plain": [
       "| 20290        | 1e+009  | 34.3492     | 14m 30s      |"
      ]
     },
     "metadata": {},
     "output_type": "display_data"
    },
    {
     "data": {
      "text/html": [
       "<pre>| 20315        | 1e+009  | 34.392      | 14m 31s      |</pre>"
      ],
      "text/plain": [
       "| 20315        | 1e+009  | 34.392      | 14m 31s      |"
      ]
     },
     "metadata": {},
     "output_type": "display_data"
    },
    {
     "data": {
      "text/html": [
       "<pre>| 20341        | 1e+009  | 34.4352     | 14m 32s      |</pre>"
      ],
      "text/plain": [
       "| 20341        | 1e+009  | 34.4352     | 14m 32s      |"
      ]
     },
     "metadata": {},
     "output_type": "display_data"
    },
    {
     "data": {
      "text/html": [
       "<pre>| 20365        | 1e+009  | 34.4771     | 14m 33s      |</pre>"
      ],
      "text/plain": [
       "| 20365        | 1e+009  | 34.4771     | 14m 33s      |"
      ]
     },
     "metadata": {},
     "output_type": "display_data"
    },
    {
     "data": {
      "text/html": [
       "<pre>| 20390        | 1e+009  | 34.5187     | 14m 34s      |</pre>"
      ],
      "text/plain": [
       "| 20390        | 1e+009  | 34.5187     | 14m 34s      |"
      ]
     },
     "metadata": {},
     "output_type": "display_data"
    },
    {
     "data": {
      "text/html": [
       "<pre>| 20415        | 1e+009  | 34.5613     | 14m 35s      |</pre>"
      ],
      "text/plain": [
       "| 20415        | 1e+009  | 34.5613     | 14m 35s      |"
      ]
     },
     "metadata": {},
     "output_type": "display_data"
    },
    {
     "data": {
      "text/html": [
       "<pre>| 20440        | 1e+009  | 34.6039     | 14m 36s      |</pre>"
      ],
      "text/plain": [
       "| 20440        | 1e+009  | 34.6039     | 14m 36s      |"
      ]
     },
     "metadata": {},
     "output_type": "display_data"
    },
    {
     "data": {
      "text/html": [
       "<pre>| 20466        | 1e+009  | 34.6471     | 14m 37s      |</pre>"
      ],
      "text/plain": [
       "| 20466        | 1e+009  | 34.6471     | 14m 37s      |"
      ]
     },
     "metadata": {},
     "output_type": "display_data"
    },
    {
     "data": {
      "text/html": [
       "<pre>| 20491        | 1e+009  | 34.6897     | 14m 38s      |</pre>"
      ],
      "text/plain": [
       "| 20491        | 1e+009  | 34.6897     | 14m 38s      |"
      ]
     },
     "metadata": {},
     "output_type": "display_data"
    },
    {
     "data": {
      "text/html": [
       "<pre>| 20516        | 1e+009  | 34.7324     | 14m 39s      |</pre>"
      ],
      "text/plain": [
       "| 20516        | 1e+009  | 34.7324     | 14m 39s      |"
      ]
     },
     "metadata": {},
     "output_type": "display_data"
    },
    {
     "data": {
      "text/html": [
       "<pre>| 20541        | 1e+009  | 34.7749     | 14m 40s      |</pre>"
      ],
      "text/plain": [
       "| 20541        | 1e+009  | 34.7749     | 14m 40s      |"
      ]
     },
     "metadata": {},
     "output_type": "display_data"
    },
    {
     "data": {
      "text/html": [
       "<pre>| 20567        | 1e+009  | 34.8181     | 14m 41s      |</pre>"
      ],
      "text/plain": [
       "| 20567        | 1e+009  | 34.8181     | 14m 41s      |"
      ]
     },
     "metadata": {},
     "output_type": "display_data"
    },
    {
     "data": {
      "text/html": [
       "<pre>| 20592        | 1e+009  | 34.8612     | 14m 42s      |</pre>"
      ],
      "text/plain": [
       "| 20592        | 1e+009  | 34.8612     | 14m 42s      |"
      ]
     },
     "metadata": {},
     "output_type": "display_data"
    },
    {
     "data": {
      "text/html": [
       "<pre>| 20617        | 1e+009  | 34.9037     | 14m 43s      |</pre>"
      ],
      "text/plain": [
       "| 20617        | 1e+009  | 34.9037     | 14m 43s      |"
      ]
     },
     "metadata": {},
     "output_type": "display_data"
    },
    {
     "data": {
      "text/html": [
       "<pre>| 20642        | 1e+009  | 34.9456     | 14m 44s      |</pre>"
      ],
      "text/plain": [
       "| 20642        | 1e+009  | 34.9456     | 14m 44s      |"
      ]
     },
     "metadata": {},
     "output_type": "display_data"
    },
    {
     "data": {
      "text/html": [
       "<pre>| 20668        | 1e+009  | 34.9888     | 14m 45s      |</pre>"
      ],
      "text/plain": [
       "| 20668        | 1e+009  | 34.9888     | 14m 45s      |"
      ]
     },
     "metadata": {},
     "output_type": "display_data"
    },
    {
     "data": {
      "text/html": [
       "<pre>| 20693        | 1e+009  | 35.0314     | 14m 46s      |</pre>"
      ],
      "text/plain": [
       "| 20693        | 1e+009  | 35.0314     | 14m 46s      |"
      ]
     },
     "metadata": {},
     "output_type": "display_data"
    },
    {
     "data": {
      "text/html": [
       "<pre>| 20718        | 1e+009  | 35.0746     | 14m 47s      |</pre>"
      ],
      "text/plain": [
       "| 20718        | 1e+009  | 35.0746     | 14m 47s      |"
      ]
     },
     "metadata": {},
     "output_type": "display_data"
    },
    {
     "data": {
      "text/html": [
       "<pre>| 20742        | 1e+009  | 35.1142     | 14m 48s      |</pre>"
      ],
      "text/plain": [
       "| 20742        | 1e+009  | 35.1142     | 14m 48s      |"
      ]
     },
     "metadata": {},
     "output_type": "display_data"
    },
    {
     "data": {
      "text/html": [
       "<pre>| 20767        | 1e+009  | 35.1567     | 14m 49s      |</pre>"
      ],
      "text/plain": [
       "| 20767        | 1e+009  | 35.1567     | 14m 49s      |"
      ]
     },
     "metadata": {},
     "output_type": "display_data"
    },
    {
     "data": {
      "text/html": [
       "<pre>| 20792        | 1e+009  | 35.1991     | 14m 50s      |</pre>"
      ],
      "text/plain": [
       "| 20792        | 1e+009  | 35.1991     | 14m 50s      |"
      ]
     },
     "metadata": {},
     "output_type": "display_data"
    },
    {
     "data": {
      "text/html": [
       "<pre>| 20818        | 1e+009  | 35.2426     | 14m 51s      |</pre>"
      ],
      "text/plain": [
       "| 20818        | 1e+009  | 35.2426     | 14m 51s      |"
      ]
     },
     "metadata": {},
     "output_type": "display_data"
    },
    {
     "data": {
      "text/html": [
       "<pre>| 20843        | 1e+009  | 35.2856     | 14m 52s      |</pre>"
      ],
      "text/plain": [
       "| 20843        | 1e+009  | 35.2856     | 14m 52s      |"
      ]
     },
     "metadata": {},
     "output_type": "display_data"
    },
    {
     "data": {
      "text/html": [
       "<pre>| 20866        | 1e+009  | 35.3244     | 14m 53s      |</pre>"
      ],
      "text/plain": [
       "| 20866        | 1e+009  | 35.3244     | 14m 53s      |"
      ]
     },
     "metadata": {},
     "output_type": "display_data"
    },
    {
     "data": {
      "text/html": [
       "<pre>| 20891        | 1e+009  | 35.3667     | 14m 54s      |</pre>"
      ],
      "text/plain": [
       "| 20891        | 1e+009  | 35.3667     | 14m 54s      |"
      ]
     },
     "metadata": {},
     "output_type": "display_data"
    },
    {
     "data": {
      "text/html": [
       "<pre>| 20916        | 1e+009  | 35.409      | 14m 55s      |</pre>"
      ],
      "text/plain": [
       "| 20916        | 1e+009  | 35.409      | 14m 55s      |"
      ]
     },
     "metadata": {},
     "output_type": "display_data"
    },
    {
     "data": {
      "text/html": [
       "<pre>| 20941        | 1e+009  | 35.4517     | 14m 56s      |</pre>"
      ],
      "text/plain": [
       "| 20941        | 1e+009  | 35.4517     | 14m 56s      |"
      ]
     },
     "metadata": {},
     "output_type": "display_data"
    },
    {
     "data": {
      "text/html": [
       "<pre>| 20966        | 1e+009  | 35.4939     | 14m 57s      |</pre>"
      ],
      "text/plain": [
       "| 20966        | 1e+009  | 35.4939     | 14m 57s      |"
      ]
     },
     "metadata": {},
     "output_type": "display_data"
    },
    {
     "data": {
      "text/html": [
       "<pre>| 20988        | 1e+009  | 35.5311     | 14m 58s      |</pre>"
      ],
      "text/plain": [
       "| 20988        | 1e+009  | 35.5311     | 14m 58s      |"
      ]
     },
     "metadata": {},
     "output_type": "display_data"
    },
    {
     "data": {
      "text/html": [
       "<pre>| 21012        | 1e+009  | 35.5718     | 14m 59s      |</pre>"
      ],
      "text/plain": [
       "| 21012        | 1e+009  | 35.5718     | 14m 59s      |"
      ]
     },
     "metadata": {},
     "output_type": "display_data"
    },
    {
     "data": {
      "text/html": [
       "<pre>| 21037        | 1e+009  | 35.6144     | 15m 0s       |</pre>"
      ],
      "text/plain": [
       "| 21037        | 1e+009  | 35.6144     | 15m 0s       |"
      ]
     },
     "metadata": {},
     "output_type": "display_data"
    },
    {
     "data": {
      "text/html": [
       "<pre>| 21061        | 1e+009  | 35.6539     | 15m 1s       |</pre>"
      ],
      "text/plain": [
       "| 21061        | 1e+009  | 35.6539     | 15m 1s       |"
      ]
     },
     "metadata": {},
     "output_type": "display_data"
    },
    {
     "data": {
      "text/html": [
       "<pre>| 21084        | 1e+009  | 35.6939     | 15m 2s       |</pre>"
      ],
      "text/plain": [
       "| 21084        | 1e+009  | 35.6939     | 15m 2s       |"
      ]
     },
     "metadata": {},
     "output_type": "display_data"
    },
    {
     "data": {
      "text/html": [
       "<pre>| 21109        | 1e+009  | 35.7359     | 15m 3s       |</pre>"
      ],
      "text/plain": [
       "| 21109        | 1e+009  | 35.7359     | 15m 3s       |"
      ]
     },
     "metadata": {},
     "output_type": "display_data"
    },
    {
     "data": {
      "text/html": [
       "<pre>| 21134        | 1e+009  | 35.7781     | 15m 4s       |</pre>"
      ],
      "text/plain": [
       "| 21134        | 1e+009  | 35.7781     | 15m 4s       |"
      ]
     },
     "metadata": {},
     "output_type": "display_data"
    },
    {
     "data": {
      "text/html": [
       "<pre>| 21159        | 1e+009  | 35.8203     | 15m 5s       |</pre>"
      ],
      "text/plain": [
       "| 21159        | 1e+009  | 35.8203     | 15m 5s       |"
      ]
     },
     "metadata": {},
     "output_type": "display_data"
    },
    {
     "data": {
      "text/html": [
       "<pre>| 21184        | 1e+009  | 35.8626     | 15m 6s       |</pre>"
      ],
      "text/plain": [
       "| 21184        | 1e+009  | 35.8626     | 15m 6s       |"
      ]
     },
     "metadata": {},
     "output_type": "display_data"
    },
    {
     "data": {
      "text/html": [
       "<pre>| 21209        | 1e+009  | 35.9046     | 15m 7s       |</pre>"
      ],
      "text/plain": [
       "| 21209        | 1e+009  | 35.9046     | 15m 7s       |"
      ]
     },
     "metadata": {},
     "output_type": "display_data"
    },
    {
     "data": {
      "text/html": [
       "<pre>| 21234        | 1e+009  | 35.9469     | 15m 8s       |</pre>"
      ],
      "text/plain": [
       "| 21234        | 1e+009  | 35.9469     | 15m 8s       |"
      ]
     },
     "metadata": {},
     "output_type": "display_data"
    },
    {
     "data": {
      "text/html": [
       "<pre>| 21259        | 1e+009  | 35.9894     | 15m 9s       |</pre>"
      ],
      "text/plain": [
       "| 21259        | 1e+009  | 35.9894     | 15m 9s       |"
      ]
     },
     "metadata": {},
     "output_type": "display_data"
    },
    {
     "data": {
      "text/html": [
       "<pre>| 21284        | 1e+009  | 36.0321     | 15m 10s      |</pre>"
      ],
      "text/plain": [
       "| 21284        | 1e+009  | 36.0321     | 15m 10s      |"
      ]
     },
     "metadata": {},
     "output_type": "display_data"
    },
    {
     "data": {
      "text/html": [
       "<pre>| 21309        | 1e+009  | 36.0748     | 15m 11s      |</pre>"
      ],
      "text/plain": [
       "| 21309        | 1e+009  | 36.0748     | 15m 11s      |"
      ]
     },
     "metadata": {},
     "output_type": "display_data"
    },
    {
     "data": {
      "text/html": [
       "<pre>| 21334        | 1e+009  | 36.1169     | 15m 12s      |</pre>"
      ],
      "text/plain": [
       "| 21334        | 1e+009  | 36.1169     | 15m 12s      |"
      ]
     },
     "metadata": {},
     "output_type": "display_data"
    },
    {
     "data": {
      "text/html": [
       "<pre>| 21359        | 1e+009  | 36.1597     | 15m 13s      |</pre>"
      ],
      "text/plain": [
       "| 21359        | 1e+009  | 36.1597     | 15m 13s      |"
      ]
     },
     "metadata": {},
     "output_type": "display_data"
    },
    {
     "data": {
      "text/html": [
       "<pre>| 21385        | 1e+009  | 36.2026     | 15m 14s      |</pre>"
      ],
      "text/plain": [
       "| 21385        | 1e+009  | 36.2026     | 15m 14s      |"
      ]
     },
     "metadata": {},
     "output_type": "display_data"
    },
    {
     "data": {
      "text/html": [
       "<pre>| 21410        | 1e+009  | 36.245      | 15m 15s      |</pre>"
      ],
      "text/plain": [
       "| 21410        | 1e+009  | 36.245      | 15m 15s      |"
      ]
     },
     "metadata": {},
     "output_type": "display_data"
    },
    {
     "data": {
      "text/html": [
       "<pre>| 21434        | 1e+009  | 36.2865     | 15m 16s      |</pre>"
      ],
      "text/plain": [
       "| 21434        | 1e+009  | 36.2865     | 15m 16s      |"
      ]
     },
     "metadata": {},
     "output_type": "display_data"
    },
    {
     "data": {
      "text/html": [
       "<pre>| 21459        | 1e+009  | 36.3282     | 15m 17s      |</pre>"
      ],
      "text/plain": [
       "| 21459        | 1e+009  | 36.3282     | 15m 17s      |"
      ]
     },
     "metadata": {},
     "output_type": "display_data"
    },
    {
     "data": {
      "text/html": [
       "<pre>| 21483        | 1e+009  | 36.3697     | 15m 18s      |</pre>"
      ],
      "text/plain": [
       "| 21483        | 1e+009  | 36.3697     | 15m 18s      |"
      ]
     },
     "metadata": {},
     "output_type": "display_data"
    },
    {
     "data": {
      "text/html": [
       "<pre>| 21509        | 1e+009  | 36.4123     | 15m 19s      |</pre>"
      ],
      "text/plain": [
       "| 21509        | 1e+009  | 36.4123     | 15m 19s      |"
      ]
     },
     "metadata": {},
     "output_type": "display_data"
    },
    {
     "data": {
      "text/html": [
       "<pre>| 21534        | 1e+009  | 36.4545     | 15m 20s      |</pre>"
      ],
      "text/plain": [
       "| 21534        | 1e+009  | 36.4545     | 15m 20s      |"
      ]
     },
     "metadata": {},
     "output_type": "display_data"
    },
    {
     "data": {
      "text/html": [
       "<pre>| 21559        | 1e+009  | 36.497      | 15m 21s      |</pre>"
      ],
      "text/plain": [
       "| 21559        | 1e+009  | 36.497      | 15m 21s      |"
      ]
     },
     "metadata": {},
     "output_type": "display_data"
    },
    {
     "data": {
      "text/html": [
       "<pre>| 21584        | 1e+009  | 36.5395     | 15m 22s      |</pre>"
      ],
      "text/plain": [
       "| 21584        | 1e+009  | 36.5395     | 15m 22s      |"
      ]
     },
     "metadata": {},
     "output_type": "display_data"
    },
    {
     "data": {
      "text/html": [
       "<pre>| 21609        | 1e+009  | 36.5816     | 15m 23s      |</pre>"
      ],
      "text/plain": [
       "| 21609        | 1e+009  | 36.5816     | 15m 23s      |"
      ]
     },
     "metadata": {},
     "output_type": "display_data"
    },
    {
     "data": {
      "text/html": [
       "<pre>| 21634        | 1e+009  | 36.6238     | 15m 24s      |</pre>"
      ],
      "text/plain": [
       "| 21634        | 1e+009  | 36.6238     | 15m 24s      |"
      ]
     },
     "metadata": {},
     "output_type": "display_data"
    },
    {
     "data": {
      "text/html": [
       "<pre>| 21658        | 1e+009  | 36.6647     | 15m 25s      |</pre>"
      ],
      "text/plain": [
       "| 21658        | 1e+009  | 36.6647     | 15m 25s      |"
      ]
     },
     "metadata": {},
     "output_type": "display_data"
    },
    {
     "data": {
      "text/html": [
       "<pre>| 21683        | 1e+009  | 36.7068     | 15m 26s      |</pre>"
      ],
      "text/plain": [
       "| 21683        | 1e+009  | 36.7068     | 15m 26s      |"
      ]
     },
     "metadata": {},
     "output_type": "display_data"
    },
    {
     "data": {
      "text/html": [
       "<pre>| 21708        | 1e+009  | 36.7492     | 15m 27s      |</pre>"
      ],
      "text/plain": [
       "| 21708        | 1e+009  | 36.7492     | 15m 27s      |"
      ]
     },
     "metadata": {},
     "output_type": "display_data"
    },
    {
     "data": {
      "text/html": [
       "<pre>| 21732        | 1e+009  | 36.7913     | 15m 28s      |</pre>"
      ],
      "text/plain": [
       "| 21732        | 1e+009  | 36.7913     | 15m 28s      |"
      ]
     },
     "metadata": {},
     "output_type": "display_data"
    },
    {
     "data": {
      "text/html": [
       "<pre>| 21757        | 1e+009  | 36.8336     | 15m 29s      |</pre>"
      ],
      "text/plain": [
       "| 21757        | 1e+009  | 36.8336     | 15m 29s      |"
      ]
     },
     "metadata": {},
     "output_type": "display_data"
    },
    {
     "data": {
      "text/html": [
       "<pre>| 21780        | 1e+009  | 36.8724     | 15m 30s      |</pre>"
      ],
      "text/plain": [
       "| 21780        | 1e+009  | 36.8724     | 15m 30s      |"
      ]
     },
     "metadata": {},
     "output_type": "display_data"
    },
    {
     "data": {
      "text/html": [
       "<pre>| 21803        | 1e+009  | 36.9106     | 15m 31s      |</pre>"
      ],
      "text/plain": [
       "| 21803        | 1e+009  | 36.9106     | 15m 31s      |"
      ]
     },
     "metadata": {},
     "output_type": "display_data"
    },
    {
     "data": {
      "text/html": [
       "<pre>| 21825        | 1e+009  | 36.9483     | 15m 32s      |</pre>"
      ],
      "text/plain": [
       "| 21825        | 1e+009  | 36.9483     | 15m 32s      |"
      ]
     },
     "metadata": {},
     "output_type": "display_data"
    },
    {
     "data": {
      "text/html": [
       "<pre>| 21850        | 1e+009  | 36.9904     | 15m 33s      |</pre>"
      ],
      "text/plain": [
       "| 21850        | 1e+009  | 36.9904     | 15m 33s      |"
      ]
     },
     "metadata": {},
     "output_type": "display_data"
    },
    {
     "data": {
      "text/html": [
       "<pre>| 21870        | 1e+009  | 37.0246     | 15m 34s      |</pre>"
      ],
      "text/plain": [
       "| 21870        | 1e+009  | 37.0246     | 15m 34s      |"
      ]
     },
     "metadata": {},
     "output_type": "display_data"
    },
    {
     "data": {
      "text/html": [
       "<pre>| 21891        | 1e+009  | 37.0589     | 15m 35s      |</pre>"
      ],
      "text/plain": [
       "| 21891        | 1e+009  | 37.0589     | 15m 35s      |"
      ]
     },
     "metadata": {},
     "output_type": "display_data"
    },
    {
     "data": {
      "text/html": [
       "<pre>| 21911        | 1e+009  | 37.0939     | 15m 36s      |</pre>"
      ],
      "text/plain": [
       "| 21911        | 1e+009  | 37.0939     | 15m 36s      |"
      ]
     },
     "metadata": {},
     "output_type": "display_data"
    },
    {
     "data": {
      "text/html": [
       "<pre>| 21933        | 1e+009  | 37.1302     | 15m 37s      |</pre>"
      ],
      "text/plain": [
       "| 21933        | 1e+009  | 37.1302     | 15m 37s      |"
      ]
     },
     "metadata": {},
     "output_type": "display_data"
    },
    {
     "data": {
      "text/html": [
       "<pre>| 21951        | 1e+009  | 37.1619     | 15m 38s      |</pre>"
      ],
      "text/plain": [
       "| 21951        | 1e+009  | 37.1619     | 15m 38s      |"
      ]
     },
     "metadata": {},
     "output_type": "display_data"
    },
    {
     "data": {
      "text/html": [
       "<pre>| 21975        | 1e+009  | 37.2019     | 15m 39s      |</pre>"
      ],
      "text/plain": [
       "| 21975        | 1e+009  | 37.2019     | 15m 39s      |"
      ]
     },
     "metadata": {},
     "output_type": "display_data"
    },
    {
     "data": {
      "text/html": [
       "<pre>| 22000        | 1e+009  | 37.2438     | 15m 40s      |</pre>"
      ],
      "text/plain": [
       "| 22000        | 1e+009  | 37.2438     | 15m 40s      |"
      ]
     },
     "metadata": {},
     "output_type": "display_data"
    },
    {
     "data": {
      "text/html": [
       "<pre>| 22025        | 1e+009  | 37.2863     | 15m 41s      |</pre>"
      ],
      "text/plain": [
       "| 22025        | 1e+009  | 37.2863     | 15m 41s      |"
      ]
     },
     "metadata": {},
     "output_type": "display_data"
    },
    {
     "data": {
      "text/html": [
       "<pre>| 22049        | 1e+009  | 37.3266     | 15m 42s      |</pre>"
      ],
      "text/plain": [
       "| 22049        | 1e+009  | 37.3266     | 15m 42s      |"
      ]
     },
     "metadata": {},
     "output_type": "display_data"
    },
    {
     "data": {
      "text/html": [
       "<pre>| 22074        | 1e+009  | 37.3687     | 15m 43s      |</pre>"
      ],
      "text/plain": [
       "| 22074        | 1e+009  | 37.3687     | 15m 43s      |"
      ]
     },
     "metadata": {},
     "output_type": "display_data"
    },
    {
     "data": {
      "text/html": [
       "<pre>| 22095        | 1e+009  | 37.4056     | 15m 44s      |</pre>"
      ],
      "text/plain": [
       "| 22095        | 1e+009  | 37.4056     | 15m 44s      |"
      ]
     },
     "metadata": {},
     "output_type": "display_data"
    },
    {
     "data": {
      "text/html": [
       "<pre>| 22114        | 1e+009  | 37.438      | 15m 45s      |</pre>"
      ],
      "text/plain": [
       "| 22114        | 1e+009  | 37.438      | 15m 45s      |"
      ]
     },
     "metadata": {},
     "output_type": "display_data"
    },
    {
     "data": {
      "text/html": [
       "<pre>| 22134        | 1e+009  | 37.4707     | 15m 46s      |</pre>"
      ],
      "text/plain": [
       "| 22134        | 1e+009  | 37.4707     | 15m 46s      |"
      ]
     },
     "metadata": {},
     "output_type": "display_data"
    },
    {
     "data": {
      "text/html": [
       "<pre>| 22150        | 1e+009  | 37.4985     | 15m 47s      |</pre>"
      ],
      "text/plain": [
       "| 22150        | 1e+009  | 37.4985     | 15m 47s      |"
      ]
     },
     "metadata": {},
     "output_type": "display_data"
    },
    {
     "data": {
      "text/html": [
       "<pre>| 22171        | 1e+009  | 37.5338     | 15m 48s      |</pre>"
      ],
      "text/plain": [
       "| 22171        | 1e+009  | 37.5338     | 15m 48s      |"
      ]
     },
     "metadata": {},
     "output_type": "display_data"
    },
    {
     "data": {
      "text/html": [
       "<pre>| 22195        | 1e+009  | 37.5737     | 15m 49s      |</pre>"
      ],
      "text/plain": [
       "| 22195        | 1e+009  | 37.5737     | 15m 49s      |"
      ]
     },
     "metadata": {},
     "output_type": "display_data"
    },
    {
     "data": {
      "text/html": [
       "<pre>| 22221        | 1e+009  | 37.6179     | 15m 50s      |</pre>"
      ],
      "text/plain": [
       "| 22221        | 1e+009  | 37.6179     | 15m 50s      |"
      ]
     },
     "metadata": {},
     "output_type": "display_data"
    },
    {
     "data": {
      "text/html": [
       "<pre>| 22247        | 1e+009  | 37.663      | 15m 51s      |</pre>"
      ],
      "text/plain": [
       "| 22247        | 1e+009  | 37.663      | 15m 51s      |"
      ]
     },
     "metadata": {},
     "output_type": "display_data"
    },
    {
     "data": {
      "text/html": [
       "<pre>| 22273        | 1e+009  | 37.7064     | 15m 52s      |</pre>"
      ],
      "text/plain": [
       "| 22273        | 1e+009  | 37.7064     | 15m 52s      |"
      ]
     },
     "metadata": {},
     "output_type": "display_data"
    },
    {
     "data": {
      "text/html": [
       "<pre>| 22297        | 1e+009  | 37.7468     | 15m 53s      |</pre>"
      ],
      "text/plain": [
       "| 22297        | 1e+009  | 37.7468     | 15m 53s      |"
      ]
     },
     "metadata": {},
     "output_type": "display_data"
    },
    {
     "data": {
      "text/html": [
       "<pre>| 22321        | 1e+009  | 37.7873     | 15m 54s      |</pre>"
      ],
      "text/plain": [
       "| 22321        | 1e+009  | 37.7873     | 15m 54s      |"
      ]
     },
     "metadata": {},
     "output_type": "display_data"
    },
    {
     "data": {
      "text/html": [
       "<pre>| 22346        | 1e+009  | 37.8298     | 15m 55s      |</pre>"
      ],
      "text/plain": [
       "| 22346        | 1e+009  | 37.8298     | 15m 55s      |"
      ]
     },
     "metadata": {},
     "output_type": "display_data"
    },
    {
     "data": {
      "text/html": [
       "<pre>| 22372        | 1e+009  | 37.8736     | 15m 56s      |</pre>"
      ],
      "text/plain": [
       "| 22372        | 1e+009  | 37.8736     | 15m 56s      |"
      ]
     },
     "metadata": {},
     "output_type": "display_data"
    },
    {
     "data": {
      "text/html": [
       "<pre>| 22398        | 1e+009  | 37.9172     | 15m 57s      |</pre>"
      ],
      "text/plain": [
       "| 22398        | 1e+009  | 37.9172     | 15m 57s      |"
      ]
     },
     "metadata": {},
     "output_type": "display_data"
    },
    {
     "data": {
      "text/html": [
       "<pre>| 22419        | 1e+009  | 37.9535     | 15m 58s      |</pre>"
      ],
      "text/plain": [
       "| 22419        | 1e+009  | 37.9535     | 15m 58s      |"
      ]
     },
     "metadata": {},
     "output_type": "display_data"
    },
    {
     "data": {
      "text/html": [
       "<pre>| 22438        | 1e+009  | 37.9848     | 15m 59s      |</pre>"
      ],
      "text/plain": [
       "| 22438        | 1e+009  | 37.9848     | 15m 59s      |"
      ]
     },
     "metadata": {},
     "output_type": "display_data"
    },
    {
     "data": {
      "text/html": [
       "<pre>| 22455        | 1e+009  | 38.0139     | 16m 0s       |</pre>"
      ],
      "text/plain": [
       "| 22455        | 1e+009  | 38.0139     | 16m 0s       |"
      ]
     },
     "metadata": {},
     "output_type": "display_data"
    },
    {
     "data": {
      "text/html": [
       "<pre>| 22472        | 1e+009  | 38.0427     | 16m 1s       |</pre>"
      ],
      "text/plain": [
       "| 22472        | 1e+009  | 38.0427     | 16m 1s       |"
      ]
     },
     "metadata": {},
     "output_type": "display_data"
    },
    {
     "data": {
      "text/html": [
       "<pre>| 22494        | 1e+009  | 38.0802     | 16m 2s       |</pre>"
      ],
      "text/plain": [
       "| 22494        | 1e+009  | 38.0802     | 16m 2s       |"
      ]
     },
     "metadata": {},
     "output_type": "display_data"
    },
    {
     "data": {
      "text/html": [
       "<pre>| 22518        | 1e+009  | 38.1218     | 16m 3s       |</pre>"
      ],
      "text/plain": [
       "| 22518        | 1e+009  | 38.1218     | 16m 3s       |"
      ]
     },
     "metadata": {},
     "output_type": "display_data"
    },
    {
     "data": {
      "text/html": [
       "<pre>| 22543        | 1e+009  | 38.1631     | 16m 4s       |</pre>"
      ],
      "text/plain": [
       "| 22543        | 1e+009  | 38.1631     | 16m 4s       |"
      ]
     },
     "metadata": {},
     "output_type": "display_data"
    },
    {
     "data": {
      "text/html": [
       "<pre>| 22568        | 1e+009  | 38.205      | 16m 5s       |</pre>"
      ],
      "text/plain": [
       "| 22568        | 1e+009  | 38.205      | 16m 5s       |"
      ]
     },
     "metadata": {},
     "output_type": "display_data"
    },
    {
     "data": {
      "text/html": [
       "<pre>| 22589        | 1e+009  | 38.2419     | 16m 6s       |</pre>"
      ],
      "text/plain": [
       "| 22589        | 1e+009  | 38.2419     | 16m 6s       |"
      ]
     },
     "metadata": {},
     "output_type": "display_data"
    },
    {
     "data": {
      "text/html": [
       "<pre>| 22613        | 1e+009  | 38.2814     | 16m 7s       |</pre>"
      ],
      "text/plain": [
       "| 22613        | 1e+009  | 38.2814     | 16m 7s       |"
      ]
     },
     "metadata": {},
     "output_type": "display_data"
    },
    {
     "data": {
      "text/html": [
       "<pre>| 22637        | 1e+009  | 38.3219     | 16m 8s       |</pre>"
      ],
      "text/plain": [
       "| 22637        | 1e+009  | 38.3219     | 16m 8s       |"
      ]
     },
     "metadata": {},
     "output_type": "display_data"
    },
    {
     "data": {
      "text/html": [
       "<pre>| 22656        | 1e+009  | 38.3548     | 16m 9s       |</pre>"
      ],
      "text/plain": [
       "| 22656        | 1e+009  | 38.3548     | 16m 9s       |"
      ]
     },
     "metadata": {},
     "output_type": "display_data"
    },
    {
     "data": {
      "text/html": [
       "<pre>| 22672        | 1e+009  | 38.3823     | 16m 10s      |</pre>"
      ],
      "text/plain": [
       "| 22672        | 1e+009  | 38.3823     | 16m 10s      |"
      ]
     },
     "metadata": {},
     "output_type": "display_data"
    },
    {
     "data": {
      "text/html": [
       "<pre>| 22694        | 1e+009  | 38.4198     | 16m 11s      |</pre>"
      ],
      "text/plain": [
       "| 22694        | 1e+009  | 38.4198     | 16m 11s      |"
      ]
     },
     "metadata": {},
     "output_type": "display_data"
    },
    {
     "data": {
      "text/html": [
       "<pre>| 22718        | 1e+009  | 38.4604     | 16m 12s      |</pre>"
      ],
      "text/plain": [
       "| 22718        | 1e+009  | 38.4604     | 16m 12s      |"
      ]
     },
     "metadata": {},
     "output_type": "display_data"
    },
    {
     "data": {
      "text/html": [
       "<pre>| 22743        | 1e+009  | 38.5027     | 16m 13s      |</pre>"
      ],
      "text/plain": [
       "| 22743        | 1e+009  | 38.5027     | 16m 13s      |"
      ]
     },
     "metadata": {},
     "output_type": "display_data"
    },
    {
     "data": {
      "text/html": [
       "<pre>| 22769        | 1e+009  | 38.5456     | 16m 14s      |</pre>"
      ],
      "text/plain": [
       "| 22769        | 1e+009  | 38.5456     | 16m 14s      |"
      ]
     },
     "metadata": {},
     "output_type": "display_data"
    },
    {
     "data": {
      "text/html": [
       "<pre>| 22792        | 1e+009  | 38.5847     | 16m 15s      |</pre>"
      ],
      "text/plain": [
       "| 22792        | 1e+009  | 38.5847     | 16m 15s      |"
      ]
     },
     "metadata": {},
     "output_type": "display_data"
    },
    {
     "data": {
      "text/html": [
       "<pre>| 22817        | 1e+009  | 38.6267     | 16m 16s      |</pre>"
      ],
      "text/plain": [
       "| 22817        | 1e+009  | 38.6267     | 16m 16s      |"
      ]
     },
     "metadata": {},
     "output_type": "display_data"
    },
    {
     "data": {
      "text/html": [
       "<pre>| 22841        | 1e+009  | 38.668      | 16m 17s      |</pre>"
      ],
      "text/plain": [
       "| 22841        | 1e+009  | 38.668      | 16m 17s      |"
      ]
     },
     "metadata": {},
     "output_type": "display_data"
    },
    {
     "data": {
      "text/html": [
       "<pre>| 22866        | 1e+009  | 38.7096     | 16m 18s      |</pre>"
      ],
      "text/plain": [
       "| 22866        | 1e+009  | 38.7096     | 16m 18s      |"
      ]
     },
     "metadata": {},
     "output_type": "display_data"
    },
    {
     "data": {
      "text/html": [
       "<pre>| 22890        | 1e+009  | 38.7512     | 16m 19s      |</pre>"
      ],
      "text/plain": [
       "| 22890        | 1e+009  | 38.7512     | 16m 19s      |"
      ]
     },
     "metadata": {},
     "output_type": "display_data"
    },
    {
     "data": {
      "text/html": [
       "<pre>| 22916        | 1e+009  | 38.7942     | 16m 20s      |</pre>"
      ],
      "text/plain": [
       "| 22916        | 1e+009  | 38.7942     | 16m 20s      |"
      ]
     },
     "metadata": {},
     "output_type": "display_data"
    },
    {
     "data": {
      "text/html": [
       "<pre>| 22939        | 1e+009  | 38.8343     | 16m 21s      |</pre>"
      ],
      "text/plain": [
       "| 22939        | 1e+009  | 38.8343     | 16m 21s      |"
      ]
     },
     "metadata": {},
     "output_type": "display_data"
    },
    {
     "data": {
      "text/html": [
       "<pre>| 22964        | 1e+009  | 38.8765     | 16m 22s      |</pre>"
      ],
      "text/plain": [
       "| 22964        | 1e+009  | 38.8765     | 16m 22s      |"
      ]
     },
     "metadata": {},
     "output_type": "display_data"
    },
    {
     "data": {
      "text/html": [
       "<pre>| 22988        | 1e+009  | 38.9172     | 16m 23s      |</pre>"
      ],
      "text/plain": [
       "| 22988        | 1e+009  | 38.9172     | 16m 23s      |"
      ]
     },
     "metadata": {},
     "output_type": "display_data"
    },
    {
     "data": {
      "text/html": [
       "<pre>| 23014        | 1e+009  | 38.9603     | 16m 24s      |</pre>"
      ],
      "text/plain": [
       "| 23014        | 1e+009  | 38.9603     | 16m 24s      |"
      ]
     },
     "metadata": {},
     "output_type": "display_data"
    },
    {
     "data": {
      "text/html": [
       "<pre>| 23036        | 1e+009  | 38.9973     | 16m 25s      |</pre>"
      ],
      "text/plain": [
       "| 23036        | 1e+009  | 38.9973     | 16m 25s      |"
      ]
     },
     "metadata": {},
     "output_type": "display_data"
    },
    {
     "data": {
      "text/html": [
       "<pre>| 23060        | 1e+009  | 39.0379     | 16m 26s      |</pre>"
      ],
      "text/plain": [
       "| 23060        | 1e+009  | 39.0379     | 16m 26s      |"
      ]
     },
     "metadata": {},
     "output_type": "display_data"
    },
    {
     "data": {
      "text/html": [
       "<pre>| 23085        | 1e+009  | 39.0806     | 16m 27s      |</pre>"
      ],
      "text/plain": [
       "| 23085        | 1e+009  | 39.0806     | 16m 27s      |"
      ]
     },
     "metadata": {},
     "output_type": "display_data"
    },
    {
     "data": {
      "text/html": [
       "<pre>| 23110        | 1e+009  | 39.1228     | 16m 28s      |</pre>"
      ],
      "text/plain": [
       "| 23110        | 1e+009  | 39.1228     | 16m 28s      |"
      ]
     },
     "metadata": {},
     "output_type": "display_data"
    },
    {
     "data": {
      "text/html": [
       "<pre>| 23135        | 1e+009  | 39.1654     | 16m 29s      |</pre>"
      ],
      "text/plain": [
       "| 23135        | 1e+009  | 39.1654     | 16m 29s      |"
      ]
     },
     "metadata": {},
     "output_type": "display_data"
    },
    {
     "data": {
      "text/html": [
       "<pre>| 23160        | 1e+009  | 39.2077     | 16m 30s      |</pre>"
      ],
      "text/plain": [
       "| 23160        | 1e+009  | 39.2077     | 16m 30s      |"
      ]
     },
     "metadata": {},
     "output_type": "display_data"
    },
    {
     "data": {
      "text/html": [
       "<pre>| 23185        | 1e+009  | 39.2508     | 16m 31s      |</pre>"
      ],
      "text/plain": [
       "| 23185        | 1e+009  | 39.2508     | 16m 31s      |"
      ]
     },
     "metadata": {},
     "output_type": "display_data"
    },
    {
     "data": {
      "text/html": [
       "<pre>| 23211        | 1e+009  | 39.294      | 16m 32s      |</pre>"
      ],
      "text/plain": [
       "| 23211        | 1e+009  | 39.294      | 16m 32s      |"
      ]
     },
     "metadata": {},
     "output_type": "display_data"
    },
    {
     "data": {
      "text/html": [
       "<pre>| 23236        | 1e+009  | 39.3363     | 16m 33s      |</pre>"
      ],
      "text/plain": [
       "| 23236        | 1e+009  | 39.3363     | 16m 33s      |"
      ]
     },
     "metadata": {},
     "output_type": "display_data"
    },
    {
     "data": {
      "text/html": [
       "<pre>| 23262        | 1e+009  | 39.38       | 16m 34s      |</pre>"
      ],
      "text/plain": [
       "| 23262        | 1e+009  | 39.38       | 16m 34s      |"
      ]
     },
     "metadata": {},
     "output_type": "display_data"
    },
    {
     "data": {
      "text/html": [
       "<pre>| 23287        | 1e+009  | 39.4224     | 16m 35s      |</pre>"
      ],
      "text/plain": [
       "| 23287        | 1e+009  | 39.4224     | 16m 35s      |"
      ]
     },
     "metadata": {},
     "output_type": "display_data"
    },
    {
     "data": {
      "text/html": [
       "<pre>| 23311        | 1e+009  | 39.4635     | 16m 36s      |</pre>"
      ],
      "text/plain": [
       "| 23311        | 1e+009  | 39.4635     | 16m 36s      |"
      ]
     },
     "metadata": {},
     "output_type": "display_data"
    },
    {
     "data": {
      "text/html": [
       "<pre>| 23336        | 1e+009  | 39.5064     | 16m 37s      |</pre>"
      ],
      "text/plain": [
       "| 23336        | 1e+009  | 39.5064     | 16m 37s      |"
      ]
     },
     "metadata": {},
     "output_type": "display_data"
    },
    {
     "data": {
      "text/html": [
       "<pre>| 23361        | 1e+009  | 39.5483     | 16m 38s      |</pre>"
      ],
      "text/plain": [
       "| 23361        | 1e+009  | 39.5483     | 16m 38s      |"
      ]
     },
     "metadata": {},
     "output_type": "display_data"
    },
    {
     "data": {
      "text/html": [
       "<pre>| 23387        | 1e+009  | 39.5915     | 16m 39s      |</pre>"
      ],
      "text/plain": [
       "| 23387        | 1e+009  | 39.5915     | 16m 39s      |"
      ]
     },
     "metadata": {},
     "output_type": "display_data"
    },
    {
     "data": {
      "text/html": [
       "<pre>| 23411        | 1e+009  | 39.6335     | 16m 40s      |</pre>"
      ],
      "text/plain": [
       "| 23411        | 1e+009  | 39.6335     | 16m 40s      |"
      ]
     },
     "metadata": {},
     "output_type": "display_data"
    },
    {
     "data": {
      "text/html": [
       "<pre>| 23437        | 1e+009  | 39.6764     | 16m 41s      |</pre>"
      ],
      "text/plain": [
       "| 23437        | 1e+009  | 39.6764     | 16m 41s      |"
      ]
     },
     "metadata": {},
     "output_type": "display_data"
    },
    {
     "data": {
      "text/html": [
       "<pre>| 23462        | 1e+009  | 39.7194     | 16m 42s      |</pre>"
      ],
      "text/plain": [
       "| 23462        | 1e+009  | 39.7194     | 16m 42s      |"
      ]
     },
     "metadata": {},
     "output_type": "display_data"
    },
    {
     "data": {
      "text/html": [
       "<pre>| 23488        | 1e+009  | 39.7624     | 16m 43s      |</pre>"
      ],
      "text/plain": [
       "| 23488        | 1e+009  | 39.7624     | 16m 43s      |"
      ]
     },
     "metadata": {},
     "output_type": "display_data"
    },
    {
     "data": {
      "text/html": [
       "<pre>| 23513        | 1e+009  | 39.8052     | 16m 44s      |</pre>"
      ],
      "text/plain": [
       "| 23513        | 1e+009  | 39.8052     | 16m 44s      |"
      ]
     },
     "metadata": {},
     "output_type": "display_data"
    },
    {
     "data": {
      "text/html": [
       "<pre>| 23536        | 1e+009  | 39.8447     | 16m 45s      |</pre>"
      ],
      "text/plain": [
       "| 23536        | 1e+009  | 39.8447     | 16m 45s      |"
      ]
     },
     "metadata": {},
     "output_type": "display_data"
    },
    {
     "data": {
      "text/html": [
       "<pre>| 23561        | 1e+009  | 39.8872     | 16m 46s      |</pre>"
      ],
      "text/plain": [
       "| 23561        | 1e+009  | 39.8872     | 16m 46s      |"
      ]
     },
     "metadata": {},
     "output_type": "display_data"
    },
    {
     "data": {
      "text/html": [
       "<pre>| 23586        | 1e+009  | 39.9299     | 16m 47s      |</pre>"
      ],
      "text/plain": [
       "| 23586        | 1e+009  | 39.9299     | 16m 47s      |"
      ]
     },
     "metadata": {},
     "output_type": "display_data"
    },
    {
     "data": {
      "text/html": [
       "<pre>| 23612        | 1e+009  | 39.9728     | 16m 48s      |</pre>"
      ],
      "text/plain": [
       "| 23612        | 1e+009  | 39.9728     | 16m 48s      |"
      ]
     },
     "metadata": {},
     "output_type": "display_data"
    },
    {
     "data": {
      "text/html": [
       "<pre>| 23637        | 1e+009  | 40.0157     | 16m 49s      |</pre>"
      ],
      "text/plain": [
       "| 23637        | 1e+009  | 40.0157     | 16m 49s      |"
      ]
     },
     "metadata": {},
     "output_type": "display_data"
    },
    {
     "data": {
      "text/html": [
       "<pre>| 23662        | 1e+009  | 40.0585     | 16m 50s      |</pre>"
      ],
      "text/plain": [
       "| 23662        | 1e+009  | 40.0585     | 16m 50s      |"
      ]
     },
     "metadata": {},
     "output_type": "display_data"
    },
    {
     "data": {
      "text/html": [
       "<pre>| 23688        | 1e+009  | 40.1017     | 16m 51s      |</pre>"
      ],
      "text/plain": [
       "| 23688        | 1e+009  | 40.1017     | 16m 51s      |"
      ]
     },
     "metadata": {},
     "output_type": "display_data"
    },
    {
     "data": {
      "text/html": [
       "<pre>| 23713        | 1e+009  | 40.1443     | 16m 52s      |</pre>"
      ],
      "text/plain": [
       "| 23713        | 1e+009  | 40.1443     | 16m 52s      |"
      ]
     },
     "metadata": {},
     "output_type": "display_data"
    },
    {
     "data": {
      "text/html": [
       "<pre>| 23738        | 1e+009  | 40.1866     | 16m 53s      |</pre>"
      ],
      "text/plain": [
       "| 23738        | 1e+009  | 40.1866     | 16m 53s      |"
      ]
     },
     "metadata": {},
     "output_type": "display_data"
    },
    {
     "data": {
      "text/html": [
       "<pre>| 23763        | 1e+009  | 40.2288     | 16m 54s      |</pre>"
      ],
      "text/plain": [
       "| 23763        | 1e+009  | 40.2288     | 16m 54s      |"
      ]
     },
     "metadata": {},
     "output_type": "display_data"
    },
    {
     "data": {
      "text/html": [
       "<pre>| 23788        | 1e+009  | 40.2717     | 16m 55s      |</pre>"
      ],
      "text/plain": [
       "| 23788        | 1e+009  | 40.2717     | 16m 55s      |"
      ]
     },
     "metadata": {},
     "output_type": "display_data"
    },
    {
     "data": {
      "text/html": [
       "<pre>| 23814        | 1e+009  | 40.3147     | 16m 56s      |</pre>"
      ],
      "text/plain": [
       "| 23814        | 1e+009  | 40.3147     | 16m 56s      |"
      ]
     },
     "metadata": {},
     "output_type": "display_data"
    },
    {
     "data": {
      "text/html": [
       "<pre>| 23839        | 1e+009  | 40.3575     | 16m 57s      |</pre>"
      ],
      "text/plain": [
       "| 23839        | 1e+009  | 40.3575     | 16m 57s      |"
      ]
     },
     "metadata": {},
     "output_type": "display_data"
    },
    {
     "data": {
      "text/html": [
       "<pre>| 23862        | 1e+009  | 40.3955     | 16m 58s      |</pre>"
      ],
      "text/plain": [
       "| 23862        | 1e+009  | 40.3955     | 16m 58s      |"
      ]
     },
     "metadata": {},
     "output_type": "display_data"
    },
    {
     "data": {
      "text/html": [
       "<pre>| 23885        | 1e+009  | 40.4344     | 16m 59s      |</pre>"
      ],
      "text/plain": [
       "| 23885        | 1e+009  | 40.4344     | 16m 59s      |"
      ]
     },
     "metadata": {},
     "output_type": "display_data"
    },
    {
     "data": {
      "text/html": [
       "<pre>| 23910        | 1e+009  | 40.4777     | 17m 0s       |</pre>"
      ],
      "text/plain": [
       "| 23910        | 1e+009  | 40.4777     | 17m 0s       |"
      ]
     },
     "metadata": {},
     "output_type": "display_data"
    },
    {
     "data": {
      "text/html": [
       "<pre>| 23936        | 1e+009  | 40.5209     | 17m 1s       |</pre>"
      ],
      "text/plain": [
       "| 23936        | 1e+009  | 40.5209     | 17m 1s       |"
      ]
     },
     "metadata": {},
     "output_type": "display_data"
    },
    {
     "data": {
      "text/html": [
       "<pre>| 23960        | 1e+009  | 40.5614     | 17m 2s       |</pre>"
      ],
      "text/plain": [
       "| 23960        | 1e+009  | 40.5614     | 17m 2s       |"
      ]
     },
     "metadata": {},
     "output_type": "display_data"
    },
    {
     "data": {
      "text/html": [
       "<pre>| 23982        | 1e+009  | 40.5991     | 17m 3s       |</pre>"
      ],
      "text/plain": [
       "| 23982        | 1e+009  | 40.5991     | 17m 3s       |"
      ]
     },
     "metadata": {},
     "output_type": "display_data"
    },
    {
     "data": {
      "text/html": [
       "<pre>| 24007        | 1e+009  | 40.6414     | 17m 4s       |</pre>"
      ],
      "text/plain": [
       "| 24007        | 1e+009  | 40.6414     | 17m 4s       |"
      ]
     },
     "metadata": {},
     "output_type": "display_data"
    },
    {
     "data": {
      "text/html": [
       "<pre>| 24032        | 1e+009  | 40.6845     | 17m 5s       |</pre>"
      ],
      "text/plain": [
       "| 24032        | 1e+009  | 40.6845     | 17m 5s       |"
      ]
     },
     "metadata": {},
     "output_type": "display_data"
    },
    {
     "data": {
      "text/html": [
       "<pre>| 24058        | 1e+009  | 40.7275     | 17m 6s       |</pre>"
      ],
      "text/plain": [
       "| 24058        | 1e+009  | 40.7275     | 17m 6s       |"
      ]
     },
     "metadata": {},
     "output_type": "display_data"
    },
    {
     "data": {
      "text/html": [
       "<pre>| 24083        | 1e+009  | 40.77       | 17m 7s       |</pre>"
      ],
      "text/plain": [
       "| 24083        | 1e+009  | 40.77       | 17m 7s       |"
      ]
     },
     "metadata": {},
     "output_type": "display_data"
    },
    {
     "data": {
      "text/html": [
       "<pre>| 24108        | 1e+009  | 40.812      | 17m 8s       |</pre>"
      ],
      "text/plain": [
       "| 24108        | 1e+009  | 40.812      | 17m 8s       |"
      ]
     },
     "metadata": {},
     "output_type": "display_data"
    },
    {
     "data": {
      "text/html": [
       "<pre>| 24131        | 1e+009  | 40.8511     | 17m 9s       |</pre>"
      ],
      "text/plain": [
       "| 24131        | 1e+009  | 40.8511     | 17m 9s       |"
      ]
     },
     "metadata": {},
     "output_type": "display_data"
    },
    {
     "data": {
      "text/html": [
       "<pre>| 24156        | 1e+009  | 40.8933     | 17m 10s      |</pre>"
      ],
      "text/plain": [
       "| 24156        | 1e+009  | 40.8933     | 17m 10s      |"
      ]
     },
     "metadata": {},
     "output_type": "display_data"
    },
    {
     "data": {
      "text/html": [
       "<pre>| 24181        | 1e+009  | 40.9363     | 17m 11s      |</pre>"
      ],
      "text/plain": [
       "| 24181        | 1e+009  | 40.9363     | 17m 11s      |"
      ]
     },
     "metadata": {},
     "output_type": "display_data"
    },
    {
     "data": {
      "text/html": [
       "<pre>| 24207        | 1e+009  | 40.9797     | 17m 12s      |</pre>"
      ],
      "text/plain": [
       "| 24207        | 1e+009  | 40.9797     | 17m 12s      |"
      ]
     },
     "metadata": {},
     "output_type": "display_data"
    },
    {
     "data": {
      "text/html": [
       "<pre>| 24232        | 1e+009  | 41.0221     | 17m 13s      |</pre>"
      ],
      "text/plain": [
       "| 24232        | 1e+009  | 41.0221     | 17m 13s      |"
      ]
     },
     "metadata": {},
     "output_type": "display_data"
    },
    {
     "data": {
      "text/html": [
       "<pre>| 24257        | 1e+009  | 41.065      | 17m 14s      |</pre>"
      ],
      "text/plain": [
       "| 24257        | 1e+009  | 41.065      | 17m 14s      |"
      ]
     },
     "metadata": {},
     "output_type": "display_data"
    },
    {
     "data": {
      "text/html": [
       "<pre>| 24283        | 1e+009  | 41.1084     | 17m 15s      |</pre>"
      ],
      "text/plain": [
       "| 24283        | 1e+009  | 41.1084     | 17m 15s      |"
      ]
     },
     "metadata": {},
     "output_type": "display_data"
    },
    {
     "data": {
      "text/html": [
       "<pre>| 24306        | 1e+009  | 41.1474     | 17m 16s      |</pre>"
      ],
      "text/plain": [
       "| 24306        | 1e+009  | 41.1474     | 17m 16s      |"
      ]
     },
     "metadata": {},
     "output_type": "display_data"
    },
    {
     "data": {
      "text/html": [
       "<pre>| 24329        | 1e+009  | 41.1863     | 17m 17s      |</pre>"
      ],
      "text/plain": [
       "| 24329        | 1e+009  | 41.1863     | 17m 17s      |"
      ]
     },
     "metadata": {},
     "output_type": "display_data"
    },
    {
     "data": {
      "text/html": [
       "<pre>| 24352        | 1e+009  | 41.2256     | 17m 18s      |</pre>"
      ],
      "text/plain": [
       "| 24352        | 1e+009  | 41.2256     | 17m 18s      |"
      ]
     },
     "metadata": {},
     "output_type": "display_data"
    },
    {
     "data": {
      "text/html": [
       "<pre>| 24377        | 1e+009  | 41.2678     | 17m 19s      |</pre>"
      ],
      "text/plain": [
       "| 24377        | 1e+009  | 41.2678     | 17m 19s      |"
      ]
     },
     "metadata": {},
     "output_type": "display_data"
    },
    {
     "data": {
      "text/html": [
       "<pre>| 24400        | 1e+009  | 41.3071     | 17m 20s      |</pre>"
      ],
      "text/plain": [
       "| 24400        | 1e+009  | 41.3071     | 17m 20s      |"
      ]
     },
     "metadata": {},
     "output_type": "display_data"
    },
    {
     "data": {
      "text/html": [
       "<pre>| 24421        | 1e+009  | 41.3428     | 17m 21s      |</pre>"
      ],
      "text/plain": [
       "| 24421        | 1e+009  | 41.3428     | 17m 21s      |"
      ]
     },
     "metadata": {},
     "output_type": "display_data"
    },
    {
     "data": {
      "text/html": [
       "<pre>| 24443        | 1e+009  | 41.3804     | 17m 22s      |</pre>"
      ],
      "text/plain": [
       "| 24443        | 1e+009  | 41.3804     | 17m 22s      |"
      ]
     },
     "metadata": {},
     "output_type": "display_data"
    },
    {
     "data": {
      "text/html": [
       "<pre>| 24468        | 1e+009  | 41.4217     | 17m 23s      |</pre>"
      ],
      "text/plain": [
       "| 24468        | 1e+009  | 41.4217     | 17m 23s      |"
      ]
     },
     "metadata": {},
     "output_type": "display_data"
    },
    {
     "data": {
      "text/html": [
       "<pre>| 24493        | 1e+009  | 41.465      | 17m 24s      |</pre>"
      ],
      "text/plain": [
       "| 24493        | 1e+009  | 41.465      | 17m 24s      |"
      ]
     },
     "metadata": {},
     "output_type": "display_data"
    },
    {
     "data": {
      "text/html": [
       "<pre>| 24518        | 1e+009  | 41.5075     | 17m 25s      |</pre>"
      ],
      "text/plain": [
       "| 24518        | 1e+009  | 41.5075     | 17m 25s      |"
      ]
     },
     "metadata": {},
     "output_type": "display_data"
    },
    {
     "data": {
      "text/html": [
       "<pre>| 24543        | 1e+009  | 41.5493     | 17m 26s      |</pre>"
      ],
      "text/plain": [
       "| 24543        | 1e+009  | 41.5493     | 17m 26s      |"
      ]
     },
     "metadata": {},
     "output_type": "display_data"
    },
    {
     "data": {
      "text/html": [
       "<pre>| 24566        | 1e+009  | 41.5882     | 17m 27s      |</pre>"
      ],
      "text/plain": [
       "| 24566        | 1e+009  | 41.5882     | 17m 27s      |"
      ]
     },
     "metadata": {},
     "output_type": "display_data"
    },
    {
     "data": {
      "text/html": [
       "<pre>| 24586        | 1e+009  | 41.6217     | 17m 28s      |</pre>"
      ],
      "text/plain": [
       "| 24586        | 1e+009  | 41.6217     | 17m 28s      |"
      ]
     },
     "metadata": {},
     "output_type": "display_data"
    },
    {
     "data": {
      "text/html": [
       "<pre>| 24603        | 1e+009  | 41.651      | 17m 29s      |</pre>"
      ],
      "text/plain": [
       "| 24603        | 1e+009  | 41.651      | 17m 29s      |"
      ]
     },
     "metadata": {},
     "output_type": "display_data"
    },
    {
     "data": {
      "text/html": [
       "<pre>| 24625        | 1e+009  | 41.6888     | 17m 30s      |</pre>"
      ],
      "text/plain": [
       "| 24625        | 1e+009  | 41.6888     | 17m 30s      |"
      ]
     },
     "metadata": {},
     "output_type": "display_data"
    },
    {
     "data": {
      "text/html": [
       "<pre>| 24643        | 1e+009  | 41.7188     | 17m 31s      |</pre>"
      ],
      "text/plain": [
       "| 24643        | 1e+009  | 41.7188     | 17m 31s      |"
      ]
     },
     "metadata": {},
     "output_type": "display_data"
    },
    {
     "data": {
      "text/html": [
       "<pre>| 24659        | 1e+009  | 41.7458     | 17m 32s      |</pre>"
      ],
      "text/plain": [
       "| 24659        | 1e+009  | 41.7458     | 17m 32s      |"
      ]
     },
     "metadata": {},
     "output_type": "display_data"
    },
    {
     "data": {
      "text/html": [
       "<pre>| 24676        | 1e+009  | 41.775      | 17m 33s      |</pre>"
      ],
      "text/plain": [
       "| 24676        | 1e+009  | 41.775      | 17m 33s      |"
      ]
     },
     "metadata": {},
     "output_type": "display_data"
    },
    {
     "data": {
      "text/html": [
       "<pre>| 24698        | 1e+009  | 41.811      | 17m 34s      |</pre>"
      ],
      "text/plain": [
       "| 24698        | 1e+009  | 41.811      | 17m 34s      |"
      ]
     },
     "metadata": {},
     "output_type": "display_data"
    },
    {
     "data": {
      "text/html": [
       "<pre>| 24721        | 1e+009  | 41.8501     | 17m 35s      |</pre>"
      ],
      "text/plain": [
       "| 24721        | 1e+009  | 41.8501     | 17m 35s      |"
      ]
     },
     "metadata": {},
     "output_type": "display_data"
    },
    {
     "data": {
      "text/html": [
       "<pre>| 24741        | 1e+009  | 41.8851     | 17m 36s      |</pre>"
      ],
      "text/plain": [
       "| 24741        | 1e+009  | 41.8851     | 17m 36s      |"
      ]
     },
     "metadata": {},
     "output_type": "display_data"
    },
    {
     "data": {
      "text/html": [
       "<pre>| 24764        | 1e+009  | 41.9225     | 17m 37s      |</pre>"
      ],
      "text/plain": [
       "| 24764        | 1e+009  | 41.9225     | 17m 37s      |"
      ]
     },
     "metadata": {},
     "output_type": "display_data"
    },
    {
     "data": {
      "text/html": [
       "<pre>| 24786        | 1e+009  | 41.9607     | 17m 38s      |</pre>"
      ],
      "text/plain": [
       "| 24786        | 1e+009  | 41.9607     | 17m 38s      |"
      ]
     },
     "metadata": {},
     "output_type": "display_data"
    },
    {
     "data": {
      "text/html": [
       "<pre>| 24803        | 1e+009  | 41.9894     | 17m 39s      |</pre>"
      ],
      "text/plain": [
       "| 24803        | 1e+009  | 41.9894     | 17m 39s      |"
      ]
     },
     "metadata": {},
     "output_type": "display_data"
    },
    {
     "data": {
      "text/html": [
       "<pre>| 24825        | 1e+009  | 42.0262     | 17m 40s      |</pre>"
      ],
      "text/plain": [
       "| 24825        | 1e+009  | 42.0262     | 17m 40s      |"
      ]
     },
     "metadata": {},
     "output_type": "display_data"
    },
    {
     "data": {
      "text/html": [
       "<pre>| 24846        | 1e+009  | 42.0624     | 17m 41s      |</pre>"
      ],
      "text/plain": [
       "| 24846        | 1e+009  | 42.0624     | 17m 41s      |"
      ]
     },
     "metadata": {},
     "output_type": "display_data"
    },
    {
     "data": {
      "text/html": [
       "<pre>| 24870        | 1e+009  | 42.1025     | 17m 42s      |</pre>"
      ],
      "text/plain": [
       "| 24870        | 1e+009  | 42.1025     | 17m 42s      |"
      ]
     },
     "metadata": {},
     "output_type": "display_data"
    },
    {
     "data": {
      "text/html": [
       "<pre>| 24892        | 1e+009  | 42.1395     | 17m 43s      |</pre>"
      ],
      "text/plain": [
       "| 24892        | 1e+009  | 42.1395     | 17m 43s      |"
      ]
     },
     "metadata": {},
     "output_type": "display_data"
    },
    {
     "data": {
      "text/html": [
       "<pre>| 24912        | 1e+009  | 42.1742     | 17m 44s      |</pre>"
      ],
      "text/plain": [
       "| 24912        | 1e+009  | 42.1742     | 17m 44s      |"
      ]
     },
     "metadata": {},
     "output_type": "display_data"
    },
    {
     "data": {
      "text/html": [
       "<pre>| 24937        | 1e+009  | 42.216      | 17m 45s      |</pre>"
      ],
      "text/plain": [
       "| 24937        | 1e+009  | 42.216      | 17m 45s      |"
      ]
     },
     "metadata": {},
     "output_type": "display_data"
    },
    {
     "data": {
      "text/html": [
       "<pre>| 24962        | 1e+009  | 42.2583     | 17m 46s      |</pre>"
      ],
      "text/plain": [
       "| 24962        | 1e+009  | 42.2583     | 17m 46s      |"
      ]
     },
     "metadata": {},
     "output_type": "display_data"
    },
    {
     "data": {
      "text/html": [
       "<pre>| 24986        | 1e+009  | 42.2993     | 17m 47s      |</pre>"
      ],
      "text/plain": [
       "| 24986        | 1e+009  | 42.2993     | 17m 47s      |"
      ]
     },
     "metadata": {},
     "output_type": "display_data"
    },
    {
     "data": {
      "text/html": [
       "<pre>| 25011        | 1e+009  | 42.3415     | 17m 48s      |</pre>"
      ],
      "text/plain": [
       "| 25011        | 1e+009  | 42.3415     | 17m 48s      |"
      ]
     },
     "metadata": {},
     "output_type": "display_data"
    },
    {
     "data": {
      "text/html": [
       "<pre>| 25036        | 1e+009  | 42.3839     | 17m 49s      |</pre>"
      ],
      "text/plain": [
       "| 25036        | 1e+009  | 42.3839     | 17m 49s      |"
      ]
     },
     "metadata": {},
     "output_type": "display_data"
    },
    {
     "data": {
      "text/html": [
       "<pre>| 25061        | 1e+009  | 42.4267     | 17m 50s      |</pre>"
      ],
      "text/plain": [
       "| 25061        | 1e+009  | 42.4267     | 17m 50s      |"
      ]
     },
     "metadata": {},
     "output_type": "display_data"
    },
    {
     "data": {
      "text/html": [
       "<pre>| 25086        | 1e+009  | 42.4676     | 17m 51s      |</pre>"
      ],
      "text/plain": [
       "| 25086        | 1e+009  | 42.4676     | 17m 51s      |"
      ]
     },
     "metadata": {},
     "output_type": "display_data"
    },
    {
     "data": {
      "text/html": [
       "<pre>| 25111        | 1e+009  | 42.5101     | 17m 52s      |</pre>"
      ],
      "text/plain": [
       "| 25111        | 1e+009  | 42.5101     | 17m 52s      |"
      ]
     },
     "metadata": {},
     "output_type": "display_data"
    },
    {
     "data": {
      "text/html": [
       "<pre>| 25135        | 1e+009  | 42.551      | 17m 53s      |</pre>"
      ],
      "text/plain": [
       "| 25135        | 1e+009  | 42.551      | 17m 53s      |"
      ]
     },
     "metadata": {},
     "output_type": "display_data"
    },
    {
     "data": {
      "text/html": [
       "<pre>| 25160        | 1e+009  | 42.5933     | 17m 54s      |</pre>"
      ],
      "text/plain": [
       "| 25160        | 1e+009  | 42.5933     | 17m 54s      |"
      ]
     },
     "metadata": {},
     "output_type": "display_data"
    },
    {
     "data": {
      "text/html": [
       "<pre>| 25182        | 1e+009  | 42.6314     | 17m 55s      |</pre>"
      ],
      "text/plain": [
       "| 25182        | 1e+009  | 42.6314     | 17m 55s      |"
      ]
     },
     "metadata": {},
     "output_type": "display_data"
    },
    {
     "data": {
      "text/html": [
       "<pre>| 25203        | 1e+009  | 42.6664     | 17m 56s      |</pre>"
      ],
      "text/plain": [
       "| 25203        | 1e+009  | 42.6664     | 17m 56s      |"
      ]
     },
     "metadata": {},
     "output_type": "display_data"
    },
    {
     "data": {
      "text/html": [
       "<pre>| 25227        | 1e+009  | 42.7067     | 17m 57s      |</pre>"
      ],
      "text/plain": [
       "| 25227        | 1e+009  | 42.7067     | 17m 57s      |"
      ]
     },
     "metadata": {},
     "output_type": "display_data"
    },
    {
     "data": {
      "text/html": [
       "<pre>| 25250        | 1e+009  | 42.7462     | 17m 58s      |</pre>"
      ],
      "text/plain": [
       "| 25250        | 1e+009  | 42.7462     | 17m 58s      |"
      ]
     },
     "metadata": {},
     "output_type": "display_data"
    },
    {
     "data": {
      "text/html": [
       "<pre>| 25269        | 1e+009  | 42.7778     | 17m 59s      |</pre>"
      ],
      "text/plain": [
       "| 25269        | 1e+009  | 42.7778     | 17m 59s      |"
      ]
     },
     "metadata": {},
     "output_type": "display_data"
    },
    {
     "data": {
      "text/html": [
       "<pre>| 25286        | 1e+009  | 42.8072     | 18m 0s       |</pre>"
      ],
      "text/plain": [
       "| 25286        | 1e+009  | 42.8072     | 18m 0s       |"
      ]
     },
     "metadata": {},
     "output_type": "display_data"
    },
    {
     "data": {
      "text/html": [
       "<pre>| 25305        | 1e+009  | 42.8395     | 18m 1s       |</pre>"
      ],
      "text/plain": [
       "| 25305        | 1e+009  | 42.8395     | 18m 1s       |"
      ]
     },
     "metadata": {},
     "output_type": "display_data"
    },
    {
     "data": {
      "text/html": [
       "<pre>| 25330        | 1e+009  | 42.8808     | 18m 2s       |</pre>"
      ],
      "text/plain": [
       "| 25330        | 1e+009  | 42.8808     | 18m 2s       |"
      ]
     },
     "metadata": {},
     "output_type": "display_data"
    },
    {
     "data": {
      "text/html": [
       "<pre>| 25349        | 1e+009  | 42.914      | 18m 3s       |</pre>"
      ],
      "text/plain": [
       "| 25349        | 1e+009  | 42.914      | 18m 3s       |"
      ]
     },
     "metadata": {},
     "output_type": "display_data"
    },
    {
     "data": {
      "text/html": [
       "<pre>| 25373        | 1e+009  | 42.9535     | 18m 4s       |</pre>"
      ],
      "text/plain": [
       "| 25373        | 1e+009  | 42.9535     | 18m 4s       |"
      ]
     },
     "metadata": {},
     "output_type": "display_data"
    },
    {
     "data": {
      "text/html": [
       "<pre>| 25397        | 2e+009  | 42.9953     | 18m 5s       |</pre>"
      ],
      "text/plain": [
       "| 25397        | 2e+009  | 42.9953     | 18m 5s       |"
      ]
     },
     "metadata": {},
     "output_type": "display_data"
    },
    {
     "data": {
      "text/html": [
       "<pre>| 25422        | 2e+009  | 43.037      | 18m 6s       |</pre>"
      ],
      "text/plain": [
       "| 25422        | 2e+009  | 43.037      | 18m 6s       |"
      ]
     },
     "metadata": {},
     "output_type": "display_data"
    },
    {
     "data": {
      "text/html": [
       "<pre>| 25447        | 2e+009  | 43.0792     | 18m 7s       |</pre>"
      ],
      "text/plain": [
       "| 25447        | 2e+009  | 43.0792     | 18m 7s       |"
      ]
     },
     "metadata": {},
     "output_type": "display_data"
    },
    {
     "data": {
      "text/html": [
       "<pre>| 25472        | 2e+009  | 43.1217     | 18m 8s       |</pre>"
      ],
      "text/plain": [
       "| 25472        | 2e+009  | 43.1217     | 18m 8s       |"
      ]
     },
     "metadata": {},
     "output_type": "display_data"
    },
    {
     "data": {
      "text/html": [
       "<pre>| 25497        | 2e+009  | 43.1637     | 18m 9s       |</pre>"
      ],
      "text/plain": [
       "| 25497        | 2e+009  | 43.1637     | 18m 9s       |"
      ]
     },
     "metadata": {},
     "output_type": "display_data"
    },
    {
     "data": {
      "text/html": [
       "<pre>| 25522        | 2e+009  | 43.2059     | 18m 10s      |</pre>"
      ],
      "text/plain": [
       "| 25522        | 2e+009  | 43.2059     | 18m 10s      |"
      ]
     },
     "metadata": {},
     "output_type": "display_data"
    },
    {
     "data": {
      "text/html": [
       "<pre>| 25544        | 2e+009  | 43.2441     | 18m 11s      |</pre>"
      ],
      "text/plain": [
       "| 25544        | 2e+009  | 43.2441     | 18m 11s      |"
      ]
     },
     "metadata": {},
     "output_type": "display_data"
    },
    {
     "data": {
      "text/html": [
       "<pre>| 25569        | 2e+009  | 43.2854     | 18m 12s      |</pre>"
      ],
      "text/plain": [
       "| 25569        | 2e+009  | 43.2854     | 18m 12s      |"
      ]
     },
     "metadata": {},
     "output_type": "display_data"
    },
    {
     "data": {
      "text/html": [
       "<pre>| 25593        | 2e+009  | 43.3271     | 18m 13s      |</pre>"
      ],
      "text/plain": [
       "| 25593        | 2e+009  | 43.3271     | 18m 13s      |"
      ]
     },
     "metadata": {},
     "output_type": "display_data"
    },
    {
     "data": {
      "text/html": [
       "<pre>| 25612        | 2e+009  | 43.3587     | 18m 14s      |</pre>"
      ],
      "text/plain": [
       "| 25612        | 2e+009  | 43.3587     | 18m 14s      |"
      ]
     },
     "metadata": {},
     "output_type": "display_data"
    },
    {
     "data": {
      "text/html": [
       "<pre>| 25634        | 2e+009  | 43.3957     | 18m 15s      |</pre>"
      ],
      "text/plain": [
       "| 25634        | 2e+009  | 43.3957     | 18m 15s      |"
      ]
     },
     "metadata": {},
     "output_type": "display_data"
    },
    {
     "data": {
      "text/html": [
       "<pre>| 25656        | 2e+009  | 43.433      | 18m 16s      |</pre>"
      ],
      "text/plain": [
       "| 25656        | 2e+009  | 43.433      | 18m 16s      |"
      ]
     },
     "metadata": {},
     "output_type": "display_data"
    },
    {
     "data": {
      "text/html": [
       "<pre>| 25681        | 2e+009  | 43.475      | 18m 17s      |</pre>"
      ],
      "text/plain": [
       "| 25681        | 2e+009  | 43.475      | 18m 17s      |"
      ]
     },
     "metadata": {},
     "output_type": "display_data"
    },
    {
     "data": {
      "text/html": [
       "<pre>| 25706        | 2e+009  | 43.5172     | 18m 18s      |</pre>"
      ],
      "text/plain": [
       "| 25706        | 2e+009  | 43.5172     | 18m 18s      |"
      ]
     },
     "metadata": {},
     "output_type": "display_data"
    },
    {
     "data": {
      "text/html": [
       "<pre>| 25731        | 2e+009  | 43.5597     | 18m 19s      |</pre>"
      ],
      "text/plain": [
       "| 25731        | 2e+009  | 43.5597     | 18m 19s      |"
      ]
     },
     "metadata": {},
     "output_type": "display_data"
    },
    {
     "data": {
      "text/html": [
       "<pre>| 25754        | 2e+009  | 43.5998     | 18m 20s      |</pre>"
      ],
      "text/plain": [
       "| 25754        | 2e+009  | 43.5998     | 18m 20s      |"
      ]
     },
     "metadata": {},
     "output_type": "display_data"
    },
    {
     "data": {
      "text/html": [
       "<pre>| 25777        | 2e+009  | 43.6388     | 18m 21s      |</pre>"
      ],
      "text/plain": [
       "| 25777        | 2e+009  | 43.6388     | 18m 21s      |"
      ]
     },
     "metadata": {},
     "output_type": "display_data"
    },
    {
     "data": {
      "text/html": [
       "<pre>| 25797        | 2e+009  | 43.6713     | 18m 22s      |</pre>"
      ],
      "text/plain": [
       "| 25797        | 2e+009  | 43.6713     | 18m 22s      |"
      ]
     },
     "metadata": {},
     "output_type": "display_data"
    },
    {
     "data": {
      "text/html": [
       "<pre>| 25815        | 2e+009  | 43.7032     | 18m 23s      |</pre>"
      ],
      "text/plain": [
       "| 25815        | 2e+009  | 43.7032     | 18m 23s      |"
      ]
     },
     "metadata": {},
     "output_type": "display_data"
    },
    {
     "data": {
      "text/html": [
       "<pre>| 25834        | 2e+009  | 43.7355     | 18m 24s      |</pre>"
      ],
      "text/plain": [
       "| 25834        | 2e+009  | 43.7355     | 18m 24s      |"
      ]
     },
     "metadata": {},
     "output_type": "display_data"
    },
    {
     "data": {
      "text/html": [
       "<pre>| 25855        | 2e+009  | 43.7699     | 18m 25s      |</pre>"
      ],
      "text/plain": [
       "| 25855        | 2e+009  | 43.7699     | 18m 25s      |"
      ]
     },
     "metadata": {},
     "output_type": "display_data"
    },
    {
     "data": {
      "text/html": [
       "<pre>| 25882        | 2e+009  | 43.8161     | 18m 26s      |</pre>"
      ],
      "text/plain": [
       "| 25882        | 2e+009  | 43.8161     | 18m 26s      |"
      ]
     },
     "metadata": {},
     "output_type": "display_data"
    },
    {
     "data": {
      "text/html": [
       "<pre>| 25906        | 2e+009  | 43.8569     | 18m 27s      |</pre>"
      ],
      "text/plain": [
       "| 25906        | 2e+009  | 43.8569     | 18m 27s      |"
      ]
     },
     "metadata": {},
     "output_type": "display_data"
    },
    {
     "data": {
      "text/html": [
       "<pre>| 25931        | 2e+009  | 43.8986     | 18m 28s      |</pre>"
      ],
      "text/plain": [
       "| 25931        | 2e+009  | 43.8986     | 18m 28s      |"
      ]
     },
     "metadata": {},
     "output_type": "display_data"
    },
    {
     "data": {
      "text/html": [
       "<pre>| 25956        | 2e+009  | 43.9407     | 18m 29s      |</pre>"
      ],
      "text/plain": [
       "| 25956        | 2e+009  | 43.9407     | 18m 29s      |"
      ]
     },
     "metadata": {},
     "output_type": "display_data"
    },
    {
     "data": {
      "text/html": [
       "<pre>| 25982        | 2e+009  | 43.9854     | 18m 30s      |</pre>"
      ],
      "text/plain": [
       "| 25982        | 2e+009  | 43.9854     | 18m 30s      |"
      ]
     },
     "metadata": {},
     "output_type": "display_data"
    },
    {
     "data": {
      "text/html": [
       "<pre>| 26008        | 2e+009  | 44.0299     | 18m 31s      |</pre>"
      ],
      "text/plain": [
       "| 26008        | 2e+009  | 44.0299     | 18m 31s      |"
      ]
     },
     "metadata": {},
     "output_type": "display_data"
    },
    {
     "data": {
      "text/html": [
       "<pre>| 26035        | 2e+009  | 44.0741     | 18m 32s      |</pre>"
      ],
      "text/plain": [
       "| 26035        | 2e+009  | 44.0741     | 18m 32s      |"
      ]
     },
     "metadata": {},
     "output_type": "display_data"
    },
    {
     "data": {
      "text/html": [
       "<pre>| 26060        | 2e+009  | 44.1176     | 18m 33s      |</pre>"
      ],
      "text/plain": [
       "| 26060        | 2e+009  | 44.1176     | 18m 33s      |"
      ]
     },
     "metadata": {},
     "output_type": "display_data"
    },
    {
     "data": {
      "text/html": [
       "<pre>| 26085        | 2e+009  | 44.1588     | 18m 34s      |</pre>"
      ],
      "text/plain": [
       "| 26085        | 2e+009  | 44.1588     | 18m 34s      |"
      ]
     },
     "metadata": {},
     "output_type": "display_data"
    },
    {
     "data": {
      "text/html": [
       "<pre>| 26107        | 2e+009  | 44.1966     | 18m 35s      |</pre>"
      ],
      "text/plain": [
       "| 26107        | 2e+009  | 44.1966     | 18m 35s      |"
      ]
     },
     "metadata": {},
     "output_type": "display_data"
    },
    {
     "data": {
      "text/html": [
       "<pre>| 26130        | 2e+009  | 44.2352     | 18m 36s      |</pre>"
      ],
      "text/plain": [
       "| 26130        | 2e+009  | 44.2352     | 18m 36s      |"
      ]
     },
     "metadata": {},
     "output_type": "display_data"
    },
    {
     "data": {
      "text/html": [
       "<pre>| 26155        | 2e+009  | 44.2783     | 18m 37s      |</pre>"
      ],
      "text/plain": [
       "| 26155        | 2e+009  | 44.2783     | 18m 37s      |"
      ]
     },
     "metadata": {},
     "output_type": "display_data"
    },
    {
     "data": {
      "text/html": [
       "<pre>| 26181        | 2e+009  | 44.3226     | 18m 38s      |</pre>"
      ],
      "text/plain": [
       "| 26181        | 2e+009  | 44.3226     | 18m 38s      |"
      ]
     },
     "metadata": {},
     "output_type": "display_data"
    },
    {
     "data": {
      "text/html": [
       "<pre>| 26207        | 2e+009  | 44.3662     | 18m 39s      |</pre>"
      ],
      "text/plain": [
       "| 26207        | 2e+009  | 44.3662     | 18m 39s      |"
      ]
     },
     "metadata": {},
     "output_type": "display_data"
    },
    {
     "data": {
      "text/html": [
       "<pre>| 26233        | 2e+009  | 44.4094     | 18m 40s      |</pre>"
      ],
      "text/plain": [
       "| 26233        | 2e+009  | 44.4094     | 18m 40s      |"
      ]
     },
     "metadata": {},
     "output_type": "display_data"
    },
    {
     "data": {
      "text/html": [
       "<pre>| 26258        | 2e+009  | 44.4521     | 18m 41s      |</pre>"
      ],
      "text/plain": [
       "| 26258        | 2e+009  | 44.4521     | 18m 41s      |"
      ]
     },
     "metadata": {},
     "output_type": "display_data"
    },
    {
     "data": {
      "text/html": [
       "<pre>| 26284        | 2e+009  | 44.4956     | 18m 42s      |</pre>"
      ],
      "text/plain": [
       "| 26284        | 2e+009  | 44.4956     | 18m 42s      |"
      ]
     },
     "metadata": {},
     "output_type": "display_data"
    },
    {
     "data": {
      "text/html": [
       "<pre>| 26309        | 2e+009  | 44.5382     | 18m 43s      |</pre>"
      ],
      "text/plain": [
       "| 26309        | 2e+009  | 44.5382     | 18m 43s      |"
      ]
     },
     "metadata": {},
     "output_type": "display_data"
    },
    {
     "data": {
      "text/html": [
       "<pre>| 26333        | 2e+009  | 44.5798     | 18m 44s      |</pre>"
      ],
      "text/plain": [
       "| 26333        | 2e+009  | 44.5798     | 18m 44s      |"
      ]
     },
     "metadata": {},
     "output_type": "display_data"
    },
    {
     "data": {
      "text/html": [
       "<pre>| 26358        | 2e+009  | 44.6217     | 18m 45s      |</pre>"
      ],
      "text/plain": [
       "| 26358        | 2e+009  | 44.6217     | 18m 45s      |"
      ]
     },
     "metadata": {},
     "output_type": "display_data"
    },
    {
     "data": {
      "text/html": [
       "<pre>| 26384        | 2e+009  | 44.6655     | 18m 46s      |</pre>"
      ],
      "text/plain": [
       "| 26384        | 2e+009  | 44.6655     | 18m 46s      |"
      ]
     },
     "metadata": {},
     "output_type": "display_data"
    },
    {
     "data": {
      "text/html": [
       "<pre>| 26410        | 2e+009  | 44.709      | 18m 47s      |</pre>"
      ],
      "text/plain": [
       "| 26410        | 2e+009  | 44.709      | 18m 47s      |"
      ]
     },
     "metadata": {},
     "output_type": "display_data"
    },
    {
     "data": {
      "text/html": [
       "<pre>| 26435        | 2e+009  | 44.7523     | 18m 48s      |</pre>"
      ],
      "text/plain": [
       "| 26435        | 2e+009  | 44.7523     | 18m 48s      |"
      ]
     },
     "metadata": {},
     "output_type": "display_data"
    },
    {
     "data": {
      "text/html": [
       "<pre>| 26461        | 2e+009  | 44.7955     | 18m 49s      |</pre>"
      ],
      "text/plain": [
       "| 26461        | 2e+009  | 44.7955     | 18m 49s      |"
      ]
     },
     "metadata": {},
     "output_type": "display_data"
    },
    {
     "data": {
      "text/html": [
       "<pre>| 26487        | 2e+009  | 44.8393     | 18m 50s      |</pre>"
      ],
      "text/plain": [
       "| 26487        | 2e+009  | 44.8393     | 18m 50s      |"
      ]
     },
     "metadata": {},
     "output_type": "display_data"
    },
    {
     "data": {
      "text/html": [
       "<pre>| 26511        | 2e+009  | 44.8813     | 18m 51s      |</pre>"
      ],
      "text/plain": [
       "| 26511        | 2e+009  | 44.8813     | 18m 51s      |"
      ]
     },
     "metadata": {},
     "output_type": "display_data"
    },
    {
     "data": {
      "text/html": [
       "<pre>| 26538        | 2e+009  | 44.9256     | 18m 52s      |</pre>"
      ],
      "text/plain": [
       "| 26538        | 2e+009  | 44.9256     | 18m 52s      |"
      ]
     },
     "metadata": {},
     "output_type": "display_data"
    },
    {
     "data": {
      "text/html": [
       "<pre>| 26563        | 2e+009  | 44.9685     | 18m 53s      |</pre>"
      ],
      "text/plain": [
       "| 26563        | 2e+009  | 44.9685     | 18m 53s      |"
      ]
     },
     "metadata": {},
     "output_type": "display_data"
    },
    {
     "data": {
      "text/html": [
       "<pre>| 26588        | 2e+009  | 45.0119     | 18m 54s      |</pre>"
      ],
      "text/plain": [
       "| 26588        | 2e+009  | 45.0119     | 18m 54s      |"
      ]
     },
     "metadata": {},
     "output_type": "display_data"
    },
    {
     "data": {
      "text/html": [
       "<pre>| 26614        | 2e+009  | 45.055      | 18m 55s      |</pre>"
      ],
      "text/plain": [
       "| 26614        | 2e+009  | 45.055      | 18m 55s      |"
      ]
     },
     "metadata": {},
     "output_type": "display_data"
    },
    {
     "data": {
      "text/html": [
       "<pre>| 26640        | 2e+009  | 45.0989     | 18m 56s      |</pre>"
      ],
      "text/plain": [
       "| 26640        | 2e+009  | 45.0989     | 18m 56s      |"
      ]
     },
     "metadata": {},
     "output_type": "display_data"
    },
    {
     "data": {
      "text/html": [
       "<pre>| 26665        | 2e+009  | 45.142      | 18m 57s      |</pre>"
      ],
      "text/plain": [
       "| 26665        | 2e+009  | 45.142      | 18m 57s      |"
      ]
     },
     "metadata": {},
     "output_type": "display_data"
    },
    {
     "data": {
      "text/html": [
       "<pre>| 26691        | 2e+009  | 45.1853     | 18m 58s      |</pre>"
      ],
      "text/plain": [
       "| 26691        | 2e+009  | 45.1853     | 18m 58s      |"
      ]
     },
     "metadata": {},
     "output_type": "display_data"
    },
    {
     "data": {
      "text/html": [
       "<pre>| 26717        | 2e+009  | 45.2286     | 18m 59s      |</pre>"
      ],
      "text/plain": [
       "| 26717        | 2e+009  | 45.2286     | 18m 59s      |"
      ]
     },
     "metadata": {},
     "output_type": "display_data"
    },
    {
     "data": {
      "text/html": [
       "<pre>| 26741        | 2e+009  | 45.2698     | 19m 0s       |</pre>"
      ],
      "text/plain": [
       "| 26741        | 2e+009  | 45.2698     | 19m 0s       |"
      ]
     },
     "metadata": {},
     "output_type": "display_data"
    },
    {
     "data": {
      "text/html": [
       "<pre>| 26765        | 2e+009  | 45.3114     | 19m 1s       |</pre>"
      ],
      "text/plain": [
       "| 26765        | 2e+009  | 45.3114     | 19m 1s       |"
      ]
     },
     "metadata": {},
     "output_type": "display_data"
    },
    {
     "data": {
      "text/html": [
       "<pre>| 26790        | 2e+009  | 45.3538     | 19m 2s       |</pre>"
      ],
      "text/plain": [
       "| 26790        | 2e+009  | 45.3538     | 19m 2s       |"
      ]
     },
     "metadata": {},
     "output_type": "display_data"
    },
    {
     "data": {
      "text/html": [
       "<pre>| 26814        | 2e+009  | 45.3935     | 19m 3s       |</pre>"
      ],
      "text/plain": [
       "| 26814        | 2e+009  | 45.3935     | 19m 3s       |"
      ]
     },
     "metadata": {},
     "output_type": "display_data"
    },
    {
     "data": {
      "text/html": [
       "<pre>| 26839        | 2e+009  | 45.4353     | 19m 4s       |</pre>"
      ],
      "text/plain": [
       "| 26839        | 2e+009  | 45.4353     | 19m 4s       |"
      ]
     },
     "metadata": {},
     "output_type": "display_data"
    },
    {
     "data": {
      "text/html": [
       "<pre>| 26863        | 2e+009  | 45.4771     | 19m 5s       |</pre>"
      ],
      "text/plain": [
       "| 26863        | 2e+009  | 45.4771     | 19m 5s       |"
      ]
     },
     "metadata": {},
     "output_type": "display_data"
    },
    {
     "data": {
      "text/html": [
       "<pre>| 26889        | 2e+009  | 45.5205     | 19m 6s       |</pre>"
      ],
      "text/plain": [
       "| 26889        | 2e+009  | 45.5205     | 19m 6s       |"
      ]
     },
     "metadata": {},
     "output_type": "display_data"
    },
    {
     "data": {
      "text/html": [
       "<pre>| 26913        | 2e+009  | 45.5618     | 19m 7s       |</pre>"
      ],
      "text/plain": [
       "| 26913        | 2e+009  | 45.5618     | 19m 7s       |"
      ]
     },
     "metadata": {},
     "output_type": "display_data"
    },
    {
     "data": {
      "text/html": [
       "<pre>| 26937        | 2e+009  | 45.602      | 19m 8s       |</pre>"
      ],
      "text/plain": [
       "| 26937        | 2e+009  | 45.602      | 19m 8s       |"
      ]
     },
     "metadata": {},
     "output_type": "display_data"
    },
    {
     "data": {
      "text/html": [
       "<pre>| 26961        | 2e+009  | 45.6428     | 19m 9s       |</pre>"
      ],
      "text/plain": [
       "| 26961        | 2e+009  | 45.6428     | 19m 9s       |"
      ]
     },
     "metadata": {},
     "output_type": "display_data"
    },
    {
     "data": {
      "text/html": [
       "<pre>| 26985        | 2e+009  | 45.6836     | 19m 10s      |</pre>"
      ],
      "text/plain": [
       "| 26985        | 2e+009  | 45.6836     | 19m 10s      |"
      ]
     },
     "metadata": {},
     "output_type": "display_data"
    },
    {
     "data": {
      "text/html": [
       "<pre>| 27009        | 2e+009  | 45.7235     | 19m 11s      |</pre>"
      ],
      "text/plain": [
       "| 27009        | 2e+009  | 45.7235     | 19m 11s      |"
      ]
     },
     "metadata": {},
     "output_type": "display_data"
    },
    {
     "data": {
      "text/html": [
       "<pre>| 27033        | 2e+009  | 45.7646     | 19m 12s      |</pre>"
      ],
      "text/plain": [
       "| 27033        | 2e+009  | 45.7646     | 19m 12s      |"
      ]
     },
     "metadata": {},
     "output_type": "display_data"
    },
    {
     "data": {
      "text/html": [
       "<pre>| 27057        | 2e+009  | 45.8043     | 19m 13s      |</pre>"
      ],
      "text/plain": [
       "| 27057        | 2e+009  | 45.8043     | 19m 13s      |"
      ]
     },
     "metadata": {},
     "output_type": "display_data"
    },
    {
     "data": {
      "text/html": [
       "<pre>| 27081        | 2e+009  | 45.8455     | 19m 14s      |</pre>"
      ],
      "text/plain": [
       "| 27081        | 2e+009  | 45.8455     | 19m 14s      |"
      ]
     },
     "metadata": {},
     "output_type": "display_data"
    },
    {
     "data": {
      "text/html": [
       "<pre>| 27104        | 2e+009  | 45.8848     | 19m 15s      |</pre>"
      ],
      "text/plain": [
       "| 27104        | 2e+009  | 45.8848     | 19m 15s      |"
      ]
     },
     "metadata": {},
     "output_type": "display_data"
    },
    {
     "data": {
      "text/html": [
       "<pre>| 27128        | 2e+009  | 45.9248     | 19m 16s      |</pre>"
      ],
      "text/plain": [
       "| 27128        | 2e+009  | 45.9248     | 19m 16s      |"
      ]
     },
     "metadata": {},
     "output_type": "display_data"
    },
    {
     "data": {
      "text/html": [
       "<pre>| 27152        | 2e+009  | 45.966      | 19m 17s      |</pre>"
      ],
      "text/plain": [
       "| 27152        | 2e+009  | 45.966      | 19m 17s      |"
      ]
     },
     "metadata": {},
     "output_type": "display_data"
    },
    {
     "data": {
      "text/html": [
       "<pre>| 27176        | 2e+009  | 46.0062     | 19m 18s      |</pre>"
      ],
      "text/plain": [
       "| 27176        | 2e+009  | 46.0062     | 19m 18s      |"
      ]
     },
     "metadata": {},
     "output_type": "display_data"
    },
    {
     "data": {
      "text/html": [
       "<pre>| 27200        | 2e+009  | 46.0477     | 19m 19s      |</pre>"
      ],
      "text/plain": [
       "| 27200        | 2e+009  | 46.0477     | 19m 19s      |"
      ]
     },
     "metadata": {},
     "output_type": "display_data"
    },
    {
     "data": {
      "text/html": [
       "<pre>| 27224        | 2e+009  | 46.0877     | 19m 20s      |</pre>"
      ],
      "text/plain": [
       "| 27224        | 2e+009  | 46.0877     | 19m 20s      |"
      ]
     },
     "metadata": {},
     "output_type": "display_data"
    },
    {
     "data": {
      "text/html": [
       "<pre>| 27248        | 2e+009  | 46.1279     | 19m 21s      |</pre>"
      ],
      "text/plain": [
       "| 27248        | 2e+009  | 46.1279     | 19m 21s      |"
      ]
     },
     "metadata": {},
     "output_type": "display_data"
    },
    {
     "data": {
      "text/html": [
       "<pre>| 27271        | 2e+009  | 46.1678     | 19m 22s      |</pre>"
      ],
      "text/plain": [
       "| 27271        | 2e+009  | 46.1678     | 19m 22s      |"
      ]
     },
     "metadata": {},
     "output_type": "display_data"
    },
    {
     "data": {
      "text/html": [
       "<pre>| 27295        | 2e+009  | 46.2081     | 19m 23s      |</pre>"
      ],
      "text/plain": [
       "| 27295        | 2e+009  | 46.2081     | 19m 23s      |"
      ]
     },
     "metadata": {},
     "output_type": "display_data"
    },
    {
     "data": {
      "text/html": [
       "<pre>| 27320        | 2e+009  | 46.2497     | 19m 24s      |</pre>"
      ],
      "text/plain": [
       "| 27320        | 2e+009  | 46.2497     | 19m 24s      |"
      ]
     },
     "metadata": {},
     "output_type": "display_data"
    },
    {
     "data": {
      "text/html": [
       "<pre>| 27344        | 2e+009  | 46.2914     | 19m 25s      |</pre>"
      ],
      "text/plain": [
       "| 27344        | 2e+009  | 46.2914     | 19m 25s      |"
      ]
     },
     "metadata": {},
     "output_type": "display_data"
    },
    {
     "data": {
      "text/html": [
       "<pre>| 27369        | 2e+009  | 46.3331     | 19m 26s      |</pre>"
      ],
      "text/plain": [
       "| 27369        | 2e+009  | 46.3331     | 19m 26s      |"
      ]
     },
     "metadata": {},
     "output_type": "display_data"
    },
    {
     "data": {
      "text/html": [
       "<pre>| 27393        | 2e+009  | 46.3736     | 19m 27s      |</pre>"
      ],
      "text/plain": [
       "| 27393        | 2e+009  | 46.3736     | 19m 27s      |"
      ]
     },
     "metadata": {},
     "output_type": "display_data"
    },
    {
     "data": {
      "text/html": [
       "<pre>| 27416        | 2e+009  | 46.4134     | 19m 28s      |</pre>"
      ],
      "text/plain": [
       "| 27416        | 2e+009  | 46.4134     | 19m 28s      |"
      ]
     },
     "metadata": {},
     "output_type": "display_data"
    },
    {
     "data": {
      "text/html": [
       "<pre>| 27440        | 2e+009  | 46.4538     | 19m 29s      |</pre>"
      ],
      "text/plain": [
       "| 27440        | 2e+009  | 46.4538     | 19m 29s      |"
      ]
     },
     "metadata": {},
     "output_type": "display_data"
    },
    {
     "data": {
      "text/html": [
       "<pre>| 27465        | 2e+009  | 46.4959     | 19m 30s      |</pre>"
      ],
      "text/plain": [
       "| 27465        | 2e+009  | 46.4959     | 19m 30s      |"
      ]
     },
     "metadata": {},
     "output_type": "display_data"
    },
    {
     "data": {
      "text/html": [
       "<pre>| 27489        | 2e+009  | 46.5371     | 19m 31s      |</pre>"
      ],
      "text/plain": [
       "| 27489        | 2e+009  | 46.5371     | 19m 31s      |"
      ]
     },
     "metadata": {},
     "output_type": "display_data"
    },
    {
     "data": {
      "text/html": [
       "<pre>| 27513        | 2e+009  | 46.5766     | 19m 32s      |</pre>"
      ],
      "text/plain": [
       "| 27513        | 2e+009  | 46.5766     | 19m 32s      |"
      ]
     },
     "metadata": {},
     "output_type": "display_data"
    },
    {
     "data": {
      "text/html": [
       "<pre>| 27536        | 2e+009  | 46.6161     | 19m 33s      |</pre>"
      ],
      "text/plain": [
       "| 27536        | 2e+009  | 46.6161     | 19m 33s      |"
      ]
     },
     "metadata": {},
     "output_type": "display_data"
    },
    {
     "data": {
      "text/html": [
       "<pre>| 27560        | 2e+009  | 46.6563     | 19m 34s      |</pre>"
      ],
      "text/plain": [
       "| 27560        | 2e+009  | 46.6563     | 19m 34s      |"
      ]
     },
     "metadata": {},
     "output_type": "display_data"
    },
    {
     "data": {
      "text/html": [
       "<pre>| 27584        | 2e+009  | 46.6965     | 19m 35s      |</pre>"
      ],
      "text/plain": [
       "| 27584        | 2e+009  | 46.6965     | 19m 35s      |"
      ]
     },
     "metadata": {},
     "output_type": "display_data"
    },
    {
     "data": {
      "text/html": [
       "<pre>| 27608        | 2e+009  | 46.7378     | 19m 36s      |</pre>"
      ],
      "text/plain": [
       "| 27608        | 2e+009  | 46.7378     | 19m 36s      |"
      ]
     },
     "metadata": {},
     "output_type": "display_data"
    },
    {
     "data": {
      "text/html": [
       "<pre>| 27633        | 2e+009  | 46.7807     | 19m 37s      |</pre>"
      ],
      "text/plain": [
       "| 27633        | 2e+009  | 46.7807     | 19m 37s      |"
      ]
     },
     "metadata": {},
     "output_type": "display_data"
    },
    {
     "data": {
      "text/html": [
       "<pre>| 27657        | 2e+009  | 46.8214     | 19m 38s      |</pre>"
      ],
      "text/plain": [
       "| 27657        | 2e+009  | 46.8214     | 19m 38s      |"
      ]
     },
     "metadata": {},
     "output_type": "display_data"
    },
    {
     "data": {
      "text/html": [
       "<pre>| 27680        | 2e+009  | 46.8597     | 19m 39s      |</pre>"
      ],
      "text/plain": [
       "| 27680        | 2e+009  | 46.8597     | 19m 39s      |"
      ]
     },
     "metadata": {},
     "output_type": "display_data"
    },
    {
     "data": {
      "text/html": [
       "<pre>| 27704        | 2e+009  | 46.8997     | 19m 40s      |</pre>"
      ],
      "text/plain": [
       "| 27704        | 2e+009  | 46.8997     | 19m 40s      |"
      ]
     },
     "metadata": {},
     "output_type": "display_data"
    },
    {
     "data": {
      "text/html": [
       "<pre>| 27728        | 2e+009  | 46.9403     | 19m 41s      |</pre>"
      ],
      "text/plain": [
       "| 27728        | 2e+009  | 46.9403     | 19m 41s      |"
      ]
     },
     "metadata": {},
     "output_type": "display_data"
    },
    {
     "data": {
      "text/html": [
       "<pre>| 27752        | 2e+009  | 46.981      | 19m 42s      |</pre>"
      ],
      "text/plain": [
       "| 27752        | 2e+009  | 46.981      | 19m 42s      |"
      ]
     },
     "metadata": {},
     "output_type": "display_data"
    },
    {
     "data": {
      "text/html": [
       "<pre>| 27777        | 2e+009  | 47.0233     | 19m 43s      |</pre>"
      ],
      "text/plain": [
       "| 27777        | 2e+009  | 47.0233     | 19m 43s      |"
      ]
     },
     "metadata": {},
     "output_type": "display_data"
    },
    {
     "data": {
      "text/html": [
       "<pre>| 27802        | 2e+009  | 47.0658     | 19m 44s      |</pre>"
      ],
      "text/plain": [
       "| 27802        | 2e+009  | 47.0658     | 19m 44s      |"
      ]
     },
     "metadata": {},
     "output_type": "display_data"
    },
    {
     "data": {
      "text/html": [
       "<pre>| 27825        | 2e+009  | 47.1048     | 19m 45s      |</pre>"
      ],
      "text/plain": [
       "| 27825        | 2e+009  | 47.1048     | 19m 45s      |"
      ]
     },
     "metadata": {},
     "output_type": "display_data"
    },
    {
     "data": {
      "text/html": [
       "<pre>| 27848        | 2e+009  | 47.144      | 19m 46s      |</pre>"
      ],
      "text/plain": [
       "| 27848        | 2e+009  | 47.144      | 19m 46s      |"
      ]
     },
     "metadata": {},
     "output_type": "display_data"
    },
    {
     "data": {
      "text/html": [
       "<pre>| 27872        | 2e+009  | 47.185      | 19m 47s      |</pre>"
      ],
      "text/plain": [
       "| 27872        | 2e+009  | 47.185      | 19m 47s      |"
      ]
     },
     "metadata": {},
     "output_type": "display_data"
    },
    {
     "data": {
      "text/html": [
       "<pre>| 27894        | 2e+009  | 47.2228     | 19m 48s      |</pre>"
      ],
      "text/plain": [
       "| 27894        | 2e+009  | 47.2228     | 19m 48s      |"
      ]
     },
     "metadata": {},
     "output_type": "display_data"
    },
    {
     "data": {
      "text/html": [
       "<pre>| 27918        | 2e+009  | 47.2627     | 19m 49s      |</pre>"
      ],
      "text/plain": [
       "| 27918        | 2e+009  | 47.2627     | 19m 49s      |"
      ]
     },
     "metadata": {},
     "output_type": "display_data"
    },
    {
     "data": {
      "text/html": [
       "<pre>| 27943        | 2e+009  | 47.3052     | 19m 50s      |</pre>"
      ],
      "text/plain": [
       "| 27943        | 2e+009  | 47.3052     | 19m 50s      |"
      ]
     },
     "metadata": {},
     "output_type": "display_data"
    },
    {
     "data": {
      "text/html": [
       "<pre>| 27967        | 2e+009  | 47.3449     | 19m 51s      |</pre>"
      ],
      "text/plain": [
       "| 27967        | 2e+009  | 47.3449     | 19m 51s      |"
      ]
     },
     "metadata": {},
     "output_type": "display_data"
    },
    {
     "data": {
      "text/html": [
       "<pre>| 27992        | 2e+009  | 47.3875     | 19m 52s      |</pre>"
      ],
      "text/plain": [
       "| 27992        | 2e+009  | 47.3875     | 19m 52s      |"
      ]
     },
     "metadata": {},
     "output_type": "display_data"
    },
    {
     "data": {
      "text/html": [
       "<pre>| 28017        | 2e+009  | 47.4297     | 19m 53s      |</pre>"
      ],
      "text/plain": [
       "| 28017        | 2e+009  | 47.4297     | 19m 53s      |"
      ]
     },
     "metadata": {},
     "output_type": "display_data"
    },
    {
     "data": {
      "text/html": [
       "<pre>| 28042        | 2e+009  | 47.4728     | 19m 54s      |</pre>"
      ],
      "text/plain": [
       "| 28042        | 2e+009  | 47.4728     | 19m 54s      |"
      ]
     },
     "metadata": {},
     "output_type": "display_data"
    },
    {
     "data": {
      "text/html": [
       "<pre>| 28067        | 2e+009  | 47.5149     | 19m 55s      |</pre>"
      ],
      "text/plain": [
       "| 28067        | 2e+009  | 47.5149     | 19m 55s      |"
      ]
     },
     "metadata": {},
     "output_type": "display_data"
    },
    {
     "data": {
      "text/html": [
       "<pre>| 28091        | 2e+009  | 47.5552     | 19m 56s      |</pre>"
      ],
      "text/plain": [
       "| 28091        | 2e+009  | 47.5552     | 19m 56s      |"
      ]
     },
     "metadata": {},
     "output_type": "display_data"
    },
    {
     "data": {
      "text/html": [
       "<pre>| 28115        | 2e+009  | 47.5956     | 19m 57s      |</pre>"
      ],
      "text/plain": [
       "| 28115        | 2e+009  | 47.5956     | 19m 57s      |"
      ]
     },
     "metadata": {},
     "output_type": "display_data"
    },
    {
     "data": {
      "text/html": [
       "<pre>| 28139        | 2e+009  | 47.637      | 19m 58s      |</pre>"
      ],
      "text/plain": [
       "| 28139        | 2e+009  | 47.637      | 19m 58s      |"
      ]
     },
     "metadata": {},
     "output_type": "display_data"
    },
    {
     "data": {
      "text/html": [
       "<pre>| 28165        | 2e+009  | 47.68       | 19m 59s      |</pre>"
      ],
      "text/plain": [
       "| 28165        | 2e+009  | 47.68       | 19m 59s      |"
      ]
     },
     "metadata": {},
     "output_type": "display_data"
    },
    {
     "data": {
      "text/html": [
       "<pre>| 28190        | 2e+009  | 47.7226     | 20m 0s       |</pre>"
      ],
      "text/plain": [
       "| 28190        | 2e+009  | 47.7226     | 20m 0s       |"
      ]
     },
     "metadata": {},
     "output_type": "display_data"
    },
    {
     "data": {
      "text/html": [
       "<pre>| 28214        | 2e+009  | 47.7631     | 20m 1s       |</pre>"
      ],
      "text/plain": [
       "| 28214        | 2e+009  | 47.7631     | 20m 1s       |"
      ]
     },
     "metadata": {},
     "output_type": "display_data"
    },
    {
     "data": {
      "text/html": [
       "<pre>| 28238        | 2e+009  | 47.804      | 20m 2s       |</pre>"
      ],
      "text/plain": [
       "| 28238        | 2e+009  | 47.804      | 20m 2s       |"
      ]
     },
     "metadata": {},
     "output_type": "display_data"
    },
    {
     "data": {
      "text/html": [
       "<pre>| 28261        | 2e+009  | 47.843      | 20m 3s       |</pre>"
      ],
      "text/plain": [
       "| 28261        | 2e+009  | 47.843      | 20m 3s       |"
      ]
     },
     "metadata": {},
     "output_type": "display_data"
    },
    {
     "data": {
      "text/html": [
       "<pre>| 28284        | 2e+009  | 47.882      | 20m 4s       |</pre>"
      ],
      "text/plain": [
       "| 28284        | 2e+009  | 47.882      | 20m 4s       |"
      ]
     },
     "metadata": {},
     "output_type": "display_data"
    },
    {
     "data": {
      "text/html": [
       "<pre>| 28307        | 2e+009  | 47.9207     | 20m 5s       |</pre>"
      ],
      "text/plain": [
       "| 28307        | 2e+009  | 47.9207     | 20m 5s       |"
      ]
     },
     "metadata": {},
     "output_type": "display_data"
    },
    {
     "data": {
      "text/html": [
       "<pre>| 28331        | 2e+009  | 47.9624     | 20m 6s       |</pre>"
      ],
      "text/plain": [
       "| 28331        | 2e+009  | 47.9624     | 20m 6s       |"
      ]
     },
     "metadata": {},
     "output_type": "display_data"
    },
    {
     "data": {
      "text/html": [
       "<pre>| 28354        | 2e+009  | 48.0011     | 20m 7s       |</pre>"
      ],
      "text/plain": [
       "| 28354        | 2e+009  | 48.0011     | 20m 7s       |"
      ]
     },
     "metadata": {},
     "output_type": "display_data"
    },
    {
     "data": {
      "text/html": [
       "<pre>| 28379        | 2e+009  | 48.0433     | 20m 8s       |</pre>"
      ],
      "text/plain": [
       "| 28379        | 2e+009  | 48.0433     | 20m 8s       |"
      ]
     },
     "metadata": {},
     "output_type": "display_data"
    },
    {
     "data": {
      "text/html": [
       "<pre>| 28404        | 2e+009  | 48.085      | 20m 9s       |</pre>"
      ],
      "text/plain": [
       "| 28404        | 2e+009  | 48.085      | 20m 9s       |"
      ]
     },
     "metadata": {},
     "output_type": "display_data"
    },
    {
     "data": {
      "text/html": [
       "<pre>| 28428        | 2e+009  | 48.1256     | 20m 10s      |</pre>"
      ],
      "text/plain": [
       "| 28428        | 2e+009  | 48.1256     | 20m 10s      |"
      ]
     },
     "metadata": {},
     "output_type": "display_data"
    },
    {
     "data": {
      "text/html": [
       "<pre>| 28453        | 2e+009  | 48.1685     | 20m 11s      |</pre>"
      ],
      "text/plain": [
       "| 28453        | 2e+009  | 48.1685     | 20m 11s      |"
      ]
     },
     "metadata": {},
     "output_type": "display_data"
    },
    {
     "data": {
      "text/html": [
       "<pre>| 28478        | 2e+009  | 48.211      | 20m 12s      |</pre>"
      ],
      "text/plain": [
       "| 28478        | 2e+009  | 48.211      | 20m 12s      |"
      ]
     },
     "metadata": {},
     "output_type": "display_data"
    },
    {
     "data": {
      "text/html": [
       "<pre>| 28501        | 2e+009  | 48.2501     | 20m 13s      |</pre>"
      ],
      "text/plain": [
       "| 28501        | 2e+009  | 48.2501     | 20m 13s      |"
      ]
     },
     "metadata": {},
     "output_type": "display_data"
    },
    {
     "data": {
      "text/html": [
       "<pre>| 28526        | 2e+009  | 48.2916     | 20m 14s      |</pre>"
      ],
      "text/plain": [
       "| 28526        | 2e+009  | 48.2916     | 20m 14s      |"
      ]
     },
     "metadata": {},
     "output_type": "display_data"
    },
    {
     "data": {
      "text/html": [
       "<pre>| 28550        | 2e+009  | 48.3328     | 20m 15s      |</pre>"
      ],
      "text/plain": [
       "| 28550        | 2e+009  | 48.3328     | 20m 15s      |"
      ]
     },
     "metadata": {},
     "output_type": "display_data"
    },
    {
     "data": {
      "text/html": [
       "<pre>| 28575        | 2e+009  | 48.3751     | 20m 16s      |</pre>"
      ],
      "text/plain": [
       "| 28575        | 2e+009  | 48.3751     | 20m 16s      |"
      ]
     },
     "metadata": {},
     "output_type": "display_data"
    },
    {
     "data": {
      "text/html": [
       "<pre>| 28600        | 2e+009  | 48.4177     | 20m 17s      |</pre>"
      ],
      "text/plain": [
       "| 28600        | 2e+009  | 48.4177     | 20m 17s      |"
      ]
     },
     "metadata": {},
     "output_type": "display_data"
    },
    {
     "data": {
      "text/html": [
       "<pre>| 28626        | 2e+009  | 48.461      | 20m 18s      |</pre>"
      ],
      "text/plain": [
       "| 28626        | 2e+009  | 48.461      | 20m 18s      |"
      ]
     },
     "metadata": {},
     "output_type": "display_data"
    },
    {
     "data": {
      "text/html": [
       "<pre>| 28651        | 2e+009  | 48.5027     | 20m 19s      |</pre>"
      ],
      "text/plain": [
       "| 28651        | 2e+009  | 48.5027     | 20m 19s      |"
      ]
     },
     "metadata": {},
     "output_type": "display_data"
    },
    {
     "data": {
      "text/html": [
       "<pre>| 28673        | 2e+009  | 48.5413     | 20m 20s      |</pre>"
      ],
      "text/plain": [
       "| 28673        | 2e+009  | 48.5413     | 20m 20s      |"
      ]
     },
     "metadata": {},
     "output_type": "display_data"
    },
    {
     "data": {
      "text/html": [
       "<pre>| 28695        | 2e+009  | 48.5775     | 20m 21s      |</pre>"
      ],
      "text/plain": [
       "| 28695        | 2e+009  | 48.5775     | 20m 21s      |"
      ]
     },
     "metadata": {},
     "output_type": "display_data"
    },
    {
     "data": {
      "text/html": [
       "<pre>| 28719        | 2e+009  | 48.6194     | 20m 22s      |</pre>"
      ],
      "text/plain": [
       "| 28719        | 2e+009  | 48.6194     | 20m 22s      |"
      ]
     },
     "metadata": {},
     "output_type": "display_data"
    },
    {
     "data": {
      "text/html": [
       "<pre>| 28743        | 2e+009  | 48.6601     | 20m 23s      |</pre>"
      ],
      "text/plain": [
       "| 28743        | 2e+009  | 48.6601     | 20m 23s      |"
      ]
     },
     "metadata": {},
     "output_type": "display_data"
    },
    {
     "data": {
      "text/html": [
       "<pre>| 28768        | 2e+009  | 48.7019     | 20m 24s      |</pre>"
      ],
      "text/plain": [
       "| 28768        | 2e+009  | 48.7019     | 20m 24s      |"
      ]
     },
     "metadata": {},
     "output_type": "display_data"
    },
    {
     "data": {
      "text/html": [
       "<pre>| 28793        | 2e+009  | 48.7441     | 20m 25s      |</pre>"
      ],
      "text/plain": [
       "| 28793        | 2e+009  | 48.7441     | 20m 25s      |"
      ]
     },
     "metadata": {},
     "output_type": "display_data"
    },
    {
     "data": {
      "text/html": [
       "<pre>| 28814        | 2e+009  | 48.7787     | 20m 26s      |</pre>"
      ],
      "text/plain": [
       "| 28814        | 2e+009  | 48.7787     | 20m 26s      |"
      ]
     },
     "metadata": {},
     "output_type": "display_data"
    },
    {
     "data": {
      "text/html": [
       "<pre>| 28838        | 2e+009  | 48.8201     | 20m 27s      |</pre>"
      ],
      "text/plain": [
       "| 28838        | 2e+009  | 48.8201     | 20m 27s      |"
      ]
     },
     "metadata": {},
     "output_type": "display_data"
    },
    {
     "data": {
      "text/html": [
       "<pre>| 28863        | 2e+009  | 48.8622     | 20m 28s      |</pre>"
      ],
      "text/plain": [
       "| 28863        | 2e+009  | 48.8622     | 20m 28s      |"
      ]
     },
     "metadata": {},
     "output_type": "display_data"
    },
    {
     "data": {
      "text/html": [
       "<pre>| 28887        | 2e+009  | 48.9035     | 20m 29s      |</pre>"
      ],
      "text/plain": [
       "| 28887        | 2e+009  | 48.9035     | 20m 29s      |"
      ]
     },
     "metadata": {},
     "output_type": "display_data"
    },
    {
     "data": {
      "text/html": [
       "<pre>| 28912        | 2e+009  | 48.9455     | 20m 30s      |</pre>"
      ],
      "text/plain": [
       "| 28912        | 2e+009  | 48.9455     | 20m 30s      |"
      ]
     },
     "metadata": {},
     "output_type": "display_data"
    },
    {
     "data": {
      "text/html": [
       "<pre>| 28936        | 2e+009  | 48.9867     | 20m 31s      |</pre>"
      ],
      "text/plain": [
       "| 28936        | 2e+009  | 48.9867     | 20m 31s      |"
      ]
     },
     "metadata": {},
     "output_type": "display_data"
    },
    {
     "data": {
      "text/html": [
       "<pre>| 28962        | 2e+009  | 49.0294     | 20m 32s      |</pre>"
      ],
      "text/plain": [
       "| 28962        | 2e+009  | 49.0294     | 20m 32s      |"
      ]
     },
     "metadata": {},
     "output_type": "display_data"
    },
    {
     "data": {
      "text/html": [
       "<pre>| 28986        | 2e+009  | 49.0707     | 20m 33s      |</pre>"
      ],
      "text/plain": [
       "| 28986        | 2e+009  | 49.0707     | 20m 33s      |"
      ]
     },
     "metadata": {},
     "output_type": "display_data"
    },
    {
     "data": {
      "text/html": [
       "<pre>| 29011        | 2e+009  | 49.1133     | 20m 34s      |</pre>"
      ],
      "text/plain": [
       "| 29011        | 2e+009  | 49.1133     | 20m 34s      |"
      ]
     },
     "metadata": {},
     "output_type": "display_data"
    },
    {
     "data": {
      "text/html": [
       "<pre>| 29036        | 2e+009  | 49.1547     | 20m 35s      |</pre>"
      ],
      "text/plain": [
       "| 29036        | 2e+009  | 49.1547     | 20m 35s      |"
      ]
     },
     "metadata": {},
     "output_type": "display_data"
    },
    {
     "data": {
      "text/html": [
       "<pre>| 29060        | 2e+009  | 49.1964     | 20m 36s      |</pre>"
      ],
      "text/plain": [
       "| 29060        | 2e+009  | 49.1964     | 20m 36s      |"
      ]
     },
     "metadata": {},
     "output_type": "display_data"
    },
    {
     "data": {
      "text/html": [
       "<pre>| 29085        | 2e+009  | 49.239      | 20m 37s      |</pre>"
      ],
      "text/plain": [
       "| 29085        | 2e+009  | 49.239      | 20m 37s      |"
      ]
     },
     "metadata": {},
     "output_type": "display_data"
    },
    {
     "data": {
      "text/html": [
       "<pre>| 29110        | 2e+009  | 49.2804     | 20m 38s      |</pre>"
      ],
      "text/plain": [
       "| 29110        | 2e+009  | 49.2804     | 20m 38s      |"
      ]
     },
     "metadata": {},
     "output_type": "display_data"
    },
    {
     "data": {
      "text/html": [
       "<pre>| 29135        | 2e+009  | 49.3226     | 20m 39s      |</pre>"
      ],
      "text/plain": [
       "| 29135        | 2e+009  | 49.3226     | 20m 39s      |"
      ]
     },
     "metadata": {},
     "output_type": "display_data"
    },
    {
     "data": {
      "text/html": [
       "<pre>| 29160        | 2e+009  | 49.3651     | 20m 40s      |</pre>"
      ],
      "text/plain": [
       "| 29160        | 2e+009  | 49.3651     | 20m 40s      |"
      ]
     },
     "metadata": {},
     "output_type": "display_data"
    },
    {
     "data": {
      "text/html": [
       "<pre>| 29185        | 2e+009  | 49.4075     | 20m 41s      |</pre>"
      ],
      "text/plain": [
       "| 29185        | 2e+009  | 49.4075     | 20m 41s      |"
      ]
     },
     "metadata": {},
     "output_type": "display_data"
    },
    {
     "data": {
      "text/html": [
       "<pre>| 29210        | 2e+009  | 49.4501     | 20m 42s      |</pre>"
      ],
      "text/plain": [
       "| 29210        | 2e+009  | 49.4501     | 20m 42s      |"
      ]
     },
     "metadata": {},
     "output_type": "display_data"
    },
    {
     "data": {
      "text/html": [
       "<pre>| 29235        | 2e+009  | 49.4921     | 20m 43s      |</pre>"
      ],
      "text/plain": [
       "| 29235        | 2e+009  | 49.4921     | 20m 43s      |"
      ]
     },
     "metadata": {},
     "output_type": "display_data"
    },
    {
     "data": {
      "text/html": [
       "<pre>| 29259        | 2e+009  | 49.5334     | 20m 44s      |</pre>"
      ],
      "text/plain": [
       "| 29259        | 2e+009  | 49.5334     | 20m 44s      |"
      ]
     },
     "metadata": {},
     "output_type": "display_data"
    },
    {
     "data": {
      "text/html": [
       "<pre>| 29284        | 2e+009  | 49.5747     | 20m 45s      |</pre>"
      ],
      "text/plain": [
       "| 29284        | 2e+009  | 49.5747     | 20m 45s      |"
      ]
     },
     "metadata": {},
     "output_type": "display_data"
    },
    {
     "data": {
      "text/html": [
       "<pre>| 29308        | 2e+009  | 49.6161     | 20m 46s      |</pre>"
      ],
      "text/plain": [
       "| 29308        | 2e+009  | 49.6161     | 20m 46s      |"
      ]
     },
     "metadata": {},
     "output_type": "display_data"
    },
    {
     "data": {
      "text/html": [
       "<pre>| 29332        | 2e+009  | 49.6572     | 20m 47s      |</pre>"
      ],
      "text/plain": [
       "| 29332        | 2e+009  | 49.6572     | 20m 47s      |"
      ]
     },
     "metadata": {},
     "output_type": "display_data"
    },
    {
     "data": {
      "text/html": [
       "<pre>| 29352        | 2e+009  | 49.6898     | 20m 48s      |</pre>"
      ],
      "text/plain": [
       "| 29352        | 2e+009  | 49.6898     | 20m 48s      |"
      ]
     },
     "metadata": {},
     "output_type": "display_data"
    },
    {
     "data": {
      "text/html": [
       "<pre>| 29372        | 2e+009  | 49.7247     | 20m 49s      |</pre>"
      ],
      "text/plain": [
       "| 29372        | 2e+009  | 49.7247     | 20m 49s      |"
      ]
     },
     "metadata": {},
     "output_type": "display_data"
    },
    {
     "data": {
      "text/html": [
       "<pre>| 29392        | 2e+009  | 49.7574     | 20m 50s      |</pre>"
      ],
      "text/plain": [
       "| 29392        | 2e+009  | 49.7574     | 20m 50s      |"
      ]
     },
     "metadata": {},
     "output_type": "display_data"
    },
    {
     "data": {
      "text/html": [
       "<pre>| 29412        | 2e+009  | 49.7922     | 20m 51s      |</pre>"
      ],
      "text/plain": [
       "| 29412        | 2e+009  | 49.7922     | 20m 51s      |"
      ]
     },
     "metadata": {},
     "output_type": "display_data"
    },
    {
     "data": {
      "text/html": [
       "<pre>| 29435        | 2e+009  | 49.8311     | 20m 52s      |</pre>"
      ],
      "text/plain": [
       "| 29435        | 2e+009  | 49.8311     | 20m 52s      |"
      ]
     },
     "metadata": {},
     "output_type": "display_data"
    },
    {
     "data": {
      "text/html": [
       "<pre>| 29456        | 2e+009  | 49.8665     | 20m 53s      |</pre>"
      ],
      "text/plain": [
       "| 29456        | 2e+009  | 49.8665     | 20m 53s      |"
      ]
     },
     "metadata": {},
     "output_type": "display_data"
    },
    {
     "data": {
      "text/html": [
       "<pre>| 29474        | 2e+009  | 49.8962     | 20m 54s      |</pre>"
      ],
      "text/plain": [
       "| 29474        | 2e+009  | 49.8962     | 20m 54s      |"
      ]
     },
     "metadata": {},
     "output_type": "display_data"
    },
    {
     "data": {
      "text/html": [
       "<pre>| 29492        | 2e+009  | 49.9275     | 20m 55s      |</pre>"
      ],
      "text/plain": [
       "| 29492        | 2e+009  | 49.9275     | 20m 55s      |"
      ]
     },
     "metadata": {},
     "output_type": "display_data"
    },
    {
     "data": {
      "text/html": [
       "<pre>| 29510        | 2e+009  | 49.9574     | 20m 56s      |</pre>"
      ],
      "text/plain": [
       "| 29510        | 2e+009  | 49.9574     | 20m 56s      |"
      ]
     },
     "metadata": {},
     "output_type": "display_data"
    },
    {
     "data": {
      "text/html": [
       "<pre>| 29529        | 2e+009  | 49.9892     | 20m 57s      |</pre>"
      ],
      "text/plain": [
       "| 29529        | 2e+009  | 49.9892     | 20m 57s      |"
      ]
     },
     "metadata": {},
     "output_type": "display_data"
    },
    {
     "data": {
      "text/html": [
       "<pre>| 29550        | 2e+009  | 50.025      | 20m 58s      |</pre>"
      ],
      "text/plain": [
       "| 29550        | 2e+009  | 50.025      | 20m 58s      |"
      ]
     },
     "metadata": {},
     "output_type": "display_data"
    },
    {
     "data": {
      "text/html": [
       "<pre>| 29576        | 2e+009  | 50.0687     | 20m 59s      |</pre>"
      ],
      "text/plain": [
       "| 29576        | 2e+009  | 50.0687     | 20m 59s      |"
      ]
     },
     "metadata": {},
     "output_type": "display_data"
    },
    {
     "data": {
      "text/html": [
       "<pre>| 29601        | 2e+009  | 50.1124     | 21m 0s       |</pre>"
      ],
      "text/plain": [
       "| 29601        | 2e+009  | 50.1124     | 21m 0s       |"
      ]
     },
     "metadata": {},
     "output_type": "display_data"
    },
    {
     "data": {
      "text/html": [
       "<pre>| 29627        | 2e+009  | 50.1549     | 21m 1s       |</pre>"
      ],
      "text/plain": [
       "| 29627        | 2e+009  | 50.1549     | 21m 1s       |"
      ]
     },
     "metadata": {},
     "output_type": "display_data"
    },
    {
     "data": {
      "text/html": [
       "<pre>| 29652        | 2e+009  | 50.1986     | 21m 2s       |</pre>"
      ],
      "text/plain": [
       "| 29652        | 2e+009  | 50.1986     | 21m 2s       |"
      ]
     },
     "metadata": {},
     "output_type": "display_data"
    },
    {
     "data": {
      "text/html": [
       "<pre>| 29678        | 2e+009  | 50.2416     | 21m 3s       |</pre>"
      ],
      "text/plain": [
       "| 29678        | 2e+009  | 50.2416     | 21m 3s       |"
      ]
     },
     "metadata": {},
     "output_type": "display_data"
    },
    {
     "data": {
      "text/html": [
       "<pre>| 29703        | 2e+009  | 50.2838     | 21m 4s       |</pre>"
      ],
      "text/plain": [
       "| 29703        | 2e+009  | 50.2838     | 21m 4s       |"
      ]
     },
     "metadata": {},
     "output_type": "display_data"
    },
    {
     "data": {
      "text/html": [
       "<pre>| 29728        | 2e+009  | 50.327      | 21m 5s       |</pre>"
      ],
      "text/plain": [
       "| 29728        | 2e+009  | 50.327      | 21m 5s       |"
      ]
     },
     "metadata": {},
     "output_type": "display_data"
    },
    {
     "data": {
      "text/html": [
       "<pre>| 29753        | 2e+009  | 50.3691     | 21m 6s       |</pre>"
      ],
      "text/plain": [
       "| 29753        | 2e+009  | 50.3691     | 21m 6s       |"
      ]
     },
     "metadata": {},
     "output_type": "display_data"
    },
    {
     "data": {
      "text/html": [
       "<pre>| 29778        | 2e+009  | 50.4107     | 21m 7s       |</pre>"
      ],
      "text/plain": [
       "| 29778        | 2e+009  | 50.4107     | 21m 7s       |"
      ]
     },
     "metadata": {},
     "output_type": "display_data"
    },
    {
     "data": {
      "text/html": [
       "<pre>| 29802        | 2e+009  | 50.4523     | 21m 8s       |</pre>"
      ],
      "text/plain": [
       "| 29802        | 2e+009  | 50.4523     | 21m 8s       |"
      ]
     },
     "metadata": {},
     "output_type": "display_data"
    },
    {
     "data": {
      "text/html": [
       "<pre>| 29827        | 2e+009  | 50.4951     | 21m 9s       |</pre>"
      ],
      "text/plain": [
       "| 29827        | 2e+009  | 50.4951     | 21m 9s       |"
      ]
     },
     "metadata": {},
     "output_type": "display_data"
    },
    {
     "data": {
      "text/html": [
       "<pre>| 29853        | 2e+009  | 50.5375     | 21m 10s      |</pre>"
      ],
      "text/plain": [
       "| 29853        | 2e+009  | 50.5375     | 21m 10s      |"
      ]
     },
     "metadata": {},
     "output_type": "display_data"
    },
    {
     "data": {
      "text/html": [
       "<pre>| 29877        | 2e+009  | 50.5789     | 21m 11s      |</pre>"
      ],
      "text/plain": [
       "| 29877        | 2e+009  | 50.5789     | 21m 11s      |"
      ]
     },
     "metadata": {},
     "output_type": "display_data"
    },
    {
     "data": {
      "text/html": [
       "<pre>| 29901        | 2e+009  | 50.6202     | 21m 12s      |</pre>"
      ],
      "text/plain": [
       "| 29901        | 2e+009  | 50.6202     | 21m 12s      |"
      ]
     },
     "metadata": {},
     "output_type": "display_data"
    },
    {
     "data": {
      "text/html": [
       "<pre>| 29926        | 2e+009  | 50.6617     | 21m 13s      |</pre>"
      ],
      "text/plain": [
       "| 29926        | 2e+009  | 50.6617     | 21m 13s      |"
      ]
     },
     "metadata": {},
     "output_type": "display_data"
    },
    {
     "data": {
      "text/html": [
       "<pre>| 29951        | 2e+009  | 50.7035     | 21m 14s      |</pre>"
      ],
      "text/plain": [
       "| 29951        | 2e+009  | 50.7035     | 21m 14s      |"
      ]
     },
     "metadata": {},
     "output_type": "display_data"
    },
    {
     "data": {
      "text/html": [
       "<pre>| 29975        | 2e+009  | 50.7454     | 21m 15s      |</pre>"
      ],
      "text/plain": [
       "| 29975        | 2e+009  | 50.7454     | 21m 15s      |"
      ]
     },
     "metadata": {},
     "output_type": "display_data"
    },
    {
     "data": {
      "text/html": [
       "<pre>| 30000        | 2e+009  | 50.7871     | 21m 16s      |</pre>"
      ],
      "text/plain": [
       "| 30000        | 2e+009  | 50.7871     | 21m 16s      |"
      ]
     },
     "metadata": {},
     "output_type": "display_data"
    },
    {
     "data": {
      "text/html": [
       "<pre>| 30024        | 2e+009  | 50.8285     | 21m 17s      |</pre>"
      ],
      "text/plain": [
       "| 30024        | 2e+009  | 50.8285     | 21m 17s      |"
      ]
     },
     "metadata": {},
     "output_type": "display_data"
    },
    {
     "data": {
      "text/html": [
       "<pre>| 30048        | 2e+009  | 50.8692     | 21m 18s      |</pre>"
      ],
      "text/plain": [
       "| 30048        | 2e+009  | 50.8692     | 21m 18s      |"
      ]
     },
     "metadata": {},
     "output_type": "display_data"
    },
    {
     "data": {
      "text/html": [
       "<pre>| 30073        | 2e+009  | 50.9115     | 21m 19s      |</pre>"
      ],
      "text/plain": [
       "| 30073        | 2e+009  | 50.9115     | 21m 19s      |"
      ]
     },
     "metadata": {},
     "output_type": "display_data"
    },
    {
     "data": {
      "text/html": [
       "<pre>| 30097        | 2e+009  | 50.9518     | 21m 20s      |</pre>"
      ],
      "text/plain": [
       "| 30097        | 2e+009  | 50.9518     | 21m 20s      |"
      ]
     },
     "metadata": {},
     "output_type": "display_data"
    },
    {
     "data": {
      "text/html": [
       "<pre>| 30122        | 2e+009  | 50.9935     | 21m 21s      |</pre>"
      ],
      "text/plain": [
       "| 30122        | 2e+009  | 50.9935     | 21m 21s      |"
      ]
     },
     "metadata": {},
     "output_type": "display_data"
    },
    {
     "data": {
      "text/html": [
       "<pre>| 30146        | 2e+009  | 51.035      | 21m 22s      |</pre>"
      ],
      "text/plain": [
       "| 30146        | 2e+009  | 51.035      | 21m 22s      |"
      ]
     },
     "metadata": {},
     "output_type": "display_data"
    },
    {
     "data": {
      "text/html": [
       "<pre>| 30171        | 2e+009  | 51.0767     | 21m 23s      |</pre>"
      ],
      "text/plain": [
       "| 30171        | 2e+009  | 51.0767     | 21m 23s      |"
      ]
     },
     "metadata": {},
     "output_type": "display_data"
    },
    {
     "data": {
      "text/html": [
       "<pre>| 30195        | 2e+009  | 51.1175     | 21m 24s      |</pre>"
      ],
      "text/plain": [
       "| 30195        | 2e+009  | 51.1175     | 21m 24s      |"
      ]
     },
     "metadata": {},
     "output_type": "display_data"
    },
    {
     "data": {
      "text/html": [
       "<pre>| 30218        | 2e+009  | 51.1566     | 21m 25s      |</pre>"
      ],
      "text/plain": [
       "| 30218        | 2e+009  | 51.1566     | 21m 25s      |"
      ]
     },
     "metadata": {},
     "output_type": "display_data"
    },
    {
     "data": {
      "text/html": [
       "<pre>| 30239        | 2e+009  | 51.1923     | 21m 26s      |</pre>"
      ],
      "text/plain": [
       "| 30239        | 2e+009  | 51.1923     | 21m 26s      |"
      ]
     },
     "metadata": {},
     "output_type": "display_data"
    },
    {
     "data": {
      "text/html": [
       "<pre>| 30262        | 2e+009  | 51.2313     | 21m 27s      |</pre>"
      ],
      "text/plain": [
       "| 30262        | 2e+009  | 51.2313     | 21m 27s      |"
      ]
     },
     "metadata": {},
     "output_type": "display_data"
    },
    {
     "data": {
      "text/html": [
       "<pre>| 30286        | 2e+009  | 51.2719     | 21m 28s      |</pre>"
      ],
      "text/plain": [
       "| 30286        | 2e+009  | 51.2719     | 21m 28s      |"
      ]
     },
     "metadata": {},
     "output_type": "display_data"
    },
    {
     "data": {
      "text/html": [
       "<pre>| 30311        | 2e+009  | 51.3137     | 21m 29s      |</pre>"
      ],
      "text/plain": [
       "| 30311        | 2e+009  | 51.3137     | 21m 29s      |"
      ]
     },
     "metadata": {},
     "output_type": "display_data"
    },
    {
     "data": {
      "text/html": [
       "<pre>| 30333        | 2e+009  | 51.3506     | 21m 30s      |</pre>"
      ],
      "text/plain": [
       "| 30333        | 2e+009  | 51.3506     | 21m 30s      |"
      ]
     },
     "metadata": {},
     "output_type": "display_data"
    },
    {
     "data": {
      "text/html": [
       "<pre>| 30355        | 2e+009  | 51.3878     | 21m 31s      |</pre>"
      ],
      "text/plain": [
       "| 30355        | 2e+009  | 51.3878     | 21m 31s      |"
      ]
     },
     "metadata": {},
     "output_type": "display_data"
    },
    {
     "data": {
      "text/html": [
       "<pre>| 30377        | 2e+009  | 51.4247     | 21m 32s      |</pre>"
      ],
      "text/plain": [
       "| 30377        | 2e+009  | 51.4247     | 21m 32s      |"
      ]
     },
     "metadata": {},
     "output_type": "display_data"
    },
    {
     "data": {
      "text/html": [
       "<pre>| 30399        | 2e+009  | 51.4624     | 21m 33s      |</pre>"
      ],
      "text/plain": [
       "| 30399        | 2e+009  | 51.4624     | 21m 33s      |"
      ]
     },
     "metadata": {},
     "output_type": "display_data"
    },
    {
     "data": {
      "text/html": [
       "<pre>| 30421        | 2e+009  | 51.4994     | 21m 34s      |</pre>"
      ],
      "text/plain": [
       "| 30421        | 2e+009  | 51.4994     | 21m 34s      |"
      ]
     },
     "metadata": {},
     "output_type": "display_data"
    },
    {
     "data": {
      "text/html": [
       "<pre>| 30442        | 2e+009  | 51.5355     | 21m 35s      |</pre>"
      ],
      "text/plain": [
       "| 30442        | 2e+009  | 51.5355     | 21m 35s      |"
      ]
     },
     "metadata": {},
     "output_type": "display_data"
    },
    {
     "data": {
      "text/html": [
       "<pre>| 30464        | 2e+009  | 51.5725     | 21m 36s      |</pre>"
      ],
      "text/plain": [
       "| 30464        | 2e+009  | 51.5725     | 21m 36s      |"
      ]
     },
     "metadata": {},
     "output_type": "display_data"
    },
    {
     "data": {
      "text/html": [
       "<pre>| 30488        | 2e+009  | 51.614      | 21m 37s      |</pre>"
      ],
      "text/plain": [
       "| 30488        | 2e+009  | 51.614      | 21m 37s      |"
      ]
     },
     "metadata": {},
     "output_type": "display_data"
    },
    {
     "data": {
      "text/html": [
       "<pre>| 30513        | 2e+009  | 51.656      | 21m 38s      |</pre>"
      ],
      "text/plain": [
       "| 30513        | 2e+009  | 51.656      | 21m 38s      |"
      ]
     },
     "metadata": {},
     "output_type": "display_data"
    },
    {
     "data": {
      "text/html": [
       "<pre>| 30537        | 2e+009  | 51.6966     | 21m 39s      |</pre>"
      ],
      "text/plain": [
       "| 30537        | 2e+009  | 51.6966     | 21m 39s      |"
      ]
     },
     "metadata": {},
     "output_type": "display_data"
    },
    {
     "data": {
      "text/html": [
       "<pre>| 30558        | 2e+009  | 51.7326     | 21m 40s      |</pre>"
      ],
      "text/plain": [
       "| 30558        | 2e+009  | 51.7326     | 21m 40s      |"
      ]
     },
     "metadata": {},
     "output_type": "display_data"
    },
    {
     "data": {
      "text/html": [
       "<pre>| 30579        | 2e+009  | 51.7667     | 21m 40s      |</pre>"
      ],
      "text/plain": [
       "| 30579        | 2e+009  | 51.7667     | 21m 40s      |"
      ]
     },
     "metadata": {},
     "output_type": "display_data"
    },
    {
     "data": {
      "text/html": [
       "<pre>| 30603        | 2e+009  | 51.8074     | 21m 41s      |</pre>"
      ],
      "text/plain": [
       "| 30603        | 2e+009  | 51.8074     | 21m 41s      |"
      ]
     },
     "metadata": {},
     "output_type": "display_data"
    },
    {
     "data": {
      "text/html": [
       "<pre>| 30627        | 2e+009  | 51.8493     | 21m 42s      |</pre>"
      ],
      "text/plain": [
       "| 30627        | 2e+009  | 51.8493     | 21m 42s      |"
      ]
     },
     "metadata": {},
     "output_type": "display_data"
    },
    {
     "data": {
      "text/html": [
       "<pre>| 30652        | 2e+009  | 51.8912     | 21m 43s      |</pre>"
      ],
      "text/plain": [
       "| 30652        | 2e+009  | 51.8912     | 21m 43s      |"
      ]
     },
     "metadata": {},
     "output_type": "display_data"
    },
    {
     "data": {
      "text/html": [
       "<pre>| 30677        | 2e+009  | 51.9333     | 21m 44s      |</pre>"
      ],
      "text/plain": [
       "| 30677        | 2e+009  | 51.9333     | 21m 44s      |"
      ]
     },
     "metadata": {},
     "output_type": "display_data"
    },
    {
     "data": {
      "text/html": [
       "<pre>| 30701        | 2e+009  | 51.9736     | 21m 45s      |</pre>"
      ],
      "text/plain": [
       "| 30701        | 2e+009  | 51.9736     | 21m 45s      |"
      ]
     },
     "metadata": {},
     "output_type": "display_data"
    },
    {
     "data": {
      "text/html": [
       "<pre>| 30723        | 2e+009  | 52.011      | 21m 46s      |</pre>"
      ],
      "text/plain": [
       "| 30723        | 2e+009  | 52.011      | 21m 46s      |"
      ]
     },
     "metadata": {},
     "output_type": "display_data"
    },
    {
     "data": {
      "text/html": [
       "<pre>| 30748        | 2e+009  | 52.0526     | 21m 47s      |</pre>"
      ],
      "text/plain": [
       "| 30748        | 2e+009  | 52.0526     | 21m 47s      |"
      ]
     },
     "metadata": {},
     "output_type": "display_data"
    },
    {
     "data": {
      "text/html": [
       "<pre>| 30772        | 2e+009  | 52.0945     | 21m 48s      |</pre>"
      ],
      "text/plain": [
       "| 30772        | 2e+009  | 52.0945     | 21m 48s      |"
      ]
     },
     "metadata": {},
     "output_type": "display_data"
    },
    {
     "data": {
      "text/html": [
       "<pre>| 30797        | 2e+009  | 52.1361     | 21m 49s      |</pre>"
      ],
      "text/plain": [
       "| 30797        | 2e+009  | 52.1361     | 21m 49s      |"
      ]
     },
     "metadata": {},
     "output_type": "display_data"
    },
    {
     "data": {
      "text/html": [
       "<pre>| 30821        | 2e+009  | 52.1778     | 21m 50s      |</pre>"
      ],
      "text/plain": [
       "| 30821        | 2e+009  | 52.1778     | 21m 50s      |"
      ]
     },
     "metadata": {},
     "output_type": "display_data"
    },
    {
     "data": {
      "text/html": [
       "<pre>| 30846        | 2e+009  | 52.2196     | 21m 51s      |</pre>"
      ],
      "text/plain": [
       "| 30846        | 2e+009  | 52.2196     | 21m 51s      |"
      ]
     },
     "metadata": {},
     "output_type": "display_data"
    },
    {
     "data": {
      "text/html": [
       "<pre>| 30871        | 2e+009  | 52.2619     | 21m 52s      |</pre>"
      ],
      "text/plain": [
       "| 30871        | 2e+009  | 52.2619     | 21m 52s      |"
      ]
     },
     "metadata": {},
     "output_type": "display_data"
    },
    {
     "data": {
      "text/html": [
       "<pre>| 30896        | 2e+009  | 52.3043     | 21m 53s      |</pre>"
      ],
      "text/plain": [
       "| 30896        | 2e+009  | 52.3043     | 21m 53s      |"
      ]
     },
     "metadata": {},
     "output_type": "display_data"
    },
    {
     "data": {
      "text/html": [
       "<pre>| 30921        | 2e+009  | 52.3462     | 21m 54s      |</pre>"
      ],
      "text/plain": [
       "| 30921        | 2e+009  | 52.3462     | 21m 54s      |"
      ]
     },
     "metadata": {},
     "output_type": "display_data"
    },
    {
     "data": {
      "text/html": [
       "<pre>| 30945        | 2e+009  | 52.3876     | 21m 55s      |</pre>"
      ],
      "text/plain": [
       "| 30945        | 2e+009  | 52.3876     | 21m 55s      |"
      ]
     },
     "metadata": {},
     "output_type": "display_data"
    },
    {
     "data": {
      "text/html": [
       "<pre>| 30970        | 2e+009  | 52.4295     | 21m 56s      |</pre>"
      ],
      "text/plain": [
       "| 30970        | 2e+009  | 52.4295     | 21m 56s      |"
      ]
     },
     "metadata": {},
     "output_type": "display_data"
    },
    {
     "data": {
      "text/html": [
       "<pre>| 30994        | 2e+009  | 52.4706     | 21m 57s      |</pre>"
      ],
      "text/plain": [
       "| 30994        | 2e+009  | 52.4706     | 21m 57s      |"
      ]
     },
     "metadata": {},
     "output_type": "display_data"
    },
    {
     "data": {
      "text/html": [
       "<pre>| 31018        | 2e+009  | 52.5097     | 21m 58s      |</pre>"
      ],
      "text/plain": [
       "| 31018        | 2e+009  | 52.5097     | 21m 58s      |"
      ]
     },
     "metadata": {},
     "output_type": "display_data"
    },
    {
     "data": {
      "text/html": [
       "<pre>| 31039        | 2e+009  | 52.5456     | 21m 59s      |</pre>"
      ],
      "text/plain": [
       "| 31039        | 2e+009  | 52.5456     | 21m 59s      |"
      ]
     },
     "metadata": {},
     "output_type": "display_data"
    },
    {
     "data": {
      "text/html": [
       "<pre>| 31063        | 2e+009  | 52.5861     | 22m 0s       |</pre>"
      ],
      "text/plain": [
       "| 31063        | 2e+009  | 52.5861     | 22m 0s       |"
      ]
     },
     "metadata": {},
     "output_type": "display_data"
    },
    {
     "data": {
      "text/html": [
       "<pre>| 31087        | 2e+009  | 52.6267     | 22m 1s       |</pre>"
      ],
      "text/plain": [
       "| 31087        | 2e+009  | 52.6267     | 22m 1s       |"
      ]
     },
     "metadata": {},
     "output_type": "display_data"
    },
    {
     "data": {
      "text/html": [
       "<pre>| 31112        | 2e+009  | 52.6691     | 22m 2s       |</pre>"
      ],
      "text/plain": [
       "| 31112        | 2e+009  | 52.6691     | 22m 2s       |"
      ]
     },
     "metadata": {},
     "output_type": "display_data"
    },
    {
     "data": {
      "text/html": [
       "<pre>| 31136        | 2e+009  | 52.7109     | 22m 3s       |</pre>"
      ],
      "text/plain": [
       "| 31136        | 2e+009  | 52.7109     | 22m 3s       |"
      ]
     },
     "metadata": {},
     "output_type": "display_data"
    },
    {
     "data": {
      "text/html": [
       "<pre>| 31157        | 2e+009  | 52.746      | 22m 4s       |</pre>"
      ],
      "text/plain": [
       "| 31157        | 2e+009  | 52.746      | 22m 4s       |"
      ]
     },
     "metadata": {},
     "output_type": "display_data"
    },
    {
     "data": {
      "text/html": [
       "<pre>| 31180        | 2e+009  | 52.7845     | 22m 5s       |</pre>"
      ],
      "text/plain": [
       "| 31180        | 2e+009  | 52.7845     | 22m 5s       |"
      ]
     },
     "metadata": {},
     "output_type": "display_data"
    },
    {
     "data": {
      "text/html": [
       "<pre>| 31204        | 2e+009  | 52.8262     | 22m 6s       |</pre>"
      ],
      "text/plain": [
       "| 31204        | 2e+009  | 52.8262     | 22m 6s       |"
      ]
     },
     "metadata": {},
     "output_type": "display_data"
    },
    {
     "data": {
      "text/html": [
       "<pre>| 31229        | 2e+009  | 52.867      | 22m 7s       |</pre>"
      ],
      "text/plain": [
       "| 31229        | 2e+009  | 52.867      | 22m 7s       |"
      ]
     },
     "metadata": {},
     "output_type": "display_data"
    },
    {
     "data": {
      "text/html": [
       "<pre>| 31250        | 2e+009  | 52.9038     | 22m 8s       |</pre>"
      ],
      "text/plain": [
       "| 31250        | 2e+009  | 52.9038     | 22m 8s       |"
      ]
     },
     "metadata": {},
     "output_type": "display_data"
    },
    {
     "data": {
      "text/html": [
       "<pre>| 31275        | 2e+009  | 52.946      | 22m 9s       |</pre>"
      ],
      "text/plain": [
       "| 31275        | 2e+009  | 52.946      | 22m 9s       |"
      ]
     },
     "metadata": {},
     "output_type": "display_data"
    },
    {
     "data": {
      "text/html": [
       "<pre>| 31300        | 2e+009  | 52.9885     | 22m 10s      |</pre>"
      ],
      "text/plain": [
       "| 31300        | 2e+009  | 52.9885     | 22m 10s      |"
      ]
     },
     "metadata": {},
     "output_type": "display_data"
    },
    {
     "data": {
      "text/html": [
       "<pre>| 31326        | 2e+009  | 53.0313     | 22m 11s      |</pre>"
      ],
      "text/plain": [
       "| 31326        | 2e+009  | 53.0313     | 22m 11s      |"
      ]
     },
     "metadata": {},
     "output_type": "display_data"
    },
    {
     "data": {
      "text/html": [
       "<pre>| 31349        | 2e+009  | 53.0703     | 22m 12s      |</pre>"
      ],
      "text/plain": [
       "| 31349        | 2e+009  | 53.0703     | 22m 12s      |"
      ]
     },
     "metadata": {},
     "output_type": "display_data"
    },
    {
     "data": {
      "text/html": [
       "<pre>| 31371        | 2e+009  | 53.1079     | 22m 13s      |</pre>"
      ],
      "text/plain": [
       "| 31371        | 2e+009  | 53.1079     | 22m 13s      |"
      ]
     },
     "metadata": {},
     "output_type": "display_data"
    },
    {
     "data": {
      "text/html": [
       "<pre>| 31396        | 2e+009  | 53.1499     | 22m 14s      |</pre>"
      ],
      "text/plain": [
       "| 31396        | 2e+009  | 53.1499     | 22m 14s      |"
      ]
     },
     "metadata": {},
     "output_type": "display_data"
    },
    {
     "data": {
      "text/html": [
       "<pre>| 31418        | 2e+009  | 53.1883     | 22m 15s      |</pre>"
      ],
      "text/plain": [
       "| 31418        | 2e+009  | 53.1883     | 22m 15s      |"
      ]
     },
     "metadata": {},
     "output_type": "display_data"
    },
    {
     "data": {
      "text/html": [
       "<pre>| 31441        | 2e+009  | 53.227      | 22m 16s      |</pre>"
      ],
      "text/plain": [
       "| 31441        | 2e+009  | 53.227      | 22m 16s      |"
      ]
     },
     "metadata": {},
     "output_type": "display_data"
    },
    {
     "data": {
      "text/html": [
       "<pre>| 31463        | 2e+009  | 53.2638     | 22m 17s      |</pre>"
      ],
      "text/plain": [
       "| 31463        | 2e+009  | 53.2638     | 22m 17s      |"
      ]
     },
     "metadata": {},
     "output_type": "display_data"
    },
    {
     "data": {
      "text/html": [
       "<pre>| 31487        | 2e+009  | 53.3037     | 22m 18s      |</pre>"
      ],
      "text/plain": [
       "| 31487        | 2e+009  | 53.3037     | 22m 18s      |"
      ]
     },
     "metadata": {},
     "output_type": "display_data"
    },
    {
     "data": {
      "text/html": [
       "<pre>| 31508        | 2e+009  | 53.3402     | 22m 19s      |</pre>"
      ],
      "text/plain": [
       "| 31508        | 2e+009  | 53.3402     | 22m 19s      |"
      ]
     },
     "metadata": {},
     "output_type": "display_data"
    },
    {
     "data": {
      "text/html": [
       "<pre>| 31529        | 2e+009  | 53.3764     | 22m 20s      |</pre>"
      ],
      "text/plain": [
       "| 31529        | 2e+009  | 53.3764     | 22m 20s      |"
      ]
     },
     "metadata": {},
     "output_type": "display_data"
    },
    {
     "data": {
      "text/html": [
       "<pre>| 31550        | 2e+009  | 53.4112     | 22m 21s      |</pre>"
      ],
      "text/plain": [
       "| 31550        | 2e+009  | 53.4112     | 22m 21s      |"
      ]
     },
     "metadata": {},
     "output_type": "display_data"
    },
    {
     "data": {
      "text/html": [
       "<pre>| 31572        | 2e+009  | 53.4478     | 22m 22s      |</pre>"
      ],
      "text/plain": [
       "| 31572        | 2e+009  | 53.4478     | 22m 22s      |"
      ]
     },
     "metadata": {},
     "output_type": "display_data"
    },
    {
     "data": {
      "text/html": [
       "<pre>| 31595        | 2e+009  | 53.4875     | 22m 23s      |</pre>"
      ],
      "text/plain": [
       "| 31595        | 2e+009  | 53.4875     | 22m 23s      |"
      ]
     },
     "metadata": {},
     "output_type": "display_data"
    },
    {
     "data": {
      "text/html": [
       "<pre>| 31611        | 2e+009  | 53.5145     | 22m 24s      |</pre>"
      ],
      "text/plain": [
       "| 31611        | 2e+009  | 53.5145     | 22m 24s      |"
      ]
     },
     "metadata": {},
     "output_type": "display_data"
    },
    {
     "data": {
      "text/html": [
       "<pre>| 31629        | 2e+009  | 53.5443     | 22m 25s      |</pre>"
      ],
      "text/plain": [
       "| 31629        | 2e+009  | 53.5443     | 22m 25s      |"
      ]
     },
     "metadata": {},
     "output_type": "display_data"
    },
    {
     "data": {
      "text/html": [
       "<pre>| 31647        | 2e+009  | 53.5757     | 22m 26s      |</pre>"
      ],
      "text/plain": [
       "| 31647        | 2e+009  | 53.5757     | 22m 26s      |"
      ]
     },
     "metadata": {},
     "output_type": "display_data"
    },
    {
     "data": {
      "text/html": [
       "<pre>| 31667        | 2e+009  | 53.6094     | 22m 27s      |</pre>"
      ],
      "text/plain": [
       "| 31667        | 2e+009  | 53.6094     | 22m 27s      |"
      ]
     },
     "metadata": {},
     "output_type": "display_data"
    },
    {
     "data": {
      "text/html": [
       "<pre>| 31692        | 2e+009  | 53.6513     | 22m 28s      |</pre>"
      ],
      "text/plain": [
       "| 31692        | 2e+009  | 53.6513     | 22m 28s      |"
      ]
     },
     "metadata": {},
     "output_type": "display_data"
    },
    {
     "data": {
      "text/html": [
       "<pre>| 31717        | 2e+009  | 53.6941     | 22m 29s      |</pre>"
      ],
      "text/plain": [
       "| 31717        | 2e+009  | 53.6941     | 22m 29s      |"
      ]
     },
     "metadata": {},
     "output_type": "display_data"
    },
    {
     "data": {
      "text/html": [
       "<pre>| 31739        | 2e+009  | 53.7314     | 22m 30s      |</pre>"
      ],
      "text/plain": [
       "| 31739        | 2e+009  | 53.7314     | 22m 30s      |"
      ]
     },
     "metadata": {},
     "output_type": "display_data"
    },
    {
     "data": {
      "text/html": [
       "<pre>| 31764        | 2e+009  | 53.7737     | 22m 31s      |</pre>"
      ],
      "text/plain": [
       "| 31764        | 2e+009  | 53.7737     | 22m 31s      |"
      ]
     },
     "metadata": {},
     "output_type": "display_data"
    },
    {
     "data": {
      "text/html": [
       "<pre>| 31785        | 2e+009  | 53.8097     | 22m 32s      |</pre>"
      ],
      "text/plain": [
       "| 31785        | 2e+009  | 53.8097     | 22m 32s      |"
      ]
     },
     "metadata": {},
     "output_type": "display_data"
    },
    {
     "data": {
      "text/html": [
       "<pre>| 31804        | 2e+009  | 53.8412     | 22m 33s      |</pre>"
      ],
      "text/plain": [
       "| 31804        | 2e+009  | 53.8412     | 22m 33s      |"
      ]
     },
     "metadata": {},
     "output_type": "display_data"
    },
    {
     "data": {
      "text/html": [
       "<pre>| 31820        | 2e+009  | 53.8676     | 22m 34s      |</pre>"
      ],
      "text/plain": [
       "| 31820        | 2e+009  | 53.8676     | 22m 34s      |"
      ]
     },
     "metadata": {},
     "output_type": "display_data"
    },
    {
     "data": {
      "text/html": [
       "<pre>| 31834        | 2e+009  | 53.8921     | 22m 35s      |</pre>"
      ],
      "text/plain": [
       "| 31834        | 2e+009  | 53.8921     | 22m 35s      |"
      ]
     },
     "metadata": {},
     "output_type": "display_data"
    },
    {
     "data": {
      "text/html": [
       "<pre>| 31851        | 2e+009  | 53.9212     | 22m 36s      |</pre>"
      ],
      "text/plain": [
       "| 31851        | 2e+009  | 53.9212     | 22m 36s      |"
      ]
     },
     "metadata": {},
     "output_type": "display_data"
    },
    {
     "data": {
      "text/html": [
       "<pre>| 31867        | 2e+009  | 53.947      | 22m 37s      |</pre>"
      ],
      "text/plain": [
       "| 31867        | 2e+009  | 53.947      | 22m 37s      |"
      ]
     },
     "metadata": {},
     "output_type": "display_data"
    },
    {
     "data": {
      "text/html": [
       "<pre>| 31887        | 2e+009  | 53.9819     | 22m 38s      |</pre>"
      ],
      "text/plain": [
       "| 31887        | 2e+009  | 53.9819     | 22m 38s      |"
      ]
     },
     "metadata": {},
     "output_type": "display_data"
    },
    {
     "data": {
      "text/html": [
       "<pre>| 31910        | 2e+009  | 54.0202     | 22m 39s      |</pre>"
      ],
      "text/plain": [
       "| 31910        | 2e+009  | 54.0202     | 22m 39s      |"
      ]
     },
     "metadata": {},
     "output_type": "display_data"
    },
    {
     "data": {
      "text/html": [
       "<pre>| 31932        | 2e+009  | 54.0584     | 22m 40s      |</pre>"
      ],
      "text/plain": [
       "| 31932        | 2e+009  | 54.0584     | 22m 40s      |"
      ]
     },
     "metadata": {},
     "output_type": "display_data"
    },
    {
     "data": {
      "text/html": [
       "<pre>| 31956        | 2e+009  | 54.099      | 22m 41s      |</pre>"
      ],
      "text/plain": [
       "| 31956        | 2e+009  | 54.099      | 22m 41s      |"
      ]
     },
     "metadata": {},
     "output_type": "display_data"
    },
    {
     "data": {
      "text/html": [
       "<pre>| 31979        | 2e+009  | 54.1366     | 22m 42s      |</pre>"
      ],
      "text/plain": [
       "| 31979        | 2e+009  | 54.1366     | 22m 42s      |"
      ]
     },
     "metadata": {},
     "output_type": "display_data"
    },
    {
     "data": {
      "text/html": [
       "<pre>| 32002        | 2e+009  | 54.1761     | 22m 43s      |</pre>"
      ],
      "text/plain": [
       "| 32002        | 2e+009  | 54.1761     | 22m 43s      |"
      ]
     },
     "metadata": {},
     "output_type": "display_data"
    },
    {
     "data": {
      "text/html": [
       "<pre>| 32025        | 2e+009  | 54.2155     | 22m 44s      |</pre>"
      ],
      "text/plain": [
       "| 32025        | 2e+009  | 54.2155     | 22m 44s      |"
      ]
     },
     "metadata": {},
     "output_type": "display_data"
    },
    {
     "data": {
      "text/html": [
       "<pre>| 32048        | 2e+009  | 54.2547     | 22m 45s      |</pre>"
      ],
      "text/plain": [
       "| 32048        | 2e+009  | 54.2547     | 22m 45s      |"
      ]
     },
     "metadata": {},
     "output_type": "display_data"
    },
    {
     "data": {
      "text/html": [
       "<pre>| 32072        | 2e+009  | 54.2942     | 22m 46s      |</pre>"
      ],
      "text/plain": [
       "| 32072        | 2e+009  | 54.2942     | 22m 46s      |"
      ]
     },
     "metadata": {},
     "output_type": "display_data"
    },
    {
     "data": {
      "text/html": [
       "<pre>| 32094        | 2e+009  | 54.3325     | 22m 47s      |</pre>"
      ],
      "text/plain": [
       "| 32094        | 2e+009  | 54.3325     | 22m 47s      |"
      ]
     },
     "metadata": {},
     "output_type": "display_data"
    },
    {
     "data": {
      "text/html": [
       "<pre>| 32115        | 2e+009  | 54.3679     | 22m 48s      |</pre>"
      ],
      "text/plain": [
       "| 32115        | 2e+009  | 54.3679     | 22m 48s      |"
      ]
     },
     "metadata": {},
     "output_type": "display_data"
    },
    {
     "data": {
      "text/html": [
       "<pre>| 32138        | 2e+009  | 54.4066     | 22m 49s      |</pre>"
      ],
      "text/plain": [
       "| 32138        | 2e+009  | 54.4066     | 22m 49s      |"
      ]
     },
     "metadata": {},
     "output_type": "display_data"
    },
    {
     "data": {
      "text/html": [
       "<pre>| 32161        | 2e+009  | 54.4463     | 22m 50s      |</pre>"
      ],
      "text/plain": [
       "| 32161        | 2e+009  | 54.4463     | 22m 50s      |"
      ]
     },
     "metadata": {},
     "output_type": "display_data"
    },
    {
     "data": {
      "text/html": [
       "<pre>| 32185        | 2e+009  | 54.4857     | 22m 51s      |</pre>"
      ],
      "text/plain": [
       "| 32185        | 2e+009  | 54.4857     | 22m 51s      |"
      ]
     },
     "metadata": {},
     "output_type": "display_data"
    },
    {
     "data": {
      "text/html": [
       "<pre>| 32208        | 2e+009  | 54.5252     | 22m 52s      |</pre>"
      ],
      "text/plain": [
       "| 32208        | 2e+009  | 54.5252     | 22m 52s      |"
      ]
     },
     "metadata": {},
     "output_type": "display_data"
    },
    {
     "data": {
      "text/html": [
       "<pre>| 32232        | 2e+009  | 54.5651     | 22m 53s      |</pre>"
      ],
      "text/plain": [
       "| 32232        | 2e+009  | 54.5651     | 22m 53s      |"
      ]
     },
     "metadata": {},
     "output_type": "display_data"
    },
    {
     "data": {
      "text/html": [
       "<pre>| 32255        | 2e+009  | 54.6047     | 22m 54s      |</pre>"
      ],
      "text/plain": [
       "| 32255        | 2e+009  | 54.6047     | 22m 54s      |"
      ]
     },
     "metadata": {},
     "output_type": "display_data"
    },
    {
     "data": {
      "text/html": [
       "<pre>| 32279        | 2e+009  | 54.6448     | 22m 55s      |</pre>"
      ],
      "text/plain": [
       "| 32279        | 2e+009  | 54.6448     | 22m 55s      |"
      ]
     },
     "metadata": {},
     "output_type": "display_data"
    },
    {
     "data": {
      "text/html": [
       "<pre>| 32302        | 2e+009  | 54.6845     | 22m 56s      |</pre>"
      ],
      "text/plain": [
       "| 32302        | 2e+009  | 54.6845     | 22m 56s      |"
      ]
     },
     "metadata": {},
     "output_type": "display_data"
    },
    {
     "data": {
      "text/html": [
       "<pre>| 32325        | 2e+009  | 54.7237     | 22m 57s      |</pre>"
      ],
      "text/plain": [
       "| 32325        | 2e+009  | 54.7237     | 22m 57s      |"
      ]
     },
     "metadata": {},
     "output_type": "display_data"
    },
    {
     "data": {
      "text/html": [
       "<pre>| 32349        | 2e+009  | 54.7631     | 22m 58s      |</pre>"
      ],
      "text/plain": [
       "| 32349        | 2e+009  | 54.7631     | 22m 58s      |"
      ]
     },
     "metadata": {},
     "output_type": "display_data"
    },
    {
     "data": {
      "text/html": [
       "<pre>| 32371        | 2e+009  | 54.8017     | 22m 59s      |</pre>"
      ],
      "text/plain": [
       "| 32371        | 2e+009  | 54.8017     | 22m 59s      |"
      ]
     },
     "metadata": {},
     "output_type": "display_data"
    },
    {
     "data": {
      "text/html": [
       "<pre>| 32395        | 2e+009  | 54.8419     | 23m 0s       |</pre>"
      ],
      "text/plain": [
       "| 32395        | 2e+009  | 54.8419     | 23m 0s       |"
      ]
     },
     "metadata": {},
     "output_type": "display_data"
    },
    {
     "data": {
      "text/html": [
       "<pre>| 32419        | 2e+009  | 54.8819     | 23m 1s       |</pre>"
      ],
      "text/plain": [
       "| 32419        | 2e+009  | 54.8819     | 23m 1s       |"
      ]
     },
     "metadata": {},
     "output_type": "display_data"
    },
    {
     "data": {
      "text/html": [
       "<pre>| 32442        | 2e+009  | 54.9219     | 23m 2s       |</pre>"
      ],
      "text/plain": [
       "| 32442        | 2e+009  | 54.9219     | 23m 2s       |"
      ]
     },
     "metadata": {},
     "output_type": "display_data"
    },
    {
     "data": {
      "text/html": [
       "<pre>| 32466        | 2e+009  | 54.9617     | 23m 3s       |</pre>"
      ],
      "text/plain": [
       "| 32466        | 2e+009  | 54.9617     | 23m 3s       |"
      ]
     },
     "metadata": {},
     "output_type": "display_data"
    },
    {
     "data": {
      "text/html": [
       "<pre>| 32488        | 2e+009  | 54.9996     | 23m 4s       |</pre>"
      ],
      "text/plain": [
       "| 32488        | 2e+009  | 54.9996     | 23m 4s       |"
      ]
     },
     "metadata": {},
     "output_type": "display_data"
    },
    {
     "data": {
      "text/html": [
       "<pre>| 32512        | 2e+009  | 55.0393     | 23m 5s       |</pre>"
      ],
      "text/plain": [
       "| 32512        | 2e+009  | 55.0393     | 23m 5s       |"
      ]
     },
     "metadata": {},
     "output_type": "display_data"
    },
    {
     "data": {
      "text/html": [
       "<pre>| 32535        | 2e+009  | 55.0785     | 23m 6s       |</pre>"
      ],
      "text/plain": [
       "| 32535        | 2e+009  | 55.0785     | 23m 6s       |"
      ]
     },
     "metadata": {},
     "output_type": "display_data"
    },
    {
     "data": {
      "text/html": [
       "<pre>| 32558        | 2e+009  | 55.1182     | 23m 7s       |</pre>"
      ],
      "text/plain": [
       "| 32558        | 2e+009  | 55.1182     | 23m 7s       |"
      ]
     },
     "metadata": {},
     "output_type": "display_data"
    },
    {
     "data": {
      "text/html": [
       "<pre>| 32578        | 2e+009  | 55.1522     | 23m 8s       |</pre>"
      ],
      "text/plain": [
       "| 32578        | 2e+009  | 55.1522     | 23m 8s       |"
      ]
     },
     "metadata": {},
     "output_type": "display_data"
    },
    {
     "data": {
      "text/html": [
       "<pre>| 32599        | 2e+009  | 55.187      | 23m 9s       |</pre>"
      ],
      "text/plain": [
       "| 32599        | 2e+009  | 55.187      | 23m 9s       |"
      ]
     },
     "metadata": {},
     "output_type": "display_data"
    },
    {
     "data": {
      "text/html": [
       "<pre>| 32620        | 2e+009  | 55.2228     | 23m 10s      |</pre>"
      ],
      "text/plain": [
       "| 32620        | 2e+009  | 55.2228     | 23m 10s      |"
      ]
     },
     "metadata": {},
     "output_type": "display_data"
    },
    {
     "data": {
      "text/html": [
       "<pre>| 32644        | 2e+009  | 55.2627     | 23m 11s      |</pre>"
      ],
      "text/plain": [
       "| 32644        | 2e+009  | 55.2627     | 23m 11s      |"
      ]
     },
     "metadata": {},
     "output_type": "display_data"
    },
    {
     "data": {
      "text/html": [
       "<pre>| 32667        | 2e+009  | 55.302      | 23m 12s      |</pre>"
      ],
      "text/plain": [
       "| 32667        | 2e+009  | 55.302      | 23m 12s      |"
      ]
     },
     "metadata": {},
     "output_type": "display_data"
    },
    {
     "data": {
      "text/html": [
       "<pre>| 32690        | 2e+009  | 55.3411     | 23m 13s      |</pre>"
      ],
      "text/plain": [
       "| 32690        | 2e+009  | 55.3411     | 23m 13s      |"
      ]
     },
     "metadata": {},
     "output_type": "display_data"
    },
    {
     "data": {
      "text/html": [
       "<pre>| 32713        | 2e+009  | 55.3807     | 23m 14s      |</pre>"
      ],
      "text/plain": [
       "| 32713        | 2e+009  | 55.3807     | 23m 14s      |"
      ]
     },
     "metadata": {},
     "output_type": "display_data"
    },
    {
     "data": {
      "text/html": [
       "<pre>| 32737        | 2e+009  | 55.4198     | 23m 15s      |</pre>"
      ],
      "text/plain": [
       "| 32737        | 2e+009  | 55.4198     | 23m 15s      |"
      ]
     },
     "metadata": {},
     "output_type": "display_data"
    },
    {
     "data": {
      "text/html": [
       "<pre>| 32760        | 2e+009  | 55.459      | 23m 16s      |</pre>"
      ],
      "text/plain": [
       "| 32760        | 2e+009  | 55.459      | 23m 16s      |"
      ]
     },
     "metadata": {},
     "output_type": "display_data"
    },
    {
     "data": {
      "text/html": [
       "<pre>| 32784        | 2e+009  | 55.4995     | 23m 17s      |</pre>"
      ],
      "text/plain": [
       "| 32784        | 2e+009  | 55.4995     | 23m 17s      |"
      ]
     },
     "metadata": {},
     "output_type": "display_data"
    },
    {
     "data": {
      "text/html": [
       "<pre>| 32806        | 2e+009  | 55.5382     | 23m 18s      |</pre>"
      ],
      "text/plain": [
       "| 32806        | 2e+009  | 55.5382     | 23m 18s      |"
      ]
     },
     "metadata": {},
     "output_type": "display_data"
    },
    {
     "data": {
      "text/html": [
       "<pre>| 32830        | 2e+009  | 55.5779     | 23m 19s      |</pre>"
      ],
      "text/plain": [
       "| 32830        | 2e+009  | 55.5779     | 23m 19s      |"
      ]
     },
     "metadata": {},
     "output_type": "display_data"
    },
    {
     "data": {
      "text/html": [
       "<pre>| 32853        | 2e+009  | 55.6175     | 23m 20s      |</pre>"
      ],
      "text/plain": [
       "| 32853        | 2e+009  | 55.6175     | 23m 20s      |"
      ]
     },
     "metadata": {},
     "output_type": "display_data"
    },
    {
     "data": {
      "text/html": [
       "<pre>| 32877        | 2e+009  | 55.6579     | 23m 21s      |</pre>"
      ],
      "text/plain": [
       "| 32877        | 2e+009  | 55.6579     | 23m 21s      |"
      ]
     },
     "metadata": {},
     "output_type": "display_data"
    },
    {
     "data": {
      "text/html": [
       "<pre>| 32901        | 2e+009  | 55.6985     | 23m 22s      |</pre>"
      ],
      "text/plain": [
       "| 32901        | 2e+009  | 55.6985     | 23m 22s      |"
      ]
     },
     "metadata": {},
     "output_type": "display_data"
    },
    {
     "data": {
      "text/html": [
       "<pre>| 32924        | 2e+009  | 55.7366     | 23m 23s      |</pre>"
      ],
      "text/plain": [
       "| 32924        | 2e+009  | 55.7366     | 23m 23s      |"
      ]
     },
     "metadata": {},
     "output_type": "display_data"
    },
    {
     "data": {
      "text/html": [
       "<pre>| 32946        | 2e+009  | 55.7751     | 23m 24s      |</pre>"
      ],
      "text/plain": [
       "| 32946        | 2e+009  | 55.7751     | 23m 24s      |"
      ]
     },
     "metadata": {},
     "output_type": "display_data"
    },
    {
     "data": {
      "text/html": [
       "<pre>| 32970        | 2e+009  | 55.8149     | 23m 25s      |</pre>"
      ],
      "text/plain": [
       "| 32970        | 2e+009  | 55.8149     | 23m 25s      |"
      ]
     },
     "metadata": {},
     "output_type": "display_data"
    },
    {
     "data": {
      "text/html": [
       "<pre>| 32993        | 2e+009  | 55.8539     | 23m 26s      |</pre>"
      ],
      "text/plain": [
       "| 32993        | 2e+009  | 55.8539     | 23m 26s      |"
      ]
     },
     "metadata": {},
     "output_type": "display_data"
    },
    {
     "data": {
      "text/html": [
       "<pre>| 33016        | 2e+009  | 55.8928     | 23m 27s      |</pre>"
      ],
      "text/plain": [
       "| 33016        | 2e+009  | 55.8928     | 23m 27s      |"
      ]
     },
     "metadata": {},
     "output_type": "display_data"
    },
    {
     "data": {
      "text/html": [
       "<pre>| 33039        | 2e+009  | 55.9325     | 23m 28s      |</pre>"
      ],
      "text/plain": [
       "| 33039        | 2e+009  | 55.9325     | 23m 28s      |"
      ]
     },
     "metadata": {},
     "output_type": "display_data"
    },
    {
     "data": {
      "text/html": [
       "<pre>| 33062        | 2e+009  | 55.9709     | 23m 29s      |</pre>"
      ],
      "text/plain": [
       "| 33062        | 2e+009  | 55.9709     | 23m 29s      |"
      ]
     },
     "metadata": {},
     "output_type": "display_data"
    },
    {
     "data": {
      "text/html": [
       "<pre>| 33086        | 2e+009  | 56.011      | 23m 30s      |</pre>"
      ],
      "text/plain": [
       "| 33086        | 2e+009  | 56.011      | 23m 30s      |"
      ]
     },
     "metadata": {},
     "output_type": "display_data"
    },
    {
     "data": {
      "text/html": [
       "<pre>| 33109        | 2e+009  | 56.0511     | 23m 31s      |</pre>"
      ],
      "text/plain": [
       "| 33109        | 2e+009  | 56.0511     | 23m 31s      |"
      ]
     },
     "metadata": {},
     "output_type": "display_data"
    },
    {
     "data": {
      "text/html": [
       "<pre>| 33133        | 2e+009  | 56.0911     | 23m 32s      |</pre>"
      ],
      "text/plain": [
       "| 33133        | 2e+009  | 56.0911     | 23m 32s      |"
      ]
     },
     "metadata": {},
     "output_type": "display_data"
    },
    {
     "data": {
      "text/html": [
       "<pre>| 33157        | 2e+009  | 56.1311     | 23m 33s      |</pre>"
      ],
      "text/plain": [
       "| 33157        | 2e+009  | 56.1311     | 23m 33s      |"
      ]
     },
     "metadata": {},
     "output_type": "display_data"
    },
    {
     "data": {
      "text/html": [
       "<pre>| 33177        | 2e+009  | 56.1657     | 23m 34s      |</pre>"
      ],
      "text/plain": [
       "| 33177        | 2e+009  | 56.1657     | 23m 34s      |"
      ]
     },
     "metadata": {},
     "output_type": "display_data"
    },
    {
     "data": {
      "text/html": [
       "<pre>| 33196        | 2e+009  | 56.1982     | 23m 35s      |</pre>"
      ],
      "text/plain": [
       "| 33196        | 2e+009  | 56.1982     | 23m 35s      |"
      ]
     },
     "metadata": {},
     "output_type": "display_data"
    },
    {
     "data": {
      "text/html": [
       "<pre>| 33215        | 2e+009  | 56.2297     | 23m 36s      |</pre>"
      ],
      "text/plain": [
       "| 33215        | 2e+009  | 56.2297     | 23m 36s      |"
      ]
     },
     "metadata": {},
     "output_type": "display_data"
    },
    {
     "data": {
      "text/html": [
       "<pre>| 33233        | 2e+009  | 56.2596     | 23m 37s      |</pre>"
      ],
      "text/plain": [
       "| 33233        | 2e+009  | 56.2596     | 23m 37s      |"
      ]
     },
     "metadata": {},
     "output_type": "display_data"
    },
    {
     "data": {
      "text/html": [
       "<pre>| 33258        | 2e+009  | 56.3031     | 23m 38s      |</pre>"
      ],
      "text/plain": [
       "| 33258        | 2e+009  | 56.3031     | 23m 38s      |"
      ]
     },
     "metadata": {},
     "output_type": "display_data"
    },
    {
     "data": {
      "text/html": [
       "<pre>| 33283        | 2e+009  | 56.3445     | 23m 39s      |</pre>"
      ],
      "text/plain": [
       "| 33283        | 2e+009  | 56.3445     | 23m 39s      |"
      ]
     },
     "metadata": {},
     "output_type": "display_data"
    },
    {
     "data": {
      "text/html": [
       "<pre>| 33308        | 2e+009  | 56.3866     | 23m 40s      |</pre>"
      ],
      "text/plain": [
       "| 33308        | 2e+009  | 56.3866     | 23m 40s      |"
      ]
     },
     "metadata": {},
     "output_type": "display_data"
    },
    {
     "data": {
      "text/html": [
       "<pre>| 33333        | 2e+009  | 56.4288     | 23m 41s      |</pre>"
      ],
      "text/plain": [
       "| 33333        | 2e+009  | 56.4288     | 23m 41s      |"
      ]
     },
     "metadata": {},
     "output_type": "display_data"
    },
    {
     "data": {
      "text/html": [
       "<pre>| 33357        | 2e+009  | 56.4698     | 23m 42s      |</pre>"
      ],
      "text/plain": [
       "| 33357        | 2e+009  | 56.4698     | 23m 42s      |"
      ]
     },
     "metadata": {},
     "output_type": "display_data"
    },
    {
     "data": {
      "text/html": [
       "<pre>| 33381        | 2e+009  | 56.5108     | 23m 43s      |</pre>"
      ],
      "text/plain": [
       "| 33381        | 2e+009  | 56.5108     | 23m 43s      |"
      ]
     },
     "metadata": {},
     "output_type": "display_data"
    },
    {
     "data": {
      "text/html": [
       "<pre>| 33405        | 2e+009  | 56.5521     | 23m 44s      |</pre>"
      ],
      "text/plain": [
       "| 33405        | 2e+009  | 56.5521     | 23m 44s      |"
      ]
     },
     "metadata": {},
     "output_type": "display_data"
    },
    {
     "data": {
      "text/html": [
       "<pre>| 33430        | 2e+009  | 56.5929     | 23m 45s      |</pre>"
      ],
      "text/plain": [
       "| 33430        | 2e+009  | 56.5929     | 23m 45s      |"
      ]
     },
     "metadata": {},
     "output_type": "display_data"
    },
    {
     "data": {
      "text/html": [
       "<pre>| 33454        | 2e+009  | 56.634      | 23m 46s      |</pre>"
      ],
      "text/plain": [
       "| 33454        | 2e+009  | 56.634      | 23m 46s      |"
      ]
     },
     "metadata": {},
     "output_type": "display_data"
    },
    {
     "data": {
      "text/html": [
       "<pre>| 33478        | 2e+009  | 56.6747     | 23m 47s      |</pre>"
      ],
      "text/plain": [
       "| 33478        | 2e+009  | 56.6747     | 23m 47s      |"
      ]
     },
     "metadata": {},
     "output_type": "display_data"
    },
    {
     "data": {
      "text/html": [
       "<pre>| 33502        | 2e+009  | 56.7151     | 23m 48s      |</pre>"
      ],
      "text/plain": [
       "| 33502        | 2e+009  | 56.7151     | 23m 48s      |"
      ]
     },
     "metadata": {},
     "output_type": "display_data"
    },
    {
     "data": {
      "text/html": [
       "<pre>| 33526        | 2e+009  | 56.7562     | 23m 49s      |</pre>"
      ],
      "text/plain": [
       "| 33526        | 2e+009  | 56.7562     | 23m 49s      |"
      ]
     },
     "metadata": {},
     "output_type": "display_data"
    },
    {
     "data": {
      "text/html": [
       "<pre>| 33550        | 2e+009  | 56.7967     | 23m 50s      |</pre>"
      ],
      "text/plain": [
       "| 33550        | 2e+009  | 56.7967     | 23m 50s      |"
      ]
     },
     "metadata": {},
     "output_type": "display_data"
    },
    {
     "data": {
      "text/html": [
       "<pre>| 33574        | 2e+009  | 56.8379     | 23m 51s      |</pre>"
      ],
      "text/plain": [
       "| 33574        | 2e+009  | 56.8379     | 23m 51s      |"
      ]
     },
     "metadata": {},
     "output_type": "display_data"
    },
    {
     "data": {
      "text/html": [
       "<pre>| 33598        | 2e+009  | 56.8784     | 23m 52s      |</pre>"
      ],
      "text/plain": [
       "| 33598        | 2e+009  | 56.8784     | 23m 52s      |"
      ]
     },
     "metadata": {},
     "output_type": "display_data"
    },
    {
     "data": {
      "text/html": [
       "<pre>| 33622        | 2e+009  | 56.9189     | 23m 53s      |</pre>"
      ],
      "text/plain": [
       "| 33622        | 2e+009  | 56.9189     | 23m 53s      |"
      ]
     },
     "metadata": {},
     "output_type": "display_data"
    },
    {
     "data": {
      "text/html": [
       "<pre>| 33646        | 2e+009  | 56.9593     | 23m 54s      |</pre>"
      ],
      "text/plain": [
       "| 33646        | 2e+009  | 56.9593     | 23m 54s      |"
      ]
     },
     "metadata": {},
     "output_type": "display_data"
    },
    {
     "data": {
      "text/html": [
       "<pre>| 33670        | 2e+009  | 57.0001     | 23m 55s      |</pre>"
      ],
      "text/plain": [
       "| 33670        | 2e+009  | 57.0001     | 23m 55s      |"
      ]
     },
     "metadata": {},
     "output_type": "display_data"
    },
    {
     "data": {
      "text/html": [
       "<pre>| 33694        | 2e+009  | 57.0404     | 23m 56s      |</pre>"
      ],
      "text/plain": [
       "| 33694        | 2e+009  | 57.0404     | 23m 56s      |"
      ]
     },
     "metadata": {},
     "output_type": "display_data"
    },
    {
     "data": {
      "text/html": [
       "<pre>| 33718        | 2e+009  | 57.0812     | 23m 57s      |</pre>"
      ],
      "text/plain": [
       "| 33718        | 2e+009  | 57.0812     | 23m 57s      |"
      ]
     },
     "metadata": {},
     "output_type": "display_data"
    },
    {
     "data": {
      "text/html": [
       "<pre>| 33742        | 2e+009  | 57.1213     | 23m 58s      |</pre>"
      ],
      "text/plain": [
       "| 33742        | 2e+009  | 57.1213     | 23m 58s      |"
      ]
     },
     "metadata": {},
     "output_type": "display_data"
    },
    {
     "data": {
      "text/html": [
       "<pre>| 33765        | 2e+009  | 57.1613     | 23m 59s      |</pre>"
      ],
      "text/plain": [
       "| 33765        | 2e+009  | 57.1613     | 23m 59s      |"
      ]
     },
     "metadata": {},
     "output_type": "display_data"
    },
    {
     "data": {
      "text/html": [
       "<pre>| 33789        | 2e+009  | 57.2015     | 24m 0s       |</pre>"
      ],
      "text/plain": [
       "| 33789        | 2e+009  | 57.2015     | 24m 0s       |"
      ]
     },
     "metadata": {},
     "output_type": "display_data"
    },
    {
     "data": {
      "text/html": [
       "<pre>| 33813        | 2e+009  | 57.2419     | 24m 1s       |</pre>"
      ],
      "text/plain": [
       "| 33813        | 2e+009  | 57.2419     | 24m 1s       |"
      ]
     },
     "metadata": {},
     "output_type": "display_data"
    },
    {
     "data": {
      "text/html": [
       "<pre>| 33836        | 2e+009  | 57.2813     | 24m 2s       |</pre>"
      ],
      "text/plain": [
       "| 33836        | 2e+009  | 57.2813     | 24m 2s       |"
      ]
     },
     "metadata": {},
     "output_type": "display_data"
    },
    {
     "data": {
      "text/html": [
       "<pre>| 33860        |         | 57.3216     | 24m 3s       |</pre>"
      ],
      "text/plain": [
       "| 33860        |         | 57.3216     | 24m 3s       |"
      ]
     },
     "metadata": {},
     "output_type": "display_data"
    },
    {
     "data": {
      "text/html": [
       "<pre>| 33884        | 2e+009  | 57.3615     | 24m 4s       |</pre>"
      ],
      "text/plain": [
       "| 33884        | 2e+009  | 57.3615     | 24m 4s       |"
      ]
     },
     "metadata": {},
     "output_type": "display_data"
    },
    {
     "data": {
      "text/html": [
       "<pre>| 33907        | 2e+009  | 57.402      | 24m 5s       |</pre>"
      ],
      "text/plain": [
       "| 33907        | 2e+009  | 57.402      | 24m 5s       |"
      ]
     },
     "metadata": {},
     "output_type": "display_data"
    },
    {
     "data": {
      "text/html": [
       "<pre>| 33931        | 2e+009  | 57.4422     | 24m 6s       |</pre>"
      ],
      "text/plain": [
       "| 33931        | 2e+009  | 57.4422     | 24m 6s       |"
      ]
     },
     "metadata": {},
     "output_type": "display_data"
    },
    {
     "data": {
      "text/html": [
       "<pre>| 33955        | 2e+009  | 57.4824     | 24m 7s       |</pre>"
      ],
      "text/plain": [
       "| 33955        | 2e+009  | 57.4824     | 24m 7s       |"
      ]
     },
     "metadata": {},
     "output_type": "display_data"
    },
    {
     "data": {
      "text/html": [
       "<pre>| 33978        | 2e+009  | 57.5222     | 24m 8s       |</pre>"
      ],
      "text/plain": [
       "| 33978        | 2e+009  | 57.5222     | 24m 8s       |"
      ]
     },
     "metadata": {},
     "output_type": "display_data"
    },
    {
     "data": {
      "text/html": [
       "<pre>| 34002        | 2e+009  | 57.5625     | 24m 9s       |</pre>"
      ],
      "text/plain": [
       "| 34002        | 2e+009  | 57.5625     | 24m 9s       |"
      ]
     },
     "metadata": {},
     "output_type": "display_data"
    },
    {
     "data": {
      "text/html": [
       "<pre>| 34027        | 2e+009  | 57.6037     | 24m 10s      |</pre>"
      ],
      "text/plain": [
       "| 34027        | 2e+009  | 57.6037     | 24m 10s      |"
      ]
     },
     "metadata": {},
     "output_type": "display_data"
    },
    {
     "data": {
      "text/html": [
       "<pre>| 34050        | 2e+009  | 57.6434     | 24m 11s      |</pre>"
      ],
      "text/plain": [
       "| 34050        | 2e+009  | 57.6434     | 24m 11s      |"
      ]
     },
     "metadata": {},
     "output_type": "display_data"
    },
    {
     "data": {
      "text/html": [
       "<pre>| 34074        | 2e+009  | 57.6838     | 24m 12s      |</pre>"
      ],
      "text/plain": [
       "| 34074        | 2e+009  | 57.6838     | 24m 12s      |"
      ]
     },
     "metadata": {},
     "output_type": "display_data"
    },
    {
     "data": {
      "text/html": [
       "<pre>| 34098        | 2e+009  | 57.7241     | 24m 13s      |</pre>"
      ],
      "text/plain": [
       "| 34098        | 2e+009  | 57.7241     | 24m 13s      |"
      ]
     },
     "metadata": {},
     "output_type": "display_data"
    },
    {
     "data": {
      "text/html": [
       "<pre>| 34121        | 2e+009  | 57.7639     | 24m 14s      |</pre>"
      ],
      "text/plain": [
       "| 34121        | 2e+009  | 57.7639     | 24m 14s      |"
      ]
     },
     "metadata": {},
     "output_type": "display_data"
    },
    {
     "data": {
      "text/html": [
       "<pre>| 34144        | 2e+009  | 57.8032     | 24m 15s      |</pre>"
      ],
      "text/plain": [
       "| 34144        | 2e+009  | 57.8032     | 24m 15s      |"
      ]
     },
     "metadata": {},
     "output_type": "display_data"
    },
    {
     "data": {
      "text/html": [
       "<pre>| 34168        | 2e+009  | 57.8428     | 24m 16s      |</pre>"
      ],
      "text/plain": [
       "| 34168        | 2e+009  | 57.8428     | 24m 16s      |"
      ]
     },
     "metadata": {},
     "output_type": "display_data"
    },
    {
     "data": {
      "text/html": [
       "<pre>| 34191        | 2e+009  | 57.8821     | 24m 17s      |</pre>"
      ],
      "text/plain": [
       "| 34191        | 2e+009  | 57.8821     | 24m 17s      |"
      ]
     },
     "metadata": {},
     "output_type": "display_data"
    },
    {
     "data": {
      "text/html": [
       "<pre>| 34215        | 2e+009  | 57.9224     | 24m 18s      |</pre>"
      ],
      "text/plain": [
       "| 34215        | 2e+009  | 57.9224     | 24m 18s      |"
      ]
     },
     "metadata": {},
     "output_type": "display_data"
    },
    {
     "data": {
      "text/html": [
       "<pre>| 34239        | 2e+009  | 57.9627     | 24m 19s      |</pre>"
      ],
      "text/plain": [
       "| 34239        | 2e+009  | 57.9627     | 24m 19s      |"
      ]
     },
     "metadata": {},
     "output_type": "display_data"
    },
    {
     "data": {
      "text/html": [
       "<pre>| 34262        | 2e+009  | 58.0022     | 24m 20s      |</pre>"
      ],
      "text/plain": [
       "| 34262        | 2e+009  | 58.0022     | 24m 20s      |"
      ]
     },
     "metadata": {},
     "output_type": "display_data"
    },
    {
     "data": {
      "text/html": [
       "<pre>| 34286        | 2e+009  | 58.0426     | 24m 21s      |</pre>"
      ],
      "text/plain": [
       "| 34286        | 2e+009  | 58.0426     | 24m 21s      |"
      ]
     },
     "metadata": {},
     "output_type": "display_data"
    },
    {
     "data": {
      "text/html": [
       "<pre>| 34309        | 2e+009  | 58.0821     | 24m 22s      |</pre>"
      ],
      "text/plain": [
       "| 34309        | 2e+009  | 58.0821     | 24m 22s      |"
      ]
     },
     "metadata": {},
     "output_type": "display_data"
    },
    {
     "data": {
      "text/html": [
       "<pre>| 34333        | 2e+009  | 58.1224     | 24m 23s      |</pre>"
      ],
      "text/plain": [
       "| 34333        | 2e+009  | 58.1224     | 24m 23s      |"
      ]
     },
     "metadata": {},
     "output_type": "display_data"
    },
    {
     "data": {
      "text/html": [
       "<pre>| 34357        | 2e+009  | 58.1625     | 24m 24s      |</pre>"
      ],
      "text/plain": [
       "| 34357        | 2e+009  | 58.1625     | 24m 24s      |"
      ]
     },
     "metadata": {},
     "output_type": "display_data"
    },
    {
     "data": {
      "text/html": [
       "<pre>| 34380        | 2e+009  | 58.2019     | 24m 25s      |</pre>"
      ],
      "text/plain": [
       "| 34380        | 2e+009  | 58.2019     | 24m 25s      |"
      ]
     },
     "metadata": {},
     "output_type": "display_data"
    },
    {
     "data": {
      "text/html": [
       "<pre>| 34403        | 2e+009  | 58.2415     | 24m 26s      |</pre>"
      ],
      "text/plain": [
       "| 34403        | 2e+009  | 58.2415     | 24m 26s      |"
      ]
     },
     "metadata": {},
     "output_type": "display_data"
    },
    {
     "data": {
      "text/html": [
       "<pre>| 34427        | 2e+009  | 58.2822     | 24m 27s      |</pre>"
      ],
      "text/plain": [
       "| 34427        | 2e+009  | 58.2822     | 24m 27s      |"
      ]
     },
     "metadata": {},
     "output_type": "display_data"
    },
    {
     "data": {
      "text/html": [
       "<pre>| 34451        | 2e+009  | 58.3221     | 24m 28s      |</pre>"
      ],
      "text/plain": [
       "| 34451        | 2e+009  | 58.3221     | 24m 28s      |"
      ]
     },
     "metadata": {},
     "output_type": "display_data"
    },
    {
     "data": {
      "text/html": [
       "<pre>| 34475        | 2e+009  | 58.3627     | 24m 29s      |</pre>"
      ],
      "text/plain": [
       "| 34475        | 2e+009  | 58.3627     | 24m 29s      |"
      ]
     },
     "metadata": {},
     "output_type": "display_data"
    },
    {
     "data": {
      "text/html": [
       "<pre>| 34497        | 2e+009  | 58.4006     | 24m 30s      |</pre>"
      ],
      "text/plain": [
       "| 34497        | 2e+009  | 58.4006     | 24m 30s      |"
      ]
     },
     "metadata": {},
     "output_type": "display_data"
    },
    {
     "data": {
      "text/html": [
       "<pre>| 34521        | 2e+009  | 58.4406     | 24m 31s      |</pre>"
      ],
      "text/plain": [
       "| 34521        | 2e+009  | 58.4406     | 24m 31s      |"
      ]
     },
     "metadata": {},
     "output_type": "display_data"
    },
    {
     "data": {
      "text/html": [
       "<pre>| 34545        | 2e+009  | 58.4809     | 24m 32s      |</pre>"
      ],
      "text/plain": [
       "| 34545        | 2e+009  | 58.4809     | 24m 32s      |"
      ]
     },
     "metadata": {},
     "output_type": "display_data"
    },
    {
     "data": {
      "text/html": [
       "<pre>| 34569        | 2e+009  | 58.5212     | 24m 33s      |</pre>"
      ],
      "text/plain": [
       "| 34569        | 2e+009  | 58.5212     | 24m 33s      |"
      ]
     },
     "metadata": {},
     "output_type": "display_data"
    },
    {
     "data": {
      "text/html": [
       "<pre>| 34592        | 2e+009  | 58.5612     | 24m 34s      |</pre>"
      ],
      "text/plain": [
       "| 34592        | 2e+009  | 58.5612     | 24m 34s      |"
      ]
     },
     "metadata": {},
     "output_type": "display_data"
    },
    {
     "data": {
      "text/html": [
       "<pre>| 34615        | 2e+009  | 58.6003     | 24m 35s      |</pre>"
      ],
      "text/plain": [
       "| 34615        | 2e+009  | 58.6003     | 24m 35s      |"
      ]
     },
     "metadata": {},
     "output_type": "display_data"
    },
    {
     "data": {
      "text/html": [
       "<pre>| 34638        | 2e+009  | 58.6395     | 24m 36s      |</pre>"
      ],
      "text/plain": [
       "| 34638        | 2e+009  | 58.6395     | 24m 36s      |"
      ]
     },
     "metadata": {},
     "output_type": "display_data"
    },
    {
     "data": {
      "text/html": [
       "<pre>| 34662        | 2e+009  | 58.6797     | 24m 37s      |</pre>"
      ],
      "text/plain": [
       "| 34662        | 2e+009  | 58.6797     | 24m 37s      |"
      ]
     },
     "metadata": {},
     "output_type": "display_data"
    },
    {
     "data": {
      "text/html": [
       "<pre>| 34686        | 2e+009  | 58.7202     | 24m 38s      |</pre>"
      ],
      "text/plain": [
       "| 34686        | 2e+009  | 58.7202     | 24m 38s      |"
      ]
     },
     "metadata": {},
     "output_type": "display_data"
    },
    {
     "data": {
      "text/html": [
       "<pre>| 34710        | 2e+009  | 58.7605     | 24m 39s      |</pre>"
      ],
      "text/plain": [
       "| 34710        | 2e+009  | 58.7605     | 24m 39s      |"
      ]
     },
     "metadata": {},
     "output_type": "display_data"
    },
    {
     "data": {
      "text/html": [
       "<pre>| 34734        | 2e+009  | 58.8008     | 24m 40s      |</pre>"
      ],
      "text/plain": [
       "| 34734        | 2e+009  | 58.8008     | 24m 40s      |"
      ]
     },
     "metadata": {},
     "output_type": "display_data"
    },
    {
     "data": {
      "text/html": [
       "<pre>| 34758        | 2e+009  | 58.8412     | 24m 41s      |</pre>"
      ],
      "text/plain": [
       "| 34758        | 2e+009  | 58.8412     | 24m 41s      |"
      ]
     },
     "metadata": {},
     "output_type": "display_data"
    },
    {
     "data": {
      "text/html": [
       "<pre>| 34781        | 2e+009  | 58.8812     | 24m 42s      |</pre>"
      ],
      "text/plain": [
       "| 34781        | 2e+009  | 58.8812     | 24m 42s      |"
      ]
     },
     "metadata": {},
     "output_type": "display_data"
    },
    {
     "data": {
      "text/html": [
       "<pre>| 34804        | 2e+009  | 58.9206     | 24m 43s      |</pre>"
      ],
      "text/plain": [
       "| 34804        | 2e+009  | 58.9206     | 24m 43s      |"
      ]
     },
     "metadata": {},
     "output_type": "display_data"
    },
    {
     "data": {
      "text/html": [
       "<pre>| 34827        | 2e+009  | 58.9591     | 24m 44s      |</pre>"
      ],
      "text/plain": [
       "| 34827        | 2e+009  | 58.9591     | 24m 44s      |"
      ]
     },
     "metadata": {},
     "output_type": "display_data"
    },
    {
     "data": {
      "text/html": [
       "<pre>| 34850        | 2e+009  | 58.9973     | 24m 45s      |</pre>"
      ],
      "text/plain": [
       "| 34850        | 2e+009  | 58.9973     | 24m 45s      |"
      ]
     },
     "metadata": {},
     "output_type": "display_data"
    },
    {
     "data": {
      "text/html": [
       "<pre>| 34873        | 2e+009  | 59.0374     | 24m 46s      |</pre>"
      ],
      "text/plain": [
       "| 34873        | 2e+009  | 59.0374     | 24m 46s      |"
      ]
     },
     "metadata": {},
     "output_type": "display_data"
    },
    {
     "data": {
      "text/html": [
       "<pre>| 34897        | 2e+009  | 59.0772     | 24m 47s      |</pre>"
      ],
      "text/plain": [
       "| 34897        | 2e+009  | 59.0772     | 24m 47s      |"
      ]
     },
     "metadata": {},
     "output_type": "display_data"
    },
    {
     "data": {
      "text/html": [
       "<pre>| 34920        | 2e+009  | 59.1163     | 24m 48s      |</pre>"
      ],
      "text/plain": [
       "| 34920        | 2e+009  | 59.1163     | 24m 48s      |"
      ]
     },
     "metadata": {},
     "output_type": "display_data"
    },
    {
     "data": {
      "text/html": [
       "<pre>| 34943        | 2e+009  | 59.1549     | 24m 49s      |</pre>"
      ],
      "text/plain": [
       "| 34943        | 2e+009  | 59.1549     | 24m 49s      |"
      ]
     },
     "metadata": {},
     "output_type": "display_data"
    },
    {
     "data": {
      "text/html": [
       "<pre>| 34967        | 2e+009  | 59.1949     | 24m 50s      |</pre>"
      ],
      "text/plain": [
       "| 34967        | 2e+009  | 59.1949     | 24m 50s      |"
      ]
     },
     "metadata": {},
     "output_type": "display_data"
    },
    {
     "data": {
      "text/html": [
       "<pre>| 34990        | 2e+009  | 59.2347     | 24m 51s      |</pre>"
      ],
      "text/plain": [
       "| 34990        | 2e+009  | 59.2347     | 24m 51s      |"
      ]
     },
     "metadata": {},
     "output_type": "display_data"
    },
    {
     "data": {
      "text/html": [
       "<pre>| 35014        | 2e+009  | 59.2746     | 24m 52s      |</pre>"
      ],
      "text/plain": [
       "| 35014        | 2e+009  | 59.2746     | 24m 52s      |"
      ]
     },
     "metadata": {},
     "output_type": "display_data"
    },
    {
     "data": {
      "text/html": [
       "<pre>| 35037        | 2e+009  | 59.3141     | 24m 53s      |</pre>"
      ],
      "text/plain": [
       "| 35037        | 2e+009  | 59.3141     | 24m 53s      |"
      ]
     },
     "metadata": {},
     "output_type": "display_data"
    },
    {
     "data": {
      "text/html": [
       "<pre>| 35061        | 2e+009  | 59.3545     | 24m 54s      |</pre>"
      ],
      "text/plain": [
       "| 35061        | 2e+009  | 59.3545     | 24m 54s      |"
      ]
     },
     "metadata": {},
     "output_type": "display_data"
    },
    {
     "data": {
      "text/html": [
       "<pre>| 35084        | 2e+009  | 59.3937     | 24m 55s      |</pre>"
      ],
      "text/plain": [
       "| 35084        | 2e+009  | 59.3937     | 24m 55s      |"
      ]
     },
     "metadata": {},
     "output_type": "display_data"
    },
    {
     "data": {
      "text/html": [
       "<pre>| 35108        | 2e+009  | 59.4337     | 24m 56s      |</pre>"
      ],
      "text/plain": [
       "| 35108        | 2e+009  | 59.4337     | 24m 56s      |"
      ]
     },
     "metadata": {},
     "output_type": "display_data"
    },
    {
     "data": {
      "text/html": [
       "<pre>| 35131        | 2e+009  | 59.4734     | 24m 57s      |</pre>"
      ],
      "text/plain": [
       "| 35131        | 2e+009  | 59.4734     | 24m 57s      |"
      ]
     },
     "metadata": {},
     "output_type": "display_data"
    },
    {
     "data": {
      "text/html": [
       "<pre>| 35154        | 2e+009  | 59.5125     | 24m 58s      |</pre>"
      ],
      "text/plain": [
       "| 35154        | 2e+009  | 59.5125     | 24m 58s      |"
      ]
     },
     "metadata": {},
     "output_type": "display_data"
    },
    {
     "data": {
      "text/html": [
       "<pre>| 35177        | 2e+009  | 59.5519     | 24m 59s      |</pre>"
      ],
      "text/plain": [
       "| 35177        | 2e+009  | 59.5519     | 24m 59s      |"
      ]
     },
     "metadata": {},
     "output_type": "display_data"
    },
    {
     "data": {
      "text/html": [
       "<pre>| 35200        | 2e+009  | 59.5906     | 25m 0s       |</pre>"
      ],
      "text/plain": [
       "| 35200        | 2e+009  | 59.5906     | 25m 0s       |"
      ]
     },
     "metadata": {},
     "output_type": "display_data"
    },
    {
     "data": {
      "text/html": [
       "<pre>| 35224        | 2e+009  | 59.6311     | 25m 1s       |</pre>"
      ],
      "text/plain": [
       "| 35224        | 2e+009  | 59.6311     | 25m 1s       |"
      ]
     },
     "metadata": {},
     "output_type": "display_data"
    },
    {
     "data": {
      "text/html": [
       "<pre>| 35248        | 2e+009  | 59.6709     | 25m 2s       |</pre>"
      ],
      "text/plain": [
       "| 35248        | 2e+009  | 59.6709     | 25m 2s       |"
      ]
     },
     "metadata": {},
     "output_type": "display_data"
    },
    {
     "data": {
      "text/html": [
       "<pre>| 35271        | 2e+009  | 59.7104     | 25m 3s       |</pre>"
      ],
      "text/plain": [
       "| 35271        | 2e+009  | 59.7104     | 25m 3s       |"
      ]
     },
     "metadata": {},
     "output_type": "display_data"
    },
    {
     "data": {
      "text/html": [
       "<pre>| 35295        | 2e+009  | 59.7505     | 25m 4s       |</pre>"
      ],
      "text/plain": [
       "| 35295        | 2e+009  | 59.7505     | 25m 4s       |"
      ]
     },
     "metadata": {},
     "output_type": "display_data"
    },
    {
     "data": {
      "text/html": [
       "<pre>| 35318        | 2e+009  | 59.7898     | 25m 5s       |</pre>"
      ],
      "text/plain": [
       "| 35318        | 2e+009  | 59.7898     | 25m 5s       |"
      ]
     },
     "metadata": {},
     "output_type": "display_data"
    },
    {
     "data": {
      "text/html": [
       "<pre>| 35342        | 2e+009  | 59.8303     | 25m 6s       |</pre>"
      ],
      "text/plain": [
       "| 35342        | 2e+009  | 59.8303     | 25m 6s       |"
      ]
     },
     "metadata": {},
     "output_type": "display_data"
    },
    {
     "data": {
      "text/html": [
       "<pre>| 35365        | 2e+009  | 59.8703     | 25m 7s       |</pre>"
      ],
      "text/plain": [
       "| 35365        | 2e+009  | 59.8703     | 25m 7s       |"
      ]
     },
     "metadata": {},
     "output_type": "display_data"
    },
    {
     "data": {
      "text/html": [
       "<pre>| 35388        | 2e+009  | 59.9091     | 25m 8s       |</pre>"
      ],
      "text/plain": [
       "| 35388        | 2e+009  | 59.9091     | 25m 8s       |"
      ]
     },
     "metadata": {},
     "output_type": "display_data"
    },
    {
     "data": {
      "text/html": [
       "<pre>| 35412        | 2e+009  | 59.9489     | 25m 9s       |</pre>"
      ],
      "text/plain": [
       "| 35412        | 2e+009  | 59.9489     | 25m 9s       |"
      ]
     },
     "metadata": {},
     "output_type": "display_data"
    },
    {
     "data": {
      "text/html": [
       "<pre>| 35436        | 2e+009  | 59.9894     | 25m 10s      |</pre>"
      ],
      "text/plain": [
       "| 35436        | 2e+009  | 59.9894     | 25m 10s      |"
      ]
     },
     "metadata": {},
     "output_type": "display_data"
    },
    {
     "data": {
      "text/html": [
       "<pre>| 35459        | 2e+009  | 60.0289     | 25m 11s      |</pre>"
      ],
      "text/plain": [
       "| 35459        | 2e+009  | 60.0289     | 25m 11s      |"
      ]
     },
     "metadata": {},
     "output_type": "display_data"
    },
    {
     "data": {
      "text/html": [
       "<pre>| 35482        | 2e+009  | 60.0675     | 25m 12s      |</pre>"
      ],
      "text/plain": [
       "| 35482        | 2e+009  | 60.0675     | 25m 12s      |"
      ]
     },
     "metadata": {},
     "output_type": "display_data"
    },
    {
     "data": {
      "text/html": [
       "<pre>| 35506        | 2e+009  | 60.1075     | 25m 13s      |</pre>"
      ],
      "text/plain": [
       "| 35506        | 2e+009  | 60.1075     | 25m 13s      |"
      ]
     },
     "metadata": {},
     "output_type": "display_data"
    },
    {
     "data": {
      "text/html": [
       "<pre>| 35529        | 2e+009  | 60.1475     | 25m 14s      |</pre>"
      ],
      "text/plain": [
       "| 35529        | 2e+009  | 60.1475     | 25m 14s      |"
      ]
     },
     "metadata": {},
     "output_type": "display_data"
    },
    {
     "data": {
      "text/html": [
       "<pre>| 35552        | 2e+009  | 60.1864     | 25m 15s      |</pre>"
      ],
      "text/plain": [
       "| 35552        | 2e+009  | 60.1864     | 25m 15s      |"
      ]
     },
     "metadata": {},
     "output_type": "display_data"
    },
    {
     "data": {
      "text/html": [
       "<pre>| 35576        | 2e+009  | 60.2263     | 25m 16s      |</pre>"
      ],
      "text/plain": [
       "| 35576        | 2e+009  | 60.2263     | 25m 16s      |"
      ]
     },
     "metadata": {},
     "output_type": "display_data"
    },
    {
     "data": {
      "text/html": [
       "<pre>| 35599        | 2e+009  | 60.2661     | 25m 17s      |</pre>"
      ],
      "text/plain": [
       "| 35599        | 2e+009  | 60.2661     | 25m 17s      |"
      ]
     },
     "metadata": {},
     "output_type": "display_data"
    },
    {
     "data": {
      "text/html": [
       "<pre>| 35623        | 2e+009  | 60.3057     | 25m 18s      |</pre>"
      ],
      "text/plain": [
       "| 35623        | 2e+009  | 60.3057     | 25m 18s      |"
      ]
     },
     "metadata": {},
     "output_type": "display_data"
    },
    {
     "data": {
      "text/html": [
       "<pre>| 35646        | 2e+009  | 60.3454     | 25m 19s      |</pre>"
      ],
      "text/plain": [
       "| 35646        | 2e+009  | 60.3454     | 25m 19s      |"
      ]
     },
     "metadata": {},
     "output_type": "display_data"
    },
    {
     "data": {
      "text/html": [
       "<pre>| 35669        | 2e+009  | 60.3849     | 25m 20s      |</pre>"
      ],
      "text/plain": [
       "| 35669        | 2e+009  | 60.3849     | 25m 20s      |"
      ]
     },
     "metadata": {},
     "output_type": "display_data"
    },
    {
     "data": {
      "text/html": [
       "<pre>| 35693        | 2e+009  | 60.4251     | 25m 21s      |</pre>"
      ],
      "text/plain": [
       "| 35693        | 2e+009  | 60.4251     | 25m 21s      |"
      ]
     },
     "metadata": {},
     "output_type": "display_data"
    },
    {
     "data": {
      "text/html": [
       "<pre>| 35717        | 2e+009  | 60.4649     | 25m 22s      |</pre>"
      ],
      "text/plain": [
       "| 35717        | 2e+009  | 60.4649     | 25m 22s      |"
      ]
     },
     "metadata": {},
     "output_type": "display_data"
    },
    {
     "data": {
      "text/html": [
       "<pre>| 35740        | 2e+009  | 60.5045     | 25m 23s      |</pre>"
      ],
      "text/plain": [
       "| 35740        | 2e+009  | 60.5045     | 25m 23s      |"
      ]
     },
     "metadata": {},
     "output_type": "display_data"
    },
    {
     "data": {
      "text/html": [
       "<pre>| 35764        | 2e+009  | 60.5445     | 25m 24s      |</pre>"
      ],
      "text/plain": [
       "| 35764        | 2e+009  | 60.5445     | 25m 24s      |"
      ]
     },
     "metadata": {},
     "output_type": "display_data"
    },
    {
     "data": {
      "text/html": [
       "<pre>| 35787        | 2e+009  | 60.5845     | 25m 25s      |</pre>"
      ],
      "text/plain": [
       "| 35787        | 2e+009  | 60.5845     | 25m 25s      |"
      ]
     },
     "metadata": {},
     "output_type": "display_data"
    },
    {
     "data": {
      "text/html": [
       "<pre>| 35811        | 2e+009  | 60.6248     | 25m 26s      |</pre>"
      ],
      "text/plain": [
       "| 35811        | 2e+009  | 60.6248     | 25m 26s      |"
      ]
     },
     "metadata": {},
     "output_type": "display_data"
    },
    {
     "data": {
      "text/html": [
       "<pre>| 35834        | 2e+009  | 60.6635     | 25m 27s      |</pre>"
      ],
      "text/plain": [
       "| 35834        | 2e+009  | 60.6635     | 25m 27s      |"
      ]
     },
     "metadata": {},
     "output_type": "display_data"
    },
    {
     "data": {
      "text/html": [
       "<pre>| 35857        | 2e+009  | 60.703      | 25m 28s      |</pre>"
      ],
      "text/plain": [
       "| 35857        | 2e+009  | 60.703      | 25m 28s      |"
      ]
     },
     "metadata": {},
     "output_type": "display_data"
    },
    {
     "data": {
      "text/html": [
       "<pre>| 35881        | 2e+009  | 60.7431     | 25m 29s      |</pre>"
      ],
      "text/plain": [
       "| 35881        | 2e+009  | 60.7431     | 25m 29s      |"
      ]
     },
     "metadata": {},
     "output_type": "display_data"
    },
    {
     "data": {
      "text/html": [
       "<pre>| 35904        | 2e+009  | 60.7825     | 25m 30s      |</pre>"
      ],
      "text/plain": [
       "| 35904        | 2e+009  | 60.7825     | 25m 30s      |"
      ]
     },
     "metadata": {},
     "output_type": "display_data"
    },
    {
     "data": {
      "text/html": [
       "<pre>| 35928        | 2e+009  | 60.822      | 25m 31s      |</pre>"
      ],
      "text/plain": [
       "| 35928        | 2e+009  | 60.822      | 25m 31s      |"
      ]
     },
     "metadata": {},
     "output_type": "display_data"
    },
    {
     "data": {
      "text/html": [
       "<pre>| 35951        | 2e+009  | 60.8616     | 25m 32s      |</pre>"
      ],
      "text/plain": [
       "| 35951        | 2e+009  | 60.8616     | 25m 32s      |"
      ]
     },
     "metadata": {},
     "output_type": "display_data"
    },
    {
     "data": {
      "text/html": [
       "<pre>| 35975        | 2e+009  | 60.9015     | 25m 33s      |</pre>"
      ],
      "text/plain": [
       "| 35975        | 2e+009  | 60.9015     | 25m 33s      |"
      ]
     },
     "metadata": {},
     "output_type": "display_data"
    },
    {
     "data": {
      "text/html": [
       "<pre>| 35998        | 2e+009  | 60.941      | 25m 34s      |</pre>"
      ],
      "text/plain": [
       "| 35998        | 2e+009  | 60.941      | 25m 34s      |"
      ]
     },
     "metadata": {},
     "output_type": "display_data"
    },
    {
     "data": {
      "text/html": [
       "<pre>| 36021        | 2e+009  | 60.9805     | 25m 35s      |</pre>"
      ],
      "text/plain": [
       "| 36021        | 2e+009  | 60.9805     | 25m 35s      |"
      ]
     },
     "metadata": {},
     "output_type": "display_data"
    },
    {
     "data": {
      "text/html": [
       "<pre>| 36044        | 2e+009  | 61.0198     | 25m 36s      |</pre>"
      ],
      "text/plain": [
       "| 36044        | 2e+009  | 61.0198     | 25m 36s      |"
      ]
     },
     "metadata": {},
     "output_type": "display_data"
    },
    {
     "data": {
      "text/html": [
       "<pre>| 36067        | 2e+009  | 61.0585     | 25m 37s      |</pre>"
      ],
      "text/plain": [
       "| 36067        | 2e+009  | 61.0585     | 25m 37s      |"
      ]
     },
     "metadata": {},
     "output_type": "display_data"
    },
    {
     "data": {
      "text/html": [
       "<pre>| 36091        | 2e+009  | 61.098      | 25m 38s      |</pre>"
      ],
      "text/plain": [
       "| 36091        | 2e+009  | 61.098      | 25m 38s      |"
      ]
     },
     "metadata": {},
     "output_type": "display_data"
    },
    {
     "data": {
      "text/html": [
       "<pre>| 36114        | 2e+009  | 61.1377     | 25m 39s      |</pre>"
      ],
      "text/plain": [
       "| 36114        | 2e+009  | 61.1377     | 25m 39s      |"
      ]
     },
     "metadata": {},
     "output_type": "display_data"
    },
    {
     "data": {
      "text/html": [
       "<pre>| 36138        | 2e+009  | 61.1774     | 25m 40s      |</pre>"
      ],
      "text/plain": [
       "| 36138        | 2e+009  | 61.1774     | 25m 40s      |"
      ]
     },
     "metadata": {},
     "output_type": "display_data"
    },
    {
     "data": {
      "text/html": [
       "<pre>| 36161        | 2e+009  | 61.217      | 25m 41s      |</pre>"
      ],
      "text/plain": [
       "| 36161        | 2e+009  | 61.217      | 25m 41s      |"
      ]
     },
     "metadata": {},
     "output_type": "display_data"
    },
    {
     "data": {
      "text/html": [
       "<pre>| 36185        | 2e+009  | 61.2571     | 25m 42s      |</pre>"
      ],
      "text/plain": [
       "| 36185        | 2e+009  | 61.2571     | 25m 42s      |"
      ]
     },
     "metadata": {},
     "output_type": "display_data"
    },
    {
     "data": {
      "text/html": [
       "<pre>| 36208        | 2e+009  | 61.2961     | 25m 43s      |</pre>"
      ],
      "text/plain": [
       "| 36208        | 2e+009  | 61.2961     | 25m 43s      |"
      ]
     },
     "metadata": {},
     "output_type": "display_data"
    },
    {
     "data": {
      "text/html": [
       "<pre>| 36231        | 2e+009  | 61.3362     | 25m 44s      |</pre>"
      ],
      "text/plain": [
       "| 36231        | 2e+009  | 61.3362     | 25m 44s      |"
      ]
     },
     "metadata": {},
     "output_type": "display_data"
    },
    {
     "data": {
      "text/html": [
       "<pre>| 36255        | 2e+009  | 61.3757     | 25m 45s      |</pre>"
      ],
      "text/plain": [
       "| 36255        | 2e+009  | 61.3757     | 25m 45s      |"
      ]
     },
     "metadata": {},
     "output_type": "display_data"
    },
    {
     "data": {
      "text/html": [
       "<pre>| 36278        | 2e+009  | 61.4154     | 25m 46s      |</pre>"
      ],
      "text/plain": [
       "| 36278        | 2e+009  | 61.4154     | 25m 46s      |"
      ]
     },
     "metadata": {},
     "output_type": "display_data"
    },
    {
     "data": {
      "text/html": [
       "<pre>| 36301        | 2e+009  | 61.4548     | 25m 47s      |</pre>"
      ],
      "text/plain": [
       "| 36301        | 2e+009  | 61.4548     | 25m 47s      |"
      ]
     },
     "metadata": {},
     "output_type": "display_data"
    },
    {
     "data": {
      "text/html": [
       "<pre>| 36325        | 2e+009  | 61.4941     | 25m 48s      |</pre>"
      ],
      "text/plain": [
       "| 36325        | 2e+009  | 61.4941     | 25m 48s      |"
      ]
     },
     "metadata": {},
     "output_type": "display_data"
    },
    {
     "data": {
      "text/html": [
       "<pre>| 36348        | 2e+009  | 61.5337     | 25m 49s      |</pre>"
      ],
      "text/plain": [
       "| 36348        | 2e+009  | 61.5337     | 25m 49s      |"
      ]
     },
     "metadata": {},
     "output_type": "display_data"
    },
    {
     "data": {
      "text/html": [
       "<pre>| 36372        | -2e+009 | 61.5736     | 25m 50s      |</pre>"
      ],
      "text/plain": [
       "| 36372        | -2e+009 | 61.5736     | 25m 50s      |"
      ]
     },
     "metadata": {},
     "output_type": "display_data"
    },
    {
     "data": {
      "text/html": [
       "<pre>| 36395        | -2e+009 | 61.6134     | 25m 51s      |</pre>"
      ],
      "text/plain": [
       "| 36395        | -2e+009 | 61.6134     | 25m 51s      |"
      ]
     },
     "metadata": {},
     "output_type": "display_data"
    },
    {
     "data": {
      "text/html": [
       "<pre>| 36418        | -2e+009 | 61.6525     | 25m 52s      |</pre>"
      ],
      "text/plain": [
       "| 36418        | -2e+009 | 61.6525     | 25m 52s      |"
      ]
     },
     "metadata": {},
     "output_type": "display_data"
    },
    {
     "data": {
      "text/html": [
       "<pre>| 36441        | -2e+009 | 61.6915     | 25m 53s      |</pre>"
      ],
      "text/plain": [
       "| 36441        | -2e+009 | 61.6915     | 25m 53s      |"
      ]
     },
     "metadata": {},
     "output_type": "display_data"
    },
    {
     "data": {
      "text/html": [
       "<pre>| 36465        | -2e+009 | 61.7314     | 25m 54s      |</pre>"
      ],
      "text/plain": [
       "| 36465        | -2e+009 | 61.7314     | 25m 54s      |"
      ]
     },
     "metadata": {},
     "output_type": "display_data"
    },
    {
     "data": {
      "text/html": [
       "<pre>| 36488        | -2e+009 | 61.771      | 25m 55s      |</pre>"
      ],
      "text/plain": [
       "| 36488        | -2e+009 | 61.771      | 25m 55s      |"
      ]
     },
     "metadata": {},
     "output_type": "display_data"
    },
    {
     "data": {
      "text/html": [
       "<pre>| 36512        | -2e+009 | 61.8108     | 25m 56s      |</pre>"
      ],
      "text/plain": [
       "| 36512        | -2e+009 | 61.8108     | 25m 56s      |"
      ]
     },
     "metadata": {},
     "output_type": "display_data"
    },
    {
     "data": {
      "text/html": [
       "<pre>| 36535        | -2e+009 | 61.851      | 25m 57s      |</pre>"
      ],
      "text/plain": [
       "| 36535        | -2e+009 | 61.851      | 25m 57s      |"
      ]
     },
     "metadata": {},
     "output_type": "display_data"
    },
    {
     "data": {
      "text/html": [
       "<pre>| 36559        | -2e+009 | 61.8906     | 25m 58s      |</pre>"
      ],
      "text/plain": [
       "| 36559        | -2e+009 | 61.8906     | 25m 58s      |"
      ]
     },
     "metadata": {},
     "output_type": "display_data"
    },
    {
     "data": {
      "text/html": [
       "<pre>| 36582        | -2e+009 | 61.9302     | 25m 59s      |</pre>"
      ],
      "text/plain": [
       "| 36582        | -2e+009 | 61.9302     | 25m 59s      |"
      ]
     },
     "metadata": {},
     "output_type": "display_data"
    },
    {
     "data": {
      "text/html": [
       "<pre>| 36606        | -2e+009 | 61.9697     | 26m 0s       |</pre>"
      ],
      "text/plain": [
       "| 36606        | -2e+009 | 61.9697     | 26m 0s       |"
      ]
     },
     "metadata": {},
     "output_type": "display_data"
    },
    {
     "data": {
      "text/html": [
       "<pre>| 36629        | -2e+009 | 62.0095     | 26m 1s       |</pre>"
      ],
      "text/plain": [
       "| 36629        | -2e+009 | 62.0095     | 26m 1s       |"
      ]
     },
     "metadata": {},
     "output_type": "display_data"
    },
    {
     "data": {
      "text/html": [
       "<pre>| 36652        | -2e+009 | 62.0485     | 26m 2s       |</pre>"
      ],
      "text/plain": [
       "| 36652        | -2e+009 | 62.0485     | 26m 2s       |"
      ]
     },
     "metadata": {},
     "output_type": "display_data"
    },
    {
     "data": {
      "text/html": [
       "<pre>| 36675        | -2e+009 | 62.0876     | 26m 3s       |</pre>"
      ],
      "text/plain": [
       "| 36675        | -2e+009 | 62.0876     | 26m 3s       |"
      ]
     },
     "metadata": {},
     "output_type": "display_data"
    },
    {
     "data": {
      "text/html": [
       "<pre>| 36699        | -2e+009 | 62.1275     | 26m 4s       |</pre>"
      ],
      "text/plain": [
       "| 36699        | -2e+009 | 62.1275     | 26m 4s       |"
      ]
     },
     "metadata": {},
     "output_type": "display_data"
    },
    {
     "data": {
      "text/html": [
       "<pre>| 36722        | -2e+009 | 62.1668     | 26m 5s       |</pre>"
      ],
      "text/plain": [
       "| 36722        | -2e+009 | 62.1668     | 26m 5s       |"
      ]
     },
     "metadata": {},
     "output_type": "display_data"
    },
    {
     "data": {
      "text/html": [
       "<pre>| 36745        | -2e+009 | 62.2062     | 26m 6s       |</pre>"
      ],
      "text/plain": [
       "| 36745        | -2e+009 | 62.2062     | 26m 6s       |"
      ]
     },
     "metadata": {},
     "output_type": "display_data"
    },
    {
     "data": {
      "text/html": [
       "<pre>| 36768        | -2e+009 | 62.2453     | 26m 7s       |</pre>"
      ],
      "text/plain": [
       "| 36768        | -2e+009 | 62.2453     | 26m 7s       |"
      ]
     },
     "metadata": {},
     "output_type": "display_data"
    },
    {
     "data": {
      "text/html": [
       "<pre>| 36792        | -2e+009 | 62.2848     | 26m 8s       |</pre>"
      ],
      "text/plain": [
       "| 36792        | -2e+009 | 62.2848     | 26m 8s       |"
      ]
     },
     "metadata": {},
     "output_type": "display_data"
    },
    {
     "data": {
      "text/html": [
       "<pre>| 36815        | -2e+009 | 62.324      | 26m 9s       |</pre>"
      ],
      "text/plain": [
       "| 36815        | -2e+009 | 62.324      | 26m 9s       |"
      ]
     },
     "metadata": {},
     "output_type": "display_data"
    },
    {
     "data": {
      "text/html": [
       "<pre>| 36838        | -2e+009 | 62.3638     | 26m 10s      |</pre>"
      ],
      "text/plain": [
       "| 36838        | -2e+009 | 62.3638     | 26m 10s      |"
      ]
     },
     "metadata": {},
     "output_type": "display_data"
    },
    {
     "data": {
      "text/html": [
       "<pre>| 36860        | -2e+009 | 62.4009     | 26m 11s      |</pre>"
      ],
      "text/plain": [
       "| 36860        | -2e+009 | 62.4009     | 26m 11s      |"
      ]
     },
     "metadata": {},
     "output_type": "display_data"
    },
    {
     "data": {
      "text/html": [
       "<pre>| 36879        | -2e+009 | 62.4327     | 26m 12s      |</pre>"
      ],
      "text/plain": [
       "| 36879        | -2e+009 | 62.4327     | 26m 12s      |"
      ]
     },
     "metadata": {},
     "output_type": "display_data"
    },
    {
     "data": {
      "text/html": [
       "<pre>| 36898        | -2e+009 | 62.4643     | 26m 13s      |</pre>"
      ],
      "text/plain": [
       "| 36898        | -2e+009 | 62.4643     | 26m 13s      |"
      ]
     },
     "metadata": {},
     "output_type": "display_data"
    },
    {
     "data": {
      "text/html": [
       "<pre>| 36916        | -2e+009 | 62.4946     | 26m 14s      |</pre>"
      ],
      "text/plain": [
       "| 36916        | -2e+009 | 62.4946     | 26m 14s      |"
      ]
     },
     "metadata": {},
     "output_type": "display_data"
    },
    {
     "data": {
      "text/html": [
       "<pre>| 36934        | -2e+009 | 62.5262     | 26m 15s      |</pre>"
      ],
      "text/plain": [
       "| 36934        | -2e+009 | 62.5262     | 26m 15s      |"
      ]
     },
     "metadata": {},
     "output_type": "display_data"
    },
    {
     "data": {
      "text/html": [
       "<pre>| 36959        | -2e+009 | 62.5686     | 26m 16s      |</pre>"
      ],
      "text/plain": [
       "| 36959        | -2e+009 | 62.5686     | 26m 16s      |"
      ]
     },
     "metadata": {},
     "output_type": "display_data"
    },
    {
     "data": {
      "text/html": [
       "<pre>| 36984        | -2e+009 | 62.6107     | 26m 17s      |</pre>"
      ],
      "text/plain": [
       "| 36984        | -2e+009 | 62.6107     | 26m 17s      |"
      ]
     },
     "metadata": {},
     "output_type": "display_data"
    },
    {
     "data": {
      "text/html": [
       "<pre>| 37009        | -2e+009 | 62.6526     | 26m 18s      |</pre>"
      ],
      "text/plain": [
       "| 37009        | -2e+009 | 62.6526     | 26m 18s      |"
      ]
     },
     "metadata": {},
     "output_type": "display_data"
    },
    {
     "data": {
      "text/html": [
       "<pre>| 37033        | -2e+009 | 62.693      | 26m 19s      |</pre>"
      ],
      "text/plain": [
       "| 37033        | -2e+009 | 62.693      | 26m 19s      |"
      ]
     },
     "metadata": {},
     "output_type": "display_data"
    },
    {
     "data": {
      "text/html": [
       "<pre>| 37058        | -2e+009 | 62.7347     | 26m 20s      |</pre>"
      ],
      "text/plain": [
       "| 37058        | -2e+009 | 62.7347     | 26m 20s      |"
      ]
     },
     "metadata": {},
     "output_type": "display_data"
    },
    {
     "data": {
      "text/html": [
       "<pre>| 37082        | -2e+009 | 62.7763     | 26m 21s      |</pre>"
      ],
      "text/plain": [
       "| 37082        | -2e+009 | 62.7763     | 26m 21s      |"
      ]
     },
     "metadata": {},
     "output_type": "display_data"
    },
    {
     "data": {
      "text/html": [
       "<pre>| 37106        | -2e+009 | 62.8175     | 26m 22s      |</pre>"
      ],
      "text/plain": [
       "| 37106        | -2e+009 | 62.8175     | 26m 22s      |"
      ]
     },
     "metadata": {},
     "output_type": "display_data"
    },
    {
     "data": {
      "text/html": [
       "<pre>| 37131        | -2e+009 | 62.8588     | 26m 23s      |</pre>"
      ],
      "text/plain": [
       "| 37131        | -2e+009 | 62.8588     | 26m 23s      |"
      ]
     },
     "metadata": {},
     "output_type": "display_data"
    },
    {
     "data": {
      "text/html": [
       "<pre>| 37154        | -2e+009 | 62.8986     | 26m 24s      |</pre>"
      ],
      "text/plain": [
       "| 37154        | -2e+009 | 62.8986     | 26m 24s      |"
      ]
     },
     "metadata": {},
     "output_type": "display_data"
    },
    {
     "data": {
      "text/html": [
       "<pre>| 37177        | -2e+009 | 62.9363     | 26m 25s      |</pre>"
      ],
      "text/plain": [
       "| 37177        | -2e+009 | 62.9363     | 26m 25s      |"
      ]
     },
     "metadata": {},
     "output_type": "display_data"
    },
    {
     "data": {
      "text/html": [
       "<pre>| 37199        | -2e+009 | 62.9737     | 26m 26s      |</pre>"
      ],
      "text/plain": [
       "| 37199        | -2e+009 | 62.9737     | 26m 26s      |"
      ]
     },
     "metadata": {},
     "output_type": "display_data"
    },
    {
     "data": {
      "text/html": [
       "<pre>| 37223        | -2e+009 | 63.015      | 26m 27s      |</pre>"
      ],
      "text/plain": [
       "| 37223        | -2e+009 | 63.015      | 26m 27s      |"
      ]
     },
     "metadata": {},
     "output_type": "display_data"
    },
    {
     "data": {
      "text/html": [
       "<pre>| 37247        | -2e+009 | 63.0555     | 26m 28s      |</pre>"
      ],
      "text/plain": [
       "| 37247        | -2e+009 | 63.0555     | 26m 28s      |"
      ]
     },
     "metadata": {},
     "output_type": "display_data"
    },
    {
     "data": {
      "text/html": [
       "<pre>| 37271        | -2e+009 | 63.0964     | 26m 29s      |</pre>"
      ],
      "text/plain": [
       "| 37271        | -2e+009 | 63.0964     | 26m 29s      |"
      ]
     },
     "metadata": {},
     "output_type": "display_data"
    },
    {
     "data": {
      "text/html": [
       "<pre>| 37295        | -2e+009 | 63.137      | 26m 30s      |</pre>"
      ],
      "text/plain": [
       "| 37295        | -2e+009 | 63.137      | 26m 30s      |"
      ]
     },
     "metadata": {},
     "output_type": "display_data"
    },
    {
     "data": {
      "text/html": [
       "<pre>| 37319        | -2e+009 | 63.1775     | 26m 31s      |</pre>"
      ],
      "text/plain": [
       "| 37319        | -2e+009 | 63.1775     | 26m 31s      |"
      ]
     },
     "metadata": {},
     "output_type": "display_data"
    },
    {
     "data": {
      "text/html": [
       "<pre>| 37343        | -2e+009 | 63.2183     | 26m 32s      |</pre>"
      ],
      "text/plain": [
       "| 37343        | -2e+009 | 63.2183     | 26m 32s      |"
      ]
     },
     "metadata": {},
     "output_type": "display_data"
    },
    {
     "data": {
      "text/html": [
       "<pre>| 37367        | -2e+009 | 63.259      | 26m 33s      |</pre>"
      ],
      "text/plain": [
       "| 37367        | -2e+009 | 63.259      | 26m 33s      |"
      ]
     },
     "metadata": {},
     "output_type": "display_data"
    },
    {
     "data": {
      "text/html": [
       "<pre>| 37391        | -2e+009 | 63.2991     | 26m 34s      |</pre>"
      ],
      "text/plain": [
       "| 37391        | -2e+009 | 63.2991     | 26m 34s      |"
      ]
     },
     "metadata": {},
     "output_type": "display_data"
    },
    {
     "data": {
      "text/html": [
       "<pre>| 37415        | -2e+009 | 63.3397     | 26m 35s      |</pre>"
      ],
      "text/plain": [
       "| 37415        | -2e+009 | 63.3397     | 26m 35s      |"
      ]
     },
     "metadata": {},
     "output_type": "display_data"
    },
    {
     "data": {
      "text/html": [
       "<pre>| 37439        | -2e+009 | 63.3799     | 26m 36s      |</pre>"
      ],
      "text/plain": [
       "| 37439        | -2e+009 | 63.3799     | 26m 36s      |"
      ]
     },
     "metadata": {},
     "output_type": "display_data"
    },
    {
     "data": {
      "text/html": [
       "<pre>| 37463        | -2e+009 | 63.4203     | 26m 37s      |</pre>"
      ],
      "text/plain": [
       "| 37463        | -2e+009 | 63.4203     | 26m 37s      |"
      ]
     },
     "metadata": {},
     "output_type": "display_data"
    },
    {
     "data": {
      "text/html": [
       "<pre>| 37486        | -2e+009 | 63.4607     | 26m 38s      |</pre>"
      ],
      "text/plain": [
       "| 37486        | -2e+009 | 63.4607     | 26m 38s      |"
      ]
     },
     "metadata": {},
     "output_type": "display_data"
    },
    {
     "data": {
      "text/html": [
       "<pre>| 37510        | -2e+009 | 63.5004     | 26m 39s      |</pre>"
      ],
      "text/plain": [
       "| 37510        | -2e+009 | 63.5004     | 26m 39s      |"
      ]
     },
     "metadata": {},
     "output_type": "display_data"
    },
    {
     "data": {
      "text/html": [
       "<pre>| 37534        | -2e+009 | 63.5412     | 26m 40s      |</pre>"
      ],
      "text/plain": [
       "| 37534        | -2e+009 | 63.5412     | 26m 40s      |"
      ]
     },
     "metadata": {},
     "output_type": "display_data"
    },
    {
     "data": {
      "text/html": [
       "<pre>| 37558        | -2e+009 | 63.5819     | 26m 41s      |</pre>"
      ],
      "text/plain": [
       "| 37558        | -2e+009 | 63.5819     | 26m 41s      |"
      ]
     },
     "metadata": {},
     "output_type": "display_data"
    },
    {
     "data": {
      "text/html": [
       "<pre>| 37582        | -2e+009 | 63.6227     | 26m 42s      |</pre>"
      ],
      "text/plain": [
       "| 37582        | -2e+009 | 63.6227     | 26m 42s      |"
      ]
     },
     "metadata": {},
     "output_type": "display_data"
    },
    {
     "data": {
      "text/html": [
       "<pre>| 37606        | -2e+009 | 63.6626     | 26m 43s      |</pre>"
      ],
      "text/plain": [
       "| 37606        | -2e+009 | 63.6626     | 26m 43s      |"
      ]
     },
     "metadata": {},
     "output_type": "display_data"
    },
    {
     "data": {
      "text/html": [
       "<pre>| 37630        | -2e+009 | 63.7036     | 26m 44s      |</pre>"
      ],
      "text/plain": [
       "| 37630        | -2e+009 | 63.7036     | 26m 44s      |"
      ]
     },
     "metadata": {},
     "output_type": "display_data"
    },
    {
     "data": {
      "text/html": [
       "<pre>| 37653        | -2e+009 | 63.7435     | 26m 45s      |</pre>"
      ],
      "text/plain": [
       "| 37653        | -2e+009 | 63.7435     | 26m 45s      |"
      ]
     },
     "metadata": {},
     "output_type": "display_data"
    },
    {
     "data": {
      "text/html": [
       "<pre>| 37677        | -2e+009 | 63.784      | 26m 46s      |</pre>"
      ],
      "text/plain": [
       "| 37677        | -2e+009 | 63.784      | 26m 46s      |"
      ]
     },
     "metadata": {},
     "output_type": "display_data"
    },
    {
     "data": {
      "text/html": [
       "<pre>| 37702        | -2e+009 | 63.8249     | 26m 47s      |</pre>"
      ],
      "text/plain": [
       "| 37702        | -2e+009 | 63.8249     | 26m 47s      |"
      ]
     },
     "metadata": {},
     "output_type": "display_data"
    },
    {
     "data": {
      "text/html": [
       "<pre>| 37725        | -2e+009 | 63.8648     | 26m 48s      |</pre>"
      ],
      "text/plain": [
       "| 37725        | -2e+009 | 63.8648     | 26m 48s      |"
      ]
     },
     "metadata": {},
     "output_type": "display_data"
    },
    {
     "data": {
      "text/html": [
       "<pre>| 37749        | -2e+009 | 63.9051     | 26m 49s      |</pre>"
      ],
      "text/plain": [
       "| 37749        | -2e+009 | 63.9051     | 26m 49s      |"
      ]
     },
     "metadata": {},
     "output_type": "display_data"
    },
    {
     "data": {
      "text/html": [
       "<pre>| 37773        | -2e+009 | 63.9455     | 26m 50s      |</pre>"
      ],
      "text/plain": [
       "| 37773        | -2e+009 | 63.9455     | 26m 50s      |"
      ]
     },
     "metadata": {},
     "output_type": "display_data"
    },
    {
     "data": {
      "text/html": [
       "<pre>| 37797        | -2e+009 | 63.9862     | 26m 51s      |</pre>"
      ],
      "text/plain": [
       "| 37797        | -2e+009 | 63.9862     | 26m 51s      |"
      ]
     },
     "metadata": {},
     "output_type": "display_data"
    },
    {
     "data": {
      "text/html": [
       "<pre>| 37821        | -2e+009 | 64.0265     | 26m 52s      |</pre>"
      ],
      "text/plain": [
       "| 37821        | -2e+009 | 64.0265     | 26m 52s      |"
      ]
     },
     "metadata": {},
     "output_type": "display_data"
    },
    {
     "data": {
      "text/html": [
       "<pre>| 37843        | -2e+009 | 64.0649     | 26m 53s      |</pre>"
      ],
      "text/plain": [
       "| 37843        | -2e+009 | 64.0649     | 26m 53s      |"
      ]
     },
     "metadata": {},
     "output_type": "display_data"
    },
    {
     "data": {
      "text/html": [
       "<pre>| 37867        | -2e+009 | 64.1042     | 26m 54s      |</pre>"
      ],
      "text/plain": [
       "| 37867        | -2e+009 | 64.1042     | 26m 54s      |"
      ]
     },
     "metadata": {},
     "output_type": "display_data"
    },
    {
     "data": {
      "text/html": [
       "<pre>| 37890        | -2e+009 | 64.1444     | 26m 55s      |</pre>"
      ],
      "text/plain": [
       "| 37890        | -2e+009 | 64.1444     | 26m 55s      |"
      ]
     },
     "metadata": {},
     "output_type": "display_data"
    },
    {
     "data": {
      "text/html": [
       "<pre>| 37914        | -2e+009 | 64.1849     | 26m 56s      |</pre>"
      ],
      "text/plain": [
       "| 37914        | -2e+009 | 64.1849     | 26m 56s      |"
      ]
     },
     "metadata": {},
     "output_type": "display_data"
    },
    {
     "data": {
      "text/html": [
       "<pre>| 37937        | -2e+009 | 64.2236     | 26m 57s      |</pre>"
      ],
      "text/plain": [
       "| 37937        | -2e+009 | 64.2236     | 26m 57s      |"
      ]
     },
     "metadata": {},
     "output_type": "display_data"
    },
    {
     "data": {
      "text/html": [
       "<pre>| 37957        | -2e+009 | 64.2569     | 26m 58s      |</pre>"
      ],
      "text/plain": [
       "| 37957        | -2e+009 | 64.2569     | 26m 58s      |"
      ]
     },
     "metadata": {},
     "output_type": "display_data"
    },
    {
     "data": {
      "text/html": [
       "<pre>| 37980        | -2e+009 | 64.2963     | 26m 59s      |</pre>"
      ],
      "text/plain": [
       "| 37980        | -2e+009 | 64.2963     | 26m 59s      |"
      ]
     },
     "metadata": {},
     "output_type": "display_data"
    },
    {
     "data": {
      "text/html": [
       "<pre>| 38003        | -2e+009 | 64.336      | 27m 0s       |</pre>"
      ],
      "text/plain": [
       "| 38003        | -2e+009 | 64.336      | 27m 0s       |"
      ]
     },
     "metadata": {},
     "output_type": "display_data"
    },
    {
     "data": {
      "text/html": [
       "<pre>| 38028        | -2e+009 | 64.3769     | 27m 1s       |</pre>"
      ],
      "text/plain": [
       "| 38028        | -2e+009 | 64.3769     | 27m 1s       |"
      ]
     },
     "metadata": {},
     "output_type": "display_data"
    },
    {
     "data": {
      "text/html": [
       "<pre>| 38051        | -2e+009 | 64.4171     | 27m 2s       |</pre>"
      ],
      "text/plain": [
       "| 38051        | -2e+009 | 64.4171     | 27m 2s       |"
      ]
     },
     "metadata": {},
     "output_type": "display_data"
    },
    {
     "data": {
      "text/html": [
       "<pre>| 38075        | -2e+009 | 64.4571     | 27m 3s       |</pre>"
      ],
      "text/plain": [
       "| 38075        | -2e+009 | 64.4571     | 27m 3s       |"
      ]
     },
     "metadata": {},
     "output_type": "display_data"
    },
    {
     "data": {
      "text/html": [
       "<pre>| 38098        | -2e+009 | 64.4964     | 27m 4s       |</pre>"
      ],
      "text/plain": [
       "| 38098        | -2e+009 | 64.4964     | 27m 4s       |"
      ]
     },
     "metadata": {},
     "output_type": "display_data"
    },
    {
     "data": {
      "text/html": [
       "<pre>| 38123        | -2e+009 | 64.5377     | 27m 5s       |</pre>"
      ],
      "text/plain": [
       "| 38123        | -2e+009 | 64.5377     | 27m 5s       |"
      ]
     },
     "metadata": {},
     "output_type": "display_data"
    },
    {
     "data": {
      "text/html": [
       "<pre>| 38146        | -2e+009 | 64.578      | 27m 6s       |</pre>"
      ],
      "text/plain": [
       "| 38146        | -2e+009 | 64.578      | 27m 6s       |"
      ]
     },
     "metadata": {},
     "output_type": "display_data"
    },
    {
     "data": {
      "text/html": [
       "<pre>| 38170        | -2e+009 | 64.6182     | 27m 7s       |</pre>"
      ],
      "text/plain": [
       "| 38170        | -2e+009 | 64.6182     | 27m 7s       |"
      ]
     },
     "metadata": {},
     "output_type": "display_data"
    },
    {
     "data": {
      "text/html": [
       "<pre>| 38193        | -2e+009 | 64.6567     | 27m 8s       |</pre>"
      ],
      "text/plain": [
       "| 38193        | -2e+009 | 64.6567     | 27m 8s       |"
      ]
     },
     "metadata": {},
     "output_type": "display_data"
    },
    {
     "data": {
      "text/html": [
       "<pre>| 38217        | -2e+009 | 64.6974     | 27m 9s       |</pre>"
      ],
      "text/plain": [
       "| 38217        | -2e+009 | 64.6974     | 27m 9s       |"
      ]
     },
     "metadata": {},
     "output_type": "display_data"
    },
    {
     "data": {
      "text/html": [
       "<pre>| 38241        | -2e+009 | 64.7376     | 27m 10s      |</pre>"
      ],
      "text/plain": [
       "| 38241        | -2e+009 | 64.7376     | 27m 10s      |"
      ]
     },
     "metadata": {},
     "output_type": "display_data"
    },
    {
     "data": {
      "text/html": [
       "<pre>| 38265        | -2e+009 | 64.7784     | 27m 11s      |</pre>"
      ],
      "text/plain": [
       "| 38265        | -2e+009 | 64.7784     | 27m 11s      |"
      ]
     },
     "metadata": {},
     "output_type": "display_data"
    },
    {
     "data": {
      "text/html": [
       "<pre>| 38288        | -2e+009 | 64.8182     | 27m 12s      |</pre>"
      ],
      "text/plain": [
       "| 38288        | -2e+009 | 64.8182     | 27m 12s      |"
      ]
     },
     "metadata": {},
     "output_type": "display_data"
    },
    {
     "data": {
      "text/html": [
       "<pre>| 38312        | -2e+009 | 64.8582     | 27m 13s      |</pre>"
      ],
      "text/plain": [
       "| 38312        | -2e+009 | 64.8582     | 27m 13s      |"
      ]
     },
     "metadata": {},
     "output_type": "display_data"
    },
    {
     "data": {
      "text/html": [
       "<pre>| 38336        | -2e+009 | 64.8986     | 27m 14s      |</pre>"
      ],
      "text/plain": [
       "| 38336        | -2e+009 | 64.8986     | 27m 14s      |"
      ]
     },
     "metadata": {},
     "output_type": "display_data"
    },
    {
     "data": {
      "text/html": [
       "<pre>| 38359        | -2e+009 | 64.9386     | 27m 15s      |</pre>"
      ],
      "text/plain": [
       "| 38359        | -2e+009 | 64.9386     | 27m 15s      |"
      ]
     },
     "metadata": {},
     "output_type": "display_data"
    },
    {
     "data": {
      "text/html": [
       "<pre>| 38384        | -2e+009 | 64.9796     | 27m 16s      |</pre>"
      ],
      "text/plain": [
       "| 38384        | -2e+009 | 64.9796     | 27m 16s      |"
      ]
     },
     "metadata": {},
     "output_type": "display_data"
    },
    {
     "data": {
      "text/html": [
       "<pre>| 38407        | -2e+009 | 65.0198     | 27m 17s      |</pre>"
      ],
      "text/plain": [
       "| 38407        | -2e+009 | 65.0198     | 27m 17s      |"
      ]
     },
     "metadata": {},
     "output_type": "display_data"
    },
    {
     "data": {
      "text/html": [
       "<pre>| 38431        | -2e+009 | 65.0596     | 27m 18s      |</pre>"
      ],
      "text/plain": [
       "| 38431        | -2e+009 | 65.0596     | 27m 18s      |"
      ]
     },
     "metadata": {},
     "output_type": "display_data"
    },
    {
     "data": {
      "text/html": [
       "<pre>| 38454        | -2e+009 | 65.0983     | 27m 19s      |</pre>"
      ],
      "text/plain": [
       "| 38454        | -2e+009 | 65.0983     | 27m 19s      |"
      ]
     },
     "metadata": {},
     "output_type": "display_data"
    },
    {
     "data": {
      "text/html": [
       "<pre>| 38477        | -2e+009 | 65.1375     | 27m 20s      |</pre>"
      ],
      "text/plain": [
       "| 38477        | -2e+009 | 65.1375     | 27m 20s      |"
      ]
     },
     "metadata": {},
     "output_type": "display_data"
    },
    {
     "data": {
      "text/html": [
       "<pre>| 38501        | -2e+009 | 65.1775     | 27m 21s      |</pre>"
      ],
      "text/plain": [
       "| 38501        | -2e+009 | 65.1775     | 27m 21s      |"
      ]
     },
     "metadata": {},
     "output_type": "display_data"
    },
    {
     "data": {
      "text/html": [
       "<pre>| 38518        | -2e+009 | 65.2069     | 27m 22s      |</pre>"
      ],
      "text/plain": [
       "| 38518        | -2e+009 | 65.2069     | 27m 22s      |"
      ]
     },
     "metadata": {},
     "output_type": "display_data"
    },
    {
     "data": {
      "text/html": [
       "<pre>| 38538        | -2e+009 | 65.2413     | 27m 23s      |</pre>"
      ],
      "text/plain": [
       "| 38538        | -2e+009 | 65.2413     | 27m 23s      |"
      ]
     },
     "metadata": {},
     "output_type": "display_data"
    },
    {
     "data": {
      "text/html": [
       "<pre>| 38561        | -2e+009 | 65.2796     | 27m 24s      |</pre>"
      ],
      "text/plain": [
       "| 38561        | -2e+009 | 65.2796     | 27m 24s      |"
      ]
     },
     "metadata": {},
     "output_type": "display_data"
    },
    {
     "data": {
      "text/html": [
       "<pre>| 38584        | -2e+009 | 65.3193     | 27m 25s      |</pre>"
      ],
      "text/plain": [
       "| 38584        | -2e+009 | 65.3193     | 27m 25s      |"
      ]
     },
     "metadata": {},
     "output_type": "display_data"
    },
    {
     "data": {
      "text/html": [
       "<pre>| 38608        | -2e+009 | 65.359      | 27m 26s      |</pre>"
      ],
      "text/plain": [
       "| 38608        | -2e+009 | 65.359      | 27m 26s      |"
      ]
     },
     "metadata": {},
     "output_type": "display_data"
    },
    {
     "data": {
      "text/html": [
       "<pre>| 38631        | -2e+009 | 65.3986     | 27m 27s      |</pre>"
      ],
      "text/plain": [
       "| 38631        | -2e+009 | 65.3986     | 27m 27s      |"
      ]
     },
     "metadata": {},
     "output_type": "display_data"
    },
    {
     "data": {
      "text/html": [
       "<pre>| 38654        | -2e+009 | 65.4381     | 27m 28s      |</pre>"
      ],
      "text/plain": [
       "| 38654        | -2e+009 | 65.4381     | 27m 28s      |"
      ]
     },
     "metadata": {},
     "output_type": "display_data"
    },
    {
     "data": {
      "text/html": [
       "<pre>| 38678        | -2e+009 | 65.4782     | 27m 29s      |</pre>"
      ],
      "text/plain": [
       "| 38678        | -2e+009 | 65.4782     | 27m 29s      |"
      ]
     },
     "metadata": {},
     "output_type": "display_data"
    },
    {
     "data": {
      "text/html": [
       "<pre>| 38702        | -2e+009 | 65.5183     | 27m 30s      |</pre>"
      ],
      "text/plain": [
       "| 38702        | -2e+009 | 65.5183     | 27m 30s      |"
      ]
     },
     "metadata": {},
     "output_type": "display_data"
    },
    {
     "data": {
      "text/html": [
       "<pre>| 38726        | -2e+009 | 65.5586     | 27m 31s      |</pre>"
      ],
      "text/plain": [
       "| 38726        | -2e+009 | 65.5586     | 27m 31s      |"
      ]
     },
     "metadata": {},
     "output_type": "display_data"
    },
    {
     "data": {
      "text/html": [
       "<pre>| 38749        | -2e+009 | 65.5982     | 27m 32s      |</pre>"
      ],
      "text/plain": [
       "| 38749        | -2e+009 | 65.5982     | 27m 32s      |"
      ]
     },
     "metadata": {},
     "output_type": "display_data"
    },
    {
     "data": {
      "text/html": [
       "<pre>| 38773        | -2e+009 | 65.6384     | 27m 33s      |</pre>"
      ],
      "text/plain": [
       "| 38773        | -2e+009 | 65.6384     | 27m 33s      |"
      ]
     },
     "metadata": {},
     "output_type": "display_data"
    },
    {
     "data": {
      "text/html": [
       "<pre>| 38796        | -2e+009 | 65.6785     | 27m 34s      |</pre>"
      ],
      "text/plain": [
       "| 38796        | -2e+009 | 65.6785     | 27m 34s      |"
      ]
     },
     "metadata": {},
     "output_type": "display_data"
    },
    {
     "data": {
      "text/html": [
       "<pre>| 38820        | -2e+009 | 65.7186     | 27m 35s      |</pre>"
      ],
      "text/plain": [
       "| 38820        | -2e+009 | 65.7186     | 27m 35s      |"
      ]
     },
     "metadata": {},
     "output_type": "display_data"
    },
    {
     "data": {
      "text/html": [
       "<pre>| 38843        |         | 65.758      | 27m 36s      |</pre>"
      ],
      "text/plain": [
       "| 38843        |         | 65.758      | 27m 36s      |"
      ]
     },
     "metadata": {},
     "output_type": "display_data"
    },
    {
     "data": {
      "text/html": [
       "<pre>| 38866        | -2e+009 | 65.7961     | 27m 37s      |</pre>"
      ],
      "text/plain": [
       "| 38866        | -2e+009 | 65.7961     | 27m 37s      |"
      ]
     },
     "metadata": {},
     "output_type": "display_data"
    },
    {
     "data": {
      "text/html": [
       "<pre>| 38890        | -2e+009 | 65.8364     | 27m 38s      |</pre>"
      ],
      "text/plain": [
       "| 38890        | -2e+009 | 65.8364     | 27m 38s      |"
      ]
     },
     "metadata": {},
     "output_type": "display_data"
    },
    {
     "data": {
      "text/html": [
       "<pre>| 38914        | -2e+009 | 65.8767     | 27m 39s      |</pre>"
      ],
      "text/plain": [
       "| 38914        | -2e+009 | 65.8767     | 27m 39s      |"
      ]
     },
     "metadata": {},
     "output_type": "display_data"
    },
    {
     "data": {
      "text/html": [
       "<pre>| 38937        | -2e+009 | 65.9159     | 27m 40s      |</pre>"
      ],
      "text/plain": [
       "| 38937        | -2e+009 | 65.9159     | 27m 40s      |"
      ]
     },
     "metadata": {},
     "output_type": "display_data"
    },
    {
     "data": {
      "text/html": [
       "<pre>| 38960        | -2e+009 | 65.9561     | 27m 41s      |</pre>"
      ],
      "text/plain": [
       "| 38960        | -2e+009 | 65.9561     | 27m 41s      |"
      ]
     },
     "metadata": {},
     "output_type": "display_data"
    },
    {
     "data": {
      "text/html": [
       "<pre>| 38984        | -2e+009 | 65.9962     | 27m 42s      |</pre>"
      ],
      "text/plain": [
       "| 38984        | -2e+009 | 65.9962     | 27m 42s      |"
      ]
     },
     "metadata": {},
     "output_type": "display_data"
    },
    {
     "data": {
      "text/html": [
       "<pre>| 39007        | -2e+009 | 66.0356     | 27m 43s      |</pre>"
      ],
      "text/plain": [
       "| 39007        | -2e+009 | 66.0356     | 27m 43s      |"
      ]
     },
     "metadata": {},
     "output_type": "display_data"
    },
    {
     "data": {
      "text/html": [
       "<pre>| 39031        | -2e+009 | 66.0762     | 27m 44s      |</pre>"
      ],
      "text/plain": [
       "| 39031        | -2e+009 | 66.0762     | 27m 44s      |"
      ]
     },
     "metadata": {},
     "output_type": "display_data"
    },
    {
     "data": {
      "text/html": [
       "<pre>| 39055        | -2e+009 | 66.1164     | 27m 45s      |</pre>"
      ],
      "text/plain": [
       "| 39055        | -2e+009 | 66.1164     | 27m 45s      |"
      ]
     },
     "metadata": {},
     "output_type": "display_data"
    },
    {
     "data": {
      "text/html": [
       "<pre>| 39078        | -2e+009 | 66.1557     | 27m 46s      |</pre>"
      ],
      "text/plain": [
       "| 39078        | -2e+009 | 66.1557     | 27m 46s      |"
      ]
     },
     "metadata": {},
     "output_type": "display_data"
    },
    {
     "data": {
      "text/html": [
       "<pre>| 39102        | -2e+009 | 66.1957     | 27m 47s      |</pre>"
      ],
      "text/plain": [
       "| 39102        | -2e+009 | 66.1957     | 27m 47s      |"
      ]
     },
     "metadata": {},
     "output_type": "display_data"
    },
    {
     "data": {
      "text/html": [
       "<pre>| 39125        | -2e+009 | 66.2355     | 27m 48s      |</pre>"
      ],
      "text/plain": [
       "| 39125        | -2e+009 | 66.2355     | 27m 48s      |"
      ]
     },
     "metadata": {},
     "output_type": "display_data"
    },
    {
     "data": {
      "text/html": [
       "<pre>| 39149        | -2e+009 | 66.2757     | 27m 49s      |</pre>"
      ],
      "text/plain": [
       "| 39149        | -2e+009 | 66.2757     | 27m 49s      |"
      ]
     },
     "metadata": {},
     "output_type": "display_data"
    },
    {
     "data": {
      "text/html": [
       "<pre>| 39172        | -2e+009 | 66.3145     | 27m 50s      |</pre>"
      ],
      "text/plain": [
       "| 39172        | -2e+009 | 66.3145     | 27m 50s      |"
      ]
     },
     "metadata": {},
     "output_type": "display_data"
    },
    {
     "data": {
      "text/html": [
       "<pre>| 39196        | -2e+009 | 66.3543     | 27m 51s      |</pre>"
      ],
      "text/plain": [
       "| 39196        | -2e+009 | 66.3543     | 27m 51s      |"
      ]
     },
     "metadata": {},
     "output_type": "display_data"
    },
    {
     "data": {
      "text/html": [
       "<pre>| 39219        | -2e+009 | 66.3943     | 27m 52s      |</pre>"
      ],
      "text/plain": [
       "| 39219        | -2e+009 | 66.3943     | 27m 52s      |"
      ]
     },
     "metadata": {},
     "output_type": "display_data"
    },
    {
     "data": {
      "text/html": [
       "<pre>| 39243        | -2e+009 | 66.4343     | 27m 53s      |</pre>"
      ],
      "text/plain": [
       "| 39243        | -2e+009 | 66.4343     | 27m 53s      |"
      ]
     },
     "metadata": {},
     "output_type": "display_data"
    },
    {
     "data": {
      "text/html": [
       "<pre>| 39266        | -2e+009 | 66.4731     | 27m 54s      |</pre>"
      ],
      "text/plain": [
       "| 39266        | -2e+009 | 66.4731     | 27m 54s      |"
      ]
     },
     "metadata": {},
     "output_type": "display_data"
    },
    {
     "data": {
      "text/html": [
       "<pre>| 39282        | -2e+009 | 66.5003     | 27m 55s      |</pre>"
      ],
      "text/plain": [
       "| 39282        | -2e+009 | 66.5003     | 27m 55s      |"
      ]
     },
     "metadata": {},
     "output_type": "display_data"
    },
    {
     "data": {
      "text/html": [
       "<pre>| 39305        | -2e+009 | 66.5392     | 27m 56s      |</pre>"
      ],
      "text/plain": [
       "| 39305        | -2e+009 | 66.5392     | 27m 56s      |"
      ]
     },
     "metadata": {},
     "output_type": "display_data"
    },
    {
     "data": {
      "text/html": [
       "<pre>| 39329        | -2e+009 | 66.5796     | 27m 57s      |</pre>"
      ],
      "text/plain": [
       "| 39329        | -2e+009 | 66.5796     | 27m 57s      |"
      ]
     },
     "metadata": {},
     "output_type": "display_data"
    },
    {
     "data": {
      "text/html": [
       "<pre>| 39350        | -2e+009 | 66.6159     | 27m 58s      |</pre>"
      ],
      "text/plain": [
       "| 39350        | -2e+009 | 66.6159     | 27m 58s      |"
      ]
     },
     "metadata": {},
     "output_type": "display_data"
    },
    {
     "data": {
      "text/html": [
       "<pre>| 39373        | -2e+009 | 66.6539     | 27m 59s      |</pre>"
      ],
      "text/plain": [
       "| 39373        | -2e+009 | 66.6539     | 27m 59s      |"
      ]
     },
     "metadata": {},
     "output_type": "display_data"
    },
    {
     "data": {
      "text/html": [
       "<pre>| 39396        | -2e+009 | 66.6933     | 28m 0s       |</pre>"
      ],
      "text/plain": [
       "| 39396        | -2e+009 | 66.6933     | 28m 0s       |"
      ]
     },
     "metadata": {},
     "output_type": "display_data"
    },
    {
     "data": {
      "text/html": [
       "<pre>| 39419        | -2e+009 | 66.7326     | 28m 1s       |</pre>"
      ],
      "text/plain": [
       "| 39419        | -2e+009 | 66.7326     | 28m 1s       |"
      ]
     },
     "metadata": {},
     "output_type": "display_data"
    },
    {
     "data": {
      "text/html": [
       "<pre>| 39443        | -2e+009 | 66.7727     | 28m 2s       |</pre>"
      ],
      "text/plain": [
       "| 39443        | -2e+009 | 66.7727     | 28m 2s       |"
      ]
     },
     "metadata": {},
     "output_type": "display_data"
    },
    {
     "data": {
      "text/html": [
       "<pre>| 39466        | -2e+009 | 66.8126     | 28m 3s       |</pre>"
      ],
      "text/plain": [
       "| 39466        | -2e+009 | 66.8126     | 28m 3s       |"
      ]
     },
     "metadata": {},
     "output_type": "display_data"
    },
    {
     "data": {
      "text/html": [
       "<pre>| 39490        | -2e+009 | 66.8523     | 28m 4s       |</pre>"
      ],
      "text/plain": [
       "| 39490        | -2e+009 | 66.8523     | 28m 4s       |"
      ]
     },
     "metadata": {},
     "output_type": "display_data"
    },
    {
     "data": {
      "text/html": [
       "<pre>| 39513        | -2e+009 | 66.8911     | 28m 5s       |</pre>"
      ],
      "text/plain": [
       "| 39513        | -2e+009 | 66.8911     | 28m 5s       |"
      ]
     },
     "metadata": {},
     "output_type": "display_data"
    },
    {
     "data": {
      "text/html": [
       "<pre>| 39537        | -2e+009 | 66.9315     | 28m 6s       |</pre>"
      ],
      "text/plain": [
       "| 39537        | -2e+009 | 66.9315     | 28m 6s       |"
      ]
     },
     "metadata": {},
     "output_type": "display_data"
    },
    {
     "data": {
      "text/html": [
       "<pre>| 39560        | -2e+009 | 66.9709     | 28m 7s       |</pre>"
      ],
      "text/plain": [
       "| 39560        | -2e+009 | 66.9709     | 28m 7s       |"
      ]
     },
     "metadata": {},
     "output_type": "display_data"
    },
    {
     "data": {
      "text/html": [
       "<pre>| 39581        | -2e+009 | 67.0061     | 28m 8s       |</pre>"
      ],
      "text/plain": [
       "| 39581        | -2e+009 | 67.0061     | 28m 8s       |"
      ]
     },
     "metadata": {},
     "output_type": "display_data"
    },
    {
     "data": {
      "text/html": [
       "<pre>| 39601        | -2e+009 | 67.0404     | 28m 9s       |</pre>"
      ],
      "text/plain": [
       "| 39601        | -2e+009 | 67.0404     | 28m 9s       |"
      ]
     },
     "metadata": {},
     "output_type": "display_data"
    },
    {
     "data": {
      "text/html": [
       "<pre>| 39621        | -2e+009 | 67.0741     | 28m 10s      |</pre>"
      ],
      "text/plain": [
       "| 39621        | -2e+009 | 67.0741     | 28m 10s      |"
      ]
     },
     "metadata": {},
     "output_type": "display_data"
    },
    {
     "data": {
      "text/html": [
       "<pre>| 39645        | -2e+009 | 67.1142     | 28m 11s      |</pre>"
      ],
      "text/plain": [
       "| 39645        | -2e+009 | 67.1142     | 28m 11s      |"
      ]
     },
     "metadata": {},
     "output_type": "display_data"
    },
    {
     "data": {
      "text/html": [
       "<pre>| 39668        | -2e+009 | 67.1537     | 28m 12s      |</pre>"
      ],
      "text/plain": [
       "| 39668        | -2e+009 | 67.1537     | 28m 12s      |"
      ]
     },
     "metadata": {},
     "output_type": "display_data"
    },
    {
     "data": {
      "text/html": [
       "<pre>| 39688        | -2e+009 | 67.188      | 28m 13s      |</pre>"
      ],
      "text/plain": [
       "| 39688        | -2e+009 | 67.188      | 28m 13s      |"
      ]
     },
     "metadata": {},
     "output_type": "display_data"
    },
    {
     "data": {
      "text/html": [
       "<pre>| 39709        | -2e+009 | 67.2233     | 28m 14s      |</pre>"
      ],
      "text/plain": [
       "| 39709        | -2e+009 | 67.2233     | 28m 14s      |"
      ]
     },
     "metadata": {},
     "output_type": "display_data"
    },
    {
     "data": {
      "text/html": [
       "<pre>| 39731        | -2e+009 | 67.2611     | 28m 15s      |</pre>"
      ],
      "text/plain": [
       "| 39731        | -2e+009 | 67.2611     | 28m 15s      |"
      ]
     },
     "metadata": {},
     "output_type": "display_data"
    },
    {
     "data": {
      "text/html": [
       "<pre>| 39754        | -2e+009 | 67.299      | 28m 16s      |</pre>"
      ],
      "text/plain": [
       "| 39754        | -2e+009 | 67.299      | 28m 16s      |"
      ]
     },
     "metadata": {},
     "output_type": "display_data"
    },
    {
     "data": {
      "text/html": [
       "<pre>| 39777        | -2e+009 | 67.3385     | 28m 17s      |</pre>"
      ],
      "text/plain": [
       "| 39777        | -2e+009 | 67.3385     | 28m 17s      |"
      ]
     },
     "metadata": {},
     "output_type": "display_data"
    },
    {
     "data": {
      "text/html": [
       "<pre>| 39800        | -2e+009 | 67.3774     | 28m 18s      |</pre>"
      ],
      "text/plain": [
       "| 39800        | -2e+009 | 67.3774     | 28m 18s      |"
      ]
     },
     "metadata": {},
     "output_type": "display_data"
    },
    {
     "data": {
      "text/html": [
       "<pre>| 39823        | -2e+009 | 67.4168     | 28m 19s      |</pre>"
      ],
      "text/plain": [
       "| 39823        | -2e+009 | 67.4168     | 28m 19s      |"
      ]
     },
     "metadata": {},
     "output_type": "display_data"
    },
    {
     "data": {
      "text/html": [
       "<pre>| 39844        | -2e+009 | 67.4521     | 28m 20s      |</pre>"
      ],
      "text/plain": [
       "| 39844        | -2e+009 | 67.4521     | 28m 20s      |"
      ]
     },
     "metadata": {},
     "output_type": "display_data"
    },
    {
     "data": {
      "text/html": [
       "<pre>| 39867        | -2e+009 | 67.4914     | 28m 21s      |</pre>"
      ],
      "text/plain": [
       "| 39867        | -2e+009 | 67.4914     | 28m 21s      |"
      ]
     },
     "metadata": {},
     "output_type": "display_data"
    },
    {
     "data": {
      "text/html": [
       "<pre>| 39891        | -2e+009 | 67.5313     | 28m 22s      |</pre>"
      ],
      "text/plain": [
       "| 39891        | -2e+009 | 67.5313     | 28m 22s      |"
      ]
     },
     "metadata": {},
     "output_type": "display_data"
    },
    {
     "data": {
      "text/html": [
       "<pre>| 39914        | -2e+009 | 67.5705     | 28m 23s      |</pre>"
      ],
      "text/plain": [
       "| 39914        | -2e+009 | 67.5705     | 28m 23s      |"
      ]
     },
     "metadata": {},
     "output_type": "display_data"
    },
    {
     "data": {
      "text/html": [
       "<pre>| 39936        | -2e+009 | 67.6077     | 28m 24s      |</pre>"
      ],
      "text/plain": [
       "| 39936        | -2e+009 | 67.6077     | 28m 24s      |"
      ]
     },
     "metadata": {},
     "output_type": "display_data"
    },
    {
     "data": {
      "text/html": [
       "<pre>| 39958        | -2e+009 | 67.6454     | 28m 25s      |</pre>"
      ],
      "text/plain": [
       "| 39958        | -2e+009 | 67.6454     | 28m 25s      |"
      ]
     },
     "metadata": {},
     "output_type": "display_data"
    },
    {
     "data": {
      "text/html": [
       "<pre>| 39981        | -2e+009 | 67.6841     | 28m 26s      |</pre>"
      ],
      "text/plain": [
       "| 39981        | -2e+009 | 67.6841     | 28m 26s      |"
      ]
     },
     "metadata": {},
     "output_type": "display_data"
    },
    {
     "data": {
      "text/html": [
       "<pre>| 40004        | -2e+009 | 67.7231     | 28m 27s      |</pre>"
      ],
      "text/plain": [
       "| 40004        | -2e+009 | 67.7231     | 28m 27s      |"
      ]
     },
     "metadata": {},
     "output_type": "display_data"
    },
    {
     "data": {
      "text/html": [
       "<pre>| 40026        | -2e+009 | 67.7598     | 28m 28s      |</pre>"
      ],
      "text/plain": [
       "| 40026        | -2e+009 | 67.7598     | 28m 28s      |"
      ]
     },
     "metadata": {},
     "output_type": "display_data"
    },
    {
     "data": {
      "text/html": [
       "<pre>| 40045        | -2e+009 | 67.7928     | 28m 29s      |</pre>"
      ],
      "text/plain": [
       "| 40045        | -2e+009 | 67.7928     | 28m 29s      |"
      ]
     },
     "metadata": {},
     "output_type": "display_data"
    },
    {
     "data": {
      "text/html": [
       "<pre>| 40067        | -2e+009 | 67.8296     | 28m 30s      |</pre>"
      ],
      "text/plain": [
       "| 40067        | -2e+009 | 67.8296     | 28m 30s      |"
      ]
     },
     "metadata": {},
     "output_type": "display_data"
    },
    {
     "data": {
      "text/html": [
       "<pre>| 40088        | -2e+009 | 67.8649     | 28m 31s      |</pre>"
      ],
      "text/plain": [
       "| 40088        | -2e+009 | 67.8649     | 28m 31s      |"
      ]
     },
     "metadata": {},
     "output_type": "display_data"
    },
    {
     "data": {
      "text/html": [
       "<pre>| 40112        | -2e+009 | 67.9051     | 28m 32s      |</pre>"
      ],
      "text/plain": [
       "| 40112        | -2e+009 | 67.9051     | 28m 32s      |"
      ]
     },
     "metadata": {},
     "output_type": "display_data"
    },
    {
     "data": {
      "text/html": [
       "<pre>| 40135        | -2e+009 | 67.945      | 28m 33s      |</pre>"
      ],
      "text/plain": [
       "| 40135        | -2e+009 | 67.945      | 28m 33s      |"
      ]
     },
     "metadata": {},
     "output_type": "display_data"
    },
    {
     "data": {
      "text/html": [
       "<pre>| 40154        | -2e+009 | 67.9774     | 28m 34s      |</pre>"
      ],
      "text/plain": [
       "| 40154        | -2e+009 | 67.9774     | 28m 34s      |"
      ]
     },
     "metadata": {},
     "output_type": "display_data"
    },
    {
     "data": {
      "text/html": [
       "<pre>| 40173        | -2e+009 | 68.0095     | 28m 35s      |</pre>"
      ],
      "text/plain": [
       "| 40173        | -2e+009 | 68.0095     | 28m 35s      |"
      ]
     },
     "metadata": {},
     "output_type": "display_data"
    },
    {
     "data": {
      "text/html": [
       "<pre>| 40195        | -2e+009 | 68.0468     | 28m 36s      |</pre>"
      ],
      "text/plain": [
       "| 40195        | -2e+009 | 68.0468     | 28m 36s      |"
      ]
     },
     "metadata": {},
     "output_type": "display_data"
    },
    {
     "data": {
      "text/html": [
       "<pre>| 40216        | -2e+009 | 68.0817     | 28m 37s      |</pre>"
      ],
      "text/plain": [
       "| 40216        | -2e+009 | 68.0817     | 28m 37s      |"
      ]
     },
     "metadata": {},
     "output_type": "display_data"
    },
    {
     "data": {
      "text/html": [
       "<pre>| 40240        | -2e+009 | 68.1224     | 28m 38s      |</pre>"
      ],
      "text/plain": [
       "| 40240        | -2e+009 | 68.1224     | 28m 38s      |"
      ]
     },
     "metadata": {},
     "output_type": "display_data"
    },
    {
     "data": {
      "text/html": [
       "<pre>| 40265        | -2e+009 | 68.1638     | 28m 39s      |</pre>"
      ],
      "text/plain": [
       "| 40265        | -2e+009 | 68.1638     | 28m 39s      |"
      ]
     },
     "metadata": {},
     "output_type": "display_data"
    },
    {
     "data": {
      "text/html": [
       "<pre>| 40289        | -2e+009 | 68.2051     | 28m 40s      |</pre>"
      ],
      "text/plain": [
       "| 40289        | -2e+009 | 68.2051     | 28m 40s      |"
      ]
     },
     "metadata": {},
     "output_type": "display_data"
    },
    {
     "data": {
      "text/html": [
       "<pre>| 40309        | -2e+009 | 68.2388     | 28m 41s      |</pre>"
      ],
      "text/plain": [
       "| 40309        | -2e+009 | 68.2388     | 28m 41s      |"
      ]
     },
     "metadata": {},
     "output_type": "display_data"
    },
    {
     "data": {
      "text/html": [
       "<pre>| 40332        | -2e+009 | 68.2786     | 28m 42s      |</pre>"
      ],
      "text/plain": [
       "| 40332        | -2e+009 | 68.2786     | 28m 42s      |"
      ]
     },
     "metadata": {},
     "output_type": "display_data"
    },
    {
     "data": {
      "text/html": [
       "<pre>| 40355        | -2e+009 | 68.3164     | 28m 43s      |</pre>"
      ],
      "text/plain": [
       "| 40355        | -2e+009 | 68.3164     | 28m 43s      |"
      ]
     },
     "metadata": {},
     "output_type": "display_data"
    },
    {
     "data": {
      "text/html": [
       "<pre>| 40376        | -2e+009 | 68.3522     | 28m 44s      |</pre>"
      ],
      "text/plain": [
       "| 40376        | -2e+009 | 68.3522     | 28m 44s      |"
      ]
     },
     "metadata": {},
     "output_type": "display_data"
    },
    {
     "data": {
      "text/html": [
       "<pre>| 40400        | -2e+009 | 68.3933     | 28m 45s      |</pre>"
      ],
      "text/plain": [
       "| 40400        | -2e+009 | 68.3933     | 28m 45s      |"
      ]
     },
     "metadata": {},
     "output_type": "display_data"
    },
    {
     "data": {
      "text/html": [
       "<pre>| 40425        | -2e+009 | 68.4354     | 28m 46s      |</pre>"
      ],
      "text/plain": [
       "| 40425        | -2e+009 | 68.4354     | 28m 46s      |"
      ]
     },
     "metadata": {},
     "output_type": "display_data"
    },
    {
     "data": {
      "text/html": [
       "<pre>| 40450        | -2e+009 | 68.477      | 28m 47s      |</pre>"
      ],
      "text/plain": [
       "| 40450        | -2e+009 | 68.477      | 28m 47s      |"
      ]
     },
     "metadata": {},
     "output_type": "display_data"
    },
    {
     "data": {
      "text/html": [
       "<pre>| 40474        | -2e+009 | 68.5182     | 28m 48s      |</pre>"
      ],
      "text/plain": [
       "| 40474        | -2e+009 | 68.5182     | 28m 48s      |"
      ]
     },
     "metadata": {},
     "output_type": "display_data"
    },
    {
     "data": {
      "text/html": [
       "<pre>| 40498        | -2e+009 | 68.559      | 28m 49s      |</pre>"
      ],
      "text/plain": [
       "| 40498        | -2e+009 | 68.559      | 28m 49s      |"
      ]
     },
     "metadata": {},
     "output_type": "display_data"
    },
    {
     "data": {
      "text/html": [
       "<pre>| 40523        | -2e+009 | 68.6008     | 28m 50s      |</pre>"
      ],
      "text/plain": [
       "| 40523        | -2e+009 | 68.6008     | 28m 50s      |"
      ]
     },
     "metadata": {},
     "output_type": "display_data"
    },
    {
     "data": {
      "text/html": [
       "<pre>| 40547        | -2e+009 | 68.6424     | 28m 51s      |</pre>"
      ],
      "text/plain": [
       "| 40547        | -2e+009 | 68.6424     | 28m 51s      |"
      ]
     },
     "metadata": {},
     "output_type": "display_data"
    },
    {
     "data": {
      "text/html": [
       "<pre>| 40566        | -2e+009 | 68.675      | 28m 52s      |</pre>"
      ],
      "text/plain": [
       "| 40566        | -2e+009 | 68.675      | 28m 52s      |"
      ]
     },
     "metadata": {},
     "output_type": "display_data"
    },
    {
     "data": {
      "text/html": [
       "<pre>| 40586        | -2e+009 | 68.7081     | 28m 53s      |</pre>"
      ],
      "text/plain": [
       "| 40586        | -2e+009 | 68.7081     | 28m 53s      |"
      ]
     },
     "metadata": {},
     "output_type": "display_data"
    },
    {
     "data": {
      "text/html": [
       "<pre>| 40605        | -2e+009 | 68.7403     | 28m 54s      |</pre>"
      ],
      "text/plain": [
       "| 40605        | -2e+009 | 68.7403     | 28m 54s      |"
      ]
     },
     "metadata": {},
     "output_type": "display_data"
    },
    {
     "data": {
      "text/html": [
       "<pre>| 40621        | -2e+009 | 68.7676     | 28m 55s      |</pre>"
      ],
      "text/plain": [
       "| 40621        | -2e+009 | 68.7676     | 28m 55s      |"
      ]
     },
     "metadata": {},
     "output_type": "display_data"
    },
    {
     "data": {
      "text/html": [
       "<pre>| 40645        | -2e+009 | 68.8085     | 28m 56s      |</pre>"
      ],
      "text/plain": [
       "| 40645        | -2e+009 | 68.8085     | 28m 56s      |"
      ]
     },
     "metadata": {},
     "output_type": "display_data"
    },
    {
     "data": {
      "text/html": [
       "<pre>| 40669        | -2e+009 | 68.8491     | 28m 57s      |</pre>"
      ],
      "text/plain": [
       "| 40669        | -2e+009 | 68.8491     | 28m 57s      |"
      ]
     },
     "metadata": {},
     "output_type": "display_data"
    },
    {
     "data": {
      "text/html": [
       "<pre>| 40695        | -2e+009 | 68.8917     | 28m 58s      |</pre>"
      ],
      "text/plain": [
       "| 40695        | -2e+009 | 68.8917     | 28m 58s      |"
      ]
     },
     "metadata": {},
     "output_type": "display_data"
    },
    {
     "data": {
      "text/html": [
       "<pre>| 40719        | -2e+009 | 68.9339     | 28m 59s      |</pre>"
      ],
      "text/plain": [
       "| 40719        | -2e+009 | 68.9339     | 28m 59s      |"
      ]
     },
     "metadata": {},
     "output_type": "display_data"
    },
    {
     "data": {
      "text/html": [
       "<pre>| 40744        | -2e+009 | 68.9753     | 29m 0s       |</pre>"
      ],
      "text/plain": [
       "| 40744        | -2e+009 | 68.9753     | 29m 0s       |"
      ]
     },
     "metadata": {},
     "output_type": "display_data"
    },
    {
     "data": {
      "text/html": [
       "<pre>| 40769        | -2e+009 | 69.0178     | 29m 1s       |</pre>"
      ],
      "text/plain": [
       "| 40769        | -2e+009 | 69.0178     | 29m 1s       |"
      ]
     },
     "metadata": {},
     "output_type": "display_data"
    },
    {
     "data": {
      "text/html": [
       "<pre>| 40790        | -2e+009 | 69.0532     | 29m 2s       |</pre>"
      ],
      "text/plain": [
       "| 40790        | -2e+009 | 69.0532     | 29m 2s       |"
      ]
     },
     "metadata": {},
     "output_type": "display_data"
    },
    {
     "data": {
      "text/html": [
       "<pre>| 40808        | -2e+009 | 69.0838     | 29m 3s       |</pre>"
      ],
      "text/plain": [
       "| 40808        | -2e+009 | 69.0838     | 29m 3s       |"
      ]
     },
     "metadata": {},
     "output_type": "display_data"
    },
    {
     "data": {
      "text/html": [
       "<pre>| 40828        | -2e+009 | 69.1179     | 29m 4s       |</pre>"
      ],
      "text/plain": [
       "| 40828        | -2e+009 | 69.1179     | 29m 4s       |"
      ]
     },
     "metadata": {},
     "output_type": "display_data"
    },
    {
     "data": {
      "text/html": [
       "<pre>| 40851        | -2e+009 | 69.1566     | 29m 5s       |</pre>"
      ],
      "text/plain": [
       "| 40851        | -2e+009 | 69.1566     | 29m 5s       |"
      ]
     },
     "metadata": {},
     "output_type": "display_data"
    },
    {
     "data": {
      "text/html": [
       "<pre>| 40869        | -2e+009 | 69.1863     | 29m 6s       |</pre>"
      ],
      "text/plain": [
       "| 40869        | -2e+009 | 69.1863     | 29m 6s       |"
      ]
     },
     "metadata": {},
     "output_type": "display_data"
    },
    {
     "data": {
      "text/html": [
       "<pre>| 40888        | -2e+009 | 69.2189     | 29m 7s       |</pre>"
      ],
      "text/plain": [
       "| 40888        | -2e+009 | 69.2189     | 29m 7s       |"
      ]
     },
     "metadata": {},
     "output_type": "display_data"
    },
    {
     "data": {
      "text/html": [
       "<pre>| 40912        | -2e+009 | 69.2604     | 29m 8s       |</pre>"
      ],
      "text/plain": [
       "| 40912        | -2e+009 | 69.2604     | 29m 8s       |"
      ]
     },
     "metadata": {},
     "output_type": "display_data"
    },
    {
     "data": {
      "text/html": [
       "<pre>| 40932        | -2e+009 | 69.2938     | 29m 9s       |</pre>"
      ],
      "text/plain": [
       "| 40932        | -2e+009 | 69.2938     | 29m 9s       |"
      ]
     },
     "metadata": {},
     "output_type": "display_data"
    },
    {
     "data": {
      "text/html": [
       "<pre>| 40948        | -2e+009 | 69.321      | 29m 10s      |</pre>"
      ],
      "text/plain": [
       "| 40948        | -2e+009 | 69.321      | 29m 10s      |"
      ]
     },
     "metadata": {},
     "output_type": "display_data"
    },
    {
     "data": {
      "text/html": [
       "<pre>| 40966        | -2e+009 | 69.3517     | 29m 11s      |</pre>"
      ],
      "text/plain": [
       "| 40966        | -2e+009 | 69.3517     | 29m 11s      |"
      ]
     },
     "metadata": {},
     "output_type": "display_data"
    },
    {
     "data": {
      "text/html": [
       "<pre>| 40982        | -2e+009 | 69.3784     | 29m 12s      |</pre>"
      ],
      "text/plain": [
       "| 40982        | -2e+009 | 69.3784     | 29m 12s      |"
      ]
     },
     "metadata": {},
     "output_type": "display_data"
    },
    {
     "data": {
      "text/html": [
       "<pre>| 41004        | -2e+009 | 69.4154     | 29m 13s      |</pre>"
      ],
      "text/plain": [
       "| 41004        | -2e+009 | 69.4154     | 29m 13s      |"
      ]
     },
     "metadata": {},
     "output_type": "display_data"
    },
    {
     "data": {
      "text/html": [
       "<pre>| 41027        | -2e+009 | 69.4544     | 29m 14s      |</pre>"
      ],
      "text/plain": [
       "| 41027        | -2e+009 | 69.4544     | 29m 14s      |"
      ]
     },
     "metadata": {},
     "output_type": "display_data"
    },
    {
     "data": {
      "text/html": [
       "<pre>| 41050        | -2e+009 | 69.4931     | 29m 15s      |</pre>"
      ],
      "text/plain": [
       "| 41050        | -2e+009 | 69.4931     | 29m 15s      |"
      ]
     },
     "metadata": {},
     "output_type": "display_data"
    },
    {
     "data": {
      "text/html": [
       "<pre>| 41071        | -2e+009 | 69.5287     | 29m 16s      |</pre>"
      ],
      "text/plain": [
       "| 41071        | -2e+009 | 69.5287     | 29m 16s      |"
      ]
     },
     "metadata": {},
     "output_type": "display_data"
    },
    {
     "data": {
      "text/html": [
       "<pre>| 41093        | -2e+009 | 69.566      | 29m 17s      |</pre>"
      ],
      "text/plain": [
       "| 41093        | -2e+009 | 69.566      | 29m 17s      |"
      ]
     },
     "metadata": {},
     "output_type": "display_data"
    },
    {
     "data": {
      "text/html": [
       "<pre>| 41113        | -2e+009 | 69.6004     | 29m 18s      |</pre>"
      ],
      "text/plain": [
       "| 41113        | -2e+009 | 69.6004     | 29m 18s      |"
      ]
     },
     "metadata": {},
     "output_type": "display_data"
    },
    {
     "data": {
      "text/html": [
       "<pre>| 41135        | -2e+009 | 69.6379     | 29m 19s      |</pre>"
      ],
      "text/plain": [
       "| 41135        | -2e+009 | 69.6379     | 29m 19s      |"
      ]
     },
     "metadata": {},
     "output_type": "display_data"
    },
    {
     "data": {
      "text/html": [
       "<pre>| 41158        | -2e+009 | 69.6759     | 29m 20s      |</pre>"
      ],
      "text/plain": [
       "| 41158        | -2e+009 | 69.6759     | 29m 20s      |"
      ]
     },
     "metadata": {},
     "output_type": "display_data"
    },
    {
     "data": {
      "text/html": [
       "<pre>| 41181        | -2e+009 | 69.7149     | 29m 21s      |</pre>"
      ],
      "text/plain": [
       "| 41181        | -2e+009 | 69.7149     | 29m 21s      |"
      ]
     },
     "metadata": {},
     "output_type": "display_data"
    },
    {
     "data": {
      "text/html": [
       "<pre>| 41202        | -2e+009 | 69.7508     | 29m 22s      |</pre>"
      ],
      "text/plain": [
       "| 41202        | -2e+009 | 69.7508     | 29m 22s      |"
      ]
     },
     "metadata": {},
     "output_type": "display_data"
    },
    {
     "data": {
      "text/html": [
       "<pre>| 41225        | -2e+009 | 69.7889     | 29m 23s      |</pre>"
      ],
      "text/plain": [
       "| 41225        | -2e+009 | 69.7889     | 29m 23s      |"
      ]
     },
     "metadata": {},
     "output_type": "display_data"
    },
    {
     "data": {
      "text/html": [
       "<pre>| 41247        | -2e+009 | 69.8267     | 29m 24s      |</pre>"
      ],
      "text/plain": [
       "| 41247        | -2e+009 | 69.8267     | 29m 24s      |"
      ]
     },
     "metadata": {},
     "output_type": "display_data"
    },
    {
     "data": {
      "text/html": [
       "<pre>| 41266        | -2e+009 | 69.8599     | 29m 25s      |</pre>"
      ],
      "text/plain": [
       "| 41266        | -2e+009 | 69.8599     | 29m 25s      |"
      ]
     },
     "metadata": {},
     "output_type": "display_data"
    },
    {
     "data": {
      "text/html": [
       "<pre>| 41290        | -2e+009 | 69.899      | 29m 26s      |</pre>"
      ],
      "text/plain": [
       "| 41290        | -2e+009 | 69.899      | 29m 26s      |"
      ]
     },
     "metadata": {},
     "output_type": "display_data"
    },
    {
     "data": {
      "text/html": [
       "<pre>| 41312        | -2e+009 | 69.9363     | 29m 27s      |</pre>"
      ],
      "text/plain": [
       "| 41312        | -2e+009 | 69.9363     | 29m 27s      |"
      ]
     },
     "metadata": {},
     "output_type": "display_data"
    },
    {
     "data": {
      "text/html": [
       "<pre>| 41328        | -2e+009 | 69.9648     | 29m 28s      |</pre>"
      ],
      "text/plain": [
       "| 41328        | -2e+009 | 69.9648     | 29m 28s      |"
      ]
     },
     "metadata": {},
     "output_type": "display_data"
    },
    {
     "data": {
      "text/html": [
       "<pre>| 41347        | -2e+009 | 69.9968     | 29m 29s      |</pre>"
      ],
      "text/plain": [
       "| 41347        | -2e+009 | 69.9968     | 29m 29s      |"
      ]
     },
     "metadata": {},
     "output_type": "display_data"
    },
    {
     "data": {
      "text/html": [
       "<pre>| 41366        | -2e+009 | 70.0291     | 29m 30s      |</pre>"
      ],
      "text/plain": [
       "| 41366        | -2e+009 | 70.0291     | 29m 30s      |"
      ]
     },
     "metadata": {},
     "output_type": "display_data"
    },
    {
     "data": {
      "text/html": [
       "<pre>| 41386        | -2e+009 | 70.0619     | 29m 31s      |</pre>"
      ],
      "text/plain": [
       "| 41386        | -2e+009 | 70.0619     | 29m 31s      |"
      ]
     },
     "metadata": {},
     "output_type": "display_data"
    },
    {
     "data": {
      "text/html": [
       "<pre>| 41408        | -2e+009 | 70.099      | 29m 32s      |</pre>"
      ],
      "text/plain": [
       "| 41408        | -2e+009 | 70.099      | 29m 32s      |"
      ]
     },
     "metadata": {},
     "output_type": "display_data"
    },
    {
     "data": {
      "text/html": [
       "<pre>| 41429        | -2e+009 | 70.1348     | 29m 33s      |</pre>"
      ],
      "text/plain": [
       "| 41429        | -2e+009 | 70.1348     | 29m 33s      |"
      ]
     },
     "metadata": {},
     "output_type": "display_data"
    },
    {
     "data": {
      "text/html": [
       "<pre>| 41449        | -2e+009 | 70.1691     | 29m 34s      |</pre>"
      ],
      "text/plain": [
       "| 41449        | -2e+009 | 70.1691     | 29m 34s      |"
      ]
     },
     "metadata": {},
     "output_type": "display_data"
    },
    {
     "data": {
      "text/html": [
       "<pre>| 41471        | -2e+009 | 70.2064     | 29m 35s      |</pre>"
      ],
      "text/plain": [
       "| 41471        | -2e+009 | 70.2064     | 29m 35s      |"
      ]
     },
     "metadata": {},
     "output_type": "display_data"
    },
    {
     "data": {
      "text/html": [
       "<pre>| 41494        | -2e+009 | 70.2443     | 29m 36s      |</pre>"
      ],
      "text/plain": [
       "| 41494        | -2e+009 | 70.2443     | 29m 36s      |"
      ]
     },
     "metadata": {},
     "output_type": "display_data"
    },
    {
     "data": {
      "text/html": [
       "<pre>| 41514        | -2e+009 | 70.2791     | 29m 37s      |</pre>"
      ],
      "text/plain": [
       "| 41514        | -2e+009 | 70.2791     | 29m 37s      |"
      ]
     },
     "metadata": {},
     "output_type": "display_data"
    },
    {
     "data": {
      "text/html": [
       "<pre>| 41532        | -2e+009 | 70.3086     | 29m 38s      |</pre>"
      ],
      "text/plain": [
       "| 41532        | -2e+009 | 70.3086     | 29m 38s      |"
      ]
     },
     "metadata": {},
     "output_type": "display_data"
    },
    {
     "data": {
      "text/html": [
       "<pre>| 41550        | -2e+009 | 70.3407     | 29m 39s      |</pre>"
      ],
      "text/plain": [
       "| 41550        | -2e+009 | 70.3407     | 29m 39s      |"
      ]
     },
     "metadata": {},
     "output_type": "display_data"
    },
    {
     "data": {
      "text/html": [
       "<pre>| 41573        | -2e+009 | 70.3783     | 29m 40s      |</pre>"
      ],
      "text/plain": [
       "| 41573        | -2e+009 | 70.3783     | 29m 40s      |"
      ]
     },
     "metadata": {},
     "output_type": "display_data"
    },
    {
     "data": {
      "text/html": [
       "<pre>| 41595        | -2e+009 | 70.4163     | 29m 41s      |</pre>"
      ],
      "text/plain": [
       "| 41595        | -2e+009 | 70.4163     | 29m 41s      |"
      ]
     },
     "metadata": {},
     "output_type": "display_data"
    },
    {
     "data": {
      "text/html": [
       "<pre>| 41619        | -2e+009 | 70.4559     | 29m 42s      |</pre>"
      ],
      "text/plain": [
       "| 41619        | -2e+009 | 70.4559     | 29m 42s      |"
      ]
     },
     "metadata": {},
     "output_type": "display_data"
    },
    {
     "data": {
      "text/html": [
       "<pre>| 41641        | -2e+009 | 70.4943     | 29m 43s      |</pre>"
      ],
      "text/plain": [
       "| 41641        | -2e+009 | 70.4943     | 29m 43s      |"
      ]
     },
     "metadata": {},
     "output_type": "display_data"
    },
    {
     "data": {
      "text/html": [
       "<pre>| 41664        | -2e+009 | 70.5329     | 29m 44s      |</pre>"
      ],
      "text/plain": [
       "| 41664        | -2e+009 | 70.5329     | 29m 44s      |"
      ]
     },
     "metadata": {},
     "output_type": "display_data"
    },
    {
     "data": {
      "text/html": [
       "<pre>| 41685        | -2e+009 | 70.5679     | 29m 45s      |</pre>"
      ],
      "text/plain": [
       "| 41685        | -2e+009 | 70.5679     | 29m 45s      |"
      ]
     },
     "metadata": {},
     "output_type": "display_data"
    },
    {
     "data": {
      "text/html": [
       "<pre>| 41706        | -2e+009 | 70.6044     | 29m 46s      |</pre>"
      ],
      "text/plain": [
       "| 41706        | -2e+009 | 70.6044     | 29m 46s      |"
      ]
     },
     "metadata": {},
     "output_type": "display_data"
    },
    {
     "data": {
      "text/html": [
       "<pre>| 41727        | -2e+009 | 70.6391     | 29m 47s      |</pre>"
      ],
      "text/plain": [
       "| 41727        | -2e+009 | 70.6391     | 29m 47s      |"
      ]
     },
     "metadata": {},
     "output_type": "display_data"
    },
    {
     "data": {
      "text/html": [
       "<pre>| 41750        | -2e+009 | 70.678      | 29m 48s      |</pre>"
      ],
      "text/plain": [
       "| 41750        | -2e+009 | 70.678      | 29m 48s      |"
      ]
     },
     "metadata": {},
     "output_type": "display_data"
    },
    {
     "data": {
      "text/html": [
       "<pre>| 41770        | -2e+009 | 70.712      | 29m 49s      |</pre>"
      ],
      "text/plain": [
       "| 41770        | -2e+009 | 70.712      | 29m 49s      |"
      ]
     },
     "metadata": {},
     "output_type": "display_data"
    },
    {
     "data": {
      "text/html": [
       "<pre>| 41794        | -2e+009 | 70.7526     | 29m 50s      |</pre>"
      ],
      "text/plain": [
       "| 41794        | -2e+009 | 70.7526     | 29m 50s      |"
      ]
     },
     "metadata": {},
     "output_type": "display_data"
    },
    {
     "data": {
      "text/html": [
       "<pre>| 41817        | -2e+009 | 70.7922     | 29m 51s      |</pre>"
      ],
      "text/plain": [
       "| 41817        | -2e+009 | 70.7922     | 29m 51s      |"
      ]
     },
     "metadata": {},
     "output_type": "display_data"
    },
    {
     "data": {
      "text/html": [
       "<pre>| 41838        | -2e+009 | 70.8279     | 29m 52s      |</pre>"
      ],
      "text/plain": [
       "| 41838        | -2e+009 | 70.8279     | 29m 52s      |"
      ]
     },
     "metadata": {},
     "output_type": "display_data"
    },
    {
     "data": {
      "text/html": [
       "<pre>| 41860        | -2e+009 | 70.8644     | 29m 53s      |</pre>"
      ],
      "text/plain": [
       "| 41860        | -2e+009 | 70.8644     | 29m 53s      |"
      ]
     },
     "metadata": {},
     "output_type": "display_data"
    },
    {
     "data": {
      "text/html": [
       "<pre>| 41883        | -2e+009 | 70.9041     | 29m 54s      |</pre>"
      ],
      "text/plain": [
       "| 41883        | -2e+009 | 70.9041     | 29m 54s      |"
      ]
     },
     "metadata": {},
     "output_type": "display_data"
    },
    {
     "data": {
      "text/html": [
       "<pre>| 41907        | -2e+009 | 70.9449     | 29m 55s      |</pre>"
      ],
      "text/plain": [
       "| 41907        | -2e+009 | 70.9449     | 29m 55s      |"
      ]
     },
     "metadata": {},
     "output_type": "display_data"
    },
    {
     "data": {
      "text/html": [
       "<pre>| 41929        | -2e+009 | 70.982      | 29m 56s      |</pre>"
      ],
      "text/plain": [
       "| 41929        | -2e+009 | 70.982      | 29m 56s      |"
      ]
     },
     "metadata": {},
     "output_type": "display_data"
    },
    {
     "data": {
      "text/html": [
       "<pre>| 41951        | -2e+009 | 71.0185     | 29m 57s      |</pre>"
      ],
      "text/plain": [
       "| 41951        | -2e+009 | 71.0185     | 29m 57s      |"
      ]
     },
     "metadata": {},
     "output_type": "display_data"
    },
    {
     "data": {
      "text/html": [
       "<pre>| 41974        | -2e+009 | 71.0584     | 29m 58s      |</pre>"
      ],
      "text/plain": [
       "| 41974        | -2e+009 | 71.0584     | 29m 58s      |"
      ]
     },
     "metadata": {},
     "output_type": "display_data"
    },
    {
     "data": {
      "text/html": [
       "<pre>| 41996        | -2e+009 | 71.0952     | 29m 59s      |</pre>"
      ],
      "text/plain": [
       "| 41996        | -2e+009 | 71.0952     | 29m 59s      |"
      ]
     },
     "metadata": {},
     "output_type": "display_data"
    },
    {
     "data": {
      "text/html": [
       "<pre>| 42020        | -2e+009 | 71.1358     | 30m 0s       |</pre>"
      ],
      "text/plain": [
       "| 42020        | -2e+009 | 71.1358     | 30m 0s       |"
      ]
     },
     "metadata": {},
     "output_type": "display_data"
    },
    {
     "data": {
      "text/html": [
       "<pre>| 42039        | -2e+009 | 71.1677     | 30m 1s       |</pre>"
      ],
      "text/plain": [
       "| 42039        | -2e+009 | 71.1677     | 30m 1s       |"
      ]
     },
     "metadata": {},
     "output_type": "display_data"
    },
    {
     "data": {
      "text/html": [
       "<pre>| 42062        | -2e+009 | 71.2067     | 30m 2s       |</pre>"
      ],
      "text/plain": [
       "| 42062        | -2e+009 | 71.2067     | 30m 2s       |"
      ]
     },
     "metadata": {},
     "output_type": "display_data"
    },
    {
     "data": {
      "text/html": [
       "<pre>| 42081        | -2e+009 | 71.2394     | 30m 3s       |</pre>"
      ],
      "text/plain": [
       "| 42081        | -2e+009 | 71.2394     | 30m 3s       |"
      ]
     },
     "metadata": {},
     "output_type": "display_data"
    },
    {
     "data": {
      "text/html": [
       "<pre>| 42105        | -2e+009 | 71.2798     | 30m 4s       |</pre>"
      ],
      "text/plain": [
       "| 42105        | -2e+009 | 71.2798     | 30m 4s       |"
      ]
     },
     "metadata": {},
     "output_type": "display_data"
    },
    {
     "data": {
      "text/html": [
       "<pre>| 42128        | -2e+009 | 71.3187     | 30m 5s       |</pre>"
      ],
      "text/plain": [
       "| 42128        | -2e+009 | 71.3187     | 30m 5s       |"
      ]
     },
     "metadata": {},
     "output_type": "display_data"
    },
    {
     "data": {
      "text/html": [
       "<pre>| 42150        | -2e+009 | 71.356      | 30m 6s       |</pre>"
      ],
      "text/plain": [
       "| 42150        | -2e+009 | 71.356      | 30m 6s       |"
      ]
     },
     "metadata": {},
     "output_type": "display_data"
    },
    {
     "data": {
      "text/html": [
       "<pre>| 42174        | -2e+009 | 71.3969     | 30m 7s       |</pre>"
      ],
      "text/plain": [
       "| 42174        | -2e+009 | 71.3969     | 30m 7s       |"
      ]
     },
     "metadata": {},
     "output_type": "display_data"
    },
    {
     "data": {
      "text/html": [
       "<pre>| 42198        | -2e+009 | 71.4369     | 30m 8s       |</pre>"
      ],
      "text/plain": [
       "| 42198        | -2e+009 | 71.4369     | 30m 8s       |"
      ]
     },
     "metadata": {},
     "output_type": "display_data"
    },
    {
     "data": {
      "text/html": [
       "<pre>| 42221        | -2e+009 | 71.4763     | 30m 9s       |</pre>"
      ],
      "text/plain": [
       "| 42221        | -2e+009 | 71.4763     | 30m 9s       |"
      ]
     },
     "metadata": {},
     "output_type": "display_data"
    },
    {
     "data": {
      "text/html": [
       "<pre>| 42246        | -2e+009 | 71.5175     | 30m 10s      |</pre>"
      ],
      "text/plain": [
       "| 42246        | -2e+009 | 71.5175     | 30m 10s      |"
      ]
     },
     "metadata": {},
     "output_type": "display_data"
    },
    {
     "data": {
      "text/html": [
       "<pre>| 42270        | -2e+009 | 71.5582     | 30m 11s      |</pre>"
      ],
      "text/plain": [
       "| 42270        | -2e+009 | 71.5582     | 30m 11s      |"
      ]
     },
     "metadata": {},
     "output_type": "display_data"
    },
    {
     "data": {
      "text/html": [
       "<pre>| 42294        | -2e+009 | 71.5987     | 30m 12s      |</pre>"
      ],
      "text/plain": [
       "| 42294        | -2e+009 | 71.5987     | 30m 12s      |"
      ]
     },
     "metadata": {},
     "output_type": "display_data"
    },
    {
     "data": {
      "text/html": [
       "<pre>| 42317        | -2e+009 | 71.6389     | 30m 13s      |</pre>"
      ],
      "text/plain": [
       "| 42317        | -2e+009 | 71.6389     | 30m 13s      |"
      ]
     },
     "metadata": {},
     "output_type": "display_data"
    },
    {
     "data": {
      "text/html": [
       "<pre>| 42341        | -2e+009 | 71.6797     | 30m 14s      |</pre>"
      ],
      "text/plain": [
       "| 42341        | -2e+009 | 71.6797     | 30m 14s      |"
      ]
     },
     "metadata": {},
     "output_type": "display_data"
    },
    {
     "data": {
      "text/html": [
       "<pre>| 42364        | -2e+009 | 71.718      | 30m 15s      |</pre>"
      ],
      "text/plain": [
       "| 42364        | -2e+009 | 71.718      | 30m 15s      |"
      ]
     },
     "metadata": {},
     "output_type": "display_data"
    },
    {
     "data": {
      "text/html": [
       "<pre>| 42382        | -2e+009 | 71.748      | 30m 16s      |</pre>"
      ],
      "text/plain": [
       "| 42382        | -2e+009 | 71.748      | 30m 16s      |"
      ]
     },
     "metadata": {},
     "output_type": "display_data"
    },
    {
     "data": {
      "text/html": [
       "<pre>| 42402        | -2e+009 | 71.7831     | 30m 17s      |</pre>"
      ],
      "text/plain": [
       "| 42402        | -2e+009 | 71.7831     | 30m 17s      |"
      ]
     },
     "metadata": {},
     "output_type": "display_data"
    },
    {
     "data": {
      "text/html": [
       "<pre>| 42421        | -2e+009 | 71.8149     | 30m 18s      |</pre>"
      ],
      "text/plain": [
       "| 42421        | -2e+009 | 71.8149     | 30m 18s      |"
      ]
     },
     "metadata": {},
     "output_type": "display_data"
    },
    {
     "data": {
      "text/html": [
       "<pre>| 42440        | -2e+009 | 71.8472     | 30m 19s      |</pre>"
      ],
      "text/plain": [
       "| 42440        | -2e+009 | 71.8472     | 30m 19s      |"
      ]
     },
     "metadata": {},
     "output_type": "display_data"
    },
    {
     "data": {
      "text/html": [
       "<pre>| 42462        | -2e+009 | 71.884      | 30m 20s      |</pre>"
      ],
      "text/plain": [
       "| 42462        | -2e+009 | 71.884      | 30m 20s      |"
      ]
     },
     "metadata": {},
     "output_type": "display_data"
    },
    {
     "data": {
      "text/html": [
       "<pre>| 42484        | -2e+009 | 71.9204     | 30m 21s      |</pre>"
      ],
      "text/plain": [
       "| 42484        | -2e+009 | 71.9204     | 30m 21s      |"
      ]
     },
     "metadata": {},
     "output_type": "display_data"
    },
    {
     "data": {
      "text/html": [
       "<pre>| 42502        | -2e+009 | 71.9508     | 30m 22s      |</pre>"
      ],
      "text/plain": [
       "| 42502        | -2e+009 | 71.9508     | 30m 22s      |"
      ]
     },
     "metadata": {},
     "output_type": "display_data"
    },
    {
     "data": {
      "text/html": [
       "<pre>| 42521        | -2e+009 | 71.9845     | 30m 23s      |</pre>"
      ],
      "text/plain": [
       "| 42521        | -2e+009 | 71.9845     | 30m 23s      |"
      ]
     },
     "metadata": {},
     "output_type": "display_data"
    },
    {
     "data": {
      "text/html": [
       "<pre>| 42543        | -2e+009 | 72.0218     | 30m 24s      |</pre>"
      ],
      "text/plain": [
       "| 42543        | -2e+009 | 72.0218     | 30m 24s      |"
      ]
     },
     "metadata": {},
     "output_type": "display_data"
    },
    {
     "data": {
      "text/html": [
       "<pre>| 42566        | -2e+009 | 72.0597     | 30m 25s      |</pre>"
      ],
      "text/plain": [
       "| 42566        | -2e+009 | 72.0597     | 30m 25s      |"
      ]
     },
     "metadata": {},
     "output_type": "display_data"
    },
    {
     "data": {
      "text/html": [
       "<pre>| 42585        | -2e+009 | 72.0928     | 30m 26s      |</pre>"
      ],
      "text/plain": [
       "| 42585        | -2e+009 | 72.0928     | 30m 26s      |"
      ]
     },
     "metadata": {},
     "output_type": "display_data"
    },
    {
     "data": {
      "text/html": [
       "<pre>| 42607        | -2e+009 | 72.1299     | 30m 27s      |</pre>"
      ],
      "text/plain": [
       "| 42607        | -2e+009 | 72.1299     | 30m 27s      |"
      ]
     },
     "metadata": {},
     "output_type": "display_data"
    },
    {
     "data": {
      "text/html": [
       "<pre>| 42629        | -2e+009 | 72.1665     | 30m 28s      |</pre>"
      ],
      "text/plain": [
       "| 42629        | -2e+009 | 72.1665     | 30m 28s      |"
      ]
     },
     "metadata": {},
     "output_type": "display_data"
    },
    {
     "data": {
      "text/html": [
       "<pre>| 42651        | -2e+009 | 72.204      | 30m 29s      |</pre>"
      ],
      "text/plain": [
       "| 42651        | -2e+009 | 72.204      | 30m 29s      |"
      ]
     },
     "metadata": {},
     "output_type": "display_data"
    },
    {
     "data": {
      "text/html": [
       "<pre>| 42673        | -2e+009 | 72.2418     | 30m 30s      |</pre>"
      ],
      "text/plain": [
       "| 42673        | -2e+009 | 72.2418     | 30m 30s      |"
      ]
     },
     "metadata": {},
     "output_type": "display_data"
    },
    {
     "data": {
      "text/html": [
       "<pre>| 42695        | -2e+009 | 72.2781     | 30m 31s      |</pre>"
      ],
      "text/plain": [
       "| 42695        | -2e+009 | 72.2781     | 30m 31s      |"
      ]
     },
     "metadata": {},
     "output_type": "display_data"
    },
    {
     "data": {
      "text/html": [
       "<pre>| 42718        | -2e+009 | 72.3174     | 30m 32s      |</pre>"
      ],
      "text/plain": [
       "| 42718        | -2e+009 | 72.3174     | 30m 32s      |"
      ]
     },
     "metadata": {},
     "output_type": "display_data"
    },
    {
     "data": {
      "text/html": [
       "<pre>| 42741        | -2e+009 | 72.3564     | 30m 33s      |</pre>"
      ],
      "text/plain": [
       "| 42741        | -2e+009 | 72.3564     | 30m 33s      |"
      ]
     },
     "metadata": {},
     "output_type": "display_data"
    },
    {
     "data": {
      "text/html": [
       "<pre>| 42764        | -2e+009 | 72.3956     | 30m 34s      |</pre>"
      ],
      "text/plain": [
       "| 42764        | -2e+009 | 72.3956     | 30m 34s      |"
      ]
     },
     "metadata": {},
     "output_type": "display_data"
    },
    {
     "data": {
      "text/html": [
       "<pre>| 42787        | -2e+009 | 72.4336     | 30m 35s      |</pre>"
      ],
      "text/plain": [
       "| 42787        | -2e+009 | 72.4336     | 30m 35s      |"
      ]
     },
     "metadata": {},
     "output_type": "display_data"
    },
    {
     "data": {
      "text/html": [
       "<pre>| 42810        | -2e+009 | 72.4724     | 30m 36s      |</pre>"
      ],
      "text/plain": [
       "| 42810        | -2e+009 | 72.4724     | 30m 36s      |"
      ]
     },
     "metadata": {},
     "output_type": "display_data"
    },
    {
     "data": {
      "text/html": [
       "<pre>| 42830        | -2e+009 | 72.5076     | 30m 37s      |</pre>"
      ],
      "text/plain": [
       "| 42830        | -2e+009 | 72.5076     | 30m 37s      |"
      ]
     },
     "metadata": {},
     "output_type": "display_data"
    },
    {
     "data": {
      "text/html": [
       "<pre>| 42852        | -2e+009 | 72.5441     | 30m 38s      |</pre>"
      ],
      "text/plain": [
       "| 42852        | -2e+009 | 72.5441     | 30m 38s      |"
      ]
     },
     "metadata": {},
     "output_type": "display_data"
    },
    {
     "data": {
      "text/html": [
       "<pre>| 42873        | -2e+009 | 72.5798     | 30m 39s      |</pre>"
      ],
      "text/plain": [
       "| 42873        | -2e+009 | 72.5798     | 30m 39s      |"
      ]
     },
     "metadata": {},
     "output_type": "display_data"
    },
    {
     "data": {
      "text/html": [
       "<pre>| 42892        | -2e+009 | 72.6119     | 30m 40s      |</pre>"
      ],
      "text/plain": [
       "| 42892        | -2e+009 | 72.6119     | 30m 40s      |"
      ]
     },
     "metadata": {},
     "output_type": "display_data"
    },
    {
     "data": {
      "text/html": [
       "<pre>| 42908        | -2e+009 | 72.6382     | 30m 41s      |</pre>"
      ],
      "text/plain": [
       "| 42908        | -2e+009 | 72.6382     | 30m 41s      |"
      ]
     },
     "metadata": {},
     "output_type": "display_data"
    },
    {
     "data": {
      "text/html": [
       "<pre>| 42929        | -2e+009 | 72.6746     | 30m 42s      |</pre>"
      ],
      "text/plain": [
       "| 42929        | -2e+009 | 72.6746     | 30m 42s      |"
      ]
     },
     "metadata": {},
     "output_type": "display_data"
    },
    {
     "data": {
      "text/html": [
       "<pre>| 42948        | -2e+009 | 72.7074     | 30m 43s      |</pre>"
      ],
      "text/plain": [
       "| 42948        | -2e+009 | 72.7074     | 30m 43s      |"
      ]
     },
     "metadata": {},
     "output_type": "display_data"
    },
    {
     "data": {
      "text/html": [
       "<pre>| 42971        | -2e+009 | 72.7452     | 30m 44s      |</pre>"
      ],
      "text/plain": [
       "| 42971        | -2e+009 | 72.7452     | 30m 44s      |"
      ]
     },
     "metadata": {},
     "output_type": "display_data"
    },
    {
     "data": {
      "text/html": [
       "<pre>| 42993        | -2e+009 | 72.7835     | 30m 45s      |</pre>"
      ],
      "text/plain": [
       "| 42993        | -2e+009 | 72.7835     | 30m 45s      |"
      ]
     },
     "metadata": {},
     "output_type": "display_data"
    },
    {
     "data": {
      "text/html": [
       "<pre>| 43015        | -2e+009 | 72.8205     | 30m 46s      |</pre>"
      ],
      "text/plain": [
       "| 43015        | -2e+009 | 72.8205     | 30m 46s      |"
      ]
     },
     "metadata": {},
     "output_type": "display_data"
    },
    {
     "data": {
      "text/html": [
       "<pre>| 43036        | -2e+009 | 72.8557     | 30m 47s      |</pre>"
      ],
      "text/plain": [
       "| 43036        | -2e+009 | 72.8557     | 30m 47s      |"
      ]
     },
     "metadata": {},
     "output_type": "display_data"
    },
    {
     "data": {
      "text/html": [
       "<pre>| 43055        | -2e+009 | 72.8877     | 30m 48s      |</pre>"
      ],
      "text/plain": [
       "| 43055        | -2e+009 | 72.8877     | 30m 48s      |"
      ]
     },
     "metadata": {},
     "output_type": "display_data"
    },
    {
     "data": {
      "text/html": [
       "<pre>| 43075        | -2e+009 | 72.9208     | 30m 49s      |</pre>"
      ],
      "text/plain": [
       "| 43075        | -2e+009 | 72.9208     | 30m 49s      |"
      ]
     },
     "metadata": {},
     "output_type": "display_data"
    },
    {
     "data": {
      "text/html": [
       "<pre>| 43095        | -2e+009 | 72.9551     | 30m 50s      |</pre>"
      ],
      "text/plain": [
       "| 43095        | -2e+009 | 72.9551     | 30m 50s      |"
      ]
     },
     "metadata": {},
     "output_type": "display_data"
    },
    {
     "data": {
      "text/html": [
       "<pre>| 43113        | -2e+009 | 72.9857     | 30m 51s      |</pre>"
      ],
      "text/plain": [
       "| 43113        | -2e+009 | 72.9857     | 30m 51s      |"
      ]
     },
     "metadata": {},
     "output_type": "display_data"
    },
    {
     "data": {
      "text/html": [
       "<pre>| 43133        | -2e+009 | 73.0192     | 30m 52s      |</pre>"
      ],
      "text/plain": [
       "| 43133        | -2e+009 | 73.0192     | 30m 52s      |"
      ]
     },
     "metadata": {},
     "output_type": "display_data"
    },
    {
     "data": {
      "text/html": [
       "<pre>| 43156        | -2e+009 | 73.0579     | 30m 53s      |</pre>"
      ],
      "text/plain": [
       "| 43156        | -2e+009 | 73.0579     | 30m 53s      |"
      ]
     },
     "metadata": {},
     "output_type": "display_data"
    },
    {
     "data": {
      "text/html": [
       "<pre>| 43179        | -2e+009 | 73.0971     | 30m 54s      |</pre>"
      ],
      "text/plain": [
       "| 43179        | -2e+009 | 73.0971     | 30m 54s      |"
      ]
     },
     "metadata": {},
     "output_type": "display_data"
    },
    {
     "data": {
      "text/html": [
       "<pre>| 43200        | -2e+009 | 73.134      | 30m 55s      |</pre>"
      ],
      "text/plain": [
       "| 43200        | -2e+009 | 73.134      | 30m 55s      |"
      ]
     },
     "metadata": {},
     "output_type": "display_data"
    },
    {
     "data": {
      "text/html": [
       "<pre>| 43221        | -2e+009 | 73.1693     | 30m 56s      |</pre>"
      ],
      "text/plain": [
       "| 43221        | -2e+009 | 73.1693     | 30m 56s      |"
      ]
     },
     "metadata": {},
     "output_type": "display_data"
    },
    {
     "data": {
      "text/html": [
       "<pre>| 43243        | -2e+009 | 73.2059     | 30m 57s      |</pre>"
      ],
      "text/plain": [
       "| 43243        | -2e+009 | 73.2059     | 30m 57s      |"
      ]
     },
     "metadata": {},
     "output_type": "display_data"
    },
    {
     "data": {
      "text/html": [
       "<pre>| 43266        | -2e+009 | 73.2446     | 30m 58s      |</pre>"
      ],
      "text/plain": [
       "| 43266        | -2e+009 | 73.2446     | 30m 58s      |"
      ]
     },
     "metadata": {},
     "output_type": "display_data"
    },
    {
     "data": {
      "text/html": [
       "<pre>| 43288        | -2e+009 | 73.2821     | 30m 59s      |</pre>"
      ],
      "text/plain": [
       "| 43288        | -2e+009 | 73.2821     | 30m 59s      |"
      ]
     },
     "metadata": {},
     "output_type": "display_data"
    },
    {
     "data": {
      "text/html": [
       "<pre>| 43311        | -2e+009 | 73.3203     | 31m 0s       |</pre>"
      ],
      "text/plain": [
       "| 43311        | -2e+009 | 73.3203     | 31m 0s       |"
      ]
     },
     "metadata": {},
     "output_type": "display_data"
    },
    {
     "data": {
      "text/html": [
       "<pre>| 43333        | -2e+009 | 73.3578     | 31m 1s       |</pre>"
      ],
      "text/plain": [
       "| 43333        | -2e+009 | 73.3578     | 31m 1s       |"
      ]
     },
     "metadata": {},
     "output_type": "display_data"
    },
    {
     "data": {
      "text/html": [
       "<pre>| 43356        | -2e+009 | 73.3975     | 31m 2s       |</pre>"
      ],
      "text/plain": [
       "| 43356        | -2e+009 | 73.3975     | 31m 2s       |"
      ]
     },
     "metadata": {},
     "output_type": "display_data"
    },
    {
     "data": {
      "text/html": [
       "<pre>| 43379        | -2e+009 | 73.4355     | 31m 3s       |</pre>"
      ],
      "text/plain": [
       "| 43379        | -2e+009 | 73.4355     | 31m 3s       |"
      ]
     },
     "metadata": {},
     "output_type": "display_data"
    },
    {
     "data": {
      "text/html": [
       "<pre>| 43402        | -2e+009 | 73.4749     | 31m 4s       |</pre>"
      ],
      "text/plain": [
       "| 43402        | -2e+009 | 73.4749     | 31m 4s       |"
      ]
     },
     "metadata": {},
     "output_type": "display_data"
    },
    {
     "data": {
      "text/html": [
       "<pre>| 43422        | -2e+009 | 73.5095     | 31m 5s       |</pre>"
      ],
      "text/plain": [
       "| 43422        | -2e+009 | 73.5095     | 31m 5s       |"
      ]
     },
     "metadata": {},
     "output_type": "display_data"
    },
    {
     "data": {
      "text/html": [
       "<pre>| 43441        | -2e+009 | 73.5412     | 31m 6s       |</pre>"
      ],
      "text/plain": [
       "| 43441        | -2e+009 | 73.5412     | 31m 6s       |"
      ]
     },
     "metadata": {},
     "output_type": "display_data"
    },
    {
     "data": {
      "text/html": [
       "<pre>| 43462        | -2e+009 | 73.5766     | 31m 7s       |</pre>"
      ],
      "text/plain": [
       "| 43462        | -2e+009 | 73.5766     | 31m 7s       |"
      ]
     },
     "metadata": {},
     "output_type": "display_data"
    },
    {
     "data": {
      "text/html": [
       "<pre>| 43479        | -2e+009 | 73.6047     | 31m 8s       |</pre>"
      ],
      "text/plain": [
       "| 43479        | -2e+009 | 73.6047     | 31m 8s       |"
      ]
     },
     "metadata": {},
     "output_type": "display_data"
    },
    {
     "data": {
      "text/html": [
       "<pre>| 43499        | -2e+009 | 73.6391     | 31m 9s       |</pre>"
      ],
      "text/plain": [
       "| 43499        | -2e+009 | 73.6391     | 31m 9s       |"
      ]
     },
     "metadata": {},
     "output_type": "display_data"
    },
    {
     "data": {
      "text/html": [
       "<pre>| 43522        | -2e+009 | 73.6785     | 31m 10s      |</pre>"
      ],
      "text/plain": [
       "| 43522        | -2e+009 | 73.6785     | 31m 10s      |"
      ]
     },
     "metadata": {},
     "output_type": "display_data"
    },
    {
     "data": {
      "text/html": [
       "<pre>| 43544        | -2e+009 | 73.7156     | 31m 11s      |</pre>"
      ],
      "text/plain": [
       "| 43544        | -2e+009 | 73.7156     | 31m 11s      |"
      ]
     },
     "metadata": {},
     "output_type": "display_data"
    },
    {
     "data": {
      "text/html": [
       "<pre>| 43566        | -2e+009 | 73.7531     | 31m 12s      |</pre>"
      ],
      "text/plain": [
       "| 43566        | -2e+009 | 73.7531     | 31m 12s      |"
      ]
     },
     "metadata": {},
     "output_type": "display_data"
    },
    {
     "data": {
      "text/html": [
       "<pre>| 43584        | -2e+009 | 73.7834     | 31m 13s      |</pre>"
      ],
      "text/plain": [
       "| 43584        | -2e+009 | 73.7834     | 31m 13s      |"
      ]
     },
     "metadata": {},
     "output_type": "display_data"
    },
    {
     "data": {
      "text/html": [
       "<pre>| 43607        | -2e+009 | 73.8221     | 31m 14s      |</pre>"
      ],
      "text/plain": [
       "| 43607        | -2e+009 | 73.8221     | 31m 14s      |"
      ]
     },
     "metadata": {},
     "output_type": "display_data"
    },
    {
     "data": {
      "text/html": [
       "<pre>| 43629        | -2e+009 | 73.8601     | 31m 15s      |</pre>"
      ],
      "text/plain": [
       "| 43629        | -2e+009 | 73.8601     | 31m 15s      |"
      ]
     },
     "metadata": {},
     "output_type": "display_data"
    },
    {
     "data": {
      "text/html": [
       "<pre>| 43652        | -2e+009 | 73.8983     | 31m 16s      |</pre>"
      ],
      "text/plain": [
       "| 43652        | -2e+009 | 73.8983     | 31m 16s      |"
      ]
     },
     "metadata": {},
     "output_type": "display_data"
    },
    {
     "data": {
      "text/html": [
       "<pre>| 43672        | -2e+009 | 73.933      | 31m 17s      |</pre>"
      ],
      "text/plain": [
       "| 43672        | -2e+009 | 73.933      | 31m 17s      |"
      ]
     },
     "metadata": {},
     "output_type": "display_data"
    },
    {
     "data": {
      "text/html": [
       "<pre>| 43689        | -2e+009 | 73.9613     | 31m 18s      |</pre>"
      ],
      "text/plain": [
       "| 43689        | -2e+009 | 73.9613     | 31m 18s      |"
      ]
     },
     "metadata": {},
     "output_type": "display_data"
    },
    {
     "data": {
      "text/html": [
       "<pre>| 43704        | -2e+009 | 73.9872     | 31m 19s      |</pre>"
      ],
      "text/plain": [
       "| 43704        | -2e+009 | 73.9872     | 31m 19s      |"
      ]
     },
     "metadata": {},
     "output_type": "display_data"
    },
    {
     "data": {
      "text/html": [
       "<pre>| 43724        | -2e+009 | 74.0198     | 31m 20s      |</pre>"
      ],
      "text/plain": [
       "| 43724        | -2e+009 | 74.0198     | 31m 20s      |"
      ]
     },
     "metadata": {},
     "output_type": "display_data"
    },
    {
     "data": {
      "text/html": [
       "<pre>| 43746        | -2e+009 | 74.0573     | 31m 21s      |</pre>"
      ],
      "text/plain": [
       "| 43746        | -2e+009 | 74.0573     | 31m 21s      |"
      ]
     },
     "metadata": {},
     "output_type": "display_data"
    },
    {
     "data": {
      "text/html": [
       "<pre>| 43769        | -2e+009 | 74.0963     | 31m 22s      |</pre>"
      ],
      "text/plain": [
       "| 43769        | -2e+009 | 74.0963     | 31m 22s      |"
      ]
     },
     "metadata": {},
     "output_type": "display_data"
    },
    {
     "data": {
      "text/html": [
       "<pre>| 43792        | -2e+009 | 74.1355     | 31m 23s      |</pre>"
      ],
      "text/plain": [
       "| 43792        | -2e+009 | 74.1355     | 31m 23s      |"
      ]
     },
     "metadata": {},
     "output_type": "display_data"
    },
    {
     "data": {
      "text/html": [
       "<pre>| 43814        | -2e+009 | 74.1729     | 31m 24s      |</pre>"
      ],
      "text/plain": [
       "| 43814        | -2e+009 | 74.1729     | 31m 24s      |"
      ]
     },
     "metadata": {},
     "output_type": "display_data"
    },
    {
     "data": {
      "text/html": [
       "<pre>| 43829        | -2e+009 | 74.1988     | 31m 25s      |</pre>"
      ],
      "text/plain": [
       "| 43829        | -2e+009 | 74.1988     | 31m 25s      |"
      ]
     },
     "metadata": {},
     "output_type": "display_data"
    },
    {
     "data": {
      "text/html": [
       "<pre>| 43844        | -2e+009 | 74.223      | 31m 26s      |</pre>"
      ],
      "text/plain": [
       "| 43844        | -2e+009 | 74.223      | 31m 26s      |"
      ]
     },
     "metadata": {},
     "output_type": "display_data"
    },
    {
     "data": {
      "text/html": [
       "<pre>| 43862        | -2e+009 | 74.2531     | 31m 27s      |</pre>"
      ],
      "text/plain": [
       "| 43862        | -2e+009 | 74.2531     | 31m 27s      |"
      ]
     },
     "metadata": {},
     "output_type": "display_data"
    },
    {
     "data": {
      "text/html": [
       "<pre>| 43883        | -2e+009 | 74.2887     | 31m 28s      |</pre>"
      ],
      "text/plain": [
       "| 43883        | -2e+009 | 74.2887     | 31m 28s      |"
      ]
     },
     "metadata": {},
     "output_type": "display_data"
    },
    {
     "data": {
      "text/html": [
       "<pre>| 43897        | -2e+009 | 74.3139     | 31m 29s      |</pre>"
      ],
      "text/plain": [
       "| 43897        | -2e+009 | 74.3139     | 31m 29s      |"
      ]
     },
     "metadata": {},
     "output_type": "display_data"
    },
    {
     "data": {
      "text/html": [
       "<pre>| 43913        | -2e+009 | 74.3407     | 31m 30s      |</pre>"
      ],
      "text/plain": [
       "| 43913        | -2e+009 | 74.3407     | 31m 30s      |"
      ]
     },
     "metadata": {},
     "output_type": "display_data"
    },
    {
     "data": {
      "text/html": [
       "<pre>| 43934        | -2e+009 | 74.3751     | 31m 31s      |</pre>"
      ],
      "text/plain": [
       "| 43934        | -2e+009 | 74.3751     | 31m 31s      |"
      ]
     },
     "metadata": {},
     "output_type": "display_data"
    },
    {
     "data": {
      "text/html": [
       "<pre>| 43956        | -2e+009 | 74.4135     | 31m 32s      |</pre>"
      ],
      "text/plain": [
       "| 43956        | -2e+009 | 74.4135     | 31m 32s      |"
      ]
     },
     "metadata": {},
     "output_type": "display_data"
    },
    {
     "data": {
      "text/html": [
       "<pre>| 43976        | -2e+009 | 74.4466     | 31m 33s      |</pre>"
      ],
      "text/plain": [
       "| 43976        | -2e+009 | 74.4466     | 31m 33s      |"
      ]
     },
     "metadata": {},
     "output_type": "display_data"
    },
    {
     "data": {
      "text/html": [
       "<pre>| 43994        | -2e+009 | 74.4775     | 31m 34s      |</pre>"
      ],
      "text/plain": [
       "| 43994        | -2e+009 | 74.4775     | 31m 34s      |"
      ]
     },
     "metadata": {},
     "output_type": "display_data"
    },
    {
     "data": {
      "text/html": [
       "<pre>| 44010        | -2e+009 | 74.5041     | 31m 35s      |</pre>"
      ],
      "text/plain": [
       "| 44010        | -2e+009 | 74.5041     | 31m 35s      |"
      ]
     },
     "metadata": {},
     "output_type": "display_data"
    },
    {
     "data": {
      "text/html": [
       "<pre>| 44025        | -2e+009 | 74.5303     | 31m 36s      |</pre>"
      ],
      "text/plain": [
       "| 44025        | -2e+009 | 74.5303     | 31m 36s      |"
      ]
     },
     "metadata": {},
     "output_type": "display_data"
    },
    {
     "data": {
      "text/html": [
       "<pre>| 44043        | -2e+009 | 74.5609     | 31m 37s      |</pre>"
      ],
      "text/plain": [
       "| 44043        | -2e+009 | 74.5609     | 31m 37s      |"
      ]
     },
     "metadata": {},
     "output_type": "display_data"
    },
    {
     "data": {
      "text/html": [
       "<pre>| 44064        | -2e+009 | 74.5955     | 31m 38s      |</pre>"
      ],
      "text/plain": [
       "| 44064        | -2e+009 | 74.5955     | 31m 38s      |"
      ]
     },
     "metadata": {},
     "output_type": "display_data"
    },
    {
     "data": {
      "text/html": [
       "<pre>| 44087        | -2e+009 | 74.6353     | 31m 39s      |</pre>"
      ],
      "text/plain": [
       "| 44087        | -2e+009 | 74.6353     | 31m 39s      |"
      ]
     },
     "metadata": {},
     "output_type": "display_data"
    },
    {
     "data": {
      "text/html": [
       "<pre>| 44110        | -2e+009 | 74.6745     | 31m 40s      |</pre>"
      ],
      "text/plain": [
       "| 44110        | -2e+009 | 74.6745     | 31m 40s      |"
      ]
     },
     "metadata": {},
     "output_type": "display_data"
    },
    {
     "data": {
      "text/html": [
       "<pre>| 44134        | -2e+009 | 74.7146     | 31m 41s      |</pre>"
      ],
      "text/plain": [
       "| 44134        | -2e+009 | 74.7146     | 31m 41s      |"
      ]
     },
     "metadata": {},
     "output_type": "display_data"
    },
    {
     "data": {
      "text/html": [
       "<pre>| 44158        | -2e+009 | 74.7545     | 31m 42s      |</pre>"
      ],
      "text/plain": [
       "| 44158        | -2e+009 | 74.7545     | 31m 42s      |"
      ]
     },
     "metadata": {},
     "output_type": "display_data"
    },
    {
     "data": {
      "text/html": [
       "<pre>| 44182        | -2e+009 | 74.7949     | 31m 43s      |</pre>"
      ],
      "text/plain": [
       "| 44182        | -2e+009 | 74.7949     | 31m 43s      |"
      ]
     },
     "metadata": {},
     "output_type": "display_data"
    },
    {
     "data": {
      "text/html": [
       "<pre>| 44205        | -2e+009 | 74.835      | 31m 44s      |</pre>"
      ],
      "text/plain": [
       "| 44205        | -2e+009 | 74.835      | 31m 44s      |"
      ]
     },
     "metadata": {},
     "output_type": "display_data"
    },
    {
     "data": {
      "text/html": [
       "<pre>| 44229        | -2e+009 | 74.8757     | 31m 45s      |</pre>"
      ],
      "text/plain": [
       "| 44229        | -2e+009 | 74.8757     | 31m 45s      |"
      ]
     },
     "metadata": {},
     "output_type": "display_data"
    },
    {
     "data": {
      "text/html": [
       "<pre>| 44249        | -2e+009 | 74.9095     | 31m 46s      |</pre>"
      ],
      "text/plain": [
       "| 44249        | -2e+009 | 74.9095     | 31m 46s      |"
      ]
     },
     "metadata": {},
     "output_type": "display_data"
    },
    {
     "data": {
      "text/html": [
       "<pre>| 44268        | -2e+009 | 74.9415     | 31m 47s      |</pre>"
      ],
      "text/plain": [
       "| 44268        | -2e+009 | 74.9415     | 31m 47s      |"
      ]
     },
     "metadata": {},
     "output_type": "display_data"
    },
    {
     "data": {
      "text/html": [
       "<pre>| 44287        | -2e+009 | 74.9731     | 31m 48s      |</pre>"
      ],
      "text/plain": [
       "| 44287        | -2e+009 | 74.9731     | 31m 48s      |"
      ]
     },
     "metadata": {},
     "output_type": "display_data"
    },
    {
     "data": {
      "text/html": [
       "<pre>| 44303        | -2e+009 | 74.9998     | 31m 49s      |</pre>"
      ],
      "text/plain": [
       "| 44303        | -2e+009 | 74.9998     | 31m 49s      |"
      ]
     },
     "metadata": {},
     "output_type": "display_data"
    },
    {
     "data": {
      "text/html": [
       "<pre>| 44329        | -2e+009 | 75.0441     | 31m 50s      |</pre>"
      ],
      "text/plain": [
       "| 44329        | -2e+009 | 75.0441     | 31m 50s      |"
      ]
     },
     "metadata": {},
     "output_type": "display_data"
    },
    {
     "data": {
      "text/html": [
       "<pre>| 44353        | -2e+009 | 75.0854     | 31m 51s      |</pre>"
      ],
      "text/plain": [
       "| 44353        | -2e+009 | 75.0854     | 31m 51s      |"
      ]
     },
     "metadata": {},
     "output_type": "display_data"
    },
    {
     "data": {
      "text/html": [
       "<pre>| 44378        | -2e+009 | 75.1275     | 31m 52s      |</pre>"
      ],
      "text/plain": [
       "| 44378        | -2e+009 | 75.1275     | 31m 52s      |"
      ]
     },
     "metadata": {},
     "output_type": "display_data"
    },
    {
     "data": {
      "text/html": [
       "<pre>| 44403        | -2e+009 | 75.1702     | 31m 53s      |</pre>"
      ],
      "text/plain": [
       "| 44403        | -2e+009 | 75.1702     | 31m 53s      |"
      ]
     },
     "metadata": {},
     "output_type": "display_data"
    },
    {
     "data": {
      "text/html": [
       "<pre>| 44428        | -2e+009 | 75.2128     | 31m 54s      |</pre>"
      ],
      "text/plain": [
       "| 44428        | -2e+009 | 75.2128     | 31m 54s      |"
      ]
     },
     "metadata": {},
     "output_type": "display_data"
    },
    {
     "data": {
      "text/html": [
       "<pre>| 44452        | -2e+009 | 75.2521     | 31m 55s      |</pre>"
      ],
      "text/plain": [
       "| 44452        | -2e+009 | 75.2521     | 31m 55s      |"
      ]
     },
     "metadata": {},
     "output_type": "display_data"
    },
    {
     "data": {
      "text/html": [
       "<pre>| 44475        | -2e+009 | 75.2912     | 31m 56s      |</pre>"
      ],
      "text/plain": [
       "| 44475        | -2e+009 | 75.2912     | 31m 56s      |"
      ]
     },
     "metadata": {},
     "output_type": "display_data"
    },
    {
     "data": {
      "text/html": [
       "<pre>| 44499        | -2e+009 | 75.3317     | 31m 57s      |</pre>"
      ],
      "text/plain": [
       "| 44499        | -2e+009 | 75.3317     | 31m 57s      |"
      ]
     },
     "metadata": {},
     "output_type": "display_data"
    },
    {
     "data": {
      "text/html": [
       "<pre>| 44523        | -2e+009 | 75.3734     | 31m 58s      |</pre>"
      ],
      "text/plain": [
       "| 44523        | -2e+009 | 75.3734     | 31m 58s      |"
      ]
     },
     "metadata": {},
     "output_type": "display_data"
    },
    {
     "data": {
      "text/html": [
       "<pre>| 44548        | -2e+009 | 75.4155     | 31m 59s      |</pre>"
      ],
      "text/plain": [
       "| 44548        | -2e+009 | 75.4155     | 31m 59s      |"
      ]
     },
     "metadata": {},
     "output_type": "display_data"
    },
    {
     "data": {
      "text/html": [
       "<pre>| 44573        | -2e+009 | 75.4572     | 32m 0s       |</pre>"
      ],
      "text/plain": [
       "| 44573        | -2e+009 | 75.4572     | 32m 0s       |"
      ]
     },
     "metadata": {},
     "output_type": "display_data"
    },
    {
     "data": {
      "text/html": [
       "<pre>| 44597        | -2e+009 | 75.4989     | 32m 1s       |</pre>"
      ],
      "text/plain": [
       "| 44597        | -2e+009 | 75.4989     | 32m 1s       |"
      ]
     },
     "metadata": {},
     "output_type": "display_data"
    },
    {
     "data": {
      "text/html": [
       "<pre>| 44622        | -2e+009 | 75.5408     | 32m 2s       |</pre>"
      ],
      "text/plain": [
       "| 44622        | -2e+009 | 75.5408     | 32m 2s       |"
      ]
     },
     "metadata": {},
     "output_type": "display_data"
    },
    {
     "data": {
      "text/html": [
       "<pre>| 44647        | -2e+009 | 75.5831     | 32m 3s       |</pre>"
      ],
      "text/plain": [
       "| 44647        | -2e+009 | 75.5831     | 32m 3s       |"
      ]
     },
     "metadata": {},
     "output_type": "display_data"
    },
    {
     "data": {
      "text/html": [
       "<pre>| 44672        | -2e+009 | 75.6245     | 32m 4s       |</pre>"
      ],
      "text/plain": [
       "| 44672        | -2e+009 | 75.6245     | 32m 4s       |"
      ]
     },
     "metadata": {},
     "output_type": "display_data"
    },
    {
     "data": {
      "text/html": [
       "<pre>| 44696        | -2e+009 | 75.6654     | 32m 5s       |</pre>"
      ],
      "text/plain": [
       "| 44696        | -2e+009 | 75.6654     | 32m 5s       |"
      ]
     },
     "metadata": {},
     "output_type": "display_data"
    },
    {
     "data": {
      "text/html": [
       "<pre>| 44721        | -2e+009 | 75.7076     | 32m 6s       |</pre>"
      ],
      "text/plain": [
       "| 44721        | -2e+009 | 75.7076     | 32m 6s       |"
      ]
     },
     "metadata": {},
     "output_type": "display_data"
    },
    {
     "data": {
      "text/html": [
       "<pre>| 44746        | -2e+009 | 75.7499     | 32m 7s       |</pre>"
      ],
      "text/plain": [
       "| 44746        | -2e+009 | 75.7499     | 32m 7s       |"
      ]
     },
     "metadata": {},
     "output_type": "display_data"
    },
    {
     "data": {
      "text/html": [
       "<pre>| 44769        | -2e+009 | 75.789      | 32m 8s       |</pre>"
      ],
      "text/plain": [
       "| 44769        | -2e+009 | 75.789      | 32m 8s       |"
      ]
     },
     "metadata": {},
     "output_type": "display_data"
    },
    {
     "data": {
      "text/html": [
       "<pre>| 44793        | -2e+009 | 75.8304     | 32m 9s       |</pre>"
      ],
      "text/plain": [
       "| 44793        | -2e+009 | 75.8304     | 32m 9s       |"
      ]
     },
     "metadata": {},
     "output_type": "display_data"
    },
    {
     "data": {
      "text/html": [
       "<pre>| 44818        | -2e+009 | 75.8714     | 32m 10s      |</pre>"
      ],
      "text/plain": [
       "| 44818        | -2e+009 | 75.8714     | 32m 10s      |"
      ]
     },
     "metadata": {},
     "output_type": "display_data"
    },
    {
     "data": {
      "text/html": [
       "<pre>| 44842        | -2e+009 | 75.9133     | 32m 11s      |</pre>"
      ],
      "text/plain": [
       "| 44842        | -2e+009 | 75.9133     | 32m 11s      |"
      ]
     },
     "metadata": {},
     "output_type": "display_data"
    },
    {
     "data": {
      "text/html": [
       "<pre>| 44867        | -2e+009 | 75.9546     | 32m 12s      |</pre>"
      ],
      "text/plain": [
       "| 44867        | -2e+009 | 75.9546     | 32m 12s      |"
      ]
     },
     "metadata": {},
     "output_type": "display_data"
    },
    {
     "data": {
      "text/html": [
       "<pre>| 44891        | -2e+009 | 75.9957     | 32m 13s      |</pre>"
      ],
      "text/plain": [
       "| 44891        | -2e+009 | 75.9957     | 32m 13s      |"
      ]
     },
     "metadata": {},
     "output_type": "display_data"
    },
    {
     "data": {
      "text/html": [
       "<pre>| 44916        | -2e+009 | 76.0373     | 32m 14s      |</pre>"
      ],
      "text/plain": [
       "| 44916        | -2e+009 | 76.0373     | 32m 14s      |"
      ]
     },
     "metadata": {},
     "output_type": "display_data"
    },
    {
     "data": {
      "text/html": [
       "<pre>| 44940        | -2e+009 | 76.0782     | 32m 15s      |</pre>"
      ],
      "text/plain": [
       "| 44940        | -2e+009 | 76.0782     | 32m 15s      |"
      ]
     },
     "metadata": {},
     "output_type": "display_data"
    },
    {
     "data": {
      "text/html": [
       "<pre>| 44963        | -2e+009 | 76.1181     | 32m 16s      |</pre>"
      ],
      "text/plain": [
       "| 44963        | -2e+009 | 76.1181     | 32m 16s      |"
      ]
     },
     "metadata": {},
     "output_type": "display_data"
    },
    {
     "data": {
      "text/html": [
       "<pre>| 44982        | -2e+009 | 76.1506     | 32m 17s      |</pre>"
      ],
      "text/plain": [
       "| 44982        | -2e+009 | 76.1506     | 32m 17s      |"
      ]
     },
     "metadata": {},
     "output_type": "display_data"
    },
    {
     "data": {
      "text/html": [
       "<pre>| 45005        | -2e+009 | 76.188      | 32m 18s      |</pre>"
      ],
      "text/plain": [
       "| 45005        | -2e+009 | 76.188      | 32m 18s      |"
      ]
     },
     "metadata": {},
     "output_type": "display_data"
    },
    {
     "data": {
      "text/html": [
       "<pre>| 45025        | -2e+009 | 76.2224     | 32m 19s      |</pre>"
      ],
      "text/plain": [
       "| 45025        | -2e+009 | 76.2224     | 32m 19s      |"
      ]
     },
     "metadata": {},
     "output_type": "display_data"
    },
    {
     "data": {
      "text/html": [
       "<pre>| 45044        | -2e+009 | 76.254      | 32m 20s      |</pre>"
      ],
      "text/plain": [
       "| 45044        | -2e+009 | 76.254      | 32m 20s      |"
      ]
     },
     "metadata": {},
     "output_type": "display_data"
    },
    {
     "data": {
      "text/html": [
       "<pre>| 45066        | -2e+009 | 76.2919     | 32m 21s      |</pre>"
      ],
      "text/plain": [
       "| 45066        | -2e+009 | 76.2919     | 32m 21s      |"
      ]
     },
     "metadata": {},
     "output_type": "display_data"
    },
    {
     "data": {
      "text/html": [
       "<pre>| 45089        | -2e+009 | 76.3313     | 32m 22s      |</pre>"
      ],
      "text/plain": [
       "| 45089        | -2e+009 | 76.3313     | 32m 22s      |"
      ]
     },
     "metadata": {},
     "output_type": "display_data"
    },
    {
     "data": {
      "text/html": [
       "<pre>| 45113        | -2e+009 | 76.3717     | 32m 23s      |</pre>"
      ],
      "text/plain": [
       "| 45113        | -2e+009 | 76.3717     | 32m 23s      |"
      ]
     },
     "metadata": {},
     "output_type": "display_data"
    },
    {
     "data": {
      "text/html": [
       "<pre>| 45137        | -2e+009 | 76.413      | 32m 24s      |</pre>"
      ],
      "text/plain": [
       "| 45137        | -2e+009 | 76.413      | 32m 24s      |"
      ]
     },
     "metadata": {},
     "output_type": "display_data"
    },
    {
     "data": {
      "text/html": [
       "<pre>| 45161        | -2e+009 | 76.4537     | 32m 25s      |</pre>"
      ],
      "text/plain": [
       "| 45161        | -2e+009 | 76.4537     | 32m 25s      |"
      ]
     },
     "metadata": {},
     "output_type": "display_data"
    },
    {
     "data": {
      "text/html": [
       "<pre>| 45186        | -2e+009 | 76.4957     | 32m 26s      |</pre>"
      ],
      "text/plain": [
       "| 45186        | -2e+009 | 76.4957     | 32m 26s      |"
      ]
     },
     "metadata": {},
     "output_type": "display_data"
    },
    {
     "data": {
      "text/html": [
       "<pre>| 45210        | -2e+009 | 76.5362     | 32m 27s      |</pre>"
      ],
      "text/plain": [
       "| 45210        | -2e+009 | 76.5362     | 32m 27s      |"
      ]
     },
     "metadata": {},
     "output_type": "display_data"
    },
    {
     "data": {
      "text/html": [
       "<pre>| 45227        | -2e+009 | 76.5653     | 32m 28s      |</pre>"
      ],
      "text/plain": [
       "| 45227        | -2e+009 | 76.5653     | 32m 28s      |"
      ]
     },
     "metadata": {},
     "output_type": "display_data"
    },
    {
     "data": {
      "text/html": [
       "<pre>| 45246        | -2e+009 | 76.5961     | 32m 29s      |</pre>"
      ],
      "text/plain": [
       "| 45246        | -2e+009 | 76.5961     | 32m 29s      |"
      ]
     },
     "metadata": {},
     "output_type": "display_data"
    },
    {
     "data": {
      "text/html": [
       "<pre>| 45268        | -2e+009 | 76.6334     | 32m 30s      |</pre>"
      ],
      "text/plain": [
       "| 45268        | -2e+009 | 76.6334     | 32m 30s      |"
      ]
     },
     "metadata": {},
     "output_type": "display_data"
    },
    {
     "data": {
      "text/html": [
       "<pre>| 45288        | -2e+009 | 76.6677     | 32m 31s      |</pre>"
      ],
      "text/plain": [
       "| 45288        | -2e+009 | 76.6677     | 32m 31s      |"
      ]
     },
     "metadata": {},
     "output_type": "display_data"
    },
    {
     "data": {
      "text/html": [
       "<pre>| 45308        | -2e+009 | 76.7021     | 32m 32s      |</pre>"
      ],
      "text/plain": [
       "| 45308        | -2e+009 | 76.7021     | 32m 32s      |"
      ]
     },
     "metadata": {},
     "output_type": "display_data"
    },
    {
     "data": {
      "text/html": [
       "<pre>| 45325        | -2e+009 | 76.7309     | 32m 33s      |</pre>"
      ],
      "text/plain": [
       "| 45325        | -2e+009 | 76.7309     | 32m 33s      |"
      ]
     },
     "metadata": {},
     "output_type": "display_data"
    },
    {
     "data": {
      "text/html": [
       "<pre>| 45344        | -2e+009 | 76.7634     | 32m 34s      |</pre>"
      ],
      "text/plain": [
       "| 45344        | -2e+009 | 76.7634     | 32m 34s      |"
      ]
     },
     "metadata": {},
     "output_type": "display_data"
    },
    {
     "data": {
      "text/html": [
       "<pre>| 45367        | -2e+009 | 76.8013     | 32m 35s      |</pre>"
      ],
      "text/plain": [
       "| 45367        | -2e+009 | 76.8013     | 32m 35s      |"
      ]
     },
     "metadata": {},
     "output_type": "display_data"
    },
    {
     "data": {
      "text/html": [
       "<pre>| 45389        | -2e+009 | 76.8381     | 32m 36s      |</pre>"
      ],
      "text/plain": [
       "| 45389        | -2e+009 | 76.8381     | 32m 36s      |"
      ]
     },
     "metadata": {},
     "output_type": "display_data"
    },
    {
     "data": {
      "text/html": [
       "<pre>| 45412        | -2e+009 | 76.8774     | 32m 37s      |</pre>"
      ],
      "text/plain": [
       "| 45412        | -2e+009 | 76.8774     | 32m 37s      |"
      ]
     },
     "metadata": {},
     "output_type": "display_data"
    },
    {
     "data": {
      "text/html": [
       "<pre>| 45435        | -2e+009 | 76.9168     | 32m 38s      |</pre>"
      ],
      "text/plain": [
       "| 45435        | -2e+009 | 76.9168     | 32m 38s      |"
      ]
     },
     "metadata": {},
     "output_type": "display_data"
    },
    {
     "data": {
      "text/html": [
       "<pre>| 45457        | -2e+009 | 76.9542     | 32m 39s      |</pre>"
      ],
      "text/plain": [
       "| 45457        | -2e+009 | 76.9542     | 32m 39s      |"
      ]
     },
     "metadata": {},
     "output_type": "display_data"
    },
    {
     "data": {
      "text/html": [
       "<pre>| 45479        | -2e+009 | 76.9904     | 32m 40s      |</pre>"
      ],
      "text/plain": [
       "| 45479        | -2e+009 | 76.9904     | 32m 40s      |"
      ]
     },
     "metadata": {},
     "output_type": "display_data"
    },
    {
     "data": {
      "text/html": [
       "<pre>| 45501        | -2e+009 | 77.0281     | 32m 41s      |</pre>"
      ],
      "text/plain": [
       "| 45501        | -2e+009 | 77.0281     | 32m 41s      |"
      ]
     },
     "metadata": {},
     "output_type": "display_data"
    },
    {
     "data": {
      "text/html": [
       "<pre>| 45524        | -2e+009 | 77.0671     | 32m 42s      |</pre>"
      ],
      "text/plain": [
       "| 45524        | -2e+009 | 77.0671     | 32m 42s      |"
      ]
     },
     "metadata": {},
     "output_type": "display_data"
    },
    {
     "data": {
      "text/html": [
       "<pre>| 45547        | -2e+009 | 77.1067     | 32m 43s      |</pre>"
      ],
      "text/plain": [
       "| 45547        | -2e+009 | 77.1067     | 32m 43s      |"
      ]
     },
     "metadata": {},
     "output_type": "display_data"
    },
    {
     "data": {
      "text/html": [
       "<pre>| 45570        | -2e+009 | 77.1447     | 32m 44s      |</pre>"
      ],
      "text/plain": [
       "| 45570        | -2e+009 | 77.1447     | 32m 44s      |"
      ]
     },
     "metadata": {},
     "output_type": "display_data"
    },
    {
     "data": {
      "text/html": [
       "<pre>| 45592        | -2e+009 | 77.1829     | 32m 45s      |</pre>"
      ],
      "text/plain": [
       "| 45592        | -2e+009 | 77.1829     | 32m 45s      |"
      ]
     },
     "metadata": {},
     "output_type": "display_data"
    },
    {
     "data": {
      "text/html": [
       "<pre>| 45613        | -2e+009 | 77.2181     | 32m 46s      |</pre>"
      ],
      "text/plain": [
       "| 45613        | -2e+009 | 77.2181     | 32m 46s      |"
      ]
     },
     "metadata": {},
     "output_type": "display_data"
    },
    {
     "data": {
      "text/html": [
       "<pre>| 45632        | -2e+009 | 77.2505     | 32m 47s      |</pre>"
      ],
      "text/plain": [
       "| 45632        | -2e+009 | 77.2505     | 32m 47s      |"
      ]
     },
     "metadata": {},
     "output_type": "display_data"
    },
    {
     "data": {
      "text/html": [
       "<pre>| 45652        | -2e+009 | 77.2848     | 32m 48s      |</pre>"
      ],
      "text/plain": [
       "| 45652        | -2e+009 | 77.2848     | 32m 48s      |"
      ]
     },
     "metadata": {},
     "output_type": "display_data"
    },
    {
     "data": {
      "text/html": [
       "<pre>| 45671        | -2e+009 | 77.3163     | 32m 49s      |</pre>"
      ],
      "text/plain": [
       "| 45671        | -2e+009 | 77.3163     | 32m 49s      |"
      ]
     },
     "metadata": {},
     "output_type": "display_data"
    },
    {
     "data": {
      "text/html": [
       "<pre>| 45694        | -2e+009 | 77.3557     | 32m 50s      |</pre>"
      ],
      "text/plain": [
       "| 45694        | -2e+009 | 77.3557     | 32m 50s      |"
      ]
     },
     "metadata": {},
     "output_type": "display_data"
    },
    {
     "data": {
      "text/html": [
       "<pre>| 45712        | -2e+009 | 77.3864     | 32m 51s      |</pre>"
      ],
      "text/plain": [
       "| 45712        | -2e+009 | 77.3864     | 32m 51s      |"
      ]
     },
     "metadata": {},
     "output_type": "display_data"
    },
    {
     "data": {
      "text/html": [
       "<pre>| 45736        | -2e+009 | 77.4266     | 32m 52s      |</pre>"
      ],
      "text/plain": [
       "| 45736        | -2e+009 | 77.4266     | 32m 52s      |"
      ]
     },
     "metadata": {},
     "output_type": "display_data"
    },
    {
     "data": {
      "text/html": [
       "<pre>| 45760        | -2e+009 | 77.4676     | 32m 53s      |</pre>"
      ],
      "text/plain": [
       "| 45760        | -2e+009 | 77.4676     | 32m 53s      |"
      ]
     },
     "metadata": {},
     "output_type": "display_data"
    },
    {
     "data": {
      "text/html": [
       "<pre>| 45782        | -2e+009 | 77.5049     | 32m 54s      |</pre>"
      ],
      "text/plain": [
       "| 45782        | -2e+009 | 77.5049     | 32m 54s      |"
      ]
     },
     "metadata": {},
     "output_type": "display_data"
    },
    {
     "data": {
      "text/html": [
       "<pre>| 45805        | -2e+009 | 77.5437     | 32m 55s      |</pre>"
      ],
      "text/plain": [
       "| 45805        | -2e+009 | 77.5437     | 32m 55s      |"
      ]
     },
     "metadata": {},
     "output_type": "display_data"
    },
    {
     "data": {
      "text/html": [
       "<pre>| 45829        | -2e+009 | 77.5842     | 32m 56s      |</pre>"
      ],
      "text/plain": [
       "| 45829        | -2e+009 | 77.5842     | 32m 56s      |"
      ]
     },
     "metadata": {},
     "output_type": "display_data"
    },
    {
     "data": {
      "text/html": [
       "<pre>| 45853        | -2e+009 | 77.6252     | 32m 57s      |</pre>"
      ],
      "text/plain": [
       "| 45853        | -2e+009 | 77.6252     | 32m 57s      |"
      ]
     },
     "metadata": {},
     "output_type": "display_data"
    },
    {
     "data": {
      "text/html": [
       "<pre>| 45877        | -2e+009 | 77.6656     | 32m 58s      |</pre>"
      ],
      "text/plain": [
       "| 45877        | -2e+009 | 77.6656     | 32m 58s      |"
      ]
     },
     "metadata": {},
     "output_type": "display_data"
    },
    {
     "data": {
      "text/html": [
       "<pre>| 45901        | -2e+009 | 77.7063     | 32m 59s      |</pre>"
      ],
      "text/plain": [
       "| 45901        | -2e+009 | 77.7063     | 32m 59s      |"
      ]
     },
     "metadata": {},
     "output_type": "display_data"
    },
    {
     "data": {
      "text/html": [
       "<pre>| 45925        | -2e+009 | 77.747      | 33m 0s       |</pre>"
      ],
      "text/plain": [
       "| 45925        | -2e+009 | 77.747      | 33m 0s       |"
      ]
     },
     "metadata": {},
     "output_type": "display_data"
    },
    {
     "data": {
      "text/html": [
       "<pre>| 45950        | -2e+009 | 77.7879     | 33m 1s       |</pre>"
      ],
      "text/plain": [
       "| 45950        | -2e+009 | 77.7879     | 33m 1s       |"
      ]
     },
     "metadata": {},
     "output_type": "display_data"
    },
    {
     "data": {
      "text/html": [
       "<pre>| 45973        | -2e+009 | 77.828      | 33m 2s       |</pre>"
      ],
      "text/plain": [
       "| 45973        | -2e+009 | 77.828      | 33m 2s       |"
      ]
     },
     "metadata": {},
     "output_type": "display_data"
    },
    {
     "data": {
      "text/html": [
       "<pre>| 45996        | -2e+009 | 77.8658     | 33m 3s       |</pre>"
      ],
      "text/plain": [
       "| 45996        | -2e+009 | 77.8658     | 33m 3s       |"
      ]
     },
     "metadata": {},
     "output_type": "display_data"
    },
    {
     "data": {
      "text/html": [
       "<pre>| 46018        | -2e+009 | 77.9033     | 33m 4s       |</pre>"
      ],
      "text/plain": [
       "| 46018        | -2e+009 | 77.9033     | 33m 4s       |"
      ]
     },
     "metadata": {},
     "output_type": "display_data"
    },
    {
     "data": {
      "text/html": [
       "<pre>| 46042        | -2e+009 | 77.9448     | 33m 5s       |</pre>"
      ],
      "text/plain": [
       "| 46042        | -2e+009 | 77.9448     | 33m 5s       |"
      ]
     },
     "metadata": {},
     "output_type": "display_data"
    },
    {
     "data": {
      "text/html": [
       "<pre>| 46066        | -2e+009 | 77.9847     | 33m 6s       |</pre>"
      ],
      "text/plain": [
       "| 46066        | -2e+009 | 77.9847     | 33m 6s       |"
      ]
     },
     "metadata": {},
     "output_type": "display_data"
    },
    {
     "data": {
      "text/html": [
       "<pre>| 46090        | -2e+009 | 78.0256     | 33m 7s       |</pre>"
      ],
      "text/plain": [
       "| 46090        | -2e+009 | 78.0256     | 33m 7s       |"
      ]
     },
     "metadata": {},
     "output_type": "display_data"
    },
    {
     "data": {
      "text/html": [
       "<pre>| 46113        | -2e+009 | 78.0653     | 33m 8s       |</pre>"
      ],
      "text/plain": [
       "| 46113        | -2e+009 | 78.0653     | 33m 8s       |"
      ]
     },
     "metadata": {},
     "output_type": "display_data"
    },
    {
     "data": {
      "text/html": [
       "<pre>| 46138        | -2e+009 | 78.1064     | 33m 9s       |</pre>"
      ],
      "text/plain": [
       "| 46138        | -2e+009 | 78.1064     | 33m 9s       |"
      ]
     },
     "metadata": {},
     "output_type": "display_data"
    },
    {
     "data": {
      "text/html": [
       "<pre>| 46161        | -2e+009 | 78.1466     | 33m 10s      |</pre>"
      ],
      "text/plain": [
       "| 46161        | -2e+009 | 78.1466     | 33m 10s      |"
      ]
     },
     "metadata": {},
     "output_type": "display_data"
    },
    {
     "data": {
      "text/html": [
       "<pre>| 46185        | -2e+009 | 78.1857     | 33m 11s      |</pre>"
      ],
      "text/plain": [
       "| 46185        | -2e+009 | 78.1857     | 33m 11s      |"
      ]
     },
     "metadata": {},
     "output_type": "display_data"
    },
    {
     "data": {
      "text/html": [
       "<pre>| 46208        | -2e+009 | 78.2254     | 33m 12s      |</pre>"
      ],
      "text/plain": [
       "| 46208        | -2e+009 | 78.2254     | 33m 12s      |"
      ]
     },
     "metadata": {},
     "output_type": "display_data"
    },
    {
     "data": {
      "text/html": [
       "<pre>| 46232        | -2e+009 | 78.2653     | 33m 13s      |</pre>"
      ],
      "text/plain": [
       "| 46232        | -2e+009 | 78.2653     | 33m 13s      |"
      ]
     },
     "metadata": {},
     "output_type": "display_data"
    },
    {
     "data": {
      "text/html": [
       "<pre>| 46256        | -2e+009 | 78.3061     | 33m 14s      |</pre>"
      ],
      "text/plain": [
       "| 46256        | -2e+009 | 78.3061     | 33m 14s      |"
      ]
     },
     "metadata": {},
     "output_type": "display_data"
    },
    {
     "data": {
      "text/html": [
       "<pre>| 46277        | -2e+009 | 78.3426     | 33m 15s      |</pre>"
      ],
      "text/plain": [
       "| 46277        | -2e+009 | 78.3426     | 33m 15s      |"
      ]
     },
     "metadata": {},
     "output_type": "display_data"
    },
    {
     "data": {
      "text/html": [
       "<pre>| 46301        | -2e+009 | 78.383      | 33m 16s      |</pre>"
      ],
      "text/plain": [
       "| 46301        | -2e+009 | 78.383      | 33m 16s      |"
      ]
     },
     "metadata": {},
     "output_type": "display_data"
    },
    {
     "data": {
      "text/html": [
       "<pre>| 46325        | -2e+009 | 78.4239     | 33m 17s      |</pre>"
      ],
      "text/plain": [
       "| 46325        | -2e+009 | 78.4239     | 33m 17s      |"
      ]
     },
     "metadata": {},
     "output_type": "display_data"
    },
    {
     "data": {
      "text/html": [
       "<pre>| 46349        | -2e+009 | 78.4647     | 33m 18s      |</pre>"
      ],
      "text/plain": [
       "| 46349        | -2e+009 | 78.4647     | 33m 18s      |"
      ]
     },
     "metadata": {},
     "output_type": "display_data"
    },
    {
     "data": {
      "text/html": [
       "<pre>| 46374        | -2e+009 | 78.5057     | 33m 19s      |</pre>"
      ],
      "text/plain": [
       "| 46374        | -2e+009 | 78.5057     | 33m 19s      |"
      ]
     },
     "metadata": {},
     "output_type": "display_data"
    },
    {
     "data": {
      "text/html": [
       "<pre>| 46397        | -2e+009 | 78.5451     | 33m 20s      |</pre>"
      ],
      "text/plain": [
       "| 46397        | -2e+009 | 78.5451     | 33m 20s      |"
      ]
     },
     "metadata": {},
     "output_type": "display_data"
    },
    {
     "data": {
      "text/html": [
       "<pre>| 46421        | -2e+009 | 78.5858     | 33m 21s      |</pre>"
      ],
      "text/plain": [
       "| 46421        | -2e+009 | 78.5858     | 33m 21s      |"
      ]
     },
     "metadata": {},
     "output_type": "display_data"
    },
    {
     "data": {
      "text/html": [
       "<pre>| 46443        | -2e+009 | 78.6228     | 33m 22s      |</pre>"
      ],
      "text/plain": [
       "| 46443        | -2e+009 | 78.6228     | 33m 22s      |"
      ]
     },
     "metadata": {},
     "output_type": "display_data"
    },
    {
     "data": {
      "text/html": [
       "<pre>| 46463        | -2e+009 | 78.6578     | 33m 23s      |</pre>"
      ],
      "text/plain": [
       "| 46463        | -2e+009 | 78.6578     | 33m 23s      |"
      ]
     },
     "metadata": {},
     "output_type": "display_data"
    },
    {
     "data": {
      "text/html": [
       "<pre>| 46487        | -2e+009 | 78.698      | 33m 24s      |</pre>"
      ],
      "text/plain": [
       "| 46487        | -2e+009 | 78.698      | 33m 24s      |"
      ]
     },
     "metadata": {},
     "output_type": "display_data"
    },
    {
     "data": {
      "text/html": [
       "<pre>| 46512        | -2e+009 | 78.7393     | 33m 25s      |</pre>"
      ],
      "text/plain": [
       "| 46512        | -2e+009 | 78.7393     | 33m 25s      |"
      ]
     },
     "metadata": {},
     "output_type": "display_data"
    },
    {
     "data": {
      "text/html": [
       "<pre>| 46536        | -2e+009 | 78.7803     | 33m 26s      |</pre>"
      ],
      "text/plain": [
       "| 46536        | -2e+009 | 78.7803     | 33m 26s      |"
      ]
     },
     "metadata": {},
     "output_type": "display_data"
    },
    {
     "data": {
      "text/html": [
       "<pre>| 46560        | -2e+009 | 78.8211     | 33m 27s      |</pre>"
      ],
      "text/plain": [
       "| 46560        | -2e+009 | 78.8211     | 33m 27s      |"
      ]
     },
     "metadata": {},
     "output_type": "display_data"
    },
    {
     "data": {
      "text/html": [
       "<pre>| 46582        | -2e+009 | 78.858      | 33m 28s      |</pre>"
      ],
      "text/plain": [
       "| 46582        | -2e+009 | 78.858      | 33m 28s      |"
      ]
     },
     "metadata": {},
     "output_type": "display_data"
    },
    {
     "data": {
      "text/html": [
       "<pre>| 46604        | -2e+009 | 78.8952     | 33m 29s      |</pre>"
      ],
      "text/plain": [
       "| 46604        | -2e+009 | 78.8952     | 33m 29s      |"
      ]
     },
     "metadata": {},
     "output_type": "display_data"
    },
    {
     "data": {
      "text/html": [
       "<pre>| 46625        | -2e+009 | 78.9318     | 33m 30s      |</pre>"
      ],
      "text/plain": [
       "| 46625        | -2e+009 | 78.9318     | 33m 30s      |"
      ]
     },
     "metadata": {},
     "output_type": "display_data"
    },
    {
     "data": {
      "text/html": [
       "<pre>| 46650        | -2e+009 | 78.9731     | 33m 31s      |</pre>"
      ],
      "text/plain": [
       "| 46650        | -2e+009 | 78.9731     | 33m 31s      |"
      ]
     },
     "metadata": {},
     "output_type": "display_data"
    },
    {
     "data": {
      "text/html": [
       "<pre>| 46674        | -2e+009 | 79.014      | 33m 32s      |</pre>"
      ],
      "text/plain": [
       "| 46674        | -2e+009 | 79.014      | 33m 32s      |"
      ]
     },
     "metadata": {},
     "output_type": "display_data"
    },
    {
     "data": {
      "text/html": [
       "<pre>| 46698        | -2e+009 | 79.0542     | 33m 33s      |</pre>"
      ],
      "text/plain": [
       "| 46698        | -2e+009 | 79.0542     | 33m 33s      |"
      ]
     },
     "metadata": {},
     "output_type": "display_data"
    },
    {
     "data": {
      "text/html": [
       "<pre>| 46722        | -2e+009 | 79.0951     | 33m 34s      |</pre>"
      ],
      "text/plain": [
       "| 46722        | -2e+009 | 79.0951     | 33m 34s      |"
      ]
     },
     "metadata": {},
     "output_type": "display_data"
    },
    {
     "data": {
      "text/html": [
       "<pre>| 46745        | -2e+009 | 79.135      | 33m 35s      |</pre>"
      ],
      "text/plain": [
       "| 46745        | -2e+009 | 79.135      | 33m 35s      |"
      ]
     },
     "metadata": {},
     "output_type": "display_data"
    },
    {
     "data": {
      "text/html": [
       "<pre>| 46769        | -2e+009 | 79.1756     | 33m 36s      |</pre>"
      ],
      "text/plain": [
       "| 46769        | -2e+009 | 79.1756     | 33m 36s      |"
      ]
     },
     "metadata": {},
     "output_type": "display_data"
    },
    {
     "data": {
      "text/html": [
       "<pre>| 46790        | -2e+009 | 79.2112     | 33m 37s      |</pre>"
      ],
      "text/plain": [
       "| 46790        | -2e+009 | 79.2112     | 33m 37s      |"
      ]
     },
     "metadata": {},
     "output_type": "display_data"
    },
    {
     "data": {
      "text/html": [
       "<pre>| 46810        | -2e+009 | 79.2452     | 33m 38s      |</pre>"
      ],
      "text/plain": [
       "| 46810        | -2e+009 | 79.2452     | 33m 38s      |"
      ]
     },
     "metadata": {},
     "output_type": "display_data"
    },
    {
     "data": {
      "text/html": [
       "<pre>| 46830        | -2e+009 | 79.2779     | 33m 39s      |</pre>"
      ],
      "text/plain": [
       "| 46830        | -2e+009 | 79.2779     | 33m 39s      |"
      ]
     },
     "metadata": {},
     "output_type": "display_data"
    },
    {
     "data": {
      "text/html": [
       "<pre>| 46852        | -2e+009 | 79.3153     | 33m 40s      |</pre>"
      ],
      "text/plain": [
       "| 46852        | -2e+009 | 79.3153     | 33m 40s      |"
      ]
     },
     "metadata": {},
     "output_type": "display_data"
    },
    {
     "data": {
      "text/html": [
       "<pre>| 46869        | -2e+009 | 79.3436     | 33m 41s      |</pre>"
      ],
      "text/plain": [
       "| 46869        | -2e+009 | 79.3436     | 33m 41s      |"
      ]
     },
     "metadata": {},
     "output_type": "display_data"
    },
    {
     "data": {
      "text/html": [
       "<pre>| 46884        | -2e+009 | 79.3697     | 33m 42s      |</pre>"
      ],
      "text/plain": [
       "| 46884        | -2e+009 | 79.3697     | 33m 42s      |"
      ]
     },
     "metadata": {},
     "output_type": "display_data"
    },
    {
     "data": {
      "text/html": [
       "<pre>| 46905        | -2e+009 | 79.4045     | 33m 43s      |</pre>"
      ],
      "text/plain": [
       "| 46905        | -2e+009 | 79.4045     | 33m 43s      |"
      ]
     },
     "metadata": {},
     "output_type": "display_data"
    },
    {
     "data": {
      "text/html": [
       "<pre>| 46929        | -2e+009 | 79.4454     | 33m 44s      |</pre>"
      ],
      "text/plain": [
       "| 46929        | -2e+009 | 79.4454     | 33m 44s      |"
      ]
     },
     "metadata": {},
     "output_type": "display_data"
    },
    {
     "data": {
      "text/html": [
       "<pre>| 46950        | -2e+009 | 79.4807     | 33m 45s      |</pre>"
      ],
      "text/plain": [
       "| 46950        | -2e+009 | 79.4807     | 33m 45s      |"
      ]
     },
     "metadata": {},
     "output_type": "display_data"
    },
    {
     "data": {
      "text/html": [
       "<pre>| 46969        | -2e+009 | 79.5131     | 33m 46s      |</pre>"
      ],
      "text/plain": [
       "| 46969        | -2e+009 | 79.5131     | 33m 46s      |"
      ]
     },
     "metadata": {},
     "output_type": "display_data"
    },
    {
     "data": {
      "text/html": [
       "<pre>| 46987        | -2e+009 | 79.5449     | 33m 47s      |</pre>"
      ],
      "text/plain": [
       "| 46987        | -2e+009 | 79.5449     | 33m 47s      |"
      ]
     },
     "metadata": {},
     "output_type": "display_data"
    },
    {
     "data": {
      "text/html": [
       "<pre>| 47006        | -2e+009 | 79.5755     | 33m 48s      |</pre>"
      ],
      "text/plain": [
       "| 47006        | -2e+009 | 79.5755     | 33m 48s      |"
      ]
     },
     "metadata": {},
     "output_type": "display_data"
    },
    {
     "data": {
      "text/html": [
       "<pre>| 47029        | -2e+009 | 79.6148     | 33m 49s      |</pre>"
      ],
      "text/plain": [
       "| 47029        | -2e+009 | 79.6148     | 33m 49s      |"
      ]
     },
     "metadata": {},
     "output_type": "display_data"
    },
    {
     "data": {
      "text/html": [
       "<pre>| 47050        | -2e+009 | 79.6512     | 33m 50s      |</pre>"
      ],
      "text/plain": [
       "| 47050        | -2e+009 | 79.6512     | 33m 50s      |"
      ]
     },
     "metadata": {},
     "output_type": "display_data"
    },
    {
     "data": {
      "text/html": [
       "<pre>| 47073        | -2e+009 | 79.6902     | 33m 51s      |</pre>"
      ],
      "text/plain": [
       "| 47073        | -2e+009 | 79.6902     | 33m 51s      |"
      ]
     },
     "metadata": {},
     "output_type": "display_data"
    },
    {
     "data": {
      "text/html": [
       "<pre>| 47096        | -2e+009 | 79.7286     | 33m 52s      |</pre>"
      ],
      "text/plain": [
       "| 47096        | -2e+009 | 79.7286     | 33m 52s      |"
      ]
     },
     "metadata": {},
     "output_type": "display_data"
    },
    {
     "data": {
      "text/html": [
       "<pre>| 47120        | -2e+009 | 79.769      | 33m 53s      |</pre>"
      ],
      "text/plain": [
       "| 47120        | -2e+009 | 79.769      | 33m 53s      |"
      ]
     },
     "metadata": {},
     "output_type": "display_data"
    },
    {
     "data": {
      "text/html": [
       "<pre>| 47144        | -2e+009 | 79.8095     | 33m 54s      |</pre>"
      ],
      "text/plain": [
       "| 47144        | -2e+009 | 79.8095     | 33m 54s      |"
      ]
     },
     "metadata": {},
     "output_type": "display_data"
    },
    {
     "data": {
      "text/html": [
       "<pre>| 47168        | -2e+009 | 79.8501     | 33m 55s      |</pre>"
      ],
      "text/plain": [
       "| 47168        | -2e+009 | 79.8501     | 33m 55s      |"
      ]
     },
     "metadata": {},
     "output_type": "display_data"
    },
    {
     "data": {
      "text/html": [
       "<pre>| 47189        | -2e+009 | 79.8865     | 33m 56s      |</pre>"
      ],
      "text/plain": [
       "| 47189        | -2e+009 | 79.8865     | 33m 56s      |"
      ]
     },
     "metadata": {},
     "output_type": "display_data"
    },
    {
     "data": {
      "text/html": [
       "<pre>| 47212        | -2e+009 | 79.9247     | 33m 57s      |</pre>"
      ],
      "text/plain": [
       "| 47212        | -2e+009 | 79.9247     | 33m 57s      |"
      ]
     },
     "metadata": {},
     "output_type": "display_data"
    },
    {
     "data": {
      "text/html": [
       "<pre>| 47235        | -2e+009 | 79.9637     | 33m 58s      |</pre>"
      ],
      "text/plain": [
       "| 47235        | -2e+009 | 79.9637     | 33m 58s      |"
      ]
     },
     "metadata": {},
     "output_type": "display_data"
    },
    {
     "data": {
      "text/html": [
       "<pre>| 47259        | -2e+009 | 80.0042     | 33m 59s      |</pre>"
      ],
      "text/plain": [
       "| 47259        | -2e+009 | 80.0042     | 33m 59s      |"
      ]
     },
     "metadata": {},
     "output_type": "display_data"
    },
    {
     "data": {
      "text/html": [
       "<pre>| 47280        | -2e+009 | 80.0406     | 34m 0s       |</pre>"
      ],
      "text/plain": [
       "| 47280        | -2e+009 | 80.0406     | 34m 0s       |"
      ]
     },
     "metadata": {},
     "output_type": "display_data"
    },
    {
     "data": {
      "text/html": [
       "<pre>| 47301        | -2e+009 | 80.0749     | 34m 1s       |</pre>"
      ],
      "text/plain": [
       "| 47301        | -2e+009 | 80.0749     | 34m 1s       |"
      ]
     },
     "metadata": {},
     "output_type": "display_data"
    },
    {
     "data": {
      "text/html": [
       "<pre>| 47318        | -1e+009 | 80.105      | 34m 2s       |</pre>"
      ],
      "text/plain": [
       "| 47318        | -1e+009 | 80.105      | 34m 2s       |"
      ]
     },
     "metadata": {},
     "output_type": "display_data"
    },
    {
     "data": {
      "text/html": [
       "<pre>| 47339        | -1e+009 | 80.1399     | 34m 3s       |</pre>"
      ],
      "text/plain": [
       "| 47339        | -1e+009 | 80.1399     | 34m 3s       |"
      ]
     },
     "metadata": {},
     "output_type": "display_data"
    },
    {
     "data": {
      "text/html": [
       "<pre>| 47362        | -1e+009 | 80.1785     | 34m 4s       |</pre>"
      ],
      "text/plain": [
       "| 47362        | -1e+009 | 80.1785     | 34m 4s       |"
      ]
     },
     "metadata": {},
     "output_type": "display_data"
    },
    {
     "data": {
      "text/html": [
       "<pre>| 47384        | -1e+009 | 80.216      | 34m 5s       |</pre>"
      ],
      "text/plain": [
       "| 47384        | -1e+009 | 80.216      | 34m 5s       |"
      ]
     },
     "metadata": {},
     "output_type": "display_data"
    },
    {
     "data": {
      "text/html": [
       "<pre>| 47407        | -1e+009 | 80.2548     | 34m 6s       |</pre>"
      ],
      "text/plain": [
       "| 47407        | -1e+009 | 80.2548     | 34m 6s       |"
      ]
     },
     "metadata": {},
     "output_type": "display_data"
    },
    {
     "data": {
      "text/html": [
       "<pre>| 47430        | -1e+009 | 80.2934     | 34m 7s       |</pre>"
      ],
      "text/plain": [
       "| 47430        | -1e+009 | 80.2934     | 34m 7s       |"
      ]
     },
     "metadata": {},
     "output_type": "display_data"
    },
    {
     "data": {
      "text/html": [
       "<pre>| 47452        | -1e+009 | 80.332      | 34m 8s       |</pre>"
      ],
      "text/plain": [
       "| 47452        | -1e+009 | 80.332      | 34m 8s       |"
      ]
     },
     "metadata": {},
     "output_type": "display_data"
    },
    {
     "data": {
      "text/html": [
       "<pre>| 47476        | -1e+009 | 80.3713     | 34m 9s       |</pre>"
      ],
      "text/plain": [
       "| 47476        | -1e+009 | 80.3713     | 34m 9s       |"
      ]
     },
     "metadata": {},
     "output_type": "display_data"
    },
    {
     "data": {
      "text/html": [
       "<pre>| 47498        | -1e+009 | 80.4097     | 34m 10s      |</pre>"
      ],
      "text/plain": [
       "| 47498        | -1e+009 | 80.4097     | 34m 10s      |"
      ]
     },
     "metadata": {},
     "output_type": "display_data"
    },
    {
     "data": {
      "text/html": [
       "<pre>| 47521        | -1e+009 | 80.4479     | 34m 11s      |</pre>"
      ],
      "text/plain": [
       "| 47521        | -1e+009 | 80.4479     | 34m 11s      |"
      ]
     },
     "metadata": {},
     "output_type": "display_data"
    },
    {
     "data": {
      "text/html": [
       "<pre>| 47544        | -1e+009 | 80.4871     | 34m 12s      |</pre>"
      ],
      "text/plain": [
       "| 47544        | -1e+009 | 80.4871     | 34m 12s      |"
      ]
     },
     "metadata": {},
     "output_type": "display_data"
    },
    {
     "data": {
      "text/html": [
       "<pre>| 47567        | -1e+009 | 80.5259     | 34m 13s      |</pre>"
      ],
      "text/plain": [
       "| 47567        | -1e+009 | 80.5259     | 34m 13s      |"
      ]
     },
     "metadata": {},
     "output_type": "display_data"
    },
    {
     "data": {
      "text/html": [
       "<pre>| 47587        | -1e+009 | 80.5605     | 34m 14s      |</pre>"
      ],
      "text/plain": [
       "| 47587        | -1e+009 | 80.5605     | 34m 14s      |"
      ]
     },
     "metadata": {},
     "output_type": "display_data"
    },
    {
     "data": {
      "text/html": [
       "<pre>| 47606        | -1e+009 | 80.5918     | 34m 15s      |</pre>"
      ],
      "text/plain": [
       "| 47606        | -1e+009 | 80.5918     | 34m 15s      |"
      ]
     },
     "metadata": {},
     "output_type": "display_data"
    },
    {
     "data": {
      "text/html": [
       "<pre>| 47629        | -1e+009 | 80.6306     | 34m 16s      |</pre>"
      ],
      "text/plain": [
       "| 47629        | -1e+009 | 80.6306     | 34m 16s      |"
      ]
     },
     "metadata": {},
     "output_type": "display_data"
    },
    {
     "data": {
      "text/html": [
       "<pre>| 47652        | -1e+009 | 80.6703     | 34m 17s      |</pre>"
      ],
      "text/plain": [
       "| 47652        | -1e+009 | 80.6703     | 34m 17s      |"
      ]
     },
     "metadata": {},
     "output_type": "display_data"
    },
    {
     "data": {
      "text/html": [
       "<pre>| 47675        | -1e+009 | 80.7095     | 34m 18s      |</pre>"
      ],
      "text/plain": [
       "| 47675        | -1e+009 | 80.7095     | 34m 18s      |"
      ]
     },
     "metadata": {},
     "output_type": "display_data"
    },
    {
     "data": {
      "text/html": [
       "<pre>| 47698        | -1e+009 | 80.7481     | 34m 19s      |</pre>"
      ],
      "text/plain": [
       "| 47698        | -1e+009 | 80.7481     | 34m 19s      |"
      ]
     },
     "metadata": {},
     "output_type": "display_data"
    },
    {
     "data": {
      "text/html": [
       "<pre>| 47720        | -1e+009 | 80.7858     | 34m 20s      |</pre>"
      ],
      "text/plain": [
       "| 47720        | -1e+009 | 80.7858     | 34m 20s      |"
      ]
     },
     "metadata": {},
     "output_type": "display_data"
    },
    {
     "data": {
      "text/html": [
       "<pre>| 47743        | -1e+009 | 80.8243     | 34m 21s      |</pre>"
      ],
      "text/plain": [
       "| 47743        | -1e+009 | 80.8243     | 34m 21s      |"
      ]
     },
     "metadata": {},
     "output_type": "display_data"
    },
    {
     "data": {
      "text/html": [
       "<pre>| 47766        | -1e+009 | 80.8636     | 34m 22s      |</pre>"
      ],
      "text/plain": [
       "| 47766        | -1e+009 | 80.8636     | 34m 22s      |"
      ]
     },
     "metadata": {},
     "output_type": "display_data"
    },
    {
     "data": {
      "text/html": [
       "<pre>| 47789        | -1e+009 | 80.9026     | 34m 23s      |</pre>"
      ],
      "text/plain": [
       "| 47789        | -1e+009 | 80.9026     | 34m 23s      |"
      ]
     },
     "metadata": {},
     "output_type": "display_data"
    },
    {
     "data": {
      "text/html": [
       "<pre>| 47812        | -1e+009 | 80.9412     | 34m 24s      |</pre>"
      ],
      "text/plain": [
       "| 47812        | -1e+009 | 80.9412     | 34m 24s      |"
      ]
     },
     "metadata": {},
     "output_type": "display_data"
    },
    {
     "data": {
      "text/html": [
       "<pre>| 47831        | -1e+009 | 80.9733     | 34m 25s      |</pre>"
      ],
      "text/plain": [
       "| 47831        | -1e+009 | 80.9733     | 34m 25s      |"
      ]
     },
     "metadata": {},
     "output_type": "display_data"
    },
    {
     "data": {
      "text/html": [
       "<pre>| 47849        | -1e+009 | 81.003      | 34m 26s      |</pre>"
      ],
      "text/plain": [
       "| 47849        | -1e+009 | 81.003      | 34m 26s      |"
      ]
     },
     "metadata": {},
     "output_type": "display_data"
    },
    {
     "data": {
      "text/html": [
       "<pre>| 47871        | -1e+009 | 81.0408     | 34m 27s      |</pre>"
      ],
      "text/plain": [
       "| 47871        | -1e+009 | 81.0408     | 34m 27s      |"
      ]
     },
     "metadata": {},
     "output_type": "display_data"
    },
    {
     "data": {
      "text/html": [
       "<pre>| 47890        | -1e+009 | 81.0736     | 34m 28s      |</pre>"
      ],
      "text/plain": [
       "| 47890        | -1e+009 | 81.0736     | 34m 28s      |"
      ]
     },
     "metadata": {},
     "output_type": "display_data"
    },
    {
     "data": {
      "text/html": [
       "<pre>| 47912        | -1e+009 | 81.1095     | 34m 29s      |</pre>"
      ],
      "text/plain": [
       "| 47912        | -1e+009 | 81.1095     | 34m 29s      |"
      ]
     },
     "metadata": {},
     "output_type": "display_data"
    },
    {
     "data": {
      "text/html": [
       "<pre>| 47935        | -1e+009 | 81.1484     | 34m 30s      |</pre>"
      ],
      "text/plain": [
       "| 47935        | -1e+009 | 81.1484     | 34m 30s      |"
      ]
     },
     "metadata": {},
     "output_type": "display_data"
    },
    {
     "data": {
      "text/html": [
       "<pre>| 47955        | -1e+009 | 81.1826     | 34m 31s      |</pre>"
      ],
      "text/plain": [
       "| 47955        | -1e+009 | 81.1826     | 34m 31s      |"
      ]
     },
     "metadata": {},
     "output_type": "display_data"
    },
    {
     "data": {
      "text/html": [
       "<pre>| 47974        | -1e+009 | 81.2147     | 34m 32s      |</pre>"
      ],
      "text/plain": [
       "| 47974        | -1e+009 | 81.2147     | 34m 32s      |"
      ]
     },
     "metadata": {},
     "output_type": "display_data"
    },
    {
     "data": {
      "text/html": [
       "<pre>| 47990        | -1e+009 | 81.2425     | 34m 33s      |</pre>"
      ],
      "text/plain": [
       "| 47990        | -1e+009 | 81.2425     | 34m 33s      |"
      ]
     },
     "metadata": {},
     "output_type": "display_data"
    },
    {
     "data": {
      "text/html": [
       "<pre>| 48007        | -1e+009 | 81.2715     | 34m 34s      |</pre>"
      ],
      "text/plain": [
       "| 48007        | -1e+009 | 81.2715     | 34m 34s      |"
      ]
     },
     "metadata": {},
     "output_type": "display_data"
    },
    {
     "data": {
      "text/html": [
       "<pre>| 48032        | -1e+009 | 81.3126     | 34m 35s      |</pre>"
      ],
      "text/plain": [
       "| 48032        | -1e+009 | 81.3126     | 34m 35s      |"
      ]
     },
     "metadata": {},
     "output_type": "display_data"
    },
    {
     "data": {
      "text/html": [
       "<pre>| 48054        | -1e+009 | 81.3496     | 34m 36s      |</pre>"
      ],
      "text/plain": [
       "| 48054        | -1e+009 | 81.3496     | 34m 36s      |"
      ]
     },
     "metadata": {},
     "output_type": "display_data"
    },
    {
     "data": {
      "text/html": [
       "<pre>| 48075        | -1e+009 | 81.3864     | 34m 37s      |</pre>"
      ],
      "text/plain": [
       "| 48075        | -1e+009 | 81.3864     | 34m 37s      |"
      ]
     },
     "metadata": {},
     "output_type": "display_data"
    },
    {
     "data": {
      "text/html": [
       "<pre>| 48096        | -1e+009 | 81.422      | 34m 38s      |</pre>"
      ],
      "text/plain": [
       "| 48096        | -1e+009 | 81.422      | 34m 38s      |"
      ]
     },
     "metadata": {},
     "output_type": "display_data"
    },
    {
     "data": {
      "text/html": [
       "<pre>| 48120        | -1e+009 | 81.4629     | 34m 39s      |</pre>"
      ],
      "text/plain": [
       "| 48120        | -1e+009 | 81.4629     | 34m 39s      |"
      ]
     },
     "metadata": {},
     "output_type": "display_data"
    },
    {
     "data": {
      "text/html": [
       "<pre>| 48146        | -1e+009 | 81.5053     | 34m 40s      |</pre>"
      ],
      "text/plain": [
       "| 48146        | -1e+009 | 81.5053     | 34m 40s      |"
      ]
     },
     "metadata": {},
     "output_type": "display_data"
    },
    {
     "data": {
      "text/html": [
       "<pre>| 48170        | -1e+009 | 81.5459     | 34m 41s      |</pre>"
      ],
      "text/plain": [
       "| 48170        | -1e+009 | 81.5459     | 34m 41s      |"
      ]
     },
     "metadata": {},
     "output_type": "display_data"
    },
    {
     "data": {
      "text/html": [
       "<pre>| 48193        | -1e+009 | 81.5859     | 34m 42s      |</pre>"
      ],
      "text/plain": [
       "| 48193        | -1e+009 | 81.5859     | 34m 42s      |"
      ]
     },
     "metadata": {},
     "output_type": "display_data"
    },
    {
     "data": {
      "text/html": [
       "<pre>| 48216        | -1e+009 | 81.625      | 34m 43s      |</pre>"
      ],
      "text/plain": [
       "| 48216        | -1e+009 | 81.625      | 34m 43s      |"
      ]
     },
     "metadata": {},
     "output_type": "display_data"
    },
    {
     "data": {
      "text/html": [
       "<pre>| 48239        | -1e+009 | 81.6628     | 34m 44s      |</pre>"
      ],
      "text/plain": [
       "| 48239        | -1e+009 | 81.6628     | 34m 44s      |"
      ]
     },
     "metadata": {},
     "output_type": "display_data"
    },
    {
     "data": {
      "text/html": [
       "<pre>| 48262        | -1e+009 | 81.7024     | 34m 45s      |</pre>"
      ],
      "text/plain": [
       "| 48262        | -1e+009 | 81.7024     | 34m 45s      |"
      ]
     },
     "metadata": {},
     "output_type": "display_data"
    },
    {
     "data": {
      "text/html": [
       "<pre>| 48286        | -1e+009 | 81.7431     | 34m 46s      |</pre>"
      ],
      "text/plain": [
       "| 48286        | -1e+009 | 81.7431     | 34m 46s      |"
      ]
     },
     "metadata": {},
     "output_type": "display_data"
    },
    {
     "data": {
      "text/html": [
       "<pre>| 48310        | -1e+009 | 81.7835     | 34m 47s      |</pre>"
      ],
      "text/plain": [
       "| 48310        | -1e+009 | 81.7835     | 34m 47s      |"
      ]
     },
     "metadata": {},
     "output_type": "display_data"
    },
    {
     "data": {
      "text/html": [
       "<pre>| 48333        | -1e+009 | 81.8227     | 34m 48s      |</pre>"
      ],
      "text/plain": [
       "| 48333        | -1e+009 | 81.8227     | 34m 48s      |"
      ]
     },
     "metadata": {},
     "output_type": "display_data"
    },
    {
     "data": {
      "text/html": [
       "<pre>| 48357        | -1e+009 | 81.8628     | 34m 49s      |</pre>"
      ],
      "text/plain": [
       "| 48357        | -1e+009 | 81.8628     | 34m 49s      |"
      ]
     },
     "metadata": {},
     "output_type": "display_data"
    },
    {
     "data": {
      "text/html": [
       "<pre>| 48380        | -1e+009 | 81.9021     | 34m 50s      |</pre>"
      ],
      "text/plain": [
       "| 48380        | -1e+009 | 81.9021     | 34m 50s      |"
      ]
     },
     "metadata": {},
     "output_type": "display_data"
    },
    {
     "data": {
      "text/html": [
       "<pre>| 48403        | -1e+009 | 81.942      | 34m 51s      |</pre>"
      ],
      "text/plain": [
       "| 48403        | -1e+009 | 81.942      | 34m 51s      |"
      ]
     },
     "metadata": {},
     "output_type": "display_data"
    },
    {
     "data": {
      "text/html": [
       "<pre>| 48427        | -1e+009 | 81.982      | 34m 52s      |</pre>"
      ],
      "text/plain": [
       "| 48427        | -1e+009 | 81.982      | 34m 52s      |"
      ]
     },
     "metadata": {},
     "output_type": "display_data"
    },
    {
     "data": {
      "text/html": [
       "<pre>| 48450        | -1e+009 | 82.021      | 34m 53s      |</pre>"
      ],
      "text/plain": [
       "| 48450        | -1e+009 | 82.021      | 34m 53s      |"
      ]
     },
     "metadata": {},
     "output_type": "display_data"
    },
    {
     "data": {
      "text/html": [
       "<pre>| 48474        | -1e+009 | 82.0612     | 34m 54s      |</pre>"
      ],
      "text/plain": [
       "| 48474        | -1e+009 | 82.0612     | 34m 54s      |"
      ]
     },
     "metadata": {},
     "output_type": "display_data"
    },
    {
     "data": {
      "text/html": [
       "<pre>| 48497        | -1e+009 | 82.1005     | 34m 55s      |</pre>"
      ],
      "text/plain": [
       "| 48497        | -1e+009 | 82.1005     | 34m 55s      |"
      ]
     },
     "metadata": {},
     "output_type": "display_data"
    },
    {
     "data": {
      "text/html": [
       "<pre>| 48521        | -1e+009 | 82.1402     | 34m 56s      |</pre>"
      ],
      "text/plain": [
       "| 48521        | -1e+009 | 82.1402     | 34m 56s      |"
      ]
     },
     "metadata": {},
     "output_type": "display_data"
    },
    {
     "data": {
      "text/html": [
       "<pre>| 48544        | -1e+009 | 82.1801     | 34m 57s      |</pre>"
      ],
      "text/plain": [
       "| 48544        | -1e+009 | 82.1801     | 34m 57s      |"
      ]
     },
     "metadata": {},
     "output_type": "display_data"
    },
    {
     "data": {
      "text/html": [
       "<pre>| 48567        | -1e+009 | 82.2195     | 34m 58s      |</pre>"
      ],
      "text/plain": [
       "| 48567        | -1e+009 | 82.2195     | 34m 58s      |"
      ]
     },
     "metadata": {},
     "output_type": "display_data"
    },
    {
     "data": {
      "text/html": [
       "<pre>| 48591        | -1e+009 | 82.2593     | 34m 59s      |</pre>"
      ],
      "text/plain": [
       "| 48591        | -1e+009 | 82.2593     | 34m 59s      |"
      ]
     },
     "metadata": {},
     "output_type": "display_data"
    },
    {
     "data": {
      "text/html": [
       "<pre>| 48614        | -1e+009 | 82.2988     | 35m 0s       |</pre>"
      ],
      "text/plain": [
       "| 48614        | -1e+009 | 82.2988     | 35m 0s       |"
      ]
     },
     "metadata": {},
     "output_type": "display_data"
    },
    {
     "data": {
      "text/html": [
       "<pre>| 48638        | -1e+009 | 82.3383     | 35m 1s       |</pre>"
      ],
      "text/plain": [
       "| 48638        | -1e+009 | 82.3383     | 35m 1s       |"
      ]
     },
     "metadata": {},
     "output_type": "display_data"
    },
    {
     "data": {
      "text/html": [
       "<pre>| 48661        | -1e+009 | 82.3784     | 35m 2s       |</pre>"
      ],
      "text/plain": [
       "| 48661        | -1e+009 | 82.3784     | 35m 2s       |"
      ]
     },
     "metadata": {},
     "output_type": "display_data"
    },
    {
     "data": {
      "text/html": [
       "<pre>| 48684        | -1e+009 | 82.4177     | 35m 3s       |</pre>"
      ],
      "text/plain": [
       "| 48684        | -1e+009 | 82.4177     | 35m 3s       |"
      ]
     },
     "metadata": {},
     "output_type": "display_data"
    },
    {
     "data": {
      "text/html": [
       "<pre>| 48708        | -1e+009 | 82.4576     | 35m 4s       |</pre>"
      ],
      "text/plain": [
       "| 48708        | -1e+009 | 82.4576     | 35m 4s       |"
      ]
     },
     "metadata": {},
     "output_type": "display_data"
    },
    {
     "data": {
      "text/html": [
       "<pre>| 48731        | -1e+009 | 82.4965     | 35m 5s       |</pre>"
      ],
      "text/plain": [
       "| 48731        | -1e+009 | 82.4965     | 35m 5s       |"
      ]
     },
     "metadata": {},
     "output_type": "display_data"
    },
    {
     "data": {
      "text/html": [
       "<pre>| 48755        | -1e+009 | 82.5368     | 35m 6s       |</pre>"
      ],
      "text/plain": [
       "| 48755        | -1e+009 | 82.5368     | 35m 6s       |"
      ]
     },
     "metadata": {},
     "output_type": "display_data"
    },
    {
     "data": {
      "text/html": [
       "<pre>| 48778        | -1e+009 | 82.5762     | 35m 7s       |</pre>"
      ],
      "text/plain": [
       "| 48778        | -1e+009 | 82.5762     | 35m 7s       |"
      ]
     },
     "metadata": {},
     "output_type": "display_data"
    },
    {
     "data": {
      "text/html": [
       "<pre>| 48801        | -1e+009 | 82.6156     | 35m 8s       |</pre>"
      ],
      "text/plain": [
       "| 48801        | -1e+009 | 82.6156     | 35m 8s       |"
      ]
     },
     "metadata": {},
     "output_type": "display_data"
    },
    {
     "data": {
      "text/html": [
       "<pre>| 48825        | -1e+009 | 82.6551     | 35m 9s       |</pre>"
      ],
      "text/plain": [
       "| 48825        | -1e+009 | 82.6551     | 35m 9s       |"
      ]
     },
     "metadata": {},
     "output_type": "display_data"
    },
    {
     "data": {
      "text/html": [
       "<pre>| 48848        | -1e+009 | 82.6946     | 35m 10s      |</pre>"
      ],
      "text/plain": [
       "| 48848        | -1e+009 | 82.6946     | 35m 10s      |"
      ]
     },
     "metadata": {},
     "output_type": "display_data"
    },
    {
     "data": {
      "text/html": [
       "<pre>| 48872        | -1e+009 | 82.7346     | 35m 11s      |</pre>"
      ],
      "text/plain": [
       "| 48872        | -1e+009 | 82.7346     | 35m 11s      |"
      ]
     },
     "metadata": {},
     "output_type": "display_data"
    },
    {
     "data": {
      "text/html": [
       "<pre>| 48894        | -1e+009 | 82.7732     | 35m 12s      |</pre>"
      ],
      "text/plain": [
       "| 48894        | -1e+009 | 82.7732     | 35m 12s      |"
      ]
     },
     "metadata": {},
     "output_type": "display_data"
    },
    {
     "data": {
      "text/html": [
       "<pre>| 48917        | -1e+009 | 82.812      | 35m 13s      |</pre>"
      ],
      "text/plain": [
       "| 48917        | -1e+009 | 82.812      | 35m 13s      |"
      ]
     },
     "metadata": {},
     "output_type": "display_data"
    },
    {
     "data": {
      "text/html": [
       "<pre>| 48941        | -1e+009 | 82.8512     | 35m 14s      |</pre>"
      ],
      "text/plain": [
       "| 48941        | -1e+009 | 82.8512     | 35m 14s      |"
      ]
     },
     "metadata": {},
     "output_type": "display_data"
    },
    {
     "data": {
      "text/html": [
       "<pre>| 48964        | -1e+009 | 82.8908     | 35m 15s      |</pre>"
      ],
      "text/plain": [
       "| 48964        | -1e+009 | 82.8908     | 35m 15s      |"
      ]
     },
     "metadata": {},
     "output_type": "display_data"
    },
    {
     "data": {
      "text/html": [
       "<pre>| 48988        | -1e+009 | 82.9307     | 35m 16s      |</pre>"
      ],
      "text/plain": [
       "| 48988        | -1e+009 | 82.9307     | 35m 16s      |"
      ]
     },
     "metadata": {},
     "output_type": "display_data"
    },
    {
     "data": {
      "text/html": [
       "<pre>| 49011        | -1e+009 | 82.97       | 35m 17s      |</pre>"
      ],
      "text/plain": [
       "| 49011        | -1e+009 | 82.97       | 35m 17s      |"
      ]
     },
     "metadata": {},
     "output_type": "display_data"
    },
    {
     "data": {
      "text/html": [
       "<pre>| 49034        | -1e+009 | 83.0089     | 35m 18s      |</pre>"
      ],
      "text/plain": [
       "| 49034        | -1e+009 | 83.0089     | 35m 18s      |"
      ]
     },
     "metadata": {},
     "output_type": "display_data"
    },
    {
     "data": {
      "text/html": [
       "<pre>| 49057        | -1e+009 | 83.0485     | 35m 19s      |</pre>"
      ],
      "text/plain": [
       "| 49057        | -1e+009 | 83.0485     | 35m 19s      |"
      ]
     },
     "metadata": {},
     "output_type": "display_data"
    },
    {
     "data": {
      "text/html": [
       "<pre>| 49080        | -1e+009 | 83.0872     | 35m 20s      |</pre>"
      ],
      "text/plain": [
       "| 49080        | -1e+009 | 83.0872     | 35m 20s      |"
      ]
     },
     "metadata": {},
     "output_type": "display_data"
    },
    {
     "data": {
      "text/html": [
       "<pre>| 49103        | -1e+009 | 83.1268     | 35m 21s      |</pre>"
      ],
      "text/plain": [
       "| 49103        | -1e+009 | 83.1268     | 35m 21s      |"
      ]
     },
     "metadata": {},
     "output_type": "display_data"
    },
    {
     "data": {
      "text/html": [
       "<pre>| 49127        | -1e+009 | 83.1661     | 35m 22s      |</pre>"
      ],
      "text/plain": [
       "| 49127        | -1e+009 | 83.1661     | 35m 22s      |"
      ]
     },
     "metadata": {},
     "output_type": "display_data"
    },
    {
     "data": {
      "text/html": [
       "<pre>| 49150        | -1e+009 | 83.2053     | 35m 23s      |</pre>"
      ],
      "text/plain": [
       "| 49150        | -1e+009 | 83.2053     | 35m 23s      |"
      ]
     },
     "metadata": {},
     "output_type": "display_data"
    },
    {
     "data": {
      "text/html": [
       "<pre>| 49172        | -1e+009 | 83.2438     | 35m 24s      |</pre>"
      ],
      "text/plain": [
       "| 49172        | -1e+009 | 83.2438     | 35m 24s      |"
      ]
     },
     "metadata": {},
     "output_type": "display_data"
    },
    {
     "data": {
      "text/html": [
       "<pre>| 49196        | -1e+009 | 83.2837     | 35m 25s      |</pre>"
      ],
      "text/plain": [
       "| 49196        | -1e+009 | 83.2837     | 35m 25s      |"
      ]
     },
     "metadata": {},
     "output_type": "display_data"
    },
    {
     "data": {
      "text/html": [
       "<pre>| 49219        | -1e+009 | 83.3233     | 35m 26s      |</pre>"
      ],
      "text/plain": [
       "| 49219        | -1e+009 | 83.3233     | 35m 26s      |"
      ]
     },
     "metadata": {},
     "output_type": "display_data"
    },
    {
     "data": {
      "text/html": [
       "<pre>| 49243        | -1e+009 | 83.3635     | 35m 27s      |</pre>"
      ],
      "text/plain": [
       "| 49243        | -1e+009 | 83.3635     | 35m 27s      |"
      ]
     },
     "metadata": {},
     "output_type": "display_data"
    },
    {
     "data": {
      "text/html": [
       "<pre>| 49263        | -1e+009 | 83.3967     | 35m 28s      |</pre>"
      ],
      "text/plain": [
       "| 49263        | -1e+009 | 83.3967     | 35m 28s      |"
      ]
     },
     "metadata": {},
     "output_type": "display_data"
    },
    {
     "data": {
      "text/html": [
       "<pre>| 49285        | -1e+009 | 83.4347     | 35m 29s      |</pre>"
      ],
      "text/plain": [
       "| 49285        | -1e+009 | 83.4347     | 35m 29s      |"
      ]
     },
     "metadata": {},
     "output_type": "display_data"
    },
    {
     "data": {
      "text/html": [
       "<pre>| 49308        | -1e+009 | 83.4734     | 35m 30s      |</pre>"
      ],
      "text/plain": [
       "| 49308        | -1e+009 | 83.4734     | 35m 30s      |"
      ]
     },
     "metadata": {},
     "output_type": "display_data"
    },
    {
     "data": {
      "text/html": [
       "<pre>| 49331        | -1e+009 | 83.5118     | 35m 31s      |</pre>"
      ],
      "text/plain": [
       "| 49331        | -1e+009 | 83.5118     | 35m 31s      |"
      ]
     },
     "metadata": {},
     "output_type": "display_data"
    },
    {
     "data": {
      "text/html": [
       "<pre>| 49354        | -1e+009 | 83.5515     | 35m 32s      |</pre>"
      ],
      "text/plain": [
       "| 49354        | -1e+009 | 83.5515     | 35m 32s      |"
      ]
     },
     "metadata": {},
     "output_type": "display_data"
    },
    {
     "data": {
      "text/html": [
       "<pre>| 49378        | -1e+009 | 83.5925     | 35m 33s      |</pre>"
      ],
      "text/plain": [
       "| 49378        | -1e+009 | 83.5925     | 35m 33s      |"
      ]
     },
     "metadata": {},
     "output_type": "display_data"
    },
    {
     "data": {
      "text/html": [
       "<pre>| 49403        | -1e+009 | 83.6333     | 35m 34s      |</pre>"
      ],
      "text/plain": [
       "| 49403        | -1e+009 | 83.6333     | 35m 34s      |"
      ]
     },
     "metadata": {},
     "output_type": "display_data"
    },
    {
     "data": {
      "text/html": [
       "<pre>| 49425        | -1e+009 | 83.6715     | 35m 35s      |</pre>"
      ],
      "text/plain": [
       "| 49425        | -1e+009 | 83.6715     | 35m 35s      |"
      ]
     },
     "metadata": {},
     "output_type": "display_data"
    },
    {
     "data": {
      "text/html": [
       "<pre>| 49446        | -1e+009 | 83.7064     | 35m 36s      |</pre>"
      ],
      "text/plain": [
       "| 49446        | -1e+009 | 83.7064     | 35m 36s      |"
      ]
     },
     "metadata": {},
     "output_type": "display_data"
    },
    {
     "data": {
      "text/html": [
       "<pre>| 49468        | -1e+009 | 83.7447     | 35m 37s      |</pre>"
      ],
      "text/plain": [
       "| 49468        | -1e+009 | 83.7447     | 35m 37s      |"
      ]
     },
     "metadata": {},
     "output_type": "display_data"
    },
    {
     "data": {
      "text/html": [
       "<pre>| 49492        | -1e+009 | 83.7851     | 35m 38s      |</pre>"
      ],
      "text/plain": [
       "| 49492        | -1e+009 | 83.7851     | 35m 38s      |"
      ]
     },
     "metadata": {},
     "output_type": "display_data"
    },
    {
     "data": {
      "text/html": [
       "<pre>| 49516        | -1e+009 | 83.8251     | 35m 39s      |</pre>"
      ],
      "text/plain": [
       "| 49516        | -1e+009 | 83.8251     | 35m 39s      |"
      ]
     },
     "metadata": {},
     "output_type": "display_data"
    },
    {
     "data": {
      "text/html": [
       "<pre>| 49539        | -1e+009 | 83.865      | 35m 40s      |</pre>"
      ],
      "text/plain": [
       "| 49539        | -1e+009 | 83.865      | 35m 40s      |"
      ]
     },
     "metadata": {},
     "output_type": "display_data"
    },
    {
     "data": {
      "text/html": [
       "<pre>| 49559        | -1e+009 | 83.8989     | 35m 41s      |</pre>"
      ],
      "text/plain": [
       "| 49559        | -1e+009 | 83.8989     | 35m 41s      |"
      ]
     },
     "metadata": {},
     "output_type": "display_data"
    },
    {
     "data": {
      "text/html": [
       "<pre>| 49577        | -1e+009 | 83.9286     | 35m 42s      |</pre>"
      ],
      "text/plain": [
       "| 49577        | -1e+009 | 83.9286     | 35m 42s      |"
      ]
     },
     "metadata": {},
     "output_type": "display_data"
    },
    {
     "data": {
      "text/html": [
       "<pre>| 49595        | -1e+009 | 83.9594     | 35m 43s      |</pre>"
      ],
      "text/plain": [
       "| 49595        | -1e+009 | 83.9594     | 35m 43s      |"
      ]
     },
     "metadata": {},
     "output_type": "display_data"
    },
    {
     "data": {
      "text/html": [
       "<pre>| 49618        | -1e+009 | 83.9984     | 35m 44s      |</pre>"
      ],
      "text/plain": [
       "| 49618        | -1e+009 | 83.9984     | 35m 44s      |"
      ]
     },
     "metadata": {},
     "output_type": "display_data"
    },
    {
     "data": {
      "text/html": [
       "<pre>| 49642        | -1e+009 | 84.0389     | 35m 45s      |</pre>"
      ],
      "text/plain": [
       "| 49642        | -1e+009 | 84.0389     | 35m 45s      |"
      ]
     },
     "metadata": {},
     "output_type": "display_data"
    },
    {
     "data": {
      "text/html": [
       "<pre>| 49666        | -1e+009 | 84.0798     | 35m 46s      |</pre>"
      ],
      "text/plain": [
       "| 49666        | -1e+009 | 84.0798     | 35m 46s      |"
      ]
     },
     "metadata": {},
     "output_type": "display_data"
    },
    {
     "data": {
      "text/html": [
       "<pre>| 49690        | -1e+009 | 84.1206     | 35m 47s      |</pre>"
      ],
      "text/plain": [
       "| 49690        | -1e+009 | 84.1206     | 35m 47s      |"
      ]
     },
     "metadata": {},
     "output_type": "display_data"
    },
    {
     "data": {
      "text/html": [
       "<pre>| 49713        | -1e+009 | 84.1587     | 35m 48s      |</pre>"
      ],
      "text/plain": [
       "| 49713        | -1e+009 | 84.1587     | 35m 48s      |"
      ]
     },
     "metadata": {},
     "output_type": "display_data"
    },
    {
     "data": {
      "text/html": [
       "<pre>| 49734        | -1e+009 | 84.1943     | 35m 49s      |</pre>"
      ],
      "text/plain": [
       "| 49734        | -1e+009 | 84.1943     | 35m 49s      |"
      ]
     },
     "metadata": {},
     "output_type": "display_data"
    },
    {
     "data": {
      "text/html": [
       "<pre>| 49754        | -1e+009 | 84.2288     | 35m 50s      |</pre>"
      ],
      "text/plain": [
       "| 49754        | -1e+009 | 84.2288     | 35m 50s      |"
      ]
     },
     "metadata": {},
     "output_type": "display_data"
    },
    {
     "data": {
      "text/html": [
       "<pre>| 49774        | -1e+009 | 84.2628     | 35m 51s      |</pre>"
      ],
      "text/plain": [
       "| 49774        | -1e+009 | 84.2628     | 35m 51s      |"
      ]
     },
     "metadata": {},
     "output_type": "display_data"
    },
    {
     "data": {
      "text/html": [
       "<pre>| 49792        | -1e+009 | 84.2929     | 35m 52s      |</pre>"
      ],
      "text/plain": [
       "| 49792        | -1e+009 | 84.2929     | 35m 52s      |"
      ]
     },
     "metadata": {},
     "output_type": "display_data"
    },
    {
     "data": {
      "text/html": [
       "<pre>| 49810        | -1e+009 | 84.3234     | 35m 53s      |</pre>"
      ],
      "text/plain": [
       "| 49810        | -1e+009 | 84.3234     | 35m 53s      |"
      ]
     },
     "metadata": {},
     "output_type": "display_data"
    },
    {
     "data": {
      "text/html": [
       "<pre>| 49831        | -1e+009 | 84.3587     | 35m 54s      |</pre>"
      ],
      "text/plain": [
       "| 49831        | -1e+009 | 84.3587     | 35m 54s      |"
      ]
     },
     "metadata": {},
     "output_type": "display_data"
    },
    {
     "data": {
      "text/html": [
       "<pre>| 49855        | -1e+009 | 84.3986     | 35m 55s      |</pre>"
      ],
      "text/plain": [
       "| 49855        | -1e+009 | 84.3986     | 35m 55s      |"
      ]
     },
     "metadata": {},
     "output_type": "display_data"
    },
    {
     "data": {
      "text/html": [
       "<pre>| 49879        | -1e+009 | 84.4392     | 35m 56s      |</pre>"
      ],
      "text/plain": [
       "| 49879        | -1e+009 | 84.4392     | 35m 56s      |"
      ]
     },
     "metadata": {},
     "output_type": "display_data"
    },
    {
     "data": {
      "text/html": [
       "<pre>| 49903        | -1e+009 | 84.4804     | 35m 57s      |</pre>"
      ],
      "text/plain": [
       "| 49903        | -1e+009 | 84.4804     | 35m 57s      |"
      ]
     },
     "metadata": {},
     "output_type": "display_data"
    },
    {
     "data": {
      "text/html": [
       "<pre>| 49927        | -1e+009 | 84.5204     | 35m 58s      |</pre>"
      ],
      "text/plain": [
       "| 49927        | -1e+009 | 84.5204     | 35m 58s      |"
      ]
     },
     "metadata": {},
     "output_type": "display_data"
    },
    {
     "data": {
      "text/html": [
       "<pre>| 49950        | -1e+009 | 84.5608     | 35m 59s      |</pre>"
      ],
      "text/plain": [
       "| 49950        | -1e+009 | 84.5608     | 35m 59s      |"
      ]
     },
     "metadata": {},
     "output_type": "display_data"
    },
    {
     "data": {
      "text/html": [
       "<pre>| 49974        | -1e+009 | 84.6011     | 36m 0s       |</pre>"
      ],
      "text/plain": [
       "| 49974        | -1e+009 | 84.6011     | 36m 0s       |"
      ]
     },
     "metadata": {},
     "output_type": "display_data"
    },
    {
     "data": {
      "text/html": [
       "<pre>| 49998        | -1e+009 | 84.6408     | 36m 1s       |</pre>"
      ],
      "text/plain": [
       "| 49998        | -1e+009 | 84.6408     | 36m 1s       |"
      ]
     },
     "metadata": {},
     "output_type": "display_data"
    },
    {
     "data": {
      "text/html": [
       "<pre>| 50022        | -1e+009 | 84.6822     | 36m 2s       |</pre>"
      ],
      "text/plain": [
       "| 50022        | -1e+009 | 84.6822     | 36m 2s       |"
      ]
     },
     "metadata": {},
     "output_type": "display_data"
    },
    {
     "data": {
      "text/html": [
       "<pre>| 50046        | -1e+009 | 84.723      | 36m 3s       |</pre>"
      ],
      "text/plain": [
       "| 50046        | -1e+009 | 84.723      | 36m 3s       |"
      ]
     },
     "metadata": {},
     "output_type": "display_data"
    },
    {
     "data": {
      "text/html": [
       "<pre>| 50070        | -1e+009 | 84.7635     | 36m 4s       |</pre>"
      ],
      "text/plain": [
       "| 50070        | -1e+009 | 84.7635     | 36m 4s       |"
      ]
     },
     "metadata": {},
     "output_type": "display_data"
    },
    {
     "data": {
      "text/html": [
       "<pre>| 50094        | -1e+009 | 84.8043     | 36m 5s       |</pre>"
      ],
      "text/plain": [
       "| 50094        | -1e+009 | 84.8043     | 36m 5s       |"
      ]
     },
     "metadata": {},
     "output_type": "display_data"
    },
    {
     "data": {
      "text/html": [
       "<pre>| 50119        | -1e+009 | 84.8461     | 36m 6s       |</pre>"
      ],
      "text/plain": [
       "| 50119        | -1e+009 | 84.8461     | 36m 6s       |"
      ]
     },
     "metadata": {},
     "output_type": "display_data"
    },
    {
     "data": {
      "text/html": [
       "<pre>| 50141        | -1e+009 | 84.8834     | 36m 7s       |</pre>"
      ],
      "text/plain": [
       "| 50141        | -1e+009 | 84.8834     | 36m 7s       |"
      ]
     },
     "metadata": {},
     "output_type": "display_data"
    },
    {
     "data": {
      "text/html": [
       "<pre>| 50162        | -1e+009 | 84.9184     | 36m 8s       |</pre>"
      ],
      "text/plain": [
       "| 50162        | -1e+009 | 84.9184     | 36m 8s       |"
      ]
     },
     "metadata": {},
     "output_type": "display_data"
    },
    {
     "data": {
      "text/html": [
       "<pre>| 50184        | -1e+009 | 84.9558     | 36m 9s       |</pre>"
      ],
      "text/plain": [
       "| 50184        | -1e+009 | 84.9558     | 36m 9s       |"
      ]
     },
     "metadata": {},
     "output_type": "display_data"
    },
    {
     "data": {
      "text/html": [
       "<pre>| 50207        | -1e+009 | 84.9945     | 36m 10s      |</pre>"
      ],
      "text/plain": [
       "| 50207        | -1e+009 | 84.9945     | 36m 10s      |"
      ]
     },
     "metadata": {},
     "output_type": "display_data"
    },
    {
     "data": {
      "text/html": [
       "<pre>| 50230        | -1e+009 | 85.0333     | 36m 11s      |</pre>"
      ],
      "text/plain": [
       "| 50230        | -1e+009 | 85.0333     | 36m 11s      |"
      ]
     },
     "metadata": {},
     "output_type": "display_data"
    },
    {
     "data": {
      "text/html": [
       "<pre>| 50253        | -1e+009 | 85.0726     | 36m 12s      |</pre>"
      ],
      "text/plain": [
       "| 50253        | -1e+009 | 85.0726     | 36m 12s      |"
      ]
     },
     "metadata": {},
     "output_type": "display_data"
    },
    {
     "data": {
      "text/html": [
       "<pre>| 50272        | -1e+009 | 85.1056     | 36m 13s      |</pre>"
      ],
      "text/plain": [
       "| 50272        | -1e+009 | 85.1056     | 36m 13s      |"
      ]
     },
     "metadata": {},
     "output_type": "display_data"
    },
    {
     "data": {
      "text/html": [
       "<pre>| 50292        | -1e+009 | 85.1383     | 36m 14s      |</pre>"
      ],
      "text/plain": [
       "| 50292        | -1e+009 | 85.1383     | 36m 14s      |"
      ]
     },
     "metadata": {},
     "output_type": "display_data"
    },
    {
     "data": {
      "text/html": [
       "<pre>| 50311        | -1e+009 | 85.172      | 36m 15s      |</pre>"
      ],
      "text/plain": [
       "| 50311        | -1e+009 | 85.172      | 36m 15s      |"
      ]
     },
     "metadata": {},
     "output_type": "display_data"
    },
    {
     "data": {
      "text/html": [
       "<pre>| 50333        | -1e+009 | 85.2083     | 36m 16s      |</pre>"
      ],
      "text/plain": [
       "| 50333        | -1e+009 | 85.2083     | 36m 16s      |"
      ]
     },
     "metadata": {},
     "output_type": "display_data"
    },
    {
     "data": {
      "text/html": [
       "<pre>| 50354        | -1e+009 | 85.2445     | 36m 17s      |</pre>"
      ],
      "text/plain": [
       "| 50354        | -1e+009 | 85.2445     | 36m 17s      |"
      ]
     },
     "metadata": {},
     "output_type": "display_data"
    },
    {
     "data": {
      "text/html": [
       "<pre>| 50370        | -1e+009 | 85.2715     | 36m 18s      |</pre>"
      ],
      "text/plain": [
       "| 50370        | -1e+009 | 85.2715     | 36m 18s      |"
      ]
     },
     "metadata": {},
     "output_type": "display_data"
    },
    {
     "data": {
      "text/html": [
       "<pre>| 50386        | -1e+009 | 85.2986     | 36m 19s      |</pre>"
      ],
      "text/plain": [
       "| 50386        | -1e+009 | 85.2986     | 36m 19s      |"
      ]
     },
     "metadata": {},
     "output_type": "display_data"
    },
    {
     "data": {
      "text/html": [
       "<pre>| 50404        | -1e+009 | 85.3281     | 36m 20s      |</pre>"
      ],
      "text/plain": [
       "| 50404        | -1e+009 | 85.3281     | 36m 20s      |"
      ]
     },
     "metadata": {},
     "output_type": "display_data"
    },
    {
     "data": {
      "text/html": [
       "<pre>| 50423        | -1e+009 | 85.3604     | 36m 21s      |</pre>"
      ],
      "text/plain": [
       "| 50423        | -1e+009 | 85.3604     | 36m 21s      |"
      ]
     },
     "metadata": {},
     "output_type": "display_data"
    },
    {
     "data": {
      "text/html": [
       "<pre>| 50443        | -1e+009 | 85.394      | 36m 22s      |</pre>"
      ],
      "text/plain": [
       "| 50443        | -1e+009 | 85.394      | 36m 22s      |"
      ]
     },
     "metadata": {},
     "output_type": "display_data"
    },
    {
     "data": {
      "text/html": [
       "<pre>| 50464        | -1e+009 | 85.4295     | 36m 23s      |</pre>"
      ],
      "text/plain": [
       "| 50464        | -1e+009 | 85.4295     | 36m 23s      |"
      ]
     },
     "metadata": {},
     "output_type": "display_data"
    },
    {
     "data": {
      "text/html": [
       "<pre>| 50486        | -1e+009 | 85.4672     | 36m 24s      |</pre>"
      ],
      "text/plain": [
       "| 50486        | -1e+009 | 85.4672     | 36m 24s      |"
      ]
     },
     "metadata": {},
     "output_type": "display_data"
    },
    {
     "data": {
      "text/html": [
       "<pre>| 50504        | -1e+009 | 85.4975     | 36m 25s      |</pre>"
      ],
      "text/plain": [
       "| 50504        | -1e+009 | 85.4975     | 36m 25s      |"
      ]
     },
     "metadata": {},
     "output_type": "display_data"
    },
    {
     "data": {
      "text/html": [
       "<pre>| 50525        | -1e+009 | 85.5337     | 36m 26s      |</pre>"
      ],
      "text/plain": [
       "| 50525        | -1e+009 | 85.5337     | 36m 26s      |"
      ]
     },
     "metadata": {},
     "output_type": "display_data"
    },
    {
     "data": {
      "text/html": [
       "<pre>| 50546        | -1e+009 | 85.5697     | 36m 27s      |</pre>"
      ],
      "text/plain": [
       "| 50546        | -1e+009 | 85.5697     | 36m 27s      |"
      ]
     },
     "metadata": {},
     "output_type": "display_data"
    },
    {
     "data": {
      "text/html": [
       "<pre>| 50568        | -1e+009 | 85.6057     | 36m 28s      |</pre>"
      ],
      "text/plain": [
       "| 50568        | -1e+009 | 85.6057     | 36m 28s      |"
      ]
     },
     "metadata": {},
     "output_type": "display_data"
    },
    {
     "data": {
      "text/html": [
       "<pre>| 50588        | -1e+009 | 85.641      | 36m 29s      |</pre>"
      ],
      "text/plain": [
       "| 50588        | -1e+009 | 85.641      | 36m 29s      |"
      ]
     },
     "metadata": {},
     "output_type": "display_data"
    },
    {
     "data": {
      "text/html": [
       "<pre>| 50611        | -1e+009 | 85.6793     | 36m 30s      |</pre>"
      ],
      "text/plain": [
       "| 50611        | -1e+009 | 85.6793     | 36m 30s      |"
      ]
     },
     "metadata": {},
     "output_type": "display_data"
    },
    {
     "data": {
      "text/html": [
       "<pre>| 50634        | -1e+009 | 85.7186     | 36m 31s      |</pre>"
      ],
      "text/plain": [
       "| 50634        | -1e+009 | 85.7186     | 36m 31s      |"
      ]
     },
     "metadata": {},
     "output_type": "display_data"
    },
    {
     "data": {
      "text/html": [
       "<pre>| 50657        | -1e+009 | 85.7575     | 36m 32s      |</pre>"
      ],
      "text/plain": [
       "| 50657        | -1e+009 | 85.7575     | 36m 32s      |"
      ]
     },
     "metadata": {},
     "output_type": "display_data"
    },
    {
     "data": {
      "text/html": [
       "<pre>| 50678        | -1e+009 | 85.7933     | 36m 33s      |</pre>"
      ],
      "text/plain": [
       "| 50678        | -1e+009 | 85.7933     | 36m 33s      |"
      ]
     },
     "metadata": {},
     "output_type": "display_data"
    },
    {
     "data": {
      "text/html": [
       "<pre>| 50701        | -1e+009 | 85.8319     | 36m 34s      |</pre>"
      ],
      "text/plain": [
       "| 50701        | -1e+009 | 85.8319     | 36m 34s      |"
      ]
     },
     "metadata": {},
     "output_type": "display_data"
    },
    {
     "data": {
      "text/html": [
       "<pre>| 50724        | -1e+009 | 85.8708     | 36m 35s      |</pre>"
      ],
      "text/plain": [
       "| 50724        | -1e+009 | 85.8708     | 36m 35s      |"
      ]
     },
     "metadata": {},
     "output_type": "display_data"
    },
    {
     "data": {
      "text/html": [
       "<pre>| 50742        | -1e+009 | 85.9006     | 36m 36s      |</pre>"
      ],
      "text/plain": [
       "| 50742        | -1e+009 | 85.9006     | 36m 36s      |"
      ]
     },
     "metadata": {},
     "output_type": "display_data"
    },
    {
     "data": {
      "text/html": [
       "<pre>| 50759        | -1e+009 | 85.9296     | 36m 37s      |</pre>"
      ],
      "text/plain": [
       "| 50759        | -1e+009 | 85.9296     | 36m 37s      |"
      ]
     },
     "metadata": {},
     "output_type": "display_data"
    },
    {
     "data": {
      "text/html": [
       "<pre>| 50779        | -1e+009 | 85.9643     | 36m 38s      |</pre>"
      ],
      "text/plain": [
       "| 50779        | -1e+009 | 85.9643     | 36m 38s      |"
      ]
     },
     "metadata": {},
     "output_type": "display_data"
    },
    {
     "data": {
      "text/html": [
       "<pre>| 50796        | -1e+009 | 85.9928     | 36m 39s      |</pre>"
      ],
      "text/plain": [
       "| 50796        | -1e+009 | 85.9928     | 36m 39s      |"
      ]
     },
     "metadata": {},
     "output_type": "display_data"
    },
    {
     "data": {
      "text/html": [
       "<pre>| 50810        | -1e+009 | 86.0163     | 36m 40s      |</pre>"
      ],
      "text/plain": [
       "| 50810        | -1e+009 | 86.0163     | 36m 40s      |"
      ]
     },
     "metadata": {},
     "output_type": "display_data"
    },
    {
     "data": {
      "text/html": [
       "<pre>| 50823        | -1e+009 | 86.0387     | 36m 41s      |</pre>"
      ],
      "text/plain": [
       "| 50823        | -1e+009 | 86.0387     | 36m 41s      |"
      ]
     },
     "metadata": {},
     "output_type": "display_data"
    },
    {
     "data": {
      "text/html": [
       "<pre>| 50838        | -1e+009 | 86.0628     | 36m 42s      |</pre>"
      ],
      "text/plain": [
       "| 50838        | -1e+009 | 86.0628     | 36m 42s      |"
      ]
     },
     "metadata": {},
     "output_type": "display_data"
    },
    {
     "data": {
      "text/html": [
       "<pre>| 50853        | -1e+009 | 86.0888     | 36m 43s      |</pre>"
      ],
      "text/plain": [
       "| 50853        | -1e+009 | 86.0888     | 36m 43s      |"
      ]
     },
     "metadata": {},
     "output_type": "display_data"
    },
    {
     "data": {
      "text/html": [
       "<pre>| 50868        | -1e+009 | 86.1144     | 36m 44s      |</pre>"
      ],
      "text/plain": [
       "| 50868        | -1e+009 | 86.1144     | 36m 44s      |"
      ]
     },
     "metadata": {},
     "output_type": "display_data"
    },
    {
     "data": {
      "text/html": [
       "<pre>| 50885        | -1e+009 | 86.1427     | 36m 45s      |</pre>"
      ],
      "text/plain": [
       "| 50885        | -1e+009 | 86.1427     | 36m 45s      |"
      ]
     },
     "metadata": {},
     "output_type": "display_data"
    },
    {
     "data": {
      "text/html": [
       "<pre>| 50901        | -1e+009 | 86.1698     | 36m 46s      |</pre>"
      ],
      "text/plain": [
       "| 50901        | -1e+009 | 86.1698     | 36m 46s      |"
      ]
     },
     "metadata": {},
     "output_type": "display_data"
    },
    {
     "data": {
      "text/html": [
       "<pre>| 50918        | -1e+009 | 86.1982     | 36m 47s      |</pre>"
      ],
      "text/plain": [
       "| 50918        | -1e+009 | 86.1982     | 36m 47s      |"
      ]
     },
     "metadata": {},
     "output_type": "display_data"
    },
    {
     "data": {
      "text/html": [
       "<pre>| 50934        | -1e+009 | 86.2259     | 36m 48s      |</pre>"
      ],
      "text/plain": [
       "| 50934        | -1e+009 | 86.2259     | 36m 48s      |"
      ]
     },
     "metadata": {},
     "output_type": "display_data"
    },
    {
     "data": {
      "text/html": [
       "<pre>| 50950        | -1e+009 | 86.2533     | 36m 49s      |</pre>"
      ],
      "text/plain": [
       "| 50950        | -1e+009 | 86.2533     | 36m 49s      |"
      ]
     },
     "metadata": {},
     "output_type": "display_data"
    },
    {
     "data": {
      "text/html": [
       "<pre>| 50969        | -1e+009 | 86.2844     | 36m 50s      |</pre>"
      ],
      "text/plain": [
       "| 50969        | -1e+009 | 86.2844     | 36m 50s      |"
      ]
     },
     "metadata": {},
     "output_type": "display_data"
    },
    {
     "data": {
      "text/html": [
       "<pre>| 50983        | -1e+009 | 86.3094     | 36m 51s      |</pre>"
      ],
      "text/plain": [
       "| 50983        | -1e+009 | 86.3094     | 36m 51s      |"
      ]
     },
     "metadata": {},
     "output_type": "display_data"
    },
    {
     "data": {
      "text/html": [
       "<pre>| 50999        | -1e+009 | 86.3367     | 36m 52s      |</pre>"
      ],
      "text/plain": [
       "| 50999        | -1e+009 | 86.3367     | 36m 52s      |"
      ]
     },
     "metadata": {},
     "output_type": "display_data"
    },
    {
     "data": {
      "text/html": [
       "<pre>| 51015        | -1e+009 | 86.3632     | 36m 53s      |</pre>"
      ],
      "text/plain": [
       "| 51015        | -1e+009 | 86.3632     | 36m 53s      |"
      ]
     },
     "metadata": {},
     "output_type": "display_data"
    },
    {
     "data": {
      "text/html": [
       "<pre>| 51034        | -1e+009 | 86.3951     | 36m 54s      |</pre>"
      ],
      "text/plain": [
       "| 51034        | -1e+009 | 86.3951     | 36m 54s      |"
      ]
     },
     "metadata": {},
     "output_type": "display_data"
    },
    {
     "data": {
      "text/html": [
       "<pre>| 51054        | -1e+009 | 86.4286     | 36m 55s      |</pre>"
      ],
      "text/plain": [
       "| 51054        | -1e+009 | 86.4286     | 36m 55s      |"
      ]
     },
     "metadata": {},
     "output_type": "display_data"
    },
    {
     "data": {
      "text/html": [
       "<pre>| 51076        | -1e+009 | 86.4658     | 36m 56s      |</pre>"
      ],
      "text/plain": [
       "| 51076        | -1e+009 | 86.4658     | 36m 56s      |"
      ]
     },
     "metadata": {},
     "output_type": "display_data"
    },
    {
     "data": {
      "text/html": [
       "<pre>| 51097        | -1e+009 | 86.5026     | 36m 57s      |</pre>"
      ],
      "text/plain": [
       "| 51097        | -1e+009 | 86.5026     | 36m 57s      |"
      ]
     },
     "metadata": {},
     "output_type": "display_data"
    },
    {
     "data": {
      "text/html": [
       "<pre>| 51117        | -1e+009 | 86.5361     | 36m 58s      |</pre>"
      ],
      "text/plain": [
       "| 51117        | -1e+009 | 86.5361     | 36m 58s      |"
      ]
     },
     "metadata": {},
     "output_type": "display_data"
    },
    {
     "data": {
      "text/html": [
       "<pre>| 51136        | -1e+009 | 86.5677     | 36m 59s      |</pre>"
      ],
      "text/plain": [
       "| 51136        | -1e+009 | 86.5677     | 36m 59s      |"
      ]
     },
     "metadata": {},
     "output_type": "display_data"
    },
    {
     "data": {
      "text/html": [
       "<pre>| 51153        | -1e+009 | 86.5968     | 37m 0s       |</pre>"
      ],
      "text/plain": [
       "| 51153        | -1e+009 | 86.5968     | 37m 0s       |"
      ]
     },
     "metadata": {},
     "output_type": "display_data"
    },
    {
     "data": {
      "text/html": [
       "<pre>| 51172        | -1e+009 | 86.6291     | 37m 1s       |</pre>"
      ],
      "text/plain": [
       "| 51172        | -1e+009 | 86.6291     | 37m 1s       |"
      ]
     },
     "metadata": {},
     "output_type": "display_data"
    },
    {
     "data": {
      "text/html": [
       "<pre>| 51194        | -1e+009 | 86.6659     | 37m 2s       |</pre>"
      ],
      "text/plain": [
       "| 51194        | -1e+009 | 86.6659     | 37m 2s       |"
      ]
     },
     "metadata": {},
     "output_type": "display_data"
    },
    {
     "data": {
      "text/html": [
       "<pre>| 51216        | -1e+009 | 86.7025     | 37m 3s       |</pre>"
      ],
      "text/plain": [
       "| 51216        | -1e+009 | 86.7025     | 37m 3s       |"
      ]
     },
     "metadata": {},
     "output_type": "display_data"
    },
    {
     "data": {
      "text/html": [
       "<pre>| 51237        | -1e+009 | 86.7393     | 37m 4s       |</pre>"
      ],
      "text/plain": [
       "| 51237        | -1e+009 | 86.7393     | 37m 4s       |"
      ]
     },
     "metadata": {},
     "output_type": "display_data"
    },
    {
     "data": {
      "text/html": [
       "<pre>| 51257        | -1e+009 | 86.7724     | 37m 5s       |</pre>"
      ],
      "text/plain": [
       "| 51257        | -1e+009 | 86.7724     | 37m 5s       |"
      ]
     },
     "metadata": {},
     "output_type": "display_data"
    },
    {
     "data": {
      "text/html": [
       "<pre>| 51279        | -1e+009 | 86.8098     | 37m 6s       |</pre>"
      ],
      "text/plain": [
       "| 51279        | -1e+009 | 86.8098     | 37m 6s       |"
      ]
     },
     "metadata": {},
     "output_type": "display_data"
    },
    {
     "data": {
      "text/html": [
       "<pre>| 51302        | -1e+009 | 86.8488     | 37m 7s       |</pre>"
      ],
      "text/plain": [
       "| 51302        | -1e+009 | 86.8488     | 37m 7s       |"
      ]
     },
     "metadata": {},
     "output_type": "display_data"
    },
    {
     "data": {
      "text/html": [
       "<pre>| 51319        | -1e+009 | 86.8778     | 37m 8s       |</pre>"
      ],
      "text/plain": [
       "| 51319        | -1e+009 | 86.8778     | 37m 8s       |"
      ]
     },
     "metadata": {},
     "output_type": "display_data"
    },
    {
     "data": {
      "text/html": [
       "<pre>| 51337        | -1e+009 | 86.9074     | 37m 9s       |</pre>"
      ],
      "text/plain": [
       "| 51337        | -1e+009 | 86.9074     | 37m 9s       |"
      ]
     },
     "metadata": {},
     "output_type": "display_data"
    },
    {
     "data": {
      "text/html": [
       "<pre>| 51357        | -1e+009 | 86.9424     | 37m 10s      |</pre>"
      ],
      "text/plain": [
       "| 51357        | -1e+009 | 86.9424     | 37m 10s      |"
      ]
     },
     "metadata": {},
     "output_type": "display_data"
    },
    {
     "data": {
      "text/html": [
       "<pre>| 51378        | -1e+009 | 86.9774     | 37m 11s      |</pre>"
      ],
      "text/plain": [
       "| 51378        | -1e+009 | 86.9774     | 37m 11s      |"
      ]
     },
     "metadata": {},
     "output_type": "display_data"
    },
    {
     "data": {
      "text/html": [
       "<pre>| 51400        | -1e+009 | 87.0142     | 37m 12s      |</pre>"
      ],
      "text/plain": [
       "| 51400        | -1e+009 | 87.0142     | 37m 12s      |"
      ]
     },
     "metadata": {},
     "output_type": "display_data"
    },
    {
     "data": {
      "text/html": [
       "<pre>| 51420        | -1e+009 | 87.0495     | 37m 13s      |</pre>"
      ],
      "text/plain": [
       "| 51420        | -1e+009 | 87.0495     | 37m 13s      |"
      ]
     },
     "metadata": {},
     "output_type": "display_data"
    },
    {
     "data": {
      "text/html": [
       "<pre>| 51442        | -1e+009 | 87.0861     | 37m 14s      |</pre>"
      ],
      "text/plain": [
       "| 51442        | -1e+009 | 87.0861     | 37m 14s      |"
      ]
     },
     "metadata": {},
     "output_type": "display_data"
    },
    {
     "data": {
      "text/html": [
       "<pre>| 51464        | -1e+009 | 87.1233     | 37m 15s      |</pre>"
      ],
      "text/plain": [
       "| 51464        | -1e+009 | 87.1233     | 37m 15s      |"
      ]
     },
     "metadata": {},
     "output_type": "display_data"
    },
    {
     "data": {
      "text/html": [
       "<pre>| 51484        | -1e+009 | 87.1574     | 37m 16s      |</pre>"
      ],
      "text/plain": [
       "| 51484        | -1e+009 | 87.1574     | 37m 16s      |"
      ]
     },
     "metadata": {},
     "output_type": "display_data"
    },
    {
     "data": {
      "text/html": [
       "<pre>| 51505        | -1e+009 | 87.1928     | 37m 17s      |</pre>"
      ],
      "text/plain": [
       "| 51505        | -1e+009 | 87.1928     | 37m 17s      |"
      ]
     },
     "metadata": {},
     "output_type": "display_data"
    },
    {
     "data": {
      "text/html": [
       "<pre>| 51527        | -1e+009 | 87.2292     | 37m 18s      |</pre>"
      ],
      "text/plain": [
       "| 51527        | -1e+009 | 87.2292     | 37m 18s      |"
      ]
     },
     "metadata": {},
     "output_type": "display_data"
    },
    {
     "data": {
      "text/html": [
       "<pre>| 51549        | -1e+009 | 87.2665     | 37m 19s      |</pre>"
      ],
      "text/plain": [
       "| 51549        | -1e+009 | 87.2665     | 37m 19s      |"
      ]
     },
     "metadata": {},
     "output_type": "display_data"
    },
    {
     "data": {
      "text/html": [
       "<pre>| 51570        | -1e+009 | 87.3031     | 37m 20s      |</pre>"
      ],
      "text/plain": [
       "| 51570        | -1e+009 | 87.3031     | 37m 20s      |"
      ]
     },
     "metadata": {},
     "output_type": "display_data"
    },
    {
     "data": {
      "text/html": [
       "<pre>| 51591        | -1e+009 | 87.3383     | 37m 21s      |</pre>"
      ],
      "text/plain": [
       "| 51591        | -1e+009 | 87.3383     | 37m 21s      |"
      ]
     },
     "metadata": {},
     "output_type": "display_data"
    },
    {
     "data": {
      "text/html": [
       "<pre>| 51612        | -1e+009 | 87.374      | 37m 22s      |</pre>"
      ],
      "text/plain": [
       "| 51612        | -1e+009 | 87.374      | 37m 22s      |"
      ]
     },
     "metadata": {},
     "output_type": "display_data"
    },
    {
     "data": {
      "text/html": [
       "<pre>| 51632        | -1e+009 | 87.4068     | 37m 23s      |</pre>"
      ],
      "text/plain": [
       "| 51632        | -1e+009 | 87.4068     | 37m 23s      |"
      ]
     },
     "metadata": {},
     "output_type": "display_data"
    },
    {
     "data": {
      "text/html": [
       "<pre>| 51649        | -1e+009 | 87.4364     | 37m 24s      |</pre>"
      ],
      "text/plain": [
       "| 51649        | -1e+009 | 87.4364     | 37m 24s      |"
      ]
     },
     "metadata": {},
     "output_type": "display_data"
    },
    {
     "data": {
      "text/html": [
       "<pre>| 51666        | -1e+009 | 87.4658     | 37m 25s      |</pre>"
      ],
      "text/plain": [
       "| 51666        | -1e+009 | 87.4658     | 37m 25s      |"
      ]
     },
     "metadata": {},
     "output_type": "display_data"
    },
    {
     "data": {
      "text/html": [
       "<pre>| 51683        | -1e+009 | 87.4947     | 37m 26s      |</pre>"
      ],
      "text/plain": [
       "| 51683        | -1e+009 | 87.4947     | 37m 26s      |"
      ]
     },
     "metadata": {},
     "output_type": "display_data"
    },
    {
     "data": {
      "text/html": [
       "<pre>| 51699        | -1e+009 | 87.5214     | 37m 27s      |</pre>"
      ],
      "text/plain": [
       "| 51699        | -1e+009 | 87.5214     | 37m 27s      |"
      ]
     },
     "metadata": {},
     "output_type": "display_data"
    },
    {
     "data": {
      "text/html": [
       "<pre>| 51722        | -1e+009 | 87.5601     | 37m 28s      |</pre>"
      ],
      "text/plain": [
       "| 51722        | -1e+009 | 87.5601     | 37m 28s      |"
      ]
     },
     "metadata": {},
     "output_type": "display_data"
    },
    {
     "data": {
      "text/html": [
       "<pre>| 51739        | -1e+009 | 87.588      | 37m 29s      |</pre>"
      ],
      "text/plain": [
       "| 51739        | -1e+009 | 87.588      | 37m 29s      |"
      ]
     },
     "metadata": {},
     "output_type": "display_data"
    },
    {
     "data": {
      "text/html": [
       "<pre>| 51756        | -1e+009 | 87.6171     | 37m 30s      |</pre>"
      ],
      "text/plain": [
       "| 51756        | -1e+009 | 87.6171     | 37m 30s      |"
      ]
     },
     "metadata": {},
     "output_type": "display_data"
    },
    {
     "data": {
      "text/html": [
       "<pre>| 51773        | -1e+009 | 87.6466     | 37m 31s      |</pre>"
      ],
      "text/plain": [
       "| 51773        | -1e+009 | 87.6466     | 37m 31s      |"
      ]
     },
     "metadata": {},
     "output_type": "display_data"
    },
    {
     "data": {
      "text/html": [
       "<pre>| 51790        | -1e+009 | 87.6746     | 37m 32s      |</pre>"
      ],
      "text/plain": [
       "| 51790        | -1e+009 | 87.6746     | 37m 32s      |"
      ]
     },
     "metadata": {},
     "output_type": "display_data"
    },
    {
     "data": {
      "text/html": [
       "<pre>| 51807        | -1e+009 | 87.7041     | 37m 33s      |</pre>"
      ],
      "text/plain": [
       "| 51807        | -1e+009 | 87.7041     | 37m 33s      |"
      ]
     },
     "metadata": {},
     "output_type": "display_data"
    },
    {
     "data": {
      "text/html": [
       "<pre>| 51825        | -1e+009 | 87.7346     | 37m 34s      |</pre>"
      ],
      "text/plain": [
       "| 51825        | -1e+009 | 87.7346     | 37m 34s      |"
      ]
     },
     "metadata": {},
     "output_type": "display_data"
    },
    {
     "data": {
      "text/html": [
       "<pre>| 51842        | -1e+009 | 87.7631     | 37m 35s      |</pre>"
      ],
      "text/plain": [
       "| 51842        | -1e+009 | 87.7631     | 37m 35s      |"
      ]
     },
     "metadata": {},
     "output_type": "display_data"
    },
    {
     "data": {
      "text/html": [
       "<pre>| 51861        | -1e+009 | 87.7953     | 37m 36s      |</pre>"
      ],
      "text/plain": [
       "| 51861        | -1e+009 | 87.7953     | 37m 36s      |"
      ]
     },
     "metadata": {},
     "output_type": "display_data"
    },
    {
     "data": {
      "text/html": [
       "<pre>| 51878        | -1e+009 | 87.8236     | 37m 37s      |</pre>"
      ],
      "text/plain": [
       "| 51878        | -1e+009 | 87.8236     | 37m 37s      |"
      ]
     },
     "metadata": {},
     "output_type": "display_data"
    },
    {
     "data": {
      "text/html": [
       "<pre>| 51894        | -1e+009 | 87.8517     | 37m 38s      |</pre>"
      ],
      "text/plain": [
       "| 51894        | -1e+009 | 87.8517     | 37m 38s      |"
      ]
     },
     "metadata": {},
     "output_type": "display_data"
    },
    {
     "data": {
      "text/html": [
       "<pre>| 51911        | -1e+009 | 87.8803     | 37m 39s      |</pre>"
      ],
      "text/plain": [
       "| 51911        | -1e+009 | 87.8803     | 37m 39s      |"
      ]
     },
     "metadata": {},
     "output_type": "display_data"
    },
    {
     "data": {
      "text/html": [
       "<pre>| 51929        | -1e+009 | 87.9096     | 37m 40s      |</pre>"
      ],
      "text/plain": [
       "| 51929        | -1e+009 | 87.9096     | 37m 40s      |"
      ]
     },
     "metadata": {},
     "output_type": "display_data"
    },
    {
     "data": {
      "text/html": [
       "<pre>| 51945        | -1e+009 | 87.9375     | 37m 41s      |</pre>"
      ],
      "text/plain": [
       "| 51945        | -1e+009 | 87.9375     | 37m 41s      |"
      ]
     },
     "metadata": {},
     "output_type": "display_data"
    },
    {
     "data": {
      "text/html": [
       "<pre>| 51962        | -1e+009 | 87.9657     | 37m 42s      |</pre>"
      ],
      "text/plain": [
       "| 51962        | -1e+009 | 87.9657     | 37m 42s      |"
      ]
     },
     "metadata": {},
     "output_type": "display_data"
    },
    {
     "data": {
      "text/html": [
       "<pre>| 51977        | -1e+009 | 87.9921     | 37m 43s      |</pre>"
      ],
      "text/plain": [
       "| 51977        | -1e+009 | 87.9921     | 37m 43s      |"
      ]
     },
     "metadata": {},
     "output_type": "display_data"
    },
    {
     "data": {
      "text/html": [
       "<pre>| 51994        | -1e+009 | 88.0205     | 37m 44s      |</pre>"
      ],
      "text/plain": [
       "| 51994        | -1e+009 | 88.0205     | 37m 44s      |"
      ]
     },
     "metadata": {},
     "output_type": "display_data"
    },
    {
     "data": {
      "text/html": [
       "<pre>| 52011        | -1e+009 | 88.0484     | 37m 45s      |</pre>"
      ],
      "text/plain": [
       "| 52011        | -1e+009 | 88.0484     | 37m 45s      |"
      ]
     },
     "metadata": {},
     "output_type": "display_data"
    },
    {
     "data": {
      "text/html": [
       "<pre>| 52028        | -1e+009 | 88.0776     | 37m 46s      |</pre>"
      ],
      "text/plain": [
       "| 52028        | -1e+009 | 88.0776     | 37m 46s      |"
      ]
     },
     "metadata": {},
     "output_type": "display_data"
    },
    {
     "data": {
      "text/html": [
       "<pre>| 52045        | -1e+009 | 88.1061     | 37m 47s      |</pre>"
      ],
      "text/plain": [
       "| 52045        | -1e+009 | 88.1061     | 37m 47s      |"
      ]
     },
     "metadata": {},
     "output_type": "display_data"
    },
    {
     "data": {
      "text/html": [
       "<pre>| 52060        | -1e+009 | 88.132      | 37m 48s      |</pre>"
      ],
      "text/plain": [
       "| 52060        | -1e+009 | 88.132      | 37m 48s      |"
      ]
     },
     "metadata": {},
     "output_type": "display_data"
    },
    {
     "data": {
      "text/html": [
       "<pre>| 52077        | -1e+009 | 88.161      | 37m 49s      |</pre>"
      ],
      "text/plain": [
       "| 52077        | -1e+009 | 88.161      | 37m 49s      |"
      ]
     },
     "metadata": {},
     "output_type": "display_data"
    },
    {
     "data": {
      "text/html": [
       "<pre>| 52094        | -1e+009 | 88.1898     | 37m 50s      |</pre>"
      ],
      "text/plain": [
       "| 52094        | -1e+009 | 88.1898     | 37m 50s      |"
      ]
     },
     "metadata": {},
     "output_type": "display_data"
    },
    {
     "data": {
      "text/html": [
       "<pre>| 52111        | -1e+009 | 88.2176     | 37m 51s      |</pre>"
      ],
      "text/plain": [
       "| 52111        | -1e+009 | 88.2176     | 37m 51s      |"
      ]
     },
     "metadata": {},
     "output_type": "display_data"
    },
    {
     "data": {
      "text/html": [
       "<pre>| 52127        | -1e+009 | 88.2461     | 37m 52s      |</pre>"
      ],
      "text/plain": [
       "| 52127        | -1e+009 | 88.2461     | 37m 52s      |"
      ]
     },
     "metadata": {},
     "output_type": "display_data"
    },
    {
     "data": {
      "text/html": [
       "<pre>| 52144        | -1e+009 | 88.2738     | 37m 53s      |</pre>"
      ],
      "text/plain": [
       "| 52144        | -1e+009 | 88.2738     | 37m 53s      |"
      ]
     },
     "metadata": {},
     "output_type": "display_data"
    },
    {
     "data": {
      "text/html": [
       "<pre>| 52160        | -1e+009 | 88.301      | 37m 54s      |</pre>"
      ],
      "text/plain": [
       "| 52160        | -1e+009 | 88.301      | 37m 54s      |"
      ]
     },
     "metadata": {},
     "output_type": "display_data"
    },
    {
     "data": {
      "text/html": [
       "<pre>| 52176        | -1e+009 | 88.3281     | 37m 55s      |</pre>"
      ],
      "text/plain": [
       "| 52176        | -1e+009 | 88.3281     | 37m 55s      |"
      ]
     },
     "metadata": {},
     "output_type": "display_data"
    },
    {
     "data": {
      "text/html": [
       "<pre>| 52193        | -1e+009 | 88.3567     | 37m 56s      |</pre>"
      ],
      "text/plain": [
       "| 52193        | -1e+009 | 88.3567     | 37m 56s      |"
      ]
     },
     "metadata": {},
     "output_type": "display_data"
    },
    {
     "data": {
      "text/html": [
       "<pre>| 52210        | -1e+009 | 88.3855     | 37m 57s      |</pre>"
      ],
      "text/plain": [
       "| 52210        | -1e+009 | 88.3855     | 37m 57s      |"
      ]
     },
     "metadata": {},
     "output_type": "display_data"
    },
    {
     "data": {
      "text/html": [
       "<pre>| 52226        | -1e+009 | 88.4128     | 37m 58s      |</pre>"
      ],
      "text/plain": [
       "| 52226        | -1e+009 | 88.4128     | 37m 58s      |"
      ]
     },
     "metadata": {},
     "output_type": "display_data"
    },
    {
     "data": {
      "text/html": [
       "<pre>| 52241        | -1e+009 | 88.4391     | 37m 59s      |</pre>"
      ],
      "text/plain": [
       "| 52241        | -1e+009 | 88.4391     | 37m 59s      |"
      ]
     },
     "metadata": {},
     "output_type": "display_data"
    },
    {
     "data": {
      "text/html": [
       "<pre>| 52258        | -1e+009 | 88.4664     | 38m 0s       |</pre>"
      ],
      "text/plain": [
       "| 52258        | -1e+009 | 88.4664     | 38m 0s       |"
      ]
     },
     "metadata": {},
     "output_type": "display_data"
    },
    {
     "data": {
      "text/html": [
       "<pre>| 52275        | -1e+009 | 88.4955     | 38m 1s       |</pre>"
      ],
      "text/plain": [
       "| 52275        | -1e+009 | 88.4955     | 38m 1s       |"
      ]
     },
     "metadata": {},
     "output_type": "display_data"
    },
    {
     "data": {
      "text/html": [
       "<pre>| 52292        | -1e+009 | 88.5243     | 38m 2s       |</pre>"
      ],
      "text/plain": [
       "| 52292        | -1e+009 | 88.5243     | 38m 2s       |"
      ]
     },
     "metadata": {},
     "output_type": "display_data"
    },
    {
     "data": {
      "text/html": [
       "<pre>| 52309        | -1e+009 | 88.5528     | 38m 3s       |</pre>"
      ],
      "text/plain": [
       "| 52309        | -1e+009 | 88.5528     | 38m 3s       |"
      ]
     },
     "metadata": {},
     "output_type": "display_data"
    },
    {
     "data": {
      "text/html": [
       "<pre>| 52324        | -1e+009 | 88.5797     | 38m 4s       |</pre>"
      ],
      "text/plain": [
       "| 52324        | -1e+009 | 88.5797     | 38m 4s       |"
      ]
     },
     "metadata": {},
     "output_type": "display_data"
    },
    {
     "data": {
      "text/html": [
       "<pre>| 52340        | -1e+009 | 88.6067     | 38m 5s       |</pre>"
      ],
      "text/plain": [
       "| 52340        | -1e+009 | 88.6067     | 38m 5s       |"
      ]
     },
     "metadata": {},
     "output_type": "display_data"
    },
    {
     "data": {
      "text/html": [
       "<pre>| 52358        | -1e+009 | 88.6359     | 38m 6s       |</pre>"
      ],
      "text/plain": [
       "| 52358        | -1e+009 | 88.6359     | 38m 6s       |"
      ]
     },
     "metadata": {},
     "output_type": "display_data"
    },
    {
     "data": {
      "text/html": [
       "<pre>| 52374        | -1e+009 | 88.6635     | 38m 7s       |</pre>"
      ],
      "text/plain": [
       "| 52374        | -1e+009 | 88.6635     | 38m 7s       |"
      ]
     },
     "metadata": {},
     "output_type": "display_data"
    },
    {
     "data": {
      "text/html": [
       "<pre>| 52391        | -1e+009 | 88.6918     | 38m 8s       |</pre>"
      ],
      "text/plain": [
       "| 52391        | -1e+009 | 88.6918     | 38m 8s       |"
      ]
     },
     "metadata": {},
     "output_type": "display_data"
    },
    {
     "data": {
      "text/html": [
       "<pre>| 52408        | -1e+009 | 88.7208     | 38m 9s       |</pre>"
      ],
      "text/plain": [
       "| 52408        | -1e+009 | 88.7208     | 38m 9s       |"
      ]
     },
     "metadata": {},
     "output_type": "display_data"
    },
    {
     "data": {
      "text/html": [
       "<pre>| 52423        | -1e+009 | 88.7468     | 38m 10s      |</pre>"
      ],
      "text/plain": [
       "| 52423        | -1e+009 | 88.7468     | 38m 10s      |"
      ]
     },
     "metadata": {},
     "output_type": "display_data"
    },
    {
     "data": {
      "text/html": [
       "<pre>| 52440        | -1e+009 | 88.7758     | 38m 11s      |</pre>"
      ],
      "text/plain": [
       "| 52440        | -1e+009 | 88.7758     | 38m 11s      |"
      ]
     },
     "metadata": {},
     "output_type": "display_data"
    },
    {
     "data": {
      "text/html": [
       "<pre>| 52457        | -1e+009 | 88.804      | 38m 12s      |</pre>"
      ],
      "text/plain": [
       "| 52457        | -1e+009 | 88.804      | 38m 12s      |"
      ]
     },
     "metadata": {},
     "output_type": "display_data"
    },
    {
     "data": {
      "text/html": [
       "<pre>| 52474        | -1e+009 | 88.8322     | 38m 13s      |</pre>"
      ],
      "text/plain": [
       "| 52474        | -1e+009 | 88.8322     | 38m 13s      |"
      ]
     },
     "metadata": {},
     "output_type": "display_data"
    },
    {
     "data": {
      "text/html": [
       "<pre>| 52490        | -1e+009 | 88.8603     | 38m 14s      |</pre>"
      ],
      "text/plain": [
       "| 52490        | -1e+009 | 88.8603     | 38m 14s      |"
      ]
     },
     "metadata": {},
     "output_type": "display_data"
    },
    {
     "data": {
      "text/html": [
       "<pre>| 52506        | -1e+009 | 88.8866     | 38m 15s      |</pre>"
      ],
      "text/plain": [
       "| 52506        | -1e+009 | 88.8866     | 38m 15s      |"
      ]
     },
     "metadata": {},
     "output_type": "display_data"
    },
    {
     "data": {
      "text/html": [
       "<pre>| 52522        | -1e+009 | 88.9147     | 38m 16s      |</pre>"
      ],
      "text/plain": [
       "| 52522        | -1e+009 | 88.9147     | 38m 16s      |"
      ]
     },
     "metadata": {},
     "output_type": "display_data"
    },
    {
     "data": {
      "text/html": [
       "<pre>| 52539        | -1e+009 | 88.9437     | 38m 17s      |</pre>"
      ],
      "text/plain": [
       "| 52539        | -1e+009 | 88.9437     | 38m 17s      |"
      ]
     },
     "metadata": {},
     "output_type": "display_data"
    },
    {
     "data": {
      "text/html": [
       "<pre>| 52556        | -1e+009 | 88.9713     | 38m 18s      |</pre>"
      ],
      "text/plain": [
       "| 52556        | -1e+009 | 88.9713     | 38m 18s      |"
      ]
     },
     "metadata": {},
     "output_type": "display_data"
    },
    {
     "data": {
      "text/html": [
       "<pre>| 52572        | -1e+009 | 88.9984     | 38m 19s      |</pre>"
      ],
      "text/plain": [
       "| 52572        | -1e+009 | 88.9984     | 38m 19s      |"
      ]
     },
     "metadata": {},
     "output_type": "display_data"
    },
    {
     "data": {
      "text/html": [
       "<pre>| 52588        | -1e+009 | 89.0252     | 38m 20s      |</pre>"
      ],
      "text/plain": [
       "| 52588        | -1e+009 | 89.0252     | 38m 20s      |"
      ]
     },
     "metadata": {},
     "output_type": "display_data"
    },
    {
     "data": {
      "text/html": [
       "<pre>| 52603        | -1e+009 | 89.0517     | 38m 21s      |</pre>"
      ],
      "text/plain": [
       "| 52603        | -1e+009 | 89.0517     | 38m 21s      |"
      ]
     },
     "metadata": {},
     "output_type": "display_data"
    },
    {
     "data": {
      "text/html": [
       "<pre>| 52620        | -1e+009 | 89.0799     | 38m 22s      |</pre>"
      ],
      "text/plain": [
       "| 52620        | -1e+009 | 89.0799     | 38m 22s      |"
      ]
     },
     "metadata": {},
     "output_type": "display_data"
    },
    {
     "data": {
      "text/html": [
       "<pre>| 52636        | -1e+009 | 89.1074     | 38m 23s      |</pre>"
      ],
      "text/plain": [
       "| 52636        | -1e+009 | 89.1074     | 38m 23s      |"
      ]
     },
     "metadata": {},
     "output_type": "display_data"
    },
    {
     "data": {
      "text/html": [
       "<pre>| 52652        | -1e+009 | 89.1349     | 38m 24s      |</pre>"
      ],
      "text/plain": [
       "| 52652        | -1e+009 | 89.1349     | 38m 24s      |"
      ]
     },
     "metadata": {},
     "output_type": "display_data"
    },
    {
     "data": {
      "text/html": [
       "<pre>| 52669        | -1e+009 | 89.1635     | 38m 25s      |</pre>"
      ],
      "text/plain": [
       "| 52669        | -1e+009 | 89.1635     | 38m 25s      |"
      ]
     },
     "metadata": {},
     "output_type": "display_data"
    },
    {
     "data": {
      "text/html": [
       "<pre>| 52686        | -1e+009 | 89.192      | 38m 26s      |</pre>"
      ],
      "text/plain": [
       "| 52686        | -1e+009 | 89.192      | 38m 26s      |"
      ]
     },
     "metadata": {},
     "output_type": "display_data"
    },
    {
     "data": {
      "text/html": [
       "<pre>| 52703        | -1e+009 | 89.2201     | 38m 27s      |</pre>"
      ],
      "text/plain": [
       "| 52703        | -1e+009 | 89.2201     | 38m 27s      |"
      ]
     },
     "metadata": {},
     "output_type": "display_data"
    },
    {
     "data": {
      "text/html": [
       "<pre>| 52718        | -1e+009 | 89.2468     | 38m 28s      |</pre>"
      ],
      "text/plain": [
       "| 52718        | -1e+009 | 89.2468     | 38m 28s      |"
      ]
     },
     "metadata": {},
     "output_type": "display_data"
    },
    {
     "data": {
      "text/html": [
       "<pre>| 52734        | -1e+009 | 89.2736     | 38m 29s      |</pre>"
      ],
      "text/plain": [
       "| 52734        | -1e+009 | 89.2736     | 38m 29s      |"
      ]
     },
     "metadata": {},
     "output_type": "display_data"
    },
    {
     "data": {
      "text/html": [
       "<pre>| 52751        | -1e+009 | 89.302      | 38m 30s      |</pre>"
      ],
      "text/plain": [
       "| 52751        | -1e+009 | 89.302      | 38m 30s      |"
      ]
     },
     "metadata": {},
     "output_type": "display_data"
    },
    {
     "data": {
      "text/html": [
       "<pre>| 52767        | -1e+009 | 89.3296     | 38m 31s      |</pre>"
      ],
      "text/plain": [
       "| 52767        | -1e+009 | 89.3296     | 38m 31s      |"
      ]
     },
     "metadata": {},
     "output_type": "display_data"
    },
    {
     "data": {
      "text/html": [
       "<pre>| 52783        | -1e+009 | 89.3566     | 38m 32s      |</pre>"
      ],
      "text/plain": [
       "| 52783        | -1e+009 | 89.3566     | 38m 32s      |"
      ]
     },
     "metadata": {},
     "output_type": "display_data"
    },
    {
     "data": {
      "text/html": [
       "<pre>| 52800        | -1e+009 | 89.3842     | 38m 33s      |</pre>"
      ],
      "text/plain": [
       "| 52800        | -1e+009 | 89.3842     | 38m 33s      |"
      ]
     },
     "metadata": {},
     "output_type": "display_data"
    },
    {
     "data": {
      "text/html": [
       "<pre>| 52815        | -1e+009 | 89.4106     | 38m 34s      |</pre>"
      ],
      "text/plain": [
       "| 52815        | -1e+009 | 89.4106     | 38m 34s      |"
      ]
     },
     "metadata": {},
     "output_type": "display_data"
    },
    {
     "data": {
      "text/html": [
       "<pre>| 52831        | -1e+009 | 89.4374     | 38m 35s      |</pre>"
      ],
      "text/plain": [
       "| 52831        | -1e+009 | 89.4374     | 38m 35s      |"
      ]
     },
     "metadata": {},
     "output_type": "display_data"
    },
    {
     "data": {
      "text/html": [
       "<pre>| 52848        | -1e+009 | 89.4658     | 38m 36s      |</pre>"
      ],
      "text/plain": [
       "| 52848        | -1e+009 | 89.4658     | 38m 36s      |"
      ]
     },
     "metadata": {},
     "output_type": "display_data"
    },
    {
     "data": {
      "text/html": [
       "<pre>| 52864        | -1e+009 | 89.4938     | 38m 37s      |</pre>"
      ],
      "text/plain": [
       "| 52864        | -1e+009 | 89.4938     | 38m 37s      |"
      ]
     },
     "metadata": {},
     "output_type": "display_data"
    },
    {
     "data": {
      "text/html": [
       "<pre>| 52880        | -1e+009 | 89.5205     | 38m 38s      |</pre>"
      ],
      "text/plain": [
       "| 52880        | -1e+009 | 89.5205     | 38m 38s      |"
      ]
     },
     "metadata": {},
     "output_type": "display_data"
    },
    {
     "data": {
      "text/html": [
       "<pre>| 52896        | -1e+009 | 89.5469     | 38m 39s      |</pre>"
      ],
      "text/plain": [
       "| 52896        | -1e+009 | 89.5469     | 38m 39s      |"
      ]
     },
     "metadata": {},
     "output_type": "display_data"
    },
    {
     "data": {
      "text/html": [
       "<pre>| 52912        | -1e+009 | 89.5738     | 38m 40s      |</pre>"
      ],
      "text/plain": [
       "| 52912        | -1e+009 | 89.5738     | 38m 40s      |"
      ]
     },
     "metadata": {},
     "output_type": "display_data"
    },
    {
     "data": {
      "text/html": [
       "<pre>| 52928        | -1e+009 | 89.6018     | 38m 41s      |</pre>"
      ],
      "text/plain": [
       "| 52928        | -1e+009 | 89.6018     | 38m 41s      |"
      ]
     },
     "metadata": {},
     "output_type": "display_data"
    },
    {
     "data": {
      "text/html": [
       "<pre>| 52946        | -1e+009 | 89.6316     | 38m 42s      |</pre>"
      ],
      "text/plain": [
       "| 52946        | -1e+009 | 89.6316     | 38m 42s      |"
      ]
     },
     "metadata": {},
     "output_type": "display_data"
    },
    {
     "data": {
      "text/html": [
       "<pre>| 52967        | -1e+009 | 89.667      | 38m 43s      |</pre>"
      ],
      "text/plain": [
       "| 52967        | -1e+009 | 89.667      | 38m 43s      |"
      ]
     },
     "metadata": {},
     "output_type": "display_data"
    },
    {
     "data": {
      "text/html": [
       "<pre>| 52989        | -1e+009 | 89.704      | 38m 44s      |</pre>"
      ],
      "text/plain": [
       "| 52989        | -1e+009 | 89.704      | 38m 44s      |"
      ]
     },
     "metadata": {},
     "output_type": "display_data"
    },
    {
     "data": {
      "text/html": [
       "<pre>| 53011        | -1e+009 | 89.7416     | 38m 45s      |</pre>"
      ],
      "text/plain": [
       "| 53011        | -1e+009 | 89.7416     | 38m 45s      |"
      ]
     },
     "metadata": {},
     "output_type": "display_data"
    },
    {
     "data": {
      "text/html": [
       "<pre>| 53033        | -1e+009 | 89.7796     | 38m 46s      |</pre>"
      ],
      "text/plain": [
       "| 53033        | -1e+009 | 89.7796     | 38m 46s      |"
      ]
     },
     "metadata": {},
     "output_type": "display_data"
    },
    {
     "data": {
      "text/html": [
       "<pre>| 53055        | -1e+009 | 89.8172     | 38m 47s      |</pre>"
      ],
      "text/plain": [
       "| 53055        | -1e+009 | 89.8172     | 38m 47s      |"
      ]
     },
     "metadata": {},
     "output_type": "display_data"
    },
    {
     "data": {
      "text/html": [
       "<pre>| 53077        | -1e+009 | 89.8545     | 38m 48s      |</pre>"
      ],
      "text/plain": [
       "| 53077        | -1e+009 | 89.8545     | 38m 48s      |"
      ]
     },
     "metadata": {},
     "output_type": "display_data"
    },
    {
     "data": {
      "text/html": [
       "<pre>| 53097        | -1e+009 | 89.8869     | 38m 49s      |</pre>"
      ],
      "text/plain": [
       "| 53097        | -1e+009 | 89.8869     | 38m 49s      |"
      ]
     },
     "metadata": {},
     "output_type": "display_data"
    },
    {
     "data": {
      "text/html": [
       "<pre>| 53115        | -1e+009 | 89.9173     | 38m 50s      |</pre>"
      ],
      "text/plain": [
       "| 53115        | -1e+009 | 89.9173     | 38m 50s      |"
      ]
     },
     "metadata": {},
     "output_type": "display_data"
    },
    {
     "data": {
      "text/html": [
       "<pre>| 53133        | -1e+009 | 89.9477     | 38m 51s      |</pre>"
      ],
      "text/plain": [
       "| 53133        | -1e+009 | 89.9477     | 38m 51s      |"
      ]
     },
     "metadata": {},
     "output_type": "display_data"
    },
    {
     "data": {
      "text/html": [
       "<pre>| 53151        | -1e+009 | 89.9797     | 38m 52s      |</pre>"
      ],
      "text/plain": [
       "| 53151        | -1e+009 | 89.9797     | 38m 52s      |"
      ]
     },
     "metadata": {},
     "output_type": "display_data"
    },
    {
     "data": {
      "text/html": [
       "<pre>| 53168        | -1e+009 | 90.0081     | 38m 53s      |</pre>"
      ],
      "text/plain": [
       "| 53168        | -1e+009 | 90.0081     | 38m 53s      |"
      ]
     },
     "metadata": {},
     "output_type": "display_data"
    },
    {
     "data": {
      "text/html": [
       "<pre>| 53190        | -1e+009 | 90.0447     | 38m 54s      |</pre>"
      ],
      "text/plain": [
       "| 53190        | -1e+009 | 90.0447     | 38m 54s      |"
      ]
     },
     "metadata": {},
     "output_type": "display_data"
    },
    {
     "data": {
      "text/html": [
       "<pre>| 53211        | -1e+009 | 90.081      | 38m 55s      |</pre>"
      ],
      "text/plain": [
       "| 53211        | -1e+009 | 90.081      | 38m 55s      |"
      ]
     },
     "metadata": {},
     "output_type": "display_data"
    },
    {
     "data": {
      "text/html": [
       "<pre>| 53233        | -1e+009 | 90.1184     | 38m 56s      |</pre>"
      ],
      "text/plain": [
       "| 53233        | -1e+009 | 90.1184     | 38m 56s      |"
      ]
     },
     "metadata": {},
     "output_type": "display_data"
    },
    {
     "data": {
      "text/html": [
       "<pre>| 53255        | -1e+009 | 90.1555     | 38m 57s      |</pre>"
      ],
      "text/plain": [
       "| 53255        | -1e+009 | 90.1555     | 38m 57s      |"
      ]
     },
     "metadata": {},
     "output_type": "display_data"
    },
    {
     "data": {
      "text/html": [
       "<pre>| 53277        | -1e+009 | 90.1931     | 38m 58s      |</pre>"
      ],
      "text/plain": [
       "| 53277        | -1e+009 | 90.1931     | 38m 58s      |"
      ]
     },
     "metadata": {},
     "output_type": "display_data"
    },
    {
     "data": {
      "text/html": [
       "<pre>| 53299        | -1e+009 | 90.2298     | 38m 59s      |</pre>"
      ],
      "text/plain": [
       "| 53299        | -1e+009 | 90.2298     | 38m 59s      |"
      ]
     },
     "metadata": {},
     "output_type": "display_data"
    },
    {
     "data": {
      "text/html": [
       "<pre>| 53321        | -1e+009 | 90.266      | 39m 0s       |</pre>"
      ],
      "text/plain": [
       "| 53321        | -1e+009 | 90.266      | 39m 0s       |"
      ]
     },
     "metadata": {},
     "output_type": "display_data"
    },
    {
     "data": {
      "text/html": [
       "<pre>| 53342        | -1e+009 | 90.3029     | 39m 1s       |</pre>"
      ],
      "text/plain": [
       "| 53342        | -1e+009 | 90.3029     | 39m 1s       |"
      ]
     },
     "metadata": {},
     "output_type": "display_data"
    },
    {
     "data": {
      "text/html": [
       "<pre>| 53361        | -1e+009 | 90.3348     | 39m 2s       |</pre>"
      ],
      "text/plain": [
       "| 53361        | -1e+009 | 90.3348     | 39m 2s       |"
      ]
     },
     "metadata": {},
     "output_type": "display_data"
    },
    {
     "data": {
      "text/html": [
       "<pre>| 53378        | -1e+009 | 90.3634     | 39m 3s       |</pre>"
      ],
      "text/plain": [
       "| 53378        | -1e+009 | 90.3634     | 39m 3s       |"
      ]
     },
     "metadata": {},
     "output_type": "display_data"
    },
    {
     "data": {
      "text/html": [
       "<pre>| 53395        | -1e+009 | 90.3915     | 39m 4s       |</pre>"
      ],
      "text/plain": [
       "| 53395        | -1e+009 | 90.3915     | 39m 4s       |"
      ]
     },
     "metadata": {},
     "output_type": "display_data"
    },
    {
     "data": {
      "text/html": [
       "<pre>| 53411        | -1e+009 | 90.4191     | 39m 5s       |</pre>"
      ],
      "text/plain": [
       "| 53411        | -1e+009 | 90.4191     | 39m 5s       |"
      ]
     },
     "metadata": {},
     "output_type": "display_data"
    },
    {
     "data": {
      "text/html": [
       "<pre>| 53430        | -1e+009 | 90.4514     | 39m 6s       |</pre>"
      ],
      "text/plain": [
       "| 53430        | -1e+009 | 90.4514     | 39m 6s       |"
      ]
     },
     "metadata": {},
     "output_type": "display_data"
    },
    {
     "data": {
      "text/html": [
       "<pre>| 53448        | -1e+009 | 90.4819     | 39m 7s       |</pre>"
      ],
      "text/plain": [
       "| 53448        | -1e+009 | 90.4819     | 39m 7s       |"
      ]
     },
     "metadata": {},
     "output_type": "display_data"
    },
    {
     "data": {
      "text/html": [
       "<pre>| 53469        | -1e+009 | 90.5181     | 39m 8s       |</pre>"
      ],
      "text/plain": [
       "| 53469        | -1e+009 | 90.5181     | 39m 8s       |"
      ]
     },
     "metadata": {},
     "output_type": "display_data"
    },
    {
     "data": {
      "text/html": [
       "<pre>| 53491        | -1e+009 | 90.5554     | 39m 9s       |</pre>"
      ],
      "text/plain": [
       "| 53491        | -1e+009 | 90.5554     | 39m 9s       |"
      ]
     },
     "metadata": {},
     "output_type": "display_data"
    },
    {
     "data": {
      "text/html": [
       "<pre>| 53514        | -1e+009 | 90.5932     | 39m 10s      |</pre>"
      ],
      "text/plain": [
       "| 53514        | -1e+009 | 90.5932     | 39m 10s      |"
      ]
     },
     "metadata": {},
     "output_type": "display_data"
    },
    {
     "data": {
      "text/html": [
       "<pre>| 53535        | -1e+009 | 90.6287     | 39m 11s      |</pre>"
      ],
      "text/plain": [
       "| 53535        | -1e+009 | 90.6287     | 39m 11s      |"
      ]
     },
     "metadata": {},
     "output_type": "display_data"
    },
    {
     "data": {
      "text/html": [
       "<pre>| 53557        | -1e+009 | 90.6657     | 39m 12s      |</pre>"
      ],
      "text/plain": [
       "| 53557        | -1e+009 | 90.6657     | 39m 12s      |"
      ]
     },
     "metadata": {},
     "output_type": "display_data"
    },
    {
     "data": {
      "text/html": [
       "<pre>| 53579        | -1e+009 | 90.7031     | 39m 13s      |</pre>"
      ],
      "text/plain": [
       "| 53579        | -1e+009 | 90.7031     | 39m 13s      |"
      ]
     },
     "metadata": {},
     "output_type": "display_data"
    },
    {
     "data": {
      "text/html": [
       "<pre>| 53600        | -1e+009 | 90.7388     | 39m 14s      |</pre>"
      ],
      "text/plain": [
       "| 53600        | -1e+009 | 90.7388     | 39m 14s      |"
      ]
     },
     "metadata": {},
     "output_type": "display_data"
    },
    {
     "data": {
      "text/html": [
       "<pre>| 53622        | -1e+009 | 90.7756     | 39m 15s      |</pre>"
      ],
      "text/plain": [
       "| 53622        | -1e+009 | 90.7756     | 39m 15s      |"
      ]
     },
     "metadata": {},
     "output_type": "display_data"
    },
    {
     "data": {
      "text/html": [
       "<pre>| 53643        | -1e+009 | 90.8121     | 39m 16s      |</pre>"
      ],
      "text/plain": [
       "| 53643        | -1e+009 | 90.8121     | 39m 16s      |"
      ]
     },
     "metadata": {},
     "output_type": "display_data"
    },
    {
     "data": {
      "text/html": [
       "<pre>| 53665        | -1e+009 | 90.8492     | 39m 17s      |</pre>"
      ],
      "text/plain": [
       "| 53665        | -1e+009 | 90.8492     | 39m 17s      |"
      ]
     },
     "metadata": {},
     "output_type": "display_data"
    },
    {
     "data": {
      "text/html": [
       "<pre>| 53686        | -1e+009 | 90.885      | 39m 18s      |</pre>"
      ],
      "text/plain": [
       "| 53686        | -1e+009 | 90.885      | 39m 18s      |"
      ]
     },
     "metadata": {},
     "output_type": "display_data"
    },
    {
     "data": {
      "text/html": [
       "<pre>| 53704        | -1e+009 | 90.915      | 39m 19s      |</pre>"
      ],
      "text/plain": [
       "| 53704        | -1e+009 | 90.915      | 39m 19s      |"
      ]
     },
     "metadata": {},
     "output_type": "display_data"
    },
    {
     "data": {
      "text/html": [
       "<pre>| 53721        | -1e+009 | 90.9434     | 39m 20s      |</pre>"
      ],
      "text/plain": [
       "| 53721        | -1e+009 | 90.9434     | 39m 20s      |"
      ]
     },
     "metadata": {},
     "output_type": "display_data"
    },
    {
     "data": {
      "text/html": [
       "<pre>| 53741        | -1e+009 | 90.9786     | 39m 21s      |</pre>"
      ],
      "text/plain": [
       "| 53741        | -1e+009 | 90.9786     | 39m 21s      |"
      ]
     },
     "metadata": {},
     "output_type": "display_data"
    },
    {
     "data": {
      "text/html": [
       "<pre>| 53764        | -1e+009 | 91.0171     | 39m 22s      |</pre>"
      ],
      "text/plain": [
       "| 53764        | -1e+009 | 91.0171     | 39m 22s      |"
      ]
     },
     "metadata": {},
     "output_type": "display_data"
    },
    {
     "data": {
      "text/html": [
       "<pre>| 53784        | -1e+009 | 91.0498     | 39m 23s      |</pre>"
      ],
      "text/plain": [
       "| 53784        | -1e+009 | 91.0498     | 39m 23s      |"
      ]
     },
     "metadata": {},
     "output_type": "display_data"
    },
    {
     "data": {
      "text/html": [
       "<pre>| 53796        | -1e+009 | 91.0711     | 39m 24s      |</pre>"
      ],
      "text/plain": [
       "| 53796        | -1e+009 | 91.0711     | 39m 24s      |"
      ]
     },
     "metadata": {},
     "output_type": "display_data"
    },
    {
     "data": {
      "text/html": [
       "<pre>| 53810        | -1e+009 | 91.0952     | 39m 25s      |</pre>"
      ],
      "text/plain": [
       "| 53810        | -1e+009 | 91.0952     | 39m 25s      |"
      ]
     },
     "metadata": {},
     "output_type": "display_data"
    },
    {
     "data": {
      "text/html": [
       "<pre>| 53825        | -1e+009 | 91.1202     | 39m 26s      |</pre>"
      ],
      "text/plain": [
       "| 53825        | -1e+009 | 91.1202     | 39m 26s      |"
      ]
     },
     "metadata": {},
     "output_type": "display_data"
    },
    {
     "data": {
      "text/html": [
       "<pre>| 53843        | -1e+009 | 91.1508     | 39m 27s      |</pre>"
      ],
      "text/plain": [
       "| 53843        | -1e+009 | 91.1508     | 39m 27s      |"
      ]
     },
     "metadata": {},
     "output_type": "display_data"
    },
    {
     "data": {
      "text/html": [
       "<pre>| 53865        | -1e+009 | 91.1879     | 39m 28s      |</pre>"
      ],
      "text/plain": [
       "| 53865        | -1e+009 | 91.1879     | 39m 28s      |"
      ]
     },
     "metadata": {},
     "output_type": "display_data"
    },
    {
     "data": {
      "text/html": [
       "<pre>| 53886        | -1e+009 | 91.2235     | 39m 29s      |</pre>"
      ],
      "text/plain": [
       "| 53886        | -1e+009 | 91.2235     | 39m 29s      |"
      ]
     },
     "metadata": {},
     "output_type": "display_data"
    },
    {
     "data": {
      "text/html": [
       "<pre>| 53908        | -1e+009 | 91.2604     | 39m 30s      |</pre>"
      ],
      "text/plain": [
       "| 53908        | -1e+009 | 91.2604     | 39m 30s      |"
      ]
     },
     "metadata": {},
     "output_type": "display_data"
    },
    {
     "data": {
      "text/html": [
       "<pre>| 53930        | -1e+009 | 91.2976     | 39m 31s      |</pre>"
      ],
      "text/plain": [
       "| 53930        | -1e+009 | 91.2976     | 39m 31s      |"
      ]
     },
     "metadata": {},
     "output_type": "display_data"
    },
    {
     "data": {
      "text/html": [
       "<pre>| 53952        | -1e+009 | 91.335      | 39m 32s      |</pre>"
      ],
      "text/plain": [
       "| 53952        | -1e+009 | 91.335      | 39m 32s      |"
      ]
     },
     "metadata": {},
     "output_type": "display_data"
    },
    {
     "data": {
      "text/html": [
       "<pre>| 53974        | -1e+009 | 91.3719     | 39m 33s      |</pre>"
      ],
      "text/plain": [
       "| 53974        | -1e+009 | 91.3719     | 39m 33s      |"
      ]
     },
     "metadata": {},
     "output_type": "display_data"
    },
    {
     "data": {
      "text/html": [
       "<pre>| 53996        | -1e+009 | 91.4101     | 39m 34s      |</pre>"
      ],
      "text/plain": [
       "| 53996        | -1e+009 | 91.4101     | 39m 34s      |"
      ]
     },
     "metadata": {},
     "output_type": "display_data"
    },
    {
     "data": {
      "text/html": [
       "<pre>| 54018        | -1e+009 | 91.4466     | 39m 35s      |</pre>"
      ],
      "text/plain": [
       "| 54018        | -1e+009 | 91.4466     | 39m 35s      |"
      ]
     },
     "metadata": {},
     "output_type": "display_data"
    },
    {
     "data": {
      "text/html": [
       "<pre>| 54041        | -1e+009 | 91.4851     | 39m 36s      |</pre>"
      ],
      "text/plain": [
       "| 54041        | -1e+009 | 91.4851     | 39m 36s      |"
      ]
     },
     "metadata": {},
     "output_type": "display_data"
    },
    {
     "data": {
      "text/html": [
       "<pre>| 54062        | -1e+009 | 91.521      | 39m 37s      |</pre>"
      ],
      "text/plain": [
       "| 54062        | -1e+009 | 91.521      | 39m 37s      |"
      ]
     },
     "metadata": {},
     "output_type": "display_data"
    },
    {
     "data": {
      "text/html": [
       "<pre>| 54083        | -1e+009 | 91.5563     | 39m 38s      |</pre>"
      ],
      "text/plain": [
       "| 54083        | -1e+009 | 91.5563     | 39m 38s      |"
      ]
     },
     "metadata": {},
     "output_type": "display_data"
    },
    {
     "data": {
      "text/html": [
       "<pre>| 54104        | -1e+009 | 91.592      | 39m 39s      |</pre>"
      ],
      "text/plain": [
       "| 54104        | -1e+009 | 91.592      | 39m 39s      |"
      ]
     },
     "metadata": {},
     "output_type": "display_data"
    },
    {
     "data": {
      "text/html": [
       "<pre>| 54123        | -1e+009 | 91.6252     | 39m 40s      |</pre>"
      ],
      "text/plain": [
       "| 54123        | -1e+009 | 91.6252     | 39m 40s      |"
      ]
     },
     "metadata": {},
     "output_type": "display_data"
    },
    {
     "data": {
      "text/html": [
       "<pre>| 54144        | -1e+009 | 91.6604     | 39m 41s      |</pre>"
      ],
      "text/plain": [
       "| 54144        | -1e+009 | 91.6604     | 39m 41s      |"
      ]
     },
     "metadata": {},
     "output_type": "display_data"
    },
    {
     "data": {
      "text/html": [
       "<pre>| 54166        | -1e+009 | 91.698      | 39m 42s      |</pre>"
      ],
      "text/plain": [
       "| 54166        | -1e+009 | 91.698      | 39m 42s      |"
      ]
     },
     "metadata": {},
     "output_type": "display_data"
    },
    {
     "data": {
      "text/html": [
       "<pre>| 54188        | -1e+009 | 91.7349     | 39m 43s      |</pre>"
      ],
      "text/plain": [
       "| 54188        | -1e+009 | 91.7349     | 39m 43s      |"
      ]
     },
     "metadata": {},
     "output_type": "display_data"
    },
    {
     "data": {
      "text/html": [
       "<pre>| 54210        | -1e+009 | 91.7716     | 39m 44s      |</pre>"
      ],
      "text/plain": [
       "| 54210        | -1e+009 | 91.7716     | 39m 44s      |"
      ]
     },
     "metadata": {},
     "output_type": "display_data"
    },
    {
     "data": {
      "text/html": [
       "<pre>| 54232        | -1e+009 | 91.8082     | 39m 45s      |</pre>"
      ],
      "text/plain": [
       "| 54232        | -1e+009 | 91.8082     | 39m 45s      |"
      ]
     },
     "metadata": {},
     "output_type": "display_data"
    },
    {
     "data": {
      "text/html": [
       "<pre>| 54254        | -1e+009 | 91.8461     | 39m 46s      |</pre>"
      ],
      "text/plain": [
       "| 54254        | -1e+009 | 91.8461     | 39m 46s      |"
      ]
     },
     "metadata": {},
     "output_type": "display_data"
    },
    {
     "data": {
      "text/html": [
       "<pre>| 54276        | -1e+009 | 91.8837     | 39m 47s      |</pre>"
      ],
      "text/plain": [
       "| 54276        | -1e+009 | 91.8837     | 39m 47s      |"
      ]
     },
     "metadata": {},
     "output_type": "display_data"
    },
    {
     "data": {
      "text/html": [
       "<pre>| 54298        | -1e+009 | 91.9208     | 39m 48s      |</pre>"
      ],
      "text/plain": [
       "| 54298        | -1e+009 | 91.9208     | 39m 48s      |"
      ]
     },
     "metadata": {},
     "output_type": "display_data"
    },
    {
     "data": {
      "text/html": [
       "<pre>| 54320        | -1e+009 | 91.958      | 39m 49s      |</pre>"
      ],
      "text/plain": [
       "| 54320        | -1e+009 | 91.958      | 39m 49s      |"
      ]
     },
     "metadata": {},
     "output_type": "display_data"
    },
    {
     "data": {
      "text/html": [
       "<pre>| 54339        | -1e+009 | 91.9908     | 39m 50s      |</pre>"
      ],
      "text/plain": [
       "| 54339        | -1e+009 | 91.9908     | 39m 50s      |"
      ]
     },
     "metadata": {},
     "output_type": "display_data"
    },
    {
     "data": {
      "text/html": [
       "<pre>| 54361        | -1e+009 | 92.0274     | 39m 51s      |</pre>"
      ],
      "text/plain": [
       "| 54361        | -1e+009 | 92.0274     | 39m 51s      |"
      ]
     },
     "metadata": {},
     "output_type": "display_data"
    },
    {
     "data": {
      "text/html": [
       "<pre>| 54383        | -1e+009 | 92.0647     | 39m 52s      |</pre>"
      ],
      "text/plain": [
       "| 54383        | -1e+009 | 92.0647     | 39m 52s      |"
      ]
     },
     "metadata": {},
     "output_type": "display_data"
    },
    {
     "data": {
      "text/html": [
       "<pre>| 54405        | -1e+009 | 92.1021     | 39m 53s      |</pre>"
      ],
      "text/plain": [
       "| 54405        | -1e+009 | 92.1021     | 39m 53s      |"
      ]
     },
     "metadata": {},
     "output_type": "display_data"
    },
    {
     "data": {
      "text/html": [
       "<pre>| 54427        | -1e+009 | 92.1394     | 39m 54s      |</pre>"
      ],
      "text/plain": [
       "| 54427        | -1e+009 | 92.1394     | 39m 54s      |"
      ]
     },
     "metadata": {},
     "output_type": "display_data"
    },
    {
     "data": {
      "text/html": [
       "<pre>| 54448        | -1e+009 | 92.1746     | 39m 55s      |</pre>"
      ],
      "text/plain": [
       "| 54448        | -1e+009 | 92.1746     | 39m 55s      |"
      ]
     },
     "metadata": {},
     "output_type": "display_data"
    },
    {
     "data": {
      "text/html": [
       "<pre>| 54470        | -1e+009 | 92.2117     | 39m 56s      |</pre>"
      ],
      "text/plain": [
       "| 54470        | -1e+009 | 92.2117     | 39m 56s      |"
      ]
     },
     "metadata": {},
     "output_type": "display_data"
    },
    {
     "data": {
      "text/html": [
       "<pre>| 54492        | -1e+009 | 92.2488     | 39m 57s      |</pre>"
      ],
      "text/plain": [
       "| 54492        | -1e+009 | 92.2488     | 39m 57s      |"
      ]
     },
     "metadata": {},
     "output_type": "display_data"
    },
    {
     "data": {
      "text/html": [
       "<pre>| 54514        | -1e+009 | 92.2857     | 39m 58s      |</pre>"
      ],
      "text/plain": [
       "| 54514        | -1e+009 | 92.2857     | 39m 58s      |"
      ]
     },
     "metadata": {},
     "output_type": "display_data"
    },
    {
     "data": {
      "text/html": [
       "<pre>| 54534        | -1e+009 | 92.3203     | 39m 59s      |</pre>"
      ],
      "text/plain": [
       "| 54534        | -1e+009 | 92.3203     | 39m 59s      |"
      ]
     },
     "metadata": {},
     "output_type": "display_data"
    },
    {
     "data": {
      "text/html": [
       "<pre>| 54553        | -1e+009 | 92.352      | 40m 0s       |</pre>"
      ],
      "text/plain": [
       "| 54553        | -1e+009 | 92.352      | 40m 0s       |"
      ]
     },
     "metadata": {},
     "output_type": "display_data"
    },
    {
     "data": {
      "text/html": [
       "<pre>| 54575        | -1e+009 | 92.3902     | 40m 1s       |</pre>"
      ],
      "text/plain": [
       "| 54575        | -1e+009 | 92.3902     | 40m 1s       |"
      ]
     },
     "metadata": {},
     "output_type": "display_data"
    },
    {
     "data": {
      "text/html": [
       "<pre>| 54598        | -1e+009 | 92.4278     | 40m 2s       |</pre>"
      ],
      "text/plain": [
       "| 54598        | -1e+009 | 92.4278     | 40m 2s       |"
      ]
     },
     "metadata": {},
     "output_type": "display_data"
    },
    {
     "data": {
      "text/html": [
       "<pre>| 54618        | -1e+009 | 92.4628     | 40m 3s       |</pre>"
      ],
      "text/plain": [
       "| 54618        | -1e+009 | 92.4628     | 40m 3s       |"
      ]
     },
     "metadata": {},
     "output_type": "display_data"
    },
    {
     "data": {
      "text/html": [
       "<pre>| 54640        | -1e+009 | 92.4998     | 40m 4s       |</pre>"
      ],
      "text/plain": [
       "| 54640        | -1e+009 | 92.4998     | 40m 4s       |"
      ]
     },
     "metadata": {},
     "output_type": "display_data"
    },
    {
     "data": {
      "text/html": [
       "<pre>| 54662        | -1e+009 | 92.5367     | 40m 5s       |</pre>"
      ],
      "text/plain": [
       "| 54662        | -1e+009 | 92.5367     | 40m 5s       |"
      ]
     },
     "metadata": {},
     "output_type": "display_data"
    },
    {
     "data": {
      "text/html": [
       "<pre>| 54684        | -1e+009 | 92.5747     | 40m 6s       |</pre>"
      ],
      "text/plain": [
       "| 54684        | -1e+009 | 92.5747     | 40m 6s       |"
      ]
     },
     "metadata": {},
     "output_type": "display_data"
    },
    {
     "data": {
      "text/html": [
       "<pre>| 54706        | -1e+009 | 92.611      | 40m 7s       |</pre>"
      ],
      "text/plain": [
       "| 54706        | -1e+009 | 92.611      | 40m 7s       |"
      ]
     },
     "metadata": {},
     "output_type": "display_data"
    },
    {
     "data": {
      "text/html": [
       "<pre>| 54728        | -1e+009 | 92.6488     | 40m 8s       |</pre>"
      ],
      "text/plain": [
       "| 54728        | -1e+009 | 92.6488     | 40m 8s       |"
      ]
     },
     "metadata": {},
     "output_type": "display_data"
    },
    {
     "data": {
      "text/html": [
       "<pre>| 54748        | -1e+009 | 92.6829     | 40m 9s       |</pre>"
      ],
      "text/plain": [
       "| 54748        | -1e+009 | 92.6829     | 40m 9s       |"
      ]
     },
     "metadata": {},
     "output_type": "display_data"
    },
    {
     "data": {
      "text/html": [
       "<pre>| 54770        | -1e+009 | 92.7195     | 40m 10s      |</pre>"
      ],
      "text/plain": [
       "| 54770        | -1e+009 | 92.7195     | 40m 10s      |"
      ]
     },
     "metadata": {},
     "output_type": "display_data"
    },
    {
     "data": {
      "text/html": [
       "<pre>| 54791        | -1e+009 | 92.7559     | 40m 11s      |</pre>"
      ],
      "text/plain": [
       "| 54791        | -1e+009 | 92.7559     | 40m 11s      |"
      ]
     },
     "metadata": {},
     "output_type": "display_data"
    },
    {
     "data": {
      "text/html": [
       "<pre>| 54814        | -1e+009 | 92.7935     | 40m 12s      |</pre>"
      ],
      "text/plain": [
       "| 54814        | -1e+009 | 92.7935     | 40m 12s      |"
      ]
     },
     "metadata": {},
     "output_type": "display_data"
    },
    {
     "data": {
      "text/html": [
       "<pre>| 54835        | -1e+009 | 92.8305     | 40m 13s      |</pre>"
      ],
      "text/plain": [
       "| 54835        | -1e+009 | 92.8305     | 40m 13s      |"
      ]
     },
     "metadata": {},
     "output_type": "display_data"
    },
    {
     "data": {
      "text/html": [
       "<pre>| 54857        | -1e+009 | 92.8671     | 40m 14s      |</pre>"
      ],
      "text/plain": [
       "| 54857        | -1e+009 | 92.8671     | 40m 14s      |"
      ]
     },
     "metadata": {},
     "output_type": "display_data"
    },
    {
     "data": {
      "text/html": [
       "<pre>| 54878        | -1e+009 | 92.9031     | 40m 15s      |</pre>"
      ],
      "text/plain": [
       "| 54878        | -1e+009 | 92.9031     | 40m 15s      |"
      ]
     },
     "metadata": {},
     "output_type": "display_data"
    },
    {
     "data": {
      "text/html": [
       "<pre>| 54899        | -1e+009 | 92.9379     | 40m 16s      |</pre>"
      ],
      "text/plain": [
       "| 54899        | -1e+009 | 92.9379     | 40m 16s      |"
      ]
     },
     "metadata": {},
     "output_type": "display_data"
    },
    {
     "data": {
      "text/html": [
       "<pre>| 54919        | -1e+009 | 92.972      | 40m 17s      |</pre>"
      ],
      "text/plain": [
       "| 54919        | -1e+009 | 92.972      | 40m 17s      |"
      ]
     },
     "metadata": {},
     "output_type": "display_data"
    },
    {
     "data": {
      "text/html": [
       "<pre>| 54940        | -1e+009 | 93.0083     | 40m 18s      |</pre>"
      ],
      "text/plain": [
       "| 54940        | -1e+009 | 93.0083     | 40m 18s      |"
      ]
     },
     "metadata": {},
     "output_type": "display_data"
    },
    {
     "data": {
      "text/html": [
       "<pre>| 54962        | -1e+009 | 93.0443     | 40m 19s      |</pre>"
      ],
      "text/plain": [
       "| 54962        | -1e+009 | 93.0443     | 40m 19s      |"
      ]
     },
     "metadata": {},
     "output_type": "display_data"
    },
    {
     "data": {
      "text/html": [
       "<pre>| 54984        | -1e+009 | 93.0813     | 40m 20s      |</pre>"
      ],
      "text/plain": [
       "| 54984        | -1e+009 | 93.0813     | 40m 20s      |"
      ]
     },
     "metadata": {},
     "output_type": "display_data"
    },
    {
     "data": {
      "text/html": [
       "<pre>| 55005        | -1e+009 | 93.1184     | 40m 21s      |</pre>"
      ],
      "text/plain": [
       "| 55005        | -1e+009 | 93.1184     | 40m 21s      |"
      ]
     },
     "metadata": {},
     "output_type": "display_data"
    },
    {
     "data": {
      "text/html": [
       "<pre>| 55028        | -1e+009 | 93.1566     | 40m 22s      |</pre>"
      ],
      "text/plain": [
       "| 55028        | -1e+009 | 93.1566     | 40m 22s      |"
      ]
     },
     "metadata": {},
     "output_type": "display_data"
    },
    {
     "data": {
      "text/html": [
       "<pre>| 55050        | -1e+009 | 93.1941     | 40m 23s      |</pre>"
      ],
      "text/plain": [
       "| 55050        | -1e+009 | 93.1941     | 40m 23s      |"
      ]
     },
     "metadata": {},
     "output_type": "display_data"
    },
    {
     "data": {
      "text/html": [
       "<pre>| 55072        | -1e+009 | 93.2311     | 40m 24s      |</pre>"
      ],
      "text/plain": [
       "| 55072        | -1e+009 | 93.2311     | 40m 24s      |"
      ]
     },
     "metadata": {},
     "output_type": "display_data"
    },
    {
     "data": {
      "text/html": [
       "<pre>| 55094        | -1e+009 | 93.2682     | 40m 25s      |</pre>"
      ],
      "text/plain": [
       "| 55094        | -1e+009 | 93.2682     | 40m 25s      |"
      ]
     },
     "metadata": {},
     "output_type": "display_data"
    },
    {
     "data": {
      "text/html": [
       "<pre>| 55115        | -1e+009 | 93.3043     | 40m 26s      |</pre>"
      ],
      "text/plain": [
       "| 55115        | -1e+009 | 93.3043     | 40m 26s      |"
      ]
     },
     "metadata": {},
     "output_type": "display_data"
    },
    {
     "data": {
      "text/html": [
       "<pre>| 55135        | -1e+009 | 93.3381     | 40m 27s      |</pre>"
      ],
      "text/plain": [
       "| 55135        | -1e+009 | 93.3381     | 40m 27s      |"
      ]
     },
     "metadata": {},
     "output_type": "display_data"
    },
    {
     "data": {
      "text/html": [
       "<pre>| 55157        | -1e+009 | 93.375      | 40m 28s      |</pre>"
      ],
      "text/plain": [
       "| 55157        | -1e+009 | 93.375      | 40m 28s      |"
      ]
     },
     "metadata": {},
     "output_type": "display_data"
    },
    {
     "data": {
      "text/html": [
       "<pre>| 55179        | -1e+009 | 93.4118     | 40m 29s      |</pre>"
      ],
      "text/plain": [
       "| 55179        | -1e+009 | 93.4118     | 40m 29s      |"
      ]
     },
     "metadata": {},
     "output_type": "display_data"
    },
    {
     "data": {
      "text/html": [
       "<pre>| 55201        | -1e+009 | 93.4489     | 40m 30s      |</pre>"
      ],
      "text/plain": [
       "| 55201        | -1e+009 | 93.4489     | 40m 30s      |"
      ]
     },
     "metadata": {},
     "output_type": "display_data"
    },
    {
     "data": {
      "text/html": [
       "<pre>| 55222        | -1e+009 | 93.4854     | 40m 31s      |</pre>"
      ],
      "text/plain": [
       "| 55222        | -1e+009 | 93.4854     | 40m 31s      |"
      ]
     },
     "metadata": {},
     "output_type": "display_data"
    },
    {
     "data": {
      "text/html": [
       "<pre>| 55242        | -1e+009 | 93.519      | 40m 32s      |</pre>"
      ],
      "text/plain": [
       "| 55242        | -1e+009 | 93.519      | 40m 32s      |"
      ]
     },
     "metadata": {},
     "output_type": "display_data"
    },
    {
     "data": {
      "text/html": [
       "<pre>| 55263        | -1e+009 | 93.5539     | 40m 33s      |</pre>"
      ],
      "text/plain": [
       "| 55263        | -1e+009 | 93.5539     | 40m 33s      |"
      ]
     },
     "metadata": {},
     "output_type": "display_data"
    },
    {
     "data": {
      "text/html": [
       "<pre>| 55283        | -1e+009 | 93.5884     | 40m 34s      |</pre>"
      ],
      "text/plain": [
       "| 55283        | -1e+009 | 93.5884     | 40m 34s      |"
      ]
     },
     "metadata": {},
     "output_type": "display_data"
    },
    {
     "data": {
      "text/html": [
       "<pre>| 55304        | -1e+009 | 93.6241     | 40m 35s      |</pre>"
      ],
      "text/plain": [
       "| 55304        | -1e+009 | 93.6241     | 40m 35s      |"
      ]
     },
     "metadata": {},
     "output_type": "display_data"
    },
    {
     "data": {
      "text/html": [
       "<pre>| 55325        | -1e+009 | 93.6597     | 40m 36s      |</pre>"
      ],
      "text/plain": [
       "| 55325        | -1e+009 | 93.6597     | 40m 36s      |"
      ]
     },
     "metadata": {},
     "output_type": "display_data"
    },
    {
     "data": {
      "text/html": [
       "<pre>| 55343        | -1e+009 | 93.6896     | 40m 37s      |</pre>"
      ],
      "text/plain": [
       "| 55343        | -1e+009 | 93.6896     | 40m 37s      |"
      ]
     },
     "metadata": {},
     "output_type": "display_data"
    },
    {
     "data": {
      "text/html": [
       "<pre>| 55361        | -1e+009 | 93.7198     | 40m 38s      |</pre>"
      ],
      "text/plain": [
       "| 55361        | -1e+009 | 93.7198     | 40m 38s      |"
      ]
     },
     "metadata": {},
     "output_type": "display_data"
    },
    {
     "data": {
      "text/html": [
       "<pre>| 55378        | -1e+009 | 93.749      | 40m 39s      |</pre>"
      ],
      "text/plain": [
       "| 55378        | -1e+009 | 93.749      | 40m 39s      |"
      ]
     },
     "metadata": {},
     "output_type": "display_data"
    },
    {
     "data": {
      "text/html": [
       "<pre>| 55400        | -1e+009 | 93.787      | 40m 40s      |</pre>"
      ],
      "text/plain": [
       "| 55400        | -1e+009 | 93.787      | 40m 40s      |"
      ]
     },
     "metadata": {},
     "output_type": "display_data"
    },
    {
     "data": {
      "text/html": [
       "<pre>| 55423        | -1e+009 | 93.8249     | 40m 41s      |</pre>"
      ],
      "text/plain": [
       "| 55423        | -1e+009 | 93.8249     | 40m 41s      |"
      ]
     },
     "metadata": {},
     "output_type": "display_data"
    },
    {
     "data": {
      "text/html": [
       "<pre>| 55447        | -1e+009 | 93.8653     | 40m 42s      |</pre>"
      ],
      "text/plain": [
       "| 55447        | -1e+009 | 93.8653     | 40m 42s      |"
      ]
     },
     "metadata": {},
     "output_type": "display_data"
    },
    {
     "data": {
      "text/html": [
       "<pre>| 55470        | -1e+009 | 93.9051     | 40m 43s      |</pre>"
      ],
      "text/plain": [
       "| 55470        | -1e+009 | 93.9051     | 40m 43s      |"
      ]
     },
     "metadata": {},
     "output_type": "display_data"
    },
    {
     "data": {
      "text/html": [
       "<pre>| 55493        | -1e+009 | 93.9438     | 40m 44s      |</pre>"
      ],
      "text/plain": [
       "| 55493        | -1e+009 | 93.9438     | 40m 44s      |"
      ]
     },
     "metadata": {},
     "output_type": "display_data"
    },
    {
     "data": {
      "text/html": [
       "<pre>| 55516        | -1e+009 | 93.9831     | 40m 45s      |</pre>"
      ],
      "text/plain": [
       "| 55516        | -1e+009 | 93.9831     | 40m 45s      |"
      ]
     },
     "metadata": {},
     "output_type": "display_data"
    },
    {
     "data": {
      "text/html": [
       "<pre>| 55539        | -1e+009 | 94.0218     | 40m 46s      |</pre>"
      ],
      "text/plain": [
       "| 55539        | -1e+009 | 94.0218     | 40m 46s      |"
      ]
     },
     "metadata": {},
     "output_type": "display_data"
    },
    {
     "data": {
      "text/html": [
       "<pre>| 55562        | -1e+009 | 94.0602     | 40m 47s      |</pre>"
      ],
      "text/plain": [
       "| 55562        | -1e+009 | 94.0602     | 40m 47s      |"
      ]
     },
     "metadata": {},
     "output_type": "display_data"
    },
    {
     "data": {
      "text/html": [
       "<pre>| 55584        | -1e+009 | 94.0969     | 40m 48s      |</pre>"
      ],
      "text/plain": [
       "| 55584        | -1e+009 | 94.0969     | 40m 48s      |"
      ]
     },
     "metadata": {},
     "output_type": "display_data"
    },
    {
     "data": {
      "text/html": [
       "<pre>| 55605        | -1e+009 | 94.1341     | 40m 49s      |</pre>"
      ],
      "text/plain": [
       "| 55605        | -1e+009 | 94.1341     | 40m 49s      |"
      ]
     },
     "metadata": {},
     "output_type": "display_data"
    },
    {
     "data": {
      "text/html": [
       "<pre>| 55628        | -1e+009 | 94.1723     | 40m 50s      |</pre>"
      ],
      "text/plain": [
       "| 55628        | -1e+009 | 94.1723     | 40m 50s      |"
      ]
     },
     "metadata": {},
     "output_type": "display_data"
    },
    {
     "data": {
      "text/html": [
       "<pre>| 55650        | -1e+009 | 94.2096     | 40m 51s      |</pre>"
      ],
      "text/plain": [
       "| 55650        | -1e+009 | 94.2096     | 40m 51s      |"
      ]
     },
     "metadata": {},
     "output_type": "display_data"
    },
    {
     "data": {
      "text/html": [
       "<pre>| 55673        | -1e+009 | 94.2481     | 40m 52s      |</pre>"
      ],
      "text/plain": [
       "| 55673        | -1e+009 | 94.2481     | 40m 52s      |"
      ]
     },
     "metadata": {},
     "output_type": "display_data"
    },
    {
     "data": {
      "text/html": [
       "<pre>| 55695        | -1e+009 | 94.2855     | 40m 53s      |</pre>"
      ],
      "text/plain": [
       "| 55695        | -1e+009 | 94.2855     | 40m 53s      |"
      ]
     },
     "metadata": {},
     "output_type": "display_data"
    },
    {
     "data": {
      "text/html": [
       "<pre>| 55717        | -1e+009 | 94.3229     | 40m 54s      |</pre>"
      ],
      "text/plain": [
       "| 55717        | -1e+009 | 94.3229     | 40m 54s      |"
      ]
     },
     "metadata": {},
     "output_type": "display_data"
    },
    {
     "data": {
      "text/html": [
       "<pre>| 55740        | -1e+009 | 94.3615     | 40m 55s      |</pre>"
      ],
      "text/plain": [
       "| 55740        | -1e+009 | 94.3615     | 40m 55s      |"
      ]
     },
     "metadata": {},
     "output_type": "display_data"
    },
    {
     "data": {
      "text/html": [
       "<pre>| 55762        | -1e+009 | 94.3986     | 40m 56s      |</pre>"
      ],
      "text/plain": [
       "| 55762        | -1e+009 | 94.3986     | 40m 56s      |"
      ]
     },
     "metadata": {},
     "output_type": "display_data"
    },
    {
     "data": {
      "text/html": [
       "<pre>| 55783        | -1e+009 | 94.435      | 40m 57s      |</pre>"
      ],
      "text/plain": [
       "| 55783        | -1e+009 | 94.435      | 40m 57s      |"
      ]
     },
     "metadata": {},
     "output_type": "display_data"
    },
    {
     "data": {
      "text/html": [
       "<pre>| 55806        | -1e+009 | 94.4736     | 40m 58s      |</pre>"
      ],
      "text/plain": [
       "| 55806        | -1e+009 | 94.4736     | 40m 58s      |"
      ]
     },
     "metadata": {},
     "output_type": "display_data"
    },
    {
     "data": {
      "text/html": [
       "<pre>| 55829        | -1e+009 | 94.512      | 40m 59s      |</pre>"
      ],
      "text/plain": [
       "| 55829        | -1e+009 | 94.512      | 40m 59s      |"
      ]
     },
     "metadata": {},
     "output_type": "display_data"
    },
    {
     "data": {
      "text/html": [
       "<pre>| 55851        | -1e+009 | 94.5505     | 41m 0s       |</pre>"
      ],
      "text/plain": [
       "| 55851        | -1e+009 | 94.5505     | 41m 0s       |"
      ]
     },
     "metadata": {},
     "output_type": "display_data"
    },
    {
     "data": {
      "text/html": [
       "<pre>| 55874        | -1e+009 | 94.5885     | 41m 1s       |</pre>"
      ],
      "text/plain": [
       "| 55874        | -1e+009 | 94.5885     | 41m 1s       |"
      ]
     },
     "metadata": {},
     "output_type": "display_data"
    },
    {
     "data": {
      "text/html": [
       "<pre>| 55897        | -1e+009 | 94.6271     | 41m 2s       |</pre>"
      ],
      "text/plain": [
       "| 55897        | -1e+009 | 94.6271     | 41m 2s       |"
      ]
     },
     "metadata": {},
     "output_type": "display_data"
    },
    {
     "data": {
      "text/html": [
       "<pre>| 55919        | -1e+009 | 94.6644     | 41m 3s       |</pre>"
      ],
      "text/plain": [
       "| 55919        | -1e+009 | 94.6644     | 41m 3s       |"
      ]
     },
     "metadata": {},
     "output_type": "display_data"
    },
    {
     "data": {
      "text/html": [
       "<pre>| 55941        | -1e+009 | 94.7023     | 41m 4s       |</pre>"
      ],
      "text/plain": [
       "| 55941        | -1e+009 | 94.7023     | 41m 4s       |"
      ]
     },
     "metadata": {},
     "output_type": "display_data"
    },
    {
     "data": {
      "text/html": [
       "<pre>| 55964        | -1e+009 | 94.7404     | 41m 5s       |</pre>"
      ],
      "text/plain": [
       "| 55964        | -1e+009 | 94.7404     | 41m 5s       |"
      ]
     },
     "metadata": {},
     "output_type": "display_data"
    },
    {
     "data": {
      "text/html": [
       "<pre>| 55986        | -1e+009 | 94.7781     | 41m 6s       |</pre>"
      ],
      "text/plain": [
       "| 55986        | -1e+009 | 94.7781     | 41m 6s       |"
      ]
     },
     "metadata": {},
     "output_type": "display_data"
    },
    {
     "data": {
      "text/html": [
       "<pre>| 56008        | -1e+009 | 94.8147     | 41m 7s       |</pre>"
      ],
      "text/plain": [
       "| 56008        | -1e+009 | 94.8147     | 41m 7s       |"
      ]
     },
     "metadata": {},
     "output_type": "display_data"
    },
    {
     "data": {
      "text/html": [
       "<pre>| 56030        | -1e+009 | 94.8522     | 41m 8s       |</pre>"
      ],
      "text/plain": [
       "| 56030        | -1e+009 | 94.8522     | 41m 8s       |"
      ]
     },
     "metadata": {},
     "output_type": "display_data"
    },
    {
     "data": {
      "text/html": [
       "<pre>| 56052        | -1e+009 | 94.8897     | 41m 9s       |</pre>"
      ],
      "text/plain": [
       "| 56052        | -1e+009 | 94.8897     | 41m 9s       |"
      ]
     },
     "metadata": {},
     "output_type": "display_data"
    },
    {
     "data": {
      "text/html": [
       "<pre>| 56075        | -1e+009 | 94.9288     | 41m 10s      |</pre>"
      ],
      "text/plain": [
       "| 56075        | -1e+009 | 94.9288     | 41m 10s      |"
      ]
     },
     "metadata": {},
     "output_type": "display_data"
    },
    {
     "data": {
      "text/html": [
       "<pre>| 56097        | -1e+009 | 94.9667     | 41m 11s      |</pre>"
      ],
      "text/plain": [
       "| 56097        | -1e+009 | 94.9667     | 41m 11s      |"
      ]
     },
     "metadata": {},
     "output_type": "display_data"
    },
    {
     "data": {
      "text/html": [
       "<pre>| 56120        | -1e+009 | 95.0054     | 41m 12s      |</pre>"
      ],
      "text/plain": [
       "| 56120        | -1e+009 | 95.0054     | 41m 12s      |"
      ]
     },
     "metadata": {},
     "output_type": "display_data"
    },
    {
     "data": {
      "text/html": [
       "<pre>| 56142        | -1e+009 | 95.0431     | 41m 13s      |</pre>"
      ],
      "text/plain": [
       "| 56142        | -1e+009 | 95.0431     | 41m 13s      |"
      ]
     },
     "metadata": {},
     "output_type": "display_data"
    },
    {
     "data": {
      "text/html": [
       "<pre>| 56165        | -1e+009 | 95.0817     | 41m 14s      |</pre>"
      ],
      "text/plain": [
       "| 56165        | -1e+009 | 95.0817     | 41m 14s      |"
      ]
     },
     "metadata": {},
     "output_type": "display_data"
    },
    {
     "data": {
      "text/html": [
       "<pre>| 56188        | -1e+009 | 95.12       | 41m 15s      |</pre>"
      ],
      "text/plain": [
       "| 56188        | -1e+009 | 95.12       | 41m 15s      |"
      ]
     },
     "metadata": {},
     "output_type": "display_data"
    },
    {
     "data": {
      "text/html": [
       "<pre>| 56210        | -1e+009 | 95.1582     | 41m 16s      |</pre>"
      ],
      "text/plain": [
       "| 56210        | -1e+009 | 95.1582     | 41m 16s      |"
      ]
     },
     "metadata": {},
     "output_type": "display_data"
    },
    {
     "data": {
      "text/html": [
       "<pre>| 56233        | -1e+009 | 95.1964     | 41m 17s      |</pre>"
      ],
      "text/plain": [
       "| 56233        | -1e+009 | 95.1964     | 41m 17s      |"
      ]
     },
     "metadata": {},
     "output_type": "display_data"
    },
    {
     "data": {
      "text/html": [
       "<pre>| 56251        | -1e+009 | 95.2267     | 41m 18s      |</pre>"
      ],
      "text/plain": [
       "| 56251        | -1e+009 | 95.2267     | 41m 18s      |"
      ]
     },
     "metadata": {},
     "output_type": "display_data"
    },
    {
     "data": {
      "text/html": [
       "<pre>| 56269        | -1e+009 | 95.2569     | 41m 19s      |</pre>"
      ],
      "text/plain": [
       "| 56269        | -1e+009 | 95.2569     | 41m 19s      |"
      ]
     },
     "metadata": {},
     "output_type": "display_data"
    },
    {
     "data": {
      "text/html": [
       "<pre>| 56287        | -1e+009 | 95.2884     | 41m 20s      |</pre>"
      ],
      "text/plain": [
       "| 56287        | -1e+009 | 95.2884     | 41m 20s      |"
      ]
     },
     "metadata": {},
     "output_type": "display_data"
    },
    {
     "data": {
      "text/html": [
       "<pre>| 56309        | -1e+009 | 95.3258     | 41m 21s      |</pre>"
      ],
      "text/plain": [
       "| 56309        | -1e+009 | 95.3258     | 41m 21s      |"
      ]
     },
     "metadata": {},
     "output_type": "display_data"
    },
    {
     "data": {
      "text/html": [
       "<pre>| 56332        | -1e+009 | 95.3636     | 41m 22s      |</pre>"
      ],
      "text/plain": [
       "| 56332        | -1e+009 | 95.3636     | 41m 22s      |"
      ]
     },
     "metadata": {},
     "output_type": "display_data"
    },
    {
     "data": {
      "text/html": [
       "<pre>| 56354        | -1e+009 | 95.401      | 41m 23s      |</pre>"
      ],
      "text/plain": [
       "| 56354        | -1e+009 | 95.401      | 41m 23s      |"
      ]
     },
     "metadata": {},
     "output_type": "display_data"
    },
    {
     "data": {
      "text/html": [
       "<pre>| 56374        | -1e+009 | 95.4356     | 41m 24s      |</pre>"
      ],
      "text/plain": [
       "| 56374        | -1e+009 | 95.4356     | 41m 24s      |"
      ]
     },
     "metadata": {},
     "output_type": "display_data"
    },
    {
     "data": {
      "text/html": [
       "<pre>| 56391        | -1e+009 | 95.4645     | 41m 25s      |</pre>"
      ],
      "text/plain": [
       "| 56391        | -1e+009 | 95.4645     | 41m 25s      |"
      ]
     },
     "metadata": {},
     "output_type": "display_data"
    },
    {
     "data": {
      "text/html": [
       "<pre>| 56411        | -1e+009 | 95.4975     | 41m 26s      |</pre>"
      ],
      "text/plain": [
       "| 56411        | -1e+009 | 95.4975     | 41m 26s      |"
      ]
     },
     "metadata": {},
     "output_type": "display_data"
    },
    {
     "data": {
      "text/html": [
       "<pre>| 56430        | -1e+009 | 95.5307     | 41m 27s      |</pre>"
      ],
      "text/plain": [
       "| 56430        | -1e+009 | 95.5307     | 41m 27s      |"
      ]
     },
     "metadata": {},
     "output_type": "display_data"
    },
    {
     "data": {
      "text/html": [
       "<pre>| 56452        | -1e+009 | 95.568      | 41m 28s      |</pre>"
      ],
      "text/plain": [
       "| 56452        | -1e+009 | 95.568      | 41m 28s      |"
      ]
     },
     "metadata": {},
     "output_type": "display_data"
    },
    {
     "data": {
      "text/html": [
       "<pre>| 56473        | -1e+009 | 95.6023     | 41m 29s      |</pre>"
      ],
      "text/plain": [
       "| 56473        | -1e+009 | 95.6023     | 41m 29s      |"
      ]
     },
     "metadata": {},
     "output_type": "display_data"
    },
    {
     "data": {
      "text/html": [
       "<pre>| 56493        | -1e+009 | 95.6371     | 41m 30s      |</pre>"
      ],
      "text/plain": [
       "| 56493        | -1e+009 | 95.6371     | 41m 30s      |"
      ]
     },
     "metadata": {},
     "output_type": "display_data"
    },
    {
     "data": {
      "text/html": [
       "<pre>| 56516        | -1e+009 | 95.6747     | 41m 31s      |</pre>"
      ],
      "text/plain": [
       "| 56516        | -1e+009 | 95.6747     | 41m 31s      |"
      ]
     },
     "metadata": {},
     "output_type": "display_data"
    },
    {
     "data": {
      "text/html": [
       "<pre>| 56537        | -1e+009 | 95.7108     | 41m 32s      |</pre>"
      ],
      "text/plain": [
       "| 56537        | -1e+009 | 95.7108     | 41m 32s      |"
      ]
     },
     "metadata": {},
     "output_type": "display_data"
    },
    {
     "data": {
      "text/html": [
       "<pre>| 56557        | -1e+009 | 95.7454     | 41m 33s      |</pre>"
      ],
      "text/plain": [
       "| 56557        | -1e+009 | 95.7454     | 41m 33s      |"
      ]
     },
     "metadata": {},
     "output_type": "display_data"
    },
    {
     "data": {
      "text/html": [
       "<pre>| 56580        | -1e+009 | 95.7835     | 41m 34s      |</pre>"
      ],
      "text/plain": [
       "| 56580        | -1e+009 | 95.7835     | 41m 34s      |"
      ]
     },
     "metadata": {},
     "output_type": "display_data"
    },
    {
     "data": {
      "text/html": [
       "<pre>| 56602        | -1e+009 | 95.8204     | 41m 35s      |</pre>"
      ],
      "text/plain": [
       "| 56602        | -1e+009 | 95.8204     | 41m 35s      |"
      ]
     },
     "metadata": {},
     "output_type": "display_data"
    },
    {
     "data": {
      "text/html": [
       "<pre>| 56623        | -1e+009 | 95.8571     | 41m 36s      |</pre>"
      ],
      "text/plain": [
       "| 56623        | -1e+009 | 95.8571     | 41m 36s      |"
      ]
     },
     "metadata": {},
     "output_type": "display_data"
    },
    {
     "data": {
      "text/html": [
       "<pre>| 56645        | -9e+008 | 95.8935     | 41m 37s      |</pre>"
      ],
      "text/plain": [
       "| 56645        | -9e+008 | 95.8935     | 41m 37s      |"
      ]
     },
     "metadata": {},
     "output_type": "display_data"
    },
    {
     "data": {
      "text/html": [
       "<pre>| 56666        | -9e+008 | 95.9288     | 41m 38s      |</pre>"
      ],
      "text/plain": [
       "| 56666        | -9e+008 | 95.9288     | 41m 38s      |"
      ]
     },
     "metadata": {},
     "output_type": "display_data"
    },
    {
     "data": {
      "text/html": [
       "<pre>| 56682        | -9e+008 | 95.9566     | 41m 39s      |</pre>"
      ],
      "text/plain": [
       "| 56682        | -9e+008 | 95.9566     | 41m 39s      |"
      ]
     },
     "metadata": {},
     "output_type": "display_data"
    },
    {
     "data": {
      "text/html": [
       "<pre>| 56702        | -9e+008 | 95.9901     | 41m 40s      |</pre>"
      ],
      "text/plain": [
       "| 56702        | -9e+008 | 95.9901     | 41m 40s      |"
      ]
     },
     "metadata": {},
     "output_type": "display_data"
    },
    {
     "data": {
      "text/html": [
       "<pre>| 56718        | -9e+008 | 96.0182     | 41m 41s      |</pre>"
      ],
      "text/plain": [
       "| 56718        | -9e+008 | 96.0182     | 41m 41s      |"
      ]
     },
     "metadata": {},
     "output_type": "display_data"
    },
    {
     "data": {
      "text/html": [
       "<pre>| 56734        | -9e+008 | 96.0447     | 41m 42s      |</pre>"
      ],
      "text/plain": [
       "| 56734        | -9e+008 | 96.0447     | 41m 42s      |"
      ]
     },
     "metadata": {},
     "output_type": "display_data"
    },
    {
     "data": {
      "text/html": [
       "<pre>| 56748        | -9e+008 | 96.0682     | 41m 43s      |</pre>"
      ],
      "text/plain": [
       "| 56748        | -9e+008 | 96.0682     | 41m 43s      |"
      ]
     },
     "metadata": {},
     "output_type": "display_data"
    },
    {
     "data": {
      "text/html": [
       "<pre>| 56763        | -9e+008 | 96.0941     | 41m 44s      |</pre>"
      ],
      "text/plain": [
       "| 56763        | -9e+008 | 96.0941     | 41m 44s      |"
      ]
     },
     "metadata": {},
     "output_type": "display_data"
    },
    {
     "data": {
      "text/html": [
       "<pre>| 56779        | -9e+008 | 96.121      | 41m 45s      |</pre>"
      ],
      "text/plain": [
       "| 56779        | -9e+008 | 96.121      | 41m 45s      |"
      ]
     },
     "metadata": {},
     "output_type": "display_data"
    },
    {
     "data": {
      "text/html": [
       "<pre>| 56795        | -9e+008 | 96.1483     | 41m 46s      |</pre>"
      ],
      "text/plain": [
       "| 56795        | -9e+008 | 96.1483     | 41m 46s      |"
      ]
     },
     "metadata": {},
     "output_type": "display_data"
    },
    {
     "data": {
      "text/html": [
       "<pre>| 56812        | -9e+008 | 96.1761     | 41m 47s      |</pre>"
      ],
      "text/plain": [
       "| 56812        | -9e+008 | 96.1761     | 41m 47s      |"
      ]
     },
     "metadata": {},
     "output_type": "display_data"
    },
    {
     "data": {
      "text/html": [
       "<pre>| 56832        | -9e+008 | 96.2102     | 41m 48s      |</pre>"
      ],
      "text/plain": [
       "| 56832        | -9e+008 | 96.2102     | 41m 48s      |"
      ]
     },
     "metadata": {},
     "output_type": "display_data"
    },
    {
     "data": {
      "text/html": [
       "<pre>| 56851        | -9e+008 | 96.2432     | 41m 49s      |</pre>"
      ],
      "text/plain": [
       "| 56851        | -9e+008 | 96.2432     | 41m 49s      |"
      ]
     },
     "metadata": {},
     "output_type": "display_data"
    },
    {
     "data": {
      "text/html": [
       "<pre>| 56868        | -9e+008 | 96.2713     | 41m 50s      |</pre>"
      ],
      "text/plain": [
       "| 56868        | -9e+008 | 96.2713     | 41m 50s      |"
      ]
     },
     "metadata": {},
     "output_type": "display_data"
    },
    {
     "data": {
      "text/html": [
       "<pre>| 56884        | -9e+008 | 96.2992     | 41m 51s      |</pre>"
      ],
      "text/plain": [
       "| 56884        | -9e+008 | 96.2992     | 41m 51s      |"
      ]
     },
     "metadata": {},
     "output_type": "display_data"
    },
    {
     "data": {
      "text/html": [
       "<pre>| 56907        | -9e+008 | 96.3368     | 41m 52s      |</pre>"
      ],
      "text/plain": [
       "| 56907        | -9e+008 | 96.3368     | 41m 52s      |"
      ]
     },
     "metadata": {},
     "output_type": "display_data"
    },
    {
     "data": {
      "text/html": [
       "<pre>| 56928        | -9e+008 | 96.3738     | 41m 53s      |</pre>"
      ],
      "text/plain": [
       "| 56928        | -9e+008 | 96.3738     | 41m 53s      |"
      ]
     },
     "metadata": {},
     "output_type": "display_data"
    },
    {
     "data": {
      "text/html": [
       "<pre>| 56951        | -9e+008 | 96.4118     | 41m 54s      |</pre>"
      ],
      "text/plain": [
       "| 56951        | -9e+008 | 96.4118     | 41m 54s      |"
      ]
     },
     "metadata": {},
     "output_type": "display_data"
    },
    {
     "data": {
      "text/html": [
       "<pre>| 56973        | -9e+008 | 96.4488     | 41m 55s      |</pre>"
      ],
      "text/plain": [
       "| 56973        | -9e+008 | 96.4488     | 41m 55s      |"
      ]
     },
     "metadata": {},
     "output_type": "display_data"
    },
    {
     "data": {
      "text/html": [
       "<pre>| 56995        | -9e+008 | 96.4867     | 41m 56s      |</pre>"
      ],
      "text/plain": [
       "| 56995        | -9e+008 | 96.4867     | 41m 56s      |"
      ]
     },
     "metadata": {},
     "output_type": "display_data"
    },
    {
     "data": {
      "text/html": [
       "<pre>| 57018        | -9e+008 | 96.5258     | 41m 57s      |</pre>"
      ],
      "text/plain": [
       "| 57018        | -9e+008 | 96.5258     | 41m 57s      |"
      ]
     },
     "metadata": {},
     "output_type": "display_data"
    },
    {
     "data": {
      "text/html": [
       "<pre>| 57041        | -9e+008 | 96.5642     | 41m 58s      |</pre>"
      ],
      "text/plain": [
       "| 57041        | -9e+008 | 96.5642     | 41m 58s      |"
      ]
     },
     "metadata": {},
     "output_type": "display_data"
    },
    {
     "data": {
      "text/html": [
       "<pre>| 57063        | -9e+008 | 96.6011     | 41m 59s      |</pre>"
      ],
      "text/plain": [
       "| 57063        | -9e+008 | 96.6011     | 41m 59s      |"
      ]
     },
     "metadata": {},
     "output_type": "display_data"
    },
    {
     "data": {
      "text/html": [
       "<pre>| 57085        | -9e+008 | 96.6394     | 42m 0s       |</pre>"
      ],
      "text/plain": [
       "| 57085        | -9e+008 | 96.6394     | 42m 0s       |"
      ]
     },
     "metadata": {},
     "output_type": "display_data"
    },
    {
     "data": {
      "text/html": [
       "<pre>| 57107        | -9e+008 | 96.6762     | 42m 1s       |</pre>"
      ],
      "text/plain": [
       "| 57107        | -9e+008 | 96.6762     | 42m 1s       |"
      ]
     },
     "metadata": {},
     "output_type": "display_data"
    },
    {
     "data": {
      "text/html": [
       "<pre>| 57130        | -9e+008 | 96.7146     | 42m 2s       |</pre>"
      ],
      "text/plain": [
       "| 57130        | -9e+008 | 96.7146     | 42m 2s       |"
      ]
     },
     "metadata": {},
     "output_type": "display_data"
    },
    {
     "data": {
      "text/html": [
       "<pre>| 57151        | -9e+008 | 96.7503     | 42m 3s       |</pre>"
      ],
      "text/plain": [
       "| 57151        | -9e+008 | 96.7503     | 42m 3s       |"
      ]
     },
     "metadata": {},
     "output_type": "display_data"
    },
    {
     "data": {
      "text/html": [
       "<pre>| 57173        | -9e+008 | 96.7871     | 42m 4s       |</pre>"
      ],
      "text/plain": [
       "| 57173        | -9e+008 | 96.7871     | 42m 4s       |"
      ]
     },
     "metadata": {},
     "output_type": "display_data"
    },
    {
     "data": {
      "text/html": [
       "<pre>| 57194        | -9e+008 | 96.8225     | 42m 5s       |</pre>"
      ],
      "text/plain": [
       "| 57194        | -9e+008 | 96.8225     | 42m 5s       |"
      ]
     },
     "metadata": {},
     "output_type": "display_data"
    },
    {
     "data": {
      "text/html": [
       "<pre>| 57216        | -9e+008 | 96.861      | 42m 6s       |</pre>"
      ],
      "text/plain": [
       "| 57216        | -9e+008 | 96.861      | 42m 6s       |"
      ]
     },
     "metadata": {},
     "output_type": "display_data"
    },
    {
     "data": {
      "text/html": [
       "<pre>| 57239        | -9e+008 | 96.8994     | 42m 7s       |</pre>"
      ],
      "text/plain": [
       "| 57239        | -9e+008 | 96.8994     | 42m 7s       |"
      ]
     },
     "metadata": {},
     "output_type": "display_data"
    },
    {
     "data": {
      "text/html": [
       "<pre>| 57261        | -9e+008 | 96.9367     | 42m 8s       |</pre>"
      ],
      "text/plain": [
       "| 57261        | -9e+008 | 96.9367     | 42m 8s       |"
      ]
     },
     "metadata": {},
     "output_type": "display_data"
    },
    {
     "data": {
      "text/html": [
       "<pre>| 57284        | -9e+008 | 96.975      | 42m 9s       |</pre>"
      ],
      "text/plain": [
       "| 57284        | -9e+008 | 96.975      | 42m 9s       |"
      ]
     },
     "metadata": {},
     "output_type": "display_data"
    },
    {
     "data": {
      "text/html": [
       "<pre>| 57306        | -9e+008 | 97.0128     | 42m 10s      |</pre>"
      ],
      "text/plain": [
       "| 57306        | -9e+008 | 97.0128     | 42m 10s      |"
      ]
     },
     "metadata": {},
     "output_type": "display_data"
    },
    {
     "data": {
      "text/html": [
       "<pre>| 57328        | -9e+008 | 97.051      | 42m 11s      |</pre>"
      ],
      "text/plain": [
       "| 57328        | -9e+008 | 97.051      | 42m 11s      |"
      ]
     },
     "metadata": {},
     "output_type": "display_data"
    },
    {
     "data": {
      "text/html": [
       "<pre>| 57351        | -9e+008 | 97.0897     | 42m 12s      |</pre>"
      ],
      "text/plain": [
       "| 57351        | -9e+008 | 97.0897     | 42m 12s      |"
      ]
     },
     "metadata": {},
     "output_type": "display_data"
    },
    {
     "data": {
      "text/html": [
       "<pre>| 57372        | -9e+008 | 97.124      | 42m 13s      |</pre>"
      ],
      "text/plain": [
       "| 57372        | -9e+008 | 97.124      | 42m 13s      |"
      ]
     },
     "metadata": {},
     "output_type": "display_data"
    },
    {
     "data": {
      "text/html": [
       "<pre>| 57394        | -9e+008 | 97.1617     | 42m 14s      |</pre>"
      ],
      "text/plain": [
       "| 57394        | -9e+008 | 97.1617     | 42m 14s      |"
      ]
     },
     "metadata": {},
     "output_type": "display_data"
    },
    {
     "data": {
      "text/html": [
       "<pre>| 57417        | -9e+008 | 97.2006     | 42m 15s      |</pre>"
      ],
      "text/plain": [
       "| 57417        | -9e+008 | 97.2006     | 42m 15s      |"
      ]
     },
     "metadata": {},
     "output_type": "display_data"
    },
    {
     "data": {
      "text/html": [
       "<pre>| 57440        | -9e+008 | 97.2392     | 42m 16s      |</pre>"
      ],
      "text/plain": [
       "| 57440        | -9e+008 | 97.2392     | 42m 16s      |"
      ]
     },
     "metadata": {},
     "output_type": "display_data"
    },
    {
     "data": {
      "text/html": [
       "<pre>| 57463        | -9e+008 | 97.2782     | 42m 17s      |</pre>"
      ],
      "text/plain": [
       "| 57463        | -9e+008 | 97.2782     | 42m 17s      |"
      ]
     },
     "metadata": {},
     "output_type": "display_data"
    },
    {
     "data": {
      "text/html": [
       "<pre>| 57485        | -9e+008 | 97.3159     | 42m 18s      |</pre>"
      ],
      "text/plain": [
       "| 57485        | -9e+008 | 97.3159     | 42m 18s      |"
      ]
     },
     "metadata": {},
     "output_type": "display_data"
    },
    {
     "data": {
      "text/html": [
       "<pre>| 57508        | -9e+008 | 97.3548     | 42m 18s      |</pre>"
      ],
      "text/plain": [
       "| 57508        | -9e+008 | 97.3548     | 42m 18s      |"
      ]
     },
     "metadata": {},
     "output_type": "display_data"
    },
    {
     "data": {
      "text/html": [
       "<pre>| 57530        | -9e+008 | 97.3921     | 42m 19s      |</pre>"
      ],
      "text/plain": [
       "| 57530        | -9e+008 | 97.3921     | 42m 19s      |"
      ]
     },
     "metadata": {},
     "output_type": "display_data"
    },
    {
     "data": {
      "text/html": [
       "<pre>| 57553        | -9e+008 | 97.4305     | 42m 21s      |</pre>"
      ],
      "text/plain": [
       "| 57553        | -9e+008 | 97.4305     | 42m 21s      |"
      ]
     },
     "metadata": {},
     "output_type": "display_data"
    },
    {
     "data": {
      "text/html": [
       "<pre>| 57575        | -9e+008 | 97.4687     | 42m 21s      |</pre>"
      ],
      "text/plain": [
       "| 57575        | -9e+008 | 97.4687     | 42m 21s      |"
      ]
     },
     "metadata": {},
     "output_type": "display_data"
    },
    {
     "data": {
      "text/html": [
       "<pre>| 57598        | -9e+008 | 97.5068     | 42m 23s      |</pre>"
      ],
      "text/plain": [
       "| 57598        | -9e+008 | 97.5068     | 42m 23s      |"
      ]
     },
     "metadata": {},
     "output_type": "display_data"
    },
    {
     "data": {
      "text/html": [
       "<pre>| 57620        | -9e+008 | 97.5453     | 42m 23s      |</pre>"
      ],
      "text/plain": [
       "| 57620        | -9e+008 | 97.5453     | 42m 23s      |"
      ]
     },
     "metadata": {},
     "output_type": "display_data"
    },
    {
     "data": {
      "text/html": [
       "<pre>| 57641        | -9e+008 | 97.5801     | 42m 24s      |</pre>"
      ],
      "text/plain": [
       "| 57641        | -9e+008 | 97.5801     | 42m 24s      |"
      ]
     },
     "metadata": {},
     "output_type": "display_data"
    },
    {
     "data": {
      "text/html": [
       "<pre>| 57664        | -9e+008 | 97.619      | 42m 25s      |</pre>"
      ],
      "text/plain": [
       "| 57664        | -9e+008 | 97.619      | 42m 25s      |"
      ]
     },
     "metadata": {},
     "output_type": "display_data"
    },
    {
     "data": {
      "text/html": [
       "<pre>| 57687        | -9e+008 | 97.6577     | 42m 26s      |</pre>"
      ],
      "text/plain": [
       "| 57687        | -9e+008 | 97.6577     | 42m 26s      |"
      ]
     },
     "metadata": {},
     "output_type": "display_data"
    },
    {
     "data": {
      "text/html": [
       "<pre>| 57709        | -9e+008 | 97.6946     | 42m 27s      |</pre>"
      ],
      "text/plain": [
       "| 57709        | -9e+008 | 97.6946     | 42m 27s      |"
      ]
     },
     "metadata": {},
     "output_type": "display_data"
    },
    {
     "data": {
      "text/html": [
       "<pre>| 57732        | -9e+008 | 97.7335     | 42m 28s      |</pre>"
      ],
      "text/plain": [
       "| 57732        | -9e+008 | 97.7335     | 42m 28s      |"
      ]
     },
     "metadata": {},
     "output_type": "display_data"
    },
    {
     "data": {
      "text/html": [
       "<pre>| 57754        | -9e+008 | 97.7713     | 42m 29s      |</pre>"
      ],
      "text/plain": [
       "| 57754        | -9e+008 | 97.7713     | 42m 29s      |"
      ]
     },
     "metadata": {},
     "output_type": "display_data"
    },
    {
     "data": {
      "text/html": [
       "<pre>| 57777        | -9e+008 | 97.81       | 42m 30s      |</pre>"
      ],
      "text/plain": [
       "| 57777        | -9e+008 | 97.81       | 42m 30s      |"
      ]
     },
     "metadata": {},
     "output_type": "display_data"
    },
    {
     "data": {
      "text/html": [
       "<pre>| 57799        | -9e+008 | 97.8483     | 42m 31s      |</pre>"
      ],
      "text/plain": [
       "| 57799        | -9e+008 | 97.8483     | 42m 31s      |"
      ]
     },
     "metadata": {},
     "output_type": "display_data"
    },
    {
     "data": {
      "text/html": [
       "<pre>| 57821        | -9e+008 | 97.8852     | 42m 32s      |</pre>"
      ],
      "text/plain": [
       "| 57821        | -9e+008 | 97.8852     | 42m 32s      |"
      ]
     },
     "metadata": {},
     "output_type": "display_data"
    },
    {
     "data": {
      "text/html": [
       "<pre>| 57844        | -9e+008 | 97.9236     | 42m 33s      |</pre>"
      ],
      "text/plain": [
       "| 57844        | -9e+008 | 97.9236     | 42m 33s      |"
      ]
     },
     "metadata": {},
     "output_type": "display_data"
    },
    {
     "data": {
      "text/html": [
       "<pre>| 57867        | -9e+008 | 97.9618     | 42m 34s      |</pre>"
      ],
      "text/plain": [
       "| 57867        | -9e+008 | 97.9618     | 42m 34s      |"
      ]
     },
     "metadata": {},
     "output_type": "display_data"
    },
    {
     "data": {
      "text/html": [
       "<pre>| 57889        | -9e+008 | 98.0004     | 42m 35s      |</pre>"
      ],
      "text/plain": [
       "| 57889        | -9e+008 | 98.0004     | 42m 35s      |"
      ]
     },
     "metadata": {},
     "output_type": "display_data"
    },
    {
     "data": {
      "text/html": [
       "<pre>| 57911        | -9e+008 | 98.0377     | 42m 36s      |</pre>"
      ],
      "text/plain": [
       "| 57911        | -9e+008 | 98.0377     | 42m 36s      |"
      ]
     },
     "metadata": {},
     "output_type": "display_data"
    },
    {
     "data": {
      "text/html": [
       "<pre>| 57932        | -9e+008 | 98.0735     | 42m 37s      |</pre>"
      ],
      "text/plain": [
       "| 57932        | -9e+008 | 98.0735     | 42m 37s      |"
      ]
     },
     "metadata": {},
     "output_type": "display_data"
    },
    {
     "data": {
      "text/html": [
       "<pre>| 57955        | -9e+008 | 98.1124     | 42m 38s      |</pre>"
      ],
      "text/plain": [
       "| 57955        | -9e+008 | 98.1124     | 42m 38s      |"
      ]
     },
     "metadata": {},
     "output_type": "display_data"
    },
    {
     "data": {
      "text/html": [
       "<pre>| 57978        | -9e+008 | 98.1505     | 42m 39s      |</pre>"
      ],
      "text/plain": [
       "| 57978        | -9e+008 | 98.1505     | 42m 39s      |"
      ]
     },
     "metadata": {},
     "output_type": "display_data"
    },
    {
     "data": {
      "text/html": [
       "<pre>| 58001        | -9e+008 | 98.1893     | 42m 40s      |</pre>"
      ],
      "text/plain": [
       "| 58001        | -9e+008 | 98.1893     | 42m 40s      |"
      ]
     },
     "metadata": {},
     "output_type": "display_data"
    },
    {
     "data": {
      "text/html": [
       "<pre>| 58024        | -9e+008 | 98.2282     | 42m 41s      |</pre>"
      ],
      "text/plain": [
       "| 58024        | -9e+008 | 98.2282     | 42m 41s      |"
      ]
     },
     "metadata": {},
     "output_type": "display_data"
    },
    {
     "data": {
      "text/html": [
       "<pre>| 58046        | -9e+008 | 98.2661     | 42m 42s      |</pre>"
      ],
      "text/plain": [
       "| 58046        | -9e+008 | 98.2661     | 42m 42s      |"
      ]
     },
     "metadata": {},
     "output_type": "display_data"
    },
    {
     "data": {
      "text/html": [
       "<pre>| 58069        | -9e+008 | 98.3039     | 42m 43s      |</pre>"
      ],
      "text/plain": [
       "| 58069        | -9e+008 | 98.3039     | 42m 43s      |"
      ]
     },
     "metadata": {},
     "output_type": "display_data"
    },
    {
     "data": {
      "text/html": [
       "<pre>| 58091        | -9e+008 | 98.3422     | 42m 44s      |</pre>"
      ],
      "text/plain": [
       "| 58091        | -9e+008 | 98.3422     | 42m 44s      |"
      ]
     },
     "metadata": {},
     "output_type": "display_data"
    },
    {
     "data": {
      "text/html": [
       "<pre>| 58114        | -9e+008 | 98.3812     | 42m 45s      |</pre>"
      ],
      "text/plain": [
       "| 58114        | -9e+008 | 98.3812     | 42m 45s      |"
      ]
     },
     "metadata": {},
     "output_type": "display_data"
    },
    {
     "data": {
      "text/html": [
       "<pre>| 58137        | -9e+008 | 98.42       | 42m 46s      |</pre>"
      ],
      "text/plain": [
       "| 58137        | -9e+008 | 98.42       | 42m 46s      |"
      ]
     },
     "metadata": {},
     "output_type": "display_data"
    },
    {
     "data": {
      "text/html": [
       "<pre>| 58159        | -9e+008 | 98.4568     | 42m 47s      |</pre>"
      ],
      "text/plain": [
       "| 58159        | -9e+008 | 98.4568     | 42m 47s      |"
      ]
     },
     "metadata": {},
     "output_type": "display_data"
    },
    {
     "data": {
      "text/html": [
       "<pre>| 58180        | -9e+008 | 98.4933     | 42m 48s      |</pre>"
      ],
      "text/plain": [
       "| 58180        | -9e+008 | 98.4933     | 42m 48s      |"
      ]
     },
     "metadata": {},
     "output_type": "display_data"
    },
    {
     "data": {
      "text/html": [
       "<pre>| 58203        | -9e+008 | 98.5319     | 42m 49s      |</pre>"
      ],
      "text/plain": [
       "| 58203        | -9e+008 | 98.5319     | 42m 49s      |"
      ]
     },
     "metadata": {},
     "output_type": "display_data"
    },
    {
     "data": {
      "text/html": [
       "<pre>| 58226        | -9e+008 | 98.5702     | 42m 50s      |</pre>"
      ],
      "text/plain": [
       "| 58226        | -9e+008 | 98.5702     | 42m 50s      |"
      ]
     },
     "metadata": {},
     "output_type": "display_data"
    },
    {
     "data": {
      "text/html": [
       "<pre>| 58248        | -9e+008 | 98.6079     | 42m 51s      |</pre>"
      ],
      "text/plain": [
       "| 58248        | -9e+008 | 98.6079     | 42m 51s      |"
      ]
     },
     "metadata": {},
     "output_type": "display_data"
    },
    {
     "data": {
      "text/html": [
       "<pre>| 58271        | -9e+008 | 98.6458     | 42m 52s      |</pre>"
      ],
      "text/plain": [
       "| 58271        | -9e+008 | 98.6458     | 42m 52s      |"
      ]
     },
     "metadata": {},
     "output_type": "display_data"
    },
    {
     "data": {
      "text/html": [
       "<pre>| 58293        | -9e+008 | 98.6834     | 42m 53s      |</pre>"
      ],
      "text/plain": [
       "| 58293        | -9e+008 | 98.6834     | 42m 53s      |"
      ]
     },
     "metadata": {},
     "output_type": "display_data"
    },
    {
     "data": {
      "text/html": [
       "<pre>| 58314        | -9e+008 | 98.719      | 42m 54s      |</pre>"
      ],
      "text/plain": [
       "| 58314        | -9e+008 | 98.719      | 42m 54s      |"
      ]
     },
     "metadata": {},
     "output_type": "display_data"
    },
    {
     "data": {
      "text/html": [
       "<pre>| 58331        | -8e+008 | 98.7485     | 42m 55s      |</pre>"
      ],
      "text/plain": [
       "| 58331        | -8e+008 | 98.7485     | 42m 55s      |"
      ]
     },
     "metadata": {},
     "output_type": "display_data"
    },
    {
     "data": {
      "text/html": [
       "<pre>| 58351        | -8e+008 | 98.7823     | 42m 56s      |</pre>"
      ],
      "text/plain": [
       "| 58351        | -8e+008 | 98.7823     | 42m 56s      |"
      ]
     },
     "metadata": {},
     "output_type": "display_data"
    },
    {
     "data": {
      "text/html": [
       "<pre>| 58366        | -8e+008 | 98.808      | 42m 57s      |</pre>"
      ],
      "text/plain": [
       "| 58366        | -8e+008 | 98.808      | 42m 57s      |"
      ]
     },
     "metadata": {},
     "output_type": "display_data"
    },
    {
     "data": {
      "text/html": [
       "<pre>| 58388        | -8e+008 | 98.8444     | 42m 58s      |</pre>"
      ],
      "text/plain": [
       "| 58388        | -8e+008 | 98.8444     | 42m 58s      |"
      ]
     },
     "metadata": {},
     "output_type": "display_data"
    },
    {
     "data": {
      "text/html": [
       "<pre>| 58405        | -8e+008 | 98.8736     | 42m 59s      |</pre>"
      ],
      "text/plain": [
       "| 58405        | -8e+008 | 98.8736     | 42m 59s      |"
      ]
     },
     "metadata": {},
     "output_type": "display_data"
    },
    {
     "data": {
      "text/html": [
       "<pre>| 58425        | -8e+008 | 98.9075     | 43m 0s       |</pre>"
      ],
      "text/plain": [
       "| 58425        | -8e+008 | 98.9075     | 43m 0s       |"
      ]
     },
     "metadata": {},
     "output_type": "display_data"
    },
    {
     "data": {
      "text/html": [
       "<pre>| 58445        | -8e+008 | 98.9415     | 43m 1s       |</pre>"
      ],
      "text/plain": [
       "| 58445        | -8e+008 | 98.9415     | 43m 1s       |"
      ]
     },
     "metadata": {},
     "output_type": "display_data"
    },
    {
     "data": {
      "text/html": [
       "<pre>| 58469        | -8e+008 | 98.9819     | 43m 2s       |</pre>"
      ],
      "text/plain": [
       "| 58469        | -8e+008 | 98.9819     | 43m 2s       |"
      ]
     },
     "metadata": {},
     "output_type": "display_data"
    },
    {
     "data": {
      "text/html": [
       "<pre>| 58493        | -8e+008 | 99.0227     | 43m 3s       |</pre>"
      ],
      "text/plain": [
       "| 58493        | -8e+008 | 99.0227     | 43m 3s       |"
      ]
     },
     "metadata": {},
     "output_type": "display_data"
    },
    {
     "data": {
      "text/html": [
       "<pre>| 58516        | -8e+008 | 99.0608     | 43m 4s       |</pre>"
      ],
      "text/plain": [
       "| 58516        | -8e+008 | 99.0608     | 43m 4s       |"
      ]
     },
     "metadata": {},
     "output_type": "display_data"
    },
    {
     "data": {
      "text/html": [
       "<pre>| 58539        | -8e+008 | 99.0996     | 43m 5s       |</pre>"
      ],
      "text/plain": [
       "| 58539        | -8e+008 | 99.0996     | 43m 5s       |"
      ]
     },
     "metadata": {},
     "output_type": "display_data"
    },
    {
     "data": {
      "text/html": [
       "<pre>| 58560        | -8e+008 | 99.1363     | 43m 6s       |</pre>"
      ],
      "text/plain": [
       "| 58560        | -8e+008 | 99.1363     | 43m 6s       |"
      ]
     },
     "metadata": {},
     "output_type": "display_data"
    },
    {
     "data": {
      "text/html": [
       "<pre>| 58580        | -8e+008 | 99.1691     | 43m 7s       |</pre>"
      ],
      "text/plain": [
       "| 58580        | -8e+008 | 99.1691     | 43m 7s       |"
      ]
     },
     "metadata": {},
     "output_type": "display_data"
    },
    {
     "data": {
      "text/html": [
       "<pre>| 58600        | -8e+008 | 99.204      | 43m 8s       |</pre>"
      ],
      "text/plain": [
       "| 58600        | -8e+008 | 99.204      | 43m 8s       |"
      ]
     },
     "metadata": {},
     "output_type": "display_data"
    },
    {
     "data": {
      "text/html": [
       "<pre>| 58623        | -8e+008 | 99.2417     | 43m 9s       |</pre>"
      ],
      "text/plain": [
       "| 58623        | -8e+008 | 99.2417     | 43m 9s       |"
      ]
     },
     "metadata": {},
     "output_type": "display_data"
    },
    {
     "data": {
      "text/html": [
       "<pre>| 58646        | -8e+008 | 99.2808     | 43m 10s      |</pre>"
      ],
      "text/plain": [
       "| 58646        | -8e+008 | 99.2808     | 43m 10s      |"
      ]
     },
     "metadata": {},
     "output_type": "display_data"
    },
    {
     "data": {
      "text/html": [
       "<pre>| 58666        | -8e+008 | 99.3157     | 43m 11s      |</pre>"
      ],
      "text/plain": [
       "| 58666        | -8e+008 | 99.3157     | 43m 11s      |"
      ]
     },
     "metadata": {},
     "output_type": "display_data"
    },
    {
     "data": {
      "text/html": [
       "<pre>| 58681        | -8e+008 | 99.3405     | 43m 12s      |</pre>"
      ],
      "text/plain": [
       "| 58681        | -8e+008 | 99.3405     | 43m 12s      |"
      ]
     },
     "metadata": {},
     "output_type": "display_data"
    },
    {
     "data": {
      "text/html": [
       "<pre>| 58696        | -8e+008 | 99.3664     | 43m 13s      |</pre>"
      ],
      "text/plain": [
       "| 58696        | -8e+008 | 99.3664     | 43m 13s      |"
      ]
     },
     "metadata": {},
     "output_type": "display_data"
    },
    {
     "data": {
      "text/html": [
       "<pre>| 58711        | -8e+008 | 99.3918     | 43m 14s      |</pre>"
      ],
      "text/plain": [
       "| 58711        | -8e+008 | 99.3918     | 43m 14s      |"
      ]
     },
     "metadata": {},
     "output_type": "display_data"
    },
    {
     "data": {
      "text/html": [
       "<pre>| 58727        | -8e+008 | 99.4184     | 43m 15s      |</pre>"
      ],
      "text/plain": [
       "| 58727        | -8e+008 | 99.4184     | 43m 15s      |"
      ]
     },
     "metadata": {},
     "output_type": "display_data"
    },
    {
     "data": {
      "text/html": [
       "<pre>| 58741        | -8e+008 | 99.442      | 43m 16s      |</pre>"
      ],
      "text/plain": [
       "| 58741        | -8e+008 | 99.442      | 43m 16s      |"
      ]
     },
     "metadata": {},
     "output_type": "display_data"
    },
    {
     "data": {
      "text/html": [
       "<pre>| 58759        | -8e+008 | 99.4719     | 43m 17s      |</pre>"
      ],
      "text/plain": [
       "| 58759        | -8e+008 | 99.4719     | 43m 17s      |"
      ]
     },
     "metadata": {},
     "output_type": "display_data"
    },
    {
     "data": {
      "text/html": [
       "<pre>| 58776        | -8e+008 | 99.5012     | 43m 18s      |</pre>"
      ],
      "text/plain": [
       "| 58776        | -8e+008 | 99.5012     | 43m 18s      |"
      ]
     },
     "metadata": {},
     "output_type": "display_data"
    },
    {
     "data": {
      "text/html": [
       "<pre>| 58794        | -8e+008 | 99.5313     | 43m 19s      |</pre>"
      ],
      "text/plain": [
       "| 58794        | -8e+008 | 99.5313     | 43m 19s      |"
      ]
     },
     "metadata": {},
     "output_type": "display_data"
    },
    {
     "data": {
      "text/html": [
       "<pre>| 58809        | -8e+008 | 99.5578     | 43m 20s      |</pre>"
      ],
      "text/plain": [
       "| 58809        | -8e+008 | 99.5578     | 43m 20s      |"
      ]
     },
     "metadata": {},
     "output_type": "display_data"
    },
    {
     "data": {
      "text/html": [
       "<pre>| 58827        | -8e+008 | 99.587      | 43m 21s      |</pre>"
      ],
      "text/plain": [
       "| 58827        | -8e+008 | 99.587      | 43m 21s      |"
      ]
     },
     "metadata": {},
     "output_type": "display_data"
    },
    {
     "data": {
      "text/html": [
       "<pre>| 58848        | -8e+008 | 99.6241     | 43m 22s      |</pre>"
      ],
      "text/plain": [
       "| 58848        | -8e+008 | 99.6241     | 43m 22s      |"
      ]
     },
     "metadata": {},
     "output_type": "display_data"
    },
    {
     "data": {
      "text/html": [
       "<pre>| 58871        | -8e+008 | 99.6627     | 43m 23s      |</pre>"
      ],
      "text/plain": [
       "| 58871        | -8e+008 | 99.6627     | 43m 23s      |"
      ]
     },
     "metadata": {},
     "output_type": "display_data"
    },
    {
     "data": {
      "text/html": [
       "<pre>| 58893        | -8e+008 | 99.7004     | 43m 24s      |</pre>"
      ],
      "text/plain": [
       "| 58893        | -8e+008 | 99.7004     | 43m 24s      |"
      ]
     },
     "metadata": {},
     "output_type": "display_data"
    },
    {
     "data": {
      "text/html": [
       "<pre>| 58916        | -8e+008 | 99.7384     | 43m 25s      |</pre>"
      ],
      "text/plain": [
       "| 58916        | -8e+008 | 99.7384     | 43m 25s      |"
      ]
     },
     "metadata": {},
     "output_type": "display_data"
    },
    {
     "data": {
      "text/html": [
       "<pre>| 58939        | -8e+008 | 99.7775     | 43m 26s      |</pre>"
      ],
      "text/plain": [
       "| 58939        | -8e+008 | 99.7775     | 43m 26s      |"
      ]
     },
     "metadata": {},
     "output_type": "display_data"
    },
    {
     "data": {
      "text/html": [
       "<pre>| 58962        | -8e+008 | 99.8158     | 43m 27s      |</pre>"
      ],
      "text/plain": [
       "| 58962        | -8e+008 | 99.8158     | 43m 27s      |"
      ]
     },
     "metadata": {},
     "output_type": "display_data"
    },
    {
     "data": {
      "text/html": [
       "<pre>| 58984        | -8e+008 | 99.8534     | 43m 28s      |</pre>"
      ],
      "text/plain": [
       "| 58984        | -8e+008 | 99.8534     | 43m 28s      |"
      ]
     },
     "metadata": {},
     "output_type": "display_data"
    },
    {
     "data": {
      "text/html": [
       "<pre>| 59006        | -8e+008 | 99.8909     | 43m 29s      |</pre>"
      ],
      "text/plain": [
       "| 59006        | -8e+008 | 99.8909     | 43m 29s      |"
      ]
     },
     "metadata": {},
     "output_type": "display_data"
    },
    {
     "data": {
      "text/html": [
       "<pre>| 59025        | -8e+008 | 99.9233     | 43m 30s      |</pre>"
      ],
      "text/plain": [
       "| 59025        | -8e+008 | 99.9233     | 43m 30s      |"
      ]
     },
     "metadata": {},
     "output_type": "display_data"
    },
    {
     "data": {
      "text/html": [
       "<pre>| 59043        | -8e+008 | 99.9541     | 43m 31s      |</pre>"
      ],
      "text/plain": [
       "| 59043        | -8e+008 | 99.9541     | 43m 31s      |"
      ]
     },
     "metadata": {},
     "output_type": "display_data"
    },
    {
     "data": {
      "text/html": [
       "<pre>| 59059        | -8e+008 | 99.9811     | 43m 32s      |</pre>"
      ],
      "text/plain": [
       "| 59059        | -8e+008 | 99.9811     | 43m 32s      |"
      ]
     },
     "metadata": {},
     "output_type": "display_data"
    },
    {
     "data": {
      "text/html": [
       "<pre>| Done         |         | 100         | 43m 33s      |</pre>"
      ],
      "text/plain": [
       "| Done         |         | 100         | 43m 33s      |"
      ]
     },
     "metadata": {},
     "output_type": "display_data"
    },
    {
     "data": {
      "text/html": [
       "<pre>+--------------+---------+-------------+--------------+</pre>"
      ],
      "text/plain": [
       "+--------------+---------+-------------+--------------+"
      ]
     },
     "metadata": {},
     "output_type": "display_data"
    }
   ],
   "source": [
    "sim_graph = knn_model.similarity_graph(k=3)"
   ]
  },
  {
   "cell_type": "code",
   "execution_count": 92,
   "metadata": {
    "collapsed": false
   },
   "outputs": [],
   "source": [
    "graphlab.canvas.set_target('ipynb')\n",
    "## Visualization unsuccessful due to dataset being too large"
   ]
  },
  {
   "cell_type": "markdown",
   "metadata": {},
   "source": [
    "# 1. Compare top words according to word counts to TF-IDF"
   ]
  },
  {
   "cell_type": "code",
   "execution_count": 81,
   "metadata": {
    "collapsed": false
   },
   "outputs": [],
   "source": [
    "elton = people[people['name']=='Elton John']"
   ]
  },
  {
   "cell_type": "code",
   "execution_count": 85,
   "metadata": {
    "collapsed": false
   },
   "outputs": [
    {
     "data": {
      "text/html": [
       "<div style=\"max-height:1000px;max-width:1500px;overflow:auto;\"><table frame=\"box\" rules=\"cols\">\n",
       "    <tr>\n",
       "        <th style=\"padding-left: 1em; padding-right: 1em; text-align: center\">word</th>\n",
       "        <th style=\"padding-left: 1em; padding-right: 1em; text-align: center\">tfidf</th>\n",
       "    </tr>\n",
       "    <tr>\n",
       "        <td style=\"padding-left: 1em; padding-right: 1em; text-align: center; vertical-align: top\">furnish</td>\n",
       "        <td style=\"padding-left: 1em; padding-right: 1em; text-align: center; vertical-align: top\">18.38947184</td>\n",
       "    </tr>\n",
       "    <tr>\n",
       "        <td style=\"padding-left: 1em; padding-right: 1em; text-align: center; vertical-align: top\">elton</td>\n",
       "        <td style=\"padding-left: 1em; padding-right: 1em; text-align: center; vertical-align: top\">17.48232027</td>\n",
       "    </tr>\n",
       "    <tr>\n",
       "        <td style=\"padding-left: 1em; padding-right: 1em; text-align: center; vertical-align: top\">billboard</td>\n",
       "        <td style=\"padding-left: 1em; padding-right: 1em; text-align: center; vertical-align: top\">17.3036809575</td>\n",
       "    </tr>\n",
       "    <tr>\n",
       "        <td style=\"padding-left: 1em; padding-right: 1em; text-align: center; vertical-align: top\">john</td>\n",
       "        <td style=\"padding-left: 1em; padding-right: 1em; text-align: center; vertical-align: top\">13.9393127924</td>\n",
       "    </tr>\n",
       "    <tr>\n",
       "        <td style=\"padding-left: 1em; padding-right: 1em; text-align: center; vertical-align: top\">songwriters</td>\n",
       "        <td style=\"padding-left: 1em; padding-right: 1em; text-align: center; vertical-align: top\">11.250406447</td>\n",
       "    </tr>\n",
       "    <tr>\n",
       "        <td style=\"padding-left: 1em; padding-right: 1em; text-align: center; vertical-align: top\">overallelton</td>\n",
       "        <td style=\"padding-left: 1em; padding-right: 1em; text-align: center; vertical-align: top\">10.9864953892</td>\n",
       "    </tr>\n",
       "    <tr>\n",
       "        <td style=\"padding-left: 1em; padding-right: 1em; text-align: center; vertical-align: top\">tonightcandle</td>\n",
       "        <td style=\"padding-left: 1em; padding-right: 1em; text-align: center; vertical-align: top\">10.9864953892</td>\n",
       "    </tr>\n",
       "    <tr>\n",
       "        <td style=\"padding-left: 1em; padding-right: 1em; text-align: center; vertical-align: top\">19702000</td>\n",
       "        <td style=\"padding-left: 1em; padding-right: 1em; text-align: center; vertical-align: top\">10.2933482087</td>\n",
       "    </tr>\n",
       "    <tr>\n",
       "        <td style=\"padding-left: 1em; padding-right: 1em; text-align: center; vertical-align: top\">fivedecade</td>\n",
       "        <td style=\"padding-left: 1em; padding-right: 1em; text-align: center; vertical-align: top\">10.2933482087</td>\n",
       "    </tr>\n",
       "    <tr>\n",
       "        <td style=\"padding-left: 1em; padding-right: 1em; text-align: center; vertical-align: top\">aids</td>\n",
       "        <td style=\"padding-left: 1em; padding-right: 1em; text-align: center; vertical-align: top\">10.262846934</td>\n",
       "    </tr>\n",
       "</table>\n",
       "[255 rows x 2 columns]<br/>Note: Only the head of the SFrame is printed.<br/>You can use print_rows(num_rows=m, num_columns=n) to print more rows and columns.\n",
       "</div>"
      ],
      "text/plain": [
       "Columns:\n",
       "\tword\tstr\n",
       "\ttfidf\tfloat\n",
       "\n",
       "Rows: 255\n",
       "\n",
       "Data:\n",
       "+---------------+---------------+\n",
       "|      word     |     tfidf     |\n",
       "+---------------+---------------+\n",
       "|    furnish    |  18.38947184  |\n",
       "|     elton     |  17.48232027  |\n",
       "|   billboard   | 17.3036809575 |\n",
       "|      john     | 13.9393127924 |\n",
       "|  songwriters  |  11.250406447 |\n",
       "|  overallelton | 10.9864953892 |\n",
       "| tonightcandle | 10.9864953892 |\n",
       "|    19702000   | 10.2933482087 |\n",
       "|   fivedecade  | 10.2933482087 |\n",
       "|      aids     |  10.262846934 |\n",
       "+---------------+---------------+\n",
       "[255 rows x 2 columns]\n",
       "Note: Only the head of the SFrame is printed.\n",
       "You can use print_rows(num_rows=m, num_columns=n) to print more rows and columns."
      ]
     },
     "execution_count": 85,
     "metadata": {},
     "output_type": "execute_result"
    }
   ],
   "source": [
    "elton[['tfidf']].stack('tfidf',new_column_name=['word','tfidf']).sort('tfidf',ascending=False)"
   ]
  },
  {
   "cell_type": "markdown",
   "metadata": {},
   "source": [
    "# 2. Measuring Distance"
   ]
  },
  {
   "cell_type": "code",
   "execution_count": 88,
   "metadata": {
    "collapsed": false
   },
   "outputs": [
    {
     "data": {
      "text/plain": [
       "0.9567006376655429"
      ]
     },
     "execution_count": 88,
     "metadata": {},
     "output_type": "execute_result"
    }
   ],
   "source": [
    "## Distance between Elton John and Victoria Beckham\n",
    "victoria = people[people['name'] == 'Victoria Beckham']\n",
    "graphlab.distances.cosine(elton['tfidf'][0], victoria['tfidf'][0])"
   ]
  },
  {
   "cell_type": "code",
   "execution_count": 89,
   "metadata": {
    "collapsed": false
   },
   "outputs": [
    {
     "data": {
      "text/plain": [
       "0.8250310029221779"
      ]
     },
     "execution_count": 89,
     "metadata": {},
     "output_type": "execute_result"
    }
   ],
   "source": [
    "## Distance between Elton John and Paul McCartney\n",
    "paul = people[people['name'] == 'Paul McCartney']\n",
    "graphlab.distances.cosine(elton['tfidf'][0], paul['tfidf'][0])"
   ]
  },
  {
   "cell_type": "code",
   "execution_count": 90,
   "metadata": {
    "collapsed": false
   },
   "outputs": [
    {
     "data": {
      "text/html": [
       "<pre>Starting pairwise querying.</pre>"
      ],
      "text/plain": [
       "Starting pairwise querying."
      ]
     },
     "metadata": {},
     "output_type": "display_data"
    },
    {
     "data": {
      "text/html": [
       "<pre>+--------------+---------+-------------+--------------+</pre>"
      ],
      "text/plain": [
       "+--------------+---------+-------------+--------------+"
      ]
     },
     "metadata": {},
     "output_type": "display_data"
    },
    {
     "data": {
      "text/html": [
       "<pre>| Query points | # Pairs | % Complete. | Elapsed Time |</pre>"
      ],
      "text/plain": [
       "| Query points | # Pairs | % Complete. | Elapsed Time |"
      ]
     },
     "metadata": {},
     "output_type": "display_data"
    },
    {
     "data": {
      "text/html": [
       "<pre>+--------------+---------+-------------+--------------+</pre>"
      ],
      "text/plain": [
       "+--------------+---------+-------------+--------------+"
      ]
     },
     "metadata": {},
     "output_type": "display_data"
    },
    {
     "data": {
      "text/html": [
       "<pre>| 0            | 1       | 0.00169288  | 11.732ms     |</pre>"
      ],
      "text/plain": [
       "| 0            | 1       | 0.00169288  | 11.732ms     |"
      ]
     },
     "metadata": {},
     "output_type": "display_data"
    },
    {
     "data": {
      "text/html": [
       "<pre>| Done         |         | 100         | 324.567ms    |</pre>"
      ],
      "text/plain": [
       "| Done         |         | 100         | 324.567ms    |"
      ]
     },
     "metadata": {},
     "output_type": "display_data"
    },
    {
     "data": {
      "text/html": [
       "<pre>+--------------+---------+-------------+--------------+</pre>"
      ],
      "text/plain": [
       "+--------------+---------+-------------+--------------+"
      ]
     },
     "metadata": {},
     "output_type": "display_data"
    },
    {
     "data": {
      "text/html": [
       "<div style=\"max-height:1000px;max-width:1500px;overflow:auto;\"><table frame=\"box\" rules=\"cols\">\n",
       "    <tr>\n",
       "        <th style=\"padding-left: 1em; padding-right: 1em; text-align: center\">query_label</th>\n",
       "        <th style=\"padding-left: 1em; padding-right: 1em; text-align: center\">reference_label</th>\n",
       "        <th style=\"padding-left: 1em; padding-right: 1em; text-align: center\">distance</th>\n",
       "        <th style=\"padding-left: 1em; padding-right: 1em; text-align: center\">rank</th>\n",
       "    </tr>\n",
       "    <tr>\n",
       "        <td style=\"padding-left: 1em; padding-right: 1em; text-align: center; vertical-align: top\">0</td>\n",
       "        <td style=\"padding-left: 1em; padding-right: 1em; text-align: center; vertical-align: top\">Elton John</td>\n",
       "        <td style=\"padding-left: 1em; padding-right: 1em; text-align: center; vertical-align: top\">0.0</td>\n",
       "        <td style=\"padding-left: 1em; padding-right: 1em; text-align: center; vertical-align: top\">1</td>\n",
       "    </tr>\n",
       "    <tr>\n",
       "        <td style=\"padding-left: 1em; padding-right: 1em; text-align: center; vertical-align: top\">0</td>\n",
       "        <td style=\"padding-left: 1em; padding-right: 1em; text-align: center; vertical-align: top\">Phil Collins</td>\n",
       "        <td style=\"padding-left: 1em; padding-right: 1em; text-align: center; vertical-align: top\">0.76399026764</td>\n",
       "        <td style=\"padding-left: 1em; padding-right: 1em; text-align: center; vertical-align: top\">2</td>\n",
       "    </tr>\n",
       "    <tr>\n",
       "        <td style=\"padding-left: 1em; padding-right: 1em; text-align: center; vertical-align: top\">0</td>\n",
       "        <td style=\"padding-left: 1em; padding-right: 1em; text-align: center; vertical-align: top\">Rod Stewart</td>\n",
       "        <td style=\"padding-left: 1em; padding-right: 1em; text-align: center; vertical-align: top\">0.773333333333</td>\n",
       "        <td style=\"padding-left: 1em; padding-right: 1em; text-align: center; vertical-align: top\">3</td>\n",
       "    </tr>\n",
       "    <tr>\n",
       "        <td style=\"padding-left: 1em; padding-right: 1em; text-align: center; vertical-align: top\">0</td>\n",
       "        <td style=\"padding-left: 1em; padding-right: 1em; text-align: center; vertical-align: top\">Annie Lennox</td>\n",
       "        <td style=\"padding-left: 1em; padding-right: 1em; text-align: center; vertical-align: top\">0.776623376623</td>\n",
       "        <td style=\"padding-left: 1em; padding-right: 1em; text-align: center; vertical-align: top\">4</td>\n",
       "    </tr>\n",
       "    <tr>\n",
       "        <td style=\"padding-left: 1em; padding-right: 1em; text-align: center; vertical-align: top\">0</td>\n",
       "        <td style=\"padding-left: 1em; padding-right: 1em; text-align: center; vertical-align: top\">Barry Gibb</td>\n",
       "        <td style=\"padding-left: 1em; padding-right: 1em; text-align: center; vertical-align: top\">0.780952380952</td>\n",
       "        <td style=\"padding-left: 1em; padding-right: 1em; text-align: center; vertical-align: top\">5</td>\n",
       "    </tr>\n",
       "</table>\n",
       "[5 rows x 4 columns]<br/>\n",
       "</div>"
      ],
      "text/plain": [
       "Columns:\n",
       "\tquery_label\tint\n",
       "\treference_label\tstr\n",
       "\tdistance\tfloat\n",
       "\trank\tint\n",
       "\n",
       "Rows: 5\n",
       "\n",
       "Data:\n",
       "+-------------+-----------------+----------------+------+\n",
       "| query_label | reference_label |    distance    | rank |\n",
       "+-------------+-----------------+----------------+------+\n",
       "|      0      |    Elton John   |      0.0       |  1   |\n",
       "|      0      |   Phil Collins  | 0.76399026764  |  2   |\n",
       "|      0      |   Rod Stewart   | 0.773333333333 |  3   |\n",
       "|      0      |   Annie Lennox  | 0.776623376623 |  4   |\n",
       "|      0      |    Barry Gibb   | 0.780952380952 |  5   |\n",
       "+-------------+-----------------+----------------+------+\n",
       "[5 rows x 4 columns]"
      ]
     },
     "execution_count": 90,
     "metadata": {},
     "output_type": "execute_result"
    }
   ],
   "source": [
    "## Model Query for Elton John for exploration\n",
    "knn_model.query(elton)"
   ]
  },
  {
   "cell_type": "markdown",
   "metadata": {},
   "source": [
    "# 3. Building nearest neighbors models with different input features and setting the distance metric"
   ]
  },
  {
   "cell_type": "code",
   "execution_count": 94,
   "metadata": {
    "collapsed": false
   },
   "outputs": [
    {
     "data": {
      "text/html": [
       "<pre>Starting brute force nearest neighbors model training.</pre>"
      ],
      "text/plain": [
       "Starting brute force nearest neighbors model training."
      ]
     },
     "metadata": {},
     "output_type": "display_data"
    }
   ],
   "source": [
    "knn_model_tfidf_cos = graphlab.nearest_neighbors.create(people, features=['tfidf'], label='name', distance='cosine')"
   ]
  },
  {
   "cell_type": "code",
   "execution_count": 95,
   "metadata": {
    "collapsed": false
   },
   "outputs": [
    {
     "data": {
      "text/html": [
       "<pre>Starting brute force nearest neighbors model training.</pre>"
      ],
      "text/plain": [
       "Starting brute force nearest neighbors model training."
      ]
     },
     "metadata": {},
     "output_type": "display_data"
    }
   ],
   "source": [
    "knn_model_wc_cos = graphlab.nearest_neighbors.create(people, features=['word_count'], label='name', distance='cosine')"
   ]
  },
  {
   "cell_type": "code",
   "execution_count": 96,
   "metadata": {
    "collapsed": false
   },
   "outputs": [
    {
     "data": {
      "text/html": [
       "<pre>Starting pairwise querying.</pre>"
      ],
      "text/plain": [
       "Starting pairwise querying."
      ]
     },
     "metadata": {},
     "output_type": "display_data"
    },
    {
     "data": {
      "text/html": [
       "<pre>+--------------+---------+-------------+--------------+</pre>"
      ],
      "text/plain": [
       "+--------------+---------+-------------+--------------+"
      ]
     },
     "metadata": {},
     "output_type": "display_data"
    },
    {
     "data": {
      "text/html": [
       "<pre>| Query points | # Pairs | % Complete. | Elapsed Time |</pre>"
      ],
      "text/plain": [
       "| Query points | # Pairs | % Complete. | Elapsed Time |"
      ]
     },
     "metadata": {},
     "output_type": "display_data"
    },
    {
     "data": {
      "text/html": [
       "<pre>+--------------+---------+-------------+--------------+</pre>"
      ],
      "text/plain": [
       "+--------------+---------+-------------+--------------+"
      ]
     },
     "metadata": {},
     "output_type": "display_data"
    },
    {
     "data": {
      "text/html": [
       "<pre>| 0            | 1       | 0.00169288  | 8.801ms      |</pre>"
      ],
      "text/plain": [
       "| 0            | 1       | 0.00169288  | 8.801ms      |"
      ]
     },
     "metadata": {},
     "output_type": "display_data"
    },
    {
     "data": {
      "text/html": [
       "<pre>| Done         |         | 100         | 278.667ms    |</pre>"
      ],
      "text/plain": [
       "| Done         |         | 100         | 278.667ms    |"
      ]
     },
     "metadata": {},
     "output_type": "display_data"
    },
    {
     "data": {
      "text/html": [
       "<pre>+--------------+---------+-------------+--------------+</pre>"
      ],
      "text/plain": [
       "+--------------+---------+-------------+--------------+"
      ]
     },
     "metadata": {},
     "output_type": "display_data"
    },
    {
     "data": {
      "text/html": [
       "<div style=\"max-height:1000px;max-width:1500px;overflow:auto;\"><table frame=\"box\" rules=\"cols\">\n",
       "    <tr>\n",
       "        <th style=\"padding-left: 1em; padding-right: 1em; text-align: center\">query_label</th>\n",
       "        <th style=\"padding-left: 1em; padding-right: 1em; text-align: center\">reference_label</th>\n",
       "        <th style=\"padding-left: 1em; padding-right: 1em; text-align: center\">distance</th>\n",
       "        <th style=\"padding-left: 1em; padding-right: 1em; text-align: center\">rank</th>\n",
       "    </tr>\n",
       "    <tr>\n",
       "        <td style=\"padding-left: 1em; padding-right: 1em; text-align: center; vertical-align: top\">0</td>\n",
       "        <td style=\"padding-left: 1em; padding-right: 1em; text-align: center; vertical-align: top\">Elton John</td>\n",
       "        <td style=\"padding-left: 1em; padding-right: 1em; text-align: center; vertical-align: top\">-2.22044604925e-16</td>\n",
       "        <td style=\"padding-left: 1em; padding-right: 1em; text-align: center; vertical-align: top\">1</td>\n",
       "    </tr>\n",
       "    <tr>\n",
       "        <td style=\"padding-left: 1em; padding-right: 1em; text-align: center; vertical-align: top\">0</td>\n",
       "        <td style=\"padding-left: 1em; padding-right: 1em; text-align: center; vertical-align: top\">Rod Stewart</td>\n",
       "        <td style=\"padding-left: 1em; padding-right: 1em; text-align: center; vertical-align: top\">0.717219667893</td>\n",
       "        <td style=\"padding-left: 1em; padding-right: 1em; text-align: center; vertical-align: top\">2</td>\n",
       "    </tr>\n",
       "    <tr>\n",
       "        <td style=\"padding-left: 1em; padding-right: 1em; text-align: center; vertical-align: top\">0</td>\n",
       "        <td style=\"padding-left: 1em; padding-right: 1em; text-align: center; vertical-align: top\">George Michael</td>\n",
       "        <td style=\"padding-left: 1em; padding-right: 1em; text-align: center; vertical-align: top\">0.747600998969</td>\n",
       "        <td style=\"padding-left: 1em; padding-right: 1em; text-align: center; vertical-align: top\">3</td>\n",
       "    </tr>\n",
       "    <tr>\n",
       "        <td style=\"padding-left: 1em; padding-right: 1em; text-align: center; vertical-align: top\">0</td>\n",
       "        <td style=\"padding-left: 1em; padding-right: 1em; text-align: center; vertical-align: top\">Sting (musician)</td>\n",
       "        <td style=\"padding-left: 1em; padding-right: 1em; text-align: center; vertical-align: top\">0.747671954431</td>\n",
       "        <td style=\"padding-left: 1em; padding-right: 1em; text-align: center; vertical-align: top\">4</td>\n",
       "    </tr>\n",
       "    <tr>\n",
       "        <td style=\"padding-left: 1em; padding-right: 1em; text-align: center; vertical-align: top\">0</td>\n",
       "        <td style=\"padding-left: 1em; padding-right: 1em; text-align: center; vertical-align: top\">Phil Collins</td>\n",
       "        <td style=\"padding-left: 1em; padding-right: 1em; text-align: center; vertical-align: top\">0.75119324879</td>\n",
       "        <td style=\"padding-left: 1em; padding-right: 1em; text-align: center; vertical-align: top\">5</td>\n",
       "    </tr>\n",
       "</table>\n",
       "[5 rows x 4 columns]<br/>\n",
       "</div>"
      ],
      "text/plain": [
       "Columns:\n",
       "\tquery_label\tint\n",
       "\treference_label\tstr\n",
       "\tdistance\tfloat\n",
       "\trank\tint\n",
       "\n",
       "Rows: 5\n",
       "\n",
       "Data:\n",
       "+-------------+------------------+--------------------+------+\n",
       "| query_label | reference_label  |      distance      | rank |\n",
       "+-------------+------------------+--------------------+------+\n",
       "|      0      |    Elton John    | -2.22044604925e-16 |  1   |\n",
       "|      0      |   Rod Stewart    |   0.717219667893   |  2   |\n",
       "|      0      |  George Michael  |   0.747600998969   |  3   |\n",
       "|      0      | Sting (musician) |   0.747671954431   |  4   |\n",
       "|      0      |   Phil Collins   |   0.75119324879    |  5   |\n",
       "+-------------+------------------+--------------------+------+\n",
       "[5 rows x 4 columns]"
      ]
     },
     "execution_count": 96,
     "metadata": {},
     "output_type": "execute_result"
    }
   ],
   "source": [
    "## Using tf-idf model and querying Elton John\n",
    "knn_model_tfidf_cos.query(elton)"
   ]
  },
  {
   "cell_type": "code",
   "execution_count": 97,
   "metadata": {
    "collapsed": false
   },
   "outputs": [
    {
     "data": {
      "text/html": [
       "<pre>Starting pairwise querying.</pre>"
      ],
      "text/plain": [
       "Starting pairwise querying."
      ]
     },
     "metadata": {},
     "output_type": "display_data"
    },
    {
     "data": {
      "text/html": [
       "<pre>+--------------+---------+-------------+--------------+</pre>"
      ],
      "text/plain": [
       "+--------------+---------+-------------+--------------+"
      ]
     },
     "metadata": {},
     "output_type": "display_data"
    },
    {
     "data": {
      "text/html": [
       "<pre>| Query points | # Pairs | % Complete. | Elapsed Time |</pre>"
      ],
      "text/plain": [
       "| Query points | # Pairs | % Complete. | Elapsed Time |"
      ]
     },
     "metadata": {},
     "output_type": "display_data"
    },
    {
     "data": {
      "text/html": [
       "<pre>+--------------+---------+-------------+--------------+</pre>"
      ],
      "text/plain": [
       "+--------------+---------+-------------+--------------+"
      ]
     },
     "metadata": {},
     "output_type": "display_data"
    },
    {
     "data": {
      "text/html": [
       "<pre>| 0            | 1       | 0.00169288  | 9.776ms      |</pre>"
      ],
      "text/plain": [
       "| 0            | 1       | 0.00169288  | 9.776ms      |"
      ]
     },
     "metadata": {},
     "output_type": "display_data"
    },
    {
     "data": {
      "text/html": [
       "<pre>| Done         |         | 100         | 262.978ms    |</pre>"
      ],
      "text/plain": [
       "| Done         |         | 100         | 262.978ms    |"
      ]
     },
     "metadata": {},
     "output_type": "display_data"
    },
    {
     "data": {
      "text/html": [
       "<pre>+--------------+---------+-------------+--------------+</pre>"
      ],
      "text/plain": [
       "+--------------+---------+-------------+--------------+"
      ]
     },
     "metadata": {},
     "output_type": "display_data"
    },
    {
     "data": {
      "text/html": [
       "<div style=\"max-height:1000px;max-width:1500px;overflow:auto;\"><table frame=\"box\" rules=\"cols\">\n",
       "    <tr>\n",
       "        <th style=\"padding-left: 1em; padding-right: 1em; text-align: center\">query_label</th>\n",
       "        <th style=\"padding-left: 1em; padding-right: 1em; text-align: center\">reference_label</th>\n",
       "        <th style=\"padding-left: 1em; padding-right: 1em; text-align: center\">distance</th>\n",
       "        <th style=\"padding-left: 1em; padding-right: 1em; text-align: center\">rank</th>\n",
       "    </tr>\n",
       "    <tr>\n",
       "        <td style=\"padding-left: 1em; padding-right: 1em; text-align: center; vertical-align: top\">0</td>\n",
       "        <td style=\"padding-left: 1em; padding-right: 1em; text-align: center; vertical-align: top\">Elton John</td>\n",
       "        <td style=\"padding-left: 1em; padding-right: 1em; text-align: center; vertical-align: top\">2.22044604925e-16</td>\n",
       "        <td style=\"padding-left: 1em; padding-right: 1em; text-align: center; vertical-align: top\">1</td>\n",
       "    </tr>\n",
       "    <tr>\n",
       "        <td style=\"padding-left: 1em; padding-right: 1em; text-align: center; vertical-align: top\">0</td>\n",
       "        <td style=\"padding-left: 1em; padding-right: 1em; text-align: center; vertical-align: top\">Cliff Richard</td>\n",
       "        <td style=\"padding-left: 1em; padding-right: 1em; text-align: center; vertical-align: top\">0.16142415259</td>\n",
       "        <td style=\"padding-left: 1em; padding-right: 1em; text-align: center; vertical-align: top\">2</td>\n",
       "    </tr>\n",
       "    <tr>\n",
       "        <td style=\"padding-left: 1em; padding-right: 1em; text-align: center; vertical-align: top\">0</td>\n",
       "        <td style=\"padding-left: 1em; padding-right: 1em; text-align: center; vertical-align: top\">Sandro Petrone</td>\n",
       "        <td style=\"padding-left: 1em; padding-right: 1em; text-align: center; vertical-align: top\">0.16822542751</td>\n",
       "        <td style=\"padding-left: 1em; padding-right: 1em; text-align: center; vertical-align: top\">3</td>\n",
       "    </tr>\n",
       "    <tr>\n",
       "        <td style=\"padding-left: 1em; padding-right: 1em; text-align: center; vertical-align: top\">0</td>\n",
       "        <td style=\"padding-left: 1em; padding-right: 1em; text-align: center; vertical-align: top\">Rod Stewart</td>\n",
       "        <td style=\"padding-left: 1em; padding-right: 1em; text-align: center; vertical-align: top\">0.168327165587</td>\n",
       "        <td style=\"padding-left: 1em; padding-right: 1em; text-align: center; vertical-align: top\">4</td>\n",
       "    </tr>\n",
       "    <tr>\n",
       "        <td style=\"padding-left: 1em; padding-right: 1em; text-align: center; vertical-align: top\">0</td>\n",
       "        <td style=\"padding-left: 1em; padding-right: 1em; text-align: center; vertical-align: top\">Malachi O'Doherty</td>\n",
       "        <td style=\"padding-left: 1em; padding-right: 1em; text-align: center; vertical-align: top\">0.177315545979</td>\n",
       "        <td style=\"padding-left: 1em; padding-right: 1em; text-align: center; vertical-align: top\">5</td>\n",
       "    </tr>\n",
       "</table>\n",
       "[5 rows x 4 columns]<br/>\n",
       "</div>"
      ],
      "text/plain": [
       "Columns:\n",
       "\tquery_label\tint\n",
       "\treference_label\tstr\n",
       "\tdistance\tfloat\n",
       "\trank\tint\n",
       "\n",
       "Rows: 5\n",
       "\n",
       "Data:\n",
       "+-------------+-------------------+-------------------+------+\n",
       "| query_label |  reference_label  |      distance     | rank |\n",
       "+-------------+-------------------+-------------------+------+\n",
       "|      0      |     Elton John    | 2.22044604925e-16 |  1   |\n",
       "|      0      |   Cliff Richard   |   0.16142415259   |  2   |\n",
       "|      0      |   Sandro Petrone  |   0.16822542751   |  3   |\n",
       "|      0      |    Rod Stewart    |   0.168327165587  |  4   |\n",
       "|      0      | Malachi O'Doherty |   0.177315545979  |  5   |\n",
       "+-------------+-------------------+-------------------+------+\n",
       "[5 rows x 4 columns]"
      ]
     },
     "execution_count": 97,
     "metadata": {},
     "output_type": "execute_result"
    }
   ],
   "source": [
    "## Using word count model and querying Elton John\n",
    "knn_model_wc_cos.query(elton)"
   ]
  },
  {
   "cell_type": "code",
   "execution_count": 98,
   "metadata": {
    "collapsed": false
   },
   "outputs": [
    {
     "data": {
      "text/html": [
       "<pre>Starting pairwise querying.</pre>"
      ],
      "text/plain": [
       "Starting pairwise querying."
      ]
     },
     "metadata": {},
     "output_type": "display_data"
    },
    {
     "data": {
      "text/html": [
       "<pre>+--------------+---------+-------------+--------------+</pre>"
      ],
      "text/plain": [
       "+--------------+---------+-------------+--------------+"
      ]
     },
     "metadata": {},
     "output_type": "display_data"
    },
    {
     "data": {
      "text/html": [
       "<pre>| Query points | # Pairs | % Complete. | Elapsed Time |</pre>"
      ],
      "text/plain": [
       "| Query points | # Pairs | % Complete. | Elapsed Time |"
      ]
     },
     "metadata": {},
     "output_type": "display_data"
    },
    {
     "data": {
      "text/html": [
       "<pre>+--------------+---------+-------------+--------------+</pre>"
      ],
      "text/plain": [
       "+--------------+---------+-------------+--------------+"
      ]
     },
     "metadata": {},
     "output_type": "display_data"
    },
    {
     "data": {
      "text/html": [
       "<pre>| 0            | 1       | 0.00169288  | 9.776ms      |</pre>"
      ],
      "text/plain": [
       "| 0            | 1       | 0.00169288  | 9.776ms      |"
      ]
     },
     "metadata": {},
     "output_type": "display_data"
    },
    {
     "data": {
      "text/html": [
       "<pre>| Done         |         | 100         | 323.59ms     |</pre>"
      ],
      "text/plain": [
       "| Done         |         | 100         | 323.59ms     |"
      ]
     },
     "metadata": {},
     "output_type": "display_data"
    },
    {
     "data": {
      "text/html": [
       "<pre>+--------------+---------+-------------+--------------+</pre>"
      ],
      "text/plain": [
       "+--------------+---------+-------------+--------------+"
      ]
     },
     "metadata": {},
     "output_type": "display_data"
    },
    {
     "data": {
      "text/html": [
       "<div style=\"max-height:1000px;max-width:1500px;overflow:auto;\"><table frame=\"box\" rules=\"cols\">\n",
       "    <tr>\n",
       "        <th style=\"padding-left: 1em; padding-right: 1em; text-align: center\">query_label</th>\n",
       "        <th style=\"padding-left: 1em; padding-right: 1em; text-align: center\">reference_label</th>\n",
       "        <th style=\"padding-left: 1em; padding-right: 1em; text-align: center\">distance</th>\n",
       "        <th style=\"padding-left: 1em; padding-right: 1em; text-align: center\">rank</th>\n",
       "    </tr>\n",
       "    <tr>\n",
       "        <td style=\"padding-left: 1em; padding-right: 1em; text-align: center; vertical-align: top\">0</td>\n",
       "        <td style=\"padding-left: 1em; padding-right: 1em; text-align: center; vertical-align: top\">Victoria Beckham</td>\n",
       "        <td style=\"padding-left: 1em; padding-right: 1em; text-align: center; vertical-align: top\">1.11022302463e-16</td>\n",
       "        <td style=\"padding-left: 1em; padding-right: 1em; text-align: center; vertical-align: top\">1</td>\n",
       "    </tr>\n",
       "    <tr>\n",
       "        <td style=\"padding-left: 1em; padding-right: 1em; text-align: center; vertical-align: top\">0</td>\n",
       "        <td style=\"padding-left: 1em; padding-right: 1em; text-align: center; vertical-align: top\">David Beckham</td>\n",
       "        <td style=\"padding-left: 1em; padding-right: 1em; text-align: center; vertical-align: top\">0.548169610263</td>\n",
       "        <td style=\"padding-left: 1em; padding-right: 1em; text-align: center; vertical-align: top\">2</td>\n",
       "    </tr>\n",
       "    <tr>\n",
       "        <td style=\"padding-left: 1em; padding-right: 1em; text-align: center; vertical-align: top\">0</td>\n",
       "        <td style=\"padding-left: 1em; padding-right: 1em; text-align: center; vertical-align: top\">Stephen Dow Beckham</td>\n",
       "        <td style=\"padding-left: 1em; padding-right: 1em; text-align: center; vertical-align: top\">0.784986706828</td>\n",
       "        <td style=\"padding-left: 1em; padding-right: 1em; text-align: center; vertical-align: top\">3</td>\n",
       "    </tr>\n",
       "    <tr>\n",
       "        <td style=\"padding-left: 1em; padding-right: 1em; text-align: center; vertical-align: top\">0</td>\n",
       "        <td style=\"padding-left: 1em; padding-right: 1em; text-align: center; vertical-align: top\">Mel B</td>\n",
       "        <td style=\"padding-left: 1em; padding-right: 1em; text-align: center; vertical-align: top\">0.809585523409</td>\n",
       "        <td style=\"padding-left: 1em; padding-right: 1em; text-align: center; vertical-align: top\">4</td>\n",
       "    </tr>\n",
       "    <tr>\n",
       "        <td style=\"padding-left: 1em; padding-right: 1em; text-align: center; vertical-align: top\">0</td>\n",
       "        <td style=\"padding-left: 1em; padding-right: 1em; text-align: center; vertical-align: top\">Caroline Rush</td>\n",
       "        <td style=\"padding-left: 1em; padding-right: 1em; text-align: center; vertical-align: top\">0.819826422919</td>\n",
       "        <td style=\"padding-left: 1em; padding-right: 1em; text-align: center; vertical-align: top\">5</td>\n",
       "    </tr>\n",
       "</table>\n",
       "[5 rows x 4 columns]<br/>\n",
       "</div>"
      ],
      "text/plain": [
       "Columns:\n",
       "\tquery_label\tint\n",
       "\treference_label\tstr\n",
       "\tdistance\tfloat\n",
       "\trank\tint\n",
       "\n",
       "Rows: 5\n",
       "\n",
       "Data:\n",
       "+-------------+---------------------+-------------------+------+\n",
       "| query_label |   reference_label   |      distance     | rank |\n",
       "+-------------+---------------------+-------------------+------+\n",
       "|      0      |   Victoria Beckham  | 1.11022302463e-16 |  1   |\n",
       "|      0      |    David Beckham    |   0.548169610263  |  2   |\n",
       "|      0      | Stephen Dow Beckham |   0.784986706828  |  3   |\n",
       "|      0      |        Mel B        |   0.809585523409  |  4   |\n",
       "|      0      |    Caroline Rush    |   0.819826422919  |  5   |\n",
       "+-------------+---------------------+-------------------+------+\n",
       "[5 rows x 4 columns]"
      ]
     },
     "execution_count": 98,
     "metadata": {},
     "output_type": "execute_result"
    }
   ],
   "source": [
    "knn_model_tfidf_cos.query(victoria)"
   ]
  },
  {
   "cell_type": "code",
   "execution_count": 99,
   "metadata": {
    "collapsed": false
   },
   "outputs": [
    {
     "data": {
      "text/html": [
       "<pre>Starting pairwise querying.</pre>"
      ],
      "text/plain": [
       "Starting pairwise querying."
      ]
     },
     "metadata": {},
     "output_type": "display_data"
    },
    {
     "data": {
      "text/html": [
       "<pre>+--------------+---------+-------------+--------------+</pre>"
      ],
      "text/plain": [
       "+--------------+---------+-------------+--------------+"
      ]
     },
     "metadata": {},
     "output_type": "display_data"
    },
    {
     "data": {
      "text/html": [
       "<pre>| Query points | # Pairs | % Complete. | Elapsed Time |</pre>"
      ],
      "text/plain": [
       "| Query points | # Pairs | % Complete. | Elapsed Time |"
      ]
     },
     "metadata": {},
     "output_type": "display_data"
    },
    {
     "data": {
      "text/html": [
       "<pre>+--------------+---------+-------------+--------------+</pre>"
      ],
      "text/plain": [
       "+--------------+---------+-------------+--------------+"
      ]
     },
     "metadata": {},
     "output_type": "display_data"
    },
    {
     "data": {
      "text/html": [
       "<pre>| 0            | 1       | 0.00169288  | 7.823ms      |</pre>"
      ],
      "text/plain": [
       "| 0            | 1       | 0.00169288  | 7.823ms      |"
      ]
     },
     "metadata": {},
     "output_type": "display_data"
    },
    {
     "data": {
      "text/html": [
       "<pre>| Done         |         | 100         | 251.247ms    |</pre>"
      ],
      "text/plain": [
       "| Done         |         | 100         | 251.247ms    |"
      ]
     },
     "metadata": {},
     "output_type": "display_data"
    },
    {
     "data": {
      "text/html": [
       "<pre>+--------------+---------+-------------+--------------+</pre>"
      ],
      "text/plain": [
       "+--------------+---------+-------------+--------------+"
      ]
     },
     "metadata": {},
     "output_type": "display_data"
    },
    {
     "data": {
      "text/html": [
       "<div style=\"max-height:1000px;max-width:1500px;overflow:auto;\"><table frame=\"box\" rules=\"cols\">\n",
       "    <tr>\n",
       "        <th style=\"padding-left: 1em; padding-right: 1em; text-align: center\">query_label</th>\n",
       "        <th style=\"padding-left: 1em; padding-right: 1em; text-align: center\">reference_label</th>\n",
       "        <th style=\"padding-left: 1em; padding-right: 1em; text-align: center\">distance</th>\n",
       "        <th style=\"padding-left: 1em; padding-right: 1em; text-align: center\">rank</th>\n",
       "    </tr>\n",
       "    <tr>\n",
       "        <td style=\"padding-left: 1em; padding-right: 1em; text-align: center; vertical-align: top\">0</td>\n",
       "        <td style=\"padding-left: 1em; padding-right: 1em; text-align: center; vertical-align: top\">Victoria Beckham</td>\n",
       "        <td style=\"padding-left: 1em; padding-right: 1em; text-align: center; vertical-align: top\">-2.22044604925e-16</td>\n",
       "        <td style=\"padding-left: 1em; padding-right: 1em; text-align: center; vertical-align: top\">1</td>\n",
       "    </tr>\n",
       "    <tr>\n",
       "        <td style=\"padding-left: 1em; padding-right: 1em; text-align: center; vertical-align: top\">0</td>\n",
       "        <td style=\"padding-left: 1em; padding-right: 1em; text-align: center; vertical-align: top\">Mary Fitzgerald (artist)</td>\n",
       "        <td style=\"padding-left: 1em; padding-right: 1em; text-align: center; vertical-align: top\">0.207307036115</td>\n",
       "        <td style=\"padding-left: 1em; padding-right: 1em; text-align: center; vertical-align: top\">2</td>\n",
       "    </tr>\n",
       "    <tr>\n",
       "        <td style=\"padding-left: 1em; padding-right: 1em; text-align: center; vertical-align: top\">0</td>\n",
       "        <td style=\"padding-left: 1em; padding-right: 1em; text-align: center; vertical-align: top\">Adrienne Corri</td>\n",
       "        <td style=\"padding-left: 1em; padding-right: 1em; text-align: center; vertical-align: top\">0.214509782788</td>\n",
       "        <td style=\"padding-left: 1em; padding-right: 1em; text-align: center; vertical-align: top\">3</td>\n",
       "    </tr>\n",
       "    <tr>\n",
       "        <td style=\"padding-left: 1em; padding-right: 1em; text-align: center; vertical-align: top\">0</td>\n",
       "        <td style=\"padding-left: 1em; padding-right: 1em; text-align: center; vertical-align: top\">Beverly Jane Fry</td>\n",
       "        <td style=\"padding-left: 1em; padding-right: 1em; text-align: center; vertical-align: top\">0.217466468741</td>\n",
       "        <td style=\"padding-left: 1em; padding-right: 1em; text-align: center; vertical-align: top\">4</td>\n",
       "    </tr>\n",
       "    <tr>\n",
       "        <td style=\"padding-left: 1em; padding-right: 1em; text-align: center; vertical-align: top\">0</td>\n",
       "        <td style=\"padding-left: 1em; padding-right: 1em; text-align: center; vertical-align: top\">Raman Mundair</td>\n",
       "        <td style=\"padding-left: 1em; padding-right: 1em; text-align: center; vertical-align: top\">0.217695474992</td>\n",
       "        <td style=\"padding-left: 1em; padding-right: 1em; text-align: center; vertical-align: top\">5</td>\n",
       "    </tr>\n",
       "</table>\n",
       "[5 rows x 4 columns]<br/>\n",
       "</div>"
      ],
      "text/plain": [
       "Columns:\n",
       "\tquery_label\tint\n",
       "\treference_label\tstr\n",
       "\tdistance\tfloat\n",
       "\trank\tint\n",
       "\n",
       "Rows: 5\n",
       "\n",
       "Data:\n",
       "+-------------+--------------------------+--------------------+------+\n",
       "| query_label |     reference_label      |      distance      | rank |\n",
       "+-------------+--------------------------+--------------------+------+\n",
       "|      0      |     Victoria Beckham     | -2.22044604925e-16 |  1   |\n",
       "|      0      | Mary Fitzgerald (artist) |   0.207307036115   |  2   |\n",
       "|      0      |      Adrienne Corri      |   0.214509782788   |  3   |\n",
       "|      0      |     Beverly Jane Fry     |   0.217466468741   |  4   |\n",
       "|      0      |      Raman Mundair       |   0.217695474992   |  5   |\n",
       "+-------------+--------------------------+--------------------+------+\n",
       "[5 rows x 4 columns]"
      ]
     },
     "execution_count": 99,
     "metadata": {},
     "output_type": "execute_result"
    }
   ],
   "source": [
    "knn_model_wc_cos.query(victoria)"
   ]
  },
  {
   "cell_type": "code",
   "execution_count": null,
   "metadata": {
    "collapsed": true
   },
   "outputs": [],
   "source": []
  }
 ],
 "metadata": {
  "kernelspec": {
   "display_name": "Python (gl-env)",
   "language": "python",
   "name": "gl-env"
  },
  "language_info": {
   "codemirror_mode": {
    "name": "ipython",
    "version": 2
   },
   "file_extension": ".py",
   "mimetype": "text/x-python",
   "name": "python",
   "nbconvert_exporter": "python",
   "pygments_lexer": "ipython2",
   "version": "2.7.11"
  }
 },
 "nbformat": 4,
 "nbformat_minor": 0
}
